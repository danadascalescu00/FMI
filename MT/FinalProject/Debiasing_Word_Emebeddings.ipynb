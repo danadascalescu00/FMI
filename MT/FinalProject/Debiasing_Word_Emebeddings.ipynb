{
  "nbformat": 4,
  "nbformat_minor": 0,
  "metadata": {
    "colab": {
      "provenance": [],
      "machine_shape": "hm"
    },
    "kernelspec": {
      "name": "python3",
      "display_name": "Python 3"
    },
    "language_info": {
      "name": "python"
    },
    "gpuClass": "standard"
  },
  "cells": [
    {
      "cell_type": "markdown",
      "source": [
        "# Exploring and Mitigating Gender Bias in Word Embeddings"
      ],
      "metadata": {
        "id": "3i8ynvL-JgCL"
      }
    },
    {
      "cell_type": "markdown",
      "source": [
        "## 🛠️Setup"
      ],
      "metadata": {
        "id": "RNw2yD6UJn69"
      }
    },
    {
      "cell_type": "code",
      "source": [
        "!pip install gensim"
      ],
      "metadata": {
        "colab": {
          "base_uri": "https://localhost:8080/"
        },
        "id": "wUYW18DhYOeM",
        "outputId": "841e607c-db30-4af0-c0aa-b3a38fd67a74"
      },
      "execution_count": null,
      "outputs": [
        {
          "output_type": "stream",
          "name": "stdout",
          "text": [
            "Looking in indexes: https://pypi.org/simple, https://us-python.pkg.dev/colab-wheels/public/simple/\n",
            "Requirement already satisfied: gensim in /usr/local/lib/python3.8/dist-packages (3.6.0)\n",
            "Requirement already satisfied: numpy>=1.11.3 in /usr/local/lib/python3.8/dist-packages (from gensim) (1.21.6)\n",
            "Requirement already satisfied: smart-open>=1.2.1 in /usr/local/lib/python3.8/dist-packages (from gensim) (6.3.0)\n",
            "Requirement already satisfied: scipy>=0.18.1 in /usr/local/lib/python3.8/dist-packages (from gensim) (1.7.3)\n",
            "Requirement already satisfied: six>=1.5.0 in /usr/local/lib/python3.8/dist-packages (from gensim) (1.15.0)\n"
          ]
        }
      ]
    },
    {
      "cell_type": "code",
      "execution_count": null,
      "metadata": {
        "id": "WyjeuxV3HICX"
      },
      "outputs": [],
      "source": [
        "import os\n",
        "import re\n",
        "import sys\n",
        "import csv\n",
        "import string\n",
        "import unicodedata\n",
        "\n",
        "import numpy             as np\n",
        "import pandas            as pd\n",
        "\n",
        "import matplotlib.colors as colors\n",
        "import matplotlib.pyplot as plt\n",
        "import seaborn           as sns\n",
        "\n",
        "from matplotlib.pyplot import figure\n",
        "\n",
        "import gensim\n",
        "from gensim.models import KeyedVectors\n",
        "\n",
        "from numpy.linalg import norm"
      ]
    },
    {
      "cell_type": "code",
      "source": [
        "plt.style.use('seaborn-pastel')"
      ],
      "metadata": {
        "id": "qV3i_uIqUPtQ"
      },
      "execution_count": null,
      "outputs": []
    },
    {
      "cell_type": "code",
      "source": [
        "# Load the Drive helper and mount\n",
        "from google.colab import drive\n",
        "drive.mount('/content/drive')"
      ],
      "metadata": {
        "colab": {
          "base_uri": "https://localhost:8080/"
        },
        "id": "2TAj1rVEqZuw",
        "outputId": "31e29e1d-fe26-49aa-95e4-430a5995d169"
      },
      "execution_count": null,
      "outputs": [
        {
          "output_type": "stream",
          "name": "stdout",
          "text": [
            "Drive already mounted at /content/drive; to attempt to forcibly remount, call drive.mount(\"/content/drive\", force_remount=True).\n"
          ]
        }
      ]
    },
    {
      "cell_type": "markdown",
      "source": [
        "## Debiasing Static Word Embeddings"
      ],
      "metadata": {
        "id": "0pW9oe4GX00i"
      }
    },
    {
      "cell_type": "markdown",
      "source": [
        "### Word Embeddings"
      ],
      "metadata": {
        "id": "b7SvwBgobsef"
      }
    },
    {
      "cell_type": "markdown",
      "source": [
        "***What are Word Embeddings?***\n",
        "\n",
        "**Word embeddings** are a method for representing words in a continuous vector space, so that semantically similar words are mapped to neighbouring vector points. This makes it possible to perform mathematical operations such as vector addition and subtraction on the words. Word embeddings are often employed in natural language processing tasks, such as language translation and text classification, since they offer a method for converting discrete words into a format that can be fed into machine learning models. There are several ways for generating word embeddings, including neural network-based approaches, such as word2vec and GloVe, and count-based methods, such as Latent Semantic Analysis (LSA) and Latent Dirichlet Allocation (LDA)."
      ],
      "metadata": {
        "id": "F4kxq-h5c3ld"
      }
    },
    {
      "cell_type": "code",
      "source": [
        "# load pretrained model\n",
        "model = KeyedVectors.load_word2vec_format('/content/drive/MyDrive/MT/Pretrained Models/archive.zip (Unzipped Files)/GoogleNews-vectors-negative300.bin', binary=True)"
      ],
      "metadata": {
        "id": "w7WB_MD_sOjb"
      },
      "execution_count": null,
      "outputs": []
    },
    {
      "cell_type": "code",
      "source": [
        "# vocabulary size\n",
        "w2v_vocabulary = model.wv.vocab\n",
        "len(w2v_vocabulary)"
      ],
      "metadata": {
        "colab": {
          "base_uri": "https://localhost:8080/"
        },
        "id": "ln_R8ecIaeFP",
        "outputId": "d00935c1-e009-41c9-db20-2a80a6c7a85f"
      },
      "execution_count": null,
      "outputs": [
        {
          "output_type": "stream",
          "name": "stderr",
          "text": [
            "<ipython-input-33-64c38b8dbab6>:2: DeprecationWarning: Call to deprecated `wv` (Attribute will be removed in 4.0.0, use self instead).\n",
            "  w2v_vocabulary = model.wv.vocab\n"
          ]
        },
        {
          "output_type": "execute_result",
          "data": {
            "text/plain": [
              "3000000"
            ]
          },
          "metadata": {},
          "execution_count": 33
        }
      ]
    },
    {
      "cell_type": "markdown",
      "source": [
        "***Problem statement:*** The vocabulary of Word2Vec contains gender-neutral English terms such as \"doctor,\" but during training, the model picked up on social prejudices."
      ],
      "metadata": {
        "id": "agdyALj7dnZf"
      }
    },
    {
      "cell_type": "markdown",
      "source": [
        "### Identifying Gender Bias"
      ],
      "metadata": {
        "id": "tcUwY2RjXuBS"
      }
    },
    {
      "cell_type": "markdown",
      "source": [
        "#### Identify Gender Subspace"
      ],
      "metadata": {
        "id": "SrvslApz2a7h"
      }
    },
    {
      "cell_type": "code",
      "source": [
        "model.most_similar(positive=['mother', 'male'],\n",
        "                   negative=['female'])"
      ],
      "metadata": {
        "colab": {
          "base_uri": "https://localhost:8080/"
        },
        "id": "witYiI1p2XLk",
        "outputId": "fa4f54fa-9c2b-4aab-fc29-ed926c5324fe"
      },
      "execution_count": null,
      "outputs": [
        {
          "output_type": "execute_result",
          "data": {
            "text/plain": [
              "[('stepfather', 0.7652485370635986),\n",
              " ('father', 0.7571325898170471),\n",
              " ('grandmother', 0.7490994930267334),\n",
              " ('aunt', 0.7424759864807129),\n",
              " ('daughter', 0.7276815176010132),\n",
              " ('son', 0.7222350239753723),\n",
              " ('stepmother', 0.693554162979126),\n",
              " ('siblings', 0.6783632040023804),\n",
              " ('maternal_grandmother', 0.6747703552246094),\n",
              " ('niece', 0.6711771488189697)]"
            ]
          },
          "metadata": {},
          "execution_count": 34
        }
      ]
    },
    {
      "cell_type": "code",
      "source": [
        "model.most_similar(positive=['scientist', 'female'],\n",
        "                   negative=['male'])"
      ],
      "metadata": {
        "colab": {
          "base_uri": "https://localhost:8080/"
        },
        "id": "ZI2fUkXH3rCh",
        "outputId": "2ba63af0-eb59-4f6a-9ec4-4fe99774bcfa"
      },
      "execution_count": null,
      "outputs": [
        {
          "output_type": "execute_result",
          "data": {
            "text/plain": [
              "[('researcher', 0.6796072125434875),\n",
              " ('physicist', 0.6226291060447693),\n",
              " ('microbiologist', 0.5891815423965454),\n",
              " ('biochemist', 0.5856112837791443),\n",
              " ('geneticist', 0.579893171787262),\n",
              " ('biologist', 0.5766334533691406),\n",
              " ('professor', 0.5546311140060425),\n",
              " ('molecular_biologist', 0.5460183620452881),\n",
              " ('geochemist', 0.5431622266769409),\n",
              " ('ecologist', 0.5383110046386719)]"
            ]
          },
          "metadata": {},
          "execution_count": 35
        }
      ]
    },
    {
      "cell_type": "code",
      "source": [
        "model.most_similar(positive=['scientist', 'she'],\n",
        "                   negative=['he'])"
      ],
      "metadata": {
        "colab": {
          "base_uri": "https://localhost:8080/"
        },
        "id": "av0Dtc0U4RT0",
        "outputId": "785e8b18-f4cf-4fc0-98da-f1099f15bbfa"
      },
      "execution_count": null,
      "outputs": [
        {
          "output_type": "execute_result",
          "data": {
            "text/plain": [
              "[('researcher', 0.6531404256820679),\n",
              " ('geneticist', 0.52978515625),\n",
              " ('biologist', 0.5268193483352661),\n",
              " ('physicist', 0.5161564350128174),\n",
              " ('Researcher', 0.5157882571220398),\n",
              " ('doctoral_student', 0.5141373872756958),\n",
              " ('biochemist', 0.5123931169509888),\n",
              " ('professor', 0.507071316242218),\n",
              " ('microbiologist', 0.5021166801452637),\n",
              " ('marine_biologist', 0.49474790692329407)]"
            ]
          },
          "metadata": {},
          "execution_count": 36
        }
      ]
    },
    {
      "cell_type": "code",
      "source": [
        "model.most_similar(positive=['doctor', 'she'],\n",
        "                   negative=['he'])"
      ],
      "metadata": {
        "colab": {
          "base_uri": "https://localhost:8080/"
        },
        "id": "uJ7ELPdP33qL",
        "outputId": "32c02913-0dc4-4b26-e3c3-0c49f572b1fd"
      },
      "execution_count": null,
      "outputs": [
        {
          "output_type": "execute_result",
          "data": {
            "text/plain": [
              "[('nurse', 0.6588720679283142),\n",
              " ('gynecologist', 0.6471721529960632),\n",
              " ('nurse_practitioner', 0.6255377531051636),\n",
              " ('midwife', 0.600278377532959),\n",
              " ('pediatrician', 0.5921323299407959),\n",
              " ('dermatologist', 0.5582225322723389),\n",
              " ('ob_gyn', 0.5563921928405762),\n",
              " ('pharmacist', 0.5559877753257751),\n",
              " ('doctors', 0.5544068217277527),\n",
              " ('nurse_midwife', 0.554105281829834)]"
            ]
          },
          "metadata": {},
          "execution_count": 37
        }
      ]
    },
    {
      "cell_type": "code",
      "source": [
        "model.most_similar(positive=['doctor', 'she'],\n",
        "                   negative=['he'])"
      ],
      "metadata": {
        "colab": {
          "base_uri": "https://localhost:8080/"
        },
        "id": "CF8HXdxc4CXU",
        "outputId": "287ea33d-b080-4b2b-9c6e-4055fda4563b"
      },
      "execution_count": null,
      "outputs": [
        {
          "output_type": "execute_result",
          "data": {
            "text/plain": [
              "[('nurse', 0.6588720679283142),\n",
              " ('gynecologist', 0.6471721529960632),\n",
              " ('nurse_practitioner', 0.6255377531051636),\n",
              " ('midwife', 0.600278377532959),\n",
              " ('pediatrician', 0.5921323299407959),\n",
              " ('dermatologist', 0.5582225322723389),\n",
              " ('ob_gyn', 0.5563921928405762),\n",
              " ('pharmacist', 0.5559877753257751),\n",
              " ('doctors', 0.5544068217277527),\n",
              " ('nurse_midwife', 0.554105281829834)]"
            ]
          },
          "metadata": {},
          "execution_count": 38
        }
      ]
    },
    {
      "cell_type": "markdown",
      "source": [
        "### Solution:"
      ],
      "metadata": {
        "id": "273dSw4Z5EDa"
      }
    },
    {
      "cell_type": "markdown",
      "source": [
        "#### Identify gender subspace"
      ],
      "metadata": {
        "id": "wKDAdZfG5zbU"
      }
    },
    {
      "cell_type": "markdown",
      "source": [
        "First, we define gender-specific terms (essentially, English words that are not gender-neutral by definition), and then we calculate the difference between sets of gender-specific words. The bias subspace is computed by calculating the Singular Value Decomposition of these differences."
      ],
      "metadata": {
        "id": "9KRREzmveZbb"
      }
    },
    {
      "cell_type": "code",
      "source": [
        "gender_specifc_words = ['boy', 'man', 'girl', 'woman', 'male', 'female', 'she', 'he']"
      ],
      "metadata": {
        "id": "66R_uuZAe14U"
      },
      "execution_count": null,
      "outputs": []
    },
    {
      "cell_type": "code",
      "source": [
        "b1 = model.get_vector('she') - model.get_vector('he')"
      ],
      "metadata": {
        "id": "uc6sKkdM4wrC"
      },
      "execution_count": null,
      "outputs": []
    },
    {
      "cell_type": "code",
      "source": [
        "bias_direction = b1"
      ],
      "metadata": {
        "id": "Kg1N-L8P6-oQ"
      },
      "execution_count": null,
      "outputs": []
    },
    {
      "cell_type": "markdown",
      "source": [
        "#### Hard de-biasing"
      ],
      "metadata": {
        "id": "5WUUX2T9571_"
      }
    },
    {
      "cell_type": "markdown",
      "source": [
        "##### Neutralize"
      ],
      "metadata": {
        "id": "roGdK0IQ7Ul6"
      }
    },
    {
      "cell_type": "markdown",
      "source": [
        "After getting the bias direction b, we will subtract the embedding's projection into the bias axis b to eliminate the bias components from all gender-neutral terms."
      ],
      "metadata": {
        "id": "sVTwwzWtiD2g"
      }
    },
    {
      "cell_type": "code",
      "source": [
        "embedding = model.vectors"
      ],
      "metadata": {
        "id": "SEEYa44S5wEn"
      },
      "execution_count": null,
      "outputs": []
    },
    {
      "cell_type": "code",
      "source": [
        "model_debiased_embedding = embedding - ((embedding * bias_direction) / norm(bias_direction) ** 2) @ bias_direction.reshape(-1,1)"
      ],
      "metadata": {
        "id": "CanJaD4U66vD"
      },
      "execution_count": null,
      "outputs": []
    },
    {
      "cell_type": "code",
      "source": [
        "model_debiased_embedding.shape"
      ],
      "metadata": {
        "colab": {
          "base_uri": "https://localhost:8080/"
        },
        "id": "F7aRm44w8AK9",
        "outputId": "67518154-dab1-470b-f454-1dab24132427"
      },
      "execution_count": null,
      "outputs": [
        {
          "output_type": "execute_result",
          "data": {
            "text/plain": [
              "(3000000, 300)"
            ]
          },
          "metadata": {},
          "execution_count": 44
        }
      ]
    },
    {
      "cell_type": "markdown",
      "source": [
        "##### Equalize"
      ],
      "metadata": {
        "id": "EVuT49jo7YKk"
      }
    },
    {
      "cell_type": "markdown",
      "source": [
        "In the last phase, gender-specific terms, such as \"boy\" and \"girl,\" should not differ by gender in an unequal manner, i.e., \"boy\" should not be more masculine than \"girl\" is feminine."
      ],
      "metadata": {
        "id": "AhYuhuOki_cU"
      }
    },
    {
      "cell_type": "code",
      "source": [
        "equalize_pairs = [(\"estrogen\", \"testosterone\")]"
      ],
      "metadata": {
        "id": "dtVoj8CCCc6b"
      },
      "execution_count": null,
      "outputs": []
    },
    {
      "cell_type": "code",
      "source": [
        "for (word1, word2) in equalize_pairs:\n",
        "  embedding_word1 = model_debiased_embedding[model.vocab.get(word1).index, :]\n",
        "  embedding_word2 = model_debiased_embedding[model.vocab.get(word2).index, :]\n",
        "  mean_embeddings = (embedding_word1 + embedding_word2) / 2.\n",
        "\n",
        "  niu = mean_embeddings - ((mean_embeddings * bias_direction) / norm(bias_direction)) @ bias_direction.reshape(-1,1)\n",
        "  insert_unknown_greek_letter = np.sqrt(abs(1 - norm(niu) ** 2))\n",
        "  if np.dot((embedding_word1 - embedding_word2), bias_direction) > 0:\n",
        "    insert_unknown_greek_letter = -insert_unknown_greek_letter\n",
        "\n",
        "  embedding_word1 = insert_unknown_greek_letter * bias_direction + niu\n",
        "  embedding_word2 = (-1.) * insert_unknown_greek_letter * bias_direction + niu"
      ],
      "metadata": {
        "id": "8e_1HeevjOVM"
      },
      "execution_count": null,
      "outputs": []
    }
  ]
}