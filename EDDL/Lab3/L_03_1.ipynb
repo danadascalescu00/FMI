{
  "cells": [
    {
      "cell_type": "markdown",
      "metadata": {
        "id": "PqH7qOXmtyT8"
      },
      "source": [
        "## L_03_1. Introduction to PyTorch Geometric"
      ]
    },
    {
      "cell_type": "markdown",
      "metadata": {
        "id": "iTr1f6ZCtyT9"
      },
      "source": [
        "The aim of this notebook is to provide a very basic introduction to PyTorch geometric and to use the package for handling graphs. Have a look at https://pytorch-geometric.readthedocs.io/en/latest/get_started/introduction.html# "
      ]
    },
    {
      "cell_type": "code",
      "source": [
        "%pip install torch_geometric"
      ],
      "metadata": {
        "colab": {
          "base_uri": "https://localhost:8080/"
        },
        "id": "H1vjGiWCt86p",
        "outputId": "0709cd5f-f90f-4ad6-fcd8-e7781d90bb8b"
      },
      "execution_count": 2,
      "outputs": [
        {
          "output_type": "stream",
          "name": "stdout",
          "text": [
            "Looking in indexes: https://pypi.org/simple, https://us-python.pkg.dev/colab-wheels/public/simple/\n",
            "Collecting torch_geometric\n",
            "  Downloading torch_geometric-2.3.0.tar.gz (616 kB)\n",
            "\u001b[2K     \u001b[90m━━━━━━━━━━━━━━━━━━━━━━━━━━━━━━━━━━━━━━━\u001b[0m \u001b[32m616.2/616.2 kB\u001b[0m \u001b[31m9.2 MB/s\u001b[0m eta \u001b[36m0:00:00\u001b[0m\n",
            "\u001b[?25h  Installing build dependencies ... \u001b[?25l\u001b[?25hdone\n",
            "  Getting requirements to build wheel ... \u001b[?25l\u001b[?25hdone\n",
            "  Preparing metadata (pyproject.toml) ... \u001b[?25l\u001b[?25hdone\n",
            "Requirement already satisfied: scipy in /usr/local/lib/python3.9/dist-packages (from torch_geometric) (1.10.1)\n",
            "Requirement already satisfied: jinja2 in /usr/local/lib/python3.9/dist-packages (from torch_geometric) (3.1.2)\n",
            "Requirement already satisfied: scikit-learn in /usr/local/lib/python3.9/dist-packages (from torch_geometric) (1.2.2)\n",
            "Requirement already satisfied: numpy in /usr/local/lib/python3.9/dist-packages (from torch_geometric) (1.22.4)\n",
            "Requirement already satisfied: psutil>=5.8.0 in /usr/local/lib/python3.9/dist-packages (from torch_geometric) (5.9.5)\n",
            "Requirement already satisfied: tqdm in /usr/local/lib/python3.9/dist-packages (from torch_geometric) (4.65.0)\n",
            "Requirement already satisfied: pyparsing in /usr/local/lib/python3.9/dist-packages (from torch_geometric) (3.0.9)\n",
            "Requirement already satisfied: requests in /usr/local/lib/python3.9/dist-packages (from torch_geometric) (2.27.1)\n",
            "Requirement already satisfied: MarkupSafe>=2.0 in /usr/local/lib/python3.9/dist-packages (from jinja2->torch_geometric) (2.1.2)\n",
            "Requirement already satisfied: urllib3<1.27,>=1.21.1 in /usr/local/lib/python3.9/dist-packages (from requests->torch_geometric) (1.26.15)\n",
            "Requirement already satisfied: certifi>=2017.4.17 in /usr/local/lib/python3.9/dist-packages (from requests->torch_geometric) (2022.12.7)\n",
            "Requirement already satisfied: idna<4,>=2.5 in /usr/local/lib/python3.9/dist-packages (from requests->torch_geometric) (3.4)\n",
            "Requirement already satisfied: charset-normalizer~=2.0.0 in /usr/local/lib/python3.9/dist-packages (from requests->torch_geometric) (2.0.12)\n",
            "Requirement already satisfied: threadpoolctl>=2.0.0 in /usr/local/lib/python3.9/dist-packages (from scikit-learn->torch_geometric) (3.1.0)\n",
            "Requirement already satisfied: joblib>=1.1.1 in /usr/local/lib/python3.9/dist-packages (from scikit-learn->torch_geometric) (1.2.0)\n",
            "Building wheels for collected packages: torch_geometric\n",
            "  Building wheel for torch_geometric (pyproject.toml) ... \u001b[?25l\u001b[?25hdone\n",
            "  Created wheel for torch_geometric: filename=torch_geometric-2.3.0-py3-none-any.whl size=909897 sha256=cdf626c71165b88748205a01445ff442298697231db5d43267211e72f5a5c5d7\n",
            "  Stored in directory: /root/.cache/pip/wheels/cd/7d/6b/17150450b80b4a3656a84330e22709ccd8dc0f8f4773ba4133\n",
            "Successfully built torch_geometric\n",
            "Installing collected packages: torch_geometric\n",
            "Successfully installed torch_geometric-2.3.0\n"
          ]
        }
      ]
    },
    {
      "cell_type": "code",
      "execution_count": 3,
      "metadata": {
        "id": "DKWM0aGntyT-"
      },
      "outputs": [],
      "source": [
        "# Define a graph by indicating the edges and weights of the nodes\n",
        "import torch\n",
        "from torch_geometric.data import Data\n",
        "\n",
        "edge_index = torch.tensor([[0, 1, 1, 2],\n",
        "                           [1, 0, 2, 1]], dtype=torch.long)\n",
        "x = torch.tensor([[-1], [0], [1]], dtype=torch.float)\n",
        "\n",
        "data1 = Data(x=x, edge_index=edge_index)"
      ]
    },
    {
      "cell_type": "code",
      "execution_count": 6,
      "metadata": {
        "scrolled": true,
        "colab": {
          "base_uri": "https://localhost:8080/"
        },
        "id": "HfHAAzDktyT-",
        "outputId": "01ffa1f9-6399-48df-81a0-096f95b4a3ab"
      },
      "outputs": [
        {
          "output_type": "stream",
          "name": "stdout",
          "text": [
            "Data(x=[3, 1], edge_index=[2, 4])\n",
            "['x', 'edge_index']\n",
            "tensor([[-1.],\n",
            "        [ 0.],\n",
            "        [ 1.]], device='cuda:0')\n",
            "x found in data1\n",
            "edge_index found in data1\n"
          ]
        },
        {
          "output_type": "execute_result",
          "data": {
            "text/plain": [
              "False"
            ]
          },
          "metadata": {},
          "execution_count": 6
        }
      ],
      "source": [
        "# Print / display data\n",
        "print(data1)\n",
        "print(data1.keys)\n",
        "print(data1['x'])\n",
        "for key, item in data1:\n",
        "    print(\"{} found in data1\".format(key))\n",
        "data1.has_self_loops()"
      ]
    },
    {
      "cell_type": "code",
      "execution_count": 7,
      "metadata": {
        "id": "03h9Nm8vtyT_"
      },
      "outputs": [],
      "source": [
        "# Transfer data object to GPU.\n",
        "device = torch.device('cuda')\n",
        "data1 = data1.to(device)"
      ]
    },
    {
      "cell_type": "code",
      "execution_count": 8,
      "metadata": {
        "id": "G2FL93tktyT_"
      },
      "outputs": [],
      "source": [
        "# Define graph - alternative approach\n",
        "import torch\n",
        "from torch_geometric.data import Data\n",
        "\n",
        "edge_index = torch.tensor([[0, 1],\n",
        "                           [1, 0],\n",
        "                           [1, 2],\n",
        "                           [2, 1]], dtype=torch.long)\n",
        "x = torch.tensor([[-1], [0], [1]], dtype=torch.float)\n",
        "\n",
        "data2 = Data(x=x, edge_index=edge_index.t().contiguous())"
      ]
    },
    {
      "cell_type": "code",
      "execution_count": 11,
      "metadata": {
        "colab": {
          "base_uri": "https://localhost:8080/"
        },
        "id": "gGXKDOoytyT_",
        "outputId": "2a5e07b2-173b-4c91-82d8-f6ca4346ff9c"
      },
      "outputs": [
        {
          "output_type": "stream",
          "name": "stdout",
          "text": [
            "Data(x=[3, 1], edge_index=[2, 4])\n",
            "['x', 'edge_index']\n",
            "tensor([[-1.],\n",
            "        [ 0.],\n",
            "        [ 1.]])\n",
            "x found in data2\n",
            "edge_index found in data2\n"
          ]
        },
        {
          "output_type": "stream",
          "name": "stderr",
          "text": [
            "/usr/local/lib/python3.9/dist-packages/torch_geometric/deprecation.py:22: UserWarning: 'contains_self_loops' is deprecated, use 'has_self_loops' instead\n",
            "  warnings.warn(out)\n"
          ]
        },
        {
          "output_type": "execute_result",
          "data": {
            "text/plain": [
              "False"
            ]
          },
          "metadata": {},
          "execution_count": 11
        }
      ],
      "source": [
        "# Print / display data\n",
        "print(data2)\n",
        "print(data2.keys)\n",
        "print(data2['x'])\n",
        "for key, item in data1:\n",
        "    print(\"{} found in data2\".format(key))\n",
        "data2.contains_self_loops()"
      ]
    },
    {
      "cell_type": "code",
      "source": [
        "# Define my graph\n",
        "import torch\n",
        "from torch_geometric.data import Data\n",
        "\n",
        "edge_index = torch.tensor([[0, 0, 1, 2],\n",
        "                           [1, 2, 2, 1]])\n",
        "x = torch.tensor([[-1], [0], [1]], dtype=torch.float)\n",
        "data3 = Data(x=x, edge_index=edge_index.contiguous())"
      ],
      "metadata": {
        "id": "gZhntOGctw--"
      },
      "execution_count": 10,
      "outputs": []
    },
    {
      "cell_type": "code",
      "source": [
        "# Print / display data\n",
        "print(data3)\n",
        "print(data3.keys)\n",
        "print(data3['x'])\n",
        "for key, item in data1:\n",
        "    print(\"{} found in data3\".format(key))\n",
        "data3.contains_self_loops()"
      ],
      "metadata": {
        "colab": {
          "base_uri": "https://localhost:8080/"
        },
        "id": "s_ay6sREuTEX",
        "outputId": "12d4a3aa-1f68-4975-d424-0a767a51a880"
      },
      "execution_count": 12,
      "outputs": [
        {
          "output_type": "stream",
          "name": "stdout",
          "text": [
            "Data(x=[3, 1], edge_index=[2, 4])\n",
            "['x', 'edge_index']\n",
            "tensor([[-1.],\n",
            "        [ 0.],\n",
            "        [ 1.]])\n",
            "x found in data3\n",
            "edge_index found in data3\n"
          ]
        },
        {
          "output_type": "stream",
          "name": "stderr",
          "text": [
            "/usr/local/lib/python3.9/dist-packages/torch_geometric/deprecation.py:22: UserWarning: 'contains_self_loops' is deprecated, use 'has_self_loops' instead\n",
            "  warnings.warn(out)\n"
          ]
        },
        {
          "output_type": "execute_result",
          "data": {
            "text/plain": [
              "False"
            ]
          },
          "metadata": {},
          "execution_count": 12
        }
      ]
    },
    {
      "cell_type": "code",
      "source": [
        "# Define my graph\n",
        "import torch\n",
        "from torch_geometric.data import Data\n",
        "\n",
        "edge_index = torch.tensor([[0, 0, 1, 2, 2],\n",
        "                           [1, 2, 2, 1, 2]])\n",
        "x = torch.tensor([[-1], [0], [1]], dtype=torch.float)\n",
        "data3 = Data(x=x, edge_index=edge_index.contiguous())\n",
        "\n",
        "# Print / display data\n",
        "print(data3)\n",
        "print(data3.keys)\n",
        "print(data3['x'])\n",
        "for key, item in data1:\n",
        "    print(\"{} found in data3\".format(key))\n",
        "data3.contains_self_loops()"
      ],
      "metadata": {
        "colab": {
          "base_uri": "https://localhost:8080/"
        },
        "id": "ILNkQZiKuhGJ",
        "outputId": "b2131406-8e22-4eef-82d4-9b680eac106f"
      },
      "execution_count": 13,
      "outputs": [
        {
          "output_type": "stream",
          "name": "stdout",
          "text": [
            "Data(x=[3, 1], edge_index=[2, 5])\n",
            "['x', 'edge_index']\n",
            "tensor([[-1.],\n",
            "        [ 0.],\n",
            "        [ 1.]])\n",
            "x found in data3\n",
            "edge_index found in data3\n"
          ]
        },
        {
          "output_type": "execute_result",
          "data": {
            "text/plain": [
              "True"
            ]
          },
          "metadata": {},
          "execution_count": 13
        }
      ]
    }
  ],
  "metadata": {
    "kernelspec": {
      "display_name": "Python 3",
      "language": "python",
      "name": "python3"
    },
    "language_info": {
      "codemirror_mode": {
        "name": "ipython",
        "version": 3
      },
      "file_extension": ".py",
      "mimetype": "text/x-python",
      "name": "python",
      "nbconvert_exporter": "python",
      "pygments_lexer": "ipython3",
      "version": "3.8.5"
    },
    "colab": {
      "provenance": []
    },
    "accelerator": "GPU",
    "gpuClass": "standard"
  },
  "nbformat": 4,
  "nbformat_minor": 0
}