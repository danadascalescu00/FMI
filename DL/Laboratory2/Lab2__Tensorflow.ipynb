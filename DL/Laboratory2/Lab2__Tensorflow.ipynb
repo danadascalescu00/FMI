{
  "cells": [
    {
      "cell_type": "markdown",
      "metadata": {
        "id": "4ulckWoFVEfj"
      },
      "source": [
        "# Convolutional Neural Networks for Text Classification"
      ]
    },
    {
      "cell_type": "code",
      "execution_count": null,
      "metadata": {
        "id": "610moVgqVAeW"
      },
      "outputs": [],
      "source": [
        "from keras.datasets import imdb\n",
        "from keras.preprocessing import sequence \n",
        "from keras.preprocessing.text import one_hot\n",
        "from keras.utils import pad_sequences\n",
        "from keras.models import Sequential\n",
        "from keras.layers import Dense, Dropout, Activation, Flatten\n",
        "from keras.layers import Embedding, Input\n",
        "from keras.layers import Conv1D, MaxPooling1D, BatchNormalization\n",
        "from keras import metrics"
      ]
    },
    {
      "cell_type": "markdown",
      "metadata": {
        "id": "mLOCk6P-fldm"
      },
      "source": [
        "## Task I: Word-based CNN for Text Classification\n",
        "\n",
        "### 1. Data\n",
        "\n",
        "The dataset that we are going to use is the imdb dataset of movie reviews. These are labelled by sentiment (positive/negative). \n",
        "\n",
        "The reviews have been preprocessed, and each review is encoded as a sequence of word indexes (integers). \n",
        "\n",
        "For convenience, words are indexed by overall frequency in the dataset, so that for instance the integer \"3\" encodes the 3rd most frequent word in the data. This allows for quick filtering operations such as: \"only consider the top 10,000 most common words, but eliminate the top 20 most common words\".\n",
        "\n",
        "More information regarding the dataset can be found in the official [Keras documentation](https://keras.io/datasets/#imdb-movie-reviews-sentiment-classification).\n"
      ]
    },
    {
      "cell_type": "code",
      "execution_count": null,
      "metadata": {
        "colab": {
          "base_uri": "https://localhost:8080/"
        },
        "id": "bR-rpN_HI0i_",
        "outputId": "ffc04e21-c7e4-4a19-e131-117ebb3d5d7f"
      },
      "outputs": [
        {
          "output_type": "stream",
          "name": "stdout",
          "text": [
            "25000 train sequences\n",
            "25000 test sequences\n"
          ]
        }
      ],
      "source": [
        "# 1. Load the data\n",
        "(x_train, y_train), (x_test, y_test) = imdb.load_data(num_words=10000)\n",
        "\n",
        "print(len(x_train), 'train sequences')\n",
        "print(len(x_test), 'test sequences')"
      ]
    },
    {
      "cell_type": "markdown",
      "metadata": {
        "id": "iWg-G68bh2uI"
      },
      "source": [
        "### 2. Preprocess the text data \n",
        "\n",
        "In this particular case, where we are using the imdb dataset there is no need to do all the traditional preprocessings that we normally do when dealing with NLP problems. Part of them are already done at this point.\n",
        "\n",
        "  - Split the dataset in train and test (maybe also validation).\n",
        "  - Tokenize and transform to integer index. Here we would need to: \n",
        "    - instantitate a *Tokenizer()* object, \n",
        "    - fit that object on the text on which we are training the model (use the *fit_on_texts()* method)\n",
        "    - call *texts_to_sequences()* for both the training and the test text.\n",
        "\n",
        "  - **Add padding to ensure that all vectors have the same dimensionality.** Note that this is the only pre-processing that needs to be done in the case of the imdb dataset that is ready to be imported from keras."
      ]
    },
    {
      "cell_type": "code",
      "execution_count": null,
      "metadata": {
        "colab": {
          "base_uri": "https://localhost:8080/"
        },
        "id": "zDc5l6o2g6nM",
        "outputId": "fa9d5350-bc63-4e9c-98ca-df85fa6420d9"
      },
      "outputs": [
        {
          "output_type": "stream",
          "name": "stdout",
          "text": [
            "x_train shape: (25000, 1000)\n",
            "x_test shape: (25000, 1000)\n"
          ]
        }
      ],
      "source": [
        "maxlen = 1000\n",
        "\n",
        "# TODO 2. Pad sequences\n",
        "\n",
        "x_train = pad_sequences(x_train, maxlen=maxlen)\n",
        "x_test = pad_sequences(x_test, maxlen=maxlen)\n",
        "\n",
        "print('x_train shape:', x_train.shape)\n",
        "print('x_test shape:', x_test.shape)"
      ]
    },
    {
      "cell_type": "markdown",
      "metadata": {
        "id": "DtIeukSXltKp"
      },
      "source": [
        "### 3. CNN Architecture\n",
        "\n",
        "Please note that if the dataset is too small and the complexity of the model is large, then the phenomenon of overfitting will be imminent and fast.\n",
        "\n",
        "The model will look similar to what you have seen in the CNN for image classification (the first lab):\n",
        "\n",
        "> **3.1.** Instantiate the model. Use the constructor of the Sequential class as you have done in the first laboratory.\n",
        "\n",
        "> **3.2.** After creating the initial model, we need to populate it with the hidden layers:\n",
        "- **3.2.1.** With text classification, the first layer is usually an **embedding layer** in which word indices that come from the input layer are converted to word vectors (word2vec). This is an important conversion which enables a more efficient and faster processing of textual data. Each word integer is mapped into a one dimensional vector of floats which captures its syntactical properties within the movie reviews text corpus. This subject may be covered in a little more depth in an upcoming laboratory. At the moment, a few insights have been introduced in the theoretical support for this lab and even more explanation can be found in the Tensorflow and Google code archives and other blogs:\n",
        "  - https://code.google.com/archive/p/word2vec\n",
        "  - https://www.tensorflow.org/tutorials/word2vec\n",
        "  - https://www.youtube.com/watch?v=T8tQZChniMk&list=PLR2RxXcwFe533vpJhgiDOAONyRzj3lzbJ\n",
        "  - http://colah.github.io/posts/2014-07-NLP-RNNs-Representations\n",
        "- **3.2.2.** After the embedding layer, add a **dropout** layer with a probability of 0.4.\n",
        "- **3.2.3.** Add a **CONV** layer with 128 filters, filter size 3, padding same, activation relu and stride 1. Since our word vectors are one dimensional, we only need 1-dim convolutions. Keras provides us with a built in method for doing it elegantly. Note that we need to specify a convolution kernel length and number of filters to use (nb_filter). More info about parameters and usage at: https://keras.io/layers/convolutional/\n",
        "- **3.2.4.** Use **Max Pooling** after the CONV layer.\n",
        "- **3.2.5.** Add another **CONV** layer, similar in terms of parameters with what we have at 3.2.3. The only difference is that here we are trying a different kernel size (5 to be more specific).\n",
        "- **3.2.6.** Add a **Batch Normalization** layer. You can, of course, try to train the model without this layer, or with any other modification. Without this layer in particular, you are going to (probably) see a fair amount of overfitting.\n",
        "- **3.2.7.** Use **Max Pooling** again.\n",
        "- **3.2.8.** Add a Flatten layer.\n",
        "- **3.2.9.** Add a dense layer with hidden_dims hidden units and activation relu.\n",
        "- **3.2.10. Dropout** neurons with a probability of 0.5. Do this in order to add even more prvention of overfitting.\n",
        "- **3.2.11.** Our output layer consists of one neuron. The sigmoid activation will produce a float number between 0 and 1. We can round it to 0 or 1 to conclude if the movie review is negative or positive, or we can interpret it as a fuzzy value of how much the review is positive or negative.\n",
        "\n",
        "> **3.3.** Compile the model using binary crossentropy as loss, accuracy as metric and adam optimizer. These values for the parameters should be seen as a suggestion and you are more than welcome to use any other valid values and see how the behavior changes.\n",
        "\n",
        "> **3.4.** Train (fit) the model on the training data, with the test set as validation data. Set shuffle to True. For this particular dataset,  one possible (decent) batch size is 64 and (maybe) 10 epochs should be enough in order to dive into the problem."
      ]
    },
    {
      "cell_type": "code",
      "execution_count": null,
      "metadata": {
        "colab": {
          "base_uri": "https://localhost:8080/"
        },
        "id": "o5D4lUtmmA37",
        "outputId": "e554b089-da54-4fc7-d42e-3c49dbe38bf7"
      },
      "outputs": [
        {
          "output_type": "stream",
          "name": "stdout",
          "text": [
            "Model: \"sequential\"\n",
            "_________________________________________________________________\n",
            " Layer (type)                Output Shape              Param #   \n",
            "=================================================================\n",
            " embedding (Embedding)       (None, 1000, 100)         1000000   \n",
            "                                                                 \n",
            " dropout (Dropout)           (None, 1000, 100)         0         \n",
            "                                                                 \n",
            " conv1d (Conv1D)             (None, 1000, 128)         38528     \n",
            "                                                                 \n",
            " max_pooling1d (MaxPooling1D  (None, 500, 128)         0         \n",
            " )                                                               \n",
            "                                                                 \n",
            " conv1d_1 (Conv1D)           (None, 500, 128)          82048     \n",
            "                                                                 \n",
            " batch_normalization (BatchN  (None, 500, 128)         512       \n",
            " ormalization)                                                   \n",
            "                                                                 \n",
            " max_pooling1d_1 (MaxPooling  (None, 250, 128)         0         \n",
            " 1D)                                                             \n",
            "                                                                 \n",
            " flatten (Flatten)           (None, 32000)             0         \n",
            "                                                                 \n",
            " dense (Dense)               (None, 128)               4096128   \n",
            "                                                                 \n",
            " dropout_1 (Dropout)         (None, 128)               0         \n",
            "                                                                 \n",
            " dense_1 (Dense)             (None, 1)                 129       \n",
            "                                                                 \n",
            "=================================================================\n",
            "Total params: 5,217,345\n",
            "Trainable params: 5,217,089\n",
            "Non-trainable params: 256\n",
            "_________________________________________________________________\n",
            "Epoch 1/10\n",
            "391/391 [==============================] - 263s 668ms/step - loss: 0.4917 - accuracy: 0.7594 - val_loss: 0.4000 - val_accuracy: 0.8866\n",
            "Epoch 2/10\n",
            "391/391 [==============================] - 261s 667ms/step - loss: 0.2165 - accuracy: 0.9157 - val_loss: 0.5803 - val_accuracy: 0.7668\n",
            "Epoch 3/10\n",
            "391/391 [==============================] - 264s 674ms/step - loss: 0.1475 - accuracy: 0.9428 - val_loss: 0.3215 - val_accuracy: 0.8837\n",
            "Epoch 4/10\n",
            "391/391 [==============================] - 258s 660ms/step - loss: 0.1014 - accuracy: 0.9616 - val_loss: 1.6221 - val_accuracy: 0.6523\n",
            "Epoch 5/10\n",
            "391/391 [==============================] - 259s 663ms/step - loss: 0.0709 - accuracy: 0.9746 - val_loss: 0.4386 - val_accuracy: 0.8773\n",
            "Epoch 6/10\n",
            "391/391 [==============================] - 258s 659ms/step - loss: 0.0543 - accuracy: 0.9796 - val_loss: 0.6233 - val_accuracy: 0.8550\n",
            "Epoch 7/10\n",
            "391/391 [==============================] - 257s 658ms/step - loss: 0.0436 - accuracy: 0.9852 - val_loss: 1.0424 - val_accuracy: 0.8072\n",
            "Epoch 8/10\n",
            "391/391 [==============================] - 258s 660ms/step - loss: 0.0383 - accuracy: 0.9858 - val_loss: 1.8165 - val_accuracy: 0.7341\n",
            "Epoch 9/10\n",
            "391/391 [==============================] - 259s 662ms/step - loss: 0.0299 - accuracy: 0.9896 - val_loss: 1.1204 - val_accuracy: 0.8077\n",
            "Epoch 10/10\n",
            "391/391 [==============================] - 259s 663ms/step - loss: 0.0329 - accuracy: 0.9875 - val_loss: 0.9963 - val_accuracy: 0.8376\n"
          ]
        }
      ],
      "source": [
        "# Set parameters\n",
        "max_features = 10000\n",
        "batch_size = 64\n",
        "embedding_dims = 100\n",
        "filters = 128\n",
        "ks = [3, 5, 5] # kernel_size\n",
        "hidden_dims = 128\n",
        "epochs = 10\n",
        "\n",
        "def get_cnn_model_v1(): \n",
        "    # TODO 3.1. Create the model, no layers yet\n",
        "    model = Sequential()\n",
        "\n",
        "    # 3.2. Add the layers (check out the work done in the previous lab)\n",
        "    \n",
        "    ########################################################################################\n",
        "    # 3.2.1. Add an embedding layer which maps our vocab indices (max_features) into embedding_dims dimensions\n",
        "    model.add(Embedding(max_features, embedding_dims, input_length=maxlen))\n",
        "    \n",
        "    # TODO 3.2.2. Dropout with a probability of 0.4\n",
        "    model.add(Dropout(.4))\n",
        "\n",
        "    # TODO 3.2.3. Add a Convolution1D layer, with 128 filters, kernel size ks[0], padding same, activation relu and stride 1\n",
        "    model.add(Conv1D(filters=128, kernel_size=ks[0], padding='same', activation='relu', strides=1))\n",
        "    \n",
        "    # TODO 3.2.4. Use max pooling after the CONV layer\n",
        "    model.add(MaxPooling1D())\n",
        "    \n",
        "    # TODO 3.2.5. Add a CONV layer, similar in properties to what we have above (3.2.3.) and kernel size 5\n",
        "    model.add(Conv1D(filters=128, kernel_size=ks[1], padding='same', activation='relu', strides=1))\n",
        "    \n",
        "    # TODO 3.2.6. Add a Batch Normalization layer in order to reduce overfitting\n",
        "    model.add(BatchNormalization())\n",
        "    \n",
        "    # TODO 3.2.7. Use max pooling again\n",
        "    model.add(MaxPooling1D())\n",
        "\n",
        "    # TODO 3.2.8. Add a flatten layer\n",
        "    model.add(Flatten())\n",
        "\n",
        "    # TODO 3.2.9. Add a dense layer with hidden_dims hidden units and activation relu\n",
        "    model.add(Dense(units=hidden_dims))\n",
        "    \n",
        "    # TODO 3.2.10. Add a dropout layer with a dropout probability of 0.5 \n",
        "    model.add(Dropout(.5))\n",
        "\n",
        "    # TODO 3.2.11. We project onto a single unit output layer, and squash it with a sigmoid\n",
        "    model.add(Dense(1, activation='sigmoid'))\n",
        "    ##################################################################################\n",
        "\n",
        "    # TODO 3.3. Compile the model\n",
        "    model.compile(loss='binary_crossentropy', optimizer='adam', metrics=['accuracy'])\n",
        "    \n",
        "    model.summary()\n",
        "    \n",
        "    return model\n",
        "  \n",
        "model = get_cnn_model_v1()\n",
        "\n",
        "# TODO 3.4. Train (fit) the model\n",
        "history = model.fit(x_train, y_train, batch_size=batch_size, epochs=epochs, validation_data=(x_test, y_test), verbose=1, shuffle=True)"
      ]
    },
    {
      "cell_type": "markdown",
      "metadata": {
        "id": "OMiGHkMitRLw"
      },
      "source": [
        "### 4. Evaluate the model\n",
        "\n",
        "Evaluate the loss and the metrics (in our case accuracy) by which the model is evaluated for both:\n",
        "\n",
        "> **4.1.** **Training** - This should show a number around the value 0.96.\n",
        "\n",
        "> **4.2.** **Test** - The accuracy on the test set should show a value around 0.87.\n",
        "\n",
        "Even from the values above, can be seen the overfitting of the model.\n",
        "And, again, the model (hyperparameters) and choices of functions, etc are only to show how you can implement a CNN for text classification. From here you can try all kinds of new configurations, network architectures and hyperparameters"
      ]
    },
    {
      "cell_type": "code",
      "execution_count": null,
      "metadata": {
        "colab": {
          "base_uri": "https://localhost:8080/"
        },
        "id": "dB6M_G89tUpB",
        "outputId": "6dbd5a9b-c2fc-4c4d-fff3-f134b0287344"
      },
      "outputs": [
        {
          "output_type": "stream",
          "name": "stdout",
          "text": [
            "782/782 [==============================] - 53s 68ms/step - loss: 0.1043 - accuracy: 0.9564\n",
            "Training Accuracy: 0.9564\n",
            "Testing Accuracy:  0.8376\n"
          ]
        }
      ],
      "source": [
        "# 4.1. Evaluate the accuracy and loss on the training set\n",
        "loss, accuracy = model.evaluate(x_train, y_train, verbose=True)\n",
        "print(\"Training Accuracy: {:.4f}\".format(accuracy))\n",
        "\n",
        "# 4.2. Evaluate the accuracy and loss on the test set\n",
        "loss, accuracy = model.evaluate(x_test, y_test, verbose=False)\n",
        "print(\"Testing Accuracy:  {:.4f}\".format(accuracy))"
      ]
    },
    {
      "cell_type": "markdown",
      "metadata": {
        "id": "64OoW_8Cvw4A"
      },
      "source": [
        "### 5. Visualize accuracy\n",
        "\n",
        "The following plots show the learning curves during training/test in terms of accuracy and loss.\n",
        "As a bonus, time permitting or as a homework, try to improve these by changing the architecture of the CNN and the configuration."
      ]
    },
    {
      "cell_type": "code",
      "execution_count": null,
      "metadata": {
        "id": "tQRz2whBv0JZ"
      },
      "outputs": [],
      "source": [
        "import matplotlib.pyplot as plt\n",
        "\n",
        "plt.style.use('ggplot')\n",
        "\n",
        "def plot_history(history):\n",
        "    acc = history.history['accuracy']\n",
        "    val_acc = history.history['val_accuracy']\n",
        "    loss = history.history['loss']\n",
        "    val_loss = history.history['val_loss']\n",
        "    x = range(1, len(acc) + 1)\n",
        "\n",
        "    plt.figure(figsize=(12, 5))\n",
        "    plt.subplot(1, 2, 1)\n",
        "    plt.plot(x, acc, 'b', label='Training accuracy')\n",
        "    plt.plot(x, val_acc, 'r', label='Validation accuracy')\n",
        "    plt.title('Training and validation accuracy')\n",
        "    plt.legend()\n",
        "    plt.subplot(1, 2, 2)\n",
        "    plt.plot(x, loss, 'b', label='Training loss')\n",
        "    plt.plot(x, val_loss, 'r', label='Validation loss')\n",
        "    plt.title('Training and validation loss')\n",
        "    plt.legend()\n"
      ]
    },
    {
      "cell_type": "code",
      "execution_count": null,
      "metadata": {
        "colab": {
          "base_uri": "https://localhost:8080/",
          "height": 337
        },
        "id": "oUuYjnVLYCHf",
        "outputId": "04620fe7-66e6-4fd3-96da-e32dede52907"
      },
      "outputs": [
        {
          "output_type": "display_data",
          "data": {
            "text/plain": [
              "<Figure size 864x360 with 2 Axes>"
            ],
            "image/png": "[encoded data removed]"
          },
          "metadata": {
            "needs_background": "light"
          }
        }
      ],
      "source": [
        "%matplotlib inline\n",
        "plot_history(history)"
      ]
    },
    {
      "cell_type": "markdown",
      "metadata": {
        "id": "Y8X-vRKpwNOL"
      },
      "source": [
        "### 6. Save/Load model\n",
        "\n",
        "> 6.1. Exercise your knowledge on how to **save**\n",
        "\n",
        "> 6.2. and **load** a model using the capabilities offered by the Keras framework."
      ]
    },
    {
      "cell_type": "code",
      "execution_count": null,
      "metadata": {
        "id": "IQz_R6xPwQR2"
      },
      "outputs": [],
      "source": [
        "\n",
        "from keras.models import load_model\n",
        "\n",
        "# TODO 6.1. Save the model\n",
        "model.save('cnn_text_imdb.h5')\n",
        "\n",
        "# TODO 6.2. Load the saved model\n",
        "model = load_model('cnn_text_imdb.h5')"
      ]
    },
    {
      "cell_type": "markdown",
      "metadata": {
        "id": "Ityrg0zWAqSE"
      },
      "source": [
        "## Task II: Character-based CNN for Text Classification\n",
        "\n",
        "Time permitting, implement the character-based version of the CNN which is able to classify the movie reviews by sentiment.\n",
        "\n",
        "You can have a look at the few implementations that can be found online. For example, this implementation is really similar with what has been implemented in the first paper where the problem of character-based CNN is formally tackled: https://github.com/chaitjo/character-level-cnn/blob/master/models/char_cnn_kim.py. \n",
        "\n",
        "However, keep in mind that for this particular dataset there are some modifications that need to be done. Your challenge is to discover those."
      ]
    },
    {
      "cell_type": "code",
      "execution_count": null,
      "metadata": {
        "id": "gc1Ru4E4unDp"
      },
      "outputs": [],
      "source": [
        "from keras.datasets import imdb\n",
        "from keras.preprocessing import sequence\n",
        "from keras.models import Sequential\n",
        "from keras.layers import Dense, Dropout, Activation, Flatten\n",
        "from keras.layers import Embedding, Input\n",
        "from keras.layers import Conv1D, MaxPooling1D\n",
        "from keras.utils.np_utils import to_categorical\n",
        "from keras.preprocessing.text import Tokenizer\n",
        "from keras.utils import pad_sequences\n",
        "\n",
        "import numpy as np"
      ]
    },
    {
      "cell_type": "markdown",
      "metadata": {
        "id": "v0kdmHKPrqOA"
      },
      "source": [
        "### 1. Restore the strings in the dataset\n",
        "In this class, we have decided to use the imdb dataset from keras datasets. The only problem with this when trying to implement a character-based NN is that it has already performed the word2vec changes. This optimization, as we have seen in the Task I, is a really helpful one when implementing a word-based CNN. However this is not the case for a character based CNN, as we need to extract some information from the text, in order to be able to build the model.\n",
        "\n",
        "> **1.1.** **Map IDs to words**\n",
        "- **1.1.1.** Get the indexes corresponding to each word as per the imdb dataset (and module in keras). Hint: look up get_word_index().\n",
        "- **1.1.2.** Shift with 3 the values in the word_to_id dictionary populated above. In other words, for key k, the value is going to be v + 3 instead of v now. We do this because the first 3 indexes are reserved for special symbols (see at the next step).\n",
        "- **1.1.3.** Indexes 0-3 are now taken by the following special characters: \"\\<PAD>\", \"\\<START>\", \"\\<UNK>\", \"\\<UNUSED>\". Mark this by assigning the appropriate values to those keys.\n",
        "- **1.1.4.** Reverse the roles in word_to_id. Build an id_to_word dictionary with the same content, and the difference that here the keys are the values from word_to_id and the values are the keys from that dictionary. We are doing this in order to ease the (re)conversion to text. \n",
        "\n",
        "> **1.2.** **Restore the text data**\n",
        "- **1.2.1.** Get the corresponding words for the ids in the dataset. Use the function implemented following the steps above.\n",
        "- **1.2.2.** For each sample (list of indexes corresponding to words in that review) in the dataset, perform the conversion to string, appending the words found at those indexes. Hint: use join() maybe and list comprehension.\n",
        "\n",
        "> **1.3.** **Load the dataset** with only the top 5000 words.\n",
        "\n",
        "> **1.4.** Restore both the training and test text\n"
      ]
    },
    {
      "cell_type": "code",
      "execution_count": null,
      "metadata": {
        "colab": {
          "base_uri": "https://localhost:8080/"
        },
        "id": "HywaOzWPAvg3",
        "outputId": "4e57d360-a30e-4c7b-de0f-dd20561f6390"
      },
      "outputs": [
        {
          "output_type": "stream",
          "name": "stdout",
          "text": [
            "<START> this film was just brilliant casting location scenery story direction everyone's really suited the part they played and you could just imagine being there robert <UNK> is an amazing actor and now the same being director <UNK> father came from the same scottish island as myself so i loved the fact there was a real connection with this film the witty remarks throughout the film were great it was just brilliant so much that i bought the film as soon as it was released for <UNK> and would recommend it to everyone to watch and the fly <UNK> was amazing really cried at the end it was so sad and you know what they say if you cry at a film it must have been good and this definitely was also <UNK> to the two little <UNK> that played the <UNK> of norman and paul they were just brilliant children are often left out of the <UNK> list i think because the stars that play them all grown up are such a big <UNK> for the whole film but these children are amazing and should be <UNK> for what they have done don't you think the whole story was so lovely because it was true and was someone's life after all that was <UNK> with us all\n",
            "<START> please give this one a miss br br <UNK> <UNK> and the rest of the cast <UNK> terrible performances the show is flat flat flat br br i don't know how michael <UNK> could have allowed this one on his <UNK> he almost seemed to know this wasn't going to work out and his performance was quite <UNK> so all you <UNK> fans give this a miss\n"
          ]
        }
      ],
      "source": [
        "def map_ids_to_words():\n",
        "    \"\"\"\n",
        "    1.1. Map ids to words\n",
        "    \n",
        "    This method returns a dictionary representing a mapping id -> word like \n",
        "    it is in the imdb dataset from keras datasets.\n",
        "    \n",
        "    \"\"\"\n",
        "    # TODO 1.1.1. Get word indexes from the imdb dataset\n",
        "    word_to_id = imdb.get_word_index()\n",
        "    \n",
        "    # 1.1.2. Shift with 3 (value + 3) the indexes in word_to_id\n",
        "    word_to_id = {k: (v + 3) for k, v in word_to_id.items()}\n",
        "    \n",
        "    # TODO 1.1.3. Indexes 0-3 are now taken by the following special characters: \"<PAD>\", \"<START>\", \"<UNK>\", \"<UNUSED>\".\n",
        "    word_to_id['<PAD>'] = 0\n",
        "    word_to_id['<START>'] = 1\n",
        "    word_to_id['<UNK>'] = 2\n",
        "    word_to_id['<UNUSED>'] = 3\n",
        "\n",
        "    # 1.1.4. Reverse the roles in word_to_id (now the values become keys)\n",
        "    id_to_word = {value:key for key, value in word_to_id.items()}\n",
        "    \n",
        "    return id_to_word\n",
        "\n",
        "def restore_text_data(dataset):\n",
        "    \"\"\"\n",
        "    1.2. Restore the text data.\n",
        "    \n",
        "    Use the method declared above to mapt the ids in the imdb representation to actual words.\n",
        "    \"\"\"\n",
        "    str_data = []\n",
        "    \n",
        "    # TODO 1.2.1. Get the corresponding words for the ids in the dataset.\n",
        "    id_to_word = map_ids_to_words()\n",
        "    \n",
        "    # 1.2.2. For each sample in the dataset, perform the conversion to string\n",
        "    for i in range(len(dataset)):\n",
        "        str_data.append(' '.join(id_to_word[id] for id in dataset[i] ))\n",
        "  \n",
        "    print(str_data[0])\n",
        "    \n",
        "    return str_data\n",
        "\n",
        "# 1.3. Load the dataset\n",
        "(x_train, y_train), (x_test, y_test) = imdb.load_data(num_words=5000, index_from=3)\n",
        "\n",
        "# 1.4. Restore text data for both training and test\n",
        "X_train_str = restore_text_data(x_train)\n",
        "X_test_str = restore_text_data(x_test)"
      ]
    },
    {
      "cell_type": "markdown",
      "metadata": {
        "id": "wb0dWiRm4IhX"
      },
      "source": [
        "### 2. Get the vocabulary\n",
        "> **2.1.** Get the vocabulary - identify the set of characters (\"vocabulary\") for this dataset.\n",
        "\n",
        "### 3. Create a Tokenizer\n",
        "\n",
        "> **3.1.** Initialize the tokenizer. The important parameters here are:\n",
        "- **char_level**=True: this can tell tk.texts_to_sequences() to process sentence in char level.\n",
        "- **oov_token**='UNK': this will add a UNK token in the vocabulary. We can call it by tk.oov_token.\n",
        "- **num_words**=None for starters.\n",
        "\n",
        "> **3.2.** After calling tk.fit_on_texts(X_train_str), the tk object will contain the neccery information about the training data. \n",
        "\n",
        "> **3.3.** Build a character dictionary based on our alphabet (chars). \n"
      ]
    },
    {
      "cell_type": "code",
      "execution_count": null,
      "metadata": {
        "id": "xYq43OAXuxw-"
      },
      "outputs": [],
      "source": [
        "# Maximum length for a sequence\n",
        "maxlen = 1024 \n",
        "\n",
        "def get_vocabulary(X_train_str):\n",
        "    \"\"\"\n",
        "    2. Get the vocabulary.\n",
        "    \n",
        "    For each document in the dataset, for each symbol in that document, \n",
        "    append that symbol to txt.\n",
        "    \"\"\"\n",
        "    txt = ' '.join(X_train_str)\n",
        "        \n",
        "    return set(txt)\n",
        "  \n",
        "def create_tokenizer(X_train_str, chars):\n",
        "    \"\"\"\n",
        "    3. Create a Tokenizer.\n",
        "    \"\"\"\n",
        "    # TODO 3.1. Initialize the Tokenizer\n",
        "    tk = Tokenizer(char_level=True, oov_token='UNK', num_words=None)\n",
        "\n",
        "    # TODO 3.2. Fit the tokenizer on the training data\n",
        "    tk.fit_on_texts(X_train_str)\n",
        "\n",
        "    # 3.3. Build a character dictionary based on our alphabet (chars)\n",
        "    char_dict = {}\n",
        "    for i, char in enumerate(chars):\n",
        "        char_dict[char] = i + 1\n",
        "\n",
        "    # TODO 3.4. Use char_dict to replace the tk.word_index\n",
        "    tk.word_index = char_dict\n",
        "\n",
        "    # 3.5. Add 'UNK' to the vocabulary \n",
        "    tk.word_index[tk.oov_token] = max(char_dict.values()) + 1\n",
        "    \n",
        "    return tk\n",
        "    \n",
        "chars = get_vocabulary(X_train_str)\n",
        "\n",
        "tk = create_tokenizer(X_train_str, chars)"
      ]
    },
    {
      "cell_type": "markdown",
      "metadata": {
        "id": "OgFs4fobFdP3"
      },
      "source": [
        "### 4. Yet another few preprocessings before building the actual model\n",
        "\n",
        "> **4.1.** Conversions to be done for both the test/training text.\n",
        "- **4.1.1.** Convert the strings in the text datasets to arrays of indexes. Hint: use texts_to_sequences().\n",
        "- **4.1.2.** The sequences need to have the same length, so pad_sequences() until the maxlen of 1024.\n",
        "- **4.1.3.** Convert to numpy array.\n",
        "\n",
        "> **4.2.** One-hot encode the set of targets for the training.\n",
        "\n",
        "> **4.3.** One-hot encode the set of targets for the test. Hint: to_categorical()."
      ]
    },
    {
      "cell_type": "code",
      "execution_count": null,
      "metadata": {
        "colab": {
          "base_uri": "https://localhost:8080/"
        },
        "id": "tgU6zBAb4wVp",
        "outputId": "3403def2-2aff-4b95-b041-9a2bc080acfa"
      },
      "outputs": [
        {
          "output_type": "stream",
          "name": "stdout",
          "text": [
            "Train data shape:  (25000, 1024)\n",
            "Test data shape:  (25000, 1024)\n",
            "vocabulary:  {'<': 1, 'k': 2, 'U': 3, 'q': 4, '5': 5, '6': 6, 'a': 7, 't': 8, 'y': 9, 's': 10, 'n': 11, 'd': 12, 'm': 13, 'j': 14, 'v': 15, \"'\": 16, 'f': 17, 'p': 18, 'g': 19, 'x': 20, '9': 21, 'i': 22, 'b': 23, 'w': 24, 'z': 25, 'N': 26, 'e': 27, 'R': 28, ' ': 29, 'u': 30, 'l': 31, 'c': 32, 'S': 33, '>': 34, 'K': 35, '4': 36, '\\x96': 37, 'T': 38, 'A': 39, 'h': 40, '8': 41, 'r': 42, '0': 43, '3': 44, '2': 45, 'o': 46, 'é': 47, '1': 48, '7': 49, 'UNK': 50}\n",
            "vocabulary size:  50\n"
          ]
        }
      ],
      "source": [
        "def preprocess_dataset(dataset, tk):\n",
        "    \"\"\"\n",
        "    4.1. Conversions to be done for both the test/training text.\n",
        "    \"\"\"\n",
        "    # TODO 4.1.1. Convert string to index \n",
        "    sequences = tk.texts_to_sequences(dataset)\n",
        "\n",
        "    # TODO 4.1.2. Padding\n",
        "    proc_data = pad_sequences(sequences, maxlen=1024) # pad_sequences already returns an numpy array so the next step is not required anymore\n",
        "\n",
        "    # TODO 4.1.3. Convert to numpy array\n",
        "    # proc_data = # TODO\n",
        "    \n",
        "    return proc_data\n",
        "\n",
        "train_data = preprocess_dataset(X_train_str, tk)\n",
        "print('Train data shape: ', train_data.shape)\n",
        "test_data = preprocess_dataset(X_test_str, tk)\n",
        "print('Test data shape: ', test_data.shape)\n",
        "\n",
        "vocab_size = len(tk.word_index)\n",
        "\n",
        "print(\"vocabulary: \", tk.word_index)\n",
        "print(\"vocabulary size: \", vocab_size)"
      ]
    },
    {
      "cell_type": "code",
      "execution_count": null,
      "metadata": {
        "colab": {
          "base_uri": "https://localhost:8080/"
        },
        "id": "VQqJGVfOu_iL",
        "outputId": "4e1ad3ab-a0c5-44e5-ecbb-3c5ce59ba4d4"
      },
      "outputs": [
        {
          "output_type": "stream",
          "name": "stdout",
          "text": [
            "(25000, 2)\n"
          ]
        }
      ],
      "source": [
        "# TODO 4.2. One-hot encode the training targets\n",
        "y_train = to_categorical(y_train)\n",
        "print(y_train.shape)"
      ]
    },
    {
      "cell_type": "code",
      "execution_count": null,
      "metadata": {
        "colab": {
          "base_uri": "https://localhost:8080/"
        },
        "id": "_EvdlVGEvFIP",
        "outputId": "e80b54bf-09d6-483e-8a8a-3422be67bd66"
      },
      "outputs": [
        {
          "output_type": "stream",
          "name": "stdout",
          "text": [
            "(25000, 2)\n"
          ]
        }
      ],
      "source": [
        "# TODO 4.3. One-hot encode the test targets\n",
        "y_test = np.asarray(to_categorical(y_test)).astype('float32')\n",
        "print(y_test.shape)"
      ]
    },
    {
      "cell_type": "markdown",
      "metadata": {
        "id": "8Mm3Pxu9KCRU"
      },
      "source": [
        "### 5. Load the Embedding Weights\n",
        "In order to understand how to assign embedding weights to the embedding layer, here we initialize the embedding weights manually instead of initializing it randomly.\n",
        "\n",
        "> **5.1.** **Append a zero vector** of size vocab_size, to represent the PAD. We can see, besides the 49 characters, we also have a UNK(unknown token) to represent the rare characters in vocabulary. Then we use the one-hot vector to represent these 50 characters, which means each character has 50 dimensions. Because Keras use 0 for PAD, we add a zero vector to represent PAD.\n",
        "\n",
        "> **5.2.** One-hot encoding used for the embedding of the weights.\n",
        "\n",
        "> **5.3.** Convert the embedding weights to numpy array."
      ]
    },
    {
      "cell_type": "code",
      "execution_count": null,
      "metadata": {
        "colab": {
          "base_uri": "https://localhost:8080/"
        },
        "id": "d3vZwhbb6aWx",
        "outputId": "e6e63462-0cb5-4089-ed81-37d580f709aa"
      },
      "outputs": [
        {
          "output_type": "stream",
          "name": "stdout",
          "text": [
            "embedding weights shape:  (51, 50)\n",
            "embedding weights: \n",
            " [[0. 0. 0. ... 0. 0. 0.]\n",
            " [1. 0. 0. ... 0. 0. 0.]\n",
            " [0. 1. 0. ... 0. 0. 0.]\n",
            " ...\n",
            " [0. 0. 0. ... 1. 0. 0.]\n",
            " [0. 0. 0. ... 0. 1. 0.]\n",
            " [0. 0. 0. ... 0. 0. 1.]]\n"
          ]
        }
      ],
      "source": [
        "def load_embedding_weights(tk, vocab_size):\n",
        "    \"\"\"\n",
        "    5. Load manually the embedding weights.\n",
        "    \"\"\"\n",
        "    embedding_weights = [] #(51, 50)\n",
        "\n",
        "    # TODO 5.1. Append zero vector to represent the PAD\n",
        "    embedding_weights.append(np.zeros(vocab_size))\n",
        "\n",
        "    # 5.2. One-hot repres of the characters\n",
        "    for char, i in tk.word_index.items():\n",
        "        onehot = np.zeros(vocab_size)\n",
        "        onehot[i-1] = 1\n",
        "        embedding_weights.append(onehot)\n",
        "\n",
        "    # TODO 5.3. Convert to a numpy array\n",
        "    embedding_weights = np.array(embedding_weights)\n",
        "    \n",
        "    return embedding_weights\n",
        "  \n",
        "embedding_weights = load_embedding_weights(tk, vocab_size)\n",
        "\n",
        "print(\"embedding weights shape: \", embedding_weights.shape)\n",
        "print(\"embedding weights: \\n\", embedding_weights)"
      ]
    },
    {
      "cell_type": "markdown",
      "metadata": {
        "id": "ISNn5UbqSJEJ"
      },
      "source": [
        "### 6. Build the model\n",
        "\n",
        "> **6.1.** Instatiate the sequential model with no layers.\n",
        "\n",
        "> **6.2.** Add an Embedding layer with vocab_size + 1, embedding_size, input_size as input_length and embedding_weights as weights.\n",
        "\n",
        "> **6.3.** Add the convolutional layers having the \\[filter_num, filter_size, pooling_size] specified in conv_layers. Note that if the pooling_size is -1, there is no pooling layer after that CONV. The activation function used is relu.\n",
        "\n",
        "> **6.4.** Add a Flatten layer.\n",
        "\n",
        "> **6.5.** Add one Fully connected layer with relu as activation and 1024 hidden units.\n",
        "\n",
        "> **6.6.** Dropout half of the neurons.\n",
        "\n",
        "> **6.7.** The output layer uses sigmoid as activation function and has 2 nodes.\n",
        "\n",
        "> **6.8.** Compile the model with loss, optimizer and accuracy as metric.\n"
      ]
    },
    {
      "cell_type": "code",
      "execution_count": null,
      "metadata": {
        "colab": {
          "base_uri": "https://localhost:8080/"
        },
        "id": "dWAvLuXi7rUu",
        "outputId": "d1aca826-9154-4d6a-8f32-b32a04542810"
      },
      "outputs": [
        {
          "output_type": "stream",
          "name": "stdout",
          "text": [
            "Model: \"sequential_1\"\n",
            "_________________________________________________________________\n",
            " Layer (type)                Output Shape              Param #   \n",
            "=================================================================\n",
            " embedding_1 (Embedding)     (None, 1024, 50)          2550      \n",
            "                                                                 \n",
            " conv1d_2 (Conv1D)           (None, 1018, 128)         44928     \n",
            "                                                                 \n",
            " max_pooling1d_2 (MaxPooling  (None, 339, 128)         0         \n",
            " 1D)                                                             \n",
            "                                                                 \n",
            " conv1d_3 (Conv1D)           (None, 335, 128)          82048     \n",
            "                                                                 \n",
            " conv1d_4 (Conv1D)           (None, 333, 128)          49280     \n",
            "                                                                 \n",
            " conv1d_5 (Conv1D)           (None, 331, 128)          49280     \n",
            "                                                                 \n",
            " max_pooling1d_3 (MaxPooling  (None, 110, 128)         0         \n",
            " 1D)                                                             \n",
            "                                                                 \n",
            " flatten_1 (Flatten)         (None, 14080)             0         \n",
            "                                                                 \n",
            " dense_2 (Dense)             (None, 1024)              14418944  \n",
            "                                                                 \n",
            " dropout_2 (Dropout)         (None, 1024)              0         \n",
            "                                                                 \n",
            " dense_3 (Dense)             (None, 2)                 2050      \n",
            "                                                                 \n",
            "=================================================================\n",
            "Total params: 14,649,080\n",
            "Trainable params: 14,649,080\n",
            "Non-trainable params: 0\n",
            "_________________________________________________________________\n"
          ]
        }
      ],
      "source": [
        "input_size = 1024\n",
        "embedding_size = 50\n",
        "num_of_classes = 2\n",
        "dropout_p = 0.5\n",
        "optimizer = 'adam'\n",
        "loss = \"binary_crossentropy\"\n",
        "\n",
        "conv_layers = [[128, 7, 3], [128, 5, -1], [128, 3, -1], [128, 3, 3]]\n",
        "\n",
        "def build_model_2():\n",
        "    # TODO 6.1. Instantiate the model\n",
        "    model = Sequential()\n",
        "\n",
        "    # 6.2. Add an Embedding layer \n",
        "    model.add(Embedding(vocab_size+1, embedding_size, input_length=input_size, weights=[embedding_weights]))\n",
        "    \n",
        "    # TODO 6.3. Add the convolutional layers having the [filter_num, filter_size, pooling_size] specified in conv_layers\n",
        "    for filter_num, filter_size, pooling_size in conv_layers:\n",
        "        model.add(Conv1D(filters=filter_num, kernel_size=filter_size, activation='relu'))\n",
        "        if pooling_size != -1:\n",
        "          model.add(MaxPooling1D(pool_size=pooling_size))\n",
        "        \n",
        "    # TODO 6.4. Add a Flatten layer\n",
        "    model.add(Flatten())\n",
        "    # TODO 6.5. Add one Fully connected layer\n",
        "    model.add(Dense(units=1024, activation='relu'))\n",
        "    # TODO 6.6. Dropout\n",
        "    model.add(Dropout(.5))\n",
        "    # TODO 6.7. Output layer\n",
        "    model.add(Dense(2, activation='sigmoid'))\n",
        "    # TODO 6.8. Compile the model\n",
        "    model.compile(optimizer, loss, metrics=['accuracy'])\n",
        "\n",
        "    model.summary()\n",
        "    \n",
        "    return model\n",
        "  \n",
        "model2 = build_model_2()"
      ]
    },
    {
      "cell_type": "markdown",
      "metadata": {
        "id": "ad7YlXucTiy3"
      },
      "source": [
        "### 7. Train the model\n",
        "\n",
        "We have experimented with batch size 128, 10 epochs and the train and validation (test_data) as parameters. Verbose should be 1 in order to follow how the training progresses."
      ]
    },
    {
      "cell_type": "code",
      "execution_count": null,
      "metadata": {
        "colab": {
          "base_uri": "https://localhost:8080/"
        },
        "id": "nLT8d4LPFjth",
        "outputId": "45f2bf0b-039e-4cbb-eeb0-cc3fd92e0c09"
      },
      "outputs": [
        {
          "output_type": "stream",
          "name": "stdout",
          "text": [
            "Epoch 1/10\n",
            "196/196 [==============================] - 291s 1s/step - loss: 0.6952 - accuracy: 0.4994 - val_loss: 0.6932 - val_accuracy: 0.5000\n",
            "Epoch 2/10\n",
            "196/196 [==============================] - 290s 1s/step - loss: 0.6932 - accuracy: 0.4999 - val_loss: 0.6931 - val_accuracy: 0.5007\n",
            "Epoch 3/10\n",
            "196/196 [==============================] - 291s 1s/step - loss: 0.6933 - accuracy: 0.5014 - val_loss: 0.6932 - val_accuracy: 0.5000\n",
            "Epoch 4/10\n",
            "196/196 [==============================] - 289s 1s/step - loss: 0.6932 - accuracy: 0.4986 - val_loss: 0.6932 - val_accuracy: 0.5000\n",
            "Epoch 5/10\n",
            "196/196 [==============================] - 288s 1s/step - loss: 0.6932 - accuracy: 0.5006 - val_loss: 0.6931 - val_accuracy: 0.5000\n",
            "Epoch 6/10\n",
            "196/196 [==============================] - 288s 1s/step - loss: 0.6932 - accuracy: 0.4951 - val_loss: 0.6932 - val_accuracy: 0.5000\n",
            "Epoch 7/10\n",
            "196/196 [==============================] - 288s 1s/step - loss: 0.6932 - accuracy: 0.4969 - val_loss: 0.6931 - val_accuracy: 0.5000\n",
            "Epoch 8/10\n",
            "196/196 [==============================] - 289s 1s/step - loss: 0.6932 - accuracy: 0.4979 - val_loss: 0.6932 - val_accuracy: 0.5000\n",
            "Epoch 9/10\n",
            "196/196 [==============================] - 290s 1s/step - loss: 0.6934 - accuracy: 0.4964 - val_loss: 0.6927 - val_accuracy: 0.5080\n",
            "Epoch 10/10\n",
            "196/196 [==============================] - 287s 1s/step - loss: 0.6926 - accuracy: 0.5102 - val_loss: 0.6928 - val_accuracy: 0.5060\n"
          ]
        }
      ],
      "source": [
        "# TODO 7. Training\n",
        "history2 = model2.fit(train_data, y_train, validation_data=(test_data, y_test), batch_size=128, epochs=10, verbose=1)"
      ]
    },
    {
      "cell_type": "markdown",
      "metadata": {
        "id": "TOHiRwzDUBQ5"
      },
      "source": [
        "### 8. Evaluate the model\n",
        "\n",
        "> **8.1.** Evaluate the accuracy and loss on the training set.\n",
        "\n",
        "> **8.2.** Evaluate the accuracy and loss on the test set.\n",
        "\n",
        "> **8.3.** Plot the learning curves."
      ]
    },
    {
      "cell_type": "code",
      "execution_count": null,
      "metadata": {
        "colab": {
          "base_uri": "https://localhost:8080/"
        },
        "id": "QELLHdWcf3hE",
        "outputId": "7536434d-6319-40bd-ad3d-58c5a918a50c"
      },
      "outputs": [
        {
          "output_type": "stream",
          "name": "stdout",
          "text": [
            "782/782 [==============================] - 70s 89ms/step - loss: 0.6921 - accuracy: 0.5143\n",
            "Training Accuracy: 0.5143\n",
            "782/782 [==============================] - 69s 88ms/step - loss: 0.6928 - accuracy: 0.5060\n",
            "Testing Accuracy:  0.5060\n"
          ]
        }
      ],
      "source": [
        "# TODO 8.1. Evaluate the accuracy and loss on the training set\n",
        "loss, accuracy = model2.evaluate(train_data, y_train)\n",
        "print(\"Training Accuracy: {:.4f}\".format(accuracy))\n",
        "\n",
        "# TODO 8.2. Evaluate the accuracy and loss on the test set\n",
        "loss, accuracy = model2.evaluate(test_data, y_test)\n",
        "print(\"Testing Accuracy:  {:.4f}\".format(accuracy))"
      ]
    },
    {
      "cell_type": "code",
      "execution_count": null,
      "metadata": {
        "colab": {
          "base_uri": "https://localhost:8080/",
          "height": 337
        },
        "id": "h04vxn18f-aU",
        "outputId": "bfe1042b-a733-45bf-b255-552abcc6b68b"
      },
      "outputs": [
        {
          "output_type": "display_data",
          "data": {
            "text/plain": [
              "<Figure size 864x360 with 2 Axes>"
            ],
            "image/png": "[encoded data removed]"
          },
          "metadata": {
            "needs_background": "light"
          }
        }
      ],
      "source": [
        "# 8.3. Plot the learning curves\n",
        "%matplotlib inline\n",
        "plot_history(history2)"
      ]
    }
  ],
  "metadata": {
    "accelerator": "GPU",
    "colab": {
      "machine_shape": "hm",
      "provenance": []
    },
    "kernelspec": {
      "display_name": "Python 3 (ipykernel)",
      "language": "python",
      "name": "python3"
    },
    "language_info": {
      "codemirror_mode": {
        "name": "ipython",
        "version": 3
      },
      "file_extension": ".py",
      "mimetype": "text/x-python",
      "name": "python",
      "nbconvert_exporter": "python",
      "pygments_lexer": "ipython3",
      "version": "3.8.10"
    }
  },
  "nbformat": 4,
  "nbformat_minor": 0
}