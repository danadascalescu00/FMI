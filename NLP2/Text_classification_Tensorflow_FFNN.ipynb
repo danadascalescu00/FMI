{
  "nbformat": 4,
  "nbformat_minor": 0,
  "metadata": {
    "accelerator": "GPU",
    "colab": {
      "provenance": [],
      "collapsed_sections": []
    },
    "kernelspec": {
      "display_name": "Python 3",
      "name": "python3"
    }
  },
  "cells": [
    {
      "cell_type": "markdown",
      "source": [
        "This notebook also serves as an introduction to Tensorflow and Keras for text processing and classification. Inspired from official Tensorflow tutorials."
      ],
      "metadata": {
        "id": "wlvkY7c1mdmO"
      }
    },
    {
      "cell_type": "markdown",
      "metadata": {
        "id": "Ic4_occAAiAT"
      },
      "source": [
        "##### Copyright 2019 The TensorFlow Authors."
      ]
    },
    {
      "cell_type": "code",
      "metadata": {
        "cellView": "form",
        "id": "ioaprt5q5US7"
      },
      "source": [
        "#@title Licensed under the Apache License, Version 2.0 (the \"License\");\n",
        "# you may not use this file except in compliance with the License.\n",
        "# You may obtain a copy of the License at\n",
        "#\n",
        "# https://www.apache.org/licenses/LICENSE-2.0\n",
        "#\n",
        "# Unless required by applicable law or agreed to in writing, software\n",
        "# distributed under the License is distributed on an \"AS IS\" BASIS,\n",
        "# WITHOUT WARRANTIES OR CONDITIONS OF ANY KIND, either express or implied.\n",
        "# See the License for the specific language governing permissions and\n",
        "# limitations under the License."
      ],
      "execution_count": 1,
      "outputs": []
    },
    {
      "cell_type": "code",
      "metadata": {
        "cellView": "form",
        "id": "yCl0eTNH5RS3"
      },
      "source": [
        "#@title MIT License\n",
        "#\n",
        "# Copyright (c) 2017 François Chollet\n",
        "#\n",
        "# Permission is hereby granted, free of charge, to any person obtaining a\n",
        "# copy of this software and associated documentation files (the \"Software\"),\n",
        "# to deal in the Software without restriction, including without limitation\n",
        "# the rights to use, copy, modify, merge, publish, distribute, sublicense,\n",
        "# and/or sell copies of the Software, and to permit persons to whom the\n",
        "# Software is furnished to do so, subject to the following conditions:\n",
        "#\n",
        "# The above copyright notice and this permission notice shall be included in\n",
        "# all copies or substantial portions of the Software.\n",
        "#\n",
        "# THE SOFTWARE IS PROVIDED \"AS IS\", WITHOUT WARRANTY OF ANY KIND, EXPRESS OR\n",
        "# IMPLIED, INCLUDING BUT NOT LIMITED TO THE WARRANTIES OF MERCHANTABILITY,\n",
        "# FITNESS FOR A PARTICULAR PURPOSE AND NONINFRINGEMENT. IN NO EVENT SHALL\n",
        "# THE AUTHORS OR COPYRIGHT HOLDERS BE LIABLE FOR ANY CLAIM, DAMAGES OR OTHER\n",
        "# LIABILITY, WHETHER IN AN ACTION OF CONTRACT, TORT OR OTHERWISE, ARISING\n",
        "# FROM, OUT OF OR IN CONNECTION WITH THE SOFTWARE OR THE USE OR OTHER\n",
        "# DEALINGS IN THE SOFTWARE."
      ],
      "execution_count": 2,
      "outputs": []
    },
    {
      "cell_type": "markdown",
      "source": [
        "**Note**: In this notebook we will see an end-to-end pipeline using a different way we can do text preprocessing and model training, using Tensorflow and Keras. \n",
        "Alternatively, other preprocessing libraries (such as NLTK) can be used for preprocessing and mixed with Tensorflow for model training - this is also a good option when we want to train neural networks for text classification.\n",
        "There are also different ways to do data loading/preprocessing in Tensorflow, some of which more concise - we will see these in future labs."
      ],
      "metadata": {
        "id": "WgwoQXYOlbH2"
      }
    },
    {
      "cell_type": "markdown",
      "metadata": {
        "id": "ItXfxkxvosLH"
      },
      "source": [
        "# Basic text classification"
      ]
    },
    {
      "cell_type": "markdown",
      "metadata": {
        "id": "Eg62Pmz3o83v"
      },
      "source": [
        "This tutorial demonstrates text classification starting from plain text files stored on disk. You'll train a binary classifier to perform sentiment analysis on an IMDB dataset."
      ]
    },
    {
      "cell_type": "code",
      "metadata": {
        "id": "8RZOuS9LWQvv"
      },
      "source": [
        "import matplotlib.pyplot as plt\n",
        "import os\n",
        "import re\n",
        "import shutil\n",
        "import string\n",
        "import tensorflow as tf\n",
        "\n",
        "from tensorflow.keras import layers\n",
        "from tensorflow.keras import losses\n"
      ],
      "execution_count": 3,
      "outputs": []
    },
    {
      "cell_type": "code",
      "metadata": {
        "id": "6-tTFS04dChr",
        "colab": {
          "base_uri": "https://localhost:8080/"
        },
        "outputId": "bca7a2b3-ad78-43a8-ff3e-ae2bc41bd9ce"
      },
      "source": [
        "print(tf.__version__)"
      ],
      "execution_count": 4,
      "outputs": [
        {
          "output_type": "stream",
          "name": "stdout",
          "text": [
            "2.9.2\n"
          ]
        }
      ]
    },
    {
      "cell_type": "markdown",
      "metadata": {
        "id": "NBTI1bi8qdFV"
      },
      "source": [
        "## Sentiment analysis\n",
        "\n",
        "This notebook trains a sentiment analysis model to classify movie reviews as *positive* or *negative*, based on the text of the review. This is an example of *binary*—or two-class—classification.\n",
        "\n",
        "You'll use the [Large Movie Review Dataset](https://ai.stanford.edu/~amaas/data/sentiment/) that contains the text of 50,000 movie reviews from the [Internet Movie Database](https://www.imdb.com/). These are split into 25,000 reviews for training and 25,000 reviews for testing. The training and testing sets are *balanced*, meaning they contain an equal number of positive and negative reviews.\n"
      ]
    },
    {
      "cell_type": "markdown",
      "metadata": {
        "id": "iAsKG535pHep"
      },
      "source": [
        "### Download and explore the IMDB dataset\n",
        "\n",
        "Let's download and extract the dataset, then explore the directory structure."
      ]
    },
    {
      "cell_type": "code",
      "metadata": {
        "id": "k7ZYnuajVlFN",
        "colab": {
          "base_uri": "https://localhost:8080/"
        },
        "outputId": "b8067b76-12b6-42d7-a87b-3664bd69e22a"
      },
      "source": [
        "url = \"https://ai.stanford.edu/~amaas/data/sentiment/aclImdb_v1.tar.gz\"\n",
        "\n",
        "dataset = tf.keras.utils.get_file(\"aclImdb_v1\", url,\n",
        "                                    untar=True, cache_dir='.',\n",
        "                                    cache_subdir='')\n",
        "\n",
        "dataset_dir = os.path.join(os.path.dirname(dataset), 'aclImdb')"
      ],
      "execution_count": 5,
      "outputs": [
        {
          "output_type": "stream",
          "name": "stdout",
          "text": [
            "Downloading data from https://ai.stanford.edu/~amaas/data/sentiment/aclImdb_v1.tar.gz\n",
            "84125825/84125825 [==============================] - 3s 0us/step\n"
          ]
        }
      ]
    },
    {
      "cell_type": "code",
      "metadata": {
        "id": "355CfOvsV1pl",
        "colab": {
          "base_uri": "https://localhost:8080/"
        },
        "outputId": "9a6787fa-9490-498e-e0f3-14f2ac4b2f6d"
      },
      "source": [
        "os.listdir(dataset_dir)"
      ],
      "execution_count": 6,
      "outputs": [
        {
          "output_type": "execute_result",
          "data": {
            "text/plain": [
              "['imdb.vocab', 'train', 'imdbEr.txt', 'test', 'README']"
            ]
          },
          "metadata": {},
          "execution_count": 6
        }
      ]
    },
    {
      "cell_type": "code",
      "metadata": {
        "id": "7ASND15oXpF1",
        "colab": {
          "base_uri": "https://localhost:8080/"
        },
        "outputId": "36ae91d9-fc32-4476-bc42-6a51c7c4eaf3"
      },
      "source": [
        "train_dir = os.path.join(dataset_dir, 'train')\n",
        "os.listdir(train_dir)"
      ],
      "execution_count": 7,
      "outputs": [
        {
          "output_type": "execute_result",
          "data": {
            "text/plain": [
              "['urls_neg.txt',\n",
              " 'urls_unsup.txt',\n",
              " 'unsupBow.feat',\n",
              " 'labeledBow.feat',\n",
              " 'neg',\n",
              " 'pos',\n",
              " 'unsup',\n",
              " 'urls_pos.txt']"
            ]
          },
          "metadata": {},
          "execution_count": 7
        }
      ]
    },
    {
      "cell_type": "markdown",
      "metadata": {
        "id": "ysMNMI1CWDFD"
      },
      "source": [
        "The `aclImdb/train/pos` and `aclImdb/train/neg` directories contain many text files, each of which is a single movie review. Let's take a look at one of them."
      ]
    },
    {
      "cell_type": "code",
      "metadata": {
        "id": "R7g8hFvzWLIZ",
        "colab": {
          "base_uri": "https://localhost:8080/"
        },
        "outputId": "0bea0682-7706-499e-ff99-9b940a669a34"
      },
      "source": [
        "sample_file = os.path.join(train_dir, 'pos/1181_9.txt')\n",
        "with open(sample_file) as f:\n",
        "  print(f.read())"
      ],
      "execution_count": 8,
      "outputs": [
        {
          "output_type": "stream",
          "name": "stdout",
          "text": [
            "Rachel Griffiths writes and directs this award winning short film. A heartwarming story about coping with grief and cherishing the memory of those we've loved and lost. Although, only 15 minutes long, Griffiths manages to capture so much emotion and truth onto film in the short space of time. Bud Tingwell gives a touching performance as Will, a widower struggling to cope with his wife's death. Will is confronted by the harsh reality of loneliness and helplessness as he proceeds to take care of Ruth's pet cow, Tulip. The film displays the grief and responsibility one feels for those they have loved and lost. Good cinematography, great direction, and superbly acted. It will bring tears to all those who have lost a loved one, and survived.\n"
          ]
        }
      ]
    },
    {
      "cell_type": "markdown",
      "metadata": {
        "id": "Mk20TEm6ZRFP"
      },
      "source": [
        "### Load the dataset\n",
        "\n",
        "Next, you will load the data off disk and prepare it into a format suitable for training. To do so, you will use the helpful [text_dataset_from_directory](https://www.tensorflow.org/api_docs/python/tf/keras/preprocessing/text_dataset_from_directory) utility, which expects a directory structure as follows.\n",
        "\n",
        "```\n",
        "main_directory/\n",
        "...class_a/\n",
        "......a_text_1.txt\n",
        "......a_text_2.txt\n",
        "...class_b/\n",
        "......b_text_1.txt\n",
        "......b_text_2.txt\n",
        "```"
      ]
    },
    {
      "cell_type": "markdown",
      "metadata": {
        "id": "nQauv38Lnok3"
      },
      "source": [
        "To prepare a dataset for binary classification, you will need two folders on disk, corresponding to `class_a` and `class_b`. These will be the positive and negative movie reviews, which can be found in  `aclImdb/train/pos` and `aclImdb/train/neg`. As the IMDB dataset contains additional folders, you will remove them before using this utility."
      ]
    },
    {
      "cell_type": "code",
      "metadata": {
        "id": "VhejsClzaWfl"
      },
      "source": [
        "remove_dir = os.path.join(train_dir, 'unsup')\n",
        "shutil.rmtree(remove_dir)"
      ],
      "execution_count": 9,
      "outputs": []
    },
    {
      "cell_type": "markdown",
      "metadata": {
        "id": "95kkUdRoaeMw"
      },
      "source": [
        "Next, you will use the `text_dataset_from_directory` utility to create a labeled `tf.data.Dataset`. [tf.data](https://www.tensorflow.org/guide/data) is a powerful collection of tools for working with data. \n",
        "\n",
        "The IMDB dataset has already been divided into train and test, but it lacks a validation set. Let's create a validation set using an 80:20 split of the training data by using the `validation_split` argument below."
      ]
    },
    {
      "cell_type": "code",
      "metadata": {
        "id": "nOrK-MTYaw3C",
        "colab": {
          "base_uri": "https://localhost:8080/"
        },
        "outputId": "d556fa48-113a-4271-a355-f19cd35cac6b"
      },
      "source": [
        "batch_size = 32\n",
        "seed = 49\n",
        "\n",
        "raw_train_ds = tf.keras.utils.text_dataset_from_directory(\n",
        "    'aclImdb/train', \n",
        "    batch_size=batch_size, \n",
        "    validation_split=0.2, \n",
        "    subset='training', \n",
        "    seed=seed)"
      ],
      "execution_count": 10,
      "outputs": [
        {
          "output_type": "stream",
          "name": "stdout",
          "text": [
            "Found 25000 files belonging to 2 classes.\n",
            "Using 20000 files for training.\n"
          ]
        }
      ]
    },
    {
      "cell_type": "markdown",
      "metadata": {
        "id": "5Y33oxOUpYkh"
      },
      "source": [
        "As you can see above, there are 25,000 examples in the training folder, of which you will use 80% (or 20,000) for training. As you will see in a moment, you can train a model by passing a dataset directly to `model.fit`. If you're new to `tf.data`, you can also iterate over the dataset and print out a few examples as follows."
      ]
    },
    {
      "cell_type": "code",
      "metadata": {
        "id": "51wNaPPApk1K",
        "colab": {
          "base_uri": "https://localhost:8080/"
        },
        "outputId": "15717dc3-a6ee-4e01-d5e3-7877486bcbcb"
      },
      "source": [
        "for text_batch, label_batch in raw_train_ds.take(1): # Creates a Dataset with at most 1 elements from this dataset.\n",
        "  for i in range(3):\n",
        "    print(i, \"Review\", text_batch.numpy()[i])\n",
        "    print(\"Label\", label_batch.numpy()[i])"
      ],
      "execution_count": 11,
      "outputs": [
        {
          "output_type": "stream",
          "name": "stdout",
          "text": [
            "0 Review b\"This is the movie for those who believe cinema is the seventh art, not an entertainment business. Lars von Trier creates a noir atmosphere of post-war Germany utterly captivating. You get absorbed into the dream and you're let go only at the end credits. The plot necessarily comes second, but it still is a thrilling story with tough issues being raised. Just wonderful.\"\n",
            "Label 1\n",
            "1 Review b\"no movie with dennis hopper, gary busey, erika eleniak, tom berenger, dean stockwell, marilu henner deserves a rating under 5 on here. This is a poor mans version of movies like 16 blocks or the timeless Midnight run except the prisoner being transported here is the very easy on the eye Ms.Eleniak. Tom Berenger plays another gruff, maverick military type well and William Mcnamara plays his rookie-about to be discharged foil well. The plot on the face of it is absurd because I lost count of the times Eleniak should have and could have escaped but this is an entertaining feel-good movie and there are good cameos from all of the above actors that keep the movie rolling. This isn't really a family movie as there is some swearing and a rare nude scene with eleniak but this is a lot better than some of the other guff that came out around this time.\"\n",
            "Label 1\n",
            "2 Review b\"NATURAL BORN KILLERS (1994)<br /><br />Cinema Cut: R <br /><br />Director's Cut: NC-17<br /><br />It's an unusual Oliver Stone picture, but when I read he was on drugs during the filming, I needed no further explanation. 'Natural Born Killers' is a risky, mad, all out film-making that we do not get very often; strange, psychotic, artistic pictures.<br /><br />'Natural Born Killers' is basically the story of how two mass killers were popularised and glorified by the media; there is a great scene where an interviewer questions some teenagers about Mickey and Mallory, and the teenager says 'Murder is wrong.... but If I was a mass murderer I'd be Mickey and Mallory'. Mickey describes this with a situation of 'Frankenstein (the monster) and Dr. Frankenstein' - Dr. Frankenstein is the media who has turned them into these monstrous killers<br /><br />Most Oliver Stone films examine the flaws of the America, the country that the director loves and admires. I guess 'Natural Born Killers' is about the effect of mass media, technology and how obsessive as a nation, Americans are (and most of the world) over things such as mass killers and bizarre situations.<br /><br />The killers played by Woody Harrelson (Mickey) and Juliette Lewis (Mallory) are executed astonishingly by two excellent actors who step into the lives of two interestingly brutal killers. Mickey and Mallory believe that some people are worthy of killing, perhaps in the cruel theory of Social Darwinism (survival of the fittest) - Mickey says in his interview in prison, that other species commit murder, we as humans ravage other species and exploit the environment; the script is interesting, but it is questionable how much this film amounts to, in the sense of making us think about society and human behaviour, rather than the intensity of a 2 hour bloodbath that we have seen.<br /><br />The last hour of the film takes place in a maximum security prison; we see the harsh realities of prison life; the attitudes of the warden etc;overfilling of prisons - maybe Stone is questioning the future, the path that society is leading to.<br /><br />Two other interesting characters; First, a reporter who runs a show about 'America's Maniacs' and is obsessed with boosting ratings, that he goes to any length to capture the story of Mickey and Mallory. The other is police officer Scagnetti, an insane, perhaps sadistic officer that is in love with Mallory - he also has some weird obsession with mass killers, since his mother was killed during the massacre at Waco, Texas by Charles Whitman.<br /><br />The cinematography is superb; different colours, shadows, styles create a feeling of disorientation; the green colour most evident of all is green, to resemble the sickness of the killers (in the drugstore when they are looking for rattlesnake antidote).<br /><br />The camera work is insane; shaky, buzzy, it takes some determination to get use to it and accept it. Highly unorthodox, psychedelic and unusual.<br /><br />'Natural Born Killers' does not glamourise the existence of insane murderers, it questions it and how we as the public may fuel this attribute...<br /><br />Although the above review sound quite positive, I did dislike the film. Quentin Tarantino, who originally wrote the script for the film, was not pleased with the altered screenplay and he asked for his name to be removed. I can see why. While mildly interesting at times, Natural Born Killers is a mess of a picture.<br /><br />4/10\"\n",
            "Label 0\n"
          ]
        }
      ]
    },
    {
      "cell_type": "markdown",
      "metadata": {
        "id": "JWq1SUIrp1a-"
      },
      "source": [
        "Notice the reviews contain raw text (with punctuation and occasional HTML tags like `<br/>`). You will show how to handle these in the following section. \n",
        "\n",
        "The labels are 0 or 1. To see which of these correspond to positive and negative movie reviews, you can check the `class_names` property on the dataset.\n"
      ]
    },
    {
      "cell_type": "code",
      "metadata": {
        "id": "MlICTG8spyO2",
        "colab": {
          "base_uri": "https://localhost:8080/"
        },
        "outputId": "5cdead17-abcf-4c63-ec31-b0e109ca4833"
      },
      "source": [
        "print(\"Label 0 corresponds to\", raw_train_ds.class_names[0])\n",
        "print(\"Label 1 corresponds to\", raw_train_ds.class_names[1])"
      ],
      "execution_count": 12,
      "outputs": [
        {
          "output_type": "stream",
          "name": "stdout",
          "text": [
            "Label 0 corresponds to neg\n",
            "Label 1 corresponds to pos\n"
          ]
        }
      ]
    },
    {
      "cell_type": "code",
      "metadata": {
        "colab": {
          "base_uri": "https://localhost:8080/"
        },
        "id": "FuCnB70GLlT2",
        "outputId": "15eb53e3-70e3-4f8d-ea08-7226f9072ff6"
      },
      "source": [
        "# Number of positive examples in the batch\n",
        "nr_pos = 0\n",
        "for text_batch, label_batch in raw_train_ds.take(1):\n",
        "  print(label_batch.numpy())\n",
        "  nr_pos = label_batch.numpy().sum()\n",
        "\n",
        "print(nr_pos, \"out of\", batch_size, \"are positive\")"
      ],
      "execution_count": 13,
      "outputs": [
        {
          "output_type": "stream",
          "name": "stdout",
          "text": [
            "[1 0 1 0 0 0 0 1 1 0 1 1 1 0 1 0 0 0 0 1 1 0 1 1 1 1 0 0 0 1 1 0]\n",
            "16 out of 32 are positive\n"
          ]
        }
      ]
    },
    {
      "cell_type": "markdown",
      "metadata": {
        "id": "pbdO39vYqdJr"
      },
      "source": [
        "Next, you will create a validation and test dataset. You will use the remaining 5,000 reviews from the training set for validation."
      ]
    },
    {
      "cell_type": "markdown",
      "metadata": {
        "id": "SzxazN8Hq1pF"
      },
      "source": [
        "Note:  When using the `validation_split` and `subset` arguments, make sure to either specify a random seed, or to pass `shuffle=False`, so that the validation and training splits have no overlap."
      ]
    },
    {
      "cell_type": "code",
      "metadata": {
        "id": "JsMwwhOoqjKF",
        "colab": {
          "base_uri": "https://localhost:8080/"
        },
        "outputId": "7d4d2ce3-f364-4de2-96fa-035bfd5865c3"
      },
      "source": [
        "# Validation set\n",
        "raw_val_ds = tf.keras.utils.text_dataset_from_directory(\n",
        "    'aclImdb/train', \n",
        "    batch_size=batch_size, \n",
        "    validation_split=0.2, \n",
        "    subset='validation', \n",
        "    seed=seed)"
      ],
      "execution_count": 14,
      "outputs": [
        {
          "output_type": "stream",
          "name": "stdout",
          "text": [
            "Found 25000 files belonging to 2 classes.\n",
            "Using 5000 files for validation.\n"
          ]
        }
      ]
    },
    {
      "cell_type": "code",
      "metadata": {
        "colab": {
          "base_uri": "https://localhost:8080/"
        },
        "id": "mRgL73woNBXG",
        "outputId": "3272e5a8-660d-4064-fc3b-3acf1f9b17ac"
      },
      "source": [
        "tf.keras.utils.text_dataset_from_directory(\n",
        "    'aclImdb/train', \n",
        "    batch_size=batch_size, \n",
        "    # validation_split=0.2, \n",
        "    # subset='validation', \n",
        "    seed=seed)"
      ],
      "execution_count": 15,
      "outputs": [
        {
          "output_type": "stream",
          "name": "stdout",
          "text": [
            "Found 25000 files belonging to 2 classes.\n"
          ]
        },
        {
          "output_type": "execute_result",
          "data": {
            "text/plain": [
              "<BatchDataset element_spec=(TensorSpec(shape=(None,), dtype=tf.string, name=None), TensorSpec(shape=(None,), dtype=tf.int32, name=None))>"
            ]
          },
          "metadata": {},
          "execution_count": 15
        }
      ]
    },
    {
      "cell_type": "code",
      "metadata": {
        "id": "rdSr0Nt3q_ns",
        "colab": {
          "base_uri": "https://localhost:8080/"
        },
        "outputId": "eedc3d2d-284b-4efe-9c82-b6f08fdd6284"
      },
      "source": [
        "# Test set\n",
        "raw_test_ds = tf.keras.utils.text_dataset_from_directory(\n",
        "    'aclImdb/test', \n",
        "    batch_size=batch_size)"
      ],
      "execution_count": 16,
      "outputs": [
        {
          "output_type": "stream",
          "name": "stdout",
          "text": [
            "Found 25000 files belonging to 2 classes.\n"
          ]
        }
      ]
    },
    {
      "cell_type": "markdown",
      "metadata": {
        "id": "qJmTiO0IYAjm"
      },
      "source": [
        "### Prepare the dataset for training\n",
        "\n",
        "Next, you will normalize, tokenize, and vectorize the data using the helpful `tf.keras.layers.TextVectorization` layer. \n",
        "\n",
        "As you saw above, the reviews contain various HTML tags like `<br />`. These tags will not be removed by the default standardizer in the `TextVectorization` layer (which converts text to lowercase and strips punctuation by default, but doesn't strip HTML). You will write a custom standardization function to remove the HTML."
      ]
    },
    {
      "cell_type": "markdown",
      "metadata": {
        "id": "ZVcHl-SLrH-u"
      },
      "source": [
        "Note: to prevent [train/test skew](https://developers.google.com/machine-learning/guides/rules-of-ml#training-serving_skew) (also know as train/serving skew), it is important to preprocess the data identically at train and test time. To facilitate this, the `TextVectorization` layer can be included directly inside your model, as shown later in this tutorial."
      ]
    },
    {
      "cell_type": "code",
      "metadata": {
        "id": "SDRI_s_tX1Hk"
      },
      "source": [
        "def custom_standardization(input_data):\n",
        "  lowercase = tf.strings.lower(input_data)\n",
        "  stripped_html = tf.strings.regex_replace(lowercase, '<br />', ' ')\n",
        "  return tf.strings.regex_replace(stripped_html,\n",
        "                                  '[%s]' % re.escape(string.punctuation),\n",
        "                                  '')"
      ],
      "execution_count": 17,
      "outputs": []
    },
    {
      "cell_type": "markdown",
      "metadata": {
        "id": "d2d3Aw8dsUux"
      },
      "source": [
        "Next, you will create a `TextVectorization` layer. You will use this layer to standardize, tokenize, and vectorize our data. You set the `output_mode` to `int` to create unique integer indices for each token.\n",
        "\n",
        "Note that you're using the default split function, and the custom standardization function you defined above. You'll also define some constants for the model, like an explicit maximum `sequence_length`, which will cause the layer to pad or truncate sequences to exactly `sequence_length` values."
      ]
    },
    {
      "cell_type": "code",
      "metadata": {
        "id": "-c76RvSzsMnX"
      },
      "source": [
        "max_features = 10000\n",
        "sequence_length = 250\n",
        "\n",
        "vectorize_layer = layers.TextVectorization(\n",
        "    standardize = custom_standardization,\n",
        "    max_tokens = max_features,\n",
        "    output_mode = 'int',\n",
        "    output_sequence_length = sequence_length)"
      ],
      "execution_count": 18,
      "outputs": []
    },
    {
      "cell_type": "markdown",
      "metadata": {
        "id": "vlFOpfF6scT6"
      },
      "source": [
        "Next, you will call `adapt` to fit the state of the preprocessing layer to the dataset. This will cause the model to build an index of strings to integers."
      ]
    },
    {
      "cell_type": "markdown",
      "metadata": {
        "id": "lAhdjK7AtroA"
      },
      "source": [
        "Note: it's important to only use your training data when calling adapt (using the test set would leak information)."
      ]
    },
    {
      "cell_type": "code",
      "metadata": {
        "id": "GH4_2ZGJsa_X"
      },
      "source": [
        "# Make a text-only dataset (without labels), then call adapt\n",
        "train_text = raw_train_ds.map(lambda x, y: x)\n",
        "vectorize_layer.adapt(train_text)"
      ],
      "execution_count": 19,
      "outputs": []
    },
    {
      "cell_type": "markdown",
      "metadata": {
        "id": "SHQVEFzNt-K_"
      },
      "source": [
        "Let's create a function to see the result of using this layer to preprocess some data."
      ]
    },
    {
      "cell_type": "code",
      "metadata": {
        "id": "SCIg_T50wOCU"
      },
      "source": [
        "def vectorize_text(text, label):\n",
        "  text = tf.expand_dims(text, -1)\n",
        "  return vectorize_layer(text), label"
      ],
      "execution_count": 20,
      "outputs": []
    },
    {
      "cell_type": "code",
      "metadata": {
        "id": "XULcm6B3xQIO",
        "colab": {
          "base_uri": "https://localhost:8080/"
        },
        "outputId": "935b1764-6f57-4d13-bf19-4c3c70766c9e"
      },
      "source": [
        "# retrieve a batch (of 32 reviews and labels) from the dataset\n",
        "text_batch, label_batch = next(iter(raw_train_ds))\n",
        "first_review, first_label = text_batch[0], label_batch[0]\n",
        "print(\"Review\", first_review)\n",
        "print(\"Label\", raw_train_ds.class_names[first_label])\n",
        "print(\"Vectorized review\", vectorize_text(first_review, first_label))"
      ],
      "execution_count": 21,
      "outputs": [
        {
          "output_type": "stream",
          "name": "stdout",
          "text": [
            "Review tf.Tensor(b\"the only thing that frequently pops into my head while i'm writing this review is,i'll never get that hour and a half back!!! to indicate that i'm not just blowing air, i'll compare the movie to the other movies of the cube trilogy(cube and hypercube)!cube wasn't great but it was original and that made up for some technical flaws!hypercube as a sequel lost the advantage of originality but it came out looking pretty sharp and i even liked it beter than cube(the story was better)! but cube zero in comparison to it's predecessors really isn't worth sh*t!a complete lack of good fx, a very f*ck*d up script and just plain old bad acting don't combine well! example:all of the time during the movie i was thinking it would be incredibly stupid if ... should happen and then it would happen, so it's not very original neither! my advice: don't lose that hour and a half i lost!!!!!!!! oh and i hope this movie crashes and burns!!!!!!!\", shape=(), dtype=string)\n",
            "Label neg\n",
            "Vectorized review (<tf.Tensor: shape=(1, 250), dtype=int64, numpy=\n",
            "array([[   2,   61,  148,   12, 2981, 5263,   78,   54,  420,  133,  142,\n",
            "         492,   11,  728,    1,  113,   75,   12,  568,    3,    4,  365,\n",
            "         141,    6, 6974,   12,  142,   21,   40, 5165,  976,  531, 1570,\n",
            "           2,   17,    6,    2,   80,   92,    5,    2, 3122,    1,    3,\n",
            "           1,  266,   83,   18,    9,   13,  191,    3,   12,   90,   56,\n",
            "          15,   46, 1735,    1,   14,    4,  748,  411,    2, 2950,    5,\n",
            "        2793,   18,    9,  373,   45,  283,  178, 2512,    3,   10,   53,\n",
            "         405,    9,    1,   70,    1,   63,   13,  122,   18, 3122, 1396,\n",
            "           8, 2037,    6,   29, 8230,   62,  207,  284,    1,  580,  561,\n",
            "           5,   49, 3244,    4,   52,    1,   56,  223,    3,   40, 1044,\n",
            "         164,   77,  112,   89, 4351,   72,    1,    5,    2,   59,  304,\n",
            "           2,   17,   10,   13,  514,    9,   58,   27,  932,  366,   44,\n",
            "         137,  569,    3,   91,    9,   58,  569,   37,   29,   21,   52,\n",
            "         191, 1066,   54, 2010,   89, 1539,   12,  568,    3,    4,  365,\n",
            "          10,  411,  463,    3,   10,  440,   11,   17, 6045,    3, 2801,\n",
            "           0,    0,    0,    0,    0,    0,    0,    0,    0,    0,    0,\n",
            "           0,    0,    0,    0,    0,    0,    0,    0,    0,    0,    0,\n",
            "           0,    0,    0,    0,    0,    0,    0,    0,    0,    0,    0,\n",
            "           0,    0,    0,    0,    0,    0,    0,    0,    0,    0,    0,\n",
            "           0,    0,    0,    0,    0,    0,    0,    0,    0,    0,    0,\n",
            "           0,    0,    0,    0,    0,    0,    0,    0,    0,    0,    0,\n",
            "           0,    0,    0,    0,    0,    0,    0,    0,    0,    0,    0,\n",
            "           0,    0,    0,    0,    0,    0,    0,    0]])>, <tf.Tensor: shape=(), dtype=int32, numpy=0>)\n"
          ]
        }
      ]
    },
    {
      "cell_type": "markdown",
      "metadata": {
        "id": "6u5EX0hxyNZT"
      },
      "source": [
        "As you can see above, each token has been replaced by an integer. You can lookup the token (string) that each integer corresponds to by calling `.get_vocabulary()` on the layer."
      ]
    },
    {
      "cell_type": "code",
      "metadata": {
        "id": "kRq9hTQzhVhW",
        "colab": {
          "base_uri": "https://localhost:8080/"
        },
        "outputId": "e954004f-df79-4398-f374-f1b7915c3cbf"
      },
      "source": [
        "print(\"2 ---> \", vectorize_layer.get_vocabulary()[2])\n",
        "print(\" 313 ---> \", vectorize_layer.get_vocabulary()[313])\n",
        "print(\" 1 --->\", vectorize_layer.get_vocabulary()[1])\n",
        "print('Vocabulary size: {}'.format(len(vectorize_layer.get_vocabulary())))"
      ],
      "execution_count": 22,
      "outputs": [
        {
          "output_type": "stream",
          "name": "stdout",
          "text": [
            "2 --->  the\n",
            " 313 --->  excellent\n",
            " 1 ---> [UNK]\n",
            "Vocabulary size: 10000\n"
          ]
        }
      ]
    },
    {
      "cell_type": "markdown",
      "metadata": {
        "id": "XD2H6utRydGv"
      },
      "source": [
        "You are nearly ready to train your model. As a final preprocessing step, you will apply the TextVectorization layer you created earlier to the train, validation, and test dataset."
      ]
    },
    {
      "cell_type": "code",
      "metadata": {
        "id": "2zhmpeViI1iG"
      },
      "source": [
        "train_ds = raw_train_ds.map(vectorize_text)\n",
        "val_ds = raw_val_ds.map(vectorize_text)\n",
        "test_ds = raw_test_ds.map(vectorize_text)"
      ],
      "execution_count": 23,
      "outputs": []
    },
    {
      "cell_type": "markdown",
      "metadata": {
        "id": "LLC02j2g-llC"
      },
      "source": [
        "### Create the model\n",
        "\n",
        "It's time to create your neural network:"
      ]
    },
    {
      "cell_type": "code",
      "metadata": {
        "id": "dkQP6in8yUBR"
      },
      "source": [
        "embedding_dim = 16"
      ],
      "execution_count": 24,
      "outputs": []
    },
    {
      "cell_type": "code",
      "metadata": {
        "id": "xpKOoWgu-llD",
        "colab": {
          "base_uri": "https://localhost:8080/"
        },
        "outputId": "bb42e2d1-8a2a-408a-d7c8-6fd61494227d"
      },
      "source": [
        "model = tf.keras.Sequential([\n",
        "  layers.Embedding(max_features + 1, embedding_dim),\n",
        "  layers.Dropout(0.2),\n",
        "  layers.GlobalAveragePooling1D(),\n",
        "  layers.Dropout(0.2),\n",
        "  layers.Dense(1)])\n",
        "\n",
        "model.summary()\n",
        "\n",
        "# [0 0 0 1 0 0 0 0 0 0 0 0 0 ... ] BoW\n",
        "# [0.23 0.45 0.67 ... ] [0.25 0.35 0.37 ... ] [ ... ]   250\n",
        "#model.add(layer...)\n",
        "\n",
        "# ---16 ----\n",
        "# [       ]   10000\n",
        "# [       ]\n",
        "# [       ]\n",
        "# [       ]"
      ],
      "execution_count": 25,
      "outputs": [
        {
          "output_type": "stream",
          "name": "stdout",
          "text": [
            "Model: \"sequential\"\n",
            "_________________________________________________________________\n",
            " Layer (type)                Output Shape              Param #   \n",
            "=================================================================\n",
            " embedding (Embedding)       (None, None, 16)          160016    \n",
            "                                                                 \n",
            " dropout (Dropout)           (None, None, 16)          0         \n",
            "                                                                 \n",
            " global_average_pooling1d (G  (None, 16)               0         \n",
            " lobalAveragePooling1D)                                          \n",
            "                                                                 \n",
            " dropout_1 (Dropout)         (None, 16)                0         \n",
            "                                                                 \n",
            " dense (Dense)               (None, 1)                 17        \n",
            "                                                                 \n",
            "=================================================================\n",
            "Total params: 160,033\n",
            "Trainable params: 160,033\n",
            "Non-trainable params: 0\n",
            "_________________________________________________________________\n"
          ]
        }
      ]
    },
    {
      "cell_type": "markdown",
      "metadata": {
        "id": "6PbKQ6mucuKL"
      },
      "source": [
        "The layers are stacked sequentially to build the classifier:\n",
        "\n",
        "1. The first layer is an `Embedding` layer. This layer takes the integer-encoded reviews and looks up an embedding vector for each word-index. These vectors are learned as the model trains. The vectors add a dimension to the output array. The resulting dimensions are: `(batch, sequence, embedding)`.  \n",
        "\n",
        "**Note**: these are embeddings trained from scratch on our dataset and task. A good idea might be to initialize the embedding weights with pre-trained embeddings such as `word2vec`. You can try this as an exercise (use `gensim` to load pre-trained embedding vectors for the words in our vocabulary). \n",
        "2. Next, a `GlobalAveragePooling1D` layer returns a fixed-length output vector for each example by averaging over the sequence dimension. This allows the model to handle input of variable length, in the simplest way possible. It is essentially averaging all word embeddings from the input into one unique representation for the given input. \n",
        "\n",
        "TODO: retrieve the weights of the Embedding layer\n",
        "\n",
        "**Note**: What information are we losing by doing this? Which kinds of models could instead preserve this information? (see next time)\n",
        "3. This fixed-length output vector is piped through a fully-connected (`Dense`) layer with 16 hidden units. \n",
        "4. The last layer is densely connected with a single output node."
      ]
    },
    {
      "cell_type": "markdown",
      "metadata": {
        "id": "L4EqVWg4-llM"
      },
      "source": [
        "### Loss function and optimizer\n",
        "\n",
        "A model needs a loss function and an optimizer for training. Since this is a binary classification problem and the model outputs a probability (a single-unit layer with a sigmoid activation), you'll use `losses.BinaryCrossentropy` loss function.\n",
        "\n",
        "Now, configure the model to use an optimizer and a loss function:"
      ]
    },
    {
      "cell_type": "code",
      "metadata": {
        "id": "Mr0GP-cQ-llN"
      },
      "source": [
        "model.compile(loss=losses.BinaryCrossentropy(from_logits=True),\n",
        "              optimizer='adam',\n",
        "              metrics=tf.metrics.BinaryAccuracy(threshold=0.0))"
      ],
      "execution_count": 26,
      "outputs": []
    },
    {
      "cell_type": "markdown",
      "metadata": {
        "id": "35jv_fzP-llU"
      },
      "source": [
        "### Train the model\n",
        "\n",
        "You will train the model by passing the `dataset` object to the fit method."
      ]
    },
    {
      "cell_type": "code",
      "metadata": {
        "id": "tXSGrjWZ-llW",
        "colab": {
          "base_uri": "https://localhost:8080/"
        },
        "outputId": "22f1d8c7-5a4f-422e-89f5-5a3065f5c08b"
      },
      "source": [
        "epochs = 10\n",
        "history = model.fit(\n",
        "    train_ds,\n",
        "    validation_data=val_ds,\n",
        "    epochs=epochs)"
      ],
      "execution_count": 27,
      "outputs": [
        {
          "output_type": "stream",
          "name": "stdout",
          "text": [
            "Epoch 1/10\n",
            "625/625 [==============================] - 8s 12ms/step - loss: 0.6643 - binary_accuracy: 0.6977 - val_loss: 0.6142 - val_binary_accuracy: 0.7662\n",
            "Epoch 2/10\n",
            "625/625 [==============================] - 8s 12ms/step - loss: 0.5502 - binary_accuracy: 0.7985 - val_loss: 0.4964 - val_binary_accuracy: 0.8246\n",
            "Epoch 3/10\n",
            "625/625 [==============================] - 8s 13ms/step - loss: 0.4464 - binary_accuracy: 0.8432 - val_loss: 0.4162 - val_binary_accuracy: 0.8506\n",
            "Epoch 4/10\n",
            "625/625 [==============================] - 8s 12ms/step - loss: 0.3807 - binary_accuracy: 0.8657 - val_loss: 0.3687 - val_binary_accuracy: 0.8620\n",
            "Epoch 5/10\n",
            "625/625 [==============================] - 9s 14ms/step - loss: 0.3372 - binary_accuracy: 0.8781 - val_loss: 0.3394 - val_binary_accuracy: 0.8680\n",
            "Epoch 6/10\n",
            "625/625 [==============================] - 8s 13ms/step - loss: 0.3064 - binary_accuracy: 0.8893 - val_loss: 0.3206 - val_binary_accuracy: 0.8718\n",
            "Epoch 7/10\n",
            "625/625 [==============================] - 7s 11ms/step - loss: 0.2829 - binary_accuracy: 0.8955 - val_loss: 0.3062 - val_binary_accuracy: 0.8770\n",
            "Epoch 8/10\n",
            "625/625 [==============================] - 8s 12ms/step - loss: 0.2633 - binary_accuracy: 0.9028 - val_loss: 0.2965 - val_binary_accuracy: 0.8790\n",
            "Epoch 9/10\n",
            "625/625 [==============================] - 8s 12ms/step - loss: 0.2478 - binary_accuracy: 0.9086 - val_loss: 0.2905 - val_binary_accuracy: 0.8798\n",
            "Epoch 10/10\n",
            "625/625 [==============================] - 8s 12ms/step - loss: 0.2332 - binary_accuracy: 0.9144 - val_loss: 0.2863 - val_binary_accuracy: 0.8810\n"
          ]
        }
      ]
    },
    {
      "cell_type": "code",
      "source": [
        "embeddings = model.layers[0].get_weights()[0]\n",
        "embeddings"
      ],
      "metadata": {
        "colab": {
          "base_uri": "https://localhost:8080/"
        },
        "id": "daGwbWhHyStK",
        "outputId": "5d66cab8-e484-44cc-f43e-f860cbf150fc"
      },
      "execution_count": 28,
      "outputs": [
        {
          "output_type": "execute_result",
          "data": {
            "text/plain": [
              "array([[-0.00480261,  0.00283458, -0.01549053, ...,  0.00177848,\n",
              "         0.01171873,  0.00990858],\n",
              "       [ 0.05393581,  0.09918576,  0.02656469, ...,  0.07544966,\n",
              "        -0.12090492, -0.10033258],\n",
              "       [-0.06577573, -0.00801334, -0.02614336, ..., -0.00796653,\n",
              "         0.0635413 ,  0.02094617],\n",
              "       ...,\n",
              "       [ 0.00513907, -0.01173862,  0.10890251, ..., -0.08195981,\n",
              "         0.01184349, -0.07935681],\n",
              "       [ 0.01813687,  0.04077717, -0.01771778, ...,  0.03768305,\n",
              "        -0.02604038, -0.05413911],\n",
              "       [ 0.00449405, -0.02331703,  0.01643287, ..., -0.03085005,\n",
              "        -0.04973607, -0.04335556]], dtype=float32)"
            ]
          },
          "metadata": {},
          "execution_count": 28
        }
      ]
    },
    {
      "cell_type": "markdown",
      "metadata": {
        "id": "9EEGuDVuzb5r"
      },
      "source": [
        "### Evaluate the model\n",
        "\n",
        "Let's see how the model performs. Two values will be returned. Loss (a number which represents our error, lower values are better), and accuracy."
      ]
    },
    {
      "cell_type": "code",
      "metadata": {
        "id": "zOMKywn4zReN",
        "colab": {
          "base_uri": "https://localhost:8080/"
        },
        "outputId": "f5d6822a-e2f7-42b5-f64b-53f856a0814b"
      },
      "source": [
        "loss, accuracy = model.evaluate(test_ds)\n",
        "\n",
        "print(\"Loss: \", loss)\n",
        "print(\"Accuracy: \", accuracy)"
      ],
      "execution_count": 29,
      "outputs": [
        {
          "output_type": "stream",
          "name": "stdout",
          "text": [
            "782/782 [==============================] - 7s 9ms/step - loss: 0.3143 - binary_accuracy: 0.8712\n",
            "Loss:  0.3142881393432617\n",
            "Accuracy:  0.8711599707603455\n"
          ]
        }
      ]
    },
    {
      "cell_type": "markdown",
      "metadata": {
        "id": "z1iEXVTR0Z2t"
      },
      "source": [
        "This fairly naive approach achieves an accuracy of about 87%."
      ]
    },
    {
      "cell_type": "markdown",
      "metadata": {
        "id": "ldbQqCw2Xc1W"
      },
      "source": [
        "### Create a plot of accuracy and loss over time\n",
        "\n",
        "`model.fit()` returns a `History` object that contains a dictionary with everything that happened during training:"
      ]
    },
    {
      "cell_type": "code",
      "metadata": {
        "id": "-YcvZsdvWfDf",
        "colab": {
          "base_uri": "https://localhost:8080/"
        },
        "outputId": "98e93914-022f-4c5a-ac3a-c146a19cf430"
      },
      "source": [
        "history_dict = history.history\n",
        "history_dict.keys()"
      ],
      "execution_count": 30,
      "outputs": [
        {
          "output_type": "execute_result",
          "data": {
            "text/plain": [
              "dict_keys(['loss', 'binary_accuracy', 'val_loss', 'val_binary_accuracy'])"
            ]
          },
          "metadata": {},
          "execution_count": 30
        }
      ]
    },
    {
      "cell_type": "markdown",
      "metadata": {
        "id": "1_CH32qJXruI"
      },
      "source": [
        "There are four entries: one for each monitored metric during training and validation. You can use these to plot the training and validation loss for comparison, as well as the training and validation accuracy:"
      ]
    },
    {
      "cell_type": "code",
      "metadata": {
        "id": "2SEMeQ5YXs8z",
        "colab": {
          "base_uri": "https://localhost:8080/",
          "height": 295
        },
        "outputId": "4b9feb6f-6768-4303-caae-121d88adb64c"
      },
      "source": [
        "acc = history_dict['binary_accuracy']\n",
        "val_acc = history_dict['val_binary_accuracy']\n",
        "loss = history_dict['loss']\n",
        "val_loss = history_dict['val_loss']\n",
        "\n",
        "epochs = range(1, len(acc) + 1)\n",
        "\n",
        "# \"bo\" is for \"blue dot\"\n",
        "plt.ylim([0, 0.8])\n",
        "plt.plot(epochs, loss, 'bo', label='Training loss')\n",
        "# b is for \"solid blue line\"\n",
        "plt.plot(epochs, val_loss, 'b', label='Validation loss')\n",
        "plt.title('Training and validation loss')\n",
        "plt.xlabel('Epochs')\n",
        "plt.ylabel('Loss')\n",
        "plt.legend()\n",
        "\n",
        "plt.show()"
      ],
      "execution_count": 31,
      "outputs": [
        {
          "output_type": "display_data",
          "data": {
            "text/plain": [
              "<Figure size 432x288 with 1 Axes>"
            ],
            "image/png": "[encoded data removed]"
          },
          "metadata": {
            "needs_background": "light"
          }
        }
      ]
    },
    {
      "cell_type": "code",
      "metadata": {
        "id": "Z3PJemLPXwz_",
        "colab": {
          "base_uri": "https://localhost:8080/",
          "height": 295
        },
        "outputId": "cad0faea-8b99-416c-da73-eed4b62ad145"
      },
      "source": [
        "plt.ylim([0.7, 1])\n",
        "plt.plot(epochs, acc, 'bo', label='Training acc')\n",
        "plt.plot(epochs, val_acc, 'b', label='Validation acc')\n",
        "plt.title('Training and validation accuracy')\n",
        "plt.xlabel('Epochs')\n",
        "plt.ylabel('Accuracy')\n",
        "plt.legend(loc='lower right')\n",
        "\n",
        "plt.show()"
      ],
      "execution_count": 32,
      "outputs": [
        {
          "output_type": "display_data",
          "data": {
            "text/plain": [
              "<Figure size 432x288 with 1 Axes>"
            ],
            "image/png": "[encoded data removed]"
          },
          "metadata": {
            "needs_background": "light"
          }
        }
      ]
    },
    {
      "cell_type": "markdown",
      "metadata": {
        "id": "hFFyCuJoXy7r"
      },
      "source": [
        "In this plot, the dots represent the training loss and accuracy, and the solid lines are the validation loss and accuracy.\n",
        "\n",
        "Notice the training loss *decreases* with each epoch and the training accuracy *increases* with each epoch. This is expected when using a gradient descent optimization—it should minimize the desired quantity on every iteration.\n",
        "\n",
        "This isn't the case for the validation loss and accuracy—they seem to peak before the training accuracy. This is an example of overfitting: the model performs better on the training data than it does on data it has never seen before. After this point, the model over-optimizes and learns representations *specific* to the training data that do not *generalize* to test data.\n",
        "\n",
        "For this particular case, you could prevent overfitting by simply stopping the training when the validation accuracy is no longer increasing. One way to do so is to use the `tf.keras.callbacks.EarlyStopping` callback."
      ]
    },
    {
      "cell_type": "markdown",
      "metadata": {
        "id": "-to23J3Vy5d3"
      },
      "source": [
        "## Export the model\n",
        "\n",
        "In the code above, you applied the `TextVectorization` layer to the dataset before feeding text to the model. If you want to make your model capable of processing raw strings (for example, to simplify deploying it), you can include the `TextVectorization` layer inside your model. To do so, you can create a new model using the weights you just trained."
      ]
    },
    {
      "cell_type": "code",
      "metadata": {
        "id": "FWXsMvryuZuq",
        "colab": {
          "base_uri": "https://localhost:8080/"
        },
        "outputId": "e5dc4a3d-6010-4400-c771-4d29897d7ca5"
      },
      "source": [
        "export_model = tf.keras.Sequential([\n",
        "  vectorize_layer,\n",
        "  model,\n",
        "  layers.Activation('sigmoid')\n",
        "])\n",
        "\n",
        "export_model.compile(\n",
        "    loss=losses.BinaryCrossentropy(from_logits=False), optimizer=\"adam\", metrics=['accuracy']\n",
        ")\n",
        "\n",
        "# Test it with `raw_test_ds`, which yields raw strings\n",
        "loss, accuracy = export_model.evaluate(raw_test_ds)\n",
        "print(accuracy)"
      ],
      "execution_count": 33,
      "outputs": [
        {
          "output_type": "stream",
          "name": "stdout",
          "text": [
            "782/782 [==============================] - 8s 10ms/step - loss: 0.3143 - accuracy: 0.8712\n",
            "0.8711599707603455\n"
          ]
        }
      ]
    },
    {
      "cell_type": "markdown",
      "metadata": {
        "id": "TwQgoN88LoEF"
      },
      "source": [
        "### Inference on new data\n",
        "\n",
        "To get predictions for new examples, you can simply call `model.predict()`."
      ]
    },
    {
      "cell_type": "code",
      "metadata": {
        "id": "QW355HH5L49K",
        "colab": {
          "base_uri": "https://localhost:8080/"
        },
        "outputId": "d43304c3-ed3f-40a9-e3b8-2e40593a02a0"
      },
      "source": [
        "examples = [\n",
        "  \"The movie was great!\",\n",
        "  \"The movie was okay.\",\n",
        "  \"The movie was terrible...\"\n",
        "]\n",
        "\n",
        "export_model.predict(examples)"
      ],
      "execution_count": 34,
      "outputs": [
        {
          "output_type": "stream",
          "name": "stdout",
          "text": [
            "1/1 [==============================] - 0s 168ms/step\n"
          ]
        },
        {
          "output_type": "execute_result",
          "data": {
            "text/plain": [
              "array([[0.64225525],\n",
              "       [0.46543935],\n",
              "       [0.38724247]], dtype=float32)"
            ]
          },
          "metadata": {},
          "execution_count": 34
        }
      ]
    },
    {
      "cell_type": "markdown",
      "metadata": {
        "id": "MaxlpFWpzR6c"
      },
      "source": [
        "Including the text preprocessing logic inside your model enables you to export a model for production that simplifies deployment, and reduces the potential for [train/test skew](https://developers.google.com/machine-learning/guides/rules-of-ml#training-serving_skew).\n",
        "\n",
        "There is a performance difference to keep in mind when choosing where to apply your TextVectorization layer. Using it outside of your model enables you to do asynchronous CPU processing and buffering of your data when training on GPU. So, if you're training your model on the GPU, you probably want to go with this option to get the best performance while developing your model, then switch to including the TextVectorization layer inside your model when you're ready to prepare for deployment.\n",
        "\n",
        "Visit this [tutorial](https://www.tensorflow.org/tutorials/keras/save_and_load) to learn more about saving models."
      ]
    },
    {
      "cell_type": "markdown",
      "metadata": {
        "id": "eSSuci_6nCEG"
      },
      "source": [
        "## Exercise: multi-class classification on Stack Overflow questions\n",
        "\n",
        "This tutorial showed how to train a binary classifier from scratch on the IMDB dataset. As an exercise, you can modify this notebook to train a multi-class classifier to predict the tag of a programming question on [Stack Overflow](http://stackoverflow.com/).\n",
        "\n",
        "A [dataset](http://storage.googleapis.com/download.tensorflow.org/data/stack_overflow_16k.tar.gz) has been prepared for you to use containing the body of several thousand programming questions (for example, \"How can sort a dictionary by value in Python?\") posted to Stack Overflow. Each of these is labeled with exactly one tag (either Python, CSharp, JavaScript, or Java). Your task is to take a question as input, and predict the appropriate tag, in this case, Python. \n",
        "\n",
        "The dataset you will work with contains several thousand questions extracted from the much larger public Stack Overflow dataset on [BigQuery](https://console.cloud.google.com/marketplace/details/stack-exchange/stack-overflow), which contains more than 17 million posts.\n",
        "\n",
        "After downloading the dataset, you will find it has a similar directory structure to the IMDB dataset you worked with previously:\n",
        "\n",
        "```\n",
        "train/\n",
        "...python/\n",
        "......0.txt\n",
        "......1.txt\n",
        "...javascript/\n",
        "......0.txt\n",
        "......1.txt\n",
        "...csharp/\n",
        "......0.txt\n",
        "......1.txt\n",
        "...java/\n",
        "......0.txt\n",
        "......1.txt\n",
        "```\n",
        "\n",
        "Note: to increase the difficulty of the classification problem, occurrences of the words Python, CSharp, JavaScript, or Java in the programming questions have been replaced with the word *blank* (as many questions contain the language they're about).\n",
        "\n",
        "To complete this exercise, you should modify this notebook to work with the Stack Overflow dataset by making the following modifications:\n",
        "\n",
        "1. At the top of your notebook, update the code that downloads the IMDB dataset with code to download the [Stack Overflow dataset](http://storage.googleapis.com/download.tensorflow.org/data/stack_overflow_16k.tar.gz) that has been prepreared. As the Stack Overflow dataset has a similar directory structure, you will not need to make many modifications.\n",
        "\n",
        "1. Modify the last layer of your model to read `Dense(4)`, as there are now four output classes.\n",
        "\n",
        "1. When compiling the model, change the loss to `tf.keras.losses.SparseCategoricalCrossentropy`. This is the correct loss function to use for a multi-class classification problem, when the labels for each class are integers (in this case, they can be 0, *1*, *2*, or *3*). In addition, change the metrics to `metrics=['accuracy']`, since this is a multi-class classification problem (`tf.metrics.BinaryAccuracy` is only used for binary classifiers).\n",
        "\n",
        "1. When plotting accuracy over time, change `binary_accuracy` and `val_binary_accuracy` to `accuracy` and `val_accuracy`, respectively.\n",
        "\n",
        "1. Once these changes are complete, you will be able to train a multi-class classifier. "
      ]
    },
    {
      "cell_type": "code",
      "source": [
        "url = \"http://storage.googleapis.com/download.tensorflow.org/data/stack_overflow_16k.tar.gz\"\n",
        "\n",
        "dataset_path = tf.keras.utils.get_file(\"stack_overflow_16k\", url,\n",
        "                                    untar=True, cache_dir='.',\n",
        "                                    cache_subdir='')\n",
        "\n",
        "dataset_dir = os.path.dirname(dataset)"
      ],
      "metadata": {
        "id": "NHnIZX160IFM"
      },
      "execution_count": 35,
      "outputs": []
    },
    {
      "cell_type": "code",
      "source": [
        "train_dir = os.path.join(dataset_dir, 'train')\n",
        "print(os.listdir(train_dir))\n",
        "print(os.listdir(os.path.join(train_dir, 'java')))"
      ],
      "metadata": {
        "colab": {
          "base_uri": "https://localhost:8080/"
        },
        "id": "Yf8Do-bG4gBJ",
        "outputId": "1ca2d7ff-e63f-492c-c305-978ee8efcb5d"
      },
      "execution_count": 36,
      "outputs": [
        {
          "output_type": "stream",
          "name": "stdout",
          "text": [
            "['javascript', 'csharp', 'java', 'python']\n",
            "['422.txt', '1157.txt', '528.txt', '1830.txt', '1183.txt', '368.txt', '681.txt', '1037.txt', '707.txt', '788.txt', '379.txt', '1445.txt', '1329.txt', '1282.txt', '212.txt', '1571.txt', '912.txt', '58.txt', '1927.txt', '1494.txt', '564.txt', '1391.txt', '269.txt', '1051.txt', '1666.txt', '271.txt', '1300.txt', '1617.txt', '173.txt', '562.txt', '1630.txt', '860.txt', '1194.txt', '257.txt', '1582.txt', '440.txt', '73.txt', '63.txt', '1820.txt', '1111.txt', '1147.txt', '347.txt', '1346.txt', '1815.txt', '736.txt', '1567.txt', '167.txt', '628.txt', '1310.txt', '930.txt', '1827.txt', '729.txt', '399.txt', '792.txt', '1823.txt', '1560.txt', '1233.txt', '226.txt', '1513.txt', '1248.txt', '690.txt', '192.txt', '470.txt', '1789.txt', '740.txt', '716.txt', '777.txt', '1333.txt', '1490.txt', '1772.txt', '32.txt', '482.txt', '387.txt', '119.txt', '76.txt', '341.txt', '1007.txt', '1122.txt', '1325.txt', '1016.txt', '1188.txt', '797.txt', '1600.txt', '1330.txt', '163.txt', '406.txt', '1447.txt', '240.txt', '317.txt', '1054.txt', '384.txt', '1693.txt', '659.txt', '913.txt', '462.txt', '1799.txt', '1734.txt', '473.txt', '1344.txt', '1397.txt', '1292.txt', '1917.txt', '97.txt', '1599.txt', '1608.txt', '179.txt', '1245.txt', '1348.txt', '578.txt', '157.txt', '910.txt', '914.txt', '909.txt', '1408.txt', '1564.txt', '1903.txt', '519.txt', '1810.txt', '301.txt', '1136.txt', '1455.txt', '1350.txt', '1406.txt', '1578.txt', '1718.txt', '555.txt', '1872.txt', '10.txt', '882.txt', '1041.txt', '191.txt', '1926.txt', '630.txt', '449.txt', '749.txt', '1829.txt', '1263.txt', '1791.txt', '1191.txt', '1454.txt', '1695.txt', '1570.txt', '1807.txt', '447.txt', '477.txt', '1575.txt', '664.txt', '549.txt', '495.txt', '1787.txt', '1532.txt', '195.txt', '750.txt', '835.txt', '799.txt', '1763.txt', '304.txt', '1211.txt', '1714.txt', '1039.txt', '1419.txt', '322.txt', '1208.txt', '1668.txt', '431.txt', '1239.txt', '1152.txt', '663.txt', '1139.txt', '156.txt', '1847.txt', '109.txt', '917.txt', '1953.txt', '1702.txt', '1255.txt', '1034.txt', '1849.txt', '459.txt', '866.txt', '1362.txt', '1497.txt', '1112.txt', '84.txt', '1023.txt', '768.txt', '700.txt', '1237.txt', '978.txt', '23.txt', '843.txt', '1268.txt', '297.txt', '479.txt', '945.txt', '139.txt', '25.txt', '279.txt', '968.txt', '471.txt', '1192.txt', '1488.txt', '1273.txt', '388.txt', '1357.txt', '1206.txt', '171.txt', '544.txt', '1748.txt', '408.txt', '1118.txt', '1550.txt', '340.txt', '1792.txt', '594.txt', '1170.txt', '1712.txt', '91.txt', '1801.txt', '774.txt', '541.txt', '735.txt', '1842.txt', '1557.txt', '1365.txt', '559.txt', '812.txt', '1555.txt', '67.txt', '1366.txt', '1616.txt', '62.txt', '1078.txt', '618.txt', '592.txt', '813.txt', '1144.txt', '525.txt', '1415.txt', '640.txt', '858.txt', '48.txt', '773.txt', '1085.txt', '186.txt', '1193.txt', '1677.txt', '1196.txt', '463.txt', '1579.txt', '1363.txt', '500.txt', '481.txt', '1803.txt', '1979.txt', '1173.txt', '588.txt', '1411.txt', '496.txt', '1843.txt', '1698.txt', '247.txt', '869.txt', '970.txt', '1121.txt', '1392.txt', '941.txt', '1594.txt', '533.txt', '1071.txt', '1952.txt', '1058.txt', '922.txt', '791.txt', '1327.txt', '1749.txt', '1047.txt', '809.txt', '1785.txt', '1689.txt', '1775.txt', '757.txt', '57.txt', '92.txt', '1623.txt', '113.txt', '1185.txt', '625.txt', '1833.txt', '1066.txt', '571.txt', '1030.txt', '643.txt', '653.txt', '1281.txt', '754.txt', '275.txt', '364.txt', '351.txt', '886.txt', '165.txt', '1766.txt', '1115.txt', '1879.txt', '1921.txt', '1407.txt', '1422.txt', '295.txt', '1338.txt', '847.txt', '296.txt', '7.txt', '1607.txt', '253.txt', '1786.txt', '118.txt', '1311.txt', '1010.txt', '1812.txt', '1697.txt', '953.txt', '1048.txt', '512.txt', '1592.txt', '251.txt', '590.txt', '1873.txt', '1043.txt', '352.txt', '17.txt', '1176.txt', '1950.txt', '756.txt', '1783.txt', '1635.txt', '1776.txt', '1975.txt', '683.txt', '1930.txt', '50.txt', '208.txt', '1771.txt', '1304.txt', '300.txt', '1990.txt', '612.txt', '217.txt', '1737.txt', '897.txt', '796.txt', '1968.txt', '1038.txt', '258.txt', '213.txt', '148.txt', '518.txt', '1893.txt', '1358.txt', '802.txt', '123.txt', '1780.txt', '654.txt', '817.txt', '1910.txt', '905.txt', '1701.txt', '1400.txt', '1101.txt', '232.txt', '1515.txt', '55.txt', '1388.txt', '873.txt', '432.txt', '94.txt', '836.txt', '1374.txt', '1853.txt', '380.txt', '1279.txt', '52.txt', '1505.txt', '487.txt', '1276.txt', '121.txt', '1624.txt', '1291.txt', '919.txt', '540.txt', '1797.txt', '1129.txt', '764.txt', '108.txt', '1477.txt', '362.txt', '1163.txt', '1421.txt', '958.txt', '1435.txt', '758.txt', '1536.txt', '1851.txt', '1589.txt', '187.txt', '120.txt', '971.txt', '527.txt', '1072.txt', '1762.txt', '1387.txt', '770.txt', '14.txt', '1855.txt', '1079.txt', '36.txt', '38.txt', '1324.txt', '1102.txt', '1394.txt', '1999.txt', '1720.txt', '1664.txt', '1935.txt', '160.txt', '206.txt', '507.txt', '762.txt', '1436.txt', '1044.txt', '1547.txt', '950.txt', '1238.txt', '1832.txt', '1652.txt', '874.txt', '855.txt', '579.txt', '1285.txt', '942.txt', '668.txt', '1918.txt', '1732.txt', '883.txt', '652.txt', '1156.txt', '1095.txt', '261.txt', '369.txt', '1004.txt', '111.txt', '1995.txt', '1874.txt', '1223.txt', '1384.txt', '444.txt', '1612.txt', '542.txt', '1883.txt', '1509.txt', '926.txt', '800.txt', '1382.txt', '966.txt', '951.txt', '888.txt', '501.txt', '1158.txt', '306.txt', '1940.txt', '102.txt', '632.txt', '1278.txt', '472.txt', '646.txt', '1925.txt', '859.txt', '1452.txt', '149.txt', '1269.txt', '1869.txt', '976.txt', '1351.txt', '1105.txt', '769.txt', '557.txt', '1091.txt', '1669.txt', '738.txt', '1602.txt', '759.txt', '1660.txt', '717.txt', '8.txt', '795.txt', '1182.txt', '1501.txt', '11.txt', '427.txt', '1870.txt', '1690.txt', '1093.txt', '1499.txt', '9.txt', '89.txt', '1948.txt', '1969.txt', '1389.txt', '706.txt', '371.txt', '601.txt', '1484.txt', '1817.txt', '1314.txt', '1756.txt', '722.txt', '887.txt', '202.txt', '236.txt', '1342.txt', '825.txt', '1022.txt', '1189.txt', '1385.txt', '259.txt', '1303.txt', '600.txt', '1168.txt', '285.txt', '1806.txt', '1174.txt', '1773.txt', '994.txt', '1552.txt', '1981.txt', '1226.txt', '1598.txt', '436.txt', '238.txt', '334.txt', '1929.txt', '545.txt', '430.txt', '1752.txt', '1377.txt', '90.txt', '1414.txt', '712.txt', '1831.txt', '839.txt', '1663.txt', '448.txt', '1621.txt', '1794.txt', '613.txt', '714.txt', '810.txt', '1190.txt', '1425.txt', '200.txt', '1308.txt', '1665.txt', '1704.txt', '1576.txt', '1065.txt', '1746.txt', '419.txt', '1376.txt', '1466.txt', '876.txt', '1694.txt', '110.txt', '506.txt', '174.txt', '831.txt', '975.txt', '1680.txt', '551.txt', '734.txt', '1460.txt', '53.txt', '1742.txt', '19.txt', '490.txt', '1073.txt', '852.txt', '1253.txt', '695.txt', '686.txt', '1181.txt', '650.txt', '1597.txt', '137.txt', '237.txt', '1559.txt', '497.txt', '998.txt', '454.txt', '567.txt', '1251.txt', '1448.txt', '1355.txt', '348.txt', '394.txt', '1274.txt', '806.txt', '872.txt', '550.txt', '1543.txt', '46.txt', '895.txt', '819.txt', '331.txt', '411.txt', '320.txt', '1432.txt', '608.txt', '1626.txt', '1967.txt', '1431.txt', '513.txt', '1012.txt', '1149.txt', '943.txt', '1069.txt', '239.txt', '475.txt', '1590.txt', '1757.txt', '366.txt', '45.txt', '274.txt', '530.txt', '563.txt', '1453.txt', '1462.txt', '1605.txt', '114.txt', '1060.txt', '827.txt', '1906.txt', '12.txt', '1451.txt', '1347.txt', '1905.txt', '1845.txt', '1844.txt', '1360.txt', '1213.txt', '72.txt', '789.txt', '1289.txt', '531.txt', '1973.txt', '543.txt', '1138.txt', '1018.txt', '464.txt', '13.txt', '634.txt', '1031.txt', '889.txt', '1098.txt', '1729.txt', '1049.txt', '1978.txt', '1502.txt', '43.txt', '1528.txt', '615.txt', '1301.txt', '1919.txt', '823.txt', '268.txt', '429.txt', '1609.txt', '1109.txt', '445.txt', '308.txt', '130.txt', '1965.txt', '1674.txt', '1235.txt', '1470.txt', '241.txt', '1008.txt', '656.txt', '538.txt', '188.txt', '1146.txt', '1006.txt', '1120.txt', '624.txt', '821.txt', '292.txt', '116.txt', '617.txt', '1908.txt', '870.txt', '969.txt', '918.txt', '1683.txt', '1533.txt', '911.txt', '1074.txt', '1331.txt', '703.txt', '0.txt', '266.txt', '980.txt', '1838.txt', '1114.txt', '1412.txt', '1403.txt', '127.txt', '1611.txt', '1651.txt', '1606.txt', '523.txt', '1349.txt', '1446.txt', '375.txt', '78.txt', '1375.txt', '234.txt', '991.txt', '1483.txt', '1370.txt', '1001.txt', '61.txt', '1100.txt', '1655.txt', '1486.txt', '1751.txt', '577.txt', '125.txt', '726.txt', '1160.txt', '1959.txt', '1467.txt', '1161.txt', '1716.txt', '1544.txt', '798.txt', '233.txt', '1284.txt', '772.txt', '1864.txt', '678.txt', '193.txt', '18.txt', '1619.txt', '898.txt', '589.txt', '1529.txt', '505.txt', '1939.txt', '599.txt', '312.txt', '1657.txt', '1487.txt', '1828.txt', '1076.txt', '488.txt', '112.txt', '423.txt', '290.txt', '483.txt', '1649.txt', '265.txt', '1819.txt', '672.txt', '1222.txt', '816.txt', '318.txt', '547.txt', '1818.txt', '665.txt', '99.txt', '1500.txt', '1042.txt', '931.txt', '1802.txt', '1795.txt', '1850.txt', '245.txt', '602.txt', '1141.txt', '1437.txt', '1212.txt', '1017.txt', '1934.txt', '1556.txt', '1770.txt', '438.txt', '1604.txt', '1086.txt', '442.txt', '989.txt', '1244.txt', '311.txt', '534.txt', '660.txt', '864.txt', '981.txt', '1164.txt', '763.txt', '199.txt', '1092.txt', '828.txt', '790.txt', '947.txt', '1261.txt', '142.txt', '829.txt', '1713.txt', '1216.txt', '833.txt', '1521.txt', '412.txt', '702.txt', '1378.txt', '1709.txt', '83.txt', '1972.txt', '1901.txt', '954.txt', '1087.txt', '1717.txt', '416.txt', '573.txt', '1530.txt', '1916.txt', '353.txt', '779.txt', '515.txt', '1298.txt', '493.txt', '1761.txt', '973.txt', '1996.txt', '1267.txt', '228.txt', '1456.txt', '572.txt', '780.txt', '313.txt', '548.txt', '685.txt', '532.txt', '1744.txt', '1685.txt', '1796.txt', '1909.txt', '1332.txt', '29.txt', '170.txt', '220.txt', '508.txt', '1618.txt', '1457.txt', '1836.txt', '1863.txt', '243.txt', '761.txt', '597.txt', '235.txt', '619.txt', '404.txt', '1297.txt', '1356.txt', '39.txt', '1983.txt', '1880.txt', '79.txt', '252.txt', '616.txt', '339.txt', '396.txt', '1205.txt', '603.txt', '299.txt', '147.txt', '289.txt', '291.txt', '42.txt', '486.txt', '1361.txt', '1986.txt', '1478.txt', '1323.txt', '1021.txt', '677.txt', '804.txt', '1541.txt', '1837.txt', '135.txt', '1398.txt', '315.txt', '64.txt', '303.txt', '377.txt', '1774.txt', '1584.txt', '871.txt', '242.txt', '499.txt', '397.txt', '1083.txt', '1963.txt', '1662.txt', '626.txt', '1904.txt', '539.txt', '424.txt', '263.txt', '1110.txt', '1745.txt', '5.txt', '1646.txt', '452.txt', '868.txt', '77.txt', '554.txt', '219.txt', '103.txt', '1020.txt', '1395.txt', '1088.txt', '1653.txt', '276.txt', '1368.txt', '1380.txt', '221.txt', '1627.txt', '691.txt', '661.txt', '1214.txt', '1548.txt', '842.txt', '1857.txt', '504.txt', '560.txt', '658.txt', '1364.txt', '1790.txt', '851.txt', '830.txt', '1722.txt', '916.txt', '1696.txt', '1892.txt', '1553.txt', '1464.txt', '1524.txt', '205.txt', '903.txt', '1371.txt', '489.txt', '1259.txt', '183.txt', '739.txt', '1288.txt', '407.txt', '1444.txt', '1166.txt', '1184.txt', '880.txt', '514.txt', '1902.txt', '965.txt', '1638.txt', '1250.txt', '1942.txt', '190.txt', '1878.txt', '201.txt', '1577.txt', '1885.txt', '1670.txt', '229.txt', '158.txt', '1834.txt', '972.txt', '1199.txt', '1654.txt', '104.txt', '607.txt', '1108.txt', '1721.txt', '535.txt', '1971.txt', '15.txt', '1319.txt', '1128.txt', '286.txt', '337.txt', '1106.txt', '1082.txt', '605.txt', '727.txt', '143.txt', '1430.txt', '733.txt', '1659.txt', '211.txt', '1538.txt', '115.txt', '24.txt', '1769.txt', '1632.txt', '336.txt', '1125.txt', '1728.txt', '203.txt', '138.txt', '40.txt', '1920.txt', '670.txt', '1077.txt', '189.txt', '1636.txt', '1798.txt', '1743.txt', '575.txt', '1177.txt', '372.txt', '367.txt', '1724.txt', '1033.txt', '321.txt', '414.txt', '332.txt', '1679.txt', '184.txt', '1220.txt', '1264.txt', '708.txt', '755.txt', '580.txt', '751.txt', '117.txt', '908.txt', '21.txt', '676.txt', '498.txt', '781.txt', '1958.txt', '1150.txt', '1811.txt', '704.txt', '1059.txt', '846.txt', '458.txt', '342.txt', '1056.txt', '1614.txt', '417.txt', '1928.txt', '1090.txt', '222.txt', '1084.txt', '1256.txt', '69.txt', '1154.txt', '692.txt', '963.txt', '1941.txt', '1240.txt', '923.txt', '74.txt', '1434.txt', '20.txt', '940.txt', '1442.txt', '1439.txt', '805.txt', '856.txt', '1172.txt', '595.txt', '1067.txt', '1641.txt', '1585.txt', '391.txt', '376.txt', '314.txt', '1596.txt', '175.txt', '850.txt', '509.txt', '478.txt', '1977.txt', '6.txt', '1610.txt', '124.txt', '1710.txt', '832.txt', '1982.txt', '1890.txt', '783.txt', '920.txt', '1495.txt', '1270.txt', '1640.txt', '1019.txt', '1221.txt', '811.txt', '254.txt', '282.txt', '674.txt', '1566.txt', '584.txt', '346.txt', '1410.txt', '1162.txt', '356.txt', '1531.txt', '787.txt', '974.txt', '807.txt', '1003.txt', '1956.txt', '1107.txt', '1997.txt', '302.txt', '85.txt', '1822.txt', '1135.txt', '248.txt', '80.txt', '710.txt', '524.txt', '896.txt', '1719.txt', '1420.txt', '1686.txt', '766.txt', '1175.txt', '215.txt', '333.txt', '1546.txt', '693.txt', '1736.txt', '679.txt', '1644.txt', '30.txt', '198.txt', '133.txt', '1898.txt', '901.txt', '1944.txt', '1525.txt', '1692.txt', '1645.txt', '1124.txt', '88.txt', '673.txt', '1900.txt', '1321.txt', '1294.txt', '1613.txt', '1302.txt', '633.txt', '1877.txt', '1945.txt', '1881.txt', '1215.txt', '1217.txt', '718.txt', '778.txt', '131.txt', '81.txt', '637.txt', '255.txt', '1782.txt', '400.txt', '1417.txt', '724.txt', '1998.txt', '878.txt', '1985.txt', '935.txt', '1438.txt', '1450.txt', '47.txt', '1258.txt', '172.txt', '28.txt', '1142.txt', '840.txt', '374.txt', '1011.txt', '1511.txt', '639.txt', '655.txt', '635.txt', '581.txt', '537.txt', '1912.txt', '1399.txt', '140.txt', '1808.txt', '960.txt', '86.txt', '753.txt', '1428.txt', '207.txt', '403.txt', '402.txt', '526.txt', '936.txt', '1119.txt', '1354.txt', '1113.txt', '1661.txt', '1545.txt', '1459.txt', '1272.txt', '684.txt', '309.txt', '1708.txt', '480.txt', '565.txt', '879.txt', '1423.txt', '745.txt', '128.txt', '1866.txt', '1140.txt', '98.txt', '904.txt', '977.txt', '466.txt', '808.txt', '604.txt', '1180.txt', '648.txt', '1781.txt', '281.txt', '1516.txt', '946.txt', '224.txt', '1404.txt', '937.txt', '1127.txt', '324.txt', '1219.txt', '194.txt', '793.txt', '1225.txt', '1013.txt', '1015.txt', '381.txt', '1637.txt', '37.txt', '784.txt', '1265.txt', '955.txt', '1861.txt', '987.txt', '1788.txt', '1465.txt', '1964.txt', '1841.txt', '907.txt', '900.txt', '747.txt', '553.txt', '1896.txt', '1875.txt', '159.txt', '1854.txt', '293.txt', '1046.txt', '216.txt', '623.txt', '136.txt', '638.txt', '71.txt', '586.txt', '457.txt', '1858.txt', '767.txt', '1179.txt', '1551.txt', '1730.txt', '891.txt', '1287.txt', '1479.txt', '939.txt', '845.txt', '155.txt', '1068.txt', '744.txt', '209.txt', '1848.txt', '378.txt', '181.txt', '1888.txt', '697.txt', '41.txt', '1671.txt', '1224.txt', '1603.txt', '1565.txt', '1262.txt', '1359.txt', '1517.txt', '992.txt', '841.txt', '899.txt', '122.txt', '434.txt', '1672.txt', '82.txt', '420.txt', '1588.txt', '413.txt', '49.txt', '1852.txt', '107.txt', '979.txt', '944.txt', '1260.txt', '1738.txt', '995.txt', '1615.txt', '682.txt', '1682.txt', '1094.txt', '1707.txt', '214.txt', '598.txt', '178.txt', '720.txt', '984.txt', '844.txt', '824.txt', '415.txt', '395.txt', '1461.txt', '1568.txt', '1882.txt', '1554.txt', '267.txt', '1911.txt', '1747.txt', '227.txt', '126.txt', '294.txt', '1178.txt', '949.txt', '161.txt', '645.txt', '1826.txt', '1894.txt', '1540.txt', '425.txt', '1471.txt', '570.txt', '1312.txt', '469.txt', '1678.txt', '1991.txt', '1518.txt', '1865.txt', '345.txt', '1474.txt', '270.txt', '244.txt', '132.txt', '1793.txt', '144.txt', '382.txt', '1537.txt', '494.txt', '1949.txt', '70.txt', '885.txt', '1809.txt', '713.txt', '1656.txt', '3.txt', '1131.txt', '861.txt', '1413.txt', '319.txt', '1725.txt', '688.txt', '928.txt', '611.txt', '1658.txt', '1427.txt', '818.txt', '1625.txt', '204.txt', '985.txt', '641.txt', '1691.txt', '721.txt', '699.txt', '409.txt', '461.txt', '771.txt', '393.txt', '467.txt', '801.txt', '1508.txt', '456.txt', '1573.txt', '585.txt', '1753.txt', '1.txt', '330.txt', '743.txt', '1246.txt', '877.txt', '546.txt', '794.txt', '596.txt', '1758.txt', '1947.txt', '60.txt', '1726.txt', '1899.txt', '956.txt', '517.txt', '176.txt', '225.txt', '418.txt', '662.txt', '66.txt', '1052.txt', '1620.txt', '1429.txt', '485.txt', '1735.txt', '22.txt', '1473.txt', '359.txt', '748.txt', '93.txt', '967.txt', '1343.txt', '1040.txt', '1740.txt', '694.txt', '451.txt', '1229.txt', '1520.txt', '1036.txt', '1005.txt', '1293.txt', '1535.txt', '591.txt', '723.txt', '164.txt', '1703.txt', '1340.txt', '87.txt', '857.txt', '997.txt', '1601.txt', '349.txt', '1936.txt', '1840.txt', '1201.txt', '1096.txt', '1992.txt', '357.txt', '536.txt', '328.txt', '1169.txt', '983.txt', '1103.txt', '1922.txt', '1468.txt', '1634.txt', '1706.txt', '1510.txt', '1209.txt', '1814.txt', '1496.txt', '105.txt', '1053.txt', '307.txt', '1405.txt', '4.txt', '1750.txt', '100.txt', '1187.txt', '51.txt', '1816.txt', '520.txt', '1227.txt', '1522.txt', '230.txt', '223.txt', '1700.txt', '1739.txt', '1839.txt', '651.txt', '1681.txt', '1126.txt', '701.txt', '1813.txt', '1824.txt', '1243.txt', '1305.txt', '620.txt', '1198.txt', '1104.txt', '1234.txt', '932.txt', '902.txt', '1241.txt', '1353.txt', '574.txt', '1583.txt', '627.txt', '129.txt', '1266.txt', '1778.txt', '952.txt', '1426.txt', '1498.txt', '990.txt', '1731.txt', '492.txt', '1257.txt', '1705.txt', '145.txt', '277.txt', '231.txt', '803.txt', '1328.txt', '287.txt', '1469.txt', '1923.txt', '410.txt', '1316.txt', '1684.txt', '180.txt', '1741.txt', '1980.txt', '1242.txt', '344.txt', '849.txt', '568.txt', '1236.txt', '323.txt', '894.txt', '383.txt', '1476.txt', '1825.txt', '1143.txt', '666.txt', '284.txt', '1424.txt', '1593.txt', '27.txt', '390.txt', '1296.txt', '737.txt', '1932.txt', '502.txt', '386.txt', '675.txt', '1506.txt', '1675.txt', '1151.txt', '1955.txt', '1984.txt', '101.txt', '389.txt', '1711.txt', '1595.txt', '996.txt', '1523.txt', '1938.txt', '1309.txt', '1443.txt', '1458.txt', '1667.txt', '1249.txt', '606.txt', '1574.txt', '1475.txt', '1123.txt', '1396.txt', '361.txt', '1159.txt', '1026.txt', '1846.txt', '363.txt', '1322.txt', '1275.txt', '1587.txt', '1367.txt', '405.txt', '65.txt', '636.txt', '197.txt', '365.txt', '1148.txt', '815.txt', '927.txt', '392.txt', '1339.txt', '1027.txt', '1379.txt', '476.txt', '1320.txt', '785.txt', '667.txt', '698.txt', '906.txt', '1057.txt', '587.txt', '1290.txt', '934.txt', '776.txt', '468.txt', '153.txt', '1373.txt', '1286.txt', '1203.txt', '1145.txt', '1504.txt', '283.txt', '1876.txt', '669.txt', '1937.txt', '150.txt', '1482.txt', '1317.txt', '680.txt', '582.txt', '1628.txt', '56.txt', '1962.txt', '1534.txt', '516.txt', '689.txt', '1856.txt', '1493.txt', '1569.txt', '1886.txt', '1133.txt', '511.txt', '1563.txt', '644.txt', '775.txt', '1633.txt', '732.txt', '1767.txt', '1859.txt', '621.txt', '1974.txt', '1622.txt', '1463.txt', '1207.txt', '443.txt', '1961.txt', '583.txt', '1699.txt', '814.txt', '249.txt', '455.txt', '26.txt', '610.txt', '325.txt', '95.txt', '152.txt', '1137.txt', '1821.txt', '1891.txt', '358.txt', '1871.txt', '68.txt', '272.txt', '999.txt', '1561.txt', '1804.txt', '326.txt', '1307.txt', '1480.txt', '1254.txt', '1271.txt', '728.txt', '59.txt', '1132.txt', '1232.txt', '1491.txt', '1907.txt', '1416.txt', '2.txt', '1526.txt', '1862.txt', '1784.txt', '1210.txt', '1639.txt', '75.txt', '1860.txt', '614.txt', '529.txt', '1045.txt', '566.txt', '1153.txt', '1889.txt', '1063.txt', '921.txt', '1954.txt', '256.txt', '1868.txt', '1080.txt', '16.txt', '730.txt', '1760.txt', '1352.txt', '1230.txt', '865.txt', '1402.txt', '1558.txt', '826.txt', '1512.txt', '1994.txt', '1884.txt', '1165.txt', '1519.txt', '1966.txt', '1514.txt', '210.txt', '106.txt', '741.txt', '44.txt', '1629.txt', '765.txt', '1318.txt', '1055.txt', '1024.txt', '1050.txt', '925.txt', '854.txt', '609.txt', '316.txt', '1723.txt', '1527.txt', '746.txt', '957.txt', '31.txt', '556.txt', '278.txt', '875.txt', '558.txt', '491.txt', '1070.txt', '260.txt', '35.txt', '1032.txt', '1957.txt', '154.txt', '1116.txt', '647.txt', '1687.txt', '1000.txt', '1586.txt', '892.txt', '385.txt', '1754.txt', '33.txt', '503.txt', '1440.txt', '1800.txt', '631.txt', '890.txt', '437.txt', '938.txt', '1914.txt', '250.txt', '1337.txt', '1231.txt', '629.txt', '169.txt', '1755.txt', '1562.txt', '1688.txt', '1441.txt', '1764.txt', '687.txt', '354.txt', '1089.txt', '1481.txt', '1989.txt', '1976.txt', '350.txt', '1472.txt', '1673.txt', '1943.txt', '166.txt', '1383.txt', '1277.txt', '1867.txt', '1372.txt', '1988.txt', '1897.txt', '450.txt', '441.txt', '1648.txt', '1280.txt', '1449.txt', '398.txt', '1542.txt', '1581.txt', '1247.txt', '622.txt', '1507.txt', '1960.txt', '948.txt', '335.txt', '696.txt', '1369.txt', '853.txt', '1099.txt', '561.txt', '1572.txt', '1727.txt', '742.txt', '884.txt', '446.txt', '1913.txt', '182.txt', '1299.txt', '474.txt', '134.txt', '1134.txt', '1591.txt', '177.txt', '141.txt', '649.txt', '327.txt', '1676.txt', '786.txt', '569.txt', '1946.txt', '1345.txt', '1306.txt', '439.txt', '484.txt', '338.txt', '1931.txt', '329.txt', '822.txt', '552.txt', '959.txt', '1715.txt', '752.txt', '360.txt', '1759.txt', '1014.txt', '1409.txt', '54.txt', '1283.txt', '1779.txt', '1171.txt', '1924.txt', '262.txt', '373.txt', '1549.txt', '657.txt', '370.txt', '863.txt', '924.txt', '1197.txt', '1433.txt', '642.txt', '1097.txt', '1204.txt', '1195.txt', '705.txt', '1489.txt', '711.txt', '1228.txt', '593.txt', '576.txt', '1951.txt', '1580.txt', '709.txt', '355.txt', '725.txt', '1336.txt', '1887.txt', '151.txt', '1062.txt', '1315.txt', '1155.txt', '929.txt', '460.txt', '1390.txt', '820.txt', '731.txt', '264.txt', '1202.txt', '1970.txt', '1805.txt', '1075.txt', '310.txt', '1381.txt', '421.txt', '988.txt', '1835.txt', '96.txt', '1492.txt', '1130.txt', '1117.txt', '1895.txt', '1295.txt', '343.txt', '218.txt', '961.txt', '1631.txt', '671.txt', '1326.txt', '1186.txt', '1081.txt', '1993.txt', '435.txt', '465.txt', '1334.txt', '964.txt', '834.txt', '280.txt', '933.txt', '993.txt', '1200.txt', '1933.txt', '1642.txt', '1335.txt', '1218.txt', '1028.txt', '848.txt', '401.txt', '168.txt', '510.txt', '288.txt', '273.txt', '1025.txt', '1167.txt', '1765.txt', '986.txt', '915.txt', '838.txt', '1035.txt', '1915.txt', '246.txt', '298.txt', '1252.txt', '1418.txt', '1777.txt', '1503.txt', '433.txt', '1650.txt', '715.txt', '862.txt', '521.txt', '982.txt', '34.txt', '1002.txt', '522.txt', '893.txt', '1643.txt', '1647.txt', '782.txt', '1768.txt', '1061.txt', '1341.txt', '428.txt', '305.txt', '185.txt', '1485.txt', '1539.txt', '1987.txt', '1029.txt', '196.txt', '837.txt', '1313.txt', '719.txt', '1009.txt', '1401.txt', '453.txt', '1064.txt', '1393.txt', '1386.txt', '867.txt', '426.txt', '146.txt', '1733.txt', '962.txt', '881.txt', '162.txt', '760.txt']\n"
          ]
        }
      ]
    },
    {
      "cell_type": "code",
      "source": [
        "sample_file = os.path.join(train_dir, \"java\", \"212.txt\")\n",
        "with open(sample_file) as f:\n",
        "  print(f.read())"
      ],
      "metadata": {
        "colab": {
          "base_uri": "https://localhost:8080/"
        },
        "id": "HkgD-wFe41IA",
        "outputId": "53ae4fd0-a603-43d7-f482-711aa6af4bd9"
      },
      "execution_count": 37,
      "outputs": [
        {
          "output_type": "stream",
          "name": "stdout",
          "text": [
            "\"class a keyword or a class? when we create a class class_name, we code:..class class_name.{ .}...is the word class a keyword or it is a class?\"\n",
            "\n"
          ]
        }
      ]
    },
    {
      "cell_type": "code",
      "source": [
        "batch_size = 32\n",
        "seed = 49\n",
        "\n",
        "# Train set\n",
        "raw_train_ds = tf.keras.utils.text_dataset_from_directory(\n",
        "    train_dir, \n",
        "    batch_size=batch_size, \n",
        "    validation_split=0.2, \n",
        "    subset='training', \n",
        "    seed=seed)"
      ],
      "metadata": {
        "colab": {
          "base_uri": "https://localhost:8080/"
        },
        "id": "jZ91hGv-5zzo",
        "outputId": "b0a6716b-247c-46f6-8eaf-c8ea483ca08f"
      },
      "execution_count": 38,
      "outputs": [
        {
          "output_type": "stream",
          "name": "stdout",
          "text": [
            "Found 8000 files belonging to 4 classes.\n",
            "Using 6400 files for training.\n"
          ]
        }
      ]
    },
    {
      "cell_type": "code",
      "source": [
        "for text_batch, label_batch in raw_train_ds.take(1): # Creates a Dataset with at most 1 elements from this dataset.\n",
        "  for i in range(3):\n",
        "    print(i, \"Question\", text_batch.numpy()[i])\n",
        "    print(\"Label\", label_batch.numpy()[i])"
      ],
      "metadata": {
        "colab": {
          "base_uri": "https://localhost:8080/"
        },
        "id": "YtbRrVh26BU7",
        "outputId": "8ad37c9c-ebf7-43df-c054-f6519219edc2"
      },
      "execution_count": 39,
      "outputs": [
        {
          "output_type": "stream",
          "name": "stdout",
          "text": [
            "0 Question b'\"program doesn\\'t see matrix and complex numbers. is that importing library problem? i don\\'t know how to make matrix and complex numbers visible for the program. it is problem with library or bad.there are errors like: name \\'i\\' is not defined or \\'matrix\\'is not defined. thank you in advance for help - i\\'m a total beginner in blank...import cmath.import numpy.a=7.b=-2*i.c=2*i.d=81..a=matrix(qqbar,6,6).for i in range(0,6):.    a[i,0]=a**i.    a[i,1]=b**i.    a[i,2]=c**i.    a[i,3]=d**i.    a[i,4]=d**i*i.    a[i,5]=d**i*i*i.    a[0,6]=7.    a[1,6]=8.    a[2,6]=-7.    a[3,6]=1..print(a)..h=0.k=0..while h &lt;6 and k &lt;7:.    maxelement=0.    for z in range(0,6):.        if abs(a[h,z])&gt;maxelement:.            maxelement=abs(a[h,z]).            i_max=z.            if a[i_max,k]==0:.                k=k+1.            else:.                a.swap_rows(h,i_max).                for y in range(h+1,6):.                    f=a[i,k]/a[h,k].                    a[i,k]=0.                    for j in range(k+1,7):.                        a[i,j]=a[i,j]-a[h,j]*f.                    print(a).                h=h+1.                k=k+1.for i in range(1,6):.    for j in range(0,i):.        multiply=-a[j,i]/a[i,i].        a.add_multiple_of_row(j,i,multiply).        print(a)..x1=a[0,6]/a[0,0]..print(x1)\"\\n'\n",
            "Label 3\n",
            "1 Question b'\"getting test case run time error im working on this question(not homework).given a list of unsorted integers,a = {a1, a2, ...,an) can you find the pair of elements that have the smallest absolute difference between them? if there are multiple pairs, find them all...this is what i came up with:..num = int(input()).array = [int(x) for x in input().split()].diff = [].for i in range(len(array)):.    for j in array:.        diff.append(array[i]- j)..total = [].for i in diff:.    if i &gt; 0:.        total.append(i)..grail = min(total).holy = [].for i in range(len(array)):.     for j in array:.        if ((array[i] - j) == grail):.            holy.append(array[i]) .            holy.append(j)..final = sorted(holy).for item in final:.    print(item, end = \\' \\')...this runs for few cases but gets runtime error on large inputs,any suggestion i might try?..ex:..input = [-20 -3916237 -357920 -3620601 7374819 -7330761 30 6246457 -6461594 266854 -520 -470 ]..output = -520 -470 -20 30...explanation = (-470) - (-520) = 30 - (-20) = 50, which is the smallest difference...thanks in advance\"\\n'\n",
            "Label 3\n",
            "2 Question b'\"enum in propertygrid - simple custom sort order i have an enum and i want to customize the order it appears in the drop-down of a property grid...public enum dir : int.{.   none = 0,.   north = (1 &lt;&lt; 1),.   south = (1 &lt;&lt; 2),.   east = (1 &lt;&lt; 3),.   west = (1 &lt;&lt; 4),.   northwest = north | west,.   northeast = north | east,.   southwest = south | west,.   southeast = south | east.} ...i want the drop-down to appear in the same order as i have declared the enum, but instead it sorts into numerical order...i know it\\'s possible to do with a type converter, but is it possible to do it without?\"\\n'\n",
            "Label 0\n"
          ]
        }
      ]
    },
    {
      "cell_type": "code",
      "source": [
        "print(f\"Label 0 corresponds to {raw_train_ds.class_names[0]}\")\n",
        "print(f\"Label 1 corresponds to {raw_train_ds.class_names[1]}\")\n",
        "print(f\"Label 2 corresponds to {raw_train_ds.class_names[2]}\")\n",
        "print(f\"Label 3 corresponds to {raw_train_ds.class_names[3]}\")"
      ],
      "metadata": {
        "colab": {
          "base_uri": "https://localhost:8080/"
        },
        "id": "5mPwnU_i6My6",
        "outputId": "661bb859-e599-4f8a-aeb3-1bb40628ff2c"
      },
      "execution_count": 40,
      "outputs": [
        {
          "output_type": "stream",
          "name": "stdout",
          "text": [
            "Label 0 corresponds to csharp\n",
            "Label 1 corresponds to java\n",
            "Label 2 corresponds to javascript\n",
            "Label 3 corresponds to python\n"
          ]
        }
      ]
    },
    {
      "cell_type": "code",
      "source": [
        "import numpy as np\n",
        "\n",
        "# Number of examples for each class in the batch\n",
        "for text_batch, label_batch in raw_train_ds.take(1):\n",
        "  count_labels = np.bincount(label_batch.numpy())\n",
        "  print(count_labels)"
      ],
      "metadata": {
        "colab": {
          "base_uri": "https://localhost:8080/"
        },
        "id": "BGsG0stA6Yp1",
        "outputId": "974f6076-aba4-4e51-8bc0-c75f61bc3ec6"
      },
      "execution_count": 41,
      "outputs": [
        {
          "output_type": "stream",
          "name": "stdout",
          "text": [
            "[ 8  9  4 11]\n"
          ]
        }
      ]
    },
    {
      "cell_type": "code",
      "source": [
        "# Validation set\n",
        "raw_val_ds = tf.keras.utils.text_dataset_from_directory(\n",
        "    train_dir, \n",
        "    batch_size=batch_size, \n",
        "    validation_split=0.2, \n",
        "    subset='validation', \n",
        "    seed=seed)"
      ],
      "metadata": {
        "colab": {
          "base_uri": "https://localhost:8080/"
        },
        "id": "s57TE67j7dDX",
        "outputId": "d1d491ce-1a30-4454-825c-c0f4e6857876"
      },
      "execution_count": 42,
      "outputs": [
        {
          "output_type": "stream",
          "name": "stdout",
          "text": [
            "Found 8000 files belonging to 4 classes.\n",
            "Using 1600 files for validation.\n"
          ]
        }
      ]
    },
    {
      "cell_type": "code",
      "source": [
        "# Test set\n",
        "test_dir = os.path.join(dataset_dir, 'test')\n",
        "\n",
        "raw_test_ds = tf.keras.utils.text_dataset_from_directory(\n",
        "    test_dir, \n",
        "    batch_size=batch_size)"
      ],
      "metadata": {
        "colab": {
          "base_uri": "https://localhost:8080/"
        },
        "id": "j_ES2SnZ7oZ1",
        "outputId": "318d7699-2302-4da0-d7a6-ba1fbc8150af"
      },
      "execution_count": 43,
      "outputs": [
        {
          "output_type": "stream",
          "name": "stdout",
          "text": [
            "Found 8000 files belonging to 4 classes.\n"
          ]
        }
      ]
    },
    {
      "cell_type": "code",
      "source": [
        "max_features = 10000\n",
        "sequence_length = 250\n",
        "\n",
        "vectorize_layer = layers.TextVectorization(\n",
        "    standardize=custom_standardization,\n",
        "    max_tokens=max_features,\n",
        "    output_mode='int',\n",
        "    output_sequence_length=sequence_length)"
      ],
      "metadata": {
        "id": "h0YF3ney8AHN"
      },
      "execution_count": 44,
      "outputs": []
    },
    {
      "cell_type": "code",
      "source": [
        "train_data = raw_train_ds.map(lambda x, y: x)\n",
        "vectorize_layer.adapt(train_data)"
      ],
      "metadata": {
        "id": "2k53ismi8D_1"
      },
      "execution_count": 45,
      "outputs": []
    },
    {
      "cell_type": "code",
      "source": [
        "train_data = raw_train_ds.map(vectorize_text)\n",
        "val_data = raw_val_ds.map(vectorize_text)\n",
        "test_data = raw_test_ds.map(vectorize_text)"
      ],
      "metadata": {
        "id": "KJ8Pfu-r8nyz"
      },
      "execution_count": 46,
      "outputs": []
    },
    {
      "cell_type": "code",
      "source": [
        "embedding_dim = 32\n",
        "\n",
        "model = tf.keras.Sequential([\n",
        "  layers.Embedding(max_features + 1, embedding_dim),\n",
        "  layers.Dropout(0.2),\n",
        "  layers.GlobalAveragePooling1D(),\n",
        "  layers.Dropout(0.2),\n",
        "  layers.Dense(4)])\n",
        "\n",
        "model.summary()"
      ],
      "metadata": {
        "colab": {
          "base_uri": "https://localhost:8080/"
        },
        "id": "hDxHvD3s8M2K",
        "outputId": "a4dfc88a-7e14-4497-e2bb-36541094970b"
      },
      "execution_count": 61,
      "outputs": [
        {
          "output_type": "stream",
          "name": "stdout",
          "text": [
            "Model: \"sequential_4\"\n",
            "_________________________________________________________________\n",
            " Layer (type)                Output Shape              Param #   \n",
            "=================================================================\n",
            " embedding_3 (Embedding)     (None, None, 32)          320032    \n",
            "                                                                 \n",
            " dropout_6 (Dropout)         (None, None, 32)          0         \n",
            "                                                                 \n",
            " global_average_pooling1d_3   (None, 32)               0         \n",
            " (GlobalAveragePooling1D)                                        \n",
            "                                                                 \n",
            " dropout_7 (Dropout)         (None, 32)                0         \n",
            "                                                                 \n",
            " dense_3 (Dense)             (None, 4)                 132       \n",
            "                                                                 \n",
            "=================================================================\n",
            "Total params: 320,164\n",
            "Trainable params: 320,164\n",
            "Non-trainable params: 0\n",
            "_________________________________________________________________\n"
          ]
        }
      ]
    },
    {
      "cell_type": "code",
      "source": [
        "model.compile(loss=losses.SparseCategoricalCrossentropy(from_logits=True),\n",
        "              optimizer='adam',\n",
        "              metrics=[\"accuracy\"])"
      ],
      "metadata": {
        "id": "65FSsXLF8aIN"
      },
      "execution_count": 62,
      "outputs": []
    },
    {
      "cell_type": "code",
      "source": [
        "epochs = 20\n",
        "history = model.fit(\n",
        "    train_data,\n",
        "    validation_data=val_data,\n",
        "    epochs=epochs)"
      ],
      "metadata": {
        "colab": {
          "base_uri": "https://localhost:8080/"
        },
        "id": "x_QG3LF58hxn",
        "outputId": "e12c0769-f8d1-4f9f-a460-80961aa04c05"
      },
      "execution_count": 63,
      "outputs": [
        {
          "output_type": "stream",
          "name": "stdout",
          "text": [
            "Epoch 1/20\n",
            "200/200 [==============================] - 3s 15ms/step - loss: 1.3735 - accuracy: 0.3564 - val_loss: 1.3569 - val_accuracy: 0.4588\n",
            "Epoch 2/20\n",
            "200/200 [==============================] - 2s 12ms/step - loss: 1.3217 - accuracy: 0.4938 - val_loss: 1.2933 - val_accuracy: 0.5069\n",
            "Epoch 3/20\n",
            "200/200 [==============================] - 3s 13ms/step - loss: 1.2306 - accuracy: 0.5611 - val_loss: 1.2018 - val_accuracy: 0.5819\n",
            "Epoch 4/20\n",
            "200/200 [==============================] - 3s 16ms/step - loss: 1.1247 - accuracy: 0.6239 - val_loss: 1.1088 - val_accuracy: 0.6544\n",
            "Epoch 5/20\n",
            "200/200 [==============================] - 2s 12ms/step - loss: 1.0223 - accuracy: 0.6878 - val_loss: 1.0239 - val_accuracy: 0.6963\n",
            "Epoch 6/20\n",
            "200/200 [==============================] - 2s 12ms/step - loss: 0.9330 - accuracy: 0.7294 - val_loss: 0.9501 - val_accuracy: 0.7212\n",
            "Epoch 7/20\n",
            "200/200 [==============================] - 2s 12ms/step - loss: 0.8520 - accuracy: 0.7591 - val_loss: 0.8880 - val_accuracy: 0.7287\n",
            "Epoch 8/20\n",
            "200/200 [==============================] - 2s 12ms/step - loss: 0.7871 - accuracy: 0.7745 - val_loss: 0.8348 - val_accuracy: 0.7494\n",
            "Epoch 9/20\n",
            "200/200 [==============================] - 3s 12ms/step - loss: 0.7280 - accuracy: 0.7930 - val_loss: 0.7915 - val_accuracy: 0.7644\n",
            "Epoch 10/20\n",
            "200/200 [==============================] - 2s 12ms/step - loss: 0.6790 - accuracy: 0.8091 - val_loss: 0.7535 - val_accuracy: 0.7800\n",
            "Epoch 11/20\n",
            "200/200 [==============================] - 2s 12ms/step - loss: 0.6393 - accuracy: 0.8233 - val_loss: 0.7221 - val_accuracy: 0.7844\n",
            "Epoch 12/20\n",
            "200/200 [==============================] - 2s 11ms/step - loss: 0.6001 - accuracy: 0.8323 - val_loss: 0.6974 - val_accuracy: 0.7919\n",
            "Epoch 13/20\n",
            "200/200 [==============================] - 2s 12ms/step - loss: 0.5669 - accuracy: 0.8391 - val_loss: 0.6719 - val_accuracy: 0.8006\n",
            "Epoch 14/20\n",
            "200/200 [==============================] - 2s 12ms/step - loss: 0.5338 - accuracy: 0.8497 - val_loss: 0.6551 - val_accuracy: 0.7994\n",
            "Epoch 15/20\n",
            "200/200 [==============================] - 2s 12ms/step - loss: 0.5057 - accuracy: 0.8622 - val_loss: 0.6372 - val_accuracy: 0.8044\n",
            "Epoch 16/20\n",
            "200/200 [==============================] - 2s 12ms/step - loss: 0.4797 - accuracy: 0.8714 - val_loss: 0.6211 - val_accuracy: 0.8075\n",
            "Epoch 17/20\n",
            "200/200 [==============================] - 2s 12ms/step - loss: 0.4575 - accuracy: 0.8788 - val_loss: 0.6109 - val_accuracy: 0.8056\n",
            "Epoch 18/20\n",
            "200/200 [==============================] - 2s 12ms/step - loss: 0.4362 - accuracy: 0.8833 - val_loss: 0.5970 - val_accuracy: 0.8106\n",
            "Epoch 19/20\n",
            "200/200 [==============================] - 2s 12ms/step - loss: 0.4137 - accuracy: 0.8919 - val_loss: 0.5888 - val_accuracy: 0.8044\n",
            "Epoch 20/20\n",
            "200/200 [==============================] - 2s 12ms/step - loss: 0.3958 - accuracy: 0.8941 - val_loss: 0.5808 - val_accuracy: 0.8012\n"
          ]
        }
      ]
    },
    {
      "cell_type": "code",
      "source": [
        "loss, accuracy = model.evaluate(test_data)\n",
        "\n",
        "print(\"Loss: \", loss)\n",
        "print(\"Accuracy: \", accuracy)"
      ],
      "metadata": {
        "colab": {
          "base_uri": "https://localhost:8080/"
        },
        "id": "kfzvrFhs8xq1",
        "outputId": "5519a23d-15d0-41e9-d868-3b3d337a270d"
      },
      "execution_count": 64,
      "outputs": [
        {
          "output_type": "stream",
          "name": "stdout",
          "text": [
            "250/250 [==============================] - 2s 9ms/step - loss: 0.5812 - accuracy: 0.7881\n",
            "Loss:  0.5812103748321533\n",
            "Accuracy:  0.7881249785423279\n"
          ]
        }
      ]
    },
    {
      "cell_type": "code",
      "source": [
        "history_dict = history.history\n",
        "history_dict.keys()"
      ],
      "metadata": {
        "colab": {
          "base_uri": "https://localhost:8080/"
        },
        "id": "qjDEm8oF8_bo",
        "outputId": "a7fa6ba8-49a5-4f3b-b292-4157a8a61494"
      },
      "execution_count": 65,
      "outputs": [
        {
          "output_type": "execute_result",
          "data": {
            "text/plain": [
              "dict_keys(['loss', 'accuracy', 'val_loss', 'val_accuracy'])"
            ]
          },
          "metadata": {},
          "execution_count": 65
        }
      ]
    },
    {
      "cell_type": "code",
      "source": [
        "acc = history_dict['accuracy']\n",
        "val_acc = history_dict['val_accuracy']\n",
        "loss = history_dict['loss']\n",
        "val_loss = history_dict['val_loss']\n",
        "\n",
        "epochs = range(1, len(acc) + 1)\n",
        "\n",
        "# \"bo\" is for \"blue dot\"\n",
        "plt.plot(epochs, loss, 'bo', label='Training loss')\n",
        "# b is for \"solid blue line\"\n",
        "plt.plot(epochs, val_loss, 'b', label='Validation loss')\n",
        "plt.title('Training and validation loss')\n",
        "plt.xlabel('Epochs')\n",
        "plt.ylabel('Loss')\n",
        "plt.legend()\n",
        "\n",
        "plt.show()"
      ],
      "metadata": {
        "colab": {
          "base_uri": "https://localhost:8080/",
          "height": 295
        },
        "id": "0AOT8Fvj9D9k",
        "outputId": "8533d97d-2739-4042-a13c-57c4d2e86ee8"
      },
      "execution_count": 66,
      "outputs": [
        {
          "output_type": "display_data",
          "data": {
            "text/plain": [
              "<Figure size 432x288 with 1 Axes>"
            ],
            "image/png": "[encoded data removed]"
          },
          "metadata": {
            "needs_background": "light"
          }
        }
      ]
    },
    {
      "cell_type": "code",
      "source": [
        "plt.plot(epochs, acc, 'bo', label='Training acc')\n",
        "plt.plot(epochs, val_acc, 'b', label='Validation acc')\n",
        "plt.title('Training and validation accuracy')\n",
        "plt.xlabel('Epochs')\n",
        "plt.ylabel('Accuracy')\n",
        "plt.legend(loc='lower right')\n",
        "\n",
        "plt.show()"
      ],
      "metadata": {
        "colab": {
          "base_uri": "https://localhost:8080/",
          "height": 295
        },
        "id": "z79guduj9Fy6",
        "outputId": "5c1535ba-ab07-41b3-f915-9bea7ab5b2e8"
      },
      "execution_count": 67,
      "outputs": [
        {
          "output_type": "display_data",
          "data": {
            "text/plain": [
              "<Figure size 432x288 with 1 Axes>"
            ],
            "image/png": "[encoded data removed]"
          },
          "metadata": {
            "needs_background": "light"
          }
        }
      ]
    }
  ]
}