{
  "nbformat": 4,
  "nbformat_minor": 0,
  "metadata": {
    "colab": {
      "name": "Nayve_Bayes_for_WSD_Dascalescu_Dana.ipynb",
      "provenance": [],
      "collapsed_sections": []
    },
    "kernelspec": {
      "name": "python3",
      "display_name": "Python 3"
    },
    "language_info": {
      "name": "python"
    }
  },
  "cells": [
    {
      "cell_type": "code",
      "execution_count": 1,
      "metadata": {
        "colab": {
          "base_uri": "https://localhost:8080/"
        },
        "id": "EYgN4CYqXuQQ",
        "outputId": "5f64394b-f886-4dd7-8046-993200be38a7"
      },
      "outputs": [
        {
          "output_type": "stream",
          "name": "stdout",
          "text": [
            "[nltk_data] Downloading package senseval to /root/nltk_data...\n",
            "[nltk_data]   Package senseval is already up-to-date!\n",
            "[nltk_data] Downloading package stopwords to /root/nltk_data...\n",
            "[nltk_data]   Package stopwords is already up-to-date!\n"
          ]
        },
        {
          "output_type": "execute_result",
          "data": {
            "text/plain": [
              "True"
            ]
          },
          "metadata": {},
          "execution_count": 1
        }
      ],
      "source": [
        "import nltk\n",
        "nltk.download('senseval')\n",
        "nltk.download('stopwords')"
      ]
    },
    {
      "cell_type": "code",
      "source": [
        "from functools import reduce\n",
        "from collections import defaultdict\n",
        "\n",
        "import random\n",
        "import numpy as np\n",
        "import pandas as pd\n",
        "\n",
        "from nltk.corpus import senseval\n",
        "\n",
        "from sklearn.model_selection import train_test_split\n",
        "from sklearn.metrics import accuracy_score, confusion_matrix\n",
        "\n",
        "import matplotlib.pyplot as plt\n",
        "import seaborn as sns"
      ],
      "metadata": {
        "id": "PmZQyhaFyHQu"
      },
      "execution_count": 2,
      "outputs": []
    },
    {
      "cell_type": "code",
      "source": [
        "STOPWORDS_SET = set(nltk.corpus.stopwords.words('english'))"
      ],
      "metadata": {
        "id": "rpHhBji2snVL"
      },
      "execution_count": 3,
      "outputs": []
    },
    {
      "cell_type": "code",
      "source": [
        "line_instances = senseval.instances('line.pos')\n",
        "hard_instances = senseval.instances('hard.pos')\n",
        "serve_instances = senseval.instances('serve.pos')\n",
        "interest_instances = senseval.instances('interest.pos')"
      ],
      "metadata": {
        "id": "o4Dsm9pYzJcD"
      },
      "execution_count": 4,
      "outputs": []
    },
    {
      "cell_type": "code",
      "source": [
        "def senses(word):\n",
        "    \"\"\"\n",
        "      Arguments:\n",
        "        - word: target word - string\n",
        "      Returns:\n",
        "        - list of possiblle senses of the target word `word` from senseval-2 Corpus\n",
        "    \"\"\"\n",
        "    return list(set(i.senses[0] for i in senseval.instances(word + '.pos')))"
      ],
      "metadata": {
        "id": "2vZt8Oqazt-m"
      },
      "execution_count": 5,
      "outputs": []
    },
    {
      "cell_type": "markdown",
      "source": [
        "Senses (class labels) of the target word *line*:"
      ],
      "metadata": {
        "id": "ppKOHIQu2Ybo"
      }
    },
    {
      "cell_type": "code",
      "source": [
        "line_senses = senses('line')\n",
        "line_senses.sort()\n",
        "line_senses"
      ],
      "metadata": {
        "colab": {
          "base_uri": "https://localhost:8080/"
        },
        "id": "GpJIteMm0uv-",
        "outputId": "8f55af31-758d-4732-9bb3-3f7e2e334707"
      },
      "execution_count": 6,
      "outputs": [
        {
          "output_type": "execute_result",
          "data": {
            "text/plain": [
              "['cord', 'division', 'formation', 'phone', 'product', 'text']"
            ]
          },
          "metadata": {},
          "execution_count": 6
        }
      ]
    },
    {
      "cell_type": "markdown",
      "source": [
        "Senses (class labels) of the target word *hard*:"
      ],
      "metadata": {
        "id": "BtTilLtP2s3D"
      }
    },
    {
      "cell_type": "code",
      "source": [
        "hard_senses = senses('hard')\n",
        "hard_senses.sort()\n",
        "hard_senses"
      ],
      "metadata": {
        "colab": {
          "base_uri": "https://localhost:8080/"
        },
        "id": "v4SvOVNB0x5i",
        "outputId": "614a98c7-28ef-46de-b1f7-93519963fc0e"
      },
      "execution_count": 7,
      "outputs": [
        {
          "output_type": "execute_result",
          "data": {
            "text/plain": [
              "['HARD1', 'HARD2', 'HARD3']"
            ]
          },
          "metadata": {},
          "execution_count": 7
        }
      ]
    },
    {
      "cell_type": "markdown",
      "source": [
        "Senses (class labels) of the target word *serve*:"
      ],
      "metadata": {
        "id": "--SF7Tp-2uzJ"
      }
    },
    {
      "cell_type": "code",
      "source": [
        "serve_senses = senses('serve')\n",
        "serve_senses.sort()\n",
        "serve_senses"
      ],
      "metadata": {
        "colab": {
          "base_uri": "https://localhost:8080/"
        },
        "id": "a4YaAAuO01do",
        "outputId": "48986cc3-6bb8-4f06-844d-d1a183e10e09"
      },
      "execution_count": 8,
      "outputs": [
        {
          "output_type": "execute_result",
          "data": {
            "text/plain": [
              "['SERVE10', 'SERVE12', 'SERVE2', 'SERVE6']"
            ]
          },
          "metadata": {},
          "execution_count": 8
        }
      ]
    },
    {
      "cell_type": "markdown",
      "source": [
        "Senses (class labels) of the target word *interest*:"
      ],
      "metadata": {
        "id": "n6uI8r432w9Z"
      }
    },
    {
      "cell_type": "code",
      "source": [
        "interest_senses = senses('interest')\n",
        "interest_senses.sort()\n",
        "interest_senses"
      ],
      "metadata": {
        "colab": {
          "base_uri": "https://localhost:8080/"
        },
        "id": "SGGosSPs03uY",
        "outputId": "0c290ee0-7b54-4c42-bb81-d7f6795a9f72"
      },
      "execution_count": 9,
      "outputs": [
        {
          "output_type": "execute_result",
          "data": {
            "text/plain": [
              "['interest_1',\n",
              " 'interest_2',\n",
              " 'interest_3',\n",
              " 'interest_4',\n",
              " 'interest_5',\n",
              " 'interest_6']"
            ]
          },
          "metadata": {},
          "execution_count": 9
        }
      ]
    },
    {
      "cell_type": "code",
      "source": [
        "for idx, instance in enumerate(line_instances[:500]):\n",
        "  if idx % 25 == 0:\n",
        "    pos = instance.position\n",
        "    left_context = ' '.join(w for (w,_) in instance.context[pos-7:pos])\n",
        "    word = instance.context[pos][0]\n",
        "    right_context = ' '.join(w for (w,_) in instance.context[pos+1:pos+8])\n",
        "    senses = ' '.join(instance.senses)\n",
        "\n",
        "    print('%25s | %5s | %25s -> %s' % (left_context, word, right_context, senses))"
      ],
      "metadata": {
        "colab": {
          "base_uri": "https://localhost:8080/"
        },
        "id": "jaOuV_lZ3EEM",
        "outputId": "ebe227b2-eb4f-41ca-d6aa-c268d28d8e73"
      },
      "execution_count": 10,
      "outputs": [
        {
          "output_type": "stream",
          "name": "stdout",
          "text": [
            "suggestion that the company install special safety | lines | inside the a-frame structure it was building -> cord\n",
            "company makes glass-fiber pleasure boats , monofilament | lines |            and antennas . -> cord\n",
            "carlos turned his back and rebaited his |  line |                         . -> cord\n",
            ". instead , a series of harp-like | lines | were secured from the top of the -> cord\n",
            "making short portages and letting down with | lines |                         . -> cord\n",
            "once he felt a tug on his |  line |                         . -> cord\n",
            "bait on the hooks dangling from the | lines |    of the fishing poles . -> cord\n",
            "swing out to the ends of our | lines |    as if we were flying . -> cord\n",
            "\" he cried , reeling in his |  line |                         . -> cord\n",
            "her wash of many colors on the |  line | a shirt , another shirt , overalls -> cord\n",
            "\" men struggled to position the heavy |  line | ; once more the capstan clanked its -> cord\n",
            "white pennants and hoisted them on a |  line | fastened to the protruding periscope head . -> cord\n",
            "exercise , so we rigged up a |  line | between two trees about 40 feet apart -> cord\n",
            "the waves subjected it . if that |  line | should part , everything else , including -> cord\n",
            ". jesse stood up and took the | lines |             from george . -> cord\n",
            "service \" that would cut across traditional | lines |   of military authority . -> division\n",
            "either . in light of the blurred |  line | between the banking and securities industries , -> division\n",
            ", may be about to cross the |  line | between writing history and making it . -> division\n",
            "substantial number of political districts along racial | lines | has gone virtually unnoticed by congress and -> division\n",
            "    \" it 's a fine , fine |  line |   you 've got to walk , \" -> division\n"
          ]
        }
      ]
    },
    {
      "cell_type": "code",
      "source": [
        "for idx, instance in enumerate(hard_instances[:500]):\n",
        "  if idx % 25 == 0:\n",
        "    pos = instance.position\n",
        "    left_context = ' '.join(w for (w,_) in instance.context[pos-7:pos])\n",
        "    word = instance.context[pos][0]\n",
        "    right_context = ' '.join(w for (w,_) in instance.context[pos+1:pos+8])\n",
        "    senses = ' '.join(instance.senses)\n",
        "\n",
        "    print('%25s | %5s | %25s -> %s' % (left_context, word, right_context, senses))"
      ],
      "metadata": {
        "colab": {
          "base_uri": "https://localhost:8080/"
        },
        "id": "ikfFqCSy54Ob",
        "outputId": "285ff6ce-336e-488b-d9a1-31a9ab11c9bb"
      },
      "execution_count": 11,
      "outputs": [
        {
          "output_type": "stream",
          "name": "stdout",
          "text": [
            "him to defeat him and that 's |  hard |                to do . '' -> HARD1\n",
            "you run by yourself , it 's |  hard |     to get motivated . '' -> HARD1\n",
            "are different and the choice is far | harder |                         . -> HARD1\n",
            "                          |  hard | to rest him , but when you -> HARD1\n",
            "                          |  hard | to know which psychological complex -- the -> HARD1\n",
            "                          |  hard |    to get used to , but i -> HARD1\n",
            "says , `` and that 's really |  hard | to do when you 're on your -> HARD1\n",
            "                        a |  hard |                   match . -> HARD1\n",
            "                          |  hard | to build consistency when players come and -> HARD1\n",
            "                          |  hard | to feel sorry for brown and his -> HARD1\n",
            "backup performer , that makes it doubly |  hard |          to choose them . -> HARD1\n",
            "                          |  hard | , because they ask me to do -> HARD1\n",
            "steps companies are taking to deal with | harder |          economic times . -> HARD1\n",
            "such stocks , but it is not |  hard | to spot rallies among stocks that had -> HARD1\n",
            "                          |  hard | for me to answer , \" moss -> HARD1\n",
            "-- eyeing expansion , it 's not |  hard | to imagine a day in the far -> HARD1\n",
            "                          |  hard | to believe that , according to recent -> HARD1\n",
            "refusing to extend credit because it 's |  hard | to take off the personal hat and -> HARD1\n",
            "but i came back and that 's |  hard |            , \" she adds . -> HARD1\n",
            "ways than the back problem , but | harder | in other ways , \" montana said -> HARD1\n"
          ]
        }
      ]
    },
    {
      "cell_type": "code",
      "source": [
        "for idx, instance in enumerate(serve_instances[:500]):\n",
        "  if idx % 25 == 0:\n",
        "    pos = instance.position\n",
        "    left_context = ' '.join(w for (w,_) in instance.context[pos-7:pos])\n",
        "    word = instance.context[pos][0]\n",
        "    right_context = ' '.join(w for (w,_) in instance.context[pos+1:pos+8])\n",
        "    senses = ' '.join(instance.senses)\n",
        "\n",
        "    print('%25s | %5s | %25s -> %s' % (left_context, word, right_context, senses))"
      ],
      "metadata": {
        "colab": {
          "base_uri": "https://localhost:8080/"
        },
        "id": "tnQoqHqD5-Ui",
        "outputId": "392ee848-9676-43be-85f8-5be34db760ce"
      },
      "execution_count": 12,
      "outputs": [
        {
          "output_type": "stream",
          "name": "stdout",
          "text": [
            "sweet fruit , it seems wiser to | serve | it plain with a good sharp cheese -> SERVE10\n",
            "top with slices of the meat . | serve | with boiled potatoes steamed dry , hot -> SERVE10\n",
            "my carriage and horses . don 't | serve | the dinner till seven o 'clock . -> SERVE10\n",
            "minutes . remove from the oven and | serve |              piping hot . -> SERVE10\n",
            "eaten at the start are quite correctly | served |      in their open tins . -> SERVE10\n",
            "browned potatoes and yorkshire pudding you might | serve |         rosemary butter . -> SERVE10\n",
            "tablespoon chopped parsley , and just before | serving | add the 2 chopped hard-boiled eggs . -> SERVE10\n",
            ". red carpets were spread and champagne | served | underground to visiting notables . -> SERVE10\n",
            "put back in place . meals were | served | punctually and all the children were expected -> SERVE10\n",
            "way into a greek 's where they | served | both liquor and ice cream . -> SERVE10\n",
            "   ( 15 -- 20 minutes ) . | serve | wrapped in a napkin to retain heat -> SERVE10\n",
            "for large mold , 4 hours . | serve | hot with or without custard sauce . -> SERVE10\n",
            "is most often a boned stuffed chicken | served | only with fruit salad . \" filipinos -> SERVE10\n",
            "'s more , \" the giant blueberries | served | in ritzy hotels and restaurants are puny -> SERVE10\n",
            "sold out by the time he was | served |                         . -> SERVE10\n",
            "sugar after you turn the pineapple . | serve | plain or flavored with a little rum -> SERVE10\n",
            "down on cake plate or rack . | serve |            warm or cold . -> SERVE10\n",
            "again . the colonel 's breakfast was | served | to him in the same dingy and -> SERVE10\n",
            "don 't let it stand around before | serving | . it must be served cold . -> SERVE10\n",
            "                          | serve | in a big bowl with arrangements to -> SERVE10\n"
          ]
        }
      ]
    },
    {
      "cell_type": "code",
      "source": [
        "for idx, instance in enumerate(interest_instances[:500]):\n",
        "  if idx % 25 == 0:\n",
        "    pos = instance.position\n",
        "    left_context = ' '.join(w for (w,_) in instance.context[pos-7:pos])\n",
        "    word = instance.context[pos][0]\n",
        "    right_context = ' '.join(w for (w,_) in instance.context[pos+1:pos+8])\n",
        "    senses = ' '.join(instance.senses)\n",
        "\n",
        "    print('%25s | %5s | %25s -> %s' % (left_context, word, right_context, senses))"
      ],
      "metadata": {
        "colab": {
          "base_uri": "https://localhost:8080/"
        },
        "id": "ZzIuwe4_6HG_",
        "outputId": "f3398a7b-b7d1-44b2-bac8-ac0a1a81a1d9"
      },
      "execution_count": 13,
      "outputs": [
        {
          "output_type": "stream",
          "name": "stdout",
          "text": [
            "that portfolio managers expect further declines in | interest |                   rates . -> interest_6\n",
            "   . : `` we have a great | interest | in making investments , particularly in new -> interest_1\n",
            "its common stock to the mcalpine family | interests |    , for $ 1 million , or -> interest_5\n",
            "the judge 's loan , lowered its | interest | rate and accepted a trade-in that had -> interest_6\n",
            "totally different '' from problems in the | interest |       rate options unit . -> interest_6\n",
            "just days before the federal reserve raised | interest | rates , ibm offered $ 1 billion -> interest_6\n",
            "                          | interest | that nyu is host to the first -> interest_1\n",
            "cray research will retain a 10 % | interest | in the new company , which will -> interest_5\n",
            "emphasizing financial flows in response to high | interest |                   rates . -> interest_6\n",
            "it would not be in the best | interest | of cbs news to comment on a -> interest_4\n",
            ", apparently stems from japanese investors ' | interest | in buying dollars against the yen to -> interest_1\n",
            "about $ 2 million a year in | interest |                 expense . -> interest_6\n",
            "market , that might create some investor | interest |      in precious metals . -> interest_1\n",
            "                          | interests | outweighed the * interests of the copyright -> interest_4\n",
            "whose total return ( bond-price changes plus | interest | ) has amounted to a negative 6 -> interest_6\n",
            "to cover its fixed charges , including | interest | on debt securities , '' by approximately -> interest_6\n",
            "while the student was in school , | interest | costs would either be paid by the -> interest_6\n",
            "and the implication of lower inflation and | interest | rates tend to bolster bond prices . -> interest_6\n",
            "that the dollar will remain strong and | interest |      rates will decline . -> interest_6\n",
            "                          | interest | rates paid depositors were lowered , thrift -> interest_6\n"
          ]
        }
      ]
    },
    {
      "cell_type": "markdown",
      "source": [
        "## Naive Bayes Classifier"
      ],
      "metadata": {
        "id": "DPhzYDKDYadS"
      }
    },
    {
      "cell_type": "markdown",
      "source": [
        "![image.png](data:image/png;base64,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)"
      ],
      "metadata": {
        "id": "3c7fiqW-hSsx"
      }
    },
    {
      "cell_type": "markdown",
      "source": [
        "**1. Training**\n",
        "\n",
        "According to the Naive Bayes classifier assumption, each attribute of a feature vector will be treated as an independent attribute in order to determine the likelihood that the feature vector X belongs to class c.\n",
        "\n",
        "$$ P(c|X) = P(c) \\prod_{i=1}^{I} {P(x_i|c)} \\hspace{4mm} | \\hspace{1mm} _\\text{apply logarithm} \\hspace{1mm} \\Leftrightarrow $$ \n",
        "$$ log(P(c|X)) \\simeq log(P(c)) + \\sum_{i=1}^{I} log(P(x_i|c)) $$\n",
        "\n",
        "To apply the Naive Bayes rule we need:\n",
        "\n",
        "\n",
        "1.   the probability that an example is in class c\n",
        "$$ P(c) = \\frac{\\text{number of examples in class `c`}}{\\text{total number of examples}} $$\n",
        "2.   the probability of having attribute x in class c\n",
        "$$ P(X|c) = \\frac{\\text{the number of examples in class `c` that are equal to `X`}}{\\text{number of examples in class `c`}}$$\n",
        "\n",
        "\n",
        "\n",
        "**2. Predicting labels based on the learned classifier**\n",
        "$$ P(c|X) = P(c) \\times \\prod_{i=1}^{I} {P(x_i | c)} \\hspace{1mm}, $$\n",
        "\n",
        "$\\hspace{4mm}$ where $ X = \\{x_1, x_2, ..., x_n\\} $ with $x_1, \\dots, x_n$ independent attributes.\n",
        "\n",
        "The probability that example $X$ is in class $c$, is obtained by multiplying (or adding logarithms) the individual probabilities of its attributes conditioned by class $c$. For each class $c$, we'll calculate $P(c | X)$, and the assigned label will be determined by class with the highest probability."
      ],
      "metadata": {
        "id": "AwTL7G4chWoT"
      }
    },
    {
      "cell_type": "markdown",
      "source": [
        "## Naive Bayes Classifier for Word Sense Disambiguation"
      ],
      "metadata": {
        "id": "80Dq7uHbYc1H"
      }
    },
    {
      "cell_type": "markdown",
      "source": [
        "*Notations:*\n",
        "\n",
        "*   $ alphas \\stackrel{\\text{not}}{=} P (s_k) = \\frac{|\\text{occurences of sense } s_k \\text{ in corpus } \\mathcal{C}|}{|\\text{occurences of } w \\text{ in corpus } \\mathcal{C}|} , \\hspace{1mm} \\text{ for } k=\\overline{1, K}$,\n",
        "\n",
        "$\\hspace{6mm}$ where $K$ is the number of ambiguous senses in the corpus; $s_k$ is the sense of class $k$.\n",
        "*   $ thetas \\stackrel{\\text{not}}{=} P(v_j|s_k) , \\hspace{1mm} \\text{ for } k=\\overline{1, K}, j =\\overline{1, J}$,\n",
        "\n",
        "$\\hspace{6mm}$ where $J$ is the number of feature vectors $v$.\n"
      ],
      "metadata": {
        "id": "ez_QM-0jwLcF"
      }
    },
    {
      "cell_type": "markdown",
      "source": [
        "Based on the frequency of words in the training data, we may estimate the likelihood of different senses of words occurring in a given context."
      ],
      "metadata": {
        "id": "_ENY4fSjtUxU"
      }
    },
    {
      "cell_type": "markdown",
      "source": [
        "This notebook contains statistics and results of all experiments for all four target words (\"line\", \"hard\", \"serve\", \"interest\"). Experiments include different feature extraction techniques (word frequency, surrounding context of target word, pos_tags of words surrounding target word)."
      ],
      "metadata": {
        "id": "1F9WKP7YMbSV"
      }
    },
    {
      "cell_type": "code",
      "source": [
        "def sense_instances(instances, sense):\n",
        "  \"\"\"\n",
        "    Returns the list of instances in `instances` that have the sense `sense`\n",
        "  \"\"\"\n",
        "  return [instance for instance in instances if instance.senses[0] == sense]"
      ],
      "metadata": {
        "id": "XBROD0NVHwxh"
      },
      "execution_count": 14,
      "outputs": []
    },
    {
      "cell_type": "markdown",
      "source": [
        "Class distribution for word *line*:"
      ],
      "metadata": {
        "id": "kMcP_hrMHfya"
      }
    },
    {
      "cell_type": "code",
      "source": [
        "line_instances_sense = [sense_instances(line_instances, sense) for sense in line_senses] # `line.pos` instances group by senses"
      ],
      "metadata": {
        "id": "QquwVjSYwPbw"
      },
      "execution_count": 15,
      "outputs": []
    },
    {
      "cell_type": "code",
      "source": [
        "num_samples_per_class_line = [len(instances_group) for instances_group in line_instances_sense]\n",
        "num_samples_per_class_line"
      ],
      "metadata": {
        "colab": {
          "base_uri": "https://localhost:8080/"
        },
        "id": "EGA6moE7JmNM",
        "outputId": "6ca9ba6e-656c-49df-fe12-60015062d5e1"
      },
      "execution_count": 16,
      "outputs": [
        {
          "output_type": "execute_result",
          "data": {
            "text/plain": [
              "[373, 374, 349, 429, 2217, 404]"
            ]
          },
          "metadata": {},
          "execution_count": 16
        }
      ]
    },
    {
      "cell_type": "code",
      "source": [
        "df_num_line = pd.DataFrame({'label': line_senses, 'num_samples': num_samples_per_class_line})"
      ],
      "metadata": {
        "id": "uY57KdhvP7OC"
      },
      "execution_count": 17,
      "outputs": []
    },
    {
      "cell_type": "code",
      "source": [
        "ax = sns.barplot(x='num_samples', y='label', data=df_num_line,\n",
        "                 palette = \"Blues\",\n",
        "                 orient=\"h\")\n",
        "ax.set(xlabel='Number of samples with given sense', ylabel='Senses')\n",
        "\n",
        "plt.show()"
      ],
      "metadata": {
        "colab": {
          "base_uri": "https://localhost:8080/",
          "height": 279
        },
        "id": "9I7FE6wCNmEC",
        "outputId": "0b3e5074-0a0b-41b8-b720-079fe09d9919"
      },
      "execution_count": 18,
      "outputs": [
        {
          "output_type": "display_data",
          "data": {
            "text/plain": [
              "<Figure size 432x288 with 1 Axes>"
            ],
            "image/png": "[encoded data removed]"
          },
          "metadata": {
            "needs_background": "light"
          }
        }
      ]
    },
    {
      "cell_type": "markdown",
      "source": [
        "Class distribution for word *hard*:"
      ],
      "metadata": {
        "id": "9JQ3J1JsHnuD"
      }
    },
    {
      "cell_type": "code",
      "source": [
        "hard_instances_sense = [sense_instances(hard_instances, sense) for sense in hard_senses] # `hard.pos` instances group by senses"
      ],
      "metadata": {
        "id": "3hRT1IZ9HqlN"
      },
      "execution_count": 19,
      "outputs": []
    },
    {
      "cell_type": "code",
      "source": [
        "num_samples_per_class_hard = [len(instances_group) for instances_group in hard_instances_sense]\n",
        "num_samples_per_class_hard"
      ],
      "metadata": {
        "colab": {
          "base_uri": "https://localhost:8080/"
        },
        "id": "-pp5CbXeMEOk",
        "outputId": "da48f47d-358c-4937-d64e-660c2eae1f4b"
      },
      "execution_count": 20,
      "outputs": [
        {
          "output_type": "execute_result",
          "data": {
            "text/plain": [
              "[3455, 502, 376]"
            ]
          },
          "metadata": {},
          "execution_count": 20
        }
      ]
    },
    {
      "cell_type": "code",
      "source": [
        "df_num_hard = pd.DataFrame({'label': hard_senses, 'num_samples': num_samples_per_class_hard})"
      ],
      "metadata": {
        "id": "sSMqOFKNQgsO"
      },
      "execution_count": 21,
      "outputs": []
    },
    {
      "cell_type": "code",
      "source": [
        "ax = sns.barplot(x='num_samples', y='label', data=df_num_hard,\n",
        "                 palette = \"Blues\",\n",
        "                 orient=\"h\")\n",
        "ax.set(xlabel='Number of samples with given sense', ylabel='Senses')\n",
        "\n",
        "plt.show()"
      ],
      "metadata": {
        "colab": {
          "base_uri": "https://localhost:8080/",
          "height": 279
        },
        "id": "RlZPwmu-QnVQ",
        "outputId": "8f49e28c-f163-4d38-9ea6-8becc9579190"
      },
      "execution_count": 22,
      "outputs": [
        {
          "output_type": "display_data",
          "data": {
            "text/plain": [
              "<Figure size 432x288 with 1 Axes>"
            ],
            "image/png": "[encoded data removed]"
          },
          "metadata": {
            "needs_background": "light"
          }
        }
      ]
    },
    {
      "cell_type": "markdown",
      "source": [
        "Class distribution for word *serve*:"
      ],
      "metadata": {
        "id": "5azaqrG5Hq2C"
      }
    },
    {
      "cell_type": "code",
      "source": [
        "serve_instances_sense = [sense_instances(serve_instances, sense) for sense in serve_senses] # `serve.pos` instances group by senses"
      ],
      "metadata": {
        "id": "alO0Yr7PHsk5"
      },
      "execution_count": 23,
      "outputs": []
    },
    {
      "cell_type": "code",
      "source": [
        "num_samples_per_class_serve = [len(instances_group) for instances_group in serve_instances_sense]\n",
        "num_samples_per_class_serve"
      ],
      "metadata": {
        "colab": {
          "base_uri": "https://localhost:8080/"
        },
        "id": "kapMbRE1MqiF",
        "outputId": "d16df08c-7737-4430-f609-039924f97175"
      },
      "execution_count": 24,
      "outputs": [
        {
          "output_type": "execute_result",
          "data": {
            "text/plain": [
              "[1814, 1272, 853, 439]"
            ]
          },
          "metadata": {},
          "execution_count": 24
        }
      ]
    },
    {
      "cell_type": "code",
      "source": [
        "df_num_serve = pd.DataFrame({'label': serve_senses, 'num_samples': num_samples_per_class_serve})"
      ],
      "metadata": {
        "id": "enGswXigQzV8"
      },
      "execution_count": 25,
      "outputs": []
    },
    {
      "cell_type": "code",
      "source": [
        "ax = sns.barplot(x='num_samples', y='label', data=df_num_serve,\n",
        "                 palette = \"Blues\",\n",
        "                 orient=\"h\")\n",
        "ax.set(xlabel='Number of samples with given sense', ylabel='Senses')\n",
        "\n",
        "plt.show()"
      ],
      "metadata": {
        "colab": {
          "base_uri": "https://localhost:8080/",
          "height": 279
        },
        "id": "WJ-xG2D-QuVF",
        "outputId": "6137c8ad-06f9-4123-b34a-393edea6dba1"
      },
      "execution_count": 26,
      "outputs": [
        {
          "output_type": "display_data",
          "data": {
            "text/plain": [
              "<Figure size 432x288 with 1 Axes>"
            ],
            "image/png": "[encoded data removed]"
          },
          "metadata": {
            "needs_background": "light"
          }
        }
      ]
    },
    {
      "cell_type": "markdown",
      "source": [
        "Class distribution for word *interest*:"
      ],
      "metadata": {
        "id": "pOqz2zD3Hsyd"
      }
    },
    {
      "cell_type": "code",
      "source": [
        "interest_instances_sense = [sense_instances(interest_instances, sense) for sense in interest_senses] # `interest.pos` instances group by senses"
      ],
      "metadata": {
        "id": "e0-6pGiYHvlL"
      },
      "execution_count": 27,
      "outputs": []
    },
    {
      "cell_type": "code",
      "source": [
        "num_samples_per_class_interest = [len(instances_group) for instances_group in interest_instances_sense]\n",
        "num_samples_per_class_interest"
      ],
      "metadata": {
        "colab": {
          "base_uri": "https://localhost:8080/"
        },
        "id": "LGEbLV-hNDmT",
        "outputId": "623005b0-bc93-4c65-b3c7-451d34184d51"
      },
      "execution_count": 28,
      "outputs": [
        {
          "output_type": "execute_result",
          "data": {
            "text/plain": [
              "[361, 11, 66, 178, 500, 1252]"
            ]
          },
          "metadata": {},
          "execution_count": 28
        }
      ]
    },
    {
      "cell_type": "code",
      "source": [
        "df_num_interest = pd.DataFrame({'label': interest_senses, 'num_samples': num_samples_per_class_interest})"
      ],
      "metadata": {
        "id": "v7J4U-TuQ-wz"
      },
      "execution_count": 29,
      "outputs": []
    },
    {
      "cell_type": "code",
      "source": [
        "ax = sns.barplot(x='num_samples', y='label', data=df_num_interest,\n",
        "                 palette = \"Blues\",\n",
        "                 orient=\"h\")\n",
        "ax.set(xlabel='Number of samples with given sense', ylabel='Senses')\n",
        "\n",
        "plt.show()"
      ],
      "metadata": {
        "colab": {
          "base_uri": "https://localhost:8080/",
          "height": 279
        },
        "id": "fLBfjG3BRIca",
        "outputId": "7166b73c-781f-4065-abbb-c40b0a37dd75"
      },
      "execution_count": 30,
      "outputs": [
        {
          "output_type": "display_data",
          "data": {
            "text/plain": [
              "<Figure size 432x288 with 1 Axes>"
            ],
            "image/png": "[encoded data removed]"
          },
          "metadata": {
            "needs_background": "light"
          }
        }
      ]
    },
    {
      "cell_type": "code",
      "source": [
        "def extract_vocab_frequency(instances, stopwords=STOPWORDS_SET, n=300):\n",
        "  \"\"\"\n",
        "    Given a list of senseval instances, return a list of the n most frequent words that appear in its context;\n",
        "    output is in descending order of frequency and includes also the number of instances in which that key\n",
        "    appears in the context of instances.\n",
        "  \"\"\"\n",
        "  fd = nltk.FreqDist()\n",
        "  for instance in instances:\n",
        "    (target, suffix) = instance.word.split('-')\n",
        "    words = (context[0] for context in instance.context if not context[0] == target)\n",
        "    for word in set(words) - stopwords:\n",
        "      fd[word] += 1\n",
        "\n",
        "  return fd.most_common()[:n+1]"
      ],
      "metadata": {
        "id": "IqPD48wZsDSc"
      },
      "execution_count": 31,
      "outputs": []
    },
    {
      "cell_type": "code",
      "source": [
        "def extract_vocabulary(instances, stopwords=STOPWORDS_SET, n=300):\n",
        "  return [w for (w,f) in extract_vocab_frequency(instances, stopwords, n)]"
      ],
      "metadata": {
        "id": "aaVr5mZ7vi3n"
      },
      "execution_count": 32,
      "outputs": []
    },
    {
      "cell_type": "code",
      "source": [
        "def wsd_word_features(instance, vocabulary):\n",
        "  features = defaultdict(lambda: False)\n",
        "  try:\n",
        "    for (word, pos) in instance.context:\n",
        "      if word in vocabulary:\n",
        "        features[word] = True\n",
        "  except ValueError:\n",
        "    pass\n",
        "\n",
        "  return features"
      ],
      "metadata": {
        "id": "GBxKQbLPwKTp"
      },
      "execution_count": 33,
      "outputs": []
    },
    {
      "cell_type": "code",
      "source": [
        "def wsd_context_features(instance, dist=3, include_pos=False):\n",
        "  features = {}\n",
        "  ind, con = instance.position, instance.context\n",
        "  for i in range(max(0, ind - dist), ind):\n",
        "    j = ind - i\n",
        "    if include_pos:\n",
        "      features['left-context-word-pos-%s' %j] = con[i]\n",
        "    else:\n",
        "      features['left-context-word-%s' %j] = con[i][0]\n",
        "\n",
        "  for i in range(ind + 1, min(ind + dist + 1, len(con))):\n",
        "    j = i -  ind\n",
        "    if include_pos:\n",
        "      features['right-context-word-pos-%s' %j] = con[i]\n",
        "    else:\n",
        "      features['right-context-word-%s' %j] = con[i][0]\n",
        "\n",
        "  return features"
      ],
      "metadata": {
        "id": "F_24wUiK6dsH"
      },
      "execution_count": 34,
      "outputs": []
    },
    {
      "cell_type": "code",
      "source": [
        "line_vocabulary = extract_vocabulary(line_instances)"
      ],
      "metadata": {
        "id": "1wAFEpVFx91K"
      },
      "execution_count": 35,
      "outputs": []
    },
    {
      "cell_type": "code",
      "source": [
        "wsd_word_features(line_instances[0], line_vocabulary)"
      ],
      "metadata": {
        "colab": {
          "base_uri": "https://localhost:8080/"
        },
        "id": "ZfRIpigSx5LO",
        "outputId": "312626de-a545-40a2-8e9e-a1bb7b729d1a"
      },
      "execution_count": 36,
      "outputs": [
        {
          "output_type": "execute_result",
          "data": {
            "text/plain": [
              "defaultdict(<function __main__.wsd_word_features.<locals>.<lambda>>,\n",
              "            {'\"': True,\n",
              "             \"'s\": True,\n",
              "             \"'t\": True,\n",
              "             ',': True,\n",
              "             '.': True,\n",
              "             'company': True,\n",
              "             'earlier': True,\n",
              "             'however': True,\n",
              "             'lines': True,\n",
              "             'move': True})"
            ]
          },
          "metadata": {},
          "execution_count": 36
        }
      ]
    },
    {
      "cell_type": "code",
      "source": [
        "wsd_context_features(instance=line_instances[0], dist=3, include_pos=False)"
      ],
      "metadata": {
        "colab": {
          "base_uri": "https://localhost:8080/"
        },
        "id": "NVKwaS1KAbbq",
        "outputId": "3a080e48-3a5d-4ef6-8a10-1f1484cd4008"
      },
      "execution_count": 37,
      "outputs": [
        {
          "output_type": "execute_result",
          "data": {
            "text/plain": [
              "{'left-context-word-1': 'safety',\n",
              " 'left-context-word-2': 'special',\n",
              " 'left-context-word-3': 'install',\n",
              " 'right-context-word-1': 'inside',\n",
              " 'right-context-word-2': 'the',\n",
              " 'right-context-word-3': 'a-frame'}"
            ]
          },
          "metadata": {},
          "execution_count": 37
        }
      ]
    },
    {
      "cell_type": "code",
      "source": [
        "def count_occurences(feature, instances):\n",
        "  \"\"\"\n",
        "    Count occurences of a feature vector in instances's context\n",
        "  \"\"\"\n",
        "\n",
        "  count = 0\n",
        "  for instance in instances:\n",
        "    target_pos = instance.position\n",
        "    words_instance = [c[0] for i, c in enumerate(instance.context) if i != target_pos]\n",
        "    count += words_instance.count(feature)\n",
        "  \n",
        "  return count"
      ],
      "metadata": {
        "id": "jzO1_tSyBAbb"
      },
      "execution_count": 38,
      "outputs": []
    },
    {
      "cell_type": "code",
      "source": [
        "def count_occurences_context(feature, instances):\n",
        "  count = 0\n",
        "  for instance in instances:\n",
        "    target_pos = instance.position\n",
        "    sk_context = []\n",
        "    if type(feature) is tuple: # if the feature is composed from a word and its pos_tag\n",
        "      sk_context = [c for i, c in enumerate(instance.context) if i != target_pos]\n",
        "    else:\n",
        "      sk_context = [c[0] for i, c in enumerate(instance.context) if i != target_pos]\n",
        "    \n",
        "    count += sk_context.count(feature)\n",
        "\n",
        "  return count"
      ],
      "metadata": {
        "id": "LAmVEVh9YaXT"
      },
      "execution_count": 39,
      "outputs": []
    },
    {
      "cell_type": "code",
      "source": [
        "from nltk.classify import accuracy, NaiveBayesClassifier"
      ],
      "metadata": {
        "id": "HAlhZoM4p9kp"
      },
      "execution_count": 40,
      "outputs": []
    },
    {
      "cell_type": "code",
      "source": [
        "def wsd_classifier(train_instances, test_instances, senses, features_type='context', vocabulary_size=300, window_size=3, pos_tag=False,\n",
        "                   show_parameters_estimation=True, show_confusion_matrix=True, show_samples=True):\n",
        "  accuracy_test = None\n",
        "\n",
        "  # Parameters estimation\n",
        "  instances_sense = [sense_instances(train_instances, sense) for sense in senses] # instances group by senses\n",
        "  num_samples_per_class = [len(instances_group) for instances_group in instances_sense]\n",
        "  alphas = np.array([samples_per_class / len(train_instances) for samples_per_class in num_samples_per_class])\n",
        "\n",
        "  assert np.sum(alphas) == 1.\n",
        "\n",
        "  if show_parameters_estimation:\n",
        "    print('\\nClass prior probabilities:\\n', alphas)\n",
        "\n",
        "  if features_type == 'frequency':\n",
        "    # TRAIN\n",
        "    vocabulary = extract_vocabulary(train_instances, n=vocabulary_size)\n",
        "    features_train = [wsd_word_features(instance, vocabulary) for instance in train_instances]\n",
        "\n",
        "    thetas = np.zeros((len(senses), len(vocabulary)))\n",
        "    instances_sense_train = [sense_instances(train_instances, sense) for sense in senses]\n",
        "    for k, s_k in enumerate(instances_sense_train):\n",
        "      for j, v_j in enumerate(vocabulary):\n",
        "        thetas[k][j] = count_occurences(v_j, s_k)\n",
        "      thetas[k, :] = thetas[k, :] / np.sum(thetas[k, :])\n",
        "  \n",
        "    if show_parameters_estimation:\n",
        "      print('\\nLikelihood:\\n', thetas)\n",
        "\n",
        "    assert np.sum(thetas) == 1. * len(senses) \n",
        "\n",
        "    # CLASSIFY\n",
        "    features_test = [wsd_word_features(instance, vocabulary) for instance in test_instances]\n",
        "    labels_test =  np.array([instance.senses[0] for instance in test_instances])\n",
        "\n",
        "    log_probabilities = np.zeros((len(features_test), len(senses)))\n",
        "    for i, features in enumerate(features_test):\n",
        "      for j, sense in enumerate(senses):\n",
        "        log_probabilities[i,j] += np.log(alphas[j]) \n",
        "        for feature, _ in features.items():  \n",
        "          idx = vocabulary.index(feature)\n",
        "          log_probabilities[i,j] += np.log(thetas[j,idx])\n",
        "\n",
        "    predicted_labels_indexes = np.argmax(log_probabilities, axis=1)\n",
        "    predicted_labels = np.array([senses[i] for i in predicted_labels_indexes])\n",
        "    accuracy_test = np.sum(predicted_labels == labels_test) / len(labels_test)\n",
        "    print('\\nAccuracy: %6.4f' %accuracy_test)\n",
        "    if show_confusion_matrix:\n",
        "      cm = confusion_matrix(predicted_labels, labels_test)\n",
        "      print(cm)\n",
        "\n",
        "  elif features_type == 'context':\n",
        "    # TRAIN\n",
        "    features_train = [wsd_context_features(instance, window_size, include_pos=pos_tag) for instance in train_instances]\n",
        "    features_values = [list(feature_train.values()) for feature_train in features_train]\n",
        "    features_values_set = reduce(lambda x, y: x+y, features_values)\n",
        "    features_values_set = list(set(features_values_set))\n",
        "    instances_sense_train = [sense_instances(train_instances, sense) for sense in senses]\n",
        "    \n",
        "    thetas = np.zeros((len(senses), len(features_values_set)))\n",
        "    for k, s_k in enumerate(instances_sense_train):\n",
        "      for j, v_j in enumerate(features_values_set):\n",
        "        thetas[k, j] = count_occurences_context(v_j, s_k)\n",
        "      thetas[k, :] = thetas[k, :] / np.sum(thetas[k, :])\n",
        "\n",
        "    # CLASSIFY\n",
        "    features_test = [wsd_context_features(instance, window_size) for instance in test_instances]\n",
        "    features_test = [list(feature_test.values()) for feature_test in features_test]\n",
        "    labels_test =  np.array([instance.senses[0] for instance in test_instances])\n",
        "\n",
        "    log_probabilities = np.zeros((len(features_test), len(senses)))\n",
        "    for i, sample in enumerate(features_test):\n",
        "      for j, sense in enumerate(senses):\n",
        "        log_probabilities[i, j] += np.log(alphas[j])\n",
        "        for feature in sample:\n",
        "          if feature in features_values_set:\n",
        "            idx = features_values_set.index(feature)\n",
        "            log_probabilities[i, j] += np.log(thetas[j, idx])\n",
        "\n",
        "    predicted_labels_indexes = np.argmax(log_probabilities, axis=1)\n",
        "    predicted_labels = np.array([senses[i] for i in predicted_labels_indexes])\n",
        "    accuracy_test = np.sum(predicted_labels == labels_test) / len(labels_test)\n",
        "    print('\\nAccuracy: %6.4f' %accuracy_test)\n",
        "\n",
        "    if show_confusion_matrix:\n",
        "      cm = confusion_matrix(predicted_labels, labels_test)\n",
        "      print(cm)\n",
        "\n",
        "  if show_samples:\n",
        "    # Examples of errors\n",
        "    print()\n",
        "    wrong_predictions_indexes = np.where(predicted_labels != labels_test)\n",
        "    for i in wrong_predictions_indexes[0][:5]:\n",
        "      print(test_instances[i])\n",
        "  \n",
        "  return accuracy_test"
      ],
      "metadata": {
        "id": "j-prtUlpqmlu"
      },
      "execution_count": 41,
      "outputs": []
    },
    {
      "cell_type": "code",
      "source": [
        "# Split the instances into a training, validation and test set\n",
        "train_instances_line, test_instances_line = train_test_split(line_instances, test_size=0.2)\n",
        "train_instances_line, validation_instances_line = train_test_split(train_instances_line, test_size=0.1)\n",
        "print('Train set size:', len(train_instances_line))\n",
        "print('Validation set size:', len(validation_instances_line))\n",
        "print('Test set size:', len(test_instances_line))"
      ],
      "metadata": {
        "colab": {
          "base_uri": "https://localhost:8080/"
        },
        "id": "JQtXiZ58rFmE",
        "outputId": "9429a0ff-fcbf-4bc7-ff50-00d1bc1b09e4"
      },
      "execution_count": 42,
      "outputs": [
        {
          "output_type": "stream",
          "name": "stdout",
          "text": [
            "Train set size: 2984\n",
            "Validation set size: 332\n",
            "Test set size: 830\n"
          ]
        }
      ]
    },
    {
      "cell_type": "code",
      "source": [
        "wsd_classifier(train_instances_line, validation_instances_line, line_senses, 'frequency', 300, show_samples=True)"
      ],
      "metadata": {
        "colab": {
          "base_uri": "https://localhost:8080/"
        },
        "id": "ViwSWjkG5nKn",
        "outputId": "0966a51f-d7c9-435c-b7a3-1b4ce58a2f89"
      },
      "execution_count": 43,
      "outputs": [
        {
          "output_type": "stream",
          "name": "stdout",
          "text": [
            "\n",
            "Class prior probabilities:\n",
            " [0.08780161 0.09316354 0.08210456 0.10522788 0.53786863 0.09383378]\n",
            "\n",
            "Likelihood:\n",
            " [[2.40983607e-01 2.51639344e-01 1.76229508e-02 ... 0.00000000e+00\n",
            "  0.00000000e+00 4.09836066e-04]\n",
            " [2.01296871e-01 1.90019735e-01 3.43952636e-02 ... 0.00000000e+00\n",
            "  2.81928390e-03 1.40964195e-03]\n",
            " [1.91159251e-01 1.95257611e-01 2.98594848e-02 ... 0.00000000e+00\n",
            "  1.75644028e-03 5.85480094e-04]\n",
            " [1.80799691e-01 1.66119374e-01 2.56905544e-02 ... 0.00000000e+00\n",
            "  1.93162063e-04 1.35213444e-03]\n",
            " [1.62566189e-01 1.47584915e-01 3.70980240e-02 ... 1.22691463e-03\n",
            "  5.16595635e-04 6.45744543e-04]\n",
            " [1.84747847e-01 2.00000000e-01 4.05904059e-02 ... 0.00000000e+00\n",
            "  1.23001230e-03 7.38007380e-04]]\n",
            "\n",
            "Accuracy: 0.6898\n",
            "[[ 18   2   1   5   0   2]\n",
            " [  2  10   1   0   5   2]\n",
            " [  0   4   9   1   4   6]\n",
            " [  1   1   7  16   2   4]\n",
            " [  3  11   7   6 157   9]\n",
            " [  2   6   3   3   3  19]]\n",
            "\n",
            "SensevalInstance(word='line-n', position=17, context=[('not', 'RB'), ('too', 'RB'), ('young', 'JJ'), (',', ','), ('i', 'PRP'), (\"'d\", 'MD'), ('say', 'VB'), ('.', '.'), ('a', 'DT'), ('new', 'JJ'), ('set', 'VBN'), ('of', 'IN'), ('nappies', 'NNS'), ('suddenly', 'RB'), ('appearing', 'VBG'), ('on', 'IN'), ('the', 'DT'), ('line', 'NN'), ('would', 'MD'), ('certainly', 'RB'), ('set', 'VBN'), ('the', 'DT'), ('neighbours', 'NNS'), ('chattering', 'VBG'), ('.', '.')], senses=('cord',))\n",
            "SensevalInstance(word='line-n', position=71, context=[('consultants', 'NNS'), ('have', 'VBP'), ('said', 'VBD'), ('that', 'IN'), ('it', 'PRP'), ('will', 'MD'), ('take', 'VB'), ('a', 'DT'), ('while', 'NN'), ('for', 'IN'), ('all', 'PDT'), ('the', 'DT'), ('pieces', 'NNS'), ('of', 'IN'), ('the', 'DT'), ('ibm', 'NNP'), ('strategy', 'NN'), ('to', 'TO'), ('fall', 'VB'), ('into', 'IN'), ('place', 'NN'), (',', ','), ('even', 'RB'), ('though', 'IN'), ('the', 'DT'), ('specific', 'JJ'), ('products', 'NNS'), ('ibm', 'NNP'), ('unveiled', 'VBD'), ('will', 'MD'), ('generally', 'RB'), ('be', 'VB'), ('available', 'JJ'), ('by', 'IN'), ('the', 'DT'), ('end', 'NN'), ('of', 'IN'), ('the', 'DT'), ('first', 'JJ'), ('quarter', 'NN'), ('.', '.'), ('sam', 'NNP'), ('albert', 'NNP'), (',', ','), ('a', 'DT'), ('consultant', 'NN'), ('in', 'IN'), ('scarsdale', 'NNP'), (',', ','), ('n', 'NN'), ('.', '.'), ('y', 'NNP'), ('.', '.'), (',', ','), ('said', 'VBD'), ('that', 'IN'), ('in', 'IN'), ('the', 'DT'), ('past', 'JJ'), ('ibm', 'NNP'), ('has', 'VBZ'), ('developed', 'VBN'), ('broad', 'JJ'), ('software', 'NN'), ('strategies', 'NNS'), ('only', 'RB'), ('for', 'IN'), ('problems', 'NNS'), ('that', 'WDT'), ('crossed', 'VBD'), ('industry', 'NN'), ('lines', 'NNS'), ('.', '.')], senses=('division',))\n",
            "SensevalInstance(word='line-n', position=39, context=[('in', 'IN'), ('france', 'NNP'), ('the', 'DT'), ('best', 'JJS'), ('athletes', 'NNS'), ('have', 'VBP'), ('jobs', 'NNS'), ('at', 'IN'), ('which', 'WDT'), ('they', 'PRP'), ('do', 'VBP'), ('little', 'JJ'), ('or', 'CC'), ('no', 'DT'), ('work', 'NN'), (',', ','), ('in', 'IN'), ('order', 'NN'), ('to', 'TO'), ('permit', 'VB'), ('them', 'PRP'), ('to', 'TO'), ('concentrate', 'VB'), ('on', 'IN'), ('training', 'NN'), ('.', '.'), ('even', 'RB'), ('australia', 'NNP'), (',', ','), ('one', 'CD'), ('of', 'IN'), ('the', 'DT'), ('few', 'JJ'), ('nations', 'NNS'), ('that', 'WDT'), ('still', 'RB'), ('hold', 'VB'), ('a', 'DT'), ('firm', 'NN'), ('line', 'NN'), ('between', 'IN'), ('amateurism', 'NN'), ('and', 'CC'), ('professionalism', 'NN'), (',', ','), ('sends', 'VBZ'), ('its', 'PRP$'), ('team', 'NN'), ('to', 'TO'), ('camp', 'VB'), ('for', 'IN'), ('an', 'DT'), ('extended', 'VBN'), ('pre-olympic', 'JJ'), ('period', 'NN'), ('.', '.')], senses=('division',))\n",
            "SensevalInstance(word='line-n', position=55, context=[('one', 'CD'), ('reason', 'NN'), ('optima', 'NNP'), ('could', 'MD'), ('reshape', 'VB'), ('the', 'DT'), ('credit-card', 'NN'), ('business', 'NN'), ('is', 'VBZ'), ('that', 'IN'), ('american', 'NNP'), ('express', 'NNP'), ('is', 'VBZ'), ('the', 'DT'), ('first', 'JJ'), ('high-profile', 'JJ'), ('card', 'NN'), ('issuer', 'NN'), ('with', 'IN'), ('national', 'JJ'), ('marketing', 'NN'), ('muscle', 'NN'), ('to', 'TO'), ('introduce', 'VB'), ('a', 'DT'), ('low-rate', 'JJ'), ('card', 'NN'), ('.', '.'), ('beyond', 'IN'), ('that', 'DT'), (',', ','), ('its', 'PRP$'), ('foray', 'NN'), ('into', 'IN'), ('revolving', 'VBG'), ('credit', 'NN'), ('--', ':'), ('in', 'IN'), ('which', 'WDT'), ('the', 'DT'), ('card', 'NN'), ('holder', 'NN'), ('must', 'MD'), ('make', 'VB'), ('only', 'RB'), ('a', 'DT'), ('minimal', 'JJ'), ('payment', 'NN'), ('each', 'DT'), ('month', 'NN'), ('--', ':'), ('further', 'JJ'), ('blurs', 'NNS'), ('the', 'DT'), ('once-well-defined', 'JJ'), ('line', 'NN'), ('between', 'IN'), ('banks', 'NNS'), ('and', 'CC'), ('other', 'JJ'), ('financial-service', 'NN'), ('companies', 'NNS'), ('.', '.')], senses=('division',))\n",
            "SensevalInstance(word='line-n', position=24, context=[('\"', '\"'), ('the', 'DT'), ('thing', 'NN'), ('that', 'WDT'), ('hit', 'VBD'), ('hardest', 'JJS'), ('was', 'VBD'), ('the', 'DT'), ('energy', 'NN'), ('crisis', 'NN'), (',', ','), ('\"', '\"'), ('mr', 'NNP'), ('.', '.'), ('atkins', 'NNP'), ('said', 'VBD'), ('.', '.'), ('if', 'IN'), ('someone', 'NN'), ('\"', '\"'), ('had', 'VBD'), ('to', 'TO'), ('wait', 'VB'), ('in', 'IN'), ('line', 'NN'), ('for', 'IN'), ('gas', 'NN'), ('for', 'IN'), ('his', 'PRP$'), ('car', 'NN'), (',', ','), ('he', 'PRP'), ('couldn', 'VBP'), (\"'t\", 'VBG'), ('justify', 'VB'), ('\"', '\"'), ('waiting', 'VBG'), ('for', 'IN'), ('gas', 'NN'), ('for', 'IN'), ('a', 'DT'), ('snowmobile', 'NN'), ('.', '.')], senses=('formation',))\n"
          ]
        },
        {
          "output_type": "stream",
          "name": "stderr",
          "text": [
            "/usr/local/lib/python3.7/dist-packages/ipykernel_launcher.py:42: RuntimeWarning: divide by zero encountered in log\n"
          ]
        },
        {
          "output_type": "execute_result",
          "data": {
            "text/plain": [
              "0.6897590361445783"
            ]
          },
          "metadata": {},
          "execution_count": 43
        }
      ]
    },
    {
      "cell_type": "code",
      "source": [
        "vocabulary_sizes = [i for i in range(100, 600, 100)]"
      ],
      "metadata": {
        "id": "MVi8ejuFL5KM"
      },
      "execution_count": 44,
      "outputs": []
    },
    {
      "cell_type": "code",
      "source": [
        "# search for best parameters\n",
        "best_acc, accuracies = 0, []\n",
        "best_vocab_size = None\n",
        "for vocabulary_size in vocabulary_sizes:\n",
        "  acc = wsd_classifier(train_instances_line, validation_instances_line, line_senses, 'frequency', vocabulary_size, \n",
        "                       show_parameters_estimation=False, show_confusion_matrix=False)\n",
        "  accuracies.append(acc)\n",
        "  if acc > best_acc:\n",
        "    best_acc = acc\n",
        "    best_vocab_size = vocabulary_size                 "
      ],
      "metadata": {
        "colab": {
          "base_uri": "https://localhost:8080/"
        },
        "id": "8VLTafgcMJ72",
        "outputId": "fa1fc48d-95c5-430f-9796-f6a0c0e7bc09"
      },
      "execution_count": 45,
      "outputs": [
        {
          "output_type": "stream",
          "name": "stderr",
          "text": [
            "/usr/local/lib/python3.7/dist-packages/ipykernel_launcher.py:42: RuntimeWarning: divide by zero encountered in log\n"
          ]
        },
        {
          "output_type": "stream",
          "name": "stdout",
          "text": [
            "\n",
            "Accuracy: 0.6114\n",
            "\n",
            "SensevalInstance(word='line-n', position=17, context=[('not', 'RB'), ('too', 'RB'), ('young', 'JJ'), (',', ','), ('i', 'PRP'), (\"'d\", 'MD'), ('say', 'VB'), ('.', '.'), ('a', 'DT'), ('new', 'JJ'), ('set', 'VBN'), ('of', 'IN'), ('nappies', 'NNS'), ('suddenly', 'RB'), ('appearing', 'VBG'), ('on', 'IN'), ('the', 'DT'), ('line', 'NN'), ('would', 'MD'), ('certainly', 'RB'), ('set', 'VBN'), ('the', 'DT'), ('neighbours', 'NNS'), ('chattering', 'VBG'), ('.', '.')], senses=('cord',))\n",
            "SensevalInstance(word='line-n', position=71, context=[('consultants', 'NNS'), ('have', 'VBP'), ('said', 'VBD'), ('that', 'IN'), ('it', 'PRP'), ('will', 'MD'), ('take', 'VB'), ('a', 'DT'), ('while', 'NN'), ('for', 'IN'), ('all', 'PDT'), ('the', 'DT'), ('pieces', 'NNS'), ('of', 'IN'), ('the', 'DT'), ('ibm', 'NNP'), ('strategy', 'NN'), ('to', 'TO'), ('fall', 'VB'), ('into', 'IN'), ('place', 'NN'), (',', ','), ('even', 'RB'), ('though', 'IN'), ('the', 'DT'), ('specific', 'JJ'), ('products', 'NNS'), ('ibm', 'NNP'), ('unveiled', 'VBD'), ('will', 'MD'), ('generally', 'RB'), ('be', 'VB'), ('available', 'JJ'), ('by', 'IN'), ('the', 'DT'), ('end', 'NN'), ('of', 'IN'), ('the', 'DT'), ('first', 'JJ'), ('quarter', 'NN'), ('.', '.'), ('sam', 'NNP'), ('albert', 'NNP'), (',', ','), ('a', 'DT'), ('consultant', 'NN'), ('in', 'IN'), ('scarsdale', 'NNP'), (',', ','), ('n', 'NN'), ('.', '.'), ('y', 'NNP'), ('.', '.'), (',', ','), ('said', 'VBD'), ('that', 'IN'), ('in', 'IN'), ('the', 'DT'), ('past', 'JJ'), ('ibm', 'NNP'), ('has', 'VBZ'), ('developed', 'VBN'), ('broad', 'JJ'), ('software', 'NN'), ('strategies', 'NNS'), ('only', 'RB'), ('for', 'IN'), ('problems', 'NNS'), ('that', 'WDT'), ('crossed', 'VBD'), ('industry', 'NN'), ('lines', 'NNS'), ('.', '.')], senses=('division',))\n",
            "SensevalInstance(word='line-n', position=39, context=[('in', 'IN'), ('france', 'NNP'), ('the', 'DT'), ('best', 'JJS'), ('athletes', 'NNS'), ('have', 'VBP'), ('jobs', 'NNS'), ('at', 'IN'), ('which', 'WDT'), ('they', 'PRP'), ('do', 'VBP'), ('little', 'JJ'), ('or', 'CC'), ('no', 'DT'), ('work', 'NN'), (',', ','), ('in', 'IN'), ('order', 'NN'), ('to', 'TO'), ('permit', 'VB'), ('them', 'PRP'), ('to', 'TO'), ('concentrate', 'VB'), ('on', 'IN'), ('training', 'NN'), ('.', '.'), ('even', 'RB'), ('australia', 'NNP'), (',', ','), ('one', 'CD'), ('of', 'IN'), ('the', 'DT'), ('few', 'JJ'), ('nations', 'NNS'), ('that', 'WDT'), ('still', 'RB'), ('hold', 'VB'), ('a', 'DT'), ('firm', 'NN'), ('line', 'NN'), ('between', 'IN'), ('amateurism', 'NN'), ('and', 'CC'), ('professionalism', 'NN'), (',', ','), ('sends', 'VBZ'), ('its', 'PRP$'), ('team', 'NN'), ('to', 'TO'), ('camp', 'VB'), ('for', 'IN'), ('an', 'DT'), ('extended', 'VBN'), ('pre-olympic', 'JJ'), ('period', 'NN'), ('.', '.')], senses=('division',))\n",
            "SensevalInstance(word='line-n', position=55, context=[('one', 'CD'), ('reason', 'NN'), ('optima', 'NNP'), ('could', 'MD'), ('reshape', 'VB'), ('the', 'DT'), ('credit-card', 'NN'), ('business', 'NN'), ('is', 'VBZ'), ('that', 'IN'), ('american', 'NNP'), ('express', 'NNP'), ('is', 'VBZ'), ('the', 'DT'), ('first', 'JJ'), ('high-profile', 'JJ'), ('card', 'NN'), ('issuer', 'NN'), ('with', 'IN'), ('national', 'JJ'), ('marketing', 'NN'), ('muscle', 'NN'), ('to', 'TO'), ('introduce', 'VB'), ('a', 'DT'), ('low-rate', 'JJ'), ('card', 'NN'), ('.', '.'), ('beyond', 'IN'), ('that', 'DT'), (',', ','), ('its', 'PRP$'), ('foray', 'NN'), ('into', 'IN'), ('revolving', 'VBG'), ('credit', 'NN'), ('--', ':'), ('in', 'IN'), ('which', 'WDT'), ('the', 'DT'), ('card', 'NN'), ('holder', 'NN'), ('must', 'MD'), ('make', 'VB'), ('only', 'RB'), ('a', 'DT'), ('minimal', 'JJ'), ('payment', 'NN'), ('each', 'DT'), ('month', 'NN'), ('--', ':'), ('further', 'JJ'), ('blurs', 'NNS'), ('the', 'DT'), ('once-well-defined', 'JJ'), ('line', 'NN'), ('between', 'IN'), ('banks', 'NNS'), ('and', 'CC'), ('other', 'JJ'), ('financial-service', 'NN'), ('companies', 'NNS'), ('.', '.')], senses=('division',))\n",
            "SensevalInstance(word='line-n', position=24, context=[('\"', '\"'), ('the', 'DT'), ('thing', 'NN'), ('that', 'WDT'), ('hit', 'VBD'), ('hardest', 'JJS'), ('was', 'VBD'), ('the', 'DT'), ('energy', 'NN'), ('crisis', 'NN'), (',', ','), ('\"', '\"'), ('mr', 'NNP'), ('.', '.'), ('atkins', 'NNP'), ('said', 'VBD'), ('.', '.'), ('if', 'IN'), ('someone', 'NN'), ('\"', '\"'), ('had', 'VBD'), ('to', 'TO'), ('wait', 'VB'), ('in', 'IN'), ('line', 'NN'), ('for', 'IN'), ('gas', 'NN'), ('for', 'IN'), ('his', 'PRP$'), ('car', 'NN'), (',', ','), ('he', 'PRP'), ('couldn', 'VBP'), (\"'t\", 'VBG'), ('justify', 'VB'), ('\"', '\"'), ('waiting', 'VBG'), ('for', 'IN'), ('gas', 'NN'), ('for', 'IN'), ('a', 'DT'), ('snowmobile', 'NN'), ('.', '.')], senses=('formation',))\n",
            "\n",
            "Accuracy: 0.6627\n",
            "\n",
            "SensevalInstance(word='line-n', position=17, context=[('not', 'RB'), ('too', 'RB'), ('young', 'JJ'), (',', ','), ('i', 'PRP'), (\"'d\", 'MD'), ('say', 'VB'), ('.', '.'), ('a', 'DT'), ('new', 'JJ'), ('set', 'VBN'), ('of', 'IN'), ('nappies', 'NNS'), ('suddenly', 'RB'), ('appearing', 'VBG'), ('on', 'IN'), ('the', 'DT'), ('line', 'NN'), ('would', 'MD'), ('certainly', 'RB'), ('set', 'VBN'), ('the', 'DT'), ('neighbours', 'NNS'), ('chattering', 'VBG'), ('.', '.')], senses=('cord',))\n",
            "SensevalInstance(word='line-n', position=71, context=[('consultants', 'NNS'), ('have', 'VBP'), ('said', 'VBD'), ('that', 'IN'), ('it', 'PRP'), ('will', 'MD'), ('take', 'VB'), ('a', 'DT'), ('while', 'NN'), ('for', 'IN'), ('all', 'PDT'), ('the', 'DT'), ('pieces', 'NNS'), ('of', 'IN'), ('the', 'DT'), ('ibm', 'NNP'), ('strategy', 'NN'), ('to', 'TO'), ('fall', 'VB'), ('into', 'IN'), ('place', 'NN'), (',', ','), ('even', 'RB'), ('though', 'IN'), ('the', 'DT'), ('specific', 'JJ'), ('products', 'NNS'), ('ibm', 'NNP'), ('unveiled', 'VBD'), ('will', 'MD'), ('generally', 'RB'), ('be', 'VB'), ('available', 'JJ'), ('by', 'IN'), ('the', 'DT'), ('end', 'NN'), ('of', 'IN'), ('the', 'DT'), ('first', 'JJ'), ('quarter', 'NN'), ('.', '.'), ('sam', 'NNP'), ('albert', 'NNP'), (',', ','), ('a', 'DT'), ('consultant', 'NN'), ('in', 'IN'), ('scarsdale', 'NNP'), (',', ','), ('n', 'NN'), ('.', '.'), ('y', 'NNP'), ('.', '.'), (',', ','), ('said', 'VBD'), ('that', 'IN'), ('in', 'IN'), ('the', 'DT'), ('past', 'JJ'), ('ibm', 'NNP'), ('has', 'VBZ'), ('developed', 'VBN'), ('broad', 'JJ'), ('software', 'NN'), ('strategies', 'NNS'), ('only', 'RB'), ('for', 'IN'), ('problems', 'NNS'), ('that', 'WDT'), ('crossed', 'VBD'), ('industry', 'NN'), ('lines', 'NNS'), ('.', '.')], senses=('division',))\n",
            "SensevalInstance(word='line-n', position=34, context=[('on', 'IN'), ('an', 'DT'), ('office', 'NN'), ('wall', 'NN'), ('of', 'IN'), ('the', 'DT'), ('senate', 'NNP'), ('intelligence', 'NN'), ('committee', 'NN'), ('hangs', 'VBZ'), ('a', 'DT'), ('quote', 'NN'), ('from', 'IN'), ('chairman', 'NNP'), ('david', 'NNP'), ('boren', 'NNP'), (',', ','), ('\"', '\"'), ('don', 'NNP'), (\"'t\", 'NN'), ('hold', 'VB'), ('your', 'PRP$'), ('ticket', 'NN'), (\"'til\", 'VBG'), ('the', 'DT'), ('show', 'NN'), (\"'s\", 'POS'), ('over', 'IN'), ('.', '.'), ('\"', '\"'), ('he', 'PRP'), ('once', 'RB'), ('used', 'VBD'), ('that', 'DT'), ('line', 'NN'), ('in', 'IN'), ('a', 'DT'), ('closed-door', 'JJ'), ('meeting', 'NN'), ('on', 'IN'), ('panama', 'NNP'), (',', ','), ('meaning', 'NN'), ('don', 'NN'), (\"'t\", 'NN'), ('shrink', 'NN'), ('from', 'IN'), ('taking', 'VBG'), ('action', 'NN'), ('against', 'IN'), ('manuel', 'NNP'), ('noriega', 'NNP'), ('.', '.')], senses=('text',))\n",
            "SensevalInstance(word='line-n', position=39, context=[('in', 'IN'), ('france', 'NNP'), ('the', 'DT'), ('best', 'JJS'), ('athletes', 'NNS'), ('have', 'VBP'), ('jobs', 'NNS'), ('at', 'IN'), ('which', 'WDT'), ('they', 'PRP'), ('do', 'VBP'), ('little', 'JJ'), ('or', 'CC'), ('no', 'DT'), ('work', 'NN'), (',', ','), ('in', 'IN'), ('order', 'NN'), ('to', 'TO'), ('permit', 'VB'), ('them', 'PRP'), ('to', 'TO'), ('concentrate', 'VB'), ('on', 'IN'), ('training', 'NN'), ('.', '.'), ('even', 'RB'), ('australia', 'NNP'), (',', ','), ('one', 'CD'), ('of', 'IN'), ('the', 'DT'), ('few', 'JJ'), ('nations', 'NNS'), ('that', 'WDT'), ('still', 'RB'), ('hold', 'VB'), ('a', 'DT'), ('firm', 'NN'), ('line', 'NN'), ('between', 'IN'), ('amateurism', 'NN'), ('and', 'CC'), ('professionalism', 'NN'), (',', ','), ('sends', 'VBZ'), ('its', 'PRP$'), ('team', 'NN'), ('to', 'TO'), ('camp', 'VB'), ('for', 'IN'), ('an', 'DT'), ('extended', 'VBN'), ('pre-olympic', 'JJ'), ('period', 'NN'), ('.', '.')], senses=('division',))\n",
            "SensevalInstance(word='line-n', position=55, context=[('one', 'CD'), ('reason', 'NN'), ('optima', 'NNP'), ('could', 'MD'), ('reshape', 'VB'), ('the', 'DT'), ('credit-card', 'NN'), ('business', 'NN'), ('is', 'VBZ'), ('that', 'IN'), ('american', 'NNP'), ('express', 'NNP'), ('is', 'VBZ'), ('the', 'DT'), ('first', 'JJ'), ('high-profile', 'JJ'), ('card', 'NN'), ('issuer', 'NN'), ('with', 'IN'), ('national', 'JJ'), ('marketing', 'NN'), ('muscle', 'NN'), ('to', 'TO'), ('introduce', 'VB'), ('a', 'DT'), ('low-rate', 'JJ'), ('card', 'NN'), ('.', '.'), ('beyond', 'IN'), ('that', 'DT'), (',', ','), ('its', 'PRP$'), ('foray', 'NN'), ('into', 'IN'), ('revolving', 'VBG'), ('credit', 'NN'), ('--', ':'), ('in', 'IN'), ('which', 'WDT'), ('the', 'DT'), ('card', 'NN'), ('holder', 'NN'), ('must', 'MD'), ('make', 'VB'), ('only', 'RB'), ('a', 'DT'), ('minimal', 'JJ'), ('payment', 'NN'), ('each', 'DT'), ('month', 'NN'), ('--', ':'), ('further', 'JJ'), ('blurs', 'NNS'), ('the', 'DT'), ('once-well-defined', 'JJ'), ('line', 'NN'), ('between', 'IN'), ('banks', 'NNS'), ('and', 'CC'), ('other', 'JJ'), ('financial-service', 'NN'), ('companies', 'NNS'), ('.', '.')], senses=('division',))\n",
            "\n",
            "Accuracy: 0.6898\n",
            "\n",
            "SensevalInstance(word='line-n', position=17, context=[('not', 'RB'), ('too', 'RB'), ('young', 'JJ'), (',', ','), ('i', 'PRP'), (\"'d\", 'MD'), ('say', 'VB'), ('.', '.'), ('a', 'DT'), ('new', 'JJ'), ('set', 'VBN'), ('of', 'IN'), ('nappies', 'NNS'), ('suddenly', 'RB'), ('appearing', 'VBG'), ('on', 'IN'), ('the', 'DT'), ('line', 'NN'), ('would', 'MD'), ('certainly', 'RB'), ('set', 'VBN'), ('the', 'DT'), ('neighbours', 'NNS'), ('chattering', 'VBG'), ('.', '.')], senses=('cord',))\n",
            "SensevalInstance(word='line-n', position=71, context=[('consultants', 'NNS'), ('have', 'VBP'), ('said', 'VBD'), ('that', 'IN'), ('it', 'PRP'), ('will', 'MD'), ('take', 'VB'), ('a', 'DT'), ('while', 'NN'), ('for', 'IN'), ('all', 'PDT'), ('the', 'DT'), ('pieces', 'NNS'), ('of', 'IN'), ('the', 'DT'), ('ibm', 'NNP'), ('strategy', 'NN'), ('to', 'TO'), ('fall', 'VB'), ('into', 'IN'), ('place', 'NN'), (',', ','), ('even', 'RB'), ('though', 'IN'), ('the', 'DT'), ('specific', 'JJ'), ('products', 'NNS'), ('ibm', 'NNP'), ('unveiled', 'VBD'), ('will', 'MD'), ('generally', 'RB'), ('be', 'VB'), ('available', 'JJ'), ('by', 'IN'), ('the', 'DT'), ('end', 'NN'), ('of', 'IN'), ('the', 'DT'), ('first', 'JJ'), ('quarter', 'NN'), ('.', '.'), ('sam', 'NNP'), ('albert', 'NNP'), (',', ','), ('a', 'DT'), ('consultant', 'NN'), ('in', 'IN'), ('scarsdale', 'NNP'), (',', ','), ('n', 'NN'), ('.', '.'), ('y', 'NNP'), ('.', '.'), (',', ','), ('said', 'VBD'), ('that', 'IN'), ('in', 'IN'), ('the', 'DT'), ('past', 'JJ'), ('ibm', 'NNP'), ('has', 'VBZ'), ('developed', 'VBN'), ('broad', 'JJ'), ('software', 'NN'), ('strategies', 'NNS'), ('only', 'RB'), ('for', 'IN'), ('problems', 'NNS'), ('that', 'WDT'), ('crossed', 'VBD'), ('industry', 'NN'), ('lines', 'NNS'), ('.', '.')], senses=('division',))\n",
            "SensevalInstance(word='line-n', position=39, context=[('in', 'IN'), ('france', 'NNP'), ('the', 'DT'), ('best', 'JJS'), ('athletes', 'NNS'), ('have', 'VBP'), ('jobs', 'NNS'), ('at', 'IN'), ('which', 'WDT'), ('they', 'PRP'), ('do', 'VBP'), ('little', 'JJ'), ('or', 'CC'), ('no', 'DT'), ('work', 'NN'), (',', ','), ('in', 'IN'), ('order', 'NN'), ('to', 'TO'), ('permit', 'VB'), ('them', 'PRP'), ('to', 'TO'), ('concentrate', 'VB'), ('on', 'IN'), ('training', 'NN'), ('.', '.'), ('even', 'RB'), ('australia', 'NNP'), (',', ','), ('one', 'CD'), ('of', 'IN'), ('the', 'DT'), ('few', 'JJ'), ('nations', 'NNS'), ('that', 'WDT'), ('still', 'RB'), ('hold', 'VB'), ('a', 'DT'), ('firm', 'NN'), ('line', 'NN'), ('between', 'IN'), ('amateurism', 'NN'), ('and', 'CC'), ('professionalism', 'NN'), (',', ','), ('sends', 'VBZ'), ('its', 'PRP$'), ('team', 'NN'), ('to', 'TO'), ('camp', 'VB'), ('for', 'IN'), ('an', 'DT'), ('extended', 'VBN'), ('pre-olympic', 'JJ'), ('period', 'NN'), ('.', '.')], senses=('division',))\n",
            "SensevalInstance(word='line-n', position=55, context=[('one', 'CD'), ('reason', 'NN'), ('optima', 'NNP'), ('could', 'MD'), ('reshape', 'VB'), ('the', 'DT'), ('credit-card', 'NN'), ('business', 'NN'), ('is', 'VBZ'), ('that', 'IN'), ('american', 'NNP'), ('express', 'NNP'), ('is', 'VBZ'), ('the', 'DT'), ('first', 'JJ'), ('high-profile', 'JJ'), ('card', 'NN'), ('issuer', 'NN'), ('with', 'IN'), ('national', 'JJ'), ('marketing', 'NN'), ('muscle', 'NN'), ('to', 'TO'), ('introduce', 'VB'), ('a', 'DT'), ('low-rate', 'JJ'), ('card', 'NN'), ('.', '.'), ('beyond', 'IN'), ('that', 'DT'), (',', ','), ('its', 'PRP$'), ('foray', 'NN'), ('into', 'IN'), ('revolving', 'VBG'), ('credit', 'NN'), ('--', ':'), ('in', 'IN'), ('which', 'WDT'), ('the', 'DT'), ('card', 'NN'), ('holder', 'NN'), ('must', 'MD'), ('make', 'VB'), ('only', 'RB'), ('a', 'DT'), ('minimal', 'JJ'), ('payment', 'NN'), ('each', 'DT'), ('month', 'NN'), ('--', ':'), ('further', 'JJ'), ('blurs', 'NNS'), ('the', 'DT'), ('once-well-defined', 'JJ'), ('line', 'NN'), ('between', 'IN'), ('banks', 'NNS'), ('and', 'CC'), ('other', 'JJ'), ('financial-service', 'NN'), ('companies', 'NNS'), ('.', '.')], senses=('division',))\n",
            "SensevalInstance(word='line-n', position=24, context=[('\"', '\"'), ('the', 'DT'), ('thing', 'NN'), ('that', 'WDT'), ('hit', 'VBD'), ('hardest', 'JJS'), ('was', 'VBD'), ('the', 'DT'), ('energy', 'NN'), ('crisis', 'NN'), (',', ','), ('\"', '\"'), ('mr', 'NNP'), ('.', '.'), ('atkins', 'NNP'), ('said', 'VBD'), ('.', '.'), ('if', 'IN'), ('someone', 'NN'), ('\"', '\"'), ('had', 'VBD'), ('to', 'TO'), ('wait', 'VB'), ('in', 'IN'), ('line', 'NN'), ('for', 'IN'), ('gas', 'NN'), ('for', 'IN'), ('his', 'PRP$'), ('car', 'NN'), (',', ','), ('he', 'PRP'), ('couldn', 'VBP'), (\"'t\", 'VBG'), ('justify', 'VB'), ('\"', '\"'), ('waiting', 'VBG'), ('for', 'IN'), ('gas', 'NN'), ('for', 'IN'), ('a', 'DT'), ('snowmobile', 'NN'), ('.', '.')], senses=('formation',))\n",
            "\n",
            "Accuracy: 0.6867\n",
            "\n",
            "SensevalInstance(word='line-n', position=17, context=[('not', 'RB'), ('too', 'RB'), ('young', 'JJ'), (',', ','), ('i', 'PRP'), (\"'d\", 'MD'), ('say', 'VB'), ('.', '.'), ('a', 'DT'), ('new', 'JJ'), ('set', 'VBN'), ('of', 'IN'), ('nappies', 'NNS'), ('suddenly', 'RB'), ('appearing', 'VBG'), ('on', 'IN'), ('the', 'DT'), ('line', 'NN'), ('would', 'MD'), ('certainly', 'RB'), ('set', 'VBN'), ('the', 'DT'), ('neighbours', 'NNS'), ('chattering', 'VBG'), ('.', '.')], senses=('cord',))\n",
            "SensevalInstance(word='line-n', position=35, context=[('companies', 'NNS'), ('such', 'JJ'), ('as', 'IN'), ('gypsum', 'NN'), ('marketer', 'NN'), ('usg', 'NNP'), (',', ','), ('hotel', 'NN'), ('operator', 'NN'), ('holiday', 'NNP'), ('and', 'CC'), ('publisher', 'NN'), ('harcourt', 'NNP'), ('brace', 'NNP'), ('jovanovich', 'NNP'), ('have', 'VBP'), ('fended', 'VBN'), ('off', 'IN'), ('raiders', 'NNS'), ('by', 'IN'), ('borrowing', 'NN'), ('to', 'TO'), ('pay', 'VB'), ('big', 'JJ'), ('dividends', 'NNS'), ('.', '.'), ('either', 'CC'), ('way', 'NN'), (',', ','), ('the', 'DT'), ('stubs', 'NNS'), ('stand', 'VBP'), ('behind', 'IN'), ('a', 'DT'), ('long', 'JJ'), ('line', 'NN'), ('of', 'IN'), ('bondholders', 'NNS'), ('if', 'IN'), ('a', 'DT'), ('company', 'NN'), ('is', 'VBZ'), ('dissolved', 'VBN'), (';', ':'), ('only', 'RB'), ('after', 'IN'), ('debt', 'NN'), ('is', 'VBZ'), ('satisfied', 'VBN'), ('can', 'MD'), ('stubholders', 'NNS'), ('stake', 'VB'), ('a', 'DT'), ('claim', 'NN'), ('to', 'TO'), ('assets', 'NNS'), ('or', 'CC'), ('earnings', 'NNS'), ('.', '.')], senses=('formation',))\n",
            "SensevalInstance(word='line-n', position=71, context=[('consultants', 'NNS'), ('have', 'VBP'), ('said', 'VBD'), ('that', 'IN'), ('it', 'PRP'), ('will', 'MD'), ('take', 'VB'), ('a', 'DT'), ('while', 'NN'), ('for', 'IN'), ('all', 'PDT'), ('the', 'DT'), ('pieces', 'NNS'), ('of', 'IN'), ('the', 'DT'), ('ibm', 'NNP'), ('strategy', 'NN'), ('to', 'TO'), ('fall', 'VB'), ('into', 'IN'), ('place', 'NN'), (',', ','), ('even', 'RB'), ('though', 'IN'), ('the', 'DT'), ('specific', 'JJ'), ('products', 'NNS'), ('ibm', 'NNP'), ('unveiled', 'VBD'), ('will', 'MD'), ('generally', 'RB'), ('be', 'VB'), ('available', 'JJ'), ('by', 'IN'), ('the', 'DT'), ('end', 'NN'), ('of', 'IN'), ('the', 'DT'), ('first', 'JJ'), ('quarter', 'NN'), ('.', '.'), ('sam', 'NNP'), ('albert', 'NNP'), (',', ','), ('a', 'DT'), ('consultant', 'NN'), ('in', 'IN'), ('scarsdale', 'NNP'), (',', ','), ('n', 'NN'), ('.', '.'), ('y', 'NNP'), ('.', '.'), (',', ','), ('said', 'VBD'), ('that', 'IN'), ('in', 'IN'), ('the', 'DT'), ('past', 'JJ'), ('ibm', 'NNP'), ('has', 'VBZ'), ('developed', 'VBN'), ('broad', 'JJ'), ('software', 'NN'), ('strategies', 'NNS'), ('only', 'RB'), ('for', 'IN'), ('problems', 'NNS'), ('that', 'WDT'), ('crossed', 'VBD'), ('industry', 'NN'), ('lines', 'NNS'), ('.', '.')], senses=('division',))\n",
            "SensevalInstance(word='line-n', position=39, context=[('in', 'IN'), ('france', 'NNP'), ('the', 'DT'), ('best', 'JJS'), ('athletes', 'NNS'), ('have', 'VBP'), ('jobs', 'NNS'), ('at', 'IN'), ('which', 'WDT'), ('they', 'PRP'), ('do', 'VBP'), ('little', 'JJ'), ('or', 'CC'), ('no', 'DT'), ('work', 'NN'), (',', ','), ('in', 'IN'), ('order', 'NN'), ('to', 'TO'), ('permit', 'VB'), ('them', 'PRP'), ('to', 'TO'), ('concentrate', 'VB'), ('on', 'IN'), ('training', 'NN'), ('.', '.'), ('even', 'RB'), ('australia', 'NNP'), (',', ','), ('one', 'CD'), ('of', 'IN'), ('the', 'DT'), ('few', 'JJ'), ('nations', 'NNS'), ('that', 'WDT'), ('still', 'RB'), ('hold', 'VB'), ('a', 'DT'), ('firm', 'NN'), ('line', 'NN'), ('between', 'IN'), ('amateurism', 'NN'), ('and', 'CC'), ('professionalism', 'NN'), (',', ','), ('sends', 'VBZ'), ('its', 'PRP$'), ('team', 'NN'), ('to', 'TO'), ('camp', 'VB'), ('for', 'IN'), ('an', 'DT'), ('extended', 'VBN'), ('pre-olympic', 'JJ'), ('period', 'NN'), ('.', '.')], senses=('division',))\n",
            "SensevalInstance(word='line-n', position=55, context=[('one', 'CD'), ('reason', 'NN'), ('optima', 'NNP'), ('could', 'MD'), ('reshape', 'VB'), ('the', 'DT'), ('credit-card', 'NN'), ('business', 'NN'), ('is', 'VBZ'), ('that', 'IN'), ('american', 'NNP'), ('express', 'NNP'), ('is', 'VBZ'), ('the', 'DT'), ('first', 'JJ'), ('high-profile', 'JJ'), ('card', 'NN'), ('issuer', 'NN'), ('with', 'IN'), ('national', 'JJ'), ('marketing', 'NN'), ('muscle', 'NN'), ('to', 'TO'), ('introduce', 'VB'), ('a', 'DT'), ('low-rate', 'JJ'), ('card', 'NN'), ('.', '.'), ('beyond', 'IN'), ('that', 'DT'), (',', ','), ('its', 'PRP$'), ('foray', 'NN'), ('into', 'IN'), ('revolving', 'VBG'), ('credit', 'NN'), ('--', ':'), ('in', 'IN'), ('which', 'WDT'), ('the', 'DT'), ('card', 'NN'), ('holder', 'NN'), ('must', 'MD'), ('make', 'VB'), ('only', 'RB'), ('a', 'DT'), ('minimal', 'JJ'), ('payment', 'NN'), ('each', 'DT'), ('month', 'NN'), ('--', ':'), ('further', 'JJ'), ('blurs', 'NNS'), ('the', 'DT'), ('once-well-defined', 'JJ'), ('line', 'NN'), ('between', 'IN'), ('banks', 'NNS'), ('and', 'CC'), ('other', 'JJ'), ('financial-service', 'NN'), ('companies', 'NNS'), ('.', '.')], senses=('division',))\n",
            "\n",
            "Accuracy: 0.6928\n",
            "\n",
            "SensevalInstance(word='line-n', position=17, context=[('not', 'RB'), ('too', 'RB'), ('young', 'JJ'), (',', ','), ('i', 'PRP'), (\"'d\", 'MD'), ('say', 'VB'), ('.', '.'), ('a', 'DT'), ('new', 'JJ'), ('set', 'VBN'), ('of', 'IN'), ('nappies', 'NNS'), ('suddenly', 'RB'), ('appearing', 'VBG'), ('on', 'IN'), ('the', 'DT'), ('line', 'NN'), ('would', 'MD'), ('certainly', 'RB'), ('set', 'VBN'), ('the', 'DT'), ('neighbours', 'NNS'), ('chattering', 'VBG'), ('.', '.')], senses=('cord',))\n",
            "SensevalInstance(word='line-n', position=71, context=[('consultants', 'NNS'), ('have', 'VBP'), ('said', 'VBD'), ('that', 'IN'), ('it', 'PRP'), ('will', 'MD'), ('take', 'VB'), ('a', 'DT'), ('while', 'NN'), ('for', 'IN'), ('all', 'PDT'), ('the', 'DT'), ('pieces', 'NNS'), ('of', 'IN'), ('the', 'DT'), ('ibm', 'NNP'), ('strategy', 'NN'), ('to', 'TO'), ('fall', 'VB'), ('into', 'IN'), ('place', 'NN'), (',', ','), ('even', 'RB'), ('though', 'IN'), ('the', 'DT'), ('specific', 'JJ'), ('products', 'NNS'), ('ibm', 'NNP'), ('unveiled', 'VBD'), ('will', 'MD'), ('generally', 'RB'), ('be', 'VB'), ('available', 'JJ'), ('by', 'IN'), ('the', 'DT'), ('end', 'NN'), ('of', 'IN'), ('the', 'DT'), ('first', 'JJ'), ('quarter', 'NN'), ('.', '.'), ('sam', 'NNP'), ('albert', 'NNP'), (',', ','), ('a', 'DT'), ('consultant', 'NN'), ('in', 'IN'), ('scarsdale', 'NNP'), (',', ','), ('n', 'NN'), ('.', '.'), ('y', 'NNP'), ('.', '.'), (',', ','), ('said', 'VBD'), ('that', 'IN'), ('in', 'IN'), ('the', 'DT'), ('past', 'JJ'), ('ibm', 'NNP'), ('has', 'VBZ'), ('developed', 'VBN'), ('broad', 'JJ'), ('software', 'NN'), ('strategies', 'NNS'), ('only', 'RB'), ('for', 'IN'), ('problems', 'NNS'), ('that', 'WDT'), ('crossed', 'VBD'), ('industry', 'NN'), ('lines', 'NNS'), ('.', '.')], senses=('division',))\n",
            "SensevalInstance(word='line-n', position=39, context=[('in', 'IN'), ('france', 'NNP'), ('the', 'DT'), ('best', 'JJS'), ('athletes', 'NNS'), ('have', 'VBP'), ('jobs', 'NNS'), ('at', 'IN'), ('which', 'WDT'), ('they', 'PRP'), ('do', 'VBP'), ('little', 'JJ'), ('or', 'CC'), ('no', 'DT'), ('work', 'NN'), (',', ','), ('in', 'IN'), ('order', 'NN'), ('to', 'TO'), ('permit', 'VB'), ('them', 'PRP'), ('to', 'TO'), ('concentrate', 'VB'), ('on', 'IN'), ('training', 'NN'), ('.', '.'), ('even', 'RB'), ('australia', 'NNP'), (',', ','), ('one', 'CD'), ('of', 'IN'), ('the', 'DT'), ('few', 'JJ'), ('nations', 'NNS'), ('that', 'WDT'), ('still', 'RB'), ('hold', 'VB'), ('a', 'DT'), ('firm', 'NN'), ('line', 'NN'), ('between', 'IN'), ('amateurism', 'NN'), ('and', 'CC'), ('professionalism', 'NN'), (',', ','), ('sends', 'VBZ'), ('its', 'PRP$'), ('team', 'NN'), ('to', 'TO'), ('camp', 'VB'), ('for', 'IN'), ('an', 'DT'), ('extended', 'VBN'), ('pre-olympic', 'JJ'), ('period', 'NN'), ('.', '.')], senses=('division',))\n",
            "SensevalInstance(word='line-n', position=55, context=[('one', 'CD'), ('reason', 'NN'), ('optima', 'NNP'), ('could', 'MD'), ('reshape', 'VB'), ('the', 'DT'), ('credit-card', 'NN'), ('business', 'NN'), ('is', 'VBZ'), ('that', 'IN'), ('american', 'NNP'), ('express', 'NNP'), ('is', 'VBZ'), ('the', 'DT'), ('first', 'JJ'), ('high-profile', 'JJ'), ('card', 'NN'), ('issuer', 'NN'), ('with', 'IN'), ('national', 'JJ'), ('marketing', 'NN'), ('muscle', 'NN'), ('to', 'TO'), ('introduce', 'VB'), ('a', 'DT'), ('low-rate', 'JJ'), ('card', 'NN'), ('.', '.'), ('beyond', 'IN'), ('that', 'DT'), (',', ','), ('its', 'PRP$'), ('foray', 'NN'), ('into', 'IN'), ('revolving', 'VBG'), ('credit', 'NN'), ('--', ':'), ('in', 'IN'), ('which', 'WDT'), ('the', 'DT'), ('card', 'NN'), ('holder', 'NN'), ('must', 'MD'), ('make', 'VB'), ('only', 'RB'), ('a', 'DT'), ('minimal', 'JJ'), ('payment', 'NN'), ('each', 'DT'), ('month', 'NN'), ('--', ':'), ('further', 'JJ'), ('blurs', 'NNS'), ('the', 'DT'), ('once-well-defined', 'JJ'), ('line', 'NN'), ('between', 'IN'), ('banks', 'NNS'), ('and', 'CC'), ('other', 'JJ'), ('financial-service', 'NN'), ('companies', 'NNS'), ('.', '.')], senses=('division',))\n",
            "SensevalInstance(word='line-n', position=8, context=[('\"', '\"'), ('you', 'PRP'), ('hear', 'VBP'), ('me', 'PRP'), ('?', '.'), ('get', 'VB'), ('off', 'IN'), ('this', 'DT'), ('line', 'NN'), ('!', '.')], senses=('phone',))\n"
          ]
        }
      ]
    },
    {
      "cell_type": "code",
      "source": [
        "sns.lineplot(vocabulary_sizes, accuracies)"
      ],
      "metadata": {
        "colab": {
          "base_uri": "https://localhost:8080/",
          "height": 337
        },
        "id": "bngoqOGgMpas",
        "outputId": "a68a924d-6061-4c7c-f139-07095ccc981a"
      },
      "execution_count": 47,
      "outputs": [
        {
          "output_type": "stream",
          "name": "stderr",
          "text": [
            "/usr/local/lib/python3.7/dist-packages/seaborn/_decorators.py:43: FutureWarning: Pass the following variables as keyword args: x, y. From version 0.12, the only valid positional argument will be `data`, and passing other arguments without an explicit keyword will result in an error or misinterpretation.\n",
            "  FutureWarning\n"
          ]
        },
        {
          "output_type": "execute_result",
          "data": {
            "text/plain": [
              "<matplotlib.axes._subplots.AxesSubplot at 0x7f25386d3090>"
            ]
          },
          "metadata": {},
          "execution_count": 47
        },
        {
          "output_type": "display_data",
          "data": {
            "text/plain": [
              "<Figure size 432x288 with 1 Axes>"
            ],
            "image/png": "[encoded data removed]"
          },
          "metadata": {
            "needs_background": "light"
          }
        }
      ]
    },
    {
      "cell_type": "code",
      "source": [
        "# Test classifier with best value found for vocabulary size\n",
        "wsd_classifier(train_instances_line, test_instances_line, line_senses, 'frequency', best_vocab_size, \n",
        "               show_parameters_estimation=False, show_confusion_matrix=True)"
      ],
      "metadata": {
        "colab": {
          "base_uri": "https://localhost:8080/"
        },
        "id": "u6SMr4GAOFZm",
        "outputId": "3309608b-f2ec-425f-cbb1-30977d17c4a8"
      },
      "execution_count": 48,
      "outputs": [
        {
          "output_type": "stream",
          "name": "stderr",
          "text": [
            "/usr/local/lib/python3.7/dist-packages/ipykernel_launcher.py:40: RuntimeWarning: divide by zero encountered in log\n"
          ]
        },
        {
          "output_type": "stream",
          "name": "stdout",
          "text": [
            "\n",
            "Accuracy: 0.7361\n",
            "[[ 45   5   4   8   2   4]\n",
            " [  4  29   4   1   5   5]\n",
            " [  5   8  26   5   6  11]\n",
            " [  4   5   9  60  10   8]\n",
            " [  5  23  15  17 426  15]\n",
            " [  5   5   8   6   7  25]]\n"
          ]
        },
        {
          "output_type": "execute_result",
          "data": {
            "text/plain": [
              "0.736144578313253"
            ]
          },
          "metadata": {},
          "execution_count": 48
        }
      ]
    },
    {
      "cell_type": "code",
      "source": [
        "# Features: surrounding context of a target word\n",
        "wsd_classifier(train_instances_line, validation_instances_line, line_senses, 'context', window_size=3)"
      ],
      "metadata": {
        "colab": {
          "base_uri": "https://localhost:8080/"
        },
        "id": "4Vrh8nzzVr5t",
        "outputId": "71631454-8195-4981-a4b3-06460da8341f"
      },
      "execution_count": null,
      "outputs": [
        {
          "output_type": "stream",
          "name": "stdout",
          "text": [
            "\n",
            "Class prior probabilities:\n",
            " [0.09282842 0.08579088 0.0844504  0.10321716 0.53552279 0.09819035]\n"
          ]
        },
        {
          "output_type": "stream",
          "name": "stderr",
          "text": [
            "/usr/local/lib/python3.7/dist-packages/ipykernel_launcher.py:79: RuntimeWarning: divide by zero encountered in log\n"
          ]
        },
        {
          "output_type": "stream",
          "name": "stdout",
          "text": [
            "\n",
            "Accuracy: 0.7861\n",
            "[[ 24   5   2   3   2   2]\n",
            " [  0  24   2   0   2   2]\n",
            " [  0   1  18   2   1   0]\n",
            " [  0   0   1  21   4   2]\n",
            " [  5   2   2   7 163  12]\n",
            " [  6   1   1   2   2  11]]\n"
          ]
        },
        {
          "output_type": "execute_result",
          "data": {
            "text/plain": [
              "0.786144578313253"
            ]
          },
          "metadata": {},
          "execution_count": 64
        }
      ]
    },
    {
      "cell_type": "code",
      "source": [
        "window_sizes = [i for i in range(1, 15, 2)]"
      ],
      "metadata": {
        "id": "BgrThjLJmZaV"
      },
      "execution_count": null,
      "outputs": []
    },
    {
      "cell_type": "code",
      "source": [
        "best_acc, accuracies = 0, []\n",
        "best_window_size = None\n",
        "for window_size in window_sizes:\n",
        "  acc = wsd_classifier(train_instances_line, test_instances_line, line_senses, 'context', window_size=window_size, \n",
        "                      show_parameters_estimation=False, show_confusion_matrix=False)\n",
        "  accuracies.append(acc)\n",
        "  if acc > best_acc:\n",
        "    best_acc = acc\n",
        "    best_window_size = window_size                 "
      ],
      "metadata": {
        "colab": {
          "base_uri": "https://localhost:8080/"
        },
        "id": "3Ibt7ugImmx_",
        "outputId": "64e7ad4e-d057-4024-9e51-7ac90542ef06"
      },
      "execution_count": null,
      "outputs": [
        {
          "output_type": "stream",
          "name": "stderr",
          "text": [
            "/usr/local/lib/python3.7/dist-packages/ipykernel_launcher.py:79: RuntimeWarning: divide by zero encountered in log\n"
          ]
        },
        {
          "output_type": "stream",
          "name": "stdout",
          "text": [
            "\n",
            "Accuracy: 0.6904\n",
            "\n",
            "Accuracy: 0.8000\n",
            "\n",
            "Accuracy: 0.7783\n",
            "\n",
            "Accuracy: 0.7253\n",
            "\n",
            "Accuracy: 0.6892\n",
            "\n",
            "Accuracy: 0.6554\n",
            "\n",
            "Accuracy: 0.6133\n"
          ]
        }
      ]
    },
    {
      "cell_type": "code",
      "source": [
        "sns.lineplot(window_sizes, accuracies)"
      ],
      "metadata": {
        "colab": {
          "base_uri": "https://localhost:8080/",
          "height": 337
        },
        "id": "uKnYrd_hnA18",
        "outputId": "5e7009e0-877e-45c9-f447-da2143069648"
      },
      "execution_count": null,
      "outputs": [
        {
          "output_type": "stream",
          "name": "stderr",
          "text": [
            "/usr/local/lib/python3.7/dist-packages/seaborn/_decorators.py:43: FutureWarning: Pass the following variables as keyword args: x, y. From version 0.12, the only valid positional argument will be `data`, and passing other arguments without an explicit keyword will result in an error or misinterpretation.\n",
            "  FutureWarning\n"
          ]
        },
        {
          "output_type": "execute_result",
          "data": {
            "text/plain": [
              "<matplotlib.axes._subplots.AxesSubplot at 0x7f4219323090>"
            ]
          },
          "metadata": {},
          "execution_count": 67
        },
        {
          "output_type": "display_data",
          "data": {
            "text/plain": [
              "<Figure size 432x288 with 1 Axes>"
            ],
            "image/png": "[encoded data removed]"
          },
          "metadata": {
            "needs_background": "light"
          }
        }
      ]
    },
    {
      "cell_type": "code",
      "source": [
        "# Test classifier with best value found for window size\n",
        "wsd_classifier(train_instances_line, test_instances_line, line_senses, 'context', window_size=best_window_size, \n",
        "               show_parameters_estimation=False, show_confusion_matrix=True)"
      ],
      "metadata": {
        "colab": {
          "base_uri": "https://localhost:8080/"
        },
        "id": "F0TJsDG9nFTs",
        "outputId": "b4d9ea7e-4a43-40b7-b971-7f4ba7520fe5"
      },
      "execution_count": null,
      "outputs": [
        {
          "output_type": "stream",
          "name": "stderr",
          "text": [
            "/usr/local/lib/python3.7/dist-packages/ipykernel_launcher.py:79: RuntimeWarning: divide by zero encountered in log\n"
          ]
        },
        {
          "output_type": "stream",
          "name": "stdout",
          "text": [
            "\n",
            "Accuracy: 0.8000\n",
            "[[ 46   5  11  14   6  10]\n",
            " [  1  70   0   2   6   2]\n",
            " [  0   2  33   1   1   2]\n",
            " [  3   0   7  46   0   3]\n",
            " [  9   7  18  22 425  21]\n",
            " [  2   1   2   1   7  44]]\n"
          ]
        },
        {
          "output_type": "execute_result",
          "data": {
            "text/plain": [
              "0.8"
            ]
          },
          "metadata": {},
          "execution_count": 68
        }
      ]
    },
    {
      "cell_type": "code",
      "source": [
        "# Features: surrounding context and corresponding pos_tags of a target word\n",
        "wsd_classifier(train_instances_line, validation_instances_line, line_senses, 'context', window_size=3, pos_tag=True)"
      ],
      "metadata": {
        "colab": {
          "base_uri": "https://localhost:8080/"
        },
        "id": "I7RQ2i0ixvVI",
        "outputId": "c7406d59-0d5f-4950-9430-0ea032683199"
      },
      "execution_count": null,
      "outputs": [
        {
          "output_type": "stream",
          "name": "stdout",
          "text": [
            "\n",
            "Class prior probabilities:\n",
            " [0.09282842 0.08579088 0.0844504  0.10321716 0.53552279 0.09819035]\n",
            "\n",
            "Accuracy: 0.5241\n",
            "[[  0   0   0   0   0   0]\n",
            " [  0   0   0   0   0   0]\n",
            " [  0   0   0   0   0   0]\n",
            " [  0   0   0   0   0   0]\n",
            " [ 35  33  26  35 174  29]\n",
            " [  0   0   0   0   0   0]]\n"
          ]
        },
        {
          "output_type": "stream",
          "name": "stderr",
          "text": [
            "/usr/local/lib/python3.7/dist-packages/ipykernel_launcher.py:79: RuntimeWarning: divide by zero encountered in log\n"
          ]
        },
        {
          "output_type": "execute_result",
          "data": {
            "text/plain": [
              "0.5240963855421686"
            ]
          },
          "metadata": {},
          "execution_count": 69
        }
      ]
    },
    {
      "cell_type": "code",
      "source": [
        "window_size = [i for i in range(1, 4, 1)]\n",
        "best_acc, accuracies = 0, []\n",
        "best_window_size = None\n",
        "for window_size in window_sizes:\n",
        "  acc = wsd_classifier(train_instances_line, validation_instances_line, line_senses, 'context', window_size=window_size, pos_tag=True,\n",
        "                      show_parameters_estimation=False, show_confusion_matrix=False)\n",
        "  accuracies.append(acc)\n",
        "  if acc > best_acc:\n",
        "    best_acc = acc\n",
        "    best_window_size = window_size                 "
      ],
      "metadata": {
        "colab": {
          "base_uri": "https://localhost:8080/"
        },
        "id": "IamS_UYc3IsA",
        "outputId": "7b7cb64a-779b-4a86-d32d-4af6ddf8b81e"
      },
      "execution_count": null,
      "outputs": [
        {
          "output_type": "stream",
          "name": "stderr",
          "text": [
            "/usr/local/lib/python3.7/dist-packages/ipykernel_launcher.py:79: RuntimeWarning: divide by zero encountered in log\n"
          ]
        },
        {
          "output_type": "stream",
          "name": "stdout",
          "text": [
            "\n",
            "Accuracy: 0.5000\n",
            "\n",
            "Accuracy: 0.5000\n",
            "\n",
            "Accuracy: 0.5000\n",
            "\n",
            "Accuracy: 0.5000\n",
            "\n",
            "Accuracy: 0.5000\n",
            "\n",
            "Accuracy: 0.5000\n",
            "\n",
            "Accuracy: 0.5000\n"
          ]
        }
      ]
    },
    {
      "cell_type": "code",
      "source": [
        "# Test classifier with best value found for window size\n",
        "wsd_classifier(train_instances_line, test_instances_line, line_senses, 'context', window_size=best_window_size, pos_tag=True,\n",
        "               show_parameters_estimation=False, show_confusion_matrix=True)"
      ],
      "metadata": {
        "colab": {
          "base_uri": "https://localhost:8080/"
        },
        "id": "m8dpl2NZ36xs",
        "outputId": "1166c03f-f52a-4900-b47b-30e8a7934942"
      },
      "execution_count": null,
      "outputs": [
        {
          "output_type": "stream",
          "name": "stdout",
          "text": [
            "\n",
            "Accuracy: 0.5289\n",
            "[[  0   0   0   0   0   0]\n",
            " [  0   0   0   0   0   0]\n",
            " [  0   0   0   0   0   0]\n",
            " [  0   0   0   0   0   0]\n",
            " [ 84  69  70  81 439  87]\n",
            " [  0   0   0   0   0   0]]\n"
          ]
        },
        {
          "output_type": "stream",
          "name": "stderr",
          "text": [
            "/usr/local/lib/python3.7/dist-packages/ipykernel_launcher.py:79: RuntimeWarning: divide by zero encountered in log\n"
          ]
        },
        {
          "output_type": "execute_result",
          "data": {
            "text/plain": [
              "0.5289156626506024"
            ]
          },
          "metadata": {},
          "execution_count": 226
        }
      ]
    },
    {
      "cell_type": "code",
      "source": [
        "# Split the instances into a training, validation and test set\n",
        "train_instances_hard, test_instances_hard = train_test_split(hard_instances, test_size=0.2)\n",
        "train_instances_hard, validation_instances_hard = train_test_split(train_instances_hard, test_size=0.1)\n",
        "print('Train set size:', len(train_instances_hard))\n",
        "print('Validation set size:', len(validation_instances_hard))\n",
        "print('Test set size:', len(test_instances_hard))"
      ],
      "metadata": {
        "colab": {
          "base_uri": "https://localhost:8080/"
        },
        "id": "yHksbFi9Aciw",
        "outputId": "3daa94ec-52ba-49ab-ebf6-038a9fd4a063"
      },
      "execution_count": null,
      "outputs": [
        {
          "output_type": "stream",
          "name": "stdout",
          "text": [
            "Train set size: 3119\n",
            "Validation set size: 347\n",
            "Test set size: 867\n"
          ]
        }
      ]
    },
    {
      "cell_type": "code",
      "source": [
        "wsd_classifier(train_instances_hard, validation_instances_hard, hard_senses, 'frequency', 300)"
      ],
      "metadata": {
        "colab": {
          "base_uri": "https://localhost:8080/"
        },
        "id": "QegrQvIUK9Ve",
        "outputId": "a0e3c8b4-4cf2-40ad-c73d-b69fd3fceffe"
      },
      "execution_count": null,
      "outputs": [
        {
          "output_type": "stream",
          "name": "stdout",
          "text": [
            "\n",
            "Class prior probabilities:\n",
            " [0.79544726 0.119269   0.08528374]\n",
            "\n",
            "Likelihood:\n",
            " [[1.40984971e-01 1.54246191e-01 6.58900619e-02 4.59202247e-02\n",
            "  2.24140621e-02 2.32461386e-02 2.12699568e-02 1.56014353e-04\n",
            "  1.09210047e-02 1.18570909e-02 1.19090956e-02 9.46487077e-03\n",
            "  9.20484685e-03 9.20484685e-03 7.64470331e-03 2.91226793e-03\n",
            "  7.48868896e-03 6.13656456e-03 6.70861719e-03 7.64470331e-03\n",
            "  6.55260284e-03 7.28066982e-03 6.76062198e-03 5.72052629e-03\n",
            "  5.98055021e-03 5.77253107e-03 5.09646888e-03 4.47241146e-03\n",
            "  5.25248323e-03 4.57642103e-03 1.40412918e-03 2.75625358e-03\n",
            "  3.90035883e-03 0.00000000e+00 4.88844974e-03 4.21238754e-03\n",
            "  4.26439232e-03 3.95236362e-03 3.12028707e-03 3.22429664e-03\n",
            "  3.58833013e-03 3.79634926e-03 3.53632534e-03 3.84835405e-03\n",
            "  3.32830620e-03 3.17229185e-03 3.32830620e-03 3.58833013e-03\n",
            "  2.54823444e-03 2.75625358e-03 2.70424879e-03 2.80825836e-03\n",
            "  2.02818659e-03 2.80825836e-03 2.65224401e-03 2.86026314e-03\n",
            "  2.80825836e-03 3.01627750e-03 2.49622965e-03 2.86026314e-03\n",
            "  2.80825836e-03 2.34021530e-03 2.65224401e-03 2.39222008e-03\n",
            "  2.65224401e-03 2.70424879e-03 2.34021530e-03 2.08019138e-03\n",
            "  2.28821052e-03 2.60023922e-03 1.92417702e-03 2.44422487e-03\n",
            "  2.49622965e-03 2.34021530e-03 2.18420095e-03 2.34021530e-03\n",
            "  2.39222008e-03 2.08019138e-03 1.87217224e-03 1.56014353e-03\n",
            "  1.71615789e-03 1.61214832e-03 1.71615789e-03 1.82016746e-03\n",
            "  1.92417702e-03 1.87217224e-03 1.92417702e-03 2.08019138e-03\n",
            "  1.56014353e-03 1.61214832e-03 1.71615789e-03 1.66415310e-03\n",
            "  1.82016746e-03 1.97618181e-03 1.56014353e-03 1.66415310e-03\n",
            "  1.71615789e-03 1.66415310e-03 1.50813875e-03 1.82016746e-03\n",
            "  1.92417702e-03 1.71615789e-03 1.56014353e-03 1.50813875e-03\n",
            "  1.50813875e-03 1.45613396e-03 1.45613396e-03 1.56014353e-03\n",
            "  1.56014353e-03 1.50813875e-03 1.56014353e-03 1.56014353e-03\n",
            "  1.50813875e-03 1.66415310e-03 1.45613396e-03 1.50813875e-03\n",
            "  1.19611004e-03 1.24811483e-03 1.04009569e-03 1.45613396e-03\n",
            "  1.40412918e-03 1.19611004e-03 1.35212440e-03 1.45613396e-03\n",
            "  1.30011961e-03 1.24811483e-03 8.32076551e-04 1.30011961e-03\n",
            "  1.14410526e-03 8.84081335e-04 9.88090904e-04 1.24811483e-03\n",
            "  1.04009569e-04 1.24811483e-03 1.04009569e-03 1.19611004e-03\n",
            "  1.40412918e-03 1.09210047e-03 1.56014353e-03 9.88090904e-04\n",
            "  1.24811483e-03 1.09210047e-03 1.30011961e-03 3.64033491e-04\n",
            "  1.14410526e-03 1.24811483e-03 1.19611004e-03 1.09210047e-03\n",
            "  1.14410526e-03 6.24057413e-04 1.14410526e-03 8.32076551e-04\n",
            "  1.09210047e-03 1.35212440e-03 9.36086120e-04 9.88090904e-04\n",
            "  1.04009569e-03 1.09210047e-03 1.35212440e-03 1.14410526e-03\n",
            "  8.32076551e-04 1.09210047e-03 9.88090904e-04 9.36086120e-04\n",
            "  8.84081335e-04 1.14410526e-03 8.32076551e-04 1.14410526e-03\n",
            "  8.32076551e-04 9.88090904e-04 1.04009569e-03 1.04009569e-03\n",
            "  1.04009569e-03 8.84081335e-04 9.88090904e-04 9.36086120e-04\n",
            "  1.19611004e-03 8.84081335e-04 9.36086120e-04 1.14410526e-03\n",
            "  1.09210047e-03 9.36086120e-04 1.09210047e-03 1.30011961e-03\n",
            "  1.09210047e-03 6.24057413e-04 8.84081335e-04 9.36086120e-04\n",
            "  8.32076551e-04 9.36086120e-04 1.04009569e-03 4.68043060e-04\n",
            "  1.04009569e-04 9.36086120e-04 9.36086120e-04 9.36086120e-04\n",
            "  1.09210047e-03 8.84081335e-04 1.09210047e-03 8.84081335e-04\n",
            "  1.09210047e-03 9.36086120e-04 9.36086120e-04 8.84081335e-04\n",
            "  7.28066982e-04 7.80071767e-04 1.09210047e-03 1.09210047e-03\n",
            "  9.88090904e-04 1.19611004e-03 1.09210047e-03 9.88090904e-04\n",
            "  1.09210047e-03 8.32076551e-04 9.88090904e-04 8.32076551e-04\n",
            "  9.36086120e-04 3.12028707e-04 5.72052629e-04 7.28066982e-04\n",
            "  9.88090904e-04 6.24057413e-04 8.84081335e-04 8.84081335e-04\n",
            "  9.36086120e-04 9.36086120e-04 6.24057413e-04 7.28066982e-04\n",
            "  6.76062198e-04 7.80071767e-04 9.88090904e-04 7.80071767e-04\n",
            "  9.36086120e-04 7.80071767e-04 7.80071767e-04 9.36086120e-04\n",
            "  8.84081335e-04 8.84081335e-04 9.88090904e-04 3.64033491e-04\n",
            "  8.32076551e-04 6.76062198e-04 9.36086120e-04 7.28066982e-04\n",
            "  6.24057413e-04 8.32076551e-04 5.20047844e-04 6.76062198e-04\n",
            "  8.32076551e-04 9.88090904e-04 7.80071767e-04 6.76062198e-04\n",
            "  7.80071767e-04 8.84081335e-04 9.88090904e-04 9.88090904e-04\n",
            "  6.76062198e-04 9.36086120e-04 1.09210047e-03 8.32076551e-04\n",
            "  9.36086120e-04 9.36086120e-04 7.28066982e-04 5.72052629e-04\n",
            "  7.80071767e-04 8.84081335e-04 8.32076551e-04 6.24057413e-04\n",
            "  6.76062198e-04 7.80071767e-04 7.28066982e-04 7.80071767e-04\n",
            "  7.80071767e-04 8.84081335e-04 7.28066982e-04 7.80071767e-04\n",
            "  6.24057413e-04 6.76062198e-04 7.28066982e-04 6.76062198e-04\n",
            "  8.84081335e-04 8.84081335e-04 6.76062198e-04 8.32076551e-04\n",
            "  7.80071767e-04 6.76062198e-04 7.28066982e-04 8.84081335e-04\n",
            "  5.20047844e-04 8.84081335e-04 6.76062198e-04 7.28066982e-04\n",
            "  7.80071767e-04 6.24057413e-04 7.28066982e-04 7.80071767e-04\n",
            "  6.24057413e-04 7.80071767e-04 7.28066982e-04 6.24057413e-04\n",
            "  6.76062198e-04]\n",
            " [1.38647019e-01 1.91225720e-01 2.37776289e-02 4.11922304e-02\n",
            "  2.57870060e-02 1.74146015e-02 1.40656397e-02 0.00000000e+00\n",
            "  9.04219692e-03 5.69323510e-03 1.03817816e-02 4.35365037e-03\n",
            "  9.37709310e-03 4.68854655e-03 6.69792364e-03 3.81781648e-02\n",
            "  6.36302746e-03 6.02813128e-03 8.03750837e-03 1.67448091e-03\n",
            "  8.03750837e-03 2.00937709e-03 6.36302746e-03 3.68385800e-03\n",
            "  3.01406564e-03 1.67448091e-03 4.35365037e-03 4.01875419e-03\n",
            "  2.34427328e-03 3.01406564e-03 2.24380442e-02 1.37307435e-02\n",
            "  6.02813128e-03 0.00000000e+00 2.34427328e-03 2.34427328e-03\n",
            "  2.67916946e-03 2.34427328e-03 5.69323510e-03 6.02813128e-03\n",
            "  2.67916946e-03 1.33958473e-03 2.00937709e-03 0.00000000e+00\n",
            "  3.68385800e-03 2.34427328e-03 2.34427328e-03 3.34896182e-04\n",
            "  2.00937709e-03 2.67916946e-03 1.67448091e-03 1.67448091e-03\n",
            "  6.36302746e-03 6.69792364e-04 2.34427328e-03 1.00468855e-03\n",
            "  3.01406564e-03 1.00468855e-03 2.34427328e-03 1.33958473e-03\n",
            "  6.69792364e-04 2.67916946e-03 1.33958473e-03 2.67916946e-03\n",
            "  2.67916946e-03 1.33958473e-03 2.67916946e-03 4.35365037e-03\n",
            "  3.68385800e-03 3.34896182e-04 3.34896182e-03 2.34427328e-03\n",
            "  1.00468855e-03 1.00468855e-03 2.34427328e-03 1.33958473e-03\n",
            "  1.00468855e-03 2.34427328e-03 2.34427328e-03 3.68385800e-03\n",
            "  1.67448091e-03 0.00000000e+00 1.00468855e-03 1.33958473e-03\n",
            "  6.69792364e-04 2.00937709e-03 1.00468855e-03 1.33958473e-03\n",
            "  3.01406564e-03 3.01406564e-03 2.67916946e-03 2.00937709e-03\n",
            "  2.00937709e-03 0.00000000e+00 3.01406564e-03 1.67448091e-03\n",
            "  2.00937709e-03 1.67448091e-03 3.01406564e-03 1.00468855e-03\n",
            "  0.00000000e+00 2.00937709e-03 3.68385800e-03 2.00937709e-03\n",
            "  2.00937709e-03 1.00468855e-03 6.69792364e-04 3.34896182e-04\n",
            "  2.00937709e-03 1.00468855e-03 1.00468855e-03 2.00937709e-03\n",
            "  0.00000000e+00 1.00468855e-03 6.69792364e-04 1.00468855e-03\n",
            "  6.69792364e-04 1.00468855e-03 1.33958473e-03 3.34896182e-04\n",
            "  1.00468855e-03 1.67448091e-03 1.33958473e-03 0.00000000e+00\n",
            "  1.67448091e-03 1.00468855e-03 1.00468855e-03 1.33958473e-03\n",
            "  2.00937709e-03 1.00468855e-03 3.34896182e-04 1.67448091e-03\n",
            "  8.70730074e-03 1.00468855e-03 1.67448091e-03 1.00468855e-03\n",
            "  3.34896182e-04 0.00000000e+00 6.69792364e-04 1.33958473e-03\n",
            "  1.00468855e-03 2.00937709e-03 6.69792364e-04 3.34896182e-04\n",
            "  1.00468855e-03 0.00000000e+00 3.34896182e-04 1.67448091e-03\n",
            "  1.00468855e-03 4.68854655e-03 3.34896182e-04 3.01406564e-03\n",
            "  1.33958473e-03 0.00000000e+00 3.01406564e-03 6.69792364e-04\n",
            "  1.67448091e-03 3.34896182e-04 0.00000000e+00 6.69792364e-04\n",
            "  2.67916946e-03 1.00468855e-03 1.67448091e-03 2.00937709e-03\n",
            "  2.34427328e-03 1.00468855e-03 2.00937709e-03 6.69792364e-04\n",
            "  2.34427328e-03 1.67448091e-03 1.33958473e-03 3.34896182e-04\n",
            "  1.33958473e-03 3.34896182e-04 2.00937709e-03 2.34427328e-03\n",
            "  3.34896182e-04 2.00937709e-03 6.69792364e-04 0.00000000e+00\n",
            "  6.69792364e-04 1.33958473e-03 1.00468855e-03 3.34896182e-04\n",
            "  1.33958473e-03 3.68385800e-03 1.00468855e-03 2.34427328e-03\n",
            "  1.67448091e-03 1.33958473e-03 3.34896182e-04 0.00000000e+00\n",
            "  1.00468855e-03 1.33958473e-03 1.67448091e-03 1.00468855e-03\n",
            "  1.33958473e-03 1.00468855e-03 0.00000000e+00 1.67448091e-03\n",
            "  3.34896182e-04 6.69792364e-04 3.34896182e-04 1.00468855e-03\n",
            "  2.00937709e-03 6.69792364e-04 3.34896182e-04 0.00000000e+00\n",
            "  6.69792364e-04 0.00000000e+00 3.34896182e-04 1.00468855e-03\n",
            "  3.34896182e-04 6.69792364e-04 6.69792364e-04 6.69792364e-04\n",
            "  1.67448091e-03 1.00468855e-03 2.00937709e-03 2.00937709e-03\n",
            "  6.69792364e-04 2.00937709e-03 1.00468855e-03 6.69792364e-04\n",
            "  3.34896182e-04 3.34896182e-04 6.69792364e-04 2.00937709e-03\n",
            "  2.00937709e-03 6.69792364e-04 6.69792364e-04 1.33958473e-03\n",
            "  0.00000000e+00 1.00468855e-03 1.33958473e-03 6.69792364e-04\n",
            "  1.33958473e-03 1.33958473e-03 3.34896182e-04 4.01875419e-03\n",
            "  1.33958473e-03 1.00468855e-03 6.69792364e-04 1.00468855e-03\n",
            "  1.67448091e-03 6.69792364e-04 3.34896182e-04 2.00937709e-03\n",
            "  6.69792364e-04 6.69792364e-04 6.69792364e-04 1.67448091e-03\n",
            "  1.33958473e-03 1.33958473e-03 0.00000000e+00 0.00000000e+00\n",
            "  3.34896182e-04 3.34896182e-04 3.34896182e-04 3.34896182e-04\n",
            "  3.34896182e-04 3.34896182e-04 1.33958473e-03 1.00468855e-03\n",
            "  6.69792364e-04 6.69792364e-04 3.34896182e-04 3.34896182e-04\n",
            "  1.00468855e-03 6.69792364e-04 6.69792364e-04 1.00468855e-03\n",
            "  6.69792364e-04 3.34896182e-04 1.67448091e-03 1.00468855e-03\n",
            "  1.67448091e-03 1.67448091e-03 6.69792364e-04 2.00937709e-03\n",
            "  0.00000000e+00 0.00000000e+00 6.69792364e-04 3.34896182e-04\n",
            "  1.00468855e-03 6.69792364e-04 6.69792364e-04 0.00000000e+00\n",
            "  6.69792364e-04 0.00000000e+00 6.69792364e-04 1.00468855e-03\n",
            "  1.33958473e-03 1.33958473e-03 6.69792364e-04 6.69792364e-04\n",
            "  2.34427328e-03 6.69792364e-04 1.00468855e-03 1.00468855e-03\n",
            "  3.34896182e-04]\n",
            " [1.64132145e-01 2.48033561e-01 1.67802832e-02 2.83167278e-02\n",
            "  2.20241217e-02 9.43890928e-03 5.24383849e-03 0.00000000e+00\n",
            "  7.34137389e-03 3.14630309e-03 1.25852124e-02 3.14630309e-03\n",
            "  1.52071316e-02 5.24383849e-03 5.76822234e-03 2.09753540e-03\n",
            "  4.19507079e-03 1.20608285e-02 1.62558993e-02 1.57315155e-03\n",
            "  1.62558993e-02 4.19507079e-03 1.57315155e-03 3.14630309e-03\n",
            "  5.24383849e-04 5.24383849e-04 5.24383849e-03 3.67068694e-03\n",
            "  1.04876770e-03 3.67068694e-03 3.14630309e-03 1.57315155e-03\n",
            "  2.09753540e-03 0.00000000e+00 3.67068694e-03 1.04876770e-03\n",
            "  2.09753540e-03 4.19507079e-03 4.71945464e-03 4.71945464e-03\n",
            "  2.09753540e-03 1.04876770e-03 2.62191924e-03 5.24383849e-04\n",
            "  2.09753540e-03 2.09753540e-03 5.24383849e-04 1.04876770e-03\n",
            "  6.29260619e-03 3.14630309e-03 2.62191924e-03 1.57315155e-03\n",
            "  2.09753540e-03 2.62191924e-03 3.14630309e-03 2.09753540e-03\n",
            "  5.24383849e-04 0.00000000e+00 3.67068694e-03 1.57315155e-03\n",
            "  1.57315155e-03 2.09753540e-03 1.57315155e-03 8.39014158e-03\n",
            "  1.04876770e-03 0.00000000e+00 5.24383849e-04 2.09753540e-03\n",
            "  2.62191924e-03 1.04876770e-03 3.67068694e-03 2.09753540e-03\n",
            "  1.04876770e-03 1.57315155e-03 1.57315155e-03 5.24383849e-04\n",
            "  1.57315155e-03 5.24383849e-04 1.57315155e-03 1.57315155e-03\n",
            "  3.14630309e-03 7.34137389e-03 4.71945464e-03 2.09753540e-03\n",
            "  1.57315155e-03 1.04876770e-03 1.57315155e-03 5.24383849e-04\n",
            "  1.04876770e-03 1.04876770e-03 5.24383849e-04 2.62191924e-03\n",
            "  5.24383849e-04 5.24383849e-04 1.04876770e-03 1.57315155e-03\n",
            "  1.57315155e-03 1.25852124e-02 5.24383849e-04 1.04876770e-03\n",
            "  0.00000000e+00 0.00000000e+00 5.24383849e-04 1.57315155e-03\n",
            "  1.57315155e-03 1.57315155e-03 2.62191924e-03 1.57315155e-03\n",
            "  0.00000000e+00 5.24383849e-04 0.00000000e+00 1.04876770e-03\n",
            "  2.09753540e-03 1.04876770e-03 1.04876770e-03 5.24383849e-04\n",
            "  4.71945464e-03 1.57315155e-03 3.14630309e-03 5.24383849e-04\n",
            "  0.00000000e+00 1.04876770e-03 1.57315155e-03 1.04876770e-03\n",
            "  5.24383849e-04 1.57315155e-03 1.10120608e-02 2.09753540e-03\n",
            "  1.04876770e-03 4.71945464e-03 6.81699004e-03 0.00000000e+00\n",
            "  0.00000000e+00 5.24383849e-04 1.57315155e-03 1.04876770e-03\n",
            "  0.00000000e+00 3.67068694e-03 1.04876770e-03 3.67068694e-03\n",
            "  5.24383849e-04 5.24383849e-04 1.04876770e-03 1.10120608e-02\n",
            "  1.04876770e-03 2.09753540e-03 1.57315155e-03 1.04876770e-03\n",
            "  5.24383849e-04 0.00000000e+00 2.09753540e-03 5.24383849e-04\n",
            "  1.04876770e-03 0.00000000e+00 0.00000000e+00 2.09753540e-03\n",
            "  0.00000000e+00 1.57315155e-03 1.04876770e-03 5.24383849e-04\n",
            "  5.24383849e-04 5.24383849e-04 5.24383849e-04 5.24383849e-04\n",
            "  5.24383849e-04 0.00000000e+00 1.57315155e-03 5.24383849e-04\n",
            "  5.24383849e-04 0.00000000e+00 0.00000000e+00 2.09753540e-03\n",
            "  5.24383849e-04 3.14630309e-03 0.00000000e+00 0.00000000e+00\n",
            "  0.00000000e+00 5.24383849e-04 1.57315155e-03 5.24383849e-04\n",
            "  0.00000000e+00 5.24383849e-04 0.00000000e+00 0.00000000e+00\n",
            "  5.24383849e-04 5.24383849e-04 3.14630309e-03 0.00000000e+00\n",
            "  5.24383849e-04 5.24383849e-04 1.04876770e-03 7.34137389e-03\n",
            "  9.43890928e-03 0.00000000e+00 5.24383849e-04 5.24383849e-04\n",
            "  0.00000000e+00 1.57315155e-03 1.04876770e-03 0.00000000e+00\n",
            "  1.57315155e-03 1.57315155e-03 1.57315155e-03 5.24383849e-04\n",
            "  5.24383849e-04 4.71945464e-03 0.00000000e+00 0.00000000e+00\n",
            "  5.24383849e-04 0.00000000e+00 5.24383849e-04 0.00000000e+00\n",
            "  0.00000000e+00 2.09753540e-03 5.24383849e-04 1.57315155e-03\n",
            "  0.00000000e+00 6.29260619e-03 2.62191924e-03 1.04876770e-03\n",
            "  0.00000000e+00 1.04876770e-03 5.24383849e-04 5.24383849e-04\n",
            "  5.24383849e-04 5.24383849e-04 3.14630309e-03 5.24383849e-04\n",
            "  1.04876770e-03 1.57315155e-03 0.00000000e+00 5.24383849e-04\n",
            "  1.04876770e-03 1.57315155e-03 5.24383849e-04 5.24383849e-04\n",
            "  0.00000000e+00 5.24383849e-04 5.24383849e-04 5.24383849e-04\n",
            "  0.00000000e+00 2.62191924e-03 0.00000000e+00 1.04876770e-03\n",
            "  1.04876770e-03 1.04876770e-03 4.19507079e-03 5.24383849e-04\n",
            "  5.24383849e-04 0.00000000e+00 1.04876770e-03 5.24383849e-04\n",
            "  0.00000000e+00 5.24383849e-04 0.00000000e+00 0.00000000e+00\n",
            "  2.62191924e-03 0.00000000e+00 1.04876770e-03 1.04876770e-03\n",
            "  0.00000000e+00 5.24383849e-04 0.00000000e+00 2.09753540e-03\n",
            "  1.04876770e-03 5.24383849e-04 5.24383849e-04 2.62191924e-03\n",
            "  1.04876770e-03 5.24383849e-04 1.57315155e-03 0.00000000e+00\n",
            "  1.04876770e-03 5.24383849e-04 0.00000000e+00 0.00000000e+00\n",
            "  5.24383849e-04 5.24383849e-04 1.04876770e-03 5.24383849e-04\n",
            "  5.24383849e-04 5.24383849e-04 1.57315155e-03 0.00000000e+00\n",
            "  0.00000000e+00 1.57315155e-03 1.04876770e-03 5.24383849e-04\n",
            "  2.62191924e-03 5.24383849e-04 1.04876770e-03 5.24383849e-04\n",
            "  0.00000000e+00 1.04876770e-03 5.24383849e-04 5.24383849e-04\n",
            "  0.00000000e+00 0.00000000e+00 0.00000000e+00 5.24383849e-04\n",
            "  1.04876770e-03]]\n",
            "\n",
            "Accuracy: 0.8357\n",
            "[[264  25  22]\n",
            " [  5  19   0]\n",
            " [  3   2   7]]\n"
          ]
        },
        {
          "output_type": "stream",
          "name": "stderr",
          "text": [
            "/usr/local/lib/python3.7/dist-packages/ipykernel_launcher.py:40: RuntimeWarning: divide by zero encountered in log\n"
          ]
        },
        {
          "output_type": "execute_result",
          "data": {
            "text/plain": [
              "0.8357348703170029"
            ]
          },
          "metadata": {},
          "execution_count": 113
        }
      ]
    },
    {
      "cell_type": "code",
      "source": [
        "best_acc, accuracies = 0, []\n",
        "best_vocab_size = None\n",
        "for vocabulary_size in vocabulary_sizes:\n",
        "  acc = wsd_classifier(train_instances_hard, validation_instances_hard, hard_senses, 'frequency', vocabulary_size, \n",
        "                       show_parameters_estimation=False, show_confusion_matrix=False)\n",
        "  accuracies.append(acc)\n",
        "  if acc > best_acc:\n",
        "    best_acc = acc\n",
        "    best_vocab_size = vocabulary_size                 "
      ],
      "metadata": {
        "colab": {
          "base_uri": "https://localhost:8080/"
        },
        "id": "_ZB-PUuRPMDW",
        "outputId": "0a02eba8-0454-45bb-8a87-c6f0ef557aed"
      },
      "execution_count": null,
      "outputs": [
        {
          "output_type": "stream",
          "name": "stderr",
          "text": [
            "/usr/local/lib/python3.7/dist-packages/ipykernel_launcher.py:40: RuntimeWarning: divide by zero encountered in log\n"
          ]
        },
        {
          "output_type": "stream",
          "name": "stdout",
          "text": [
            "\n",
            "Accuracy: 0.8156\n",
            "\n",
            "Accuracy: 0.8156\n",
            "\n",
            "Accuracy: 0.8357\n",
            "\n",
            "Accuracy: 0.8444\n",
            "\n",
            "Accuracy: 0.8329\n"
          ]
        }
      ]
    },
    {
      "cell_type": "code",
      "source": [
        "sns.lineplot(vocabulary_sizes, accuracies)"
      ],
      "metadata": {
        "colab": {
          "base_uri": "https://localhost:8080/",
          "height": 337
        },
        "id": "7uOC1qcWPVbg",
        "outputId": "e1712cf3-1dce-4a80-d9dd-d41ef1563b7f"
      },
      "execution_count": null,
      "outputs": [
        {
          "output_type": "stream",
          "name": "stderr",
          "text": [
            "/usr/local/lib/python3.7/dist-packages/seaborn/_decorators.py:43: FutureWarning: Pass the following variables as keyword args: x, y. From version 0.12, the only valid positional argument will be `data`, and passing other arguments without an explicit keyword will result in an error or misinterpretation.\n",
            "  FutureWarning\n"
          ]
        },
        {
          "output_type": "execute_result",
          "data": {
            "text/plain": [
              "<matplotlib.axes._subplots.AxesSubplot at 0x7f0fe12fdc10>"
            ]
          },
          "metadata": {},
          "execution_count": 117
        },
        {
          "output_type": "display_data",
          "data": {
            "text/plain": [
              "<Figure size 432x288 with 1 Axes>"
            ],
            "image/png": "[encoded data removed]"
          },
          "metadata": {
            "needs_background": "light"
          }
        }
      ]
    },
    {
      "cell_type": "code",
      "source": [
        "# Test classifier with best value found for vocabulary size\n",
        "wsd_classifier(train_instances_hard, test_instances_hard, hard_senses, 'frequency', best_vocab_size, show_parameters_estimation=False)"
      ],
      "metadata": {
        "colab": {
          "base_uri": "https://localhost:8080/"
        },
        "id": "L5VBFy11qoin",
        "outputId": "075ff87c-de66-4422-9f16-a43f0cbe1b6a"
      },
      "execution_count": null,
      "outputs": [
        {
          "output_type": "stream",
          "name": "stdout",
          "text": [
            "\n",
            "Accuracy: 0.8662\n",
            "[[688  42  54]\n",
            " [  8  40   4]\n",
            " [  6   2  23]]\n"
          ]
        },
        {
          "output_type": "stream",
          "name": "stderr",
          "text": [
            "/usr/local/lib/python3.7/dist-packages/ipykernel_launcher.py:40: RuntimeWarning: divide by zero encountered in log\n"
          ]
        },
        {
          "output_type": "execute_result",
          "data": {
            "text/plain": [
              "0.8662053056516724"
            ]
          },
          "metadata": {},
          "execution_count": 118
        }
      ]
    },
    {
      "cell_type": "code",
      "source": [
        "# Features: surrounding context of a target word\n",
        "wsd_classifier(train_instances_hard, validation_instances_hard, hard_senses, 'context', window_size=3)"
      ],
      "metadata": {
        "colab": {
          "base_uri": "https://localhost:8080/"
        },
        "id": "FPE-KpNz91EO",
        "outputId": "86403996-b311-4c9e-e5e6-94b9eb4b21c5"
      },
      "execution_count": null,
      "outputs": [
        {
          "output_type": "stream",
          "name": "stdout",
          "text": [
            "\n",
            "Class prior probabilities:\n",
            " [0.79544726 0.119269   0.08528374]\n"
          ]
        },
        {
          "output_type": "stream",
          "name": "stderr",
          "text": [
            "/usr/local/lib/python3.7/dist-packages/ipykernel_launcher.py:79: RuntimeWarning: divide by zero encountered in log\n"
          ]
        },
        {
          "output_type": "stream",
          "name": "stdout",
          "text": [
            "\n",
            "Accuracy: 0.8905\n",
            "[[265  17  11]\n",
            " [  5  27   1]\n",
            " [  2   2  17]]\n"
          ]
        },
        {
          "output_type": "execute_result",
          "data": {
            "text/plain": [
              "0.8904899135446686"
            ]
          },
          "metadata": {},
          "execution_count": 228
        }
      ]
    },
    {
      "cell_type": "code",
      "source": [
        "window_size = [i for i in range(1, 4, 1)]\n",
        "best_acc, accuracies = 0, []\n",
        "best_window_size = None\n",
        "for window_size in window_sizes:\n",
        "  acc = wsd_classifier(train_instances_hard, validation_instances_hard, hard_senses, 'context', window_size=window_size, pos_tag=True,\n",
        "                       show_parameters_estimation=False, show_confusion_matrix=False)\n",
        "  accuracies.append(acc)\n",
        "  if acc > best_acc:\n",
        "    best_acc = acc\n",
        "    best_window_size = window_size                 "
      ],
      "metadata": {
        "colab": {
          "base_uri": "https://localhost:8080/"
        },
        "id": "NSTqtqpM-JsM",
        "outputId": "ccefc193-0891-49a7-c684-27abad3066a9"
      },
      "execution_count": null,
      "outputs": [
        {
          "output_type": "stream",
          "name": "stdout",
          "text": [
            "\n",
            "Accuracy: 0.7839\n",
            "\n",
            "Accuracy: 0.7839\n",
            "\n",
            "Accuracy: 0.7839\n",
            "\n",
            "Accuracy: 0.7839\n",
            "\n",
            "Accuracy: 0.7839\n",
            "\n",
            "Accuracy: 0.7839\n",
            "\n",
            "Accuracy: 0.7839\n"
          ]
        }
      ]
    },
    {
      "cell_type": "code",
      "source": [
        "# Test classifier with best value found for window size\n",
        "wsd_classifier(train_instances_hard, test_instances_hard, hard_senses, 'context', window_size=best_window_size, pos_tag=True,\n",
        "               show_parameters_estimation=False)"
      ],
      "metadata": {
        "colab": {
          "base_uri": "https://localhost:8080/"
        },
        "id": "NCbgvmM5ElLH",
        "outputId": "2b985608-a68c-469b-fda7-ece0ba29fe6b"
      },
      "execution_count": null,
      "outputs": [
        {
          "output_type": "stream",
          "name": "stdout",
          "text": [
            "\n",
            "Accuracy: 0.8097\n",
            "[[702  84  81]\n",
            " [  0   0   0]\n",
            " [  0   0   0]]\n"
          ]
        },
        {
          "output_type": "execute_result",
          "data": {
            "text/plain": [
              "0.8096885813148789"
            ]
          },
          "metadata": {},
          "execution_count": 231
        }
      ]
    },
    {
      "cell_type": "code",
      "source": [
        "# Split the instances into a training, validation and test set\n",
        "train_instances_serve, test_instances_serve = train_test_split(serve_instances, test_size=0.2)\n",
        "train_instances_serve, validation_instances_serve = train_test_split(train_instances_serve, test_size=0.15)\n",
        "print('Train set size:', len(train_instances_serve))\n",
        "print('Validation set size:', len(validation_instances_serve))\n",
        "print('Test set size:', len(test_instances_serve))"
      ],
      "metadata": {
        "colab": {
          "base_uri": "https://localhost:8080/"
        },
        "id": "F4WDe5Ytv-S-",
        "outputId": "70c9fd9f-ec48-4db5-bc6c-bcabd227c36c"
      },
      "execution_count": null,
      "outputs": [
        {
          "output_type": "stream",
          "name": "stdout",
          "text": [
            "Train set size: 2976\n",
            "Validation set size: 526\n",
            "Test set size: 876\n"
          ]
        }
      ]
    },
    {
      "cell_type": "code",
      "source": [
        "wsd_classifier(train_instances_serve, validation_instances_serve, serve_senses, 'frequency', 300)"
      ],
      "metadata": {
        "colab": {
          "base_uri": "https://localhost:8080/"
        },
        "id": "uDXCrDWjymyl",
        "outputId": "a59d32df-f000-4229-ce69-5fff4b5efa71"
      },
      "execution_count": null,
      "outputs": [
        {
          "output_type": "stream",
          "name": "stdout",
          "text": [
            "\n",
            "Class prior probabilities:\n",
            " [0.40625    0.29099462 0.1999328  0.10282258]\n",
            "\n",
            "Likelihood:\n",
            " [[0.20913842 0.15909091 0.00245486 ... 0.00063351 0.00174216 0.00055432]\n",
            " [0.20731887 0.19396488 0.00103291 ... 0.00132802 0.00036889 0.00095913]\n",
            " [0.20653477 0.2198741  0.00029976 ... 0.00089928 0.00089928 0.00089928]\n",
            " [0.19350042 0.20412065 0.00063721 ... 0.00106202 0.         0.00106202]]\n",
            "\n",
            "Accuracy: 0.7281\n",
            "[[195   7  22   3]\n",
            " [ 15 124  23  13]\n",
            " [ 13  16  39   6]\n",
            " [  6  11   8  25]]\n"
          ]
        },
        {
          "output_type": "stream",
          "name": "stderr",
          "text": [
            "/usr/local/lib/python3.7/dist-packages/ipykernel_launcher.py:40: RuntimeWarning: divide by zero encountered in log\n"
          ]
        },
        {
          "output_type": "execute_result",
          "data": {
            "text/plain": [
              "0.7281368821292775"
            ]
          },
          "metadata": {},
          "execution_count": 119
        }
      ]
    },
    {
      "cell_type": "code",
      "source": [
        "vocabulary_sizes = [i for i in range(100, 900, 100)]\n",
        "\n",
        "best_acc, accuracies = 0, []\n",
        "best_vocab_size = None\n",
        "for vocabulary_size in vocabulary_sizes:\n",
        "  acc = wsd_classifier(train_instances_serve, validation_instances_serve, serve_senses, 'frequency', vocabulary_size, \n",
        "                       show_parameters_estimation=False, show_confusion_matrix=False)\n",
        "  accuracies.append(acc)\n",
        "  if acc > best_acc:\n",
        "    best_acc = acc\n",
        "    best_vocab_size = vocabulary_size                 "
      ],
      "metadata": {
        "colab": {
          "base_uri": "https://localhost:8080/"
        },
        "id": "6Cs2NO7WyvST",
        "outputId": "9813ab1a-1939-491f-9ae4-1fc11a1c1443"
      },
      "execution_count": null,
      "outputs": [
        {
          "output_type": "stream",
          "name": "stderr",
          "text": [
            "/usr/local/lib/python3.7/dist-packages/ipykernel_launcher.py:40: RuntimeWarning: divide by zero encountered in log\n"
          ]
        },
        {
          "output_type": "stream",
          "name": "stdout",
          "text": [
            "\n",
            "Accuracy: 0.6825\n",
            "\n",
            "Accuracy: 0.7319\n",
            "\n",
            "Accuracy: 0.7281\n",
            "\n",
            "Accuracy: 0.7319\n",
            "\n",
            "Accuracy: 0.7490\n",
            "\n",
            "Accuracy: 0.7624\n",
            "\n",
            "Accuracy: 0.7700\n",
            "\n",
            "Accuracy: 0.7776\n"
          ]
        }
      ]
    },
    {
      "cell_type": "code",
      "source": [
        "sns.lineplot(vocabulary_sizes, accuracies)"
      ],
      "metadata": {
        "colab": {
          "base_uri": "https://localhost:8080/",
          "height": 337
        },
        "id": "tNDS3A-LzTm9",
        "outputId": "0fb0654b-b249-4d41-83b9-585de7be23e3"
      },
      "execution_count": null,
      "outputs": [
        {
          "output_type": "stream",
          "name": "stderr",
          "text": [
            "/usr/local/lib/python3.7/dist-packages/seaborn/_decorators.py:43: FutureWarning: Pass the following variables as keyword args: x, y. From version 0.12, the only valid positional argument will be `data`, and passing other arguments without an explicit keyword will result in an error or misinterpretation.\n",
            "  FutureWarning\n"
          ]
        },
        {
          "output_type": "execute_result",
          "data": {
            "text/plain": [
              "<matplotlib.axes._subplots.AxesSubplot at 0x7f0fe71f0410>"
            ]
          },
          "metadata": {},
          "execution_count": 122
        },
        {
          "output_type": "display_data",
          "data": {
            "text/plain": [
              "<Figure size 432x288 with 1 Axes>"
            ],
            "image/png": "[encoded data removed]"
          },
          "metadata": {
            "needs_background": "light"
          }
        }
      ]
    },
    {
      "cell_type": "code",
      "source": [
        "# Test classifier with best value found for vocabulary size\n",
        "wsd_classifier(train_instances_serve, test_instances_serve, serve_senses, 'frequency', best_vocab_size, show_parameters_estimation=False)"
      ],
      "metadata": {
        "colab": {
          "base_uri": "https://localhost:8080/"
        },
        "id": "4ZqnsKl9z9iJ",
        "outputId": "1f91e9ee-6677-43df-d0ce-13a741626bb6"
      },
      "execution_count": null,
      "outputs": [
        {
          "output_type": "stream",
          "name": "stderr",
          "text": [
            "/usr/local/lib/python3.7/dist-packages/ipykernel_launcher.py:40: RuntimeWarning: divide by zero encountered in log\n"
          ]
        },
        {
          "output_type": "stream",
          "name": "stdout",
          "text": [
            "\n",
            "Accuracy: 0.7957\n",
            "[[346  13  35  10]\n",
            " [  7 206  31  14]\n",
            " [ 20  19  93  10]\n",
            " [  3  10   7  52]]\n"
          ]
        },
        {
          "output_type": "execute_result",
          "data": {
            "text/plain": [
              "0.795662100456621"
            ]
          },
          "metadata": {},
          "execution_count": 123
        }
      ]
    },
    {
      "cell_type": "code",
      "source": [
        "# Features: surrounding context of a target word\n",
        "wsd_classifier(train_instances_serve, validation_instances_serve, serve_senses, 'context', window_size=3, pos_tag=False)"
      ],
      "metadata": {
        "colab": {
          "base_uri": "https://localhost:8080/"
        },
        "id": "DeV_OuAhFu4R",
        "outputId": "2042938c-63e7-4b84-96a8-20ada9bcb709"
      },
      "execution_count": null,
      "outputs": [
        {
          "output_type": "stream",
          "name": "stdout",
          "text": [
            "\n",
            "Class prior probabilities:\n",
            " [0.40625    0.29099462 0.1999328  0.10282258]\n"
          ]
        },
        {
          "output_type": "stream",
          "name": "stderr",
          "text": [
            "/usr/local/lib/python3.7/dist-packages/ipykernel_launcher.py:79: RuntimeWarning: divide by zero encountered in log\n"
          ]
        },
        {
          "output_type": "stream",
          "name": "stdout",
          "text": [
            "\n",
            "Accuracy: 0.8460\n",
            "[[208   5   7   0]\n",
            " [  6 136  12   8]\n",
            " [ 14  11  73  11]\n",
            " [  1   6   0  28]]\n"
          ]
        },
        {
          "output_type": "execute_result",
          "data": {
            "text/plain": [
              "0.8460076045627376"
            ]
          },
          "metadata": {},
          "execution_count": 232
        }
      ]
    },
    {
      "cell_type": "code",
      "source": [
        "window_size = [i for i in range(1, 6, 1)]\n",
        "best_acc, accuracies = 0, []\n",
        "best_window_size = None\n",
        "for window_size in window_sizes:\n",
        "  acc = wsd_classifier(train_instances_serve, validation_instances_serve, serve_senses, 'context', window_size=window_size, pos_tag=False,\n",
        "                       show_parameters_estimation=False, show_confusion_matrix=False)\n",
        "  accuracies.append(acc)\n",
        "  if acc > best_acc:\n",
        "    best_acc = acc\n",
        "    best_window_size = window_size                 "
      ],
      "metadata": {
        "colab": {
          "base_uri": "https://localhost:8080/"
        },
        "id": "4vPoeKzCGAFU",
        "outputId": "7a17d8ea-6dc2-4d96-c683-00da257193ee"
      },
      "execution_count": null,
      "outputs": [
        {
          "metadata": {
            "tags": null
          },
          "name": "stderr",
          "output_type": "stream",
          "text": [
            "/usr/local/lib/python3.7/dist-packages/ipykernel_launcher.py:79: RuntimeWarning: divide by zero encountered in log\n"
          ]
        },
        {
          "output_type": "stream",
          "name": "stdout",
          "text": [
            "\n",
            "Accuracy: 0.6654\n",
            "\n",
            "Accuracy: 0.8460\n",
            "\n",
            "Accuracy: 0.8498\n",
            "\n",
            "Accuracy: 0.8308\n",
            "\n",
            "Accuracy: 0.8080\n",
            "\n",
            "Accuracy: 0.7681\n",
            "\n",
            "Accuracy: 0.7433\n"
          ]
        }
      ]
    },
    {
      "cell_type": "code",
      "source": [
        "# Test classifier with best value found for window size\n",
        "wsd_classifier(train_instances_serve, test_instances_serve, serve_senses, 'context', window_size=best_window_size, \n",
        "               show_parameters_estimation=False)"
      ],
      "metadata": {
        "colab": {
          "base_uri": "https://localhost:8080/"
        },
        "id": "JSPAdNYTHTuG",
        "outputId": "2e126878-e355-4e0f-d926-cc43e9cb5b20"
      },
      "execution_count": null,
      "outputs": [
        {
          "output_type": "stream",
          "name": "stderr",
          "text": [
            "/usr/local/lib/python3.7/dist-packages/ipykernel_launcher.py:79: RuntimeWarning: divide by zero encountered in log\n"
          ]
        },
        {
          "output_type": "stream",
          "name": "stdout",
          "text": [
            "\n",
            "Accuracy: 0.8630\n",
            "[[350  10  16   6]\n",
            " [ 11 213  13   7]\n",
            " [ 13  21 130  10]\n",
            " [  2   4   7  63]]\n"
          ]
        },
        {
          "output_type": "execute_result",
          "data": {
            "text/plain": [
              "0.863013698630137"
            ]
          },
          "metadata": {},
          "execution_count": 234
        }
      ]
    },
    {
      "cell_type": "code",
      "source": [
        "# Features: surrounding context (words and their corresponding pos tags) of a target word\n",
        "wsd_classifier(train_instances_serve, validation_instances_serve, serve_senses, 'context', window_size=3, pos_tag=True)"
      ],
      "metadata": {
        "colab": {
          "base_uri": "https://localhost:8080/"
        },
        "id": "AgfZGnWyTNaH",
        "outputId": "0a6d3f12-1fc4-4e41-bde5-410808c8dd9f"
      },
      "execution_count": null,
      "outputs": [
        {
          "output_type": "stream",
          "name": "stdout",
          "text": [
            "\n",
            "Class prior probabilities:\n",
            " [0.40625    0.29099462 0.1999328  0.10282258]\n",
            "\n",
            "Accuracy: 0.4354\n",
            "[[229 158  92  47]\n",
            " [  0   0   0   0]\n",
            " [  0   0   0   0]\n",
            " [  0   0   0   0]]\n"
          ]
        },
        {
          "output_type": "execute_result",
          "data": {
            "text/plain": [
              "0.435361216730038"
            ]
          },
          "metadata": {},
          "execution_count": 238
        }
      ]
    },
    {
      "cell_type": "code",
      "source": [
        "window_size = [i for i in range(1, 3, 1)]\n",
        "best_acc, accuracies = 0, []\n",
        "best_window_size = None\n",
        "for window_size in window_sizes:\n",
        "  acc = wsd_classifier(train_instances_serve, validation_instances_serve, serve_senses, 'context', window_size=window_size, pos_tag=True,\n",
        "                       show_parameters_estimation=False, show_confusion_matrix=False)\n",
        "  accuracies.append(acc)\n",
        "  if acc > best_acc:\n",
        "    best_acc = acc\n",
        "    best_window_size = window_size                 "
      ],
      "metadata": {
        "colab": {
          "base_uri": "https://localhost:8080/"
        },
        "id": "WOHblvgKTG8o",
        "outputId": "e6e7d87b-e181-4e78-c0df-2e2c7c69a7bd"
      },
      "execution_count": null,
      "outputs": [
        {
          "output_type": "stream",
          "name": "stdout",
          "text": [
            "\n",
            "Accuracy: 0.4354\n",
            "\n",
            "Accuracy: 0.4354\n",
            "\n",
            "Accuracy: 0.4354\n",
            "\n",
            "Accuracy: 0.4354\n",
            "\n",
            "Accuracy: 0.4354\n",
            "\n",
            "Accuracy: 0.4354\n",
            "\n",
            "Accuracy: 0.4354\n"
          ]
        }
      ]
    },
    {
      "cell_type": "code",
      "source": [
        "# Test classifier with best value found for window size\n",
        "wsd_classifier(train_instances_serve, test_instances_serve, serve_senses, 'context', window_size=best_window_size, pos_tag=True,\n",
        "               show_parameters_estimation=False)"
      ],
      "metadata": {
        "colab": {
          "base_uri": "https://localhost:8080/"
        },
        "id": "MdTCpu-OTD53",
        "outputId": "28dbedbe-c4d4-41fd-a1bd-11d7d74ebbf2"
      },
      "execution_count": null,
      "outputs": [
        {
          "output_type": "stream",
          "name": "stdout",
          "text": [
            "\n",
            "Accuracy: 0.4292\n",
            "[[376 248 166  86]\n",
            " [  0   0   0   0]\n",
            " [  0   0   0   0]\n",
            " [  0   0   0   0]]\n"
          ]
        },
        {
          "output_type": "execute_result",
          "data": {
            "text/plain": [
              "0.4292237442922374"
            ]
          },
          "metadata": {},
          "execution_count": 241
        }
      ]
    },
    {
      "cell_type": "code",
      "source": [
        "# Split the instances into a training, validation and test set\n",
        "train_instances_interest, test_instances_interest = train_test_split(interest_instances, test_size=0.2)\n",
        "train_instances_interest, validation_instances_interest = train_test_split(train_instances_interest, test_size=0.15)\n",
        "print('Train set size:', len(train_instances_interest))\n",
        "print('Validation set size:', len(validation_instances_interest))\n",
        "print('Test set size:', len(test_instances_interest))"
      ],
      "metadata": {
        "colab": {
          "base_uri": "https://localhost:8080/"
        },
        "id": "zW0K6IpAz54C",
        "outputId": "d9265c93-b546-4099-b5c5-25ebfd6ef562"
      },
      "execution_count": null,
      "outputs": [
        {
          "output_type": "stream",
          "name": "stdout",
          "text": [
            "Train set size: 1609\n",
            "Validation set size: 285\n",
            "Test set size: 474\n"
          ]
        }
      ]
    },
    {
      "cell_type": "code",
      "source": [
        "wsd_classifier(train_instances_interest, validation_instances_interest, interest_senses, 'frequency', 300)"
      ],
      "metadata": {
        "colab": {
          "base_uri": "https://localhost:8080/"
        },
        "id": "EEAqa7ph0Vu2",
        "outputId": "1576fc74-4c99-4647-d1a1-bbcce87934e7"
      },
      "execution_count": null,
      "outputs": [
        {
          "output_type": "stream",
          "name": "stdout",
          "text": [
            "\n",
            "Class prior probabilities:\n",
            " [0.15102548 0.00559354 0.02672467 0.0770665  0.20820385 0.53138595]\n",
            "\n",
            "Likelihood:\n",
            " [[0.17592161 0.13999067 0.00093327 ... 0.00139991 0.00093327 0.        ]\n",
            " [0.15492958 0.15492958 0.         ... 0.         0.         0.        ]\n",
            " [0.19951338 0.20924574 0.         ... 0.         0.00243309 0.        ]\n",
            " [0.17854002 0.16007036 0.00087951 ... 0.         0.00087951 0.        ]\n",
            " [0.16991643 0.16333249 0.         ... 0.00025323 0.00202583 0.00025323]\n",
            " [0.1312767  0.10659706 0.04337921 ... 0.00113906 0.00047461 0.00151875]]\n",
            "\n",
            "Accuracy: 0.8070\n",
            "[[ 20   0   0   2   5   4]\n",
            " [  0   0   0   0   0   0]\n",
            " [  0   0   1   0   3   0]\n",
            " [  8   0   3  14   3   0]\n",
            " [  1   0   2   3  51   3]\n",
            " [ 13   1   0   1   3 144]]\n"
          ]
        },
        {
          "output_type": "stream",
          "name": "stderr",
          "text": [
            "/usr/local/lib/python3.7/dist-packages/ipykernel_launcher.py:40: RuntimeWarning: divide by zero encountered in log\n"
          ]
        },
        {
          "output_type": "execute_result",
          "data": {
            "text/plain": [
              "0.8070175438596491"
            ]
          },
          "metadata": {},
          "execution_count": 124
        }
      ]
    },
    {
      "cell_type": "code",
      "source": [
        "vocabulary_sizes = [i for i in range(100, 900, 100)]\n",
        "\n",
        "best_acc, accuracies = 0, []\n",
        "best_vocab_size = None\n",
        "for vocabulary_size in vocabulary_sizes:\n",
        "  acc = wsd_classifier(train_instances_interest, validation_instances_interest, interest_senses, 'frequency', vocabulary_size, \n",
        "                       show_parameters_estimation=False, show_confusion_matrix=False)\n",
        "  accuracies.append(acc)\n",
        "  if acc > best_acc:\n",
        "    best_acc = acc\n",
        "    best_vocab_size = vocabulary_size                 "
      ],
      "metadata": {
        "colab": {
          "base_uri": "https://localhost:8080/"
        },
        "id": "e-96l_5O0wes",
        "outputId": "0c510787-065a-4f40-9e63-5770fb24564d"
      },
      "execution_count": null,
      "outputs": [
        {
          "output_type": "stream",
          "name": "stderr",
          "text": [
            "/usr/local/lib/python3.7/dist-packages/ipykernel_launcher.py:40: RuntimeWarning: divide by zero encountered in log\n"
          ]
        },
        {
          "output_type": "stream",
          "name": "stdout",
          "text": [
            "\n",
            "Accuracy: 0.7579\n",
            "\n",
            "Accuracy: 0.7965\n",
            "\n",
            "Accuracy: 0.8070\n",
            "\n",
            "Accuracy: 0.7895\n",
            "\n",
            "Accuracy: 0.7895\n",
            "\n",
            "Accuracy: 0.7684\n",
            "\n",
            "Accuracy: 0.7439\n",
            "\n",
            "Accuracy: 0.7368\n"
          ]
        }
      ]
    },
    {
      "cell_type": "code",
      "source": [
        "sns.lineplot(vocabulary_sizes, accuracies)"
      ],
      "metadata": {
        "colab": {
          "base_uri": "https://localhost:8080/",
          "height": 340
        },
        "id": "vDqQf79v041G",
        "outputId": "b40e2f83-86a6-49e7-ee18-ff91fd4ba411"
      },
      "execution_count": null,
      "outputs": [
        {
          "output_type": "stream",
          "name": "stderr",
          "text": [
            "/usr/local/lib/python3.7/dist-packages/seaborn/_decorators.py:43: FutureWarning: Pass the following variables as keyword args: x, y. From version 0.12, the only valid positional argument will be `data`, and passing other arguments without an explicit keyword will result in an error or misinterpretation.\n",
            "  FutureWarning\n"
          ]
        },
        {
          "output_type": "execute_result",
          "data": {
            "text/plain": [
              "<matplotlib.axes._subplots.AxesSubplot at 0x7f0fe72b6310>"
            ]
          },
          "metadata": {},
          "execution_count": 127
        },
        {
          "output_type": "display_data",
          "data": {
            "text/plain": [
              "<Figure size 432x288 with 1 Axes>"
            ],
            "image/png": "[encoded data removed]"
          },
          "metadata": {
            "needs_background": "light"
          }
        }
      ]
    },
    {
      "cell_type": "code",
      "source": [
        "# Test classifier with best value found for vocabulary size\n",
        "wsd_classifier(train_instances_interest, test_instances_interest, interest_senses, 'frequency', best_vocab_size, show_parameters_estimation=False)"
      ],
      "metadata": {
        "colab": {
          "base_uri": "https://localhost:8080/"
        },
        "id": "_zHogwRZ08qE",
        "outputId": "23e91064-e402-458b-84db-96d671e4a3f9"
      },
      "execution_count": null,
      "outputs": [
        {
          "output_type": "stream",
          "name": "stdout",
          "text": [
            "\n",
            "Accuracy: 0.7890\n",
            "[[ 45   0   2   8  10   2]\n",
            " [  0   0   0   0   0   0]\n",
            " [  1   0   5   0   1   0]\n",
            " [  7   0   6  22  10   4]\n",
            " [  6   1   4   4  71   9]\n",
            " [ 17   0   0   0   8 231]]\n"
          ]
        },
        {
          "output_type": "stream",
          "name": "stderr",
          "text": [
            "/usr/local/lib/python3.7/dist-packages/ipykernel_launcher.py:40: RuntimeWarning: divide by zero encountered in log\n"
          ]
        },
        {
          "output_type": "execute_result",
          "data": {
            "text/plain": [
              "0.7890295358649789"
            ]
          },
          "metadata": {},
          "execution_count": 128
        }
      ]
    },
    {
      "cell_type": "code",
      "source": [
        "# Features: surrounding context of a target word\n",
        "wsd_classifier(train_instances_interest, validation_instances_interest, interest_senses, 'context', window_size=3, pos_tag=False)"
      ],
      "metadata": {
        "colab": {
          "base_uri": "https://localhost:8080/"
        },
        "id": "ygdjVb3mSK0X",
        "outputId": "ff3cafd4-0937-4a6b-9cd8-214764b09574"
      },
      "execution_count": null,
      "outputs": [
        {
          "output_type": "stream",
          "name": "stdout",
          "text": [
            "\n",
            "Class prior probabilities:\n",
            " [0.15102548 0.00559354 0.02672467 0.0770665  0.20820385 0.53138595]\n"
          ]
        },
        {
          "output_type": "stream",
          "name": "stderr",
          "text": [
            "/usr/local/lib/python3.7/dist-packages/ipykernel_launcher.py:79: RuntimeWarning: divide by zero encountered in log\n"
          ]
        },
        {
          "output_type": "stream",
          "name": "stdout",
          "text": [
            "\n",
            "Accuracy: 0.8211\n",
            "[[ 27   0   0   2   2   5]\n",
            " [  0   1   0   0   0   0]\n",
            " [  0   0   3   0   1   0]\n",
            " [  2   0   1  13   2   3]\n",
            " [  4   0   1   1  54   7]\n",
            " [  9   0   1   4   6 136]]\n"
          ]
        },
        {
          "output_type": "execute_result",
          "data": {
            "text/plain": [
              "0.8210526315789474"
            ]
          },
          "metadata": {},
          "execution_count": 235
        }
      ]
    },
    {
      "cell_type": "code",
      "source": [
        "window_size = [i for i in range(1, 6, 1)]\n",
        "best_acc, accuracies = 0, []\n",
        "best_window_size = None\n",
        "for window_size in window_sizes:\n",
        "  acc = wsd_classifier(train_instances_interest, validation_instances_interest, interest_senses, 'context', window_size=window_size, pos_tag=False,\n",
        "                       show_parameters_estimation=False, show_confusion_matrix=False)\n",
        "  accuracies.append(acc)\n",
        "  if acc > best_acc:\n",
        "    best_acc = acc\n",
        "    best_window_size = window_size                 "
      ],
      "metadata": {
        "colab": {
          "base_uri": "https://localhost:8080/"
        },
        "id": "kE4Cfa4vSTUe",
        "outputId": "1eb944ff-ae4b-41e1-a0ca-d0a9558e130d"
      },
      "execution_count": null,
      "outputs": [
        {
          "output_type": "stream",
          "name": "stderr",
          "text": [
            "/usr/local/lib/python3.7/dist-packages/ipykernel_launcher.py:79: RuntimeWarning: divide by zero encountered in log\n"
          ]
        },
        {
          "output_type": "stream",
          "name": "stdout",
          "text": [
            "\n",
            "Accuracy: 0.7684\n",
            "\n",
            "Accuracy: 0.8211\n",
            "\n",
            "Accuracy: 0.7825\n",
            "\n",
            "Accuracy: 0.7263\n",
            "\n",
            "Accuracy: 0.6807\n",
            "\n",
            "Accuracy: 0.6281\n",
            "\n",
            "Accuracy: 0.6175\n"
          ]
        }
      ]
    },
    {
      "cell_type": "code",
      "source": [
        "# Test classifier with best value found for window size\n",
        "wsd_classifier(train_instances_interest, test_instances_interest, interest_senses, 'context', window_size=best_window_size, \n",
        "               show_parameters_estimation=False)"
      ],
      "metadata": {
        "colab": {
          "base_uri": "https://localhost:8080/"
        },
        "id": "zTpBh73hScfK",
        "outputId": "cc8d542a-de7a-4b50-8553-510774a41bdc"
      },
      "execution_count": null,
      "outputs": [
        {
          "output_type": "stream",
          "name": "stderr",
          "text": [
            "/usr/local/lib/python3.7/dist-packages/ipykernel_launcher.py:79: RuntimeWarning: divide by zero encountered in log\n"
          ]
        },
        {
          "output_type": "stream",
          "name": "stdout",
          "text": [
            "\n",
            "Accuracy: 0.8165\n",
            "[[ 45   1   1   6  10   4]\n",
            " [  1   0   0   0   0   0]\n",
            " [  1   0   6   0   0   0]\n",
            " [  6   0   2  20   5   0]\n",
            " [  4   0   3   3  76   2]\n",
            " [ 19   0   5   5   9 240]]\n"
          ]
        },
        {
          "output_type": "execute_result",
          "data": {
            "text/plain": [
              "0.8164556962025317"
            ]
          },
          "metadata": {},
          "execution_count": 237
        }
      ]
    },
    {
      "cell_type": "code",
      "source": [
        "# Features: surrounding context (words and their corresponding pos_tags) of a target word\n",
        "wsd_classifier(train_instances_interest, validation_instances_interest, interest_senses, 'context', window_size=3, pos_tag=False)"
      ],
      "metadata": {
        "colab": {
          "base_uri": "https://localhost:8080/"
        },
        "id": "-_cHR5iiTjE_",
        "outputId": "d622aab4-882f-4cf1-8271-64f854ed20b6"
      },
      "execution_count": null,
      "outputs": [
        {
          "output_type": "stream",
          "name": "stdout",
          "text": [
            "\n",
            "Class prior probabilities:\n",
            " [0.15102548 0.00559354 0.02672467 0.0770665  0.20820385 0.53138595]\n"
          ]
        },
        {
          "output_type": "stream",
          "name": "stderr",
          "text": [
            "/usr/local/lib/python3.7/dist-packages/ipykernel_launcher.py:79: RuntimeWarning: divide by zero encountered in log\n"
          ]
        },
        {
          "output_type": "stream",
          "name": "stdout",
          "text": [
            "\n",
            "Accuracy: 0.8211\n",
            "[[ 27   0   0   2   2   5]\n",
            " [  0   1   0   0   0   0]\n",
            " [  0   0   3   0   1   0]\n",
            " [  2   0   1  13   2   3]\n",
            " [  4   0   1   1  54   7]\n",
            " [  9   0   1   4   6 136]]\n"
          ]
        },
        {
          "output_type": "execute_result",
          "data": {
            "text/plain": [
              "0.8210526315789474"
            ]
          },
          "metadata": {},
          "execution_count": 243
        }
      ]
    },
    {
      "cell_type": "code",
      "source": [
        "window_size = [i for i in range(1, 4, 1)]\n",
        "best_acc, accuracies = 0, []\n",
        "best_window_size = None\n",
        "for window_size in window_sizes:\n",
        "  acc = wsd_classifier(train_instances_interest, validation_instances_interest, interest_senses, 'context', window_size=window_size, pos_tag=True,\n",
        "                       show_parameters_estimation=False, show_confusion_matrix=False)\n",
        "  accuracies.append(acc)\n",
        "  if acc > best_acc:\n",
        "    best_acc = acc\n",
        "    best_window_size = window_size                 "
      ],
      "metadata": {
        "colab": {
          "base_uri": "https://localhost:8080/"
        },
        "id": "H04ZQ0LhTjHr",
        "outputId": "3f0f0a5d-0fb9-416c-e14d-78148bef0e17"
      },
      "execution_count": null,
      "outputs": [
        {
          "output_type": "stream",
          "name": "stdout",
          "text": [
            "\n",
            "Accuracy: 0.5298\n",
            "\n",
            "Accuracy: 0.5298\n",
            "\n",
            "Accuracy: 0.5298\n",
            "\n",
            "Accuracy: 0.5298\n",
            "\n",
            "Accuracy: 0.5298\n",
            "\n",
            "Accuracy: 0.5298\n",
            "\n",
            "Accuracy: 0.5298\n"
          ]
        }
      ]
    },
    {
      "cell_type": "code",
      "source": [
        "# Test classifier with best value found for window size\n",
        "wsd_classifier(train_instances_interest, test_instances_interest, interest_senses, 'context', window_size=best_window_size, pos_tag=True,\n",
        "               show_parameters_estimation=False)"
      ],
      "metadata": {
        "colab": {
          "base_uri": "https://localhost:8080/"
        },
        "id": "zDSarSRJTc8p",
        "outputId": "becb2da0-d586-4ad3-8c20-dc2e9e46997b"
      },
      "execution_count": null,
      "outputs": [
        {
          "output_type": "stream",
          "name": "stdout",
          "text": [
            "\n",
            "Accuracy: 0.5190\n",
            "[[  0   0   0   0   0   0]\n",
            " [  0   0   0   0   0   0]\n",
            " [  0   0   0   0   0   0]\n",
            " [  0   0   0   0   0   0]\n",
            " [  0   0   0   0   0   0]\n",
            " [ 76   1  17  34 100 246]]\n"
          ]
        },
        {
          "output_type": "execute_result",
          "data": {
            "text/plain": [
              "0.5189873417721519"
            ]
          },
          "metadata": {},
          "execution_count": 244
        }
      ]
    },
    {
      "cell_type": "markdown",
      "source": [
        "In our case, including the pos_tags of words surrounding the target word did not lead to better results."
      ],
      "metadata": {
        "id": "LEi8pDgoT8dZ"
      }
    }
  ]
}