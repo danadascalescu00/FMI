{
  "nbformat": 4,
  "nbformat_minor": 0,
  "metadata": {
    "colab": {
      "name": "Laborator 3 (word embeddings).ipynb",
      "provenance": [],
      "collapsed_sections": []
    },
    "kernelspec": {
      "name": "python3",
      "display_name": "Python 3"
    },
    "language_info": {
      "name": "python"
    }
  },
  "cells": [
    {
      "cell_type": "markdown",
      "source": [
        "# Word embeddings"
      ],
      "metadata": {
        "id": "RWD-YEKTFZVT"
      }
    },
    {
      "cell_type": "markdown",
      "source": [
        "### Resources\n",
        "\n",
        "- Word2vec (Mikolov et al., 2013): https://code.google.com/archive/p/word2vec/\n",
        "- Fasttext: http://www.fasttext.cc/ (+sub-word information, +multilingual)\n",
        "- Glove (Pennington, Socher, Manning, 2014): http://nlp.stanford.edu/projects/glove/\n",
        "\n",
        "\n",
        "\n",
        "Gensim documentation: https://radimrehurek.com/gensim/models/word2vec.html#gensim.models.word2vec.Word2Vec\n",
        "\n",
        "Embeddings visualizer: https://projector.tensorflow.org/\n"
      ],
      "metadata": {
        "id": "0Oi2DL5bUFWE"
      }
    },
    {
      "cell_type": "markdown",
      "source": [
        "## Loading and using word embeddings"
      ],
      "metadata": {
        "id": "95_40GnjUOgX"
      }
    },
    {
      "cell_type": "code",
      "source": [
        "import gensim"
      ],
      "metadata": {
        "id": "gvax3VPDoiFZ"
      },
      "execution_count": 1,
      "outputs": []
    },
    {
      "cell_type": "code",
      "execution_count": 2,
      "metadata": {
        "colab": {
          "base_uri": "https://localhost:8080/"
        },
        "id": "cS7UF5qBZ9qR",
        "outputId": "e683bf02-7044-44c2-b7a3-d1f582158527"
      },
      "outputs": [
        {
          "output_type": "stream",
          "name": "stdout",
          "text": [
            "['fasttext-wiki-news-subwords-300', 'conceptnet-numberbatch-17-06-300', 'word2vec-ruscorpora-300', 'word2vec-google-news-300', 'glove-wiki-gigaword-50', 'glove-wiki-gigaword-100', 'glove-wiki-gigaword-200', 'glove-wiki-gigaword-300', 'glove-twitter-25', 'glove-twitter-50', 'glove-twitter-100', 'glove-twitter-200', '__testing_word2vec-matrix-synopsis']\n"
          ]
        }
      ],
      "source": [
        "# Show all available models in gensim-data\n",
        "import gensim.downloader\n",
        "print(list(gensim.downloader.info()['models'].keys()))"
      ]
    },
    {
      "cell_type": "code",
      "source": [
        "# Download the \"GloVe 25\" embeddings\n",
        "embeddings_twitter = gensim.downloader.load('glove-twitter-200')\n",
        "# embeddings = gensim.downloader.load('glove-twitter-25')"
      ],
      "metadata": {
        "id": "I1bVWes-ogo1"
      },
      "execution_count": 3,
      "outputs": []
    },
    {
      "cell_type": "code",
      "source": [
        "embeddings = gensim.downloader.load('fasttext-wiki-news-subwords-300')"
      ],
      "metadata": {
        "id": "NMZ9on80pA4w"
      },
      "execution_count": 4,
      "outputs": []
    },
    {
      "cell_type": "code",
      "source": [
        "print(len(embeddings.index2word))\n",
        "print(len(embeddings_twitter.index2word))"
      ],
      "metadata": {
        "colab": {
          "base_uri": "https://localhost:8080/"
        },
        "id": "PsZXM3PmpGk5",
        "outputId": "a83e3d63-8359-4072-c08f-1a4f2afc32ac"
      },
      "execution_count": 5,
      "outputs": [
        {
          "output_type": "stream",
          "name": "stdout",
          "text": [
            "999999\n",
            "1193514\n"
          ]
        }
      ]
    },
    {
      "cell_type": "code",
      "source": [
        "embeddings.get_vector('cat')"
      ],
      "metadata": {
        "colab": {
          "base_uri": "https://localhost:8080/"
        },
        "id": "NqB8mnkVg4ww",
        "outputId": "0082cb63-d8e7-4d97-dcb0-28345202e8af"
      },
      "execution_count": 6,
      "outputs": [
        {
          "output_type": "execute_result",
          "data": {
            "text/plain": [
              "array([ 4.7426e-02, -4.2203e-02,  2.8491e-02, -4.4481e-02, -2.6467e-02,\n",
              "        3.3557e-02,  1.7173e-01, -1.4773e-01,  7.1133e-02,  3.8385e-02,\n",
              "       -7.9921e-02, -1.3236e-03,  1.6185e-01, -1.6389e-01, -6.5456e-02,\n",
              "        2.7030e-02,  1.2193e-01, -7.1632e-02,  7.9642e-02, -1.4602e-01,\n",
              "        1.0369e-02, -1.0468e-01,  3.6734e-02,  7.9116e-02,  1.8241e-01,\n",
              "       -2.4902e-03,  1.3818e-02,  1.2378e-01,  1.7348e-04,  1.6646e-02,\n",
              "       -1.3513e-02, -7.5532e-02,  1.0060e-01,  7.1226e-02, -2.7468e-02,\n",
              "       -7.8517e-02,  3.3769e-02, -1.6082e-01, -2.2747e-02, -1.3238e-01,\n",
              "        1.1198e-02, -1.2838e-01, -5.8910e-02, -5.1399e-02,  3.9177e-02,\n",
              "        5.8243e-02,  2.2071e-02,  7.1876e-02,  2.8166e-02, -1.8918e-02,\n",
              "        3.4445e-02,  1.5664e-01,  6.9836e-02, -2.0858e-01,  2.4413e-03,\n",
              "       -8.9110e-02, -6.0705e-02,  6.5106e-02, -8.3036e-02,  1.7491e-02,\n",
              "       -3.4527e-02, -2.5026e-01,  1.8777e-01, -3.6235e-02,  1.2452e-01,\n",
              "        2.4356e-02, -4.4517e-03,  5.5572e-02, -8.6161e-03, -1.6188e-01,\n",
              "        1.8468e-02,  3.3442e-02,  6.2601e-02, -6.4390e-02,  4.9347e-02,\n",
              "        4.0229e-02, -1.0841e-01, -7.1824e-02,  2.8520e-03, -2.3045e-02,\n",
              "        4.4209e-02, -7.7235e-02,  1.1654e-01,  7.0451e-02,  6.8801e-02,\n",
              "       -1.5605e-01, -6.6329e-02,  2.5411e-02,  1.8099e-01,  1.8025e-02,\n",
              "       -1.3115e-02,  3.9657e-02, -1.4402e-01, -3.2715e-02,  1.5651e-01,\n",
              "        1.9193e-01,  5.5521e-02,  8.3402e-02,  3.1470e-02,  3.8014e-02,\n",
              "        7.7720e-02,  2.3055e-02,  1.3798e-02,  2.9269e-02, -4.0150e-02,\n",
              "       -2.2689e-01, -1.0853e-01,  4.8246e-02, -1.1478e-02, -3.3596e-02,\n",
              "       -2.2763e-02,  4.4926e-02,  4.3869e-02, -2.2687e-02, -5.7857e-02,\n",
              "       -9.0331e-02,  4.0408e-02,  2.3637e-02, -4.9092e-02,  7.6129e-02,\n",
              "       -5.6087e-02,  1.3707e-01,  6.7951e-03, -9.9982e-02,  1.1920e-01,\n",
              "        1.2967e-01, -1.1956e-02, -1.6192e-01, -1.1653e-01,  8.6265e-02,\n",
              "       -4.6044e-02, -4.1525e-02, -5.4869e-02,  1.3872e-01, -5.8306e-02,\n",
              "       -1.0037e-03, -4.7553e-02,  9.7019e-02,  6.6086e-02, -4.2082e-02,\n",
              "       -1.4740e-02,  7.6810e-02,  6.4693e-02, -5.0720e-02, -3.4010e-02,\n",
              "       -1.8386e-01,  6.8373e-03, -8.1774e-02, -2.5614e-02, -8.7315e-02,\n",
              "       -2.2828e-02,  8.1626e-02,  2.9836e-02, -2.3802e-02, -7.9236e-02,\n",
              "       -6.1760e-02, -7.5404e-02, -8.7516e-02, -1.0102e-01, -3.1656e-02,\n",
              "       -2.2954e-02,  4.2454e-02, -5.7946e-02,  9.3254e-02, -6.7006e-04,\n",
              "       -4.3120e-02,  2.5232e-03,  3.4711e-02, -9.8615e-02, -6.0120e-02,\n",
              "       -6.7252e-02,  1.1061e-01, -1.2473e-01,  1.0016e-01, -6.0412e-02,\n",
              "        1.3936e-01, -3.7146e-03,  4.3347e-02,  2.1273e-02,  4.6771e-03,\n",
              "        9.4169e-02, -1.5631e-01,  2.0714e-02, -1.3038e-01,  1.0644e-02,\n",
              "       -1.0240e-01,  1.8860e-02,  1.4838e-01, -2.6096e-02, -1.9504e-01,\n",
              "       -1.0817e-01,  4.9979e-02, -3.9784e-02, -7.4161e-02, -7.7483e-03,\n",
              "        1.3766e-01, -4.5317e-02,  1.3089e-01, -1.0939e-02,  6.2601e-02,\n",
              "       -1.9160e-01,  1.5974e-01, -2.2695e-02, -3.6044e-02,  8.5172e-03,\n",
              "       -5.9913e-02,  2.5738e-02, -1.4296e-02, -1.0799e-01, -8.0345e-02,\n",
              "        2.3639e-01, -7.1429e-02, -3.1922e-02, -4.9206e-02, -1.4092e-02,\n",
              "        5.2687e-02,  4.9890e-02, -8.2620e-02,  7.4192e-02,  4.9126e-02,\n",
              "        9.6644e-03,  6.2958e-02, -4.6600e-02,  1.3632e-01,  3.2190e-02,\n",
              "        1.1145e-01, -6.8493e-02,  1.1836e-01,  9.7115e-02, -5.9462e-03,\n",
              "       -3.9682e-02, -1.1015e-01, -8.3191e-02, -6.9569e-02,  1.7800e-02,\n",
              "       -7.3179e-02,  1.4049e-01,  3.6892e-03, -5.4191e-02, -2.3150e-02,\n",
              "        8.9252e-02, -5.5929e-04,  2.0313e-02, -1.3092e-02,  3.9476e-02,\n",
              "        2.0953e-01,  4.4137e-02,  5.8339e-02, -8.8616e-02, -7.2534e-02,\n",
              "        5.6144e-04, -1.2490e-01, -5.5088e-02,  8.0493e-02,  7.3815e-02,\n",
              "       -7.2982e-02,  7.6267e-02, -6.0362e-02,  4.7157e-02,  1.1720e-01,\n",
              "       -3.5231e-02, -8.4633e-02,  8.5297e-02, -8.7477e-02, -2.9710e-02,\n",
              "       -4.2450e-02, -8.1470e-03,  1.4035e-02,  9.5844e-02,  2.5391e-02,\n",
              "       -1.6090e-01,  1.4980e-01, -1.5577e-01, -5.9259e-02,  6.8384e-02,\n",
              "       -2.2155e-02,  3.9042e-02, -1.1343e-01,  8.8454e-03, -1.2065e-02,\n",
              "        1.2282e-01,  1.6502e-02,  1.0734e-01, -2.6010e-02, -2.9067e-02,\n",
              "        7.2578e-02, -6.0300e-02, -5.0048e-02, -7.1067e-04,  2.6096e-02,\n",
              "        3.7569e-02,  2.2775e-02, -1.8111e-01, -1.2339e-01,  3.6638e-02,\n",
              "        8.9385e-02,  3.8261e-02,  1.7148e-01,  1.4416e-02,  1.3847e-01],\n",
              "      dtype=float32)"
            ]
          },
          "metadata": {},
          "execution_count": 6
        }
      ]
    },
    {
      "cell_type": "code",
      "source": [
        "embeddings.most_similar('cat')"
      ],
      "metadata": {
        "colab": {
          "base_uri": "https://localhost:8080/"
        },
        "id": "IMCBJgyJDYQi",
        "outputId": "4018ba80-ccdb-4e28-f039-f500aa4456e5"
      },
      "execution_count": 7,
      "outputs": [
        {
          "output_type": "execute_result",
          "data": {
            "text/plain": [
              "[('cats', 0.8368596434593201),\n",
              " ('housecat', 0.7674711346626282),\n",
              " ('-cat', 0.7602992057800293),\n",
              " ('dog', 0.7502298355102539),\n",
              " ('kitten', 0.7480818033218384),\n",
              " ('feline', 0.7353992462158203),\n",
              " ('super-cat', 0.7305205464363098),\n",
              " ('supercat', 0.7163283824920654),\n",
              " ('pet', 0.7090284824371338),\n",
              " ('moggy', 0.7057286500930786)]"
            ]
          },
          "metadata": {},
          "execution_count": 7
        }
      ]
    },
    {
      "cell_type": "code",
      "source": [
        "embeddings_twitter.most_similar('cat')"
      ],
      "metadata": {
        "colab": {
          "base_uri": "https://localhost:8080/"
        },
        "id": "Y8IDXZlgDcwH",
        "outputId": "9d817fdc-4fac-43ea-c939-10f2d98aadb7"
      },
      "execution_count": 8,
      "outputs": [
        {
          "output_type": "execute_result",
          "data": {
            "text/plain": [
              "[('dog', 0.8324302434921265),\n",
              " ('cats', 0.7685185670852661),\n",
              " ('kitty', 0.7504456043243408),\n",
              " ('kitten', 0.7489697933197021),\n",
              " ('pet', 0.7319862246513367),\n",
              " ('puppy', 0.7023192048072815),\n",
              " ('dogs', 0.7016381621360779),\n",
              " ('animal', 0.6421107053756714),\n",
              " ('bear', 0.6309186220169067),\n",
              " ('meow', 0.6304775476455688)]"
            ]
          },
          "metadata": {},
          "execution_count": 8
        }
      ]
    },
    {
      "cell_type": "code",
      "source": [
        "from sklearn.metrics.pairwise import cosine_similarity\n",
        "cosine_similarity(\n",
        "    embeddings.get_vector('cat').reshape(1,-1), \n",
        "    embeddings.get_vector('kitten').reshape(1,-1)\n",
        "    )[0][0]"
      ],
      "metadata": {
        "colab": {
          "base_uri": "https://localhost:8080/"
        },
        "id": "QQzhs_7sg-Cn",
        "outputId": "c605a177-4737-4c56-dfcc-a0f6eec4f98f"
      },
      "execution_count": 9,
      "outputs": [
        {
          "output_type": "execute_result",
          "data": {
            "text/plain": [
              "0.7480817"
            ]
          },
          "metadata": {},
          "execution_count": 9
        }
      ]
    },
    {
      "cell_type": "code",
      "source": [
        "embeddings.similarity('cat', 'kitten')"
      ],
      "metadata": {
        "colab": {
          "base_uri": "https://localhost:8080/"
        },
        "id": "urAcLbyz7SZ4",
        "outputId": "52ac7018-4c18-412c-8a21-ee530b73dca2"
      },
      "execution_count": 10,
      "outputs": [
        {
          "output_type": "execute_result",
          "data": {
            "text/plain": [
              "0.74808174"
            ]
          },
          "metadata": {},
          "execution_count": 10
        }
      ]
    },
    {
      "cell_type": "code",
      "source": [
        "embeddings.similarity('cat', 'puppy')"
      ],
      "metadata": {
        "colab": {
          "base_uri": "https://localhost:8080/"
        },
        "id": "w8Ezm0n9MlvV",
        "outputId": "e1c97d02-6fa9-47bf-e7f9-d0c15d60dff1"
      },
      "execution_count": 11,
      "outputs": [
        {
          "output_type": "execute_result",
          "data": {
            "text/plain": [
              "0.6651119"
            ]
          },
          "metadata": {},
          "execution_count": 11
        }
      ]
    },
    {
      "cell_type": "code",
      "source": [
        "embeddings.closer_than('cat', 'puppy')"
      ],
      "metadata": {
        "colab": {
          "base_uri": "https://localhost:8080/"
        },
        "id": "HvfeP6PFT7uV",
        "outputId": "231f9856-4179-4277-b690-9deb34c779ae"
      },
      "execution_count": 12,
      "outputs": [
        {
          "output_type": "execute_result",
          "data": {
            "text/plain": [
              "['dog',\n",
              " 'cats',\n",
              " 'Cat',\n",
              " 'pet',\n",
              " 'kitten',\n",
              " 'feline',\n",
              " 'kitty',\n",
              " 'subcat',\n",
              " 'felines',\n",
              " 'beagle',\n",
              " 'sub-cat',\n",
              " 'tomcat',\n",
              " 'moggy',\n",
              " 'housecat',\n",
              " 'supercat',\n",
              " 'moggie',\n",
              " 'she-cat',\n",
              " 're-cat',\n",
              " 'cat-',\n",
              " 'kittypet',\n",
              " 'super-cat',\n",
              " '-cat']"
            ]
          },
          "metadata": {},
          "execution_count": 12
        }
      ]
    },
    {
      "cell_type": "markdown",
      "source": [
        "#### Synonymy vs relatedness"
      ],
      "metadata": {
        "id": "P7XVQu1qCnm2"
      }
    },
    {
      "cell_type": "code",
      "source": [
        "embeddings.similarity('uncle', 'sister')"
      ],
      "metadata": {
        "colab": {
          "base_uri": "https://localhost:8080/"
        },
        "id": "nCtTxVah7ZZi",
        "outputId": "b75a869f-7d66-4420-e424-ffd86adefc73"
      },
      "execution_count": 13,
      "outputs": [
        {
          "output_type": "execute_result",
          "data": {
            "text/plain": [
              "0.7174434"
            ]
          },
          "metadata": {},
          "execution_count": 13
        }
      ]
    },
    {
      "cell_type": "code",
      "source": [
        "embeddings_twitter.similarity('uncle', 'sister')"
      ],
      "metadata": {
        "colab": {
          "base_uri": "https://localhost:8080/"
        },
        "id": "FDpR1n8yiPk8",
        "outputId": "75ec2bf2-4fdf-47f3-da94-309c4cc1b929"
      },
      "execution_count": 14,
      "outputs": [
        {
          "output_type": "execute_result",
          "data": {
            "text/plain": [
              "0.6477544"
            ]
          },
          "metadata": {},
          "execution_count": 14
        }
      ]
    },
    {
      "cell_type": "code",
      "source": [
        "embeddings_twitter.similarity('sibling', 'sister')"
      ],
      "metadata": {
        "colab": {
          "base_uri": "https://localhost:8080/"
        },
        "id": "JMre1u9tiS6o",
        "outputId": "be9e3923-7670-493b-f814-38ff33ef40d2"
      },
      "execution_count": 15,
      "outputs": [
        {
          "output_type": "execute_result",
          "data": {
            "text/plain": [
              "0.517647"
            ]
          },
          "metadata": {},
          "execution_count": 15
        }
      ]
    },
    {
      "cell_type": "code",
      "source": [
        "embeddings_twitter.similarity('good', 'bad')"
      ],
      "metadata": {
        "colab": {
          "base_uri": "https://localhost:8080/"
        },
        "id": "ecnLiWeqicRF",
        "outputId": "2c7af12b-a922-4988-d7ec-6a3b269e41ec"
      },
      "execution_count": 16,
      "outputs": [
        {
          "output_type": "execute_result",
          "data": {
            "text/plain": [
              "0.7983508"
            ]
          },
          "metadata": {},
          "execution_count": 16
        }
      ]
    },
    {
      "cell_type": "code",
      "source": [
        "embeddings.similarity('good', 'bad')"
      ],
      "metadata": {
        "colab": {
          "base_uri": "https://localhost:8080/"
        },
        "id": "-9T1Etta7qQG",
        "outputId": "dfac5df8-10c0-44d2-cba2-3fc7268fdf29"
      },
      "execution_count": 17,
      "outputs": [
        {
          "output_type": "execute_result",
          "data": {
            "text/plain": [
              "0.8503089"
            ]
          },
          "metadata": {},
          "execution_count": 17
        }
      ]
    },
    {
      "cell_type": "code",
      "source": [
        "embeddings.similarity('sister', 'sibling')"
      ],
      "metadata": {
        "colab": {
          "base_uri": "https://localhost:8080/"
        },
        "id": "ZdS-s-hCcdpW",
        "outputId": "e1b96c41-143e-48b7-b80f-60264c5ef49a"
      },
      "execution_count": 18,
      "outputs": [
        {
          "output_type": "execute_result",
          "data": {
            "text/plain": [
              "0.76012087"
            ]
          },
          "metadata": {},
          "execution_count": 18
        }
      ]
    },
    {
      "cell_type": "code",
      "source": [
        "embeddings.similarity('sister', 'mother')"
      ],
      "metadata": {
        "colab": {
          "base_uri": "https://localhost:8080/"
        },
        "id": "0ccv9EpQc5if",
        "outputId": "f8d766f6-153e-495d-c3c9-2e3bc5b14d31"
      },
      "execution_count": 19,
      "outputs": [
        {
          "output_type": "execute_result",
          "data": {
            "text/plain": [
              "0.76116526"
            ]
          },
          "metadata": {},
          "execution_count": 19
        }
      ]
    },
    {
      "cell_type": "code",
      "source": [
        "embeddings.similarity('Monday', 'Sunday')"
      ],
      "metadata": {
        "colab": {
          "base_uri": "https://localhost:8080/"
        },
        "id": "--V6s53A7vDg",
        "outputId": "a03254bc-e770-4beb-b47a-87d69ce45d36"
      },
      "execution_count": 20,
      "outputs": [
        {
          "output_type": "execute_result",
          "data": {
            "text/plain": [
              "0.85126"
            ]
          },
          "metadata": {},
          "execution_count": 20
        }
      ]
    },
    {
      "cell_type": "markdown",
      "source": [
        "#### Word analogies"
      ],
      "metadata": {
        "id": "L0N_xItsCruF"
      }
    },
    {
      "cell_type": "code",
      "source": [
        "# king - man + woman\n",
        "embeddings.most_similar_cosmul(positive=['king', 'woman'], negative=['man'])"
      ],
      "metadata": {
        "colab": {
          "base_uri": "https://localhost:8080/"
        },
        "id": "-mn_AXBVXSil",
        "outputId": "1701bcd7-fce6-479c-9084-42debddc89ac"
      },
      "execution_count": 21,
      "outputs": [
        {
          "output_type": "execute_result",
          "data": {
            "text/plain": [
              "[('queen', 0.9390855431556702),\n",
              " ('queen-mother', 0.9078598618507385),\n",
              " ('king-', 0.8828967213630676),\n",
              " ('queen-consort', 0.882541835308075),\n",
              " ('child-king', 0.8680858016014099),\n",
              " ('monarch', 0.8670082688331604),\n",
              " ('ex-queen', 0.8654636740684509),\n",
              " ('princess', 0.8628991842269897),\n",
              " ('queen-', 0.8613532781600952),\n",
              " ('boy-king', 0.8604660630226135)]"
            ]
          },
          "metadata": {},
          "execution_count": 21
        }
      ]
    },
    {
      "cell_type": "code",
      "source": [
        "# Rome - Italy + France\n",
        "embeddings.most_similar_cosmul(positive=['Rome', 'France'], negative=['Italy'])"
      ],
      "metadata": {
        "colab": {
          "base_uri": "https://localhost:8080/"
        },
        "id": "E2ChBzS5T-8I",
        "outputId": "837d09bc-a0ae-4597-ab35-4b6f826c50d1"
      },
      "execution_count": 22,
      "outputs": [
        {
          "output_type": "execute_result",
          "data": {
            "text/plain": [
              "[('Paris', 0.9433913826942444),\n",
              " ('Meaux', 0.8968006372451782),\n",
              " ('Avignon', 0.8785353302955627),\n",
              " ('Saint-Denis', 0.8744451403617859),\n",
              " ('Rouen', 0.8729321956634521),\n",
              " ('Lyon', 0.8724958300590515),\n",
              " ('Louville', 0.8714753985404968),\n",
              " ('Toulouse', 0.8713098168373108),\n",
              " ('Beauvais', 0.8704253435134888),\n",
              " ('Blois', 0.8698782920837402)]"
            ]
          },
          "metadata": {},
          "execution_count": 22
        }
      ]
    },
    {
      "cell_type": "code",
      "source": [
        "# pasta - Italian + Romanian\n",
        "embeddings.most_similar_cosmul(positive=['pasta', 'Romanian'], negative=['Italian'])"
      ],
      "metadata": {
        "colab": {
          "base_uri": "https://localhost:8080/"
        },
        "id": "8vNj9sHBYKOA",
        "outputId": "4838e199-3adf-4b55-ead7-a5cd5f9ac50f"
      },
      "execution_count": 23,
      "outputs": [
        {
          "output_type": "execute_result",
          "data": {
            "text/plain": [
              "[('polenta', 0.7852737307548523),\n",
              " ('bulgar', 0.7823465466499329),\n",
              " ('bulgur', 0.769961953163147),\n",
              " ('babka', 0.7660169005393982),\n",
              " ('soup', 0.7643554210662842),\n",
              " ('mămăligă', 0.7633044719696045),\n",
              " ('cereal', 0.7588523626327515),\n",
              " ('pelmeni', 0.758571445941925),\n",
              " ('masa', 0.7559653520584106),\n",
              " ('tin', 0.7554839253425598)]"
            ]
          },
          "metadata": {},
          "execution_count": 23
        }
      ]
    },
    {
      "cell_type": "code",
      "source": [
        "# cat - dog + puppy\n",
        "embeddings.most_similar_cosmul(positive=['cat', 'puppy'], negative=['dog'])"
      ],
      "metadata": {
        "colab": {
          "base_uri": "https://localhost:8080/"
        },
        "id": "HPZkmJ75UAxl",
        "outputId": "a8dbce67-27aa-4bab-c942-6086de799e96"
      },
      "execution_count": 24,
      "outputs": [
        {
          "output_type": "execute_result",
          "data": {
            "text/plain": [
              "[('kitten', 0.9267359972000122),\n",
              " ('kitty', 0.8846306204795837),\n",
              " ('cats', 0.8722013831138611),\n",
              " ('kittens', 0.8703644871711731),\n",
              " ('kitties', 0.8619921803474426),\n",
              " ('kitteh', 0.8562358021736145),\n",
              " ('housecat', 0.855234682559967),\n",
              " ('moggy', 0.8512866497039795),\n",
              " ('-cat', 0.8492761850357056),\n",
              " ('moggie', 0.847593367099762)]"
            ]
          },
          "metadata": {},
          "execution_count": 24
        }
      ]
    },
    {
      "cell_type": "code",
      "source": [
        "# green - blue + red\n",
        "embeddings.most_similar_cosmul(positive=['purple', 'yellow'], negative=['blue'])"
      ],
      "metadata": {
        "colab": {
          "base_uri": "https://localhost:8080/"
        },
        "id": "EAu5v1Fx5oj0",
        "outputId": "dee8d1b3-fbd6-4524-c042-e8d874c49fe0"
      },
      "execution_count": 25,
      "outputs": [
        {
          "output_type": "execute_result",
          "data": {
            "text/plain": [
              "[('orange', 0.9281181693077087),\n",
              " ('green-yellow', 0.9220715761184692),\n",
              " ('pink', 0.9197202920913696),\n",
              " ('orange-yellow', 0.9192143082618713),\n",
              " ('white-yellow', 0.9170408248901367),\n",
              " ('red-yellow', 0.9141272306442261),\n",
              " ('purple-blue', 0.910987913608551),\n",
              " ('purple-red', 0.9094883799552917),\n",
              " ('yellow-orange', 0.9063597321510315),\n",
              " ('yellow-green', 0.9045568704605103)]"
            ]
          },
          "metadata": {},
          "execution_count": 25
        }
      ]
    },
    {
      "cell_type": "code",
      "source": [
        "embeddings_twitter.most_similar_cosmul(positive=['brother', 'woman'], negative=['man'])"
      ],
      "metadata": {
        "colab": {
          "base_uri": "https://localhost:8080/"
        },
        "id": "IP1bXhBfoxdM",
        "outputId": "edc1e595-639a-4733-fc54-aba553daa8e7"
      },
      "execution_count": 26,
      "outputs": [
        {
          "output_type": "execute_result",
          "data": {
            "text/plain": [
              "[('sister', 0.9794360995292664),\n",
              " ('daughter', 0.9412024617195129),\n",
              " ('mother', 0.9372840523719788),\n",
              " ('mom', 0.9262226223945618),\n",
              " ('husband', 0.9174087643623352),\n",
              " ('friend', 0.9102033376693726),\n",
              " ('wife', 0.9087694883346558),\n",
              " ('dad', 0.9083818197250366),\n",
              " ('sisters', 0.9073350429534912),\n",
              " ('father', 0.9037760496139526)]"
            ]
          },
          "metadata": {},
          "execution_count": 26
        }
      ]
    },
    {
      "cell_type": "code",
      "source": [
        "embeddings_twitter.most_similar_cosmul(positive=['cat', 'puppy'], negative=['dog'])"
      ],
      "metadata": {
        "colab": {
          "base_uri": "https://localhost:8080/"
        },
        "id": "pExfdaOwtJw-",
        "outputId": "9a0a4e32-ef69-491d-f641-e20b699adbaa"
      },
      "execution_count": 27,
      "outputs": [
        {
          "output_type": "execute_result",
          "data": {
            "text/plain": [
              "[('kitten', 0.9388772249221802),\n",
              " ('kitty', 0.9139496088027954),\n",
              " ('pup', 0.8514729738235474),\n",
              " ('puppies', 0.8475602269172668),\n",
              " ('kittens', 0.8263034224510193),\n",
              " ('pug', 0.8220088481903076),\n",
              " ('cute', 0.8175344467163086),\n",
              " ('cats', 0.8136031627655029),\n",
              " ('husky', 0.8109297156333923),\n",
              " ('pet', 0.8099460601806641)]"
            ]
          },
          "metadata": {},
          "execution_count": 27
        }
      ]
    },
    {
      "cell_type": "code",
      "source": [
        "# computer_progammer - man + woman ... homemaker\n",
        "embeddings.most_similar_cosmul(positive=['programmer', 'woman'], negative=['man'])"
      ],
      "metadata": {
        "colab": {
          "base_uri": "https://localhost:8080/"
        },
        "id": "X41jpFYVtyW2",
        "outputId": "04fbd995-3337-42c8-dcd2-af92214cbd37"
      },
      "execution_count": 28,
      "outputs": [
        {
          "output_type": "execute_result",
          "data": {
            "text/plain": [
              "[('non-programmer', 0.864444375038147),\n",
              " ('programmers', 0.857123851776123),\n",
              " ('Programmer', 0.8313319683074951),\n",
              " ('non-programmers', 0.8269447088241577),\n",
              " ('writer', 0.8260436058044434),\n",
              " ('coder', 0.8254762887954712),\n",
              " ('programer', 0.8239933848381042),\n",
              " ('nonprogrammers', 0.8238459229469299),\n",
              " ('web-designer', 0.8198288679122925),\n",
              " ('researcher', 0.8139449954032898)]"
            ]
          },
          "metadata": {},
          "execution_count": 28
        }
      ]
    },
    {
      "cell_type": "code",
      "source": [
        "embeddings_twitter.most_similar_cosmul(positive=['programmer', 'woman'], negative=['man'])"
      ],
      "metadata": {
        "id": "sfVAMYbFuoBA",
        "outputId": "decc7241-ed5a-4e27-85f2-3d2bbb6da5f2",
        "colab": {
          "base_uri": "https://localhost:8080/"
        }
      },
      "execution_count": 29,
      "outputs": [
        {
          "output_type": "execute_result",
          "data": {
            "text/plain": [
              "[('programmers', 0.8675897717475891),\n",
              " ('developer', 0.8607946634292603),\n",
              " ('receptionist', 0.8558807373046875),\n",
              " ('freelance', 0.8415647745132446),\n",
              " ('analyst', 0.8352190852165222),\n",
              " ('writer', 0.8307445049285889),\n",
              " ('consultant', 0.8268089294433594),\n",
              " ('researcher', 0.8229908347129822),\n",
              " ('coder', 0.8196300268173218),\n",
              " ('administrator', 0.8122002482414246)]"
            ]
          },
          "metadata": {},
          "execution_count": 29
        }
      ]
    },
    {
      "cell_type": "code",
      "source": [
        "embeddings.most_similar_cosmul(positive=['Schumacher', 'MotoGP'], negative=['F1'])"
      ],
      "metadata": {
        "colab": {
          "base_uri": "https://localhost:8080/"
        },
        "id": "27kQl79A9pOM",
        "outputId": "1c911707-0df0-4c34-e9f2-f5fd277dd03d"
      },
      "execution_count": 30,
      "outputs": [
        {
          "output_type": "execute_result",
          "data": {
            "text/plain": [
              "[('Crutchlow', 0.9238928556442261),\n",
              " ('Walchhofer', 0.8908750414848328),\n",
              " ('Pedrosa', 0.8908526301383972),\n",
              " ('Shumacher', 0.8908421993255615),\n",
              " ('Roczen', 0.8898851275444031),\n",
              " ('Kubica', 0.8890655040740967),\n",
              " ('Schumachers', 0.887818455696106),\n",
              " ('Raich', 0.881818413734436),\n",
              " ('Kocinski', 0.8814245462417603),\n",
              " ('Bradl', 0.879993736743927)]"
            ]
          },
          "metadata": {},
          "execution_count": 30
        }
      ]
    },
    {
      "cell_type": "code",
      "source": [
        "embeddings.doesnt_match((('dog', 'cat', 'mouse', 'cake')))"
      ],
      "metadata": {
        "id": "rQZOIwxQF2xi",
        "colab": {
          "base_uri": "https://localhost:8080/",
          "height": 91
        },
        "outputId": "98752465-129c-4590-983e-c2fec68c6d47"
      },
      "execution_count": 31,
      "outputs": [
        {
          "output_type": "stream",
          "name": "stderr",
          "text": [
            "/usr/local/lib/python3.7/dist-packages/gensim/models/keyedvectors.py:895: FutureWarning: arrays to stack must be passed as a \"sequence\" type such as list or tuple. Support for non-sequence iterables such as generators is deprecated as of NumPy 1.16 and will raise an error in the future.\n",
            "  vectors = vstack(self.word_vec(word, use_norm=True) for word in used_words).astype(REAL)\n"
          ]
        },
        {
          "output_type": "execute_result",
          "data": {
            "text/plain": [
              "'cake'"
            ],
            "application/vnd.google.colaboratory.intrinsic+json": {
              "type": "string"
            }
          },
          "metadata": {},
          "execution_count": 31
        }
      ]
    },
    {
      "cell_type": "markdown",
      "source": [
        "## Training embeddings"
      ],
      "metadata": {
        "id": "jD7s90_asUVq"
      }
    },
    {
      "cell_type": "code",
      "source": [
        "gensim.models.Word2Vec(sentences=None, corpus_file=None, \n",
        "                                size=100, alpha=0.025, window=5, min_count=5, \n",
        "                                max_vocab_size=None, sample=0.001, seed=1, workers=3, min_alpha=0.0001, sg=0, hs=0, \n",
        "                                negative=5, ns_exponent=0.75, cbow_mean=1, null_word=0, trim_rule=None, \n",
        "                                sorted_vocab=1, batch_words=10000, compute_loss=False, callbacks=(),\n",
        "                                max_final_vocab=None)\n"
      ],
      "metadata": {
        "colab": {
          "base_uri": "https://localhost:8080/"
        },
        "id": "hWnZgfmrsVzP",
        "outputId": "486f500f-df43-4453-ecd5-fa4a30582374"
      },
      "execution_count": 32,
      "outputs": [
        {
          "output_type": "execute_result",
          "data": {
            "text/plain": [
              "<gensim.models.word2vec.Word2Vec at 0x7f9c3ac5dcd0>"
            ]
          },
          "metadata": {},
          "execution_count": 32
        }
      ]
    },
    {
      "cell_type": "code",
      "source": [
        "sentences = [[\"cat\", \"say\", \"meow\"], [\"dog\", \"say\", \"woof\"]]\n",
        "model = gensim.models.Word2Vec(sentences, min_count=1)  "
      ],
      "metadata": {
        "id": "ypw74Fe5CvLO"
      },
      "execution_count": 33,
      "outputs": []
    },
    {
      "cell_type": "code",
      "source": [
        "model.similarity('dog', 'cat')"
      ],
      "metadata": {
        "colab": {
          "base_uri": "https://localhost:8080/"
        },
        "id": "4adhm1moEYRF",
        "outputId": "0c1b689b-d399-42ee-af7e-10b3d885f643"
      },
      "execution_count": 34,
      "outputs": [
        {
          "output_type": "stream",
          "name": "stderr",
          "text": [
            "/usr/local/lib/python3.7/dist-packages/ipykernel_launcher.py:1: DeprecationWarning: Call to deprecated `similarity` (Method will be removed in 4.0.0, use self.wv.similarity() instead).\n",
            "  \"\"\"Entry point for launching an IPython kernel.\n"
          ]
        },
        {
          "output_type": "execute_result",
          "data": {
            "text/plain": [
              "0.036407404"
            ]
          },
          "metadata": {},
          "execution_count": 34
        }
      ]
    },
    {
      "cell_type": "code",
      "source": [
        "model.wv.get_vector('cat')"
      ],
      "metadata": {
        "colab": {
          "base_uri": "https://localhost:8080/"
        },
        "id": "tC_Ff6E-ExXr",
        "outputId": "cc194f20-602c-4e2b-ebae-0dbf8dfe20b5"
      },
      "execution_count": 35,
      "outputs": [
        {
          "output_type": "execute_result",
          "data": {
            "text/plain": [
              "array([ 4.0951301e-03,  1.6668369e-03,  2.7829064e-03, -5.5560406e-04,\n",
              "       -1.7046834e-03,  3.0281974e-03,  2.9147721e-03, -1.8197978e-03,\n",
              "       -3.8597297e-03,  3.8442425e-03, -1.7534888e-03,  1.1375775e-03,\n",
              "       -4.5834184e-03,  3.2446606e-03,  4.6623400e-03, -2.8459122e-03,\n",
              "       -1.5486744e-03, -1.9972622e-03,  1.2419821e-03,  4.2691794e-03,\n",
              "       -7.0976920e-04,  2.8869112e-03, -2.5950701e-03, -1.5998398e-03,\n",
              "       -4.3147788e-04, -1.0304076e-03, -1.5221274e-03,  2.2486416e-03,\n",
              "        3.1352895e-03,  4.8914175e-03, -3.0319105e-04,  3.5036225e-03,\n",
              "        4.6210312e-03,  2.8598229e-03,  4.1341484e-03, -4.8637428e-04,\n",
              "       -1.7822015e-03,  1.3037717e-03, -4.6006241e-03,  1.3642516e-03,\n",
              "        1.3186985e-03, -4.1375393e-03, -2.9434899e-03,  4.0249936e-03,\n",
              "       -3.9595007e-03,  3.8922681e-06, -2.5800767e-03,  2.7994567e-03,\n",
              "        3.8349314e-03, -5.5338966e-04, -4.7121006e-03,  3.3315306e-04,\n",
              "        2.8809174e-03,  2.7572187e-03, -8.4793533e-04, -1.5363247e-03,\n",
              "       -7.1006193e-04, -4.9466686e-03,  3.3839971e-03, -2.1168217e-03,\n",
              "        9.2971203e-04, -3.6858192e-03,  1.7891448e-03, -2.0627715e-03,\n",
              "       -1.5975353e-03, -4.5740292e-03, -3.2366703e-03, -2.2703138e-05,\n",
              "        4.9643409e-03,  2.5134305e-03,  2.7736791e-03, -4.1447715e-03,\n",
              "        2.4426323e-03, -2.0045070e-03, -3.2666742e-04,  3.1031009e-03,\n",
              "       -2.7104323e-03,  1.2213930e-03, -3.1461651e-03, -3.8015575e-03,\n",
              "        3.6829433e-03,  2.4915156e-03, -1.9890331e-03,  2.9836495e-03,\n",
              "       -1.4243011e-03,  6.7622500e-04,  2.5560153e-03,  2.5547957e-03,\n",
              "       -3.1493758e-03,  4.2536511e-04, -1.5579331e-03, -5.7613634e-04,\n",
              "       -1.9347134e-04, -4.3999297e-03, -5.6894805e-04,  2.1437218e-03,\n",
              "        2.1238644e-03,  1.0899139e-03,  1.9207960e-03, -4.7317375e-03],\n",
              "      dtype=float32)"
            ]
          },
          "metadata": {},
          "execution_count": 35
        }
      ]
    },
    {
      "cell_type": "code",
      "source": [
        "model.wv.save_word2vec_format(\"cats_model.bin\")"
      ],
      "metadata": {
        "id": "E1qslPu1CzP_"
      },
      "execution_count": 36,
      "outputs": []
    },
    {
      "cell_type": "code",
      "source": [
        "loaded_model = gensim.models.KeyedVectors.load_word2vec_format(\"cats_model.bin\")"
      ],
      "metadata": {
        "id": "MDdA-uCu0M7g"
      },
      "execution_count": 37,
      "outputs": []
    },
    {
      "cell_type": "code",
      "source": [
        "loaded_model.vocab"
      ],
      "metadata": {
        "colab": {
          "base_uri": "https://localhost:8080/"
        },
        "id": "DZhIJkehESta",
        "outputId": "b18b9a64-5efb-4a8a-fec6-40183a0a5643"
      },
      "execution_count": 38,
      "outputs": [
        {
          "output_type": "execute_result",
          "data": {
            "text/plain": [
              "{'cat': <gensim.models.keyedvectors.Vocab at 0x7f9c3ac40890>,\n",
              " 'dog': <gensim.models.keyedvectors.Vocab at 0x7f9c3ac40a10>,\n",
              " 'meow': <gensim.models.keyedvectors.Vocab at 0x7f9c3ac5f210>,\n",
              " 'say': <gensim.models.keyedvectors.Vocab at 0x7f9c3ac5f110>,\n",
              " 'woof': <gensim.models.keyedvectors.Vocab at 0x7f9c3ac5f2d0>}"
            ]
          },
          "metadata": {},
          "execution_count": 38
        }
      ]
    },
    {
      "cell_type": "code",
      "source": [
        "loaded_model.similarity('dog', 'cat')"
      ],
      "metadata": {
        "colab": {
          "base_uri": "https://localhost:8080/"
        },
        "id": "EwEtNCjREmeH",
        "outputId": "862fbb6e-8bd7-455e-f10e-0400a8392e82"
      },
      "execution_count": 39,
      "outputs": [
        {
          "output_type": "execute_result",
          "data": {
            "text/plain": [
              "0.036407404"
            ]
          },
          "metadata": {},
          "execution_count": 39
        }
      ]
    },
    {
      "cell_type": "markdown",
      "source": [
        "# Exercises (1p)"
      ],
      "metadata": {
        "id": "KaAA6NKb0tQ9"
      }
    },
    {
      "cell_type": "markdown",
      "source": [
        "1. Find a sentence in a news article online and store it in a python variable. Lemmatize the text. Compute the similarity between each original word in the text and its lemma."
      ],
      "metadata": {
        "id": "l77Ax2bb3i-F"
      }
    },
    {
      "cell_type": "code",
      "source": [
        "import nltk\n",
        "nltk.download('punkt')\n",
        "nltk.download('wordnet')\n",
        "nltk.download('averaged_perceptron_tagger')\n",
        "\n",
        "from nltk import word_tokenize\n",
        "from nltk.stem import WordNetLemmatizer\n",
        "from nltk.corpus import wordnet as wn"
      ],
      "metadata": {
        "colab": {
          "base_uri": "https://localhost:8080/"
        },
        "id": "AhQkTBqQAFOW",
        "outputId": "11ea7694-57d3-4cd5-ff59-0b6520ddadf2"
      },
      "execution_count": 40,
      "outputs": [
        {
          "output_type": "stream",
          "name": "stdout",
          "text": [
            "[nltk_data] Downloading package punkt to /root/nltk_data...\n",
            "[nltk_data]   Package punkt is already up-to-date!\n",
            "[nltk_data] Downloading package wordnet to /root/nltk_data...\n",
            "[nltk_data]   Package wordnet is already up-to-date!\n",
            "[nltk_data] Downloading package averaged_perceptron_tagger to\n",
            "[nltk_data]     /root/nltk_data...\n",
            "[nltk_data]   Package averaged_perceptron_tagger is already up-to-\n",
            "[nltk_data]       date!\n"
          ]
        }
      ]
    },
    {
      "cell_type": "code",
      "source": [
        "tag_map = {\n",
        "    'J': wn.ADJ,\n",
        "    'V': wn.VERB,\n",
        "    'R': wn.ADV,\n",
        "    'N': wn.NOUN\n",
        "}"
      ],
      "metadata": {
        "id": "48-RK0yPCSrf"
      },
      "execution_count": 41,
      "outputs": []
    },
    {
      "cell_type": "code",
      "source": [
        "sentence = \"In the far future, Duke Leto of House Atreides, ruler of the ocean planet Caladan, is assigned by the Padishah Emperor Shaddam Corrino IV to replace House Harkonnen as fief rulers of Arrakis, a harsh desert planet and the only source of \\\"spice\\\", a valuable substance that grants its users heightened vitality and consciousness.\"\n",
        "\n",
        "def get_lemmas(text):\n",
        "  lemmatizaer = WordNetLemmatizer()\n",
        "  tagged_text = nltk.pos_tag(word_tokenize(text))\n",
        "  return [lemmatizaer.lemmatize(w, pos=tag_map.get(p[0], wn.NOUN)) for (w, p) in tagged_text]\n",
        "\n",
        "original_sentence = word_tokenize(sentence.lower())\n",
        "lemmatized_sentence = get_lemmas(sentence.lower())"
      ],
      "metadata": {
        "id": "XgKoD6nS2vuL"
      },
      "execution_count": 42,
      "outputs": []
    },
    {
      "cell_type": "code",
      "source": [
        "for idx in range(len(original_sentence)):\n",
        "  w1 = original_sentence[idx]\n",
        "  w2 = lemmatized_sentence[idx]\n",
        "  if w1 != w2:\n",
        "    print(\"(%s, %s): %.4f\" % (w1, w2, embeddings.similarity(w1, w2)))"
      ],
      "metadata": {
        "colab": {
          "base_uri": "https://localhost:8080/"
        },
        "id": "Y4AuwxWoAgmx",
        "outputId": "35d56612-b3c1-40e9-b1be-0372369c4e77"
      },
      "execution_count": 43,
      "outputs": [
        {
          "output_type": "stream",
          "name": "stdout",
          "text": [
            "(is, be): 0.6996\n",
            "(assigned, assign): 0.6966\n",
            "(as, a): 0.0491\n",
            "(rulers, ruler): 0.7980\n",
            "(grants, grant): 0.8424\n",
            "(its, it): 0.6290\n",
            "(users, user): 0.7512\n",
            "(heightened, heighten): 0.7586\n"
          ]
        }
      ]
    },
    {
      "cell_type": "markdown",
      "source": [
        "2. Download the Sim-Lex dataset: https://fh295.github.io/simlex.html, containing word pairs and similarity scores for each pair. Compute the similarities between the word pairs using word embeddings and cosine-distance. Compute the Spearman Correlation between the obtained similarities and the similarities reported in the dataset (use the `SimLex999` / `Assoc(USF)` field in the `SimLex-999.txt` file). Ignore any words not found in the chosen embeddings space.\n",
        "\n",
        "Note: you can access the file from the Colaboratory notebook by uploading it to session storage, using the lefthand button \"Files\" -> \"Upload to session storage\""
      ],
      "metadata": {
        "id": "AH00qj4s2wPj"
      }
    },
    {
      "cell_type": "code",
      "source": [
        "import scipy\n",
        "from scipy import stats\n",
        "stats.spearmanr??"
      ],
      "metadata": {
        "id": "6L99lURH106o"
      },
      "execution_count": 44,
      "outputs": []
    },
    {
      "cell_type": "code",
      "source": [
        "import numpy as np\n",
        "import pandas as pd"
      ],
      "metadata": {
        "id": "F2vO1JZ9Jmo9"
      },
      "execution_count": 45,
      "outputs": []
    },
    {
      "cell_type": "code",
      "source": [
        "data = pd.read_csv('/content/SimLex-999.txt', sep=\"\\t\")\n",
        "data"
      ],
      "metadata": {
        "colab": {
          "base_uri": "https://localhost:8080/",
          "height": 423
        },
        "id": "tsLOEG20LxyN",
        "outputId": "3a4410ea-4236-44c3-c73d-422c84eb2bad"
      },
      "execution_count": 46,
      "outputs": [
        {
          "output_type": "execute_result",
          "data": {
            "text/plain": [
              "      word1        word2 POS  SimLex999  conc(w1)  conc(w2)  concQ  \\\n",
              "0       old          new   A       1.58      2.72      2.81      2   \n",
              "1     smart  intelligent   A       9.20      1.75      2.46      1   \n",
              "2      hard    difficult   A       8.77      3.76      2.21      2   \n",
              "3     happy     cheerful   A       9.55      2.56      2.34      1   \n",
              "4      hard         easy   A       0.95      3.76      2.07      2   \n",
              "..      ...          ...  ..        ...       ...       ...    ...   \n",
              "994    join      acquire   V       2.85      2.86      2.93      2   \n",
              "995    send       attend   V       1.67      2.70      3.17      2   \n",
              "996  gather       attend   V       4.80      2.75      3.17      2   \n",
              "997  absorb     withdraw   V       2.97      3.11      3.04      2   \n",
              "998  attend       arrive   V       6.08      3.17      3.22      2   \n",
              "\n",
              "     Assoc(USF)  SimAssoc333  SD(SimLex)  \n",
              "0          7.25            1        0.41  \n",
              "1          7.11            1        0.67  \n",
              "2          5.94            1        1.19  \n",
              "3          5.85            1        2.18  \n",
              "4          5.82            1        0.93  \n",
              "..          ...          ...         ...  \n",
              "994        0.00            0        0.99  \n",
              "995        0.00            0        1.44  \n",
              "996        0.00            0        1.97  \n",
              "997        0.00            0        1.75  \n",
              "998        0.00            0        1.18  \n",
              "\n",
              "[999 rows x 10 columns]"
            ],
            "text/html": [
              "\n",
              "  <div id=\"df-33e90288-5a19-43a8-8d3d-f3f73786f6a3\">\n",
              "    <div class=\"colab-df-container\">\n",
              "      <div>\n",
              "<style scoped>\n",
              "    .dataframe tbody tr th:only-of-type {\n",
              "        vertical-align: middle;\n",
              "    }\n",
              "\n",
              "    .dataframe tbody tr th {\n",
              "        vertical-align: top;\n",
              "    }\n",
              "\n",
              "    .dataframe thead th {\n",
              "        text-align: right;\n",
              "    }\n",
              "</style>\n",
              "<table border=\"1\" class=\"dataframe\">\n",
              "  <thead>\n",
              "    <tr style=\"text-align: right;\">\n",
              "      <th></th>\n",
              "      <th>word1</th>\n",
              "      <th>word2</th>\n",
              "      <th>POS</th>\n",
              "      <th>SimLex999</th>\n",
              "      <th>conc(w1)</th>\n",
              "      <th>conc(w2)</th>\n",
              "      <th>concQ</th>\n",
              "      <th>Assoc(USF)</th>\n",
              "      <th>SimAssoc333</th>\n",
              "      <th>SD(SimLex)</th>\n",
              "    </tr>\n",
              "  </thead>\n",
              "  <tbody>\n",
              "    <tr>\n",
              "      <th>0</th>\n",
              "      <td>old</td>\n",
              "      <td>new</td>\n",
              "      <td>A</td>\n",
              "      <td>1.58</td>\n",
              "      <td>2.72</td>\n",
              "      <td>2.81</td>\n",
              "      <td>2</td>\n",
              "      <td>7.25</td>\n",
              "      <td>1</td>\n",
              "      <td>0.41</td>\n",
              "    </tr>\n",
              "    <tr>\n",
              "      <th>1</th>\n",
              "      <td>smart</td>\n",
              "      <td>intelligent</td>\n",
              "      <td>A</td>\n",
              "      <td>9.20</td>\n",
              "      <td>1.75</td>\n",
              "      <td>2.46</td>\n",
              "      <td>1</td>\n",
              "      <td>7.11</td>\n",
              "      <td>1</td>\n",
              "      <td>0.67</td>\n",
              "    </tr>\n",
              "    <tr>\n",
              "      <th>2</th>\n",
              "      <td>hard</td>\n",
              "      <td>difficult</td>\n",
              "      <td>A</td>\n",
              "      <td>8.77</td>\n",
              "      <td>3.76</td>\n",
              "      <td>2.21</td>\n",
              "      <td>2</td>\n",
              "      <td>5.94</td>\n",
              "      <td>1</td>\n",
              "      <td>1.19</td>\n",
              "    </tr>\n",
              "    <tr>\n",
              "      <th>3</th>\n",
              "      <td>happy</td>\n",
              "      <td>cheerful</td>\n",
              "      <td>A</td>\n",
              "      <td>9.55</td>\n",
              "      <td>2.56</td>\n",
              "      <td>2.34</td>\n",
              "      <td>1</td>\n",
              "      <td>5.85</td>\n",
              "      <td>1</td>\n",
              "      <td>2.18</td>\n",
              "    </tr>\n",
              "    <tr>\n",
              "      <th>4</th>\n",
              "      <td>hard</td>\n",
              "      <td>easy</td>\n",
              "      <td>A</td>\n",
              "      <td>0.95</td>\n",
              "      <td>3.76</td>\n",
              "      <td>2.07</td>\n",
              "      <td>2</td>\n",
              "      <td>5.82</td>\n",
              "      <td>1</td>\n",
              "      <td>0.93</td>\n",
              "    </tr>\n",
              "    <tr>\n",
              "      <th>...</th>\n",
              "      <td>...</td>\n",
              "      <td>...</td>\n",
              "      <td>...</td>\n",
              "      <td>...</td>\n",
              "      <td>...</td>\n",
              "      <td>...</td>\n",
              "      <td>...</td>\n",
              "      <td>...</td>\n",
              "      <td>...</td>\n",
              "      <td>...</td>\n",
              "    </tr>\n",
              "    <tr>\n",
              "      <th>994</th>\n",
              "      <td>join</td>\n",
              "      <td>acquire</td>\n",
              "      <td>V</td>\n",
              "      <td>2.85</td>\n",
              "      <td>2.86</td>\n",
              "      <td>2.93</td>\n",
              "      <td>2</td>\n",
              "      <td>0.00</td>\n",
              "      <td>0</td>\n",
              "      <td>0.99</td>\n",
              "    </tr>\n",
              "    <tr>\n",
              "      <th>995</th>\n",
              "      <td>send</td>\n",
              "      <td>attend</td>\n",
              "      <td>V</td>\n",
              "      <td>1.67</td>\n",
              "      <td>2.70</td>\n",
              "      <td>3.17</td>\n",
              "      <td>2</td>\n",
              "      <td>0.00</td>\n",
              "      <td>0</td>\n",
              "      <td>1.44</td>\n",
              "    </tr>\n",
              "    <tr>\n",
              "      <th>996</th>\n",
              "      <td>gather</td>\n",
              "      <td>attend</td>\n",
              "      <td>V</td>\n",
              "      <td>4.80</td>\n",
              "      <td>2.75</td>\n",
              "      <td>3.17</td>\n",
              "      <td>2</td>\n",
              "      <td>0.00</td>\n",
              "      <td>0</td>\n",
              "      <td>1.97</td>\n",
              "    </tr>\n",
              "    <tr>\n",
              "      <th>997</th>\n",
              "      <td>absorb</td>\n",
              "      <td>withdraw</td>\n",
              "      <td>V</td>\n",
              "      <td>2.97</td>\n",
              "      <td>3.11</td>\n",
              "      <td>3.04</td>\n",
              "      <td>2</td>\n",
              "      <td>0.00</td>\n",
              "      <td>0</td>\n",
              "      <td>1.75</td>\n",
              "    </tr>\n",
              "    <tr>\n",
              "      <th>998</th>\n",
              "      <td>attend</td>\n",
              "      <td>arrive</td>\n",
              "      <td>V</td>\n",
              "      <td>6.08</td>\n",
              "      <td>3.17</td>\n",
              "      <td>3.22</td>\n",
              "      <td>2</td>\n",
              "      <td>0.00</td>\n",
              "      <td>0</td>\n",
              "      <td>1.18</td>\n",
              "    </tr>\n",
              "  </tbody>\n",
              "</table>\n",
              "<p>999 rows × 10 columns</p>\n",
              "</div>\n",
              "      <button class=\"colab-df-convert\" onclick=\"convertToInteractive('df-33e90288-5a19-43a8-8d3d-f3f73786f6a3')\"\n",
              "              title=\"Convert this dataframe to an interactive table.\"\n",
              "              style=\"display:none;\">\n",
              "        \n",
              "  <svg xmlns=\"http://www.w3.org/2000/svg\" height=\"24px\"viewBox=\"0 0 24 24\"\n",
              "       width=\"24px\">\n",
              "    <path d=\"M0 0h24v24H0V0z\" fill=\"none\"/>\n",
              "    <path d=\"M18.56 5.44l.94 2.06.94-2.06 2.06-.94-2.06-.94-.94-2.06-.94 2.06-2.06.94zm-11 1L8.5 8.5l.94-2.06 2.06-.94-2.06-.94L8.5 2.5l-.94 2.06-2.06.94zm10 10l.94 2.06.94-2.06 2.06-.94-2.06-.94-.94-2.06-.94 2.06-2.06.94z\"/><path d=\"M17.41 7.96l-1.37-1.37c-.4-.4-.92-.59-1.43-.59-.52 0-1.04.2-1.43.59L10.3 9.45l-7.72 7.72c-.78.78-.78 2.05 0 2.83L4 21.41c.39.39.9.59 1.41.59.51 0 1.02-.2 1.41-.59l7.78-7.78 2.81-2.81c.8-.78.8-2.07 0-2.86zM5.41 20L4 18.59l7.72-7.72 1.47 1.35L5.41 20z\"/>\n",
              "  </svg>\n",
              "      </button>\n",
              "      \n",
              "  <style>\n",
              "    .colab-df-container {\n",
              "      display:flex;\n",
              "      flex-wrap:wrap;\n",
              "      gap: 12px;\n",
              "    }\n",
              "\n",
              "    .colab-df-convert {\n",
              "      background-color: #E8F0FE;\n",
              "      border: none;\n",
              "      border-radius: 50%;\n",
              "      cursor: pointer;\n",
              "      display: none;\n",
              "      fill: #1967D2;\n",
              "      height: 32px;\n",
              "      padding: 0 0 0 0;\n",
              "      width: 32px;\n",
              "    }\n",
              "\n",
              "    .colab-df-convert:hover {\n",
              "      background-color: #E2EBFA;\n",
              "      box-shadow: 0px 1px 2px rgba(60, 64, 67, 0.3), 0px 1px 3px 1px rgba(60, 64, 67, 0.15);\n",
              "      fill: #174EA6;\n",
              "    }\n",
              "\n",
              "    [theme=dark] .colab-df-convert {\n",
              "      background-color: #3B4455;\n",
              "      fill: #D2E3FC;\n",
              "    }\n",
              "\n",
              "    [theme=dark] .colab-df-convert:hover {\n",
              "      background-color: #434B5C;\n",
              "      box-shadow: 0px 1px 3px 1px rgba(0, 0, 0, 0.15);\n",
              "      filter: drop-shadow(0px 1px 2px rgba(0, 0, 0, 0.3));\n",
              "      fill: #FFFFFF;\n",
              "    }\n",
              "  </style>\n",
              "\n",
              "      <script>\n",
              "        const buttonEl =\n",
              "          document.querySelector('#df-33e90288-5a19-43a8-8d3d-f3f73786f6a3 button.colab-df-convert');\n",
              "        buttonEl.style.display =\n",
              "          google.colab.kernel.accessAllowed ? 'block' : 'none';\n",
              "\n",
              "        async function convertToInteractive(key) {\n",
              "          const element = document.querySelector('#df-33e90288-5a19-43a8-8d3d-f3f73786f6a3');\n",
              "          const dataTable =\n",
              "            await google.colab.kernel.invokeFunction('convertToInteractive',\n",
              "                                                     [key], {});\n",
              "          if (!dataTable) return;\n",
              "\n",
              "          const docLinkHtml = 'Like what you see? Visit the ' +\n",
              "            '<a target=\"_blank\" href=https://colab.research.google.com/notebooks/data_table.ipynb>data table notebook</a>'\n",
              "            + ' to learn more about interactive tables.';\n",
              "          element.innerHTML = '';\n",
              "          dataTable['output_type'] = 'display_data';\n",
              "          await google.colab.output.renderOutput(dataTable, element);\n",
              "          const docLink = document.createElement('div');\n",
              "          docLink.innerHTML = docLinkHtml;\n",
              "          element.appendChild(docLink);\n",
              "        }\n",
              "      </script>\n",
              "    </div>\n",
              "  </div>\n",
              "  "
            ]
          },
          "metadata": {},
          "execution_count": 46
        }
      ]
    },
    {
      "cell_type": "code",
      "source": [
        "cosine_distances = {}\n",
        "\n",
        "for ind in data.index:\n",
        "  w1, w2 = data['word1'][ind], data['word2'][ind]\n",
        "  v1, v2 = None, None\n",
        "  if w1 in embeddings_twitter.vocab:\n",
        "    v1 = embeddings.get_vector(w1)\n",
        "  if w2 in embeddings.vocab:\n",
        "    v2 = embeddings.get_vector(w2)\n",
        "  if v1 is not None and v2 is not None:\n",
        "    cos_sim = cosine_similarity(v1.reshape(1, -1), v2.reshape(1, -1))\n",
        "    cosine_distances[ind] = cos_sim[0][0]"
      ],
      "metadata": {
        "id": "uwKi7B8EMVhJ"
      },
      "execution_count": 47,
      "outputs": []
    },
    {
      "cell_type": "code",
      "source": [
        "similarities1 = np.fromiter(cosine_distances.values(), dtype=float)\n",
        "similarities2 = np.array(data['SimLex999'][cosine_distances.keys()])\n",
        "spearm = stats.spearmanr(similarities1, similarities2)\n",
        "spearm"
      ],
      "metadata": {
        "colab": {
          "base_uri": "https://localhost:8080/"
        },
        "id": "-hJYvOItO8Zi",
        "outputId": "c111d53a-cbf1-4fd0-a0d1-483d8083dc97"
      },
      "execution_count": 48,
      "outputs": [
        {
          "output_type": "execute_result",
          "data": {
            "text/plain": [
              "SpearmanrResult(correlation=0.44296799130270437, pvalue=3.256231314749268e-49)"
            ]
          },
          "metadata": {},
          "execution_count": 48
        }
      ]
    },
    {
      "cell_type": "markdown",
      "source": [
        "Compare two different embedding models, see which yields the higher correlation."
      ],
      "metadata": {
        "id": "SqxxhC3E62rw"
      }
    },
    {
      "cell_type": "code",
      "source": [
        "cosine_distances = {}\n",
        "\n",
        "for ind in data.index:\n",
        "  w1, w2 = data['word1'][ind], data['word2'][ind]\n",
        "  v1, v2 = None, None\n",
        "  if w1 in embeddings_twitter.vocab:\n",
        "    v1 = embeddings_twitter.get_vector(w1)\n",
        "  if w2 in embeddings_twitter.vocab:\n",
        "    v2 = embeddings_twitter.get_vector(w2)\n",
        "  if v1 is not None and v2 is not None:\n",
        "    cos_sim = cosine_similarity(v1.reshape(1, -1), v2.reshape(1, -1))\n",
        "    cosine_distances[ind] = cos_sim[0][0]\n",
        "\n",
        "similarities1 = np.fromiter(cosine_distances.values(), dtype=float)\n",
        "similarities2 = np.array(data['SimLex999'][cosine_distances.keys()])\n",
        "spearm = stats.spearmanr(similarities1, similarities2)\n",
        "spearm"
      ],
      "metadata": {
        "id": "7u3535It69LU",
        "colab": {
          "base_uri": "https://localhost:8080/"
        },
        "outputId": "0c5c8fb2-fe23-4fc8-b0a9-9ab6cc923e5b"
      },
      "execution_count": 49,
      "outputs": [
        {
          "output_type": "execute_result",
          "data": {
            "text/plain": [
              "SpearmanrResult(correlation=0.12844218343278924, pvalue=4.713109080390244e-05)"
            ]
          },
          "metadata": {},
          "execution_count": 49
        }
      ]
    },
    {
      "cell_type": "markdown",
      "source": [
        "3. Take a paragraph from a corpus in NLTK. (e.g. the Brown corpus. Note: first you will need to download it using the downloader). Replace each word in the paragraph with its most similar word in embedding space. \n",
        "\n",
        "Take a tweet from the web and replace each word with its most similar word in embedding space, using embeddings trained on Twitter data.\n",
        "\n",
        "Do you get a coherent text?"
      ],
      "metadata": {
        "id": "h7-SoT6Q8jhY"
      }
    },
    {
      "cell_type": "code",
      "source": [
        "nltk.download('brown')\n",
        "from nltk.corpus import brown"
      ],
      "metadata": {
        "id": "9SCHyMx52hYz",
        "colab": {
          "base_uri": "https://localhost:8080/"
        },
        "outputId": "b740ce1f-465f-413e-dd38-4796d8ea0daf"
      },
      "execution_count": 50,
      "outputs": [
        {
          "output_type": "stream",
          "name": "stdout",
          "text": [
            "[nltk_data] Downloading package brown to /root/nltk_data...\n",
            "[nltk_data]   Package brown is already up-to-date!\n"
          ]
        }
      ]
    },
    {
      "cell_type": "code",
      "source": [
        "paragraph = brown.sents()[0]"
      ],
      "metadata": {
        "id": "MDwHYomiUw0_"
      },
      "execution_count": 51,
      "outputs": []
    },
    {
      "cell_type": "code",
      "source": [
        "new_paragraph = []\n",
        "\n",
        "for w in paragraph:\n",
        "  if w in embeddings.vocab:\n",
        "    most_similar = embeddings.most_similar(w)[0][0]\n",
        "    new_paragraph.append(most_similar)\n",
        "  else:\n",
        "    new_paragraph.append(w)\n",
        "\n",
        "print('Original paragraph: %s' % ' '.join(paragraph))\n",
        "print('Replaced paragraph: %s ' % ' '.join(new_paragraph))"
      ],
      "metadata": {
        "colab": {
          "base_uri": "https://localhost:8080/"
        },
        "id": "ETzyckkfWz9x",
        "outputId": "1ab72569-b72d-44fb-8a17-853442f1abba"
      },
      "execution_count": 52,
      "outputs": [
        {
          "output_type": "stream",
          "name": "stdout",
          "text": [
            "Original paragraph: The Fulton County Grand Jury said Friday an investigation of Atlanta's recent primary election produced `` no evidence '' that any irregularities took place .\n",
            "Replaced paragraph: -The Fultonham County- Poobah Juryman says Monday An investigations Kira-Kira Atlanta's not-so-recent secondary elections coproduced `` little evidences '' thaty ANY irregularity taken places ! \n"
          ]
        }
      ]
    },
    {
      "cell_type": "markdown",
      "source": [
        "Try to first POS-tag the text and only replace nouns and adjectives with their most similar word in embedding space."
      ],
      "metadata": {
        "id": "SWIWGLNmJIun"
      }
    },
    {
      "cell_type": "code",
      "source": [
        "nltk.download('universal_tagset')"
      ],
      "metadata": {
        "colab": {
          "base_uri": "https://localhost:8080/"
        },
        "id": "_PcWWEPIaUWS",
        "outputId": "d191d3b9-82a4-4b11-8a4e-517dbf22203b"
      },
      "execution_count": 53,
      "outputs": [
        {
          "output_type": "stream",
          "name": "stdout",
          "text": [
            "[nltk_data] Downloading package universal_tagset to /root/nltk_data...\n",
            "[nltk_data]   Package universal_tagset is already up-to-date!\n"
          ]
        },
        {
          "output_type": "execute_result",
          "data": {
            "text/plain": [
              "True"
            ]
          },
          "metadata": {},
          "execution_count": 53
        }
      ]
    },
    {
      "cell_type": "code",
      "source": [
        "paragraph2 = brown.tagged_sents(tagset='universal')[800]\n",
        "new_paragraph2 = []\n",
        "\n",
        "for (w, p) in paragraph2:\n",
        "  if w not in embeddings.vocab  or (p != 'NOUN' and p != 'ADJ'):\n",
        "    new_paragraph2.append(w)\n",
        "  else:\n",
        "    most_similar = embeddings.most_similar(w)[0][0]\n",
        "    new_paragraph2.append(most_similar)\n",
        "      \n",
        "print('Original paragraph: %s' % ' '.join(map(lambda x: x[0], paragraph2)))\n",
        "print('Replaced paragraph: %s ' % ' '.join(new_paragraph2))"
      ],
      "metadata": {
        "id": "15Jx3K4-Jqzw",
        "colab": {
          "base_uri": "https://localhost:8080/"
        },
        "outputId": "f34b2295-a0c4-4c86-97ce-1c5d5ba590ff"
      },
      "execution_count": 54,
      "outputs": [
        {
          "output_type": "stream",
          "name": "stdout",
          "text": [
            "Original paragraph: City Controller Alexander Hemphill charged Tuesday that the bids on the Frankford Elevated repair project were rigged to the advantage of a private contracting company which had `` an inside track '' with the city .\n",
            "Replaced paragraph: City- Controllers -Alexander Crumrine charged Thursday that the bid on the Market-Frankford Elevated repairs projects were rigged to the advantages of a public contracting sub-company which had `` an outside tracks '' with the town . \n"
          ]
        }
      ]
    },
    {
      "cell_type": "code",
      "source": [
        "tweet = \"teamwork makes the dream work\"\n",
        "new_tweet = []\n",
        "\n",
        "for w in word_tokenize(tweet):\n",
        "  if w in embeddings_twitter.vocab:\n",
        "    new_tweet.append(embeddings_twitter.most_similar(w)[0][0])\n",
        "  else:\n",
        "    new_tweet.append(w)\n",
        "\n",
        "print('Original tweet:\\n', tweet)\n",
        "print('Replaced tweet:\\n', ' '.join(new_tweet))"
      ],
      "metadata": {
        "colab": {
          "base_uri": "https://localhost:8080/"
        },
        "id": "ncA3tA5qdKfx",
        "outputId": "0b7e0a8a-3dbe-4793-a920-d16cce247137"
      },
      "execution_count": 55,
      "outputs": [
        {
          "output_type": "stream",
          "name": "stdout",
          "text": [
            "Original tweet:\n",
            " teamwork makes the dream work\n",
            "Replaced tweet:\n",
            " hardwork making of dreams working\n"
          ]
        }
      ]
    },
    {
      "cell_type": "markdown",
      "source": [
        "4. Open a news website and find two articles on two different topics. Extract pairs of sentences from the two articles:\n",
        "\n",
        "  a. two sentences from the first article\n",
        "\n",
        "  b. two sentences from the second article\n",
        "\n",
        "  c. one sentence from the first and one sentence from the second\n",
        "\n",
        "Compute a semantic representation of each extracted sentence by averaging embeddings for words in the sentence."
      ],
      "metadata": {
        "id": "h6mCvFXtJphy"
      }
    },
    {
      "cell_type": "markdown",
      "source": [
        "Now compute and compare similarities between the obtained representations for sentences in each pair: a, b and c. Which are the most similar? - Pairs of sentences from the same article have a higher score (more similar) than the ones from different articles"
      ],
      "metadata": {
        "id": "2BuI-VmM2kxl"
      }
    },
    {
      "cell_type": "code",
      "source": [
        "senta1 = \"Upcycling, visible mending and organising are among the ways fashionistas are giving their wardrobes a longer life.\"\n",
        "senta2 = \"Bel Jacobs explores how caring for our clothes also means caring for the planet.\""
      ],
      "metadata": {
        "id": "oBLiiDYW3zz-"
      },
      "execution_count": 56,
      "outputs": []
    },
    {
      "cell_type": "code",
      "source": [
        "rep_a1, rep_a2 = np.zeros(shape=(300,)), np.zeros(shape=(300,))\n",
        "na1, na2 = 0, 0\n",
        "\n",
        "for w in word_tokenize(senta1):\n",
        "  if w in embeddings.vocab:\n",
        "    na1 += 1\n",
        "    rep_a1 += embeddings.get_vector(w)\n",
        "rep_a1 /= na1\n",
        "\n",
        "for w in word_tokenize(senta2):\n",
        "  if w in embeddings.vocab:\n",
        "    na2 += 1\n",
        "    rep_a2 += embeddings.get_vector(w)\n",
        "rep_a2 /= na2"
      ],
      "metadata": {
        "id": "-VeB3Ia0hW6i"
      },
      "execution_count": 57,
      "outputs": []
    },
    {
      "cell_type": "code",
      "source": [
        "print('Cosine similarity between the obtained semantic representations of each sentence: ', end=\"\")\n",
        "print(cosine_similarity(rep_a1.reshape(1, -1), rep_a2.reshape(1, -1))[0][0])"
      ],
      "metadata": {
        "colab": {
          "base_uri": "https://localhost:8080/"
        },
        "id": "04eGAF0Cikvz",
        "outputId": "81fd2a1f-df6b-4d00-a869-4aef85dabf6d"
      },
      "execution_count": 58,
      "outputs": [
        {
          "output_type": "stream",
          "name": "stdout",
          "text": [
            "Cosine similarity between the obtained semantic representations of each sentence: 0.8640272067372162\n"
          ]
        }
      ]
    },
    {
      "cell_type": "code",
      "source": [
        "sentb1 = \"The Veddas were traditionally forest dwellers, who foraged, hunted and lived in close-knit groups in caves in the dense jungles of Sri Lanka.\"\n",
        "sentb2 = \"But most people have not heard of them.\""
      ],
      "metadata": {
        "id": "O9jOVWEqgmuz"
      },
      "execution_count": 59,
      "outputs": []
    },
    {
      "cell_type": "code",
      "source": [
        "rep_b1, rep_b2 = np.zeros(shape=(300,)), np.zeros(shape=(300,))\n",
        "nb1, nb2 = 0, 0\n",
        "\n",
        "for w in word_tokenize(sentb1):\n",
        "  if w in embeddings.vocab:\n",
        "    nb1 += 1\n",
        "    rep_b1 += embeddings.get_vector(w)\n",
        "rep_b1 /= nb1\n",
        "\n",
        "for w in word_tokenize(sentb2):\n",
        "  if w in embeddings.vocab:\n",
        "    nb2 += 1\n",
        "    rep_b2 += embeddings.get_vector(w)\n",
        "rep_b2 /= nb2"
      ],
      "metadata": {
        "id": "MAfYgl5AjKvd"
      },
      "execution_count": 60,
      "outputs": []
    },
    {
      "cell_type": "code",
      "source": [
        "print('Cosine similarity between the obtained semantic representations of each sentence: ', end=\"\")\n",
        "print(cosine_similarity(rep_b1.reshape(1, -1), rep_b2.reshape(1, -1))[0][0])"
      ],
      "metadata": {
        "colab": {
          "base_uri": "https://localhost:8080/"
        },
        "id": "vwg-UeDHjaR-",
        "outputId": "30ae6253-10f0-4503-e94d-62c3d9a20a87"
      },
      "execution_count": 61,
      "outputs": [
        {
          "output_type": "stream",
          "name": "stdout",
          "text": [
            "Cosine similarity between the obtained semantic representations of each sentence: 0.8056253414370044\n"
          ]
        }
      ]
    },
    {
      "cell_type": "code",
      "source": [
        "sentc1 = \"After all, what is the point of spending time and money repairing a broken zip when ultimately it is quicker, cheaper and infinitely more fun to buy a new piece, with a fully functioning zip?\"\n",
        "sentc2 = \"For centuries, his people were forest dwellers who foraged, hunted and lived in close-knit groups in caves in the dense jungles of Sri Lanka, relocating from one cave to another when someone from the group died.\""
      ],
      "metadata": {
        "id": "14mPC2gugoqz"
      },
      "execution_count": 62,
      "outputs": []
    },
    {
      "cell_type": "code",
      "source": [
        "rep_c1, rep_c2 = np.zeros(shape=(300,)), np.zeros(shape=(300,))\n",
        "nc1, nc2 = 0, 0\n",
        "\n",
        "for w in word_tokenize(sentb1):\n",
        "  if w in embeddings.vocab:\n",
        "    nc1 += 1\n",
        "    rep_c1 += embeddings.get_vector(w)\n",
        "rep_c1 /= nc1\n",
        "\n",
        "for w in word_tokenize(sentb2):\n",
        "  if w in embeddings.vocab:\n",
        "    nc2 += 1\n",
        "    rep_c2 += embeddings.get_vector(w)\n",
        "rep_c2 /= nc2"
      ],
      "metadata": {
        "id": "SjvP9Y_NjlJ_"
      },
      "execution_count": 63,
      "outputs": []
    },
    {
      "cell_type": "code",
      "source": [
        "print('Cosine similarity between the obtained semantic representations of each sentence: ', end=\"\")\n",
        "print(cosine_similarity(rep_c1.reshape(1, -1), rep_c2.reshape(1, -1))[0][0])"
      ],
      "metadata": {
        "colab": {
          "base_uri": "https://localhost:8080/"
        },
        "id": "qMzhF-5pju_d",
        "outputId": "3bfb80d8-71c4-49f6-8639-d99c40621b79"
      },
      "execution_count": 64,
      "outputs": [
        {
          "output_type": "stream",
          "name": "stdout",
          "text": [
            "Cosine similarity between the obtained semantic representations of each sentence: 0.8056253414370044\n"
          ]
        }
      ]
    },
    {
      "cell_type": "markdown",
      "source": [
        "Repeat the experiment after removing stopwords from each sentence."
      ],
      "metadata": {
        "id": "yF6OboFb8KOf"
      }
    },
    {
      "cell_type": "code",
      "source": [
        "from nltk.corpus import stopwords\n",
        "\n",
        "nltk.download('stopwords')"
      ],
      "metadata": {
        "colab": {
          "base_uri": "https://localhost:8080/"
        },
        "id": "1ZIbW-vbkKlw",
        "outputId": "ca06dc20-f423-4b86-a3df-35941bc5dbe6"
      },
      "execution_count": 65,
      "outputs": [
        {
          "output_type": "stream",
          "name": "stdout",
          "text": [
            "[nltk_data] Downloading package stopwords to /root/nltk_data...\n",
            "[nltk_data]   Package stopwords is already up-to-date!\n"
          ]
        },
        {
          "output_type": "execute_result",
          "data": {
            "text/plain": [
              "True"
            ]
          },
          "metadata": {},
          "execution_count": 65
        }
      ]
    },
    {
      "cell_type": "markdown",
      "source": [
        "Experiment 1."
      ],
      "metadata": {
        "id": "ANAs9xB4j6Bd"
      }
    },
    {
      "cell_type": "code",
      "source": [
        "rep_a1, rep_a2 = np.zeros(shape=(300,)), np.zeros(shape=(300,))\n",
        "na1, na2 = 0, 0\n",
        "\n",
        "for w in word_tokenize(senta1):\n",
        "  if w in embeddings.vocab and w not in set(stopwords.words(\"english\")):\n",
        "    na1 += 1\n",
        "    rep_a1 += embeddings.get_vector(w)\n",
        "rep_a1 /= na1\n",
        "\n",
        "for w in word_tokenize(senta2):\n",
        "  if w in embeddings.vocab:\n",
        "    na2 += 1\n",
        "    rep_a2 += embeddings.get_vector(w)\n",
        "rep_a2 /= na2\n",
        "\n",
        "print('Cosine similarity between the obtained semantic representations of each sentence: ', end=\"\")\n",
        "print(cosine_similarity(rep_a1.reshape(1, -1), rep_a2.reshape(1, -1))[0][0])"
      ],
      "metadata": {
        "id": "huQb3dHI8NbS",
        "colab": {
          "base_uri": "https://localhost:8080/"
        },
        "outputId": "8ba9fb70-9469-45c9-ca9a-51b1a9fe6bdf"
      },
      "execution_count": 66,
      "outputs": [
        {
          "output_type": "stream",
          "name": "stdout",
          "text": [
            "Cosine similarity between the obtained semantic representations of each sentence: 0.8182290962407772\n"
          ]
        }
      ]
    },
    {
      "cell_type": "markdown",
      "source": [
        "Experiment 2."
      ],
      "metadata": {
        "id": "g00nPao3kZcu"
      }
    },
    {
      "cell_type": "code",
      "source": [
        "rep_b1, rep_b2 = np.zeros(shape=(300,)), np.zeros(shape=(300,))\n",
        "nb1, nb2 = 0, 0\n",
        "\n",
        "for w in word_tokenize(sentb1):\n",
        "  if w in embeddings.vocab and w not in set(stopwords.words(\"english\")):\n",
        "    nb1 += 1\n",
        "    rep_b1 += embeddings.get_vector(w)\n",
        "rep_b1 /= nb1\n",
        "\n",
        "for w in word_tokenize(sentb2):\n",
        "  if w in embeddings.vocab:\n",
        "    nb2 += 1\n",
        "    rep_b2 += embeddings.get_vector(w)\n",
        "rep_b2 /= nb2\n",
        "\n",
        "print('Cosine similarity between the obtained semantic representations of each sentence: ', end=\"\")\n",
        "print(cosine_similarity(rep_b1.reshape(1, -1), rep_b2.reshape(1, -1))[0][0])"
      ],
      "metadata": {
        "colab": {
          "base_uri": "https://localhost:8080/"
        },
        "id": "C7GAnrLXkbW0",
        "outputId": "0dea3a67-cfa1-42bd-97c9-befe2b908646"
      },
      "execution_count": 67,
      "outputs": [
        {
          "output_type": "stream",
          "name": "stdout",
          "text": [
            "Cosine similarity between the obtained semantic representations of each sentence: 0.6643220808577087\n"
          ]
        }
      ]
    },
    {
      "cell_type": "code",
      "source": [
        "rep_c1, rep_c2 = np.zeros(shape=(300,)), np.zeros(shape=(300,))\n",
        "nc1, nc2 = 0, 0\n",
        "\n",
        "for w in word_tokenize(sentc1):\n",
        "  if w in embeddings.vocab and w not in set(stopwords.words(\"english\")):\n",
        "    nc1 += 1\n",
        "    rep_c1 += embeddings.get_vector(w)\n",
        "rep_c1 /= nc1\n",
        "\n",
        "for w in word_tokenize(sentc2):\n",
        "  if w in embeddings.vocab:\n",
        "    nc2 += 1\n",
        "    rep_c2 += embeddings.get_vector(w)\n",
        "rep_c2 /= nc2\n",
        "\n",
        "print('Cosine similarity between the obtained semantic representations of each sentence: ', end=\"\")\n",
        "print(cosine_similarity(rep_c1.reshape(1, -1), rep_c2.reshape(1, -1))[0][0])"
      ],
      "metadata": {
        "colab": {
          "base_uri": "https://localhost:8080/"
        },
        "id": "W6xGwP6DkoUj",
        "outputId": "a2707084-8fa2-4fc0-a146-3abe29fb6f7c"
      },
      "execution_count": 68,
      "outputs": [
        {
          "output_type": "stream",
          "name": "stdout",
          "text": [
            "Cosine similarity between the obtained semantic representations of each sentence: 0.7797790546134402\n"
          ]
        }
      ]
    },
    {
      "cell_type": "markdown",
      "source": [
        "5. Perform PCA on a subset of word vectors that you expect to find interesting differences/similarities, and plot the first two components.\n"
      ],
      "metadata": {
        "id": "b53A9cCf0_YN"
      }
    },
    {
      "cell_type": "code",
      "source": [
        "from sklearn.decomposition import PCA"
      ],
      "metadata": {
        "id": "E5DWE5Oj0wkv"
      },
      "execution_count": 69,
      "outputs": []
    },
    {
      "cell_type": "code",
      "source": [
        "# we expect to retrive 4 groups\n",
        "words = ['anxiety', 'depression', 'stress', 'health', 'illness', 'schizophrenia', 'distortion', 'reality', 'imagination', 'pills', 'medication', 'children', 'toddler']"
      ],
      "metadata": {
        "id": "J3NqrHaG1IE4"
      },
      "execution_count": 70,
      "outputs": []
    },
    {
      "cell_type": "code",
      "source": [
        "words_vec = np.array([embeddings.get_vector(w) for w in words if w in embeddings.vocab])"
      ],
      "metadata": {
        "id": "LWKz2WLMmBuF"
      },
      "execution_count": 71,
      "outputs": []
    },
    {
      "cell_type": "code",
      "source": [
        "pca = PCA(n_components=3)\n",
        "pca_vec = pca.fit_transform(X=words_vec)"
      ],
      "metadata": {
        "id": "glNDIsfZmK15"
      },
      "execution_count": 72,
      "outputs": []
    },
    {
      "cell_type": "code",
      "source": [
        "import matplotlib.pyplot as plt\n",
        "\n",
        "fig = plt.figure(figsize=(8,6))\n",
        "ax = fig.add_subplot(projection='3d')\n",
        "ax.scatter(pca_vec[:,0], pca_vec[:,1], pca_vec[:,2])\n",
        "plt.show()"
      ],
      "metadata": {
        "colab": {
          "base_uri": "https://localhost:8080/",
          "height": 357
        },
        "id": "32wvTkpinVml",
        "outputId": "ca35dbbe-27f8-4c5f-d09e-f4d7b17dfcbe"
      },
      "execution_count": 73,
      "outputs": [
        {
          "output_type": "display_data",
          "data": {
            "text/plain": [
              "<Figure size 576x432 with 1 Axes>"
            ],
            "image/png": "[encoded data removed]"
          },
          "metadata": {
            "needs_background": "light"
          }
        }
      ]
    },
    {
      "cell_type": "markdown",
      "source": [
        "6. Retrieve 10 movie reviews (or 50 sentences) from the IMDB reviews corpus in NLTK. Extract embedding vectors for each word, then perform k-means clustering using a similarity measure between the vectors (cosine similarity, or the similarity function provided by gensim), and different values for k (k=3,5,) to cluster similar words together. Ignore words which are not found in the embedding space. What clusters do you get?"
      ],
      "metadata": {
        "id": "3AbN69Iq1MSZ"
      }
    },
    {
      "cell_type": "code",
      "source": [
        "import nltk\n",
        "nltk.download('movie_reviews')\n",
        "nltk.download('punkt')\n",
        "corpus = nltk.corpus.movie_reviews"
      ],
      "metadata": {
        "colab": {
          "base_uri": "https://localhost:8080/"
        },
        "id": "CiE62OqR9ZkM",
        "outputId": "d324cadc-c05c-4980-dde9-85ad33799521"
      },
      "execution_count": 74,
      "outputs": [
        {
          "output_type": "stream",
          "name": "stdout",
          "text": [
            "[nltk_data] Downloading package movie_reviews to /root/nltk_data...\n",
            "[nltk_data]   Package movie_reviews is already up-to-date!\n",
            "[nltk_data] Downloading package punkt to /root/nltk_data...\n",
            "[nltk_data]   Package punkt is already up-to-date!\n"
          ]
        }
      ]
    },
    {
      "cell_type": "code",
      "source": [
        "import string\n",
        "\n",
        "from nltk.cluster import KMeansClusterer"
      ],
      "metadata": {
        "id": "8ThbRkb09olw"
      },
      "execution_count": 75,
      "outputs": []
    },
    {
      "cell_type": "code",
      "source": [
        "ids = corpus.fileids()[:20]\n",
        "\n",
        "words_rev = [w for i in ids for w in corpus.words(i) if w not in stopwords.words(\"english\") + list(string.punctuation)]"
      ],
      "metadata": {
        "id": "Eeq1x0ie-pbW"
      },
      "execution_count": 76,
      "outputs": []
    },
    {
      "cell_type": "code",
      "source": [
        "embeddings_vec = np.array([embeddings.get_vector(w) for w in words_rev if w in embeddings.vocab])\n",
        "embeddings_vec.shape"
      ],
      "metadata": {
        "colab": {
          "base_uri": "https://localhost:8080/"
        },
        "id": "bRYgxX--sMTD",
        "outputId": "a821cc40-afa2-49b3-998c-d960fc73d435"
      },
      "execution_count": 77,
      "outputs": [
        {
          "output_type": "execute_result",
          "data": {
            "text/plain": [
              "(6513, 300)"
            ]
          },
          "metadata": {},
          "execution_count": 77
        }
      ]
    },
    {
      "cell_type": "code",
      "source": [
        "clusterer = KMeansClusterer(3, distance=nltk.cluster.util.cosine_distance, repeats=10, avoid_empty_clusters=True)\n",
        "clusters = clusterer.cluster(embeddings_vec, assign_clusters=True, trace=True)"
      ],
      "metadata": {
        "colab": {
          "base_uri": "https://localhost:8080/"
        },
        "id": "Ewa4tXuXsZt7",
        "outputId": "a5231af6-2bec-4f1b-8540-dc59952fce96"
      },
      "execution_count": 78,
      "outputs": [
        {
          "output_type": "stream",
          "name": "stdout",
          "text": [
            "k-means trial 0\n",
            "iteration\n",
            "iteration\n",
            "iteration\n",
            "iteration\n",
            "iteration\n",
            "iteration\n",
            "iteration\n",
            "iteration\n",
            "iteration\n",
            "iteration\n",
            "iteration\n",
            "iteration\n",
            "iteration\n",
            "k-means trial 1\n",
            "iteration\n",
            "k-means trial 2\n",
            "iteration\n",
            "iteration\n",
            "iteration\n",
            "iteration\n",
            "iteration\n",
            "iteration\n",
            "iteration\n",
            "iteration\n",
            "iteration\n",
            "iteration\n",
            "k-means trial 3\n",
            "iteration\n",
            "iteration\n",
            "iteration\n",
            "iteration\n",
            "iteration\n",
            "iteration\n",
            "iteration\n",
            "iteration\n",
            "iteration\n",
            "k-means trial 4\n",
            "iteration\n",
            "iteration\n",
            "iteration\n",
            "iteration\n",
            "iteration\n",
            "iteration\n",
            "iteration\n",
            "iteration\n",
            "iteration\n",
            "iteration\n",
            "iteration\n",
            "iteration\n",
            "iteration\n",
            "iteration\n",
            "iteration\n",
            "iteration\n",
            "iteration\n",
            "k-means trial 5\n",
            "iteration\n",
            "iteration\n",
            "iteration\n",
            "iteration\n",
            "iteration\n",
            "iteration\n",
            "iteration\n",
            "iteration\n",
            "iteration\n",
            "iteration\n",
            "iteration\n",
            "iteration\n",
            "iteration\n",
            "iteration\n",
            "iteration\n",
            "iteration\n",
            "k-means trial 6\n",
            "iteration\n",
            "iteration\n",
            "iteration\n",
            "iteration\n",
            "iteration\n",
            "iteration\n",
            "iteration\n",
            "iteration\n",
            "iteration\n",
            "iteration\n",
            "iteration\n",
            "iteration\n",
            "iteration\n",
            "iteration\n",
            "iteration\n",
            "iteration\n",
            "iteration\n",
            "iteration\n",
            "iteration\n",
            "iteration\n",
            "iteration\n",
            "iteration\n",
            "k-means trial 7\n",
            "iteration\n",
            "iteration\n",
            "iteration\n",
            "iteration\n",
            "iteration\n",
            "iteration\n",
            "iteration\n",
            "iteration\n",
            "iteration\n",
            "iteration\n",
            "iteration\n",
            "iteration\n",
            "iteration\n",
            "k-means trial 8\n",
            "iteration\n",
            "iteration\n",
            "iteration\n",
            "iteration\n",
            "iteration\n",
            "iteration\n",
            "iteration\n",
            "iteration\n",
            "iteration\n",
            "iteration\n",
            "iteration\n",
            "iteration\n",
            "iteration\n",
            "iteration\n",
            "iteration\n",
            "iteration\n",
            "k-means trial 9\n",
            "iteration\n",
            "iteration\n",
            "iteration\n",
            "iteration\n",
            "iteration\n",
            "iteration\n",
            "iteration\n",
            "iteration\n",
            "iteration\n",
            "iteration\n",
            "iteration\n",
            "iteration\n",
            "iteration\n",
            "iteration\n",
            "iteration\n",
            "iteration\n",
            "iteration\n",
            "iteration\n",
            "iteration\n",
            "iteration\n",
            "iteration\n",
            "iteration\n",
            "iteration\n",
            "iteration\n",
            "iteration\n",
            "iteration\n",
            "iteration\n",
            "iteration\n",
            "iteration\n",
            "iteration\n"
          ]
        }
      ]
    },
    {
      "cell_type": "code",
      "source": [
        "means = clusterer.means()\n",
        "means"
      ],
      "metadata": {
        "colab": {
          "base_uri": "https://localhost:8080/"
        },
        "id": "gnOwJu0lNbsS",
        "outputId": "592a96b5-de44-4fdc-b84c-296f93b6103c"
      },
      "execution_count": 79,
      "outputs": [
        {
          "output_type": "execute_result",
          "data": {
            "text/plain": [
              "[array([-8.79455532e-04,  9.20571212e-04,  1.10105490e-02,  5.54681756e-03,\n",
              "        -1.31913871e-02, -1.06318574e-02, -6.70699636e-03, -1.11751698e-01,\n",
              "        -1.48388529e-02,  2.58052815e-03, -3.64428125e-02, -3.83694135e-02,\n",
              "         2.28128433e-02,  1.59087576e-04, -1.70280412e-02,  6.55541488e-04,\n",
              "         7.74376094e-02,  1.06147435e-02,  7.36791641e-02,  4.60741902e-03,\n",
              "        -5.29178302e-04,  6.53269526e-04, -1.02155032e-02,  6.62712380e-02,\n",
              "        -4.77457000e-03, -6.69591548e-03,  2.47848667e-02,  1.15017230e-02,\n",
              "         4.66077924e-02,  8.23348993e-04, -1.61490478e-02, -1.77839620e-03,\n",
              "        -1.67642266e-03, -4.30516601e-02,  1.08995298e-02, -2.11299490e-02,\n",
              "         8.50453880e-03,  6.03889255e-03, -9.24064592e-03, -7.60975620e-03,\n",
              "        -1.12509588e-02, -6.17125295e-02, -2.47363485e-02,  8.32640042e-04,\n",
              "        -4.87297308e-03, -6.84449589e-03,  1.56852752e-02, -1.20832613e-02,\n",
              "         1.86039582e-02,  2.13271249e-02,  1.90208033e-02, -6.07503636e-04,\n",
              "         3.89533374e-03, -1.03735877e-02, -8.85657817e-02,  8.20597447e-03,\n",
              "        -3.47786030e-04, -8.66481848e-03, -6.89253509e-02, -7.85380509e-03,\n",
              "        -8.39544367e-03, -4.59031062e-03,  1.22844018e-01, -6.85343705e-03,\n",
              "         1.70204267e-02, -1.63375668e-03,  7.58386170e-03,  3.77673632e-03,\n",
              "        -1.03670184e-03, -6.35479204e-03,  1.06705958e-02,  7.14804977e-03,\n",
              "         5.24254628e-02, -7.34700169e-03,  1.07688755e-02, -3.51562863e-03,\n",
              "        -1.81025732e-03, -2.89501585e-02, -4.98156250e-03, -1.21973734e-03,\n",
              "        -1.86467059e-02, -1.14196576e-02, -1.39363750e-03,  9.01803002e-02,\n",
              "        -2.01702979e-03, -6.76361145e-03,  5.95129022e-05, -7.25388713e-03,\n",
              "        -1.96604664e-03, -8.26429483e-03,  1.04653668e-02, -4.77011641e-03,\n",
              "        -1.06934391e-01, -4.08084802e-02,  1.85167138e-02, -8.33824743e-03,\n",
              "         7.45289586e-03, -6.41100481e-03,  2.49709319e-02,  8.69508460e-03,\n",
              "         7.12894462e-03, -5.62460814e-03,  1.44224148e-02,  1.18310759e-02,\n",
              "         1.53848180e-03, -1.12299874e-01,  4.33434593e-03, -1.23545192e-02,\n",
              "         2.69539375e-02,  1.22760693e-02, -1.40550488e-03,  6.96355030e-02,\n",
              "         6.17882684e-02, -3.63603071e-03, -9.74284660e-04,  3.30986601e-04,\n",
              "        -2.45409627e-02, -5.10615576e-03, -4.69992869e-02, -1.72288306e-02,\n",
              "         6.97712880e-03, -5.86250657e-03,  3.30943242e-03, -3.07466532e-03,\n",
              "         6.55609742e-02,  1.11660315e-03, -9.29107238e-03, -8.24935585e-02,\n",
              "        -5.62225294e-04,  5.24861924e-02, -1.07404375e-02,  3.56239974e-02,\n",
              "        -3.92905530e-03,  3.39280488e-03, -1.08412895e-02, -1.76074859e-02,\n",
              "         1.13753485e-03,  8.17232728e-02, -3.02830152e-03,  1.03731528e-02,\n",
              "         1.27355512e-02, -1.65553670e-02,  6.96044508e-03, -4.69774241e-03,\n",
              "        -6.08017249e-03, -2.07165349e-03,  9.31182038e-03,  5.16592432e-03,\n",
              "         4.05578036e-03, -1.73120648e-02,  3.73039693e-02,  5.98985553e-02,\n",
              "        -1.49663677e-02, -6.54355064e-02,  6.94807386e-03, -8.58831499e-03,\n",
              "         7.22564990e-03, -9.14034061e-03, -1.04458798e-02, -3.20712849e-02,\n",
              "         2.55999342e-02,  7.08035566e-03, -1.42219395e-03, -8.89152754e-03,\n",
              "        -2.15144735e-03, -4.87243943e-03,  1.43581238e-02, -4.85633500e-03,\n",
              "         5.89579530e-03,  1.26024839e-02,  1.53161287e-02, -5.73101686e-03,\n",
              "        -1.08535518e-03,  8.08873028e-03,  4.65949299e-03,  5.98977432e-02,\n",
              "         1.25906232e-03,  2.23162260e-05,  1.00274803e-02, -3.30258580e-03,\n",
              "        -6.92616776e-03, -3.36236507e-03, -9.49071813e-03, -1.90066900e-02,\n",
              "         1.51396561e-02, -2.05558483e-02,  4.65048105e-03,  1.31399944e-01,\n",
              "         4.22083680e-03, -6.70000492e-03,  7.03792134e-03,  7.55773112e-02,\n",
              "        -6.46039620e-02, -6.80697942e-03, -5.46431961e-03,  1.15007404e-02,\n",
              "         4.23144735e-03, -2.79684085e-04, -1.78173054e-02,  2.54426710e-02,\n",
              "        -1.39035419e-01,  7.99761042e-02,  5.23462053e-03, -1.09915864e-02,\n",
              "         1.13548264e-02, -9.10465792e-03,  9.36190190e-04, -1.19393757e-02,\n",
              "         2.10642442e-03, -7.98363611e-02,  2.89027411e-02, -1.82380639e-02,\n",
              "         1.22043202e-02,  1.07204076e-03,  1.27051687e-02, -1.61619410e-02,\n",
              "         2.31610175e-04,  4.24311729e-03, -1.88268051e-02, -5.90363145e-02,\n",
              "         1.40575431e-02, -7.65462965e-03, -1.76687650e-02,  1.16062999e-01,\n",
              "         4.12629992e-02, -1.41902314e-02,  1.66094378e-02,  1.16435565e-01,\n",
              "        -1.24213356e-03, -2.12707068e-03,  8.00989941e-03, -1.02046147e-01,\n",
              "        -6.62264004e-02, -3.28474748e-03,  2.42113024e-02, -5.20062353e-03,\n",
              "        -2.12686672e-03, -7.35575985e-03,  4.11448395e-03, -1.47737553e-02,\n",
              "         1.48003414e-01, -3.62595520e-03, -1.88923499e-03,  1.79866143e-02,\n",
              "        -1.30891576e-01,  7.29665393e-03, -1.63041856e-02, -1.31267207e-02,\n",
              "         6.71847374e-04, -2.99001746e-02,  2.45749410e-02,  5.07225655e-03,\n",
              "         3.99362668e-03,  1.84215494e-02,  6.27045846e-03,  7.62413582e-03,\n",
              "        -4.99809906e-03,  3.60905305e-02,  6.20131614e-03,  1.61576103e-02,\n",
              "        -5.87158604e-03,  3.18775303e-03,  2.73972168e-03, -1.89765766e-02,\n",
              "        -2.14943255e-04,  4.28341841e-03,  4.16174298e-03,  1.96402371e-02,\n",
              "         7.73687987e-03,  2.31789295e-02, -9.56869032e-03,  1.07045293e-01,\n",
              "        -1.29818872e-01, -4.08354253e-02,  5.86520098e-02, -8.15216601e-02,\n",
              "        -3.42630595e-03,  6.25538221e-03,  4.25178418e-03, -7.23108277e-03,\n",
              "        -4.35151085e-02, -1.51741027e-03,  1.30742332e-02, -1.22122299e-02,\n",
              "         1.32785947e-03,  4.01152531e-03,  5.00648702e-03, -1.30704045e-02,\n",
              "        -8.38789158e-03,  1.58868954e-02,  6.35533920e-03,  4.90084989e-03,\n",
              "        -9.87098925e-03, -8.04534461e-03,  9.83336940e-03, -7.49962451e-03,\n",
              "         4.82207630e-03,  3.09298327e-03, -9.49795649e-04, -7.16372998e-03],\n",
              "       dtype=float32),\n",
              " array([-1.12977726e-02, -2.74668932e-02,  1.47474976e-02,  3.21115963e-02,\n",
              "        -1.23256566e-02, -3.04963645e-02,  7.32469326e-03, -1.03683837e-01,\n",
              "         2.89387200e-02,  2.27266103e-02,  8.37252103e-03, -2.78406609e-02,\n",
              "         2.89586894e-02, -8.52192659e-03, -3.27207074e-02, -9.18277353e-03,\n",
              "         8.29866379e-02, -3.61902593e-03,  5.01913056e-02,  9.76404920e-03,\n",
              "         5.18138800e-03, -1.44281918e-02, -6.02838863e-03,  5.98618351e-02,\n",
              "         1.52548077e-02, -9.94557887e-03,  1.18986666e-02,  1.87899452e-02,\n",
              "         3.19998935e-02,  1.06328474e-02, -2.23350730e-02, -5.43661835e-03,\n",
              "         4.01173532e-03, -2.44325064e-02,  5.47223026e-03,  5.70687174e-04,\n",
              "         8.16107448e-03,  4.91287885e-03, -3.48812528e-03, -3.80882504e-03,\n",
              "        -5.53855579e-03, -1.12828285e-01, -5.38936071e-03, -1.86452325e-02,\n",
              "         4.70555574e-03,  1.81549359e-02,  3.22659202e-02, -9.53285303e-03,\n",
              "        -7.50186155e-03,  6.56006206e-03,  1.89852975e-02,  6.22479944e-03,\n",
              "         1.36571191e-02, -1.03026498e-02, -4.90851775e-02, -2.68151262e-03,\n",
              "         9.82263125e-03, -2.41023358e-02, -6.49958923e-02, -1.41753664e-03,\n",
              "        -1.46902697e-02, -1.91743616e-02,  1.23076059e-01, -1.32969385e-02,\n",
              "         3.26283835e-02,  7.76738767e-03,  8.71294830e-03, -2.56745284e-03,\n",
              "         1.04140036e-03, -8.68761388e-04,  1.60627738e-02, -1.59001313e-02,\n",
              "         3.51998657e-02, -7.23951636e-03,  1.24602467e-02,  1.30031379e-02,\n",
              "         7.97240587e-04, -2.85697859e-02, -5.29757561e-03, -1.14640023e-03,\n",
              "        -9.65737551e-03, -2.10471321e-02, -1.38529483e-02,  6.81765974e-02,\n",
              "        -7.17599411e-03, -9.39629599e-03, -2.14112760e-03,  2.46804324e-03,\n",
              "        -2.61942041e-03, -1.31244154e-03,  3.05546517e-03,  4.74972650e-03,\n",
              "        -1.02781951e-01, -1.17797861e-02,  3.93770300e-02,  6.90040067e-02,\n",
              "         1.13380533e-02,  3.01116239e-03,  1.92311741e-02,  3.55566666e-03,\n",
              "         1.75549686e-02, -4.70565446e-03,  4.87693259e-03, -5.53029077e-03,\n",
              "        -4.15869104e-03, -1.05861947e-01,  4.73843794e-03, -9.88625921e-03,\n",
              "        -2.59610824e-03,  2.71102898e-02, -1.42770866e-02,  5.79359047e-02,\n",
              "         6.07897006e-02,  4.69572050e-03,  1.62989506e-03,  4.77157068e-03,\n",
              "        -2.62033623e-02, -4.96555632e-03, -3.30335535e-02,  5.67858433e-03,\n",
              "        -4.83132480e-03, -1.92301383e-03, -1.51693253e-02, -2.48717610e-02,\n",
              "         7.92062804e-02,  8.94064363e-03,  1.30411163e-02, -7.24087879e-02,\n",
              "        -6.91777328e-03,  7.54709467e-02, -8.77680304e-06,  1.83145218e-02,\n",
              "        -1.12571726e-02, -5.93430223e-03,  5.65456413e-03, -1.58595499e-02,\n",
              "         7.27748172e-03,  6.04882985e-02,  7.60662020e-04, -1.53833637e-02,\n",
              "         1.62229885e-03, -1.08310888e-02,  1.20040309e-02,  4.34024585e-03,\n",
              "        -1.27259186e-02, -1.16068916e-02, -1.47209512e-02, -1.68242548e-02,\n",
              "        -5.64703299e-03, -3.09637878e-02,  1.33115537e-02,  6.18998259e-02,\n",
              "        -9.84123256e-03, -5.00454009e-02, -6.10333914e-03, -1.63088329e-02,\n",
              "        -1.57262702e-02,  1.26475682e-02,  1.33738490e-02, -5.73404878e-03,\n",
              "         2.61316113e-02,  7.18291150e-03, -3.54332551e-02,  1.18274322e-04,\n",
              "        -2.14606542e-02, -7.45299691e-03,  8.27769458e-04,  5.07207680e-03,\n",
              "        -7.47332536e-03,  1.70381609e-02, -5.21809096e-03, -1.03515433e-02,\n",
              "        -1.72108263e-02,  9.45385452e-03,  8.34385306e-03,  6.00968674e-02,\n",
              "         6.53597573e-03,  1.61109678e-02, -6.07071444e-03, -1.67102143e-02,\n",
              "         1.10951615e-02,  1.30982639e-03, -1.93974506e-02, -3.38659808e-02,\n",
              "        -8.09189118e-03, -4.74778265e-02,  1.57564059e-02,  1.16870455e-01,\n",
              "         1.12868575e-02, -4.33658017e-03, -7.61778036e-04,  4.79976386e-02,\n",
              "        -4.43504527e-02,  6.59276731e-04, -1.56216957e-02,  1.05782384e-02,\n",
              "        -2.09995825e-03, -4.08210652e-03, -1.61642354e-04,  3.24830934e-02,\n",
              "        -1.56854540e-01,  6.26487061e-02, -4.07625921e-03, -9.67832189e-03,\n",
              "         2.27961428e-02,  1.29191512e-02, -3.94281931e-03, -2.40875408e-03,\n",
              "        -3.51967267e-03, -4.82458770e-02,  1.15202315e-01, -1.07763279e-02,\n",
              "         9.44609847e-03,  1.63842011e-02,  1.45599023e-02, -8.74595623e-03,\n",
              "        -3.78254638e-03,  1.89236961e-02,  9.83651989e-06, -2.44427789e-02,\n",
              "         1.07152462e-02,  2.55876454e-04, -1.57889351e-02,  1.01883076e-01,\n",
              "         2.16941778e-02, -1.57783944e-02,  4.23582159e-02,  7.95860663e-02,\n",
              "        -1.92863438e-02, -5.68980677e-03, -5.20448340e-03, -6.27180934e-02,\n",
              "        -5.76618016e-02, -7.26404972e-03,  2.34056208e-02, -1.39045538e-02,\n",
              "         6.90785935e-03, -1.95731390e-02,  1.36729423e-02, -2.26096772e-02,\n",
              "         6.47296831e-02, -5.09046251e-03, -1.46020716e-02, -1.11708287e-02,\n",
              "        -3.49750780e-02,  1.47098936e-02, -1.06724715e-02, -1.30204717e-04,\n",
              "        -1.20663196e-02,  2.03482434e-03,  3.42765972e-02, -1.42736286e-02,\n",
              "        -2.40688454e-02,  1.44254817e-02,  1.24966763e-02,  1.00423917e-02,\n",
              "        -1.34409498e-02,  1.61057245e-02,  2.62862071e-02, -2.08253026e-04,\n",
              "         1.51749589e-02,  6.66922191e-03,  1.38612883e-02, -3.45661901e-02,\n",
              "         9.68709029e-03,  1.54700960e-04, -4.77795582e-03,  6.18710322e-03,\n",
              "         8.41197837e-03, -7.41904974e-03, -4.92504006e-03,  9.49382856e-02,\n",
              "        -1.01077475e-01, -2.95671225e-02,  2.43998133e-02, -5.04233018e-02,\n",
              "        -5.43748774e-03,  1.36372885e-02,  1.35012111e-02, -3.34629836e-03,\n",
              "         6.51570931e-02,  1.80464350e-02,  2.12173592e-02, -2.38469522e-02,\n",
              "        -2.34263577e-02,  6.78314781e-03,  4.45368467e-03, -1.25890085e-02,\n",
              "        -3.85215366e-03,  3.73327712e-05,  8.44070222e-03,  3.24016553e-03,\n",
              "        -3.28818560e-02,  7.58960610e-03, -1.13078803e-02,  8.21495778e-04,\n",
              "         2.56647076e-02,  2.12219823e-02,  8.11770745e-03, -1.51029846e-03],\n",
              "       dtype=float32),\n",
              " array([ 1.20409613e-03, -1.75096299e-02,  3.05397194e-02,  5.80176152e-02,\n",
              "        -5.29155321e-02, -3.00896652e-02,  2.24946681e-02,  3.55107151e-02,\n",
              "        -1.08929453e-02, -3.75543796e-02, -1.54226013e-02,  5.39880060e-02,\n",
              "         3.97312306e-02, -9.50538367e-03,  2.21729763e-02,  1.47020789e-02,\n",
              "         4.26939130e-02,  3.25465342e-03, -6.29363358e-02, -2.63417922e-02,\n",
              "        -2.40343083e-02,  4.24848646e-02, -8.08002986e-03,  4.56346124e-02,\n",
              "         5.07573783e-02, -2.19615791e-02,  3.91457342e-02,  2.38248575e-02,\n",
              "        -2.52514682e-03,  7.97141157e-03, -7.39543512e-03,  1.01188840e-02,\n",
              "        -9.85135231e-03,  6.55212700e-02,  2.26172190e-02, -3.98580097e-02,\n",
              "        -3.57925706e-02,  2.15699486e-02, -6.26796344e-03,  1.32079404e-02,\n",
              "        -3.05340663e-02,  6.08387357e-03, -5.29152434e-03, -9.49752927e-02,\n",
              "        -5.34598548e-05,  3.13702449e-02, -1.17465463e-02,  2.40324512e-02,\n",
              "        -8.57699756e-03,  4.25168313e-02,  4.15848494e-02, -3.16399634e-02,\n",
              "         6.82216361e-02, -5.30945994e-02,  7.43862316e-02,  1.71456840e-02,\n",
              "         3.57926935e-02,  3.12159806e-02, -4.14638370e-02, -2.12633703e-02,\n",
              "        -4.85736616e-02, -2.47132014e-02, -7.80878365e-02, -3.38698886e-02,\n",
              "         5.10963760e-02,  6.42146962e-03,  6.12599961e-03, -8.71924404e-03,\n",
              "         1.58089362e-02, -3.58967446e-02,  5.74855180e-03, -3.47345807e-02,\n",
              "         6.48076609e-02, -3.06088906e-02,  4.67181019e-02, -9.67138726e-03,\n",
              "        -1.40024628e-02,  1.58781279e-02, -4.92357351e-02,  1.03433980e-02,\n",
              "         6.90133497e-03, -1.84988856e-01, -1.33213978e-02,  6.57135248e-02,\n",
              "        -3.52116004e-02,  2.27198489e-02, -3.08760945e-02,  4.12220620e-02,\n",
              "        -4.90597114e-02,  5.80014624e-02,  7.69116078e-03,  2.36708093e-02,\n",
              "         5.55287749e-02,  4.66198884e-02,  1.18772924e-01,  5.58262616e-02,\n",
              "        -1.65794753e-02,  1.41664839e-03, -7.01610520e-02, -1.75686348e-02,\n",
              "         2.39019841e-02, -6.07706271e-02,  4.57257107e-02, -1.99868158e-02,\n",
              "        -1.95626654e-02, -1.57353561e-02, -2.00600475e-02, -3.32418233e-02,\n",
              "         4.15539369e-02,  3.57364230e-02, -7.59453420e-03, -3.71656381e-02,\n",
              "        -4.50669462e-03, -8.83138832e-03, -6.24316372e-03,  2.18345057e-02,\n",
              "        -6.08692020e-02, -4.26923949e-03,  2.54768401e-01, -2.51487433e-03,\n",
              "        -5.27497986e-03,  5.13691567e-02, -5.36078215e-03, -4.58982699e-02,\n",
              "        -8.13095830e-03,  1.80445202e-02, -4.66873087e-02,  9.86427255e-03,\n",
              "        -2.47354619e-02, -9.83026326e-02,  3.41303162e-02,  8.18814151e-03,\n",
              "        -7.95662776e-03,  4.01561474e-03, -9.17257592e-02, -4.93414663e-02,\n",
              "         1.45759378e-02, -6.29375204e-02, -1.19980294e-02, -2.28143726e-02,\n",
              "        -5.13932481e-03,  6.40892889e-03, -1.95976868e-02, -1.28356079e-02,\n",
              "        -2.65524071e-02, -1.38262026e-02, -4.84113805e-02, -2.43179929e-02,\n",
              "        -3.16104293e-02,  6.98683644e-03, -5.91535009e-02, -1.86395049e-02,\n",
              "         1.17183411e-02,  5.28616086e-02,  2.92150471e-02, -4.28817458e-02,\n",
              "        -3.70615348e-02, -9.13521368e-03,  2.38779164e-03,  2.00529490e-02,\n",
              "         9.60688852e-03,  2.87858769e-02,  4.52368110e-02,  2.49404297e-03,\n",
              "        -5.03932033e-03, -3.03738080e-02,  2.51445044e-02, -1.42881693e-02,\n",
              "         2.93304725e-03,  7.06794038e-02,  6.61874469e-03, -8.96847434e-03,\n",
              "         1.43616563e-02,  9.21986718e-03, -3.61721702e-02,  2.94628471e-01,\n",
              "         2.02404447e-02, -1.69838369e-02,  5.67043051e-02, -1.70154497e-02,\n",
              "         2.50455886e-02, -3.83483851e-03, -7.33178854e-02, -4.79202271e-02,\n",
              "        -6.40111510e-03, -8.94886926e-02,  1.99298058e-02,  6.53712153e-01,\n",
              "         1.85148639e-03,  2.61069983e-02,  3.56646325e-03, -1.18768185e-01,\n",
              "        -3.26362550e-02,  1.54118389e-02, -5.36660803e-03, -5.11419289e-02,\n",
              "         5.07395132e-04, -2.80891377e-02, -2.15809233e-02,  5.09615093e-02,\n",
              "         3.18550728e-02, -1.38419578e-02, -2.37031505e-02,  1.49548613e-02,\n",
              "         9.55549709e-04, -3.02784890e-02, -7.89653324e-03, -2.39108186e-02,\n",
              "         2.79334597e-02, -1.20024480e-01,  1.23091176e-01, -1.37073636e-01,\n",
              "        -1.01287305e-01, -4.38481482e-04, -1.59476884e-02, -1.06465316e-03,\n",
              "        -1.29742920e-02,  4.74173389e-03, -5.65609988e-03,  1.12838028e-02,\n",
              "         3.09157781e-02, -1.01556140e-03, -4.56015989e-02, -1.24444384e-02,\n",
              "        -1.89255290e-02,  3.79337184e-02,  5.45398146e-02,  7.56846815e-02,\n",
              "         1.43413991e-02, -6.93861470e-02, -1.59325302e-02, -6.09285943e-02,\n",
              "         2.10170820e-02,  5.79797104e-02,  2.18112208e-02, -4.80096601e-02,\n",
              "         5.77817438e-03, -4.67151478e-02,  2.86083482e-03,  5.93811311e-02,\n",
              "        -7.23760277e-02,  1.74283772e-03,  2.16727369e-02, -6.36453554e-02,\n",
              "         2.26902533e-02,  4.35450263e-02,  1.45335821e-02,  1.20871291e-02,\n",
              "        -1.19040208e-02,  2.98296567e-02,  9.08288658e-02,  3.13410982e-02,\n",
              "         2.96609327e-02,  2.43266933e-02,  8.02801251e-02, -9.07875374e-02,\n",
              "        -2.76094154e-02,  3.36321234e-03,  1.22486311e-03, -2.60698106e-02,\n",
              "        -3.97232436e-02,  1.13920297e-03,  5.10946363e-02, -5.48867509e-02,\n",
              "        -1.87218338e-02,  3.66262975e-03, -1.90390705e-03,  9.56057943e-03,\n",
              "         1.50950532e-02,  2.67276391e-02, -1.92297921e-02,  4.11350913e-02,\n",
              "        -3.86281796e-02,  4.08071317e-02, -9.44919512e-03, -3.15106213e-02,\n",
              "         4.26645996e-03,  3.98121737e-02,  4.60702740e-02, -1.21101076e-02,\n",
              "        -2.66062804e-02,  7.58528803e-03,  4.43169475e-02, -2.60321014e-02,\n",
              "        -3.43147591e-02,  5.07339686e-02,  4.08364367e-03,  1.62937809e-02,\n",
              "        -1.08716181e-02, -9.45983361e-03, -2.83563547e-02, -5.70827676e-03,\n",
              "        -9.73576233e-02, -2.08865684e-02,  1.58906952e-02, -1.69860758e-02,\n",
              "        -2.52005309e-02,  8.19031149e-03,  1.56521406e-02, -7.97025673e-03],\n",
              "       dtype=float32)]"
            ]
          },
          "metadata": {},
          "execution_count": 79
        }
      ]
    },
    {
      "cell_type": "markdown",
      "source": [
        "Clustering using PCA first (for visualization purpose)"
      ],
      "metadata": {
        "id": "gBxHj-gRPI8N"
      }
    },
    {
      "cell_type": "code",
      "source": [
        "from sklearn.decomposition import PCA\n",
        "\n",
        "pca = PCA(n_components=2)\n",
        "pca.fit(embeddings_vec)\n",
        "X = pca.transform(embeddings_vec)"
      ],
      "metadata": {
        "id": "7Ordf3I4PIZT"
      },
      "execution_count": 80,
      "outputs": []
    },
    {
      "cell_type": "code",
      "source": [
        "clusterer = KMeansClusterer(3, distance=nltk.cluster.util.cosine_distance, repeats=10, avoid_empty_clusters=True)\n",
        "clusters = clusterer.cluster(X, assign_clusters=True, trace=False)"
      ],
      "metadata": {
        "id": "75lS1WjgPy2P"
      },
      "execution_count": 81,
      "outputs": []
    },
    {
      "cell_type": "code",
      "source": [
        "df = pd.DataFrame(np.array(X), columns=['f1', 'f2'])"
      ],
      "metadata": {
        "id": "hYIuKswdSa5D"
      },
      "execution_count": 82,
      "outputs": []
    },
    {
      "cell_type": "code",
      "source": [
        "from matplotlib.lines import Line2D\n",
        "\n",
        "colors = ['darkcyan', 'cornflowerblue', 'coral']"
      ],
      "metadata": {
        "id": "pr_mhSA0f04x"
      },
      "execution_count": 83,
      "outputs": []
    },
    {
      "cell_type": "code",
      "source": [
        "df['clusters'] = clusters\n",
        "df['centroids'] = df['clusters'].apply(lambda x: clusterer.means()[x])\n",
        "df['c'] = df['clusters'].map({0:'darkcyan', 1:'cornflowerblue', 2:'coral'})"
      ],
      "metadata": {
        "id": "Uqeg8XBWUm0l"
      },
      "execution_count": 84,
      "outputs": []
    },
    {
      "cell_type": "code",
      "source": [
        "clusterer.means()"
      ],
      "metadata": {
        "colab": {
          "base_uri": "https://localhost:8080/"
        },
        "id": "iMNr4xnBiUbM",
        "outputId": "694899ca-a66f-477e-f04b-81389cf63e7a"
      },
      "execution_count": 85,
      "outputs": [
        {
          "output_type": "execute_result",
          "data": {
            "text/plain": [
              "[array([-0.00717149, -0.17350581], dtype=float32),\n",
              " array([-0.10154473,  0.15210792], dtype=float32),\n",
              " array([0.3650505 , 0.01285311], dtype=float32)]"
            ]
          },
          "metadata": {},
          "execution_count": 85
        }
      ]
    },
    {
      "cell_type": "code",
      "source": [
        "df"
      ],
      "metadata": {
        "colab": {
          "base_uri": "https://localhost:8080/",
          "height": 423
        },
        "id": "VtwGVedxj7D9",
        "outputId": "6a5af219-b175-4ecc-e132-7c69a4e25203"
      },
      "execution_count": 86,
      "outputs": [
        {
          "output_type": "execute_result",
          "data": {
            "text/plain": [
              "            f1        f2  clusters                    centroids  \\\n",
              "0    -0.160277 -0.306326         0  [-0.007171495, -0.17350581]   \n",
              "1    -0.082113  0.161343         1    [-0.10154473, 0.15210792]   \n",
              "2    -0.052756 -0.267436         0  [-0.007171495, -0.17350581]   \n",
              "3     0.005662 -0.028991         0  [-0.007171495, -0.17350581]   \n",
              "4    -0.313520  0.633355         1    [-0.10154473, 0.15210792]   \n",
              "...        ...       ...       ...                          ...   \n",
              "6508  0.017134  0.204494         1    [-0.10154473, 0.15210792]   \n",
              "6509 -0.163957  0.265183         1    [-0.10154473, 0.15210792]   \n",
              "6510 -0.052813 -0.059845         0  [-0.007171495, -0.17350581]   \n",
              "6511 -0.248938  0.167744         1    [-0.10154473, 0.15210792]   \n",
              "6512  0.108281 -0.280229         0  [-0.007171495, -0.17350581]   \n",
              "\n",
              "                   c  \n",
              "0           darkcyan  \n",
              "1     cornflowerblue  \n",
              "2           darkcyan  \n",
              "3           darkcyan  \n",
              "4     cornflowerblue  \n",
              "...              ...  \n",
              "6508  cornflowerblue  \n",
              "6509  cornflowerblue  \n",
              "6510        darkcyan  \n",
              "6511  cornflowerblue  \n",
              "6512        darkcyan  \n",
              "\n",
              "[6513 rows x 5 columns]"
            ],
            "text/html": [
              "\n",
              "  <div id=\"df-cfdaca6d-2156-49f1-8234-1e04d9196575\">\n",
              "    <div class=\"colab-df-container\">\n",
              "      <div>\n",
              "<style scoped>\n",
              "    .dataframe tbody tr th:only-of-type {\n",
              "        vertical-align: middle;\n",
              "    }\n",
              "\n",
              "    .dataframe tbody tr th {\n",
              "        vertical-align: top;\n",
              "    }\n",
              "\n",
              "    .dataframe thead th {\n",
              "        text-align: right;\n",
              "    }\n",
              "</style>\n",
              "<table border=\"1\" class=\"dataframe\">\n",
              "  <thead>\n",
              "    <tr style=\"text-align: right;\">\n",
              "      <th></th>\n",
              "      <th>f1</th>\n",
              "      <th>f2</th>\n",
              "      <th>clusters</th>\n",
              "      <th>centroids</th>\n",
              "      <th>c</th>\n",
              "    </tr>\n",
              "  </thead>\n",
              "  <tbody>\n",
              "    <tr>\n",
              "      <th>0</th>\n",
              "      <td>-0.160277</td>\n",
              "      <td>-0.306326</td>\n",
              "      <td>0</td>\n",
              "      <td>[-0.007171495, -0.17350581]</td>\n",
              "      <td>darkcyan</td>\n",
              "    </tr>\n",
              "    <tr>\n",
              "      <th>1</th>\n",
              "      <td>-0.082113</td>\n",
              "      <td>0.161343</td>\n",
              "      <td>1</td>\n",
              "      <td>[-0.10154473, 0.15210792]</td>\n",
              "      <td>cornflowerblue</td>\n",
              "    </tr>\n",
              "    <tr>\n",
              "      <th>2</th>\n",
              "      <td>-0.052756</td>\n",
              "      <td>-0.267436</td>\n",
              "      <td>0</td>\n",
              "      <td>[-0.007171495, -0.17350581]</td>\n",
              "      <td>darkcyan</td>\n",
              "    </tr>\n",
              "    <tr>\n",
              "      <th>3</th>\n",
              "      <td>0.005662</td>\n",
              "      <td>-0.028991</td>\n",
              "      <td>0</td>\n",
              "      <td>[-0.007171495, -0.17350581]</td>\n",
              "      <td>darkcyan</td>\n",
              "    </tr>\n",
              "    <tr>\n",
              "      <th>4</th>\n",
              "      <td>-0.313520</td>\n",
              "      <td>0.633355</td>\n",
              "      <td>1</td>\n",
              "      <td>[-0.10154473, 0.15210792]</td>\n",
              "      <td>cornflowerblue</td>\n",
              "    </tr>\n",
              "    <tr>\n",
              "      <th>...</th>\n",
              "      <td>...</td>\n",
              "      <td>...</td>\n",
              "      <td>...</td>\n",
              "      <td>...</td>\n",
              "      <td>...</td>\n",
              "    </tr>\n",
              "    <tr>\n",
              "      <th>6508</th>\n",
              "      <td>0.017134</td>\n",
              "      <td>0.204494</td>\n",
              "      <td>1</td>\n",
              "      <td>[-0.10154473, 0.15210792]</td>\n",
              "      <td>cornflowerblue</td>\n",
              "    </tr>\n",
              "    <tr>\n",
              "      <th>6509</th>\n",
              "      <td>-0.163957</td>\n",
              "      <td>0.265183</td>\n",
              "      <td>1</td>\n",
              "      <td>[-0.10154473, 0.15210792]</td>\n",
              "      <td>cornflowerblue</td>\n",
              "    </tr>\n",
              "    <tr>\n",
              "      <th>6510</th>\n",
              "      <td>-0.052813</td>\n",
              "      <td>-0.059845</td>\n",
              "      <td>0</td>\n",
              "      <td>[-0.007171495, -0.17350581]</td>\n",
              "      <td>darkcyan</td>\n",
              "    </tr>\n",
              "    <tr>\n",
              "      <th>6511</th>\n",
              "      <td>-0.248938</td>\n",
              "      <td>0.167744</td>\n",
              "      <td>1</td>\n",
              "      <td>[-0.10154473, 0.15210792]</td>\n",
              "      <td>cornflowerblue</td>\n",
              "    </tr>\n",
              "    <tr>\n",
              "      <th>6512</th>\n",
              "      <td>0.108281</td>\n",
              "      <td>-0.280229</td>\n",
              "      <td>0</td>\n",
              "      <td>[-0.007171495, -0.17350581]</td>\n",
              "      <td>darkcyan</td>\n",
              "    </tr>\n",
              "  </tbody>\n",
              "</table>\n",
              "<p>6513 rows × 5 columns</p>\n",
              "</div>\n",
              "      <button class=\"colab-df-convert\" onclick=\"convertToInteractive('df-cfdaca6d-2156-49f1-8234-1e04d9196575')\"\n",
              "              title=\"Convert this dataframe to an interactive table.\"\n",
              "              style=\"display:none;\">\n",
              "        \n",
              "  <svg xmlns=\"http://www.w3.org/2000/svg\" height=\"24px\"viewBox=\"0 0 24 24\"\n",
              "       width=\"24px\">\n",
              "    <path d=\"M0 0h24v24H0V0z\" fill=\"none\"/>\n",
              "    <path d=\"M18.56 5.44l.94 2.06.94-2.06 2.06-.94-2.06-.94-.94-2.06-.94 2.06-2.06.94zm-11 1L8.5 8.5l.94-2.06 2.06-.94-2.06-.94L8.5 2.5l-.94 2.06-2.06.94zm10 10l.94 2.06.94-2.06 2.06-.94-2.06-.94-.94-2.06-.94 2.06-2.06.94z\"/><path d=\"M17.41 7.96l-1.37-1.37c-.4-.4-.92-.59-1.43-.59-.52 0-1.04.2-1.43.59L10.3 9.45l-7.72 7.72c-.78.78-.78 2.05 0 2.83L4 21.41c.39.39.9.59 1.41.59.51 0 1.02-.2 1.41-.59l7.78-7.78 2.81-2.81c.8-.78.8-2.07 0-2.86zM5.41 20L4 18.59l7.72-7.72 1.47 1.35L5.41 20z\"/>\n",
              "  </svg>\n",
              "      </button>\n",
              "      \n",
              "  <style>\n",
              "    .colab-df-container {\n",
              "      display:flex;\n",
              "      flex-wrap:wrap;\n",
              "      gap: 12px;\n",
              "    }\n",
              "\n",
              "    .colab-df-convert {\n",
              "      background-color: #E8F0FE;\n",
              "      border: none;\n",
              "      border-radius: 50%;\n",
              "      cursor: pointer;\n",
              "      display: none;\n",
              "      fill: #1967D2;\n",
              "      height: 32px;\n",
              "      padding: 0 0 0 0;\n",
              "      width: 32px;\n",
              "    }\n",
              "\n",
              "    .colab-df-convert:hover {\n",
              "      background-color: #E2EBFA;\n",
              "      box-shadow: 0px 1px 2px rgba(60, 64, 67, 0.3), 0px 1px 3px 1px rgba(60, 64, 67, 0.15);\n",
              "      fill: #174EA6;\n",
              "    }\n",
              "\n",
              "    [theme=dark] .colab-df-convert {\n",
              "      background-color: #3B4455;\n",
              "      fill: #D2E3FC;\n",
              "    }\n",
              "\n",
              "    [theme=dark] .colab-df-convert:hover {\n",
              "      background-color: #434B5C;\n",
              "      box-shadow: 0px 1px 3px 1px rgba(0, 0, 0, 0.15);\n",
              "      filter: drop-shadow(0px 1px 2px rgba(0, 0, 0, 0.3));\n",
              "      fill: #FFFFFF;\n",
              "    }\n",
              "  </style>\n",
              "\n",
              "      <script>\n",
              "        const buttonEl =\n",
              "          document.querySelector('#df-cfdaca6d-2156-49f1-8234-1e04d9196575 button.colab-df-convert');\n",
              "        buttonEl.style.display =\n",
              "          google.colab.kernel.accessAllowed ? 'block' : 'none';\n",
              "\n",
              "        async function convertToInteractive(key) {\n",
              "          const element = document.querySelector('#df-cfdaca6d-2156-49f1-8234-1e04d9196575');\n",
              "          const dataTable =\n",
              "            await google.colab.kernel.invokeFunction('convertToInteractive',\n",
              "                                                     [key], {});\n",
              "          if (!dataTable) return;\n",
              "\n",
              "          const docLinkHtml = 'Like what you see? Visit the ' +\n",
              "            '<a target=\"_blank\" href=https://colab.research.google.com/notebooks/data_table.ipynb>data table notebook</a>'\n",
              "            + ' to learn more about interactive tables.';\n",
              "          element.innerHTML = '';\n",
              "          dataTable['output_type'] = 'display_data';\n",
              "          await google.colab.output.renderOutput(dataTable, element);\n",
              "          const docLink = document.createElement('div');\n",
              "          docLink.innerHTML = docLinkHtml;\n",
              "          element.appendChild(docLink);\n",
              "        }\n",
              "      </script>\n",
              "    </div>\n",
              "  </div>\n",
              "  "
            ]
          },
          "metadata": {},
          "execution_count": 86
        }
      ]
    },
    {
      "cell_type": "code",
      "source": [
        "fig, axs = plt.subplots(1, figsize=(12, 7))\n",
        "\n",
        "# plot data\n",
        "plt.scatter(df['f1'], df['f2'], c=df['c'], alpha=0.4, s=12)\n",
        "#plot centroids\n",
        "cen_x = [centroid[0] for centroid in clusterer.means()]\n",
        "cen_y = [centroid[1] for centroid in clusterer.means()]\n",
        "plt.scatter(cen_x, cen_y, marker='^', c=colors, edgecolors='black', linewidths=1)\n",
        "\n",
        "# legend\n",
        "legend_elements = [Line2D([0], [0], marker='o', color='w', label='Cluster {}'.format(i+1),markerfacecolor=color, markersize=6)\n",
        "                    for i, color in enumerate(colors)]\n",
        "plt.legend(handles=legend_elements, loc='upper right')"
      ],
      "metadata": {
        "colab": {
          "base_uri": "https://localhost:8080/",
          "height": 446
        },
        "id": "pelD1MmOQBUG",
        "outputId": "168f8037-d660-4f68-f55b-0b8fbed48057"
      },
      "execution_count": 87,
      "outputs": [
        {
          "output_type": "execute_result",
          "data": {
            "text/plain": [
              "<matplotlib.legend.Legend at 0x7f9c25b7f2d0>"
            ]
          },
          "metadata": {},
          "execution_count": 87
        },
        {
          "output_type": "display_data",
          "data": {
            "text/plain": [
              "<Figure size 864x504 with 1 Axes>"
            ],
            "image/png": "[encoded data removed]"
          },
          "metadata": {
            "needs_background": "light"
          }
        }
      ]
    }
  ]
}