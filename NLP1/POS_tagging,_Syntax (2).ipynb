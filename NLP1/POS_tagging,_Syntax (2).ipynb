{
  "nbformat": 4,
  "nbformat_minor": 0,
  "metadata": {
    "colab": {
      "name": "POS-tagging, Syntax.ipynb",
      "provenance": [],
      "collapsed_sections": []
    },
    "kernelspec": {
      "name": "python3",
      "display_name": "Python 3"
    },
    "language_info": {
      "name": "python"
    }
  },
  "cells": [
    {
      "cell_type": "markdown",
      "source": [
        "# The Stanford POS Tagger\n"
      ],
      "metadata": {
        "id": "TOiBlh5oa6ze"
      }
    },
    {
      "cell_type": "markdown",
      "source": [
        "Web app version: http://nlp.stanford.edu:8080/parser/\n",
        "\n",
        "Newer version of the NLTK interface, requires running a java server locally: https://github.com/nltk/nltk/wiki/Stanford-CoreNLP-API-in-NLTK\n"
      ],
      "metadata": {
        "id": "cfHeXLEUgIKn"
      }
    },
    {
      "cell_type": "markdown",
      "source": [
        "### Downloading the tagger and models"
      ],
      "metadata": {
        "id": "MOXWLw-SbCpQ"
      }
    },
    {
      "cell_type": "markdown",
      "source": [
        "Download and uzip the model. You can do the same thing on your own computer to be able to use it locally."
      ],
      "metadata": {
        "id": "rmImjTN1bZMS"
      }
    },
    {
      "cell_type": "code",
      "source": [
        "%%time\n",
        "!wget 'https://nlp.stanford.edu/software/stanford-tagger-4.2.0.zip'\n",
        "!unzip './stanford-tagger-4.2.0.zip'"
      ],
      "metadata": {
        "colab": {
          "base_uri": "https://localhost:8080/"
        },
        "id": "9nYqHkCnbF0o",
        "outputId": "1bb9842b-70e4-40d9-ee2c-709336f3c7aa"
      },
      "execution_count": 1,
      "outputs": [
        {
          "output_type": "stream",
          "name": "stdout",
          "text": [
            "--2022-03-31 17:24:37--  https://nlp.stanford.edu/software/stanford-tagger-4.2.0.zip\n",
            "Resolving nlp.stanford.edu (nlp.stanford.edu)... 171.64.67.140\n",
            "Connecting to nlp.stanford.edu (nlp.stanford.edu)|171.64.67.140|:443... connected.\n",
            "HTTP request sent, awaiting response... 302 FOUND\n",
            "Location: https://downloads.cs.stanford.edu/nlp/software/stanford-tagger-4.2.0.zip [following]\n",
            "--2022-03-31 17:24:38--  https://downloads.cs.stanford.edu/nlp/software/stanford-tagger-4.2.0.zip\n",
            "Resolving downloads.cs.stanford.edu (downloads.cs.stanford.edu)... 171.64.64.22\n",
            "Connecting to downloads.cs.stanford.edu (downloads.cs.stanford.edu)|171.64.64.22|:443... connected.\n",
            "HTTP request sent, awaiting response... 200 OK\n",
            "Length: 78034596 (74M) [application/zip]\n",
            "Saving to: ‘stanford-tagger-4.2.0.zip’\n",
            "\n",
            "stanford-tagger-4.2 100%[===================>]  74.42M  4.72MB/s    in 12s     \n",
            "\n",
            "2022-03-31 17:24:50 (6.18 MB/s) - ‘stanford-tagger-4.2.0.zip’ saved [78034596/78034596]\n",
            "\n",
            "Archive:  ./stanford-tagger-4.2.0.zip\n",
            "   creating: stanford-postagger-full-2020-11-17/\n",
            "  inflating: stanford-postagger-full-2020-11-17/stanford-postagger-gui.sh  \n",
            "  inflating: stanford-postagger-full-2020-11-17/sample-input.txt  \n",
            "  inflating: stanford-postagger-full-2020-11-17/stanford-postagger.jar  \n",
            "   creating: stanford-postagger-full-2020-11-17/data/\n",
            "  inflating: stanford-postagger-full-2020-11-17/data/enclitic-inflections.data  \n",
            "  inflating: stanford-postagger-full-2020-11-17/stanford-postagger-4.2.0-javadoc.jar  \n",
            "  inflating: stanford-postagger-full-2020-11-17/README.txt  \n",
            "  inflating: stanford-postagger-full-2020-11-17/stanford-postagger-4.2.0.jar  \n",
            "  inflating: stanford-postagger-full-2020-11-17/stanford-postagger.sh  \n",
            "   creating: stanford-postagger-full-2020-11-17/models/\n",
            "  inflating: stanford-postagger-full-2020-11-17/models/english-left3words-distsim.tagger.props  \n",
            "  inflating: stanford-postagger-full-2020-11-17/models/spanish-ud.tagger.props  \n",
            "  inflating: stanford-postagger-full-2020-11-17/models/english-caseless-left3words-distsim.tagger.props  \n",
            "  inflating: stanford-postagger-full-2020-11-17/models/spanish-ud.tagger  \n",
            "  inflating: stanford-postagger-full-2020-11-17/models/arabic-train.tagger  \n",
            "  inflating: stanford-postagger-full-2020-11-17/models/english-left3words-distsim.tagger  \n",
            "  inflating: stanford-postagger-full-2020-11-17/models/english-bidirectional-distsim.tagger.props  \n",
            "  inflating: stanford-postagger-full-2020-11-17/models/arabic.tagger  \n",
            "  inflating: stanford-postagger-full-2020-11-17/models/chinese-distsim.tagger  \n",
            "  inflating: stanford-postagger-full-2020-11-17/models/german-ud.tagger.props  \n",
            "  inflating: stanford-postagger-full-2020-11-17/models/french-ud.tagger.props  \n",
            "  inflating: stanford-postagger-full-2020-11-17/models/arabic.tagger.props  \n",
            "  inflating: stanford-postagger-full-2020-11-17/models/english-caseless-left3words-distsim.tagger  \n",
            "  inflating: stanford-postagger-full-2020-11-17/models/french-ud.tagger  \n",
            "  inflating: stanford-postagger-full-2020-11-17/models/english-bidirectional-distsim.tagger  \n",
            "  inflating: stanford-postagger-full-2020-11-17/models/chinese-nodistsim.tagger  \n",
            "  inflating: stanford-postagger-full-2020-11-17/models/chinese-distsim.tagger.props  \n",
            "  inflating: stanford-postagger-full-2020-11-17/models/german-ud.tagger  \n",
            "  inflating: stanford-postagger-full-2020-11-17/models/README-Models.txt  \n",
            "  inflating: stanford-postagger-full-2020-11-17/models/chinese-nodistsim.tagger.props  \n",
            "  inflating: stanford-postagger-full-2020-11-17/models/arabic-train.tagger.props  \n",
            "  inflating: stanford-postagger-full-2020-11-17/stanford-postagger-gui.bat  \n",
            "  inflating: stanford-postagger-full-2020-11-17/build.xml  \n",
            "  inflating: stanford-postagger-full-2020-11-17/TaggerDemo2.java  \n",
            "  inflating: stanford-postagger-full-2020-11-17/sample-output.txt  \n",
            "  inflating: stanford-postagger-full-2020-11-17/stanford-postagger.bat  \n",
            "  inflating: stanford-postagger-full-2020-11-17/TaggerDemo.java  \n",
            "  inflating: stanford-postagger-full-2020-11-17/stanford-postagger-4.2.0-sources.jar  \n",
            "  inflating: stanford-postagger-full-2020-11-17/LICENSE.txt  \n",
            "CPU times: user 218 ms, sys: 39.8 ms, total: 258 ms\n",
            "Wall time: 16.3 s\n"
          ]
        }
      ]
    },
    {
      "cell_type": "markdown",
      "source": [
        "### Setting up and using the tagger with NLTK"
      ],
      "metadata": {
        "id": "gT_y9OzBbGwg"
      }
    },
    {
      "cell_type": "code",
      "source": [
        "model_path='./stanford-postagger-full-2020-11-17/models/english-bidirectional-distsim.tagger'\n",
        "jar_tagger_path='./stanford-postagger-full-2020-11-17/stanford-postagger-4.2.0.jar'"
      ],
      "metadata": {
        "id": "xUr6gPwJFKuD"
      },
      "execution_count": 2,
      "outputs": []
    },
    {
      "cell_type": "code",
      "execution_count": 3,
      "metadata": {
        "id": "6e8EcS6qqVL5"
      },
      "outputs": [],
      "source": [
        "from nltk.tag.stanford import StanfordPOSTagger # -- deprecated?"
      ]
    },
    {
      "cell_type": "code",
      "source": [
        "!pip freeze | grep nltk"
      ],
      "metadata": {
        "colab": {
          "base_uri": "https://localhost:8080/"
        },
        "id": "7kRn3vy0SYlB",
        "outputId": "081fe644-c6d9-4ba9-f286-3e1efffb6bd3"
      },
      "execution_count": 4,
      "outputs": [
        {
          "output_type": "stream",
          "name": "stdout",
          "text": [
            "nltk==3.2.5\n"
          ]
        }
      ]
    },
    {
      "cell_type": "code",
      "source": [
        "tagger=StanfordPOSTagger(model_path, jar_tagger_path)"
      ],
      "metadata": {
        "colab": {
          "base_uri": "https://localhost:8080/"
        },
        "id": "t6dDj5bcErgs",
        "outputId": "e7a8fa51-325d-43f1-ac69-98743a1d8de6"
      },
      "execution_count": 5,
      "outputs": [
        {
          "output_type": "stream",
          "name": "stderr",
          "text": [
            "/usr/local/lib/python3.7/dist-packages/nltk/tag/stanford.py:149: DeprecationWarning: \n",
            "The StanfordTokenizer will be deprecated in version 3.2.5.\n",
            "Please use \u001b[91mnltk.tag.corenlp.CoreNLPPOSTagger\u001b[0m or \u001b[91mnltk.tag.corenlp.CoreNLPNERTagger\u001b[0m instead.\n",
            "  super(StanfordPOSTagger, self).__init__(*args, **kwargs)\n"
          ]
        }
      ]
    },
    {
      "cell_type": "code",
      "source": [
        "import nltk\n",
        "nltk.download('punkt')"
      ],
      "metadata": {
        "colab": {
          "base_uri": "https://localhost:8080/"
        },
        "id": "SNGYvc7GWfrX",
        "outputId": "59ff409b-2fdb-43ac-c0fe-670766e81643"
      },
      "execution_count": 6,
      "outputs": [
        {
          "output_type": "stream",
          "name": "stdout",
          "text": [
            "[nltk_data] Downloading package punkt to /root/nltk_data...\n",
            "[nltk_data]   Unzipping tokenizers/punkt.zip.\n"
          ]
        },
        {
          "output_type": "execute_result",
          "data": {
            "text/plain": [
              "True"
            ]
          },
          "metadata": {},
          "execution_count": 6
        }
      ]
    },
    {
      "cell_type": "code",
      "source": [
        "tagger.tag(nltk.word_tokenize(\"I am eating a lot of candy.\"))"
      ],
      "metadata": {
        "colab": {
          "base_uri": "https://localhost:8080/"
        },
        "id": "Ovqmsl_yE1ac",
        "outputId": "cb9e8ddc-152f-4855-f7b9-0d2bce9f9155"
      },
      "execution_count": 7,
      "outputs": [
        {
          "output_type": "execute_result",
          "data": {
            "text/plain": [
              "[('I', 'PRP'),\n",
              " ('am', 'VBP'),\n",
              " ('eating', 'VBG'),\n",
              " ('a', 'DT'),\n",
              " ('lot', 'NN'),\n",
              " ('of', 'IN'),\n",
              " ('candy', 'NN'),\n",
              " ('.', '.')]"
            ]
          },
          "metadata": {},
          "execution_count": 7
        }
      ]
    },
    {
      "cell_type": "code",
      "source": [
        "tagger.tag(nltk.word_tokenize(\"Time flies like an arrow.\"))"
      ],
      "metadata": {
        "colab": {
          "base_uri": "https://localhost:8080/"
        },
        "id": "aoauGuMcmT0C",
        "outputId": "b172f981-b0ec-4e20-8b0f-7735405e0be2"
      },
      "execution_count": 8,
      "outputs": [
        {
          "output_type": "execute_result",
          "data": {
            "text/plain": [
              "[('Time', 'NNP'),\n",
              " ('flies', 'VBZ'),\n",
              " ('like', 'IN'),\n",
              " ('an', 'DT'),\n",
              " ('arrow', 'NN'),\n",
              " ('.', '.')]"
            ]
          },
          "metadata": {},
          "execution_count": 8
        }
      ]
    },
    {
      "cell_type": "code",
      "source": [
        "tagger.tag(nltk.word_tokenize(\"Fruit flies like a banana.\"))"
      ],
      "metadata": {
        "colab": {
          "base_uri": "https://localhost:8080/"
        },
        "id": "L9VN5EdHWQzQ",
        "outputId": "fc7df062-9995-42e2-e2bb-c46f12492f8e"
      },
      "execution_count": 9,
      "outputs": [
        {
          "output_type": "execute_result",
          "data": {
            "text/plain": [
              "[('Fruit', 'NNP'),\n",
              " ('flies', 'VBZ'),\n",
              " ('like', 'IN'),\n",
              " ('a', 'DT'),\n",
              " ('banana', 'NN'),\n",
              " ('.', '.')]"
            ]
          },
          "metadata": {},
          "execution_count": 9
        }
      ]
    },
    {
      "cell_type": "code",
      "source": [
        "tagger.tag(nltk.word_tokenize(\"I don't like fruit flies like a banana.\"))"
      ],
      "metadata": {
        "colab": {
          "base_uri": "https://localhost:8080/"
        },
        "id": "TD98Iz1EmUE2",
        "outputId": "6c52dc36-31b4-4b72-bd97-f2c295c8bd8a"
      },
      "execution_count": 10,
      "outputs": [
        {
          "output_type": "execute_result",
          "data": {
            "text/plain": [
              "[('I', 'PRP'),\n",
              " ('do', 'VBP'),\n",
              " (\"n't\", 'RB'),\n",
              " ('like', 'VB'),\n",
              " ('fruit', 'NN'),\n",
              " ('flies', 'NNS'),\n",
              " ('like', 'IN'),\n",
              " ('a', 'DT'),\n",
              " ('banana', 'NN'),\n",
              " ('.', '.')]"
            ]
          },
          "metadata": {},
          "execution_count": 10
        }
      ]
    },
    {
      "cell_type": "code",
      "source": [
        "tagger.tag(nltk.word_tokenize(\"I am eating a lot of candy.\"))"
      ],
      "metadata": {
        "colab": {
          "base_uri": "https://localhost:8080/"
        },
        "id": "M4sjjsmG4Jc7",
        "outputId": "7ca4fe51-28dd-4398-ec96-9b1cbbdbfc82"
      },
      "execution_count": 11,
      "outputs": [
        {
          "output_type": "execute_result",
          "data": {
            "text/plain": [
              "[('I', 'PRP'),\n",
              " ('am', 'VBP'),\n",
              " ('eating', 'VBG'),\n",
              " ('a', 'DT'),\n",
              " ('lot', 'NN'),\n",
              " ('of', 'IN'),\n",
              " ('candy', 'NN'),\n",
              " ('.', '.')]"
            ]
          },
          "metadata": {},
          "execution_count": 11
        }
      ]
    },
    {
      "cell_type": "code",
      "source": [
        "from nltk.stem import PorterStemmer\n",
        "st = PorterStemmer()\n",
        "tagger.tag([st.stem(t) \n",
        "      for t in nltk.word_tokenize(\"I am eating a lot of candy.\")])"
      ],
      "metadata": {
        "colab": {
          "base_uri": "https://localhost:8080/"
        },
        "id": "vjcJgsNAFDl6",
        "outputId": "9d417664-ed75-403c-91a7-6e9f1194ecbd"
      },
      "execution_count": 12,
      "outputs": [
        {
          "output_type": "execute_result",
          "data": {
            "text/plain": [
              "[('I', 'PRP'),\n",
              " ('am', 'VBP'),\n",
              " ('eat', 'VB'),\n",
              " ('a', 'DT'),\n",
              " ('lot', 'NN'),\n",
              " ('of', 'IN'),\n",
              " ('candi', 'NN'),\n",
              " ('.', '.')]"
            ]
          },
          "metadata": {},
          "execution_count": 12
        }
      ]
    },
    {
      "cell_type": "markdown",
      "source": [
        "### Using averaged_perceptron_tagger in NLTK"
      ],
      "metadata": {
        "id": "eOhBNvOHjbgA"
      }
    },
    {
      "cell_type": "code",
      "source": [
        "nltk.download('averaged_perceptron_tagger')\n"
      ],
      "metadata": {
        "colab": {
          "base_uri": "https://localhost:8080/"
        },
        "id": "4oiS8XGnajjP",
        "outputId": "804e7744-b258-4e18-e176-9b4be7df9799"
      },
      "execution_count": 13,
      "outputs": [
        {
          "output_type": "stream",
          "name": "stdout",
          "text": [
            "[nltk_data] Downloading package averaged_perceptron_tagger to\n",
            "[nltk_data]     /root/nltk_data...\n",
            "[nltk_data]   Unzipping taggers/averaged_perceptron_tagger.zip.\n"
          ]
        },
        {
          "output_type": "execute_result",
          "data": {
            "text/plain": [
              "True"
            ]
          },
          "metadata": {},
          "execution_count": 13
        }
      ]
    },
    {
      "cell_type": "code",
      "source": [
        "nltk.pos_tag(nltk.word_tokenize(\"I am eating a lot of candy.\"))"
      ],
      "metadata": {
        "colab": {
          "base_uri": "https://localhost:8080/"
        },
        "id": "trUEM4Y3jj1t",
        "outputId": "575e34c0-bc70-4243-cb6e-2cc9e12ecc3d"
      },
      "execution_count": 14,
      "outputs": [
        {
          "output_type": "execute_result",
          "data": {
            "text/plain": [
              "[('I', 'PRP'),\n",
              " ('am', 'VBP'),\n",
              " ('eating', 'VBG'),\n",
              " ('a', 'DT'),\n",
              " ('lot', 'NN'),\n",
              " ('of', 'IN'),\n",
              " ('candy', 'NN'),\n",
              " ('.', '.')]"
            ]
          },
          "metadata": {},
          "execution_count": 14
        }
      ]
    },
    {
      "cell_type": "code",
      "source": [
        "nltk.pos_tag(nltk.word_tokenize(\"Time flies like an arrow.\"))"
      ],
      "metadata": {
        "colab": {
          "base_uri": "https://localhost:8080/"
        },
        "id": "CmrSdotFjrpk",
        "outputId": "b0259292-94a2-4ccc-f5cf-26652e6797bb"
      },
      "execution_count": 15,
      "outputs": [
        {
          "output_type": "execute_result",
          "data": {
            "text/plain": [
              "[('Time', 'NNP'),\n",
              " ('flies', 'NNS'),\n",
              " ('like', 'IN'),\n",
              " ('an', 'DT'),\n",
              " ('arrow', 'NN'),\n",
              " ('.', '.')]"
            ]
          },
          "metadata": {},
          "execution_count": 15
        }
      ]
    },
    {
      "cell_type": "code",
      "source": [
        "nltk.pos_tag(nltk.word_tokenize(\"Fruit flies like a banana.\"))"
      ],
      "metadata": {
        "colab": {
          "base_uri": "https://localhost:8080/"
        },
        "id": "213h9xIbmMcF",
        "outputId": "b927313f-50d7-482c-e218-7fc35633a99f"
      },
      "execution_count": 16,
      "outputs": [
        {
          "output_type": "execute_result",
          "data": {
            "text/plain": [
              "[('Fruit', 'NNP'),\n",
              " ('flies', 'VBZ'),\n",
              " ('like', 'IN'),\n",
              " ('a', 'DT'),\n",
              " ('banana', 'NN'),\n",
              " ('.', '.')]"
            ]
          },
          "metadata": {},
          "execution_count": 16
        }
      ]
    },
    {
      "cell_type": "markdown",
      "source": [
        "Understanding the tags"
      ],
      "metadata": {
        "id": "UPjryCPmcUhA"
      }
    },
    {
      "cell_type": "code",
      "source": [
        "nltk.download('tagsets')"
      ],
      "metadata": {
        "colab": {
          "base_uri": "https://localhost:8080/"
        },
        "id": "2cvzHwm3cWOg",
        "outputId": "f36a1899-c92a-4727-86dc-24ea92dedab9"
      },
      "execution_count": 17,
      "outputs": [
        {
          "output_type": "stream",
          "name": "stdout",
          "text": [
            "[nltk_data] Downloading package tagsets to /root/nltk_data...\n",
            "[nltk_data]   Unzipping help/tagsets.zip.\n"
          ]
        },
        {
          "output_type": "execute_result",
          "data": {
            "text/plain": [
              "True"
            ]
          },
          "metadata": {},
          "execution_count": 17
        }
      ]
    },
    {
      "cell_type": "code",
      "source": [
        "nltk.help.upenn_tagset('NNP')\n",
        "print()\n",
        "nltk.help.upenn_tagset()"
      ],
      "metadata": {
        "colab": {
          "base_uri": "https://localhost:8080/"
        },
        "id": "rmE9xp0ocdT4",
        "outputId": "46662fbf-c8f4-4de2-ae8d-9b1899ee3f06"
      },
      "execution_count": 18,
      "outputs": [
        {
          "output_type": "stream",
          "name": "stdout",
          "text": [
            "NNP: noun, proper, singular\n",
            "    Motown Venneboerger Czestochwa Ranzer Conchita Trumplane Christos\n",
            "    Oceanside Escobar Kreisler Sawyer Cougar Yvette Ervin ODI Darryl CTCA\n",
            "    Shannon A.K.C. Meltex Liverpool ...\n",
            "\n",
            "$: dollar\n",
            "    $ -$ --$ A$ C$ HK$ M$ NZ$ S$ U.S.$ US$\n",
            "'': closing quotation mark\n",
            "    ' ''\n",
            "(: opening parenthesis\n",
            "    ( [ {\n",
            "): closing parenthesis\n",
            "    ) ] }\n",
            ",: comma\n",
            "    ,\n",
            "--: dash\n",
            "    --\n",
            ".: sentence terminator\n",
            "    . ! ?\n",
            ":: colon or ellipsis\n",
            "    : ; ...\n",
            "CC: conjunction, coordinating\n",
            "    & 'n and both but either et for less minus neither nor or plus so\n",
            "    therefore times v. versus vs. whether yet\n",
            "CD: numeral, cardinal\n",
            "    mid-1890 nine-thirty forty-two one-tenth ten million 0.5 one forty-\n",
            "    seven 1987 twenty '79 zero two 78-degrees eighty-four IX '60s .025\n",
            "    fifteen 271,124 dozen quintillion DM2,000 ...\n",
            "DT: determiner\n",
            "    all an another any both del each either every half la many much nary\n",
            "    neither no some such that the them these this those\n",
            "EX: existential there\n",
            "    there\n",
            "FW: foreign word\n",
            "    gemeinschaft hund ich jeux habeas Haementeria Herr K'ang-si vous\n",
            "    lutihaw alai je jour objets salutaris fille quibusdam pas trop Monte\n",
            "    terram fiche oui corporis ...\n",
            "IN: preposition or conjunction, subordinating\n",
            "    astride among uppon whether out inside pro despite on by throughout\n",
            "    below within for towards near behind atop around if like until below\n",
            "    next into if beside ...\n",
            "JJ: adjective or numeral, ordinal\n",
            "    third ill-mannered pre-war regrettable oiled calamitous first separable\n",
            "    ectoplasmic battery-powered participatory fourth still-to-be-named\n",
            "    multilingual multi-disciplinary ...\n",
            "JJR: adjective, comparative\n",
            "    bleaker braver breezier briefer brighter brisker broader bumper busier\n",
            "    calmer cheaper choosier cleaner clearer closer colder commoner costlier\n",
            "    cozier creamier crunchier cuter ...\n",
            "JJS: adjective, superlative\n",
            "    calmest cheapest choicest classiest cleanest clearest closest commonest\n",
            "    corniest costliest crassest creepiest crudest cutest darkest deadliest\n",
            "    dearest deepest densest dinkiest ...\n",
            "LS: list item marker\n",
            "    A A. B B. C C. D E F First G H I J K One SP-44001 SP-44002 SP-44005\n",
            "    SP-44007 Second Third Three Two * a b c d first five four one six three\n",
            "    two\n",
            "MD: modal auxiliary\n",
            "    can cannot could couldn't dare may might must need ought shall should\n",
            "    shouldn't will would\n",
            "NN: noun, common, singular or mass\n",
            "    common-carrier cabbage knuckle-duster Casino afghan shed thermostat\n",
            "    investment slide humour falloff slick wind hyena override subhumanity\n",
            "    machinist ...\n",
            "NNP: noun, proper, singular\n",
            "    Motown Venneboerger Czestochwa Ranzer Conchita Trumplane Christos\n",
            "    Oceanside Escobar Kreisler Sawyer Cougar Yvette Ervin ODI Darryl CTCA\n",
            "    Shannon A.K.C. Meltex Liverpool ...\n",
            "NNPS: noun, proper, plural\n",
            "    Americans Americas Amharas Amityvilles Amusements Anarcho-Syndicalists\n",
            "    Andalusians Andes Andruses Angels Animals Anthony Antilles Antiques\n",
            "    Apache Apaches Apocrypha ...\n",
            "NNS: noun, common, plural\n",
            "    undergraduates scotches bric-a-brac products bodyguards facets coasts\n",
            "    divestitures storehouses designs clubs fragrances averages\n",
            "    subjectivists apprehensions muses factory-jobs ...\n",
            "PDT: pre-determiner\n",
            "    all both half many quite such sure this\n",
            "POS: genitive marker\n",
            "    ' 's\n",
            "PRP: pronoun, personal\n",
            "    hers herself him himself hisself it itself me myself one oneself ours\n",
            "    ourselves ownself self she thee theirs them themselves they thou thy us\n",
            "PRP$: pronoun, possessive\n",
            "    her his mine my our ours their thy your\n",
            "RB: adverb\n",
            "    occasionally unabatingly maddeningly adventurously professedly\n",
            "    stirringly prominently technologically magisterially predominately\n",
            "    swiftly fiscally pitilessly ...\n",
            "RBR: adverb, comparative\n",
            "    further gloomier grander graver greater grimmer harder harsher\n",
            "    healthier heavier higher however larger later leaner lengthier less-\n",
            "    perfectly lesser lonelier longer louder lower more ...\n",
            "RBS: adverb, superlative\n",
            "    best biggest bluntest earliest farthest first furthest hardest\n",
            "    heartiest highest largest least less most nearest second tightest worst\n",
            "RP: particle\n",
            "    aboard about across along apart around aside at away back before behind\n",
            "    by crop down ever fast for forth from go high i.e. in into just later\n",
            "    low more off on open out over per pie raising start teeth that through\n",
            "    under unto up up-pp upon whole with you\n",
            "SYM: symbol\n",
            "    % & ' '' ''. ) ). * + ,. < = > @ A[fj] U.S U.S.S.R * ** ***\n",
            "TO: \"to\" as preposition or infinitive marker\n",
            "    to\n",
            "UH: interjection\n",
            "    Goodbye Goody Gosh Wow Jeepers Jee-sus Hubba Hey Kee-reist Oops amen\n",
            "    huh howdy uh dammit whammo shucks heck anyways whodunnit honey golly\n",
            "    man baby diddle hush sonuvabitch ...\n",
            "VB: verb, base form\n",
            "    ask assemble assess assign assume atone attention avoid bake balkanize\n",
            "    bank begin behold believe bend benefit bevel beware bless boil bomb\n",
            "    boost brace break bring broil brush build ...\n",
            "VBD: verb, past tense\n",
            "    dipped pleaded swiped regummed soaked tidied convened halted registered\n",
            "    cushioned exacted snubbed strode aimed adopted belied figgered\n",
            "    speculated wore appreciated contemplated ...\n",
            "VBG: verb, present participle or gerund\n",
            "    telegraphing stirring focusing angering judging stalling lactating\n",
            "    hankerin' alleging veering capping approaching traveling besieging\n",
            "    encrypting interrupting erasing wincing ...\n",
            "VBN: verb, past participle\n",
            "    multihulled dilapidated aerosolized chaired languished panelized used\n",
            "    experimented flourished imitated reunifed factored condensed sheared\n",
            "    unsettled primed dubbed desired ...\n",
            "VBP: verb, present tense, not 3rd person singular\n",
            "    predominate wrap resort sue twist spill cure lengthen brush terminate\n",
            "    appear tend stray glisten obtain comprise detest tease attract\n",
            "    emphasize mold postpone sever return wag ...\n",
            "VBZ: verb, present tense, 3rd person singular\n",
            "    bases reconstructs marks mixes displeases seals carps weaves snatches\n",
            "    slumps stretches authorizes smolders pictures emerges stockpiles\n",
            "    seduces fizzes uses bolsters slaps speaks pleads ...\n",
            "WDT: WH-determiner\n",
            "    that what whatever which whichever\n",
            "WP: WH-pronoun\n",
            "    that what whatever whatsoever which who whom whosoever\n",
            "WP$: WH-pronoun, possessive\n",
            "    whose\n",
            "WRB: Wh-adverb\n",
            "    how however whence whenever where whereby whereever wherein whereof why\n",
            "``: opening quotation mark\n",
            "    ` ``\n"
          ]
        }
      ]
    },
    {
      "cell_type": "markdown",
      "source": [
        "# Syntactic Parsing"
      ],
      "metadata": {
        "id": "BVvUf_bfjv7V"
      }
    },
    {
      "cell_type": "markdown",
      "source": [
        "### Stanford Parser"
      ],
      "metadata": {
        "id": "USY05F9NHDfs"
      }
    },
    {
      "cell_type": "markdown",
      "source": [
        "You can try the usage below locally: (needs java)"
      ],
      "metadata": {
        "id": "1wW5TEazbjwV"
      }
    },
    {
      "cell_type": "code",
      "source": [
        "!wget 'https://nlp.stanford.edu/software/stanford-parser-4.2.0.zip'\n",
        "!unzip 'stanford-parser-4.2.0.zip'"
      ],
      "metadata": {
        "colab": {
          "base_uri": "https://localhost:8080/"
        },
        "id": "YWCNPBqTnEej",
        "outputId": "c0dd8638-ed82-405f-9a25-b76a6158ef98"
      },
      "execution_count": 19,
      "outputs": [
        {
          "output_type": "stream",
          "name": "stdout",
          "text": [
            "--2022-03-31 17:25:14--  https://nlp.stanford.edu/software/stanford-parser-4.2.0.zip\n",
            "Resolving nlp.stanford.edu (nlp.stanford.edu)... 171.64.67.140\n",
            "Connecting to nlp.stanford.edu (nlp.stanford.edu)|171.64.67.140|:443... connected.\n",
            "HTTP request sent, awaiting response... 302 FOUND\n",
            "Location: https://downloads.cs.stanford.edu/nlp/software/stanford-parser-4.2.0.zip [following]\n",
            "--2022-03-31 17:25:14--  https://downloads.cs.stanford.edu/nlp/software/stanford-parser-4.2.0.zip\n",
            "Resolving downloads.cs.stanford.edu (downloads.cs.stanford.edu)... 171.64.64.22\n",
            "Connecting to downloads.cs.stanford.edu (downloads.cs.stanford.edu)|171.64.64.22|:443... connected.\n",
            "HTTP request sent, awaiting response... 200 OK\n",
            "Length: 182285548 (174M) [application/zip]\n",
            "Saving to: ‘stanford-parser-4.2.0.zip’\n",
            "\n",
            "stanford-parser-4.2 100%[===================>] 173.84M  4.95MB/s    in 32s     \n",
            "\n",
            "2022-03-31 17:25:47 (5.36 MB/s) - ‘stanford-parser-4.2.0.zip’ saved [182285548/182285548]\n",
            "\n",
            "Archive:  stanford-parser-4.2.0.zip\n",
            "   creating: stanford-parser-full-2020-11-17/\n",
            "  inflating: stanford-parser-full-2020-11-17/ejml-simple-0.38.jar  \n",
            "  inflating: stanford-parser-full-2020-11-17/StanfordDependenciesManual.pdf  \n",
            "  inflating: stanford-parser-full-2020-11-17/Makefile  \n",
            "  inflating: stanford-parser-full-2020-11-17/ShiftReduceDemo.java  \n",
            "  inflating: stanford-parser-full-2020-11-17/slf4j-api-1.7.12-sources.jar  \n",
            "  inflating: stanford-parser-full-2020-11-17/ejml-core-0.38.jar  \n",
            "  inflating: stanford-parser-full-2020-11-17/build.xml  \n",
            "  inflating: stanford-parser-full-2020-11-17/lexparser-gui.sh  \n",
            "   creating: stanford-parser-full-2020-11-17/data/\n",
            " extracting: stanford-parser-full-2020-11-17/data/chinese-onesent-unseg-gb18030.txt  \n",
            " extracting: stanford-parser-full-2020-11-17/data/arabic-onesent-utf8.txt  \n",
            "  inflating: stanford-parser-full-2020-11-17/data/chinese-onesent-unseg-utf8.txt  \n",
            "  inflating: stanford-parser-full-2020-11-17/data/testsent.txt  \n",
            "  inflating: stanford-parser-full-2020-11-17/data/pos-sentences.txt  \n",
            " extracting: stanford-parser-full-2020-11-17/data/chinese-onesent-utf8.txt  \n",
            " extracting: stanford-parser-full-2020-11-17/data/chinese-onesent-gb18030.txt  \n",
            " extracting: stanford-parser-full-2020-11-17/data/english-onesent.txt  \n",
            " extracting: stanford-parser-full-2020-11-17/data/german-onesent.txt  \n",
            "  inflating: stanford-parser-full-2020-11-17/data/french-onesent.txt  \n",
            "  inflating: stanford-parser-full-2020-11-17/LICENSE.txt  \n",
            "  inflating: stanford-parser-full-2020-11-17/stanford-parser-4.2.0-sources.jar  \n",
            "  inflating: stanford-parser-full-2020-11-17/lexparser-gui.command  \n",
            "  inflating: stanford-parser-full-2020-11-17/README_dependencies.txt  \n",
            "  inflating: stanford-parser-full-2020-11-17/ejml-ddense-0.38.jar  \n",
            "   creating: stanford-parser-full-2020-11-17/conf/\n",
            "  inflating: stanford-parser-full-2020-11-17/conf/ftb-latest.conf  \n",
            "  inflating: stanford-parser-full-2020-11-17/conf/atb-latest.conf  \n",
            "  inflating: stanford-parser-full-2020-11-17/ejml-ddense-0.39-sources.jar  \n",
            "  inflating: stanford-parser-full-2020-11-17/ejml-simple-0.39-sources.jar  \n",
            "  inflating: stanford-parser-full-2020-11-17/README.txt  \n",
            "  inflating: stanford-parser-full-2020-11-17/slf4j-simple.jar  \n",
            "  inflating: stanford-parser-full-2020-11-17/lexparser-lang-train-test.sh  \n",
            "  inflating: stanford-parser-full-2020-11-17/stanford-parser-4.2.0-models.jar  \n",
            "  inflating: stanford-parser-full-2020-11-17/stanford-parser-4.2.0-javadoc.jar  \n",
            "  inflating: stanford-parser-full-2020-11-17/lexparser.sh  \n",
            "  inflating: stanford-parser-full-2020-11-17/lexparser-lang.sh  \n",
            "  inflating: stanford-parser-full-2020-11-17/lexparser.bat  \n",
            "  inflating: stanford-parser-full-2020-11-17/ParserDemo2.java  \n",
            "  inflating: stanford-parser-full-2020-11-17/pom.xml  \n",
            "  inflating: stanford-parser-full-2020-11-17/ejml-core-0.39-sources.jar  \n",
            "  inflating: stanford-parser-full-2020-11-17/stanford-parser.jar  \n",
            "  inflating: stanford-parser-full-2020-11-17/DependencyParserDemo.java  \n",
            "   creating: stanford-parser-full-2020-11-17/bin/\n",
            "  inflating: stanford-parser-full-2020-11-17/bin/makeSerialized.csh  \n",
            "  inflating: stanford-parser-full-2020-11-17/bin/run-tb-preproc  \n",
            "  inflating: stanford-parser-full-2020-11-17/slf4j-api.jar  \n",
            "  inflating: stanford-parser-full-2020-11-17/ParserDemo.java  \n",
            "  inflating: stanford-parser-full-2020-11-17/lexparser_lang.def  \n",
            "  inflating: stanford-parser-full-2020-11-17/lexparser-gui.bat  \n"
          ]
        }
      ]
    },
    {
      "cell_type": "code",
      "source": [
        "# !wget 'https://nlp.stanford.edu/software/stanford-corenlp-4.2.0-models-english.jar'"
      ],
      "metadata": {
        "id": "_YSxVuhnoFCQ"
      },
      "execution_count": 20,
      "outputs": []
    },
    {
      "cell_type": "code",
      "source": [
        "import os\n",
        "from nltk.parse.stanford import StanfordParser"
      ],
      "metadata": {
        "id": "mRHcRHDgj0Sq"
      },
      "execution_count": 21,
      "outputs": []
    },
    {
      "cell_type": "code",
      "source": [
        "os.environ['JAVAHOME'] = \"/usr/bin/java\"\n",
        "os.environ['STANFORD_PARSER'] = '/content/stanford-parser-full-2020-11-17/stanford-parser.jar'\n",
        "os.environ['STANFORD_MODELS'] = '/content/stanford-parser-full-2020-11-17/stanford-parser-4.2.0-models.jar'"
      ],
      "metadata": {
        "id": "vi-uBl6yk3HV"
      },
      "execution_count": 22,
      "outputs": []
    },
    {
      "cell_type": "code",
      "source": [
        "parser = StanfordParser(model_path=\"/content/stanford-corenlp-4.2.0-models-english.jar\")\n",
        "propozitii = parser.raw_parse_sents((\"I like to go to school.\", \"The cat is running through the room.\",\"Where are you?\"))\n",
        "for prop in propozitii:\n",
        "    print(list(prop))"
      ],
      "metadata": {
        "id": "vHnRCOuZAVvW",
        "colab": {
          "base_uri": "https://localhost:8080/",
          "height": 877
        },
        "outputId": "a9fefafe-37e4-4f80-df6c-2dc9a228e38d"
      },
      "execution_count": 23,
      "outputs": [
        {
          "output_type": "stream",
          "name": "stdout",
          "text": [
            "[main] ERROR edu.stanford.nlp.parser.lexparser.LexicalizedParser - java.io.IOException: Unable to open \"/content/stanford-corenlp-4.2.0-models-english.jar\" as class path, filename or URL\n",
            "  edu.stanford.nlp.io.IOUtils.getInputStreamFromURLOrClasspathOrFileSystem(IOUtils.java:501)\n",
            "  edu.stanford.nlp.io.IOUtils.readStreamFromString(IOUtils.java:402)\n",
            "  edu.stanford.nlp.parser.lexparser.LexicalizedParser.getParserFromSerializedFile(LexicalizedParser.java:567)\n",
            "  edu.stanford.nlp.parser.lexparser.LexicalizedParser.getParserFromFile(LexicalizedParser.java:373)\n",
            "  edu.stanford.nlp.parser.lexparser.LexicalizedParser.loadModel(LexicalizedParser.java:183)\n",
            "  edu.stanford.nlp.parser.lexparser.LexicalizedParser.main(LexicalizedParser.java:1373)\n",
            "java.io.IOException: Unable to open \"/content/stanford-corenlp-4.2.0-models-english.jar\" as class path, filename or URL\n",
            "\tat edu.stanford.nlp.io.IOUtils.getInputStreamFromURLOrClasspathOrFileSystem(IOUtils.java:501)\n",
            "\tat edu.stanford.nlp.io.IOUtils.readerFromString(IOUtils.java:634)\n",
            "\tat edu.stanford.nlp.parser.lexparser.LexicalizedParser.getParserFromTextFile(LexicalizedParser.java:510)\n",
            "\tat edu.stanford.nlp.parser.lexparser.LexicalizedParser.getParserFromFile(LexicalizedParser.java:375)\n",
            "\tat edu.stanford.nlp.parser.lexparser.LexicalizedParser.loadModel(LexicalizedParser.java:183)\n",
            "\tat edu.stanford.nlp.parser.lexparser.LexicalizedParser.main(LexicalizedParser.java:1373)\n",
            "Exception in thread \"main\" java.lang.NullPointerException\n",
            "\tat edu.stanford.nlp.parser.lexparser.LexicalizedParser.loadModel(LexicalizedParser.java:185)\n",
            "\tat edu.stanford.nlp.parser.lexparser.LexicalizedParser.main(LexicalizedParser.java:1373)\n",
            "\n"
          ]
        },
        {
          "output_type": "error",
          "ename": "OSError",
          "evalue": "ignored",
          "traceback": [
            "\u001b[0;31m---------------------------------------------------------------------------\u001b[0m",
            "\u001b[0;31mOSError\u001b[0m                                   Traceback (most recent call last)",
            "\u001b[0;32m<ipython-input-23-dd9aad16e19a>\u001b[0m in \u001b[0;36m<module>\u001b[0;34m()\u001b[0m\n\u001b[1;32m      1\u001b[0m \u001b[0mparser\u001b[0m \u001b[0;34m=\u001b[0m \u001b[0mStanfordParser\u001b[0m\u001b[0;34m(\u001b[0m\u001b[0mmodel_path\u001b[0m\u001b[0;34m=\u001b[0m\u001b[0;34m\"/content/stanford-corenlp-4.2.0-models-english.jar\"\u001b[0m\u001b[0;34m)\u001b[0m\u001b[0;34m\u001b[0m\u001b[0;34m\u001b[0m\u001b[0m\n\u001b[0;32m----> 2\u001b[0;31m \u001b[0mpropozitii\u001b[0m \u001b[0;34m=\u001b[0m \u001b[0mparser\u001b[0m\u001b[0;34m.\u001b[0m\u001b[0mraw_parse_sents\u001b[0m\u001b[0;34m(\u001b[0m\u001b[0;34m(\u001b[0m\u001b[0;34m\"I like to go to school.\"\u001b[0m\u001b[0;34m,\u001b[0m \u001b[0;34m\"The cat is running through the room.\"\u001b[0m\u001b[0;34m,\u001b[0m\u001b[0;34m\"Where are you?\"\u001b[0m\u001b[0;34m)\u001b[0m\u001b[0;34m)\u001b[0m\u001b[0;34m\u001b[0m\u001b[0;34m\u001b[0m\u001b[0m\n\u001b[0m\u001b[1;32m      3\u001b[0m \u001b[0;32mfor\u001b[0m \u001b[0mprop\u001b[0m \u001b[0;32min\u001b[0m \u001b[0mpropozitii\u001b[0m\u001b[0;34m:\u001b[0m\u001b[0;34m\u001b[0m\u001b[0;34m\u001b[0m\u001b[0m\n\u001b[1;32m      4\u001b[0m     \u001b[0mprint\u001b[0m\u001b[0;34m(\u001b[0m\u001b[0mlist\u001b[0m\u001b[0;34m(\u001b[0m\u001b[0mprop\u001b[0m\u001b[0;34m)\u001b[0m\u001b[0;34m)\u001b[0m\u001b[0;34m\u001b[0m\u001b[0;34m\u001b[0m\u001b[0m\n",
            "\u001b[0;32m/usr/local/lib/python3.7/dist-packages/nltk/parse/stanford.py\u001b[0m in \u001b[0;36mraw_parse_sents\u001b[0;34m(self, sentences, verbose)\u001b[0m\n\u001b[1;32m    150\u001b[0m             \u001b[0;34m'-outputFormat'\u001b[0m\u001b[0;34m,\u001b[0m \u001b[0mself\u001b[0m\u001b[0;34m.\u001b[0m\u001b[0m_OUTPUT_FORMAT\u001b[0m\u001b[0;34m,\u001b[0m\u001b[0;34m\u001b[0m\u001b[0;34m\u001b[0m\u001b[0m\n\u001b[1;32m    151\u001b[0m         ]\n\u001b[0;32m--> 152\u001b[0;31m         \u001b[0;32mreturn\u001b[0m \u001b[0mself\u001b[0m\u001b[0;34m.\u001b[0m\u001b[0m_parse_trees_output\u001b[0m\u001b[0;34m(\u001b[0m\u001b[0mself\u001b[0m\u001b[0;34m.\u001b[0m\u001b[0m_execute\u001b[0m\u001b[0;34m(\u001b[0m\u001b[0mcmd\u001b[0m\u001b[0;34m,\u001b[0m \u001b[0;34m'\\n'\u001b[0m\u001b[0;34m.\u001b[0m\u001b[0mjoin\u001b[0m\u001b[0;34m(\u001b[0m\u001b[0msentences\u001b[0m\u001b[0;34m)\u001b[0m\u001b[0;34m,\u001b[0m \u001b[0mverbose\u001b[0m\u001b[0;34m)\u001b[0m\u001b[0;34m)\u001b[0m\u001b[0;34m\u001b[0m\u001b[0;34m\u001b[0m\u001b[0m\n\u001b[0m\u001b[1;32m    153\u001b[0m \u001b[0;34m\u001b[0m\u001b[0m\n\u001b[1;32m    154\u001b[0m     \u001b[0;32mdef\u001b[0m \u001b[0mtagged_parse\u001b[0m\u001b[0;34m(\u001b[0m\u001b[0mself\u001b[0m\u001b[0;34m,\u001b[0m \u001b[0msentence\u001b[0m\u001b[0;34m,\u001b[0m \u001b[0mverbose\u001b[0m\u001b[0;34m=\u001b[0m\u001b[0;32mFalse\u001b[0m\u001b[0;34m)\u001b[0m\u001b[0;34m:\u001b[0m\u001b[0;34m\u001b[0m\u001b[0;34m\u001b[0m\u001b[0m\n",
            "\u001b[0;32m/usr/local/lib/python3.7/dist-packages/nltk/parse/stanford.py\u001b[0m in \u001b[0;36m_execute\u001b[0;34m(self, cmd, input_, verbose)\u001b[0m\n\u001b[1;32m    216\u001b[0m                 \u001b[0mcmd\u001b[0m\u001b[0;34m.\u001b[0m\u001b[0mappend\u001b[0m\u001b[0;34m(\u001b[0m\u001b[0minput_file\u001b[0m\u001b[0;34m.\u001b[0m\u001b[0mname\u001b[0m\u001b[0;34m)\u001b[0m\u001b[0;34m\u001b[0m\u001b[0;34m\u001b[0m\u001b[0m\n\u001b[1;32m    217\u001b[0m                 stdout, stderr = java(cmd, classpath=self._classpath,\n\u001b[0;32m--> 218\u001b[0;31m                                       stdout=PIPE, stderr=PIPE)\n\u001b[0m\u001b[1;32m    219\u001b[0m \u001b[0;34m\u001b[0m\u001b[0m\n\u001b[1;32m    220\u001b[0m             \u001b[0mstdout\u001b[0m \u001b[0;34m=\u001b[0m \u001b[0mstdout\u001b[0m\u001b[0;34m.\u001b[0m\u001b[0mreplace\u001b[0m\u001b[0;34m(\u001b[0m\u001b[0;34mb'\\xc2\\xa0'\u001b[0m\u001b[0;34m,\u001b[0m\u001b[0;34mb' '\u001b[0m\u001b[0;34m)\u001b[0m\u001b[0;34m\u001b[0m\u001b[0;34m\u001b[0m\u001b[0m\n",
            "\u001b[0;32m/usr/local/lib/python3.7/dist-packages/nltk/__init__.py\u001b[0m in \u001b[0;36mjava\u001b[0;34m(cmd, classpath, stdin, stdout, stderr, blocking)\u001b[0m\n\u001b[1;32m    134\u001b[0m     \u001b[0;32mif\u001b[0m \u001b[0mp\u001b[0m\u001b[0;34m.\u001b[0m\u001b[0mreturncode\u001b[0m \u001b[0;34m!=\u001b[0m \u001b[0;36m0\u001b[0m\u001b[0;34m:\u001b[0m\u001b[0;34m\u001b[0m\u001b[0;34m\u001b[0m\u001b[0m\n\u001b[1;32m    135\u001b[0m         \u001b[0mprint\u001b[0m\u001b[0;34m(\u001b[0m\u001b[0m_decode_stdoutdata\u001b[0m\u001b[0;34m(\u001b[0m\u001b[0mstderr\u001b[0m\u001b[0;34m)\u001b[0m\u001b[0;34m)\u001b[0m\u001b[0;34m\u001b[0m\u001b[0;34m\u001b[0m\u001b[0m\n\u001b[0;32m--> 136\u001b[0;31m         \u001b[0;32mraise\u001b[0m \u001b[0mOSError\u001b[0m\u001b[0;34m(\u001b[0m\u001b[0;34m'Java command failed : '\u001b[0m \u001b[0;34m+\u001b[0m \u001b[0mstr\u001b[0m\u001b[0;34m(\u001b[0m\u001b[0mcmd\u001b[0m\u001b[0;34m)\u001b[0m\u001b[0;34m)\u001b[0m\u001b[0;34m\u001b[0m\u001b[0;34m\u001b[0m\u001b[0m\n\u001b[0m\u001b[1;32m    137\u001b[0m \u001b[0;34m\u001b[0m\u001b[0m\n\u001b[1;32m    138\u001b[0m     \u001b[0;32mreturn\u001b[0m \u001b[0;34m(\u001b[0m\u001b[0mstdout\u001b[0m\u001b[0;34m,\u001b[0m \u001b[0mstderr\u001b[0m\u001b[0;34m)\u001b[0m\u001b[0;34m\u001b[0m\u001b[0;34m\u001b[0m\u001b[0m\n",
            "\u001b[0;31mOSError\u001b[0m: Java command failed : ['/usr/bin/java', '-mx1000m', '-cp', '/content/stanford-parser-full-2020-11-17/stanford-parser-4.2.0-models.jar:/content/stanford-parser-full-2020-11-17/slf4j-api-1.7.12-sources.jar:/content/stanford-parser-full-2020-11-17/stanford-parser-4.2.0-models.jar:/content/stanford-parser-full-2020-11-17/stanford-parser-4.2.0-javadoc.jar:/content/stanford-parser-full-2020-11-17/stanford-parser.jar:/content/stanford-parser-full-2020-11-17/ejml-simple-0.38.jar:/content/stanford-parser-full-2020-11-17/ejml-ddense-0.38.jar:/content/stanford-parser-full-2020-11-17/stanford-parser-4.2.0-sources.jar:/content/stanford-parser-full-2020-11-17/slf4j-api.jar:/content/stanford-parser-full-2020-11-17/ejml-simple-0.39-sources.jar:/content/stanford-parser-full-2020-11-17/ejml-ddense-0.39-sources.jar:/content/stanford-parser-full-2020-11-17/ejml-core-0.38.jar:/content/stanford-parser-full-2020-11-17/slf4j-simple.jar:/content/stanford-parser-full-2020-11-17/ejml-core-0.39-sources.jar', 'edu.stanford.nlp.parser.lexparser.LexicalizedParser', '-model', '/content/stanford-corenlp-4.2.0-models-english.jar', '-sentences', 'newline', '-outputFormat', 'penn', '-encoding', 'utf8', '/tmp/tmphljxa_um']"
          ]
        }
      ]
    },
    {
      "cell_type": "markdown",
      "source": [
        "### Alternatively\n"
      ],
      "metadata": {
        "id": "j5nUR1Y3HHpk"
      }
    },
    {
      "cell_type": "code",
      "source": [
        "!wget 'https://nlp.stanford.edu/software/stanford-corenlp-latest.zip'\n",
        "!unzip 'stanford-corenlp-latest.zip'"
      ],
      "metadata": {
        "colab": {
          "base_uri": "https://localhost:8080/"
        },
        "id": "1-dAKHb7QIpI",
        "outputId": "c98c4628-7c24-4f1c-b92e-141154b296e0"
      },
      "execution_count": 24,
      "outputs": [
        {
          "output_type": "stream",
          "name": "stdout",
          "text": [
            "--2022-03-31 17:26:06--  https://nlp.stanford.edu/software/stanford-corenlp-latest.zip\n",
            "Resolving nlp.stanford.edu (nlp.stanford.edu)... 171.64.67.140\n",
            "Connecting to nlp.stanford.edu (nlp.stanford.edu)|171.64.67.140|:443... connected.\n",
            "HTTP request sent, awaiting response... 302 FOUND\n",
            "Location: https://downloads.cs.stanford.edu/nlp/software/stanford-corenlp-latest.zip [following]\n",
            "--2022-03-31 17:26:07--  https://downloads.cs.stanford.edu/nlp/software/stanford-corenlp-latest.zip\n",
            "Resolving downloads.cs.stanford.edu (downloads.cs.stanford.edu)... 171.64.64.22\n",
            "Connecting to downloads.cs.stanford.edu (downloads.cs.stanford.edu)|171.64.64.22|:443... connected.\n",
            "HTTP request sent, awaiting response... 200 OK\n",
            "Length: 505207915 (482M) [application/zip]\n",
            "Saving to: ‘stanford-corenlp-latest.zip’\n",
            "\n",
            "stanford-corenlp-la 100%[===================>] 481.80M  5.11MB/s    in 92s     \n",
            "\n",
            "2022-03-31 17:27:39 (5.22 MB/s) - ‘stanford-corenlp-latest.zip’ saved [505207915/505207915]\n",
            "\n",
            "Archive:  stanford-corenlp-latest.zip\n",
            "   creating: stanford-corenlp-4.4.0/\n",
            "  inflating: stanford-corenlp-4.4.0/jaxb-api-2.4.0-b180830.0359-sources.jar  \n",
            "  inflating: stanford-corenlp-4.4.0/LIBRARY-LICENSES  \n",
            "  inflating: stanford-corenlp-4.4.0/slf4j-api.jar  \n",
            "  inflating: stanford-corenlp-4.4.0/pom.xml  \n",
            "  inflating: stanford-corenlp-4.4.0/Makefile  \n",
            "  inflating: stanford-corenlp-4.4.0/stanford-corenlp-4.4.0-sources.jar  \n",
            "  inflating: stanford-corenlp-4.4.0/input.txt.xml  \n",
            "  inflating: stanford-corenlp-4.4.0/javax.activation-api-1.2.0.jar  \n",
            "  inflating: stanford-corenlp-4.4.0/LICENSE.txt  \n",
            "  inflating: stanford-corenlp-4.4.0/CoreNLP-to-HTML.xsl  \n",
            "  inflating: stanford-corenlp-4.4.0/joda-time.jar  \n",
            "   creating: stanford-corenlp-4.4.0/sutime/\n",
            "  inflating: stanford-corenlp-4.4.0/sutime/english.sutime.txt  \n",
            "  inflating: stanford-corenlp-4.4.0/sutime/spanish.sutime.txt  \n",
            "  inflating: stanford-corenlp-4.4.0/sutime/defs.sutime.txt  \n",
            "  inflating: stanford-corenlp-4.4.0/sutime/british.sutime.txt  \n",
            "  inflating: stanford-corenlp-4.4.0/sutime/english.holidays.sutime.txt  \n",
            "  inflating: stanford-corenlp-4.4.0/StanfordDependenciesManual.pdf  \n",
            "  inflating: stanford-corenlp-4.4.0/jaxb-impl-2.4.0-b180830.0438.jar  \n",
            "  inflating: stanford-corenlp-4.4.0/RESOURCE-LICENSES  \n",
            "  inflating: stanford-corenlp-4.4.0/jollyday.jar  \n",
            "   creating: stanford-corenlp-4.4.0/tokensregex/\n",
            "  inflating: stanford-corenlp-4.4.0/tokensregex/color.rules.txt  \n",
            "  inflating: stanford-corenlp-4.4.0/tokensregex/color.properties  \n",
            "  inflating: stanford-corenlp-4.4.0/tokensregex/retokenize.txt  \n",
            "  inflating: stanford-corenlp-4.4.0/tokensregex/color.input.txt  \n",
            "  inflating: stanford-corenlp-4.4.0/protobuf-java-3.19.2.jar  \n",
            "  inflating: stanford-corenlp-4.4.0/stanford-corenlp-4.4.0.jar  \n",
            "  inflating: stanford-corenlp-4.4.0/input.txt  \n",
            "  inflating: stanford-corenlp-4.4.0/slf4j-simple.jar  \n",
            "  inflating: stanford-corenlp-4.4.0/ejml-simple-0.39.jar  \n",
            "  inflating: stanford-corenlp-4.4.0/javax.json.jar  \n",
            "  inflating: stanford-corenlp-4.4.0/corenlp.sh  \n",
            "  inflating: stanford-corenlp-4.4.0/istack-commons-runtime-3.0.7.jar  \n",
            "  inflating: stanford-corenlp-4.4.0/ejml-core-0.39.jar  \n",
            "  inflating: stanford-corenlp-4.4.0/javax.json-api-1.0-sources.jar  \n",
            "  inflating: stanford-corenlp-4.4.0/jaxb-api-2.4.0-b180830.0359.jar  \n",
            "  inflating: stanford-corenlp-4.4.0/istack-commons-runtime-3.0.7-sources.jar  \n",
            "  inflating: stanford-corenlp-4.4.0/pom-java-11.xml  \n",
            "  inflating: stanford-corenlp-4.4.0/SemgrexDemo.java  \n",
            "  inflating: stanford-corenlp-4.4.0/ShiftReduceDemo.java  \n",
            "  inflating: stanford-corenlp-4.4.0/jaxb-impl-2.4.0-b180830.0438-sources.jar  \n",
            "   creating: stanford-corenlp-4.4.0/patterns/\n",
            "  inflating: stanford-corenlp-4.4.0/patterns/example.properties  \n",
            "  inflating: stanford-corenlp-4.4.0/patterns/stopwords.txt  \n",
            " extracting: stanford-corenlp-4.4.0/patterns/goldplaces.txt  \n",
            "  inflating: stanford-corenlp-4.4.0/patterns/goldnames.txt  \n",
            "  inflating: stanford-corenlp-4.4.0/patterns/names.txt  \n",
            " extracting: stanford-corenlp-4.4.0/patterns/places.txt  \n",
            " extracting: stanford-corenlp-4.4.0/patterns/otherpeople.txt  \n",
            "  inflating: stanford-corenlp-4.4.0/patterns/presidents.txt  \n",
            "  inflating: stanford-corenlp-4.4.0/xom-1.3.7-sources.jar  \n",
            "  inflating: stanford-corenlp-4.4.0/jollyday-0.4.9-sources.jar  \n",
            "  inflating: stanford-corenlp-4.4.0/build.xml  \n",
            "  inflating: stanford-corenlp-4.4.0/javax.activation-api-1.2.0-sources.jar  \n",
            "  inflating: stanford-corenlp-4.4.0/StanfordCoreNlpDemo.java  \n",
            "  inflating: stanford-corenlp-4.4.0/README.txt  \n",
            "  inflating: stanford-corenlp-4.4.0/pom-java-17.xml  \n",
            "  inflating: stanford-corenlp-4.4.0/ejml-ddense-0.39-sources.jar  \n",
            "  inflating: stanford-corenlp-4.4.0/ejml-simple-0.39-sources.jar  \n",
            "  inflating: stanford-corenlp-4.4.0/ejml-ddense-0.39.jar  \n",
            "  inflating: stanford-corenlp-4.4.0/joda-time-2.10.5-sources.jar  \n",
            "  inflating: stanford-corenlp-4.4.0/xom.jar  \n",
            "  inflating: stanford-corenlp-4.4.0/stanford-corenlp-4.4.0-models.jar  \n",
            "  inflating: stanford-corenlp-4.4.0/input.txt.out  \n",
            "  inflating: stanford-corenlp-4.4.0/ejml-core-0.39-sources.jar  \n",
            "  inflating: stanford-corenlp-4.4.0/stanford-corenlp-4.4.0-javadoc.jar  \n"
          ]
        }
      ]
    },
    {
      "cell_type": "code",
      "source": [
        "!pip install stanfordcorenlp"
      ],
      "metadata": {
        "colab": {
          "base_uri": "https://localhost:8080/"
        },
        "id": "fw_7gV3pHJpQ",
        "outputId": "48fb1726-ee1b-4d50-bd9b-9e67c783a16a"
      },
      "execution_count": 25,
      "outputs": [
        {
          "output_type": "stream",
          "name": "stdout",
          "text": [
            "Collecting stanfordcorenlp\n",
            "  Downloading stanfordcorenlp-3.9.1.1-py2.py3-none-any.whl (5.7 kB)\n",
            "Requirement already satisfied: psutil in /usr/local/lib/python3.7/dist-packages (from stanfordcorenlp) (5.4.8)\n",
            "Requirement already satisfied: requests in /usr/local/lib/python3.7/dist-packages (from stanfordcorenlp) (2.23.0)\n",
            "Requirement already satisfied: idna<3,>=2.5 in /usr/local/lib/python3.7/dist-packages (from requests->stanfordcorenlp) (2.10)\n",
            "Requirement already satisfied: certifi>=2017.4.17 in /usr/local/lib/python3.7/dist-packages (from requests->stanfordcorenlp) (2021.10.8)\n",
            "Requirement already satisfied: urllib3!=1.25.0,!=1.25.1,<1.26,>=1.21.1 in /usr/local/lib/python3.7/dist-packages (from requests->stanfordcorenlp) (1.24.3)\n",
            "Requirement already satisfied: chardet<4,>=3.0.2 in /usr/local/lib/python3.7/dist-packages (from requests->stanfordcorenlp) (3.0.4)\n",
            "Installing collected packages: stanfordcorenlp\n",
            "Successfully installed stanfordcorenlp-3.9.1.1\n"
          ]
        }
      ]
    },
    {
      "cell_type": "code",
      "source": [
        "import stanfordcorenlp\n",
        "sc = stanfordcorenlp.StanfordCoreNLP('/content/stanford-corenlp-4.4.0')"
      ],
      "metadata": {
        "id": "BVPPE8TePAxK"
      },
      "execution_count": 26,
      "outputs": []
    },
    {
      "cell_type": "markdown",
      "source": [
        "Dependency parsing"
      ],
      "metadata": {
        "id": "njw19ohd-RLD"
      }
    },
    {
      "cell_type": "code",
      "source": [
        "text = \"I eat a lot of candy.\"\n",
        "dependencies = sc.dependency_parse(text)\n",
        "dependencies"
      ],
      "metadata": {
        "colab": {
          "base_uri": "https://localhost:8080/"
        },
        "id": "7CAbPIuRQ2Hy",
        "outputId": "9c1c7f1e-a4ef-445f-854d-b2c35ff9b00a"
      },
      "execution_count": 27,
      "outputs": [
        {
          "output_type": "execute_result",
          "data": {
            "text/plain": [
              "[('ROOT', 0, 2),\n",
              " ('nsubj', 2, 1),\n",
              " ('det', 4, 3),\n",
              " ('obj', 2, 4),\n",
              " ('case', 6, 5),\n",
              " ('nmod', 4, 6),\n",
              " ('punct', 2, 7)]"
            ]
          },
          "metadata": {},
          "execution_count": 27
        }
      ]
    },
    {
      "cell_type": "code",
      "source": [
        "tokens = nltk.word_tokenize(text)\n",
        "for (t, w1, w2) in dependencies:\n",
        "  if w1 < len(tokens) and w2 < len(tokens):\n",
        "    print(\"%s --> %s (%s)\" % (\n",
        "        tokens[w2-1] if w2>0 else \"\", \n",
        "        tokens[w1-1] if w1>0 else \"\",\n",
        "         t))"
      ],
      "metadata": {
        "colab": {
          "base_uri": "https://localhost:8080/"
        },
        "id": "fpkrxm6dZCeh",
        "outputId": "f3e6a83c-2aa5-4d10-9da0-a1ad5154d5cd"
      },
      "execution_count": 28,
      "outputs": [
        {
          "output_type": "stream",
          "name": "stdout",
          "text": [
            "eat -->  (ROOT)\n",
            "I --> eat (nsubj)\n",
            "a --> lot (det)\n",
            "lot --> eat (obj)\n",
            "of --> candy (case)\n",
            "candy --> lot (nmod)\n"
          ]
        }
      ]
    },
    {
      "cell_type": "markdown",
      "source": [
        "Descriptions of dependency relations: https://universaldependencies.org/u/dep/\n",
        "\n",
        "Demo: https://nlp.stanford.edu/software/stanford-dependencies.html\n"
      ],
      "metadata": {
        "id": "a5u_0xRdfaP8"
      }
    },
    {
      "cell_type": "markdown",
      "source": [
        "Constituent parsing"
      ],
      "metadata": {
        "id": "vwjQVOKv-NpC"
      }
    },
    {
      "cell_type": "code",
      "source": [
        "parsed = sc.parse(text)\n",
        "print(parsed)"
      ],
      "metadata": {
        "colab": {
          "base_uri": "https://localhost:8080/"
        },
        "id": "GwAAqvOFQ8Ff",
        "outputId": "8d2a7958-bf8a-4ae7-de5d-cac8adaa7344"
      },
      "execution_count": 29,
      "outputs": [
        {
          "output_type": "stream",
          "name": "stdout",
          "text": [
            "(ROOT\n",
            "  (S\n",
            "    (NP (PRP I))\n",
            "    (VP (VBP eat)\n",
            "      (NP\n",
            "        (NP (DT a) (NN lot))\n",
            "        (PP (IN of)\n",
            "          (NP (NN candy)))))\n",
            "    (. .)))\n"
          ]
        }
      ]
    },
    {
      "cell_type": "markdown",
      "source": [
        "# Tagged corpora"
      ],
      "metadata": {
        "id": "BdLxIkm7-nER"
      }
    },
    {
      "cell_type": "code",
      "source": [
        "nltk.download('brown')\n",
        "nltk.corpus.brown.tagged_words()"
      ],
      "metadata": {
        "colab": {
          "base_uri": "https://localhost:8080/"
        },
        "id": "QyMcw22io47Y",
        "outputId": "79efab00-932a-4dea-d86c-c41b956bb7a5"
      },
      "execution_count": 30,
      "outputs": [
        {
          "output_type": "stream",
          "name": "stdout",
          "text": [
            "[nltk_data] Downloading package brown to /root/nltk_data...\n",
            "[nltk_data]   Unzipping corpora/brown.zip.\n"
          ]
        },
        {
          "output_type": "execute_result",
          "data": {
            "text/plain": [
              "[('The', 'AT'), ('Fulton', 'NP-TL'), ...]"
            ]
          },
          "metadata": {},
          "execution_count": 30
        }
      ]
    },
    {
      "cell_type": "code",
      "source": [
        "list(nltk.corpus.brown.tagged_sents(categories='news'))[:2]"
      ],
      "metadata": {
        "colab": {
          "base_uri": "https://localhost:8080/"
        },
        "id": "aDispBNWHx9A",
        "outputId": "9fc62cd5-c3da-486a-ef6f-c7d36361827d"
      },
      "execution_count": 31,
      "outputs": [
        {
          "output_type": "execute_result",
          "data": {
            "text/plain": [
              "[[('The', 'AT'),\n",
              "  ('Fulton', 'NP-TL'),\n",
              "  ('County', 'NN-TL'),\n",
              "  ('Grand', 'JJ-TL'),\n",
              "  ('Jury', 'NN-TL'),\n",
              "  ('said', 'VBD'),\n",
              "  ('Friday', 'NR'),\n",
              "  ('an', 'AT'),\n",
              "  ('investigation', 'NN'),\n",
              "  ('of', 'IN'),\n",
              "  (\"Atlanta's\", 'NP$'),\n",
              "  ('recent', 'JJ'),\n",
              "  ('primary', 'NN'),\n",
              "  ('election', 'NN'),\n",
              "  ('produced', 'VBD'),\n",
              "  ('``', '``'),\n",
              "  ('no', 'AT'),\n",
              "  ('evidence', 'NN'),\n",
              "  (\"''\", \"''\"),\n",
              "  ('that', 'CS'),\n",
              "  ('any', 'DTI'),\n",
              "  ('irregularities', 'NNS'),\n",
              "  ('took', 'VBD'),\n",
              "  ('place', 'NN'),\n",
              "  ('.', '.')],\n",
              " [('The', 'AT'),\n",
              "  ('jury', 'NN'),\n",
              "  ('further', 'RBR'),\n",
              "  ('said', 'VBD'),\n",
              "  ('in', 'IN'),\n",
              "  ('term-end', 'NN'),\n",
              "  ('presentments', 'NNS'),\n",
              "  ('that', 'CS'),\n",
              "  ('the', 'AT'),\n",
              "  ('City', 'NN-TL'),\n",
              "  ('Executive', 'JJ-TL'),\n",
              "  ('Committee', 'NN-TL'),\n",
              "  (',', ','),\n",
              "  ('which', 'WDT'),\n",
              "  ('had', 'HVD'),\n",
              "  ('over-all', 'JJ'),\n",
              "  ('charge', 'NN'),\n",
              "  ('of', 'IN'),\n",
              "  ('the', 'AT'),\n",
              "  ('election', 'NN'),\n",
              "  (',', ','),\n",
              "  ('``', '``'),\n",
              "  ('deserves', 'VBZ'),\n",
              "  ('the', 'AT'),\n",
              "  ('praise', 'NN'),\n",
              "  ('and', 'CC'),\n",
              "  ('thanks', 'NNS'),\n",
              "  ('of', 'IN'),\n",
              "  ('the', 'AT'),\n",
              "  ('City', 'NN-TL'),\n",
              "  ('of', 'IN-TL'),\n",
              "  ('Atlanta', 'NP-TL'),\n",
              "  (\"''\", \"''\"),\n",
              "  ('for', 'IN'),\n",
              "  ('the', 'AT'),\n",
              "  ('manner', 'NN'),\n",
              "  ('in', 'IN'),\n",
              "  ('which', 'WDT'),\n",
              "  ('the', 'AT'),\n",
              "  ('election', 'NN'),\n",
              "  ('was', 'BEDZ'),\n",
              "  ('conducted', 'VBN'),\n",
              "  ('.', '.')]]"
            ]
          },
          "metadata": {},
          "execution_count": 31
        }
      ]
    },
    {
      "cell_type": "markdown",
      "source": [
        "## Penn Treebank Corpus"
      ],
      "metadata": {
        "id": "f87x_HaCAc5o"
      }
    },
    {
      "cell_type": "markdown",
      "source": [
        "References:\n",
        "\n",
        "Paper with Penn Treebank description: https://www.researchgate.net/publication/2873803_The_Penn_Treebank_An_overview\n",
        "\n",
        "List of explanations for tag acronyms: https://www.ling.upenn.edu/courses/Fall_2003/ling001/penn_treebank_pos.html\n"
      ],
      "metadata": {
        "id": "NUHBOwuFI1-k"
      }
    },
    {
      "cell_type": "code",
      "source": [
        "nltk.download('treebank')\n",
        "len(list(nltk.corpus.treebank.tagged_words()))"
      ],
      "metadata": {
        "colab": {
          "base_uri": "https://localhost:8080/"
        },
        "id": "XzKpPn3b-t59",
        "outputId": "db03457b-86a5-4830-ab9e-26fd67b9672c"
      },
      "execution_count": 32,
      "outputs": [
        {
          "output_type": "stream",
          "name": "stdout",
          "text": [
            "[nltk_data] Downloading package treebank to /root/nltk_data...\n",
            "[nltk_data]   Unzipping corpora/treebank.zip.\n"
          ]
        },
        {
          "output_type": "execute_result",
          "data": {
            "text/plain": [
              "100676"
            ]
          },
          "metadata": {},
          "execution_count": 32
        }
      ]
    },
    {
      "cell_type": "code",
      "source": [
        "nltk.corpus.treebank.tagged_words()[:10]"
      ],
      "metadata": {
        "colab": {
          "base_uri": "https://localhost:8080/"
        },
        "id": "8jj6m7U-Ag5v",
        "outputId": "b21ad889-3182-4a7b-ac8f-32e41cd2ae64"
      },
      "execution_count": 33,
      "outputs": [
        {
          "output_type": "execute_result",
          "data": {
            "text/plain": [
              "[('Pierre', 'NNP'),\n",
              " ('Vinken', 'NNP'),\n",
              " (',', ','),\n",
              " ('61', 'CD'),\n",
              " ('years', 'NNS'),\n",
              " ('old', 'JJ'),\n",
              " (',', ','),\n",
              " ('will', 'MD'),\n",
              " ('join', 'VB'),\n",
              " ('the', 'DT')]"
            ]
          },
          "metadata": {},
          "execution_count": 33
        }
      ]
    },
    {
      "cell_type": "markdown",
      "source": [
        "Other tools, POS Tagging performance & comparison: https://aclweb.org/aclwiki/index.php?title=POS_Tagging_(State_of_the_art)"
      ],
      "metadata": {
        "id": "FFZ0yM74MT8e"
      }
    },
    {
      "cell_type": "markdown",
      "source": [
        "### Parsing with given grammar"
      ],
      "metadata": {
        "id": "0NMLbkBIqrU8"
      }
    },
    {
      "cell_type": "markdown",
      "source": [
        "https://www.nltk.org/book/ch08.html"
      ],
      "metadata": {
        "id": "UHEZ0ie6t9Nq"
      }
    },
    {
      "cell_type": "code",
      "source": [
        "import nltk\n",
        "gram = nltk.CFG.fromstring(\"\"\"  \n",
        "S -> NP VP | TO VB\n",
        "VP -> V NP | V NP PP | V S | V PP\n",
        "PP -> P NP  \n",
        "V -> \"caught\" | \"ate\" | \"likes\" | \"like\" | \"chase\" | \"go\" | \"fly\" | \"flies\" | \"eat\" | \"saw\"\n",
        "NP -> Det N | Det N PP | PRP\n",
        "Det -> \"the\" | \"a\" | \"an\" | \"my\" | \"some\" | \"The\"\n",
        "N -> \"mice\" | \"cat\" | \"dog\" |  \"school\" | \"Time\" | \"arrow\" | \"fly\" | \"flies\" | \"candy\" | \"man\" | \"park\"\n",
        "P -> \"in\" | \"to\" | \"on\"\n",
        "TO -> \"to\"\n",
        "PRP -> \"I\"  \"\"\")\n"
      ],
      "metadata": {
        "id": "RISdpyTPqv-3"
      },
      "execution_count": 34,
      "outputs": []
    },
    {
      "cell_type": "code",
      "source": [
        "import nltk\n",
        "gram = nltk.CFG.fromstring(\"\"\"  \n",
        "S -> NP VP | TO VB\n",
        "VP -> V NP | V NP PP| V S | V PP\n",
        "PP -> P NP  \n",
        "V -> \"caught\" | \"ate\" | \"likes\" | \"like\" | \"chase\" | \"go\" | \"fly\" | \"flies\" | \"eat\" | \"saw\"\n",
        "NP -> Det N | Det N PP | PRP\n",
        "Det -> \"the\" | \"a\" | \"an\" | \"my\" | \"some\" | \"The\"\n",
        "N -> \"mice\" | \"cat\" | \"dog\" |  \"school\" | \"Time\" | \"arrow\" | \"fly\" | \"flies\" | \"candy\" | \"man\" | \"park\"\n",
        "P -> \"in\" | \"to\" | \"on\"\n",
        "TO -> \"to\"\n",
        "PRP -> \"I\"  \"\"\")\n"
      ],
      "metadata": {
        "id": "DJPT-XHtlLJl"
      },
      "execution_count": 35,
      "outputs": []
    },
    {
      "cell_type": "code",
      "source": [
        "rdp = nltk.RecursiveDescentParser(gram)\n",
        "rdp"
      ],
      "metadata": {
        "colab": {
          "base_uri": "https://localhost:8080/"
        },
        "id": "S--OvWijq10q",
        "outputId": "95ce2865-53d3-43b7-e5e6-283a00580b76"
      },
      "execution_count": 36,
      "outputs": [
        {
          "output_type": "execute_result",
          "data": {
            "text/plain": [
              "<nltk.parse.recursivedescent.RecursiveDescentParser at 0x7f4c5dc24c10>"
            ]
          },
          "metadata": {},
          "execution_count": 36
        }
      ]
    },
    {
      "cell_type": "code",
      "source": [
        "text = \"I eat some candy\"\n",
        "for tree in rdp.parse(nltk.word_tokenize(text)):\n",
        "    print(tree)"
      ],
      "metadata": {
        "id": "Iu5HKnFhsyFG",
        "colab": {
          "base_uri": "https://localhost:8080/"
        },
        "outputId": "c44ece02-c7d9-46bf-f6b5-17f1afa48910"
      },
      "execution_count": 37,
      "outputs": [
        {
          "output_type": "stream",
          "name": "stdout",
          "text": [
            "(S (NP (PRP I)) (VP (V eat) (NP (Det some) (N candy))))\n"
          ]
        }
      ]
    },
    {
      "cell_type": "markdown",
      "source": [
        "Syntactic ambiguity:"
      ],
      "metadata": {
        "id": "ZKwCg4BgtCS9"
      }
    },
    {
      "cell_type": "code",
      "source": [
        "text = \"The dog saw a man in the park\"\n",
        "for tree in rdp.parse(nltk.word_tokenize(text)):\n",
        "    print(tree)"
      ],
      "metadata": {
        "id": "-I8fOSo-szj_",
        "colab": {
          "base_uri": "https://localhost:8080/"
        },
        "outputId": "ac153e16-7a1d-43f4-cfb7-cdfcda44f94b"
      },
      "execution_count": 38,
      "outputs": [
        {
          "output_type": "stream",
          "name": "stdout",
          "text": [
            "(S\n",
            "  (NP (Det The) (N dog))\n",
            "  (VP\n",
            "    (V saw)\n",
            "    (NP (Det a) (N man) (PP (P in) (NP (Det the) (N park))))))\n",
            "(S\n",
            "  (NP (Det The) (N dog))\n",
            "  (VP\n",
            "    (V saw)\n",
            "    (NP (Det a) (N man))\n",
            "    (PP (P in) (NP (Det the) (N park)))))\n"
          ]
        }
      ]
    },
    {
      "cell_type": "code",
      "source": [
        "from nltk.draw.tree import draw_trees"
      ],
      "metadata": {
        "id": "kq1zcNBwKhib"
      },
      "execution_count": 39,
      "outputs": []
    },
    {
      "cell_type": "code",
      "source": [
        "for tree in rdp.parse(nltk.word_tokenize(text)):\n",
        "    draw_trees(tree)  # run locally"
      ],
      "metadata": {
        "id": "tu-5jlrE1dLz"
      },
      "execution_count": null,
      "outputs": []
    },
    {
      "cell_type": "code",
      "source": [
        "srp = nltk.ShiftReduceParser(gram, trace=2)"
      ],
      "metadata": {
        "colab": {
          "base_uri": "https://localhost:8080/"
        },
        "id": "E8Djg8VwvSkI",
        "outputId": "72316f91-eac0-4a88-c106-8203d7d5a5c2"
      },
      "execution_count": 41,
      "outputs": [
        {
          "output_type": "stream",
          "name": "stdout",
          "text": [
            "Warning: V -> 'fly' will never be used\n",
            "Warning: V -> 'flies' will never be used\n",
            "Warning: P -> 'to' will never be used\n"
          ]
        }
      ]
    },
    {
      "cell_type": "code",
      "source": [
        "text = \"I like my candy\"\n",
        "for tree in srp.parse(nltk.word_tokenize(text)):\n",
        "    print(tree)"
      ],
      "metadata": {
        "colab": {
          "base_uri": "https://localhost:8080/"
        },
        "id": "N8YE9mlUvfxw",
        "outputId": "ded24f5b-389c-42d4-9eee-19e4d1947796"
      },
      "execution_count": 42,
      "outputs": [
        {
          "output_type": "stream",
          "name": "stdout",
          "text": [
            "Parsing 'I like my candy'\n",
            "    [ * I like my candy]\n",
            "  S [ 'I' * like my candy]\n",
            "  R [ PRP * like my candy]\n",
            "  R [ NP * like my candy]\n",
            "  S [ NP 'like' * my candy]\n",
            "  R [ NP V * my candy]\n",
            "  S [ NP V 'my' * candy]\n",
            "  R [ NP V Det * candy]\n",
            "  S [ NP V Det 'candy' * ]\n",
            "  R [ NP V Det N * ]\n",
            "  R [ NP V NP * ]\n",
            "  R [ NP VP * ]\n",
            "  R [ S * ]\n",
            "(S (NP (PRP I)) (VP (V like) (NP (Det my) (N candy))))\n"
          ]
        }
      ]
    },
    {
      "cell_type": "code",
      "source": [
        "groucho_grammar = nltk.CFG.fromstring(\"\"\"\n",
        " S -> NP VP\n",
        " PP -> P NP\n",
        " NP -> Det N | Det N PP | 'I'\n",
        " VP -> V NP | VP PP\n",
        " Det -> 'an' | 'my'\n",
        " N -> 'elephant' | 'pajamas'\n",
        " V -> 'shot'\n",
        " P -> 'in'\n",
        " \"\"\")\n"
      ],
      "metadata": {
        "id": "BFfd-eRQy5Pl"
      },
      "execution_count": 43,
      "outputs": []
    },
    {
      "cell_type": "code",
      "source": [
        "sent = ['I', 'shot', 'an', 'elephant', 'in', 'my', 'pajamas']\n",
        "parser = nltk.ChartParser(groucho_grammar)\n",
        "for tree in parser.parse(sent):\n",
        "  print(tree)"
      ],
      "metadata": {
        "colab": {
          "base_uri": "https://localhost:8080/"
        },
        "id": "7ggZ4VB4y-JL",
        "outputId": "48cd4e06-a42b-45c7-aba5-133827ab790b"
      },
      "execution_count": 44,
      "outputs": [
        {
          "output_type": "stream",
          "name": "stdout",
          "text": [
            "(S\n",
            "  (NP I)\n",
            "  (VP\n",
            "    (VP (V shot) (NP (Det an) (N elephant)))\n",
            "    (PP (P in) (NP (Det my) (N pajamas)))))\n",
            "(S\n",
            "  (NP I)\n",
            "  (VP\n",
            "    (V shot)\n",
            "    (NP (Det an) (N elephant) (PP (P in) (NP (Det my) (N pajamas))))))\n"
          ]
        }
      ]
    },
    {
      "cell_type": "code",
      "source": [
        "sent = ['I', 'shot', 'an', 'elephant', 'in', 'my', 'pajamas']\n",
        "parser = nltk.ShiftReduceParser(groucho_grammar)\n",
        "for tree in parser.parse(sent):\n",
        "  print(tree)"
      ],
      "metadata": {
        "id": "zeVp4k5volVC"
      },
      "execution_count": 45,
      "outputs": []
    },
    {
      "cell_type": "markdown",
      "source": [
        "# Exercitii (1p total)"
      ],
      "metadata": {
        "id": "H_1O3gu1A-Ax"
      }
    },
    {
      "cell_type": "markdown",
      "source": [
        "1. Completati functia scrisa in laboratorul anterior cu POS-tagging: in final veti avea o functie care sa primeasca un text si sa faca toata preprocesarea (tokenizare, lematizare, normalizare) si pos-tagging, si sa intoarca textul cu tags pe cuvinte.\n",
        "\n",
        "/\n",
        "\n",
        "Add to the function implemented for the past lab instructions for POS-tagging: in the end you should have a function which receives an input text and performs preprocessing from beginning to end (tokenization, lemmatization, normalization) as well as POS-tagging, then returns the tagged text. "
      ],
      "metadata": {
        "id": "wB4FM4LABFAA"
      }
    },
    {
      "cell_type": "code",
      "source": [
        "import string\n",
        "import unicodedata\n",
        "from collections import Counter\n",
        "\n",
        "import numpy as np\n",
        "import pandas as pd\n",
        "\n",
        "from nltk.corpus import stopwords\n",
        "from nltk.stem import WordNetLemmatizer\n",
        "from nltk.stem import PorterStemmer\n",
        "\n",
        "import seaborn as sns\n",
        "from matplotlib import colors\n",
        "import matplotlib.pyplot as plt\n",
        "\n",
        "nltk.download('wordnet')\n",
        "nltk.download('stopwords')\n",
        "nltk.download('universal_tagset')"
      ],
      "metadata": {
        "colab": {
          "base_uri": "https://localhost:8080/"
        },
        "id": "RmqXMzLLC2-L",
        "outputId": "fd960198-3aea-48db-c5bc-d1a80b6f9737"
      },
      "execution_count": 46,
      "outputs": [
        {
          "output_type": "stream",
          "name": "stdout",
          "text": [
            "[nltk_data] Downloading package wordnet to /root/nltk_data...\n",
            "[nltk_data]   Unzipping corpora/wordnet.zip.\n",
            "[nltk_data] Downloading package stopwords to /root/nltk_data...\n",
            "[nltk_data]   Unzipping corpora/stopwords.zip.\n",
            "[nltk_data] Downloading package universal_tagset to /root/nltk_data...\n",
            "[nltk_data]   Unzipping taggers/universal_tagset.zip.\n"
          ]
        },
        {
          "output_type": "execute_result",
          "data": {
            "text/plain": [
              "True"
            ]
          },
          "metadata": {},
          "execution_count": 46
        }
      ]
    },
    {
      "cell_type": "code",
      "source": [
        "stemmer = PorterStemmer()\n",
        "lemmatizaer = WordNetLemmatizer()"
      ],
      "metadata": {
        "id": "ng7KLwL7FeuC"
      },
      "execution_count": 47,
      "outputs": []
    },
    {
      "cell_type": "code",
      "source": [
        "sentence = \"This sentence is used for testing different preprocessing steps in NLP!!!\""
      ],
      "metadata": {
        "id": "iu7GLl0UBidf"
      },
      "execution_count": 48,
      "outputs": []
    },
    {
      "cell_type": "code",
      "source": [
        "def preprocess(text, remove_punctuation=False, remove_stopwords=False, stemming=False, lemmatization=True):\n",
        "  preprocessed_text = text\n",
        "  # lowercasing\n",
        "  preprocessed_text = preprocessed_text.lower()\n",
        "  # normalize text\n",
        "  preprocessed_text = unicodedata.normalize('NFKD', preprocessed_text).encode('ascii', 'ignore').decode('utf-8', 'ignore')\n",
        "  # tokenize words\n",
        "  tokens = nltk.word_tokenize(preprocessed_text)\n",
        "  # punctuation mark removal\n",
        "  if remove_punctuation:\n",
        "    tokens = [token for token in tokens if token.isalnum()]\n",
        "  # stopwords removal\n",
        "  if remove_stopwords:\n",
        "    tokens = [token for token in tokens if token not in stopwords.words(\"english\")]\n",
        "  # stemming (normalizing technique)\n",
        "  if stemming:\n",
        "    tokens = [stemmer.stem(token) for token in tokens]\n",
        "  # lemmatization - reducing words to their root\n",
        "  if lemmatization:\n",
        "    tokens = [lemmatizaer.lemmatize(token) for token in tokens]\n",
        "\n",
        "  pos_tags = nltk.pos_tag(tokens, tagset='universal')\n",
        "\n",
        "  return pos_tags"
      ],
      "metadata": {
        "id": "G27nCM7ZBVlS"
      },
      "execution_count": 49,
      "outputs": []
    },
    {
      "cell_type": "code",
      "source": [
        "print(\"Preprocessed text: \\n\", preprocess(sentence))\n",
        "print(\"Original text: \\n\", sentence)"
      ],
      "metadata": {
        "id": "mkCPvJ4XCCU6",
        "colab": {
          "base_uri": "https://localhost:8080/"
        },
        "outputId": "696570d5-ed56-4ae1-f60a-89278b006151"
      },
      "execution_count": 50,
      "outputs": [
        {
          "output_type": "stream",
          "name": "stdout",
          "text": [
            "Preprocessed text: \n",
            " [('this', 'DET'), ('sentence', 'NOUN'), ('is', 'VERB'), ('used', 'VERB'), ('for', 'ADP'), ('testing', 'VERB'), ('different', 'ADJ'), ('preprocessing', 'VERB'), ('step', 'NOUN'), ('in', 'ADP'), ('nlp', 'NOUN'), ('!', '.'), ('!', '.'), ('!', '.')]\n",
            "Original text: \n",
            " This sentence is used for testing different preprocessing steps in NLP!!!\n"
          ]
        }
      ]
    },
    {
      "cell_type": "markdown",
      "source": [
        "2. Aplicati functia pe un fragment de cateva sute de cuvinte din stiri din ultimele cateva zile (aveti grija sa fie intr-o limba pe care functia o suporta). Afisati distributia partilor de vorbire intr-un grafic.\n",
        "\n",
        "/\n",
        "\n",
        "Execute your function on a piece of news from the past days of at least a few hundred words (make sure it's in a language that the function supports). Illustrate the distribution of POSs in a graph. "
      ],
      "metadata": {
        "id": "jb70NTXABV2a"
      }
    },
    {
      "cell_type": "code",
      "source": [
        "from google.colab import drive\n",
        "drive.mount('/content/drive/')"
      ],
      "metadata": {
        "id": "G5skYL9zCXaC",
        "colab": {
          "base_uri": "https://localhost:8080/"
        },
        "outputId": "27ad81ba-b52f-4d64-c0ce-be2fcd775ceb"
      },
      "execution_count": 51,
      "outputs": [
        {
          "output_type": "stream",
          "name": "stdout",
          "text": [
            "Mounted at /content/drive/\n"
          ]
        }
      ]
    },
    {
      "cell_type": "code",
      "source": [
        "with open('/content/drive/MyDrive/test.txt') as f:\n",
        "    text = f.read()\n",
        "    print(text)"
      ],
      "metadata": {
        "colab": {
          "base_uri": "https://localhost:8080/"
        },
        "id": "eAd8Pz8LKEO4",
        "outputId": "83acf270-f4f0-4ac6-fe73-e7c951c572cc"
      },
      "execution_count": 52,
      "outputs": [
        {
          "output_type": "stream",
          "name": "stdout",
          "text": [
            "The COVID-19 pandemic, also known as the coronavirus pandemic, is an ongoing global pandemic of coronavirus disease 2019 (COVID-19) caused by severe acute respiratory syndrome coronavirus 2 (SARS-CoV-2). The novel virus was first identified from an outbreak in the Chinese city of Wuhan in December 2019, and attempts to contain it there failed, allowing it to spread across the globe. The World Health Organization (WHO) declared a Public Health Emergency of International Concern on 30 January 2020 and a pandemic on 11 March 2020. As of 23 March 2022, the pandemic had caused more than 474 million cases and 6.1 million deaths, making it one of the deadliest in history.\n",
            "\n",
            "COVID-19 symptoms range from undetectable to deadly, but most commonly include fever, dry cough, and fatigue. Severe illness is more likely in elderly patients and those with certain underlying medical conditions. COVID‑19 transmits when people breathe in air contaminated by droplets and small airborne particles containing the virus. The risk of breathing these in is highest when people are in close proximity, but they can be inhaled over longer distances, particularly indoors. Transmission can also occur if contaminated fluids reach the eyes, nose or mouth, and, rarely, via contaminated surfaces. Infected persons are typically contagious for 10 days, and can spread the virus even if they do not develop symptoms. Mutations have produced many strains (variants) with varying degrees of infectivity and virulence.[5][6]\n",
            "\n",
            "COVID-19 vaccines have been approved and widely distributed in various countries since December 2020. Other recommended preventive measures include social distancing, masking, improving ventilation and air filtration, and quarantining those who have been exposed or are symptomatic. Treatments include monoclonal antibodies,[7] novel antiviral drugs, and symptom control. Governmental interventions include travel restrictions, lockdowns, business restrictions and closures, workplace hazard controls, quarantines, testing systems, and tracing contacts of the infected.\n",
            "\n",
            "The pandemic triggered severe social and economic disruption around the world, including the largest global recession since the Great Depression.[8] Widespread supply shortages, including food shortages, were caused by supply chain disruption and panic buying. The resultant near-global lockdowns saw an unprecedented pollution decrease. Educational institutions and public areas were partially or fully closed in many jurisdictions, and many events were cancelled or postponed. Misinformation circulated through social media and mass media and political tensions intensified. The pandemic raised issues of racial and geographic discrimination, health equity, and the balance between public health imperatives and individual rights.\n"
          ]
        }
      ]
    },
    {
      "cell_type": "code",
      "source": [
        "text_preprocessed = preprocess(text)\n",
        "print('Preprocessing step + POS-tagging: \\n', text_preprocessed)"
      ],
      "metadata": {
        "colab": {
          "base_uri": "https://localhost:8080/"
        },
        "id": "VhAZovd-Kmho",
        "outputId": "51d039fa-9ac0-4229-d70b-3edcf72d7d78"
      },
      "execution_count": 53,
      "outputs": [
        {
          "output_type": "stream",
          "name": "stdout",
          "text": [
            "Preprocessing step + POS-tagging: \n",
            " [('the', 'DET'), ('covid-19', 'ADJ'), ('pandemic', 'NOUN'), (',', '.'), ('also', 'ADV'), ('known', 'VERB'), ('a', 'DET'), ('the', 'DET'), ('coronavirus', 'NOUN'), ('pandemic', 'NOUN'), (',', '.'), ('is', 'VERB'), ('an', 'DET'), ('ongoing', 'ADJ'), ('global', 'ADJ'), ('pandemic', 'NOUN'), ('of', 'ADP'), ('coronavirus', 'NOUN'), ('disease', 'NOUN'), ('2019', 'NUM'), ('(', '.'), ('covid-19', 'NOUN'), (')', '.'), ('caused', 'VERB'), ('by', 'ADP'), ('severe', 'ADJ'), ('acute', 'ADJ'), ('respiratory', 'NOUN'), ('syndrome', 'NOUN'), ('coronavirus', 'NOUN'), ('2', 'NUM'), ('(', '.'), ('sars-cov-2', 'NOUN'), (')', '.'), ('.', '.'), ('the', 'DET'), ('novel', 'ADJ'), ('virus', 'NOUN'), ('wa', 'NOUN'), ('first', 'ADV'), ('identified', 'VERB'), ('from', 'ADP'), ('an', 'DET'), ('outbreak', 'NOUN'), ('in', 'ADP'), ('the', 'DET'), ('chinese', 'ADJ'), ('city', 'NOUN'), ('of', 'ADP'), ('wuhan', 'NOUN'), ('in', 'ADP'), ('december', 'NOUN'), ('2019', 'NUM'), (',', '.'), ('and', 'CONJ'), ('attempt', 'NOUN'), ('to', 'PRT'), ('contain', 'VERB'), ('it', 'PRON'), ('there', 'ADV'), ('failed', 'VERB'), (',', '.'), ('allowing', 'VERB'), ('it', 'PRON'), ('to', 'PRT'), ('spread', 'VERB'), ('across', 'ADP'), ('the', 'DET'), ('globe', 'NOUN'), ('.', '.'), ('the', 'DET'), ('world', 'NOUN'), ('health', 'NOUN'), ('organization', 'NOUN'), ('(', '.'), ('who', 'PRON'), (')', '.'), ('declared', 'VERB'), ('a', 'DET'), ('public', 'ADJ'), ('health', 'NOUN'), ('emergency', 'NOUN'), ('of', 'ADP'), ('international', 'ADJ'), ('concern', 'NOUN'), ('on', 'ADP'), ('30', 'NUM'), ('january', 'ADJ'), ('2020', 'NUM'), ('and', 'CONJ'), ('a', 'DET'), ('pandemic', 'NOUN'), ('on', 'ADP'), ('11', 'NUM'), ('march', 'NOUN'), ('2020.', 'NUM'), ('a', 'DET'), ('of', 'ADP'), ('23', 'NUM'), ('march', 'NOUN'), ('2022', 'NUM'), (',', '.'), ('the', 'DET'), ('pandemic', 'NOUN'), ('had', 'VERB'), ('caused', 'VERB'), ('more', 'ADJ'), ('than', 'ADP'), ('474', 'NUM'), ('million', 'NUM'), ('case', 'NOUN'), ('and', 'CONJ'), ('6.1', 'NUM'), ('million', 'NUM'), ('death', 'NOUN'), (',', '.'), ('making', 'VERB'), ('it', 'PRON'), ('one', 'NUM'), ('of', 'ADP'), ('the', 'DET'), ('deadliest', 'ADJ'), ('in', 'ADP'), ('history', 'NOUN'), ('.', '.'), ('covid-19', 'ADJ'), ('symptom', 'ADJ'), ('range', 'NOUN'), ('from', 'ADP'), ('undetectable', 'ADJ'), ('to', 'PRT'), ('deadly', 'ADV'), (',', '.'), ('but', 'CONJ'), ('most', 'ADJ'), ('commonly', 'ADV'), ('include', 'VERB'), ('fever', 'ADV'), (',', '.'), ('dry', 'ADJ'), ('cough', 'NOUN'), (',', '.'), ('and', 'CONJ'), ('fatigue', 'NOUN'), ('.', '.'), ('severe', 'ADJ'), ('illness', 'NOUN'), ('is', 'VERB'), ('more', 'ADV'), ('likely', 'ADJ'), ('in', 'ADP'), ('elderly', 'ADJ'), ('patient', 'NOUN'), ('and', 'CONJ'), ('those', 'DET'), ('with', 'ADP'), ('certain', 'ADJ'), ('underlying', 'ADJ'), ('medical', 'ADJ'), ('condition', 'NOUN'), ('.', '.'), ('covid19', 'NOUN'), ('transmits', 'NOUN'), ('when', 'ADV'), ('people', 'NOUN'), ('breathe', 'VERB'), ('in', 'ADP'), ('air', 'NOUN'), ('contaminated', 'VERB'), ('by', 'ADP'), ('droplet', 'NOUN'), ('and', 'CONJ'), ('small', 'ADJ'), ('airborne', 'ADJ'), ('particle', 'NOUN'), ('containing', 'VERB'), ('the', 'DET'), ('virus', 'NOUN'), ('.', '.'), ('the', 'DET'), ('risk', 'NOUN'), ('of', 'ADP'), ('breathing', 'VERB'), ('these', 'DET'), ('in', 'ADP'), ('is', 'VERB'), ('highest', 'ADJ'), ('when', 'ADV'), ('people', 'NOUN'), ('are', 'VERB'), ('in', 'ADP'), ('close', 'ADJ'), ('proximity', 'NOUN'), (',', '.'), ('but', 'CONJ'), ('they', 'PRON'), ('can', 'VERB'), ('be', 'VERB'), ('inhaled', 'VERB'), ('over', 'ADP'), ('longer', 'ADJ'), ('distance', 'NOUN'), (',', '.'), ('particularly', 'ADV'), ('indoors', 'NOUN'), ('.', '.'), ('transmission', 'NOUN'), ('can', 'VERB'), ('also', 'ADV'), ('occur', 'VERB'), ('if', 'ADP'), ('contaminated', 'VERB'), ('fluid', 'NOUN'), ('reach', 'VERB'), ('the', 'DET'), ('eye', 'NOUN'), (',', '.'), ('nose', 'ADJ'), ('or', 'CONJ'), ('mouth', 'NOUN'), (',', '.'), ('and', 'CONJ'), (',', '.'), ('rarely', 'ADV'), (',', '.'), ('via', 'ADP'), ('contaminated', 'VERB'), ('surface', 'NOUN'), ('.', '.'), ('infected', 'VERB'), ('person', 'NOUN'), ('are', 'VERB'), ('typically', 'ADV'), ('contagious', 'ADJ'), ('for', 'ADP'), ('10', 'NUM'), ('day', 'NOUN'), (',', '.'), ('and', 'CONJ'), ('can', 'VERB'), ('spread', 'VERB'), ('the', 'DET'), ('virus', 'NOUN'), ('even', 'ADV'), ('if', 'ADP'), ('they', 'PRON'), ('do', 'VERB'), ('not', 'ADV'), ('develop', 'VERB'), ('symptom', 'NOUN'), ('.', '.'), ('mutation', 'NOUN'), ('have', 'VERB'), ('produced', 'VERB'), ('many', 'ADJ'), ('strain', 'NOUN'), ('(', '.'), ('variant', 'ADJ'), (')', '.'), ('with', 'ADP'), ('varying', 'VERB'), ('degree', 'NOUN'), ('of', 'ADP'), ('infectivity', 'NOUN'), ('and', 'CONJ'), ('virulence', 'NOUN'), ('.', '.'), ('[', 'CONJ'), ('5', 'NUM'), (']', 'ADJ'), ('[', '.'), ('6', 'NUM'), (']', 'ADJ'), ('covid-19', 'ADJ'), ('vaccine', 'NOUN'), ('have', 'VERB'), ('been', 'VERB'), ('approved', 'VERB'), ('and', 'CONJ'), ('widely', 'ADV'), ('distributed', 'VERB'), ('in', 'ADP'), ('various', 'ADJ'), ('country', 'NOUN'), ('since', 'ADP'), ('december', '.'), ('2020.', 'NUM'), ('other', 'ADJ'), ('recommended', 'VERB'), ('preventive', 'ADJ'), ('measure', 'NOUN'), ('include', 'VERB'), ('social', 'ADJ'), ('distancing', 'NOUN'), (',', '.'), ('masking', 'NOUN'), (',', '.'), ('improving', 'VERB'), ('ventilation', 'NOUN'), ('and', 'CONJ'), ('air', 'NOUN'), ('filtration', 'NOUN'), (',', '.'), ('and', 'CONJ'), ('quarantining', 'VERB'), ('those', 'DET'), ('who', 'PRON'), ('have', 'VERB'), ('been', 'VERB'), ('exposed', 'VERB'), ('or', 'CONJ'), ('are', 'VERB'), ('symptomatic', 'ADJ'), ('.', '.'), ('treatment', 'NOUN'), ('include', 'VERB'), ('monoclonal', 'ADJ'), ('antibody', 'NOUN'), (',', '.'), ('[', 'VERB'), ('7', 'NUM'), (']', 'NOUN'), ('novel', 'ADJ'), ('antiviral', 'ADJ'), ('drug', 'NOUN'), (',', '.'), ('and', 'CONJ'), ('symptom', 'VERB'), ('control', 'NOUN'), ('.', '.'), ('governmental', 'ADJ'), ('intervention', 'NOUN'), ('include', 'VERB'), ('travel', 'ADJ'), ('restriction', 'NOUN'), (',', '.'), ('lockdown', 'ADJ'), (',', '.'), ('business', 'NOUN'), ('restriction', 'NOUN'), ('and', 'CONJ'), ('closure', 'NOUN'), (',', '.'), ('workplace', 'ADJ'), ('hazard', 'NOUN'), ('control', 'NOUN'), (',', '.'), ('quarantine', 'NOUN'), (',', '.'), ('testing', 'VERB'), ('system', 'NOUN'), (',', '.'), ('and', 'CONJ'), ('tracing', 'VERB'), ('contact', 'NOUN'), ('of', 'ADP'), ('the', 'DET'), ('infected', 'VERB'), ('.', '.'), ('the', 'DET'), ('pandemic', 'ADJ'), ('triggered', 'VERB'), ('severe', 'ADJ'), ('social', 'ADJ'), ('and', 'CONJ'), ('economic', 'ADJ'), ('disruption', 'NOUN'), ('around', 'ADP'), ('the', 'DET'), ('world', 'NOUN'), (',', '.'), ('including', 'VERB'), ('the', 'DET'), ('largest', 'ADJ'), ('global', 'ADJ'), ('recession', 'NOUN'), ('since', 'ADP'), ('the', 'DET'), ('great', 'ADJ'), ('depression', 'NOUN'), ('.', '.'), ('[', 'CONJ'), ('8', 'NUM'), (']', 'ADJ'), ('widespread', 'ADJ'), ('supply', 'NOUN'), ('shortage', 'NOUN'), (',', '.'), ('including', 'VERB'), ('food', 'NOUN'), ('shortage', 'NOUN'), (',', '.'), ('were', 'VERB'), ('caused', 'VERB'), ('by', 'ADP'), ('supply', 'NOUN'), ('chain', 'NOUN'), ('disruption', 'NOUN'), ('and', 'CONJ'), ('panic', 'ADJ'), ('buying', 'NOUN'), ('.', '.'), ('the', 'DET'), ('resultant', 'ADJ'), ('near-global', 'ADJ'), ('lockdown', 'NOUN'), ('saw', 'VERB'), ('an', 'DET'), ('unprecedented', 'ADJ'), ('pollution', 'NOUN'), ('decrease', 'NOUN'), ('.', '.'), ('educational', 'ADJ'), ('institution', 'NOUN'), ('and', 'CONJ'), ('public', 'ADJ'), ('area', 'NOUN'), ('were', 'VERB'), ('partially', 'ADV'), ('or', 'CONJ'), ('fully', 'ADV'), ('closed', 'VERB'), ('in', 'ADP'), ('many', 'ADJ'), ('jurisdiction', 'NOUN'), (',', '.'), ('and', 'CONJ'), ('many', 'ADJ'), ('event', 'NOUN'), ('were', 'VERB'), ('cancelled', 'VERB'), ('or', 'CONJ'), ('postponed', 'VERB'), ('.', '.'), ('misinformation', 'NOUN'), ('circulated', 'VERB'), ('through', 'ADP'), ('social', 'ADJ'), ('medium', 'NOUN'), ('and', 'CONJ'), ('mass', 'NOUN'), ('medium', 'NOUN'), ('and', 'CONJ'), ('political', 'ADJ'), ('tension', 'NOUN'), ('intensified', 'VERB'), ('.', '.'), ('the', 'DET'), ('pandemic', 'ADJ'), ('raised', 'ADJ'), ('issue', 'NOUN'), ('of', 'ADP'), ('racial', 'ADJ'), ('and', 'CONJ'), ('geographic', 'ADJ'), ('discrimination', 'NOUN'), (',', '.'), ('health', 'NOUN'), ('equity', 'NOUN'), (',', '.'), ('and', 'CONJ'), ('the', 'DET'), ('balance', 'NOUN'), ('between', 'ADP'), ('public', 'ADJ'), ('health', 'NOUN'), ('imperative', 'NOUN'), ('and', 'CONJ'), ('individual', 'ADJ'), ('right', 'NOUN'), ('.', '.')]\n"
          ]
        }
      ]
    },
    {
      "cell_type": "code",
      "source": [
        "def get_pos_tags(tagged_text):\n",
        "  pos_tags_count = Counter([j for _, j in tagged_text])\n",
        "  return pos_tags_count\n",
        "\n",
        "count_pos_tags = get_pos_tags(text_preprocessed)\n",
        "print(count_pos_tags)"
      ],
      "metadata": {
        "colab": {
          "base_uri": "https://localhost:8080/"
        },
        "id": "yJCeUdenLiOH",
        "outputId": "d88b0c3c-0416-404c-96fe-e981e289ca9f"
      },
      "execution_count": 54,
      "outputs": [
        {
          "output_type": "stream",
          "name": "stdout",
          "text": [
            "Counter({'NOUN': 119, 'ADJ': 72, 'VERB': 69, '.': 62, 'ADP': 39, 'CONJ': 32, 'DET': 30, 'NUM': 20, 'ADV': 18, 'PRON': 7, 'PRT': 3})\n"
          ]
        }
      ]
    },
    {
      "cell_type": "code",
      "source": [
        "pos_tags_labels = {\n",
        "    'ADJ': 'Adjective',\n",
        "    'ADP': 'Adposition',\n",
        "    'ADV': 'Adverb',\n",
        "    'CONJ': 'Conjuction',\n",
        "    'DET': 'Determiner/Article',\n",
        "    'NOUN': 'Noun',\n",
        "    'NUM': 'Numeral',\n",
        "    'PRT': 'Particle',\n",
        "    'PRON': 'Pronoun',\n",
        "    'VERB': 'Verb',\n",
        "    '.': 'Punctuation mark',\n",
        "    'X': 'Other'\n",
        "}"
      ],
      "metadata": {
        "id": "VDlO9MY1MKGP"
      },
      "execution_count": 55,
      "outputs": []
    },
    {
      "cell_type": "code",
      "source": [
        "sns.barplot(data=pd.DataFrame(pd.Series(count_pos_tags)).T)\n",
        "plt.show()"
      ],
      "metadata": {
        "colab": {
          "base_uri": "https://localhost:8080/",
          "height": 265
        },
        "id": "7YoDorL-M3x3",
        "outputId": "7bb34041-1916-4881-b482-c83564737234"
      },
      "execution_count": 56,
      "outputs": [
        {
          "output_type": "display_data",
          "data": {
            "text/plain": [
              "<Figure size 432x288 with 1 Axes>"
            ],
            "image/png": "[encoded data removed]"
          },
          "metadata": {
            "needs_background": "light"
          }
        }
      ]
    },
    {
      "cell_type": "markdown",
      "source": [
        "3. Modificati functia de mai sus astfel incat sa efectueze POS-tagging inainte sau dupa lematizare. Comparati diferentele. Afisati cuvintele (top 20) pentru care POS tag-ul identificat difera cel mai des intre cele doua versiuni. \n",
        "\n",
        "/\n",
        "\n",
        "Modify your function such that POS-tagging is performed before or after lemmatization. Print the words in the vocabulary (top 20) for which the identified POS tag differs most often between the two versions."
      ],
      "metadata": {
        "id": "sxDdel9eCYan"
      }
    },
    {
      "cell_type": "markdown",
      "source": [
        "Firstly, we create a POS-TAG mapper for the StanfordPOSTagger."
      ],
      "metadata": {
        "id": "-OFGNb7IShk8"
      }
    },
    {
      "cell_type": "code",
      "source": [
        "tagger=StanfordPOSTagger(model_path, jar_tagger_path)"
      ],
      "metadata": {
        "colab": {
          "base_uri": "https://localhost:8080/"
        },
        "id": "pc29Mo_TSg_z",
        "outputId": "937957c8-cea8-40e9-c0ee-025ba432a274"
      },
      "execution_count": 57,
      "outputs": [
        {
          "output_type": "stream",
          "name": "stderr",
          "text": [
            "/usr/local/lib/python3.7/dist-packages/nltk/tag/stanford.py:149: DeprecationWarning: \n",
            "The StanfordTokenizer will be deprecated in version 3.2.5.\n",
            "Please use \u001b[91mnltk.tag.corenlp.CoreNLPPOSTagger\u001b[0m or \u001b[91mnltk.tag.corenlp.CoreNLPNERTagger\u001b[0m instead.\n",
            "  super(StanfordPOSTagger, self).__init__(*args, **kwargs)\n"
          ]
        }
      ]
    },
    {
      "cell_type": "code",
      "source": [
        "from nltk.corpus.reader.wordnet import VERB, NOUN, ADJ, ADV\n",
        "\n",
        "pos_map = {\n",
        "    'NN': NOUN,\n",
        "    'VB': VERB,\n",
        "    'JJ': ADJ,\n",
        "    'RB': ADV,\n",
        "    'WR': ADV\n",
        "}"
      ],
      "metadata": {
        "id": "ZERClK4bS-JZ"
      },
      "execution_count": 58,
      "outputs": []
    },
    {
      "cell_type": "code",
      "source": [
        "def preprocess2(text, remove_punctuation=False, remove_stopwords=False, stemming=False, lemmatization=True, pos_tag_first=True):\n",
        "  preprocessed_text = text\n",
        "  # lowercasing\n",
        "  preprocessed_text = preprocessed_text.lower()\n",
        "  # normalize text\n",
        "  preprocessed_text = unicodedata.normalize('NFKD', preprocessed_text).encode('ascii', 'ignore').decode('utf-8', 'ignore')\n",
        "  # tokenize words\n",
        "  tokens = nltk.word_tokenize(preprocessed_text)\n",
        "  # punctuation mark removal\n",
        "  if remove_punctuation:\n",
        "    tokens = [token for token in tokens if token not in string.punctuation]\n",
        "  # stopwords removal\n",
        "  if remove_stopwords:\n",
        "    tokens = [token for token in tokens if token not in stopwords.words(\"english\")]\n",
        "  # stemming (normalizing technique)\n",
        "  if stemming:\n",
        "    tokens = [stemmer.stem(token) for token in tokens]\n",
        "  # lemmatization - reducing words to their root\n",
        "  if pos_tag_first:\n",
        "    pos_tags = tagger.tag(tokens)\n",
        "\n",
        "  if lemmatization:\n",
        "    if pos_tag_first:\n",
        "      lemmatized_tokens = []\n",
        "      for (token, tag) in pos_tags:\n",
        "        if tag[:2] in pos_map.keys():\n",
        "          lemmatized_tokens.append(lemmatizaer.lemmatize(token, pos=pos_map.get(tag[:2])))\n",
        "        else:\n",
        "          lemmatized_tokens.append(lemmatizaer.lemmatize(token))\n",
        "\n",
        "      return tagger.tag(lemmatized_tokens)\n",
        "\n",
        "    tokens = [lemmatizaer.lemmatize(token) for token in tokens]\n",
        "\n",
        "  pos_tags = tagger.tag(tokens)\n",
        "\n",
        "  return pos_tags"
      ],
      "metadata": {
        "id": "naOAjOjFb2Y4"
      },
      "execution_count": 59,
      "outputs": []
    },
    {
      "cell_type": "code",
      "source": [
        "print('Lemmatization first:')\n",
        "text_preprocessed = preprocess2(text, remove_punctuation=True, pos_tag_first=False)\n",
        "print(text_preprocessed, '\\n')\n",
        "\n",
        "print('POS-TAGGING first:')\n",
        "text_preprocessed2 = preprocess2(text, remove_punctuation=True)\n",
        "print(text_preprocessed2)"
      ],
      "metadata": {
        "colab": {
          "base_uri": "https://localhost:8080/"
        },
        "id": "sVcnPdveUMbh",
        "outputId": "75f6a2d7-d3db-4beb-b671-fcd5475f3851"
      },
      "execution_count": 60,
      "outputs": [
        {
          "output_type": "stream",
          "name": "stdout",
          "text": [
            "Lemmatization first:\n",
            "[('the', 'DT'), ('covid-19', 'NN'), ('pandemic', 'NN'), ('also', 'RB'), ('known', 'VBN'), ('a', 'DT'), ('the', 'DT'), ('coronavirus', 'NN'), ('pandemic', 'NN'), ('is', 'VBZ'), ('an', 'DT'), ('ongoing', 'JJ'), ('global', 'JJ'), ('pandemic', 'NN'), ('of', 'IN'), ('coronavirus', 'NN'), ('disease', 'NN'), ('2019', 'CD'), ('covid-19', 'NN'), ('caused', 'VBN'), ('by', 'IN'), ('severe', 'JJ'), ('acute', 'JJ'), ('respiratory', 'JJ'), ('syndrome', 'NN'), ('coronavirus', 'NN'), ('2', 'CD'), ('sars-cov-2', 'NN'), ('the', 'DT'), ('novel', 'JJ'), ('virus', 'NN'), ('wa', 'NN'), ('first', 'RB'), ('identified', 'VBN'), ('from', 'IN'), ('an', 'DT'), ('outbreak', 'NN'), ('in', 'IN'), ('the', 'DT'), ('chinese', 'JJ'), ('city', 'NN'), ('of', 'IN'), ('wuhan', 'NNP'), ('in', 'IN'), ('december', 'NNP'), ('2019', 'CD'), ('and', 'CC'), ('attempt', 'NN'), ('to', 'TO'), ('contain', 'VB'), ('it', 'PRP'), ('there', 'RB'), ('failed', 'VBD'), ('allowing', 'VBG'), ('it', 'PRP'), ('to', 'TO'), ('spread', 'VB'), ('across', 'IN'), ('the', 'DT'), ('globe', 'NN'), ('the', 'DT'), ('world', 'NN'), ('health', 'NN'), ('organization', 'NN'), ('who', 'WP'), ('declared', 'VBD'), ('a', 'DT'), ('public', 'JJ'), ('health', 'NN'), ('emergency', 'NN'), ('of', 'IN'), ('international', 'JJ'), ('concern', 'NN'), ('on', 'IN'), ('30', 'CD'), ('january', 'NNP'), ('2020', 'CD'), ('and', 'CC'), ('a', 'DT'), ('pandemic', 'NN'), ('on', 'IN'), ('11', 'CD'), ('march', 'NN'), ('2020.', 'NN'), ('a', 'DT'), ('of', 'IN'), ('23', 'CD'), ('march', 'NN'), ('2022', 'CD'), ('the', 'DT'), ('pandemic', 'NN'), ('had', 'VBD'), ('caused', 'VBN'), ('more', 'JJR'), ('than', 'IN'), ('474', 'CD'), ('million', 'CD'), ('case', 'NN'), ('and', 'CC'), ('6.1', 'CD'), ('million', 'CD'), ('death', 'NN'), ('making', 'VBG'), ('it', 'PRP'), ('one', 'CD'), ('of', 'IN'), ('the', 'DT'), ('deadliest', 'JJS'), ('in', 'IN'), ('history', 'NN'), ('covid-19', 'CD'), ('symptom', 'NN'), ('range', 'NN'), ('from', 'IN'), ('undetectable', 'JJ'), ('to', 'IN'), ('deadly', 'JJ'), ('but', 'CC'), ('most', 'RBS'), ('commonly', 'RB'), ('include', 'VBP'), ('fever', 'NN'), ('dry', 'JJ'), ('cough', 'NN'), ('and', 'CC'), ('fatigue', 'NN'), ('severe', 'JJ'), ('illness', 'NN'), ('is', 'VBZ'), ('more', 'RBR'), ('likely', 'JJ'), ('in', 'IN'), ('elderly', 'JJ'), ('patient', 'NN'), ('and', 'CC'), ('those', 'DT'), ('with', 'IN'), ('certain', 'JJ'), ('underlying', 'VBG'), ('medical', 'JJ'), ('condition', 'NN'), ('covid19', 'NN'), ('transmits', 'VBZ'), ('when', 'WRB'), ('people', 'NNS'), ('breathe', 'VBP'), ('in', 'IN'), ('air', 'NN'), ('contaminated', 'VBN'), ('by', 'IN'), ('droplet', 'NN'), ('and', 'CC'), ('small', 'JJ'), ('airborne', 'JJ'), ('particle', 'NN'), ('containing', 'VBG'), ('the', 'DT'), ('virus', 'NN'), ('the', 'DT'), ('risk', 'NN'), ('of', 'IN'), ('breathing', 'VBG'), ('these', 'DT'), ('in', 'IN'), ('is', 'VBZ'), ('highest', 'JJS'), ('when', 'WRB'), ('people', 'NNS'), ('are', 'VBP'), ('in', 'IN'), ('close', 'JJ'), ('proximity', 'NN'), ('but', 'CC'), ('they', 'PRP'), ('can', 'MD'), ('be', 'VB'), ('inhaled', 'VBN'), ('over', 'IN'), ('longer', 'JJR'), ('distance', 'NN'), ('particularly', 'RB'), ('indoors', 'RB'), ('transmission', 'NN'), ('can', 'MD'), ('also', 'RB'), ('occur', 'VB'), ('if', 'IN'), ('contaminated', 'JJ'), ('fluid', 'NN'), ('reach', 'VB'), ('the', 'DT'), ('eye', 'NN'), ('nose', 'NN'), ('or', 'CC'), ('mouth', 'NN'), ('and', 'CC'), ('rarely', 'RB'), ('via', 'IN'), ('contaminated', 'JJ'), ('surface', 'NN'), ('infected', 'VBN'), ('person', 'NN'), ('are', 'VBP'), ('typically', 'RB'), ('contagious', 'JJ'), ('for', 'IN'), ('10', 'CD'), ('day', 'NN'), ('and', 'CC'), ('can', 'MD'), ('spread', 'VB'), ('the', 'DT'), ('virus', 'NN'), ('even', 'RB'), ('if', 'IN'), ('they', 'PRP'), ('do', 'VBP'), ('not', 'RB'), ('develop', 'VB'), ('symptom', 'NN'), ('mutation', 'NN'), ('have', 'VBP'), ('produced', 'VBN'), ('many', 'JJ'), ('strain', 'NN'), ('variant', 'NN'), ('with', 'IN'), ('varying', 'VBG'), ('degree', 'NN'), ('of', 'IN'), ('infectivity', 'NN'), ('and', 'CC'), ('virulence', 'NN'), ('5', 'CD'), ('6', 'CD'), ('covid-19', 'NN'), ('vaccine', 'NN'), ('have', 'VBP'), ('been', 'VBN'), ('approved', 'VBN'), ('and', 'CC'), ('widely', 'RB'), ('distributed', 'VBN'), ('in', 'IN'), ('various', 'JJ'), ('country', 'NN'), ('since', 'IN'), ('december', 'NNP'), ('2020.', 'CD'), ('other', 'JJ'), ('recommended', 'JJ'), ('preventive', 'JJ'), ('measure', 'NN'), ('include', 'VBP'), ('social', 'JJ'), ('distancing', 'NN'), ('masking', 'NN'), ('improving', 'VBG'), ('ventilation', 'NN'), ('and', 'CC'), ('air', 'NN'), ('filtration', 'NN'), ('and', 'CC'), ('quarantining', 'VBG'), ('those', 'DT'), ('who', 'WP'), ('have', 'VBP'), ('been', 'VBN'), ('exposed', 'VBN'), ('or', 'CC'), ('are', 'VBP'), ('symptomatic', 'JJ'), ('treatment', 'NN'), ('include', 'VBP'), ('monoclonal', 'JJ'), ('antibody', 'NN'), ('7', 'CD'), ('novel', 'JJ'), ('antiviral', 'JJ'), ('drug', 'NN'), ('and', 'CC'), ('symptom', 'NN'), ('control', 'NN'), ('governmental', 'JJ'), ('intervention', 'NN'), ('include', 'VBP'), ('travel', 'NN'), ('restriction', 'NN'), ('lockdown', 'NN'), ('business', 'NN'), ('restriction', 'NN'), ('and', 'CC'), ('closure', 'NN'), ('workplace', 'NN'), ('hazard', 'NN'), ('control', 'NN'), ('quarantine', 'NN'), ('testing', 'NN'), ('system', 'NN'), ('and', 'CC'), ('tracing', 'NN'), ('contact', 'NN'), ('of', 'IN'), ('the', 'DT'), ('infected', 'VBN'), ('the', 'DT'), ('pandemic', 'NN'), ('triggered', 'VBD'), ('severe', 'JJ'), ('social', 'JJ'), ('and', 'CC'), ('economic', 'JJ'), ('disruption', 'NN'), ('around', 'IN'), ('the', 'DT'), ('world', 'NN'), ('including', 'VBG'), ('the', 'DT'), ('largest', 'JJS'), ('global', 'JJ'), ('recession', 'NN'), ('since', 'IN'), ('the', 'DT'), ('great', 'JJ'), ('depression', 'NN'), ('8', 'CD'), ('widespread', 'JJ'), ('supply', 'NN'), ('shortage', 'NN'), ('including', 'VBG'), ('food', 'NN'), ('shortage', 'NN'), ('were', 'VBD'), ('caused', 'VBN'), ('by', 'IN'), ('supply', 'NN'), ('chain', 'NN'), ('disruption', 'NN'), ('and', 'CC'), ('panic', 'NN'), ('buying', 'VBG'), ('the', 'DT'), ('resultant', 'JJ'), ('near-global', 'JJ'), ('lockdown', 'NN'), ('saw', 'VBD'), ('an', 'DT'), ('unprecedented', 'JJ'), ('pollution', 'NN'), ('decrease', 'NN'), ('educational', 'JJ'), ('institution', 'NN'), ('and', 'CC'), ('public', 'JJ'), ('area', 'NN'), ('were', 'VBD'), ('partially', 'RB'), ('or', 'CC'), ('fully', 'RB'), ('closed', 'VBN'), ('in', 'IN'), ('many', 'JJ'), ('jurisdiction', 'NN'), ('and', 'CC'), ('many', 'JJ'), ('event', 'NN'), ('were', 'VBD'), ('cancelled', 'VBN'), ('or', 'CC'), ('postponed', 'VBN'), ('misinformation', 'NN'), ('circulated', 'VBN'), ('through', 'IN'), ('social', 'JJ'), ('medium', 'NN'), ('and', 'CC'), ('mass', 'NN'), ('medium', 'NN'), ('and', 'CC'), ('political', 'JJ'), ('tension', 'NN'), ('intensified', 'VBD'), ('the', 'DT'), ('pandemic', 'NN'), ('raised', 'VBD'), ('issue', 'NN'), ('of', 'IN'), ('racial', 'JJ'), ('and', 'CC'), ('geographic', 'JJ'), ('discrimination', 'NN'), ('health', 'NN'), ('equity', 'NN'), ('and', 'CC'), ('the', 'DT'), ('balance', 'NN'), ('between', 'IN'), ('public', 'JJ'), ('health', 'NN'), ('imperative', 'NN'), ('and', 'CC'), ('individual', 'JJ'), ('right', 'NN')] \n",
            "\n",
            "POS-TAGGING first:\n",
            "[('the', 'DT'), ('covid-19', 'NN'), ('pandemic', 'NN'), ('also', 'RB'), ('know', 'VBP'), ('a', 'DT'), ('the', 'DT'), ('coronavirus', 'NN'), ('pandemic', 'NN'), ('be', 'VB'), ('an', 'DT'), ('ongoing', 'JJ'), ('global', 'JJ'), ('pandemic', 'NN'), ('of', 'IN'), ('coronavirus', 'NN'), ('disease', 'NN'), ('2019', 'CD'), ('covid-19', 'NN'), ('cause', 'NN'), ('by', 'IN'), ('severe', 'JJ'), ('acute', 'JJ'), ('respiratory', 'JJ'), ('syndrome', 'NN'), ('coronavirus', 'NN'), ('2', 'CD'), ('sars-cov-2', 'NN'), ('the', 'DT'), ('novel', 'JJ'), ('virus', 'NN'), ('be', 'VB'), ('first', 'RB'), ('identify', 'VB'), ('from', 'IN'), ('an', 'DT'), ('outbreak', 'NN'), ('in', 'IN'), ('the', 'DT'), ('chinese', 'JJ'), ('city', 'NN'), ('of', 'IN'), ('wuhan', 'NNP'), ('in', 'IN'), ('december', 'NNP'), ('2019', 'CD'), ('and', 'CC'), ('attempt', 'NN'), ('to', 'TO'), ('contain', 'VB'), ('it', 'PRP'), ('there', 'RB'), ('fail', 'VBP'), ('allow', 'VB'), ('it', 'PRP'), ('to', 'TO'), ('spread', 'VB'), ('across', 'IN'), ('the', 'DT'), ('globe', 'NN'), ('the', 'DT'), ('world', 'NN'), ('health', 'NN'), ('organization', 'NN'), ('who', 'WP'), ('declare', 'VBP'), ('a', 'DT'), ('public', 'JJ'), ('health', 'NN'), ('emergency', 'NN'), ('of', 'IN'), ('international', 'JJ'), ('concern', 'NN'), ('on', 'IN'), ('30', 'CD'), ('january', 'NNP'), ('2020', 'CD'), ('and', 'CC'), ('a', 'DT'), ('pandemic', 'NN'), ('on', 'IN'), ('11', 'CD'), ('march', 'NN'), ('2020.', 'NN'), ('a', 'DT'), ('of', 'IN'), ('23', 'CD'), ('march', 'NN'), ('2022', 'CD'), ('the', 'DT'), ('pandemic', 'NN'), ('have', 'VBP'), ('cause', 'NN'), ('more', 'JJR'), ('than', 'IN'), ('474', 'CD'), ('million', 'CD'), ('case', 'NN'), ('and', 'CC'), ('6.1', 'CD'), ('million', 'CD'), ('death', 'NN'), ('make', 'VBP'), ('it', 'PRP'), ('one', 'CD'), ('of', 'IN'), ('the', 'DT'), ('deadly', 'JJ'), ('in', 'IN'), ('history', 'NN'), ('covid-19', 'CD'), ('symptom', 'NN'), ('range', 'NN'), ('from', 'IN'), ('undetectable', 'JJ'), ('to', 'IN'), ('deadly', 'JJ'), ('but', 'CC'), ('most', 'RBS'), ('commonly', 'RB'), ('include', 'VBP'), ('fever', 'NN'), ('dry', 'JJ'), ('cough', 'NN'), ('and', 'CC'), ('fatigue', 'NN'), ('severe', 'JJ'), ('illness', 'NN'), ('be', 'VB'), ('more', 'RBR'), ('likely', 'JJ'), ('in', 'IN'), ('elderly', 'JJ'), ('patient', 'NN'), ('and', 'CC'), ('those', 'DT'), ('with', 'IN'), ('certain', 'JJ'), ('underlie', 'VBP'), ('medical', 'JJ'), ('condition', 'NN'), ('covid19', 'NN'), ('transmit', 'VB'), ('when', 'WRB'), ('people', 'NNS'), ('breathe', 'VBP'), ('in', 'IN'), ('air', 'NN'), ('contaminate', 'NN'), ('by', 'IN'), ('droplet', 'NN'), ('and', 'CC'), ('small', 'JJ'), ('airborne', 'JJ'), ('particle', 'NN'), ('contain', 'VBP'), ('the', 'DT'), ('virus', 'NN'), ('the', 'DT'), ('risk', 'NN'), ('of', 'IN'), ('breathe', 'VB'), ('these', 'DT'), ('in', 'IN'), ('be', 'VB'), ('high', 'JJ'), ('when', 'WRB'), ('people', 'NNS'), ('be', 'VBP'), ('in', 'IN'), ('close', 'JJ'), ('proximity', 'NN'), ('but', 'CC'), ('they', 'PRP'), ('can', 'MD'), ('be', 'VB'), ('inhale', 'JJ'), ('over', 'IN'), ('long', 'JJ'), ('distance', 'NN'), ('particularly', 'RB'), ('indoors', 'RB'), ('transmission', 'NN'), ('can', 'MD'), ('also', 'RB'), ('occur', 'VB'), ('if', 'IN'), ('contaminate', 'JJ'), ('fluid', 'NN'), ('reach', 'VB'), ('the', 'DT'), ('eye', 'NN'), ('nose', 'NN'), ('or', 'CC'), ('mouth', 'NN'), ('and', 'CC'), ('rarely', 'RB'), ('via', 'IN'), ('contaminated', 'JJ'), ('surface', 'NN'), ('infect', 'VBP'), ('person', 'NN'), ('be', 'VB'), ('typically', 'RB'), ('contagious', 'JJ'), ('for', 'IN'), ('10', 'CD'), ('day', 'NN'), ('and', 'CC'), ('can', 'MD'), ('spread', 'VB'), ('the', 'DT'), ('virus', 'NN'), ('even', 'RB'), ('if', 'IN'), ('they', 'PRP'), ('do', 'VBP'), ('not', 'RB'), ('develop', 'VB'), ('symptom', 'NN'), ('mutation', 'NN'), ('have', 'VBP'), ('produce', 'NN'), ('many', 'JJ'), ('strain', 'NN'), ('variant', 'NN'), ('with', 'IN'), ('vary', 'VBP'), ('degree', 'NN'), ('of', 'IN'), ('infectivity', 'NN'), ('and', 'CC'), ('virulence', 'NN'), ('5', 'CD'), ('6', 'CD'), ('covid-19', 'NN'), ('vaccine', 'NN'), ('have', 'VBP'), ('be', 'NN'), ('approve', 'VB'), ('and', 'CC'), ('widely', 'RB'), ('distribute', 'VB'), ('in', 'IN'), ('various', 'JJ'), ('country', 'NN'), ('since', 'IN'), ('december', 'NNP'), ('2020.', 'CD'), ('other', 'JJ'), ('recommended', 'JJ'), ('preventive', 'JJ'), ('measure', 'NN'), ('include', 'VBP'), ('social', 'JJ'), ('distancing', 'NN'), ('masking', 'NN'), ('improve', 'VB'), ('ventilation', 'NN'), ('and', 'CC'), ('air', 'NN'), ('filtration', 'NN'), ('and', 'CC'), ('quarantine', 'NN'), ('those', 'DT'), ('who', 'WP'), ('have', 'VBP'), ('be', 'NN'), ('expose', 'VB'), ('or', 'CC'), ('be', 'VB'), ('symptomatic', 'JJ'), ('treatment', 'NN'), ('include', 'VBP'), ('monoclonal', 'JJ'), ('antibody', 'NN'), ('7', 'CD'), ('novel', 'JJ'), ('antiviral', 'JJ'), ('drug', 'NN'), ('and', 'CC'), ('symptom', 'NN'), ('control', 'NN'), ('governmental', 'JJ'), ('intervention', 'NN'), ('include', 'VBP'), ('travel', 'NN'), ('restriction', 'NN'), ('lockdown', 'NN'), ('business', 'NN'), ('restriction', 'NN'), ('and', 'CC'), ('closure', 'NN'), ('workplace', 'NN'), ('hazard', 'NN'), ('control', 'NN'), ('quarantine', 'NN'), ('test', 'NN'), ('system', 'NN'), ('and', 'CC'), ('trace', 'NN'), ('contact', 'NN'), ('of', 'IN'), ('the', 'DT'), ('infect', 'VB'), ('the', 'DT'), ('pandemic', 'NN'), ('trigger', 'VBP'), ('severe', 'JJ'), ('social', 'JJ'), ('and', 'CC'), ('economic', 'JJ'), ('disruption', 'NN'), ('around', 'IN'), ('the', 'DT'), ('world', 'NN'), ('include', 'VBP'), ('the', 'DT'), ('large', 'JJ'), ('global', 'JJ'), ('recession', 'NN'), ('since', 'IN'), ('the', 'DT'), ('great', 'JJ'), ('depression', 'NN'), ('8', 'CD'), ('widespread', 'JJ'), ('supply', 'NN'), ('shortage', 'NN'), ('include', 'VBP'), ('food', 'NN'), ('shortage', 'NN'), ('be', 'VB'), ('cause', 'NN'), ('by', 'IN'), ('supply', 'NN'), ('chain', 'NN'), ('disruption', 'NN'), ('and', 'CC'), ('panic', 'NN'), ('buy', 'VBP'), ('the', 'DT'), ('resultant', 'JJ'), ('near-global', 'JJ'), ('lockdown', 'NN'), ('saw', 'VBD'), ('an', 'DT'), ('unprecedented', 'JJ'), ('pollution', 'NN'), ('decrease', 'NN'), ('educational', 'JJ'), ('institution', 'NN'), ('and', 'CC'), ('public', 'JJ'), ('area', 'NN'), ('be', 'VB'), ('partially', 'RB'), ('or', 'CC'), ('fully', 'RB'), ('close', 'JJ'), ('in', 'IN'), ('many', 'JJ'), ('jurisdiction', 'NN'), ('and', 'CC'), ('many', 'JJ'), ('event', 'NN'), ('be', 'VB'), ('cancel', 'VB'), ('or', 'CC'), ('postpone', 'VB'), ('misinformation', 'NN'), ('circulate', 'VBP'), ('through', 'IN'), ('social', 'JJ'), ('medium', 'NN'), ('and', 'CC'), ('mass', 'NN'), ('medium', 'NN'), ('and', 'CC'), ('political', 'JJ'), ('tension', 'NN'), ('intensify', 'VB'), ('the', 'DT'), ('pandemic', 'NN'), ('raise', 'VB'), ('issue', 'NN'), ('of', 'IN'), ('racial', 'JJ'), ('and', 'CC'), ('geographic', 'JJ'), ('discrimination', 'NN'), ('health', 'NN'), ('equity', 'NN'), ('and', 'CC'), ('the', 'DT'), ('balance', 'NN'), ('between', 'IN'), ('public', 'JJ'), ('health', 'NN'), ('imperative', 'NN'), ('and', 'CC'), ('individual', 'JJ'), ('right', 'NN')]\n"
          ]
        }
      ]
    },
    {
      "cell_type": "code",
      "source": [
        "freq_dic = dict()\n",
        "\n",
        "for idx, _ in enumerate(text_preprocessed):\n",
        "  if text_preprocessed[idx][1] != text_preprocessed2[idx][1]:\n",
        "    if text_preprocessed[idx][0] not in freq_dic:\n",
        "      freq_dic[text_preprocessed[idx][0]] = 1\n",
        "    else:\n",
        "      freq_dic[text_preprocessed[idx][0]] += 1\n",
        "\n",
        "counter = Counter(freq_dic)\n",
        "print(counter.most_common()[:20])"
      ],
      "metadata": {
        "colab": {
          "base_uri": "https://localhost:8080/"
        },
        "id": "RiVygITeKJmY",
        "outputId": "33aa96ff-1710-4d40-eef7-d4e42b00b6db"
      },
      "execution_count": 61,
      "outputs": [
        {
          "output_type": "stream",
          "name": "stdout",
          "text": [
            "[('is', 3), ('caused', 3), ('were', 3), ('infected', 2), ('are', 2), ('been', 2), ('including', 2), ('known', 1), ('wa', 1), ('identified', 1), ('failed', 1), ('allowing', 1), ('declared', 1), ('had', 1), ('making', 1), ('deadliest', 1), ('underlying', 1), ('transmits', 1), ('contaminated', 1), ('containing', 1)]\n"
          ]
        }
      ]
    },
    {
      "cell_type": "markdown",
      "source": [
        "4. Gasiti bigramele de POS tags cele mai frecvente in textul analizat, si apoi in propozitiile tagged din Brown corpus.\n",
        "\n",
        "/\n",
        "\n",
        "Find the most frequent POS tag bigrams occurring in the analyzed text, then in the tagged sentences in the Brown corpus."
      ],
      "metadata": {
        "id": "w7H6Dwdcb2qq"
      }
    },
    {
      "cell_type": "code",
      "source": [
        "bigrams = dict()\n",
        "\n",
        "for i in range(len(text_preprocessed2) - 1):\n",
        "  bigram = text_preprocessed2[i][1] + ' ' + text_preprocessed2[i + 1][1] \n",
        "  if bigram not in bigrams:\n",
        "    bigrams[bigram] = 1\n",
        "  else:\n",
        "    bigrams[bigram] +=1\n",
        "\n",
        "bigrams = Counter(bigrams)\n",
        "print(bigrams.most_common()[:-1])"
      ],
      "metadata": {
        "id": "3TvlshlgcF_w",
        "colab": {
          "base_uri": "https://localhost:8080/"
        },
        "outputId": "ecf5bbb1-13b0-45f5-c487-c5ef9f1137c3"
      },
      "execution_count": 62,
      "outputs": [
        {
          "output_type": "stream",
          "name": "stdout",
          "text": [
            "[('NN NN', 39), ('JJ NN', 38), ('NN CC', 21), ('NN IN', 19), ('DT NN', 15), ('IN JJ', 15), ('NN VB', 14), ('NN VBP', 14), ('CC NN', 11), ('JJ JJ', 10), ('DT JJ', 9), ('CD NN', 9), ('VBP NN', 9), ('NN CD', 7), ('IN DT', 7), ('CC JJ', 7), ('VB DT', 6), ('IN NN', 6), ('JJ IN', 6), ('VBP DT', 5), ('NN DT', 5), ('IN CD', 5), ('NN JJ', 5), ('VB NN', 5), ('RB VB', 4), ('VB IN', 4), ('VBP JJ', 4), ('NN RB', 3), ('RB VBP', 3), ('VB RB', 3), ('IN NNP', 3), ('NNP CD', 3), ('CC DT', 3), ('DT IN', 3), ('CD CD', 3), ('JJ CC', 3), ('VBP IN', 3), ('VB JJ', 3), ('CC RB', 3), ('VB CC', 3), ('CD JJ', 3), ('CD CC', 2), ('TO VB', 2), ('VB PRP', 2), ('WP VBP', 2), ('WRB NNS', 2), ('NNS VBP', 2), ('IN VB', 2), ('MD VB', 2), ('RB IN', 2), ('RB JJ', 2), ('CC VB', 2), ('DT DT', 1), ('NNP IN', 1), ('NN TO', 1), ('PRP RB', 1), ('VBP VB', 1), ('PRP TO', 1), ('NN WP', 1), ('CD NNP', 1), ('CD DT', 1), ('NN JJR', 1), ('JJR IN', 1), ('CC CD', 1), ('VBP PRP', 1), ('PRP CD', 1), ('CD IN', 1), ('CC RBS', 1), ('RBS RB', 1), ('VB RBR', 1), ('RBR JJ', 1), ('JJ VBP', 1), ('VB WRB', 1), ('JJ WRB', 1), ('CC PRP', 1), ('PRP MD', 1), ('RB RB', 1), ('RB NN', 1), ('NN MD', 1), ('MD RB', 1), ('CC MD', 1), ('IN PRP', 1), ('PRP VBP', 1), ('VBP RB', 1), ('IN VBP', 1), ('DT WP', 1), ('DT VB', 1), ('NN VBD', 1), ('VBD DT', 1), ('RB CC', 1)]\n"
          ]
        }
      ]
    },
    {
      "cell_type": "code",
      "source": [
        "bigrams_brown = dict()\n",
        "tagged_sent_news = nltk.corpus.brown.tagged_sents(categories='news')\n",
        "\n",
        "for idx_text in range(len(tagged_sent_news)):\n",
        "  for i in range(len(tagged_sent_news[idx_text]) - 1):\n",
        "    bigram = tagged_sent_news[idx_text][i][1] + ' ' + tagged_sent_news[idx_text][i + 1][1] \n",
        "    if bigram not in bigrams_brown:\n",
        "      bigrams_brown[bigram] = 1\n",
        "    else:\n",
        "      bigrams_brown[bigram] +=1\n",
        "\n",
        "bigrams_brown = Counter(bigrams_brown)\n",
        "print(bigrams_brown.most_common()[:-1])"
      ],
      "metadata": {
        "colab": {
          "base_uri": "https://localhost:8080/"
        },
        "id": "lSWwgIiaB51O",
        "outputId": "d79be458-df9e-4e6f-8ce0-0c22287ddf84"
      },
      "execution_count": 63,
      "outputs": [
        {
          "output_type": "stream",
          "name": "stdout",
          "text": [
            "[('AT NN', 3981), ('IN AT', 3966), ('NN IN', 3735), ('NP NP', 2390), ('JJ NN', 2105), ('AT JJ', 1522), ('NN .', 1509), ('NN NN', 1461), ('NNS IN', 1415), ('NN ,', 1404), ('NP ,', 1271), ('IN NN', 1202), ('IN NP', 1091), ('TO VB', 1066), ('VBN IN', 867), ('JJ NNS', 839), (', NP', 741), ('NN NNS', 688), ('IN CD', 668), ('NNS .', 641), ('NNS ,', 615), ('NN CC', 607), ('VB AT', 567), ('CD NNS', 558), ('AT NNS', 547), ('PP$ NN', 530), (', AT', 513), ('IN JJ', 512), (', CC', 505), ('IN NNS', 503), ('VBD AT', 499), ('MD VB', 485), ('NP VBD', 481), ('NN-TL NN-TL', 480), ('CS AT', 469), (', IN', 458), ('IN PP$', 454), ('AT NP', 429), ('PPS VBD', 403), ('NP-TL NN-TL', 388), ('NP .', 387), ('AT NN-TL', 381), ('NN VBD', 364), ('NNS CC', 356), ('VB IN', 350), ('RB IN', 350), ('CC NP', 347), ('VBD IN', 345), ('NP IN', 345), ('MD BE', 342), ('NN-TL NP', 327), (\"'' .\", 325), ('DT NN', 311), ('CC NN', 310), ('NP CC', 310), ('AP NN', 307), ('JJ-TL NN-TL', 298), ('NP NN', 297), ('IN VBG', 280), ('BE VBN', 280), ('BEDZ VBN', 274), ('CD IN', 273), ('CC AT', 272), ('NN CS', 263), (\"NN ''\", 260), (', NN', 258), ('NN-TL ,', 255), (', VBD', 255), ('NN MD', 252), ('NN TO', 250), ('VBG IN', 241), ('VBG AT', 239), ('NN BEZ', 236), ('CD ,', 229), ('VBG NN', 226), ('. .', 220), ('NN BEDZ', 217), ('AT AP', 217), ('JJ JJ', 216), ('QL JJ', 209), ('NN-TL .', 207), ('AT JJ-TL', 204), ('IN NN-TL', 203), ('CD NN', 201), (\"'' ,\", 198), ('JJ IN', 198), ('AP NNS', 195), ('NN RB', 195), ('PP$ JJ', 193), ('AT OD', 191), ('CC JJ', 186), (', PPS', 186), ('IN DT', 182), ('RB ,', 179), ('RP IN', 177), ('AT NP-TL', 174), ('AT CD', 174), ('NNS VBD', 173), ('CD .', 172), ('NN-TL NN', 172), ('PP$ NNS', 169), ('JJ-TL NP-TL', 168), ('RB VBD', 165), ('CS PPS', 165), ('BEZ AT', 164), (', CD', 160), ('VBN NN', 160), ('RB VBN', 159), (', JJ', 157), ('NN-TL IN', 157), (', RB', 156), (', CS', 155), ('CC VBD', 154), ('CC NNS', 153), ('VBN TO', 146), ('OD NN', 145), ('PPS BEDZ', 145), ('NN-TL IN-TL', 144), ('VBD CS', 143), ('VBG NNS', 143), ('IN NP-TL', 141), ('PPSS VB', 141), ('NP CD', 140), ('JJ ,', 140), ('JJ CC', 139), ('AT NN$', 138), ('IN JJ-TL', 136), ('NNS VB', 132), ('VB PPO', 130), ('NR IN', 130), ('IN AP', 129), ('VBD .', 129), ('NNS RB', 129), ('IN IN', 128), ('NN VBN', 127), ('AP IN', 126), ('VBD ,', 125), ('RB .', 125), (', WPS', 125), ('NNS MD', 124), ('VBD RP', 124), ('NNS BER', 123), ('NN VBZ', 121), ('NN WPS', 121), ('VBN NNS', 120), ('NNS TO', 120), ('HVZ VBN', 120), ('WPS VBD', 120), ('VBN AT', 120), ('NNS VBN', 119), ('CS PPSS', 119), ('VB RP', 118), ('IN PPO', 117), (', NNS', 116), ('BEZ VBN', 116), ('VB NN', 116), ('VB PP$', 116), ('NP$ NN', 115), ('PPS MD', 115), ('VB NNS', 114), (', VBG', 114), ('CC IN', 112), ('AT VBG', 112), ('JJ .', 112), ('QL RB', 111), ('RB AT', 109), ('NN$ NN', 109), ('AT VBN', 109), ('TO BE', 108), ('NN VBG', 108), ('VBN CS', 107), ('BEDZ AT', 107), ('AT NPS', 107), ('PPSS VBD', 107), ('VBZ AT', 105), (\"NNS ''\", 104), ('RB CS', 104), ('HVD VBN', 104), ('BEN VBN', 103), ('CC RB', 103), ('PPSS MD', 103), ('VBN .', 102), ('NN NP', 102), ('NP BEDZ', 100), ('NNS CS', 99), ('VBD TO', 99), ('VBD RB', 99), ('RB VB', 99), ('JJ NP', 99), ('VB JJ', 98), ('PPS BEZ', 96), (', ``', 95), ('VBD PPO', 93), ('VBD NP', 92), ('VB TO', 91), ('VBN RB', 91), ('CS NP', 90), ('CC VB', 90), ('PPS VBZ', 90), ('NP MD', 90), ('NNS BED', 90), ('IN WDT', 89), ('`` PPSS', 89), ('VBD PP$', 89), ('NN-TL VBD', 88), ('NP NNS', 88), ('JJ TO', 88), ('CD JJ', 88), ('VB RB', 87), ('HVZ BEN', 87), (', WRB', 85), ('BED VBN', 85), ('HV VBN', 85), ('NNS NN', 84), ('NP BEZ', 84), ('NN AT', 83), ('VBN ,', 83), ('NR .', 82), ('AT QL', 82), ('AT NNS-TL', 80), ('NN-TL CC', 79), ('NN --', 79), ('VBZ IN', 79), ('PPO IN', 79), ('NNS WPS', 79), ('IN NP$', 77), ('IN DTI', 77), ('VBD CD', 77), ('NN NR', 76), ('JJ CS', 76), ('RB CD', 76), ('RB JJ', 75), ('DTI NN', 75), ('CC PP$', 75), (', VBN', 75), ('CC CD', 73), (', MD', 73), ('VBD NN', 72), (', WDT', 72), ('WRB AT', 72), ('CS NN', 72), ('NR NN', 72), ('VBN RP', 72), ('VBD NNS', 72), ('JJR NN', 71), ('* VB', 71), ('NP NP$', 71), ('NNS VBG', 70), ('CD RB', 70), ('NN HVZ', 69), ('CS VBG', 69), ('BER VBN', 69), ('IN RB', 68), ('NN JJ', 68), ('NN WDT', 66), ('AT JJT', 65), ('NP RB', 65), ('NN-TL NNS', 65), ('RP AT', 65), ('VBD PPS', 64), ('`` NN', 64), ('NNS-TL NN-TL', 64), ('BE AT', 64), (', BEDZ', 64), ('BEZ JJ', 64), ('NP NN-TL', 63), ('IN NR', 63), ('VB CS', 62), ('IN DTS', 62), ('CD CC', 62), ('BEZ RB', 62), ('BEDZ RB', 61), ('CC PPS', 61), ('PPS RB', 61), ('DTS NNS', 60), (', NN-TL', 60), ('AT ``', 60), ('NP VBZ', 60), (', VBZ', 60), ('CC VBG', 59), ('VB CD', 59), ('CC AP', 59), ('VB NP', 59), ('AP CD', 59), ('BEZ VBG', 58), ('VBN JJ', 58), ('MD RB', 58), ('CC VBN', 57), ('BE JJ', 57), ('VBD JJ', 57), ('CS NNS', 57), ('CS JJ', 56), ('NR ,', 56), ('PPO .', 56), ('VB .', 56), ('AT VBN-TL', 56), ('NP HVZ', 55), ('`` AT', 54), ('VB ,', 54), ('-- AT', 54), (',-HL NP-HL', 54), (', PPSS', 54), ('JJ-TL NN', 54), ('VBD NR', 52), (\"'' IN\", 52), ('IN VBN', 52), ('NNS AT', 52), ('IN-TL NN-TL', 52), ('CC PPSS', 52), ('VBN-TL NNS-TL', 52), ('NP$ JJ', 51), ('JJT NN', 51), ('BER VBG', 51), ('NP-HL ,-HL', 51), ('RB VBG', 51), ('WRB PPS', 50), ('HV BEN', 50), ('IN ABN', 49), ('NPS ,', 49), ('VBN CC', 48), ('BEDZ VBG', 48), ('JJ-TL NNS-TL', 48), ('NP CS', 48), ('PPS HVD', 47), ('`` JJ', 47), ('VBG JJ', 46), ('AT JJR', 46), ('RB NR', 46), ('HVD BEN', 45), ('MD HV', 45), ('NN AP', 45), ('RB RB', 45), ('NP-TL JJ-TL', 44), ('PPSS HV', 44), ('MD *', 44), ('NNS CD', 44), ('CC CS', 44), ('NN WRB', 44), ('NP-TL NP-TL', 44), ('WRB ,', 43), ('BEG VBN', 43), ('RB CC', 43), ('IN ``', 43), ('DT BEZ', 42), ('NP )', 42), ('CC NN-TL', 42), (', BEZ', 42), ('EX BEZ', 42), (\"JJ ''\", 41), ('RB VBZ', 41), ('NN-TL NNS-TL', 41), ('NP-TL ,', 41), ('VBG PP$', 41), ('DT JJ', 41), (\"NN-TL ''\", 41), ('CS IN', 40), ('NN PPS', 40), ('VBZ TO', 40), ('AP JJ', 40), (', VB', 40), ('WPS VBZ', 40), ('BEDZ IN', 40), ('QL AP', 40), ('JJ CD', 40), ('VBG RB', 40), ('NNS HV', 40), ('NN HVD', 39), ('WPS MD', 39), ('NNS JJ', 39), ('NP-TL NNS-TL', 39), ('CD NP', 39), ('-- CC', 39), ('( NP', 39), ('NP HVD', 39), ('IN-TL NP-TL', 38), ('VBG PPO', 38), ('CS PP$', 38), ('VBG TO', 38), ('QL VBN', 37), ('PP$ OD', 37), ('NNS-TL ,', 37), ('NNS-TL .', 37), ('NNS --', 37), ('NN :', 37), ('WDT AT', 36), ('VB DT', 36), ('BEDZ JJ', 36), ('ABN IN', 36), (\"NP ''\", 36), ('PPSS BER', 35), ('NP-TL .', 35), ('NN BER', 35), ('AP CS', 35), ('WRB PPSS', 35), ('NP TO', 34), ('VBN NR', 34), ('VBG RP', 34), ('JJ NN-TL', 34), ('-- IN', 34), ('NP (', 34), ('WDT VBD', 34), ('AT NN$-TL', 34), ('JJ JJ-TL', 34), ('HVD AT', 34), ('DTI NNS', 33), ('NN-TL MD', 33), ('HV AT', 33), ('NP NPS', 33), ('CD AP', 33), ('VB AP', 33), ('VBG .', 33), ('NN DT', 33), (', DT', 33), ('NN QL', 33), ('BEN VBG', 33), ('NN-TL JJ-TL', 32), ('BEZ IN', 32), ('VBG ,', 32), ('PPS HVZ', 32), ('VBD AP', 32), ('ABN NNS', 32), ('NN CD', 32), ('`` IN', 31), ('BER JJ', 31), ('VBG CC', 31), ('WDT PPS', 31), ('RB MD', 31), ('WDT MD', 31), ('`` NP', 31), ('BE IN', 31), (', HVZ', 31), (\"RB ''\", 31), ('AT NR', 31), ('NN$ NNS', 30), ('RB TO', 30), ('CD CD', 30), (', TO', 30), (': ``', 30), (\"PPO ''\", 29), ('VBG CS', 29), ('DTI IN', 29), ('NN PPSS', 29), ('WPS VB', 29), ('JJ VBG', 29), ('NP-HL CD-HL', 29), ('NNS$ NN', 29), ('`` RB', 28), ('NNS NNS', 28), ('NN ``', 28), (\"VB ''\", 28), ('NN$-TL NN', 28), ('ABN AT', 28), ('CS CD', 28), ('AT-TL NN-TL', 28), ('AP NP', 28), ('WPS BEZ', 28), ('PPO ,', 28), ('MD* VB', 28), ('DTI JJ', 28), ('OD JJ', 28), ('NN (', 28), ('NN-TL CD-TL', 28), ('`` VB', 27), ('CS CS', 27), ('CD )', 27), ('VBN NP', 27), ('* VBN', 27), ('EX BEDZ', 27), ('NN-TL BEZ', 27), ('* RB', 27), ('PPSS RB', 27), (\"'' NN\", 26), ('NN$ JJ', 26), ('JJR NNS', 26), ('BER RB', 26), (', AP', 26), ('VBG NP', 26), ('NN VB', 26), (', QL', 26), ('PPSS HVD', 26), ('NPS VBD', 26), ('CC ,', 26), ('TO HV', 25), ('CS NN-TL', 25), ('VBZ CS', 25), ('RP ,', 25), ('NP$ NNS', 25), ('`` CC', 25), ('RB BEDZ', 25), ('RB NN', 25), ('BEZ *', 25), ('IN QL', 25), ('DT IN', 25), ('-- NP', 25), ('CS AP', 24), ('VBZ NP', 24), ('JJS NN', 24), (', EX', 24), ('WPS HVZ', 24), ('HVZ AT', 24), ('BEDZ *', 24), ('AT RB', 24), (', JJ-TL', 24), ('CC MD', 24), ('VBD VBG', 24), ('RB NP', 24), ('CC JJ-TL', 24), ('NNS BEZ', 24), ('NNS-TL IN', 24), ('`` NNS', 23), ('NNS WDT', 23), ('NN-HL VBN-HL', 23), ('PPO TO', 23), ('BEN AT', 23), ('BEZ QL', 23), ('VB CC', 23), ('CS DT', 23), ('CC QL', 23), ('IN JJR', 23), ('NN-TL NP-TL', 23), (', HV', 23), ('NNS-TL VBD', 23), ('OD IN', 23), (') .', 23), ('RP .', 23), ('IN CD-TL', 23), ('PPO AT', 22), ('WDT VBZ', 22), ('EX MD', 22), ('NN )', 22), ('CS EX', 22), ('PPO RB', 22), ('VBD VBN', 22), ('CD VBD', 22), ('NNS :', 22), (', PP$', 22), ('NNS PPS', 22), ('BER IN', 22), ('JJ-HL NN-HL', 22), ('RB NNS', 22), ('BEZ NN', 22), ('RB DT', 22), ('CD-TL NP-TL', 22), ('IN ABX', 21), ('BEZ CD', 21), ('DOD *', 21), ('VBZ RB', 21), ('EX BED', 21), ('NR CC', 21), ('IN-TL AT-TL', 21), ('WRB NP', 21), ('NNS NR', 21), ('BEZ CS', 21), ('ABL AT', 21), ('OD CD', 21), ('WPS RB', 21), ('VBN PP$', 21), ('IN-TL JJ-TL', 21), ('BEDZ QL', 21), ('IN OD', 21), ('VBZ RP', 21), ('VBD :', 21), ('`` PPS', 21), ('NP-TL NN', 21), ('BED JJ', 21), (', CD-TL', 21), ('VB VBG', 20), ('DT MD', 20), ('VBZ NN', 20), (', NP-TL', 20), ('CC-TL NN-TL', 20), ('AT NNS$', 20), ('HVD RB', 20), ('VBD DT', 20), ('BED RB', 20), ('NN NN-TL', 20), ('IN-HL NN-HL', 20), ('PPSS BED', 20), ('NR VBD', 20), ('QL IN', 20), ('* BE', 20), ('EX BER', 20), ('* JJ', 20), ('WDT BEZ', 20), ('NP AT', 20), ('VBN CD', 20), ('`` NN-TL', 20), (') ,', 20), ('NN RBR', 19), ('`` DT', 19), ('BEN IN', 19), ('CS ``', 19), ('HV TO', 19), ('RB BEZ', 19), ('NN-TL HVZ', 19), ('RP RB', 19), ('AP NR', 19), ('CC BEDZ', 19), (', BER', 19), ('NN BED', 19), ('OD ,', 19), ('OD CC', 19), ('WPS BER', 19), ('PPSS MD*', 19), ('NNS-TL NN', 19), ('VB QL', 19), ('CC TO', 19), ('VBZ .', 19), ('BER AT', 19), ('NN-TL RB', 19), ('VBD CC', 19), ('PPSS+MD VB', 19), ('NN-HL IN-HL', 19), ('RP CD', 19), ('QL QL', 19), (\"VBN ''\", 18), ('VB DTI', 18), ('AT JJS', 18), ('WDT RB', 18), ('IN NR$', 18), ('NP VBG', 18), ('VBZ JJ', 18), ('RP CC', 18), ('CD-TL ,', 18), ('BED VBG', 18), ('WPS HVD', 18), ('BEZ TO', 18), ('RB PPS', 18), ('NP --', 18), ('NNS WRB', 18), ('CC VBZ', 18), ('PPO JJ', 18), ('NPS .', 18), ('PPO RP', 18), ('CC NP-TL', 17), ('PN IN', 17), ('TO DO', 17), ('NN-TL NR', 17), (\"'' CC\", 17), ('NP NR', 17), ('PP$ CD', 17), ('NN RP', 17), ('RB AP', 17), ('NR NNS', 17), ('IN-TL NNS-TL', 17), ('NP JJ', 17), ('JJ-TL NNS', 17), ('BED IN', 17), ('NPS IN', 17), ('NP AP', 17), ('PPO CS', 17), ('MD DO', 17), ('OD-TL NN-TL', 17), ('WDT PPSS', 17), ('NP-TL IN', 17), ('NNS DT', 17), ('NNS HVD', 17), ('ABX NNS', 16), ('( CD', 16), ('NN-TL TO', 16), ('HVZ RB', 16), ('VBD QL', 16), ('NNS$ NNS', 16), ('JJT NNS', 16), ('VB NR', 16), ('BEDZ CD', 16), ('* AT', 16), ('VBG CD', 16), ('IN-HL NNS-HL', 16), ('WPS HV', 16), ('* IN', 16), ('RB HVZ', 16), ('NP VB', 16), ('VBZ PP$', 16), ('CC DT', 16), ('NPS CC', 16), (', NP$', 16), ('VBN QL', 16), (', BED', 16), ('NP$ NP', 16), ('JJ ``', 15), ('NNS BEDZ', 15), ('VBD PPSS', 15), ('PP$ VBG', 15), ('CC ``', 15), ('CC EX', 15), ('RB BE', 15), ('NP WPS', 15), ('BE RB', 15), ('JJ-TL JJ-TL', 15), (', ABX', 15), ('NP BER', 15), ('VB NN-TL', 15), ('-- CD', 15), ('DTS WPS', 15), ('DOZ *', 15), ('HV RB', 15), ('CS VBN', 15), ('RB HV', 15), ('JJ-TL NP', 15), ('RB ABN', 15), ('CS RB', 15), ('NR CS', 15), ('VB PPSS', 15), ('CC BEZ', 15), ('-- RB', 15), (', HVD', 15), ('PPO CC', 15), (': NP', 15), ('NP-TL CC-TL', 15), ('CD-TL NN-TL', 15), ('NN-TL NN$-TL', 14), ('`` CS', 14), ('NNS RP', 14), ('VBZ ,', 14), ('RP PP$', 14), ('BEDZ NN', 14), ('DT BEDZ', 14), ('WDT NN', 14), ('VBG AP', 14), ('BEZ BEG', 14), ('DT .', 14), (', *', 14), ('NN-TL NP$', 14), ('NN-TL CS', 14), ('NN-TL VBZ', 14), ('VB WRB', 14), ('NN HV', 14), (', WP$', 14), ('BER NP', 14), ('NP$ NN-TL', 14), ('RP TO', 14), ('(-HL NP-HL', 14), ('NP-HL )-HL', 14), ('CD VBN', 14), ('NPS BED', 14), ('NNS RBR', 14), ('VBD ``', 13), ('HVZ *', 13), ('BED AT', 13), ('NR TO', 13), ('VB WDT', 13), ('RBR IN', 13), (') NP', 13), ('QL JJR', 13), ('VBN ``', 13), ('DTI AP', 13), ('VBN AP', 13), ('IN CC', 13), ('CC WRB', 13), ('JJ AT', 13), ('`` WRB', 13), ('RBR ,', 13), ('VBN PPO', 13), ('CD JJ-TL', 13), ('AT NPS$', 13), ('BE VBG', 13), ('`` AT-TL', 13), ('DO* VB', 13), ('NP-HL NP-HL', 13), ('RB PPSS', 13), ('DOD VB', 12), ('VB ``', 12), ('VBG-TL NN-TL', 12), ('NNS-HL VBN-HL', 12), ('RP CS', 12), ('( AT', 12), ('DOD* VB', 12), ('NN-TL CC-TL', 12), ('CS ,', 12), ('RB HVD', 12), ('`` QL', 12), ('VBN DT', 12), ('CC OD', 12), (') IN', 12), ('WRB NNS', 12), ('BEN JJ', 12), ('CD NN-TL', 12), ('RB BEN', 12), ('ABX IN', 12), ('VBZ NNS', 12), ('NNS-TL IN-TL', 12), ('AT NNS$-TL', 12), ('JJ RB', 12), ('JJS NNS', 12), ('IN PN', 12), ('VBZ QL', 12), ('( IN', 12), ('NNS NP', 12), ('RBR VBD', 11), ('PPS DOD', 11), ('NPS MD', 11), ('WDT NNS', 11), ('VBD EX', 11), ('JJ NP-TL', 11), ('WDT NP', 11), ('BEZ NP', 11), ('`` VBN', 11), ('IN NNS-TL', 11), ('WPS BEDZ', 11), ('`` VBG', 11), ('BER *', 11), ('DT VBZ', 11), ('VBZ-HL NN-HL', 11), ('DTS IN', 11), ('NN JJ-TL', 11), ('IN .', 11), ('NP JJ-TL', 11), ('HVD TO', 11), ('PPSS BEDZ', 11), (\"CD ''\", 11), ('PPSS BEM', 11), ('BER NNS', 11), ('PPSS DO*', 11), ('NN-TL BEDZ', 11), ('CD VBG', 11), ('DOZ* VB', 11), ('BEDZ TO', 11), ('NNS (', 11), ('OD .', 11), ('( NN-TL', 11), ('AT NP$', 11), ('CS DTI', 10), ('NNS ``', 10), ('VB JJR', 10), ('NN-TL JJ', 10), ('CD AT', 10), ('NN$-TL NN-TL', 10), ('PP$ NN$', 10), ('OD NNS', 10), ('IN CS', 10), ('BED *', 10), ('NNS AP', 10), ('NR$ NN', 10), ('JJ NR', 10), ('RP NN', 10), ('AP .', 10), ('PPSS DO', 10), ('RBR .', 10), ('RP NNS', 10), ('ABN PP$', 10), ('`` CD', 10), ('NNS QL', 10), ('VBD NN-TL', 10), ('VBG DT', 10), ('IN-TL NP', 10), ('CD NPS', 10), ('NN-HL NN-HL', 10), ('* VBG', 10), ('DT CD', 10), (') CC', 10), ('PP$ AP', 10), ('CC *', 10), ('CC HVZ', 10), ('NN$ JJT', 10), ('IN BEG', 10), ('DT ,', 10), ('JJ NPS', 10), ('WPS BED', 10), ('NNS HVZ', 10), ('NN-TL CD', 10), ('CD BED', 10), ('DO *', 10), ('PPO VB', 10), ('RB PP$', 10), (', RP', 10), ('JJR CS', 10), ('CC NR', 10), ('-- VBD', 10), ('JJ --', 10), ('BED NP', 10), ('CC-TL NP-TL', 10), (': AT', 10), ('NR AT', 9), (\"'' CS\", 9), ('BER QL', 9), ('PP$ VBN', 9), ('NN DOD', 9), ('NN-HL NNS-HL', 9), ('RB --', 9), ('TO ``', 9), ('CS PN', 9), ('-- NN', 9), ('NNS-TL NP', 9), ('DT VBD', 9), ('VBN NN-TL', 9), ('VBN VBG', 9), ('JJ NN$', 9), ('NP-HL (-HL', 9), ('BE QL', 9), ('IN ,', 9), ('AP AP', 9), ('WRB JJ', 9), ('JJ VBN', 9), ('NNS-HL IN-HL', 9), ('-- VBG', 9), (', ABN', 9), ('PP$ NP', 9), ('AT NR-TL', 9), ('VBD DTI', 9), ('NN-TL (', 9), ('RB QL', 9), ('BEZ AP', 9), ('FW-IN FW-NN', 9), ('PPS DOZ', 9), ('PP$ NR', 9), ('`` PP$', 9), ('IN OD-TL', 9), (\"' ''\", 9), ('VBD JJ-TL', 9), ('NN-HL VBZ-HL', 9), ('IN-HL NP-HL', 9), ('CC ABN', 9), (', VBN-TL', 9), ('WP$ NN', 9), (') NN', 9), ('NNS PPSS', 9), ('BEDZ RP', 9), ('NN$-TL JJ', 9), ('PPSS+HV VBN', 9), ('NP$ CD', 9), ('WRB PP$', 9), ('RB WRB', 9), ('NNS-TL CC', 9), ('NP-TL NN$-TL', 9), ('BEZ ,', 9), ('NP BED', 9), ('VBN-TL NN-TL', 9), ('WDT HVD', 8), ('WDT BEDZ', 8), ('DTS JJ', 8), ('`` EX', 8), ('IN NPS', 8), ('MD* BE', 8), ('PPSS+BER VBG', 8), ('PPSS+BEM JJ', 8), ('CD TO', 8), ('AP JJ-TL', 8), ('VB ABN', 8), ('CD-HL NNS-HL', 8), ('CC DTI', 8), ('CD WPS', 8), ('CC DTS', 8), ('NN DOZ', 8), (') VBD', 8), ('VBN VBN', 8), ('VB PPLS', 8), ('RB DTI', 8), ('JJ-TL ,', 8), ('JJT JJ', 8), ('NNS VBZ', 8), ('AP NN$', 8), ('ABN NN', 8), ('`` NP-TL', 8), ('IN WRB', 8), (\"RP ''\", 8), ('WDT BER', 8), ('BER TO', 8), ('NP-TL CC', 8), ('RP DTI', 8), ('DO AT', 8), ('VBN-TL ,', 8), ('VBZ AP', 8), ('WDT IN', 8), ('CD-HL (-HL', 8), ('NNS-TL BED', 8), ('PP$ JJT', 8), ('NPS$ NN', 8), ('RP NP', 8), ('PPS CC', 8), ('UH ,', 8), ('* TO', 8), ('PPO ABN', 8), ('JJT IN', 8), ('BED CD', 8), ('CS NP$', 8), (\"NP-TL ''\", 7), ('`` TO', 7), ('NN-TL VBG', 7), ('DTS CD', 7), ('`` BEZ', 7), ('AP NN-TL', 7), ('VB DTS', 7), ('PP$ QL', 7), ('WDT HVZ', 7), ('NN BE', 7), ('NNS BE', 7), ('EX RB', 7), ('NN-TL AT', 7), ('* BEN', 7), ('NN BEG', 7), ('* QL', 7), ('PPL IN', 7), ('BE NNS', 7), ('VB VB', 7), ('NN MD*', 7), ('NP CD-TL', 7), ('VB NP$', 7), (\"'' NNS\", 7), ('RB BED', 7), ('AT-HL NN-HL', 7), ('AP AT', 7), ('JJR ,', 7), ('JJR JJ', 7), ('EX HVZ', 7), ('NNS-TL MD', 7), ('BEZ DT', 7), ('VBN WRB', 7), ('RBR CS', 7), ('RB DOD', 7), ('CD MD', 7), ('VBG NR', 7), ('ABX AT', 7), ('-- JJ', 7), ('CS ABN', 7), ('NP NNS-TL', 7), (', NR', 7), ('VBZ DT', 7), ('`` JJ-TL', 7), ('CD DT', 7), ('`` PPSS+BEM', 7), ('VBN-HL IN-HL', 7), ('DT VBG', 7), ('IN AT-TL', 7), ('AT-TL NNS-TL', 7), ('HV NN', 7), ('CC WDT', 7), ('NP-TL NNS', 7), ('BED TO', 7), ('NPS RB', 7), ('NP DOD', 7), ('CD --', 7), (': PPS', 7), ('VBZ PPO', 7), ('NNS )', 7), ('CC NP$', 7), ('NP :', 7), ('WP$ NNS', 7), ('RP JJ', 7), ('CC NPS', 7), ('PP$ NN-TL', 7), ('PPS+BEZ AT', 7), ('PN VBZ', 7), ('DT NR', 7), ('AT OD-TL', 7), ('WDT NN-TL', 7), ('CD-TL JJ-TL', 7), ('CC HVD', 7), ('NN PPL', 7), ('JJ JJR', 7), ('VBG VBD', 7), ('DT AP', 7), ('CS DTS', 7), ('VBZ CD', 7), ('RB *', 7), ('NN-TL ``', 6), ('NPS BER', 6), ('RB BEG', 6), ('BEG IN', 6), ('VBD PPL', 6), ('VBZ-HL IN-HL', 6), ('JJ-HL NNS-HL', 6), ('VB-HL NNS-HL', 6), ('NN$ CD', 6), ('JJ WRB', 6), ('CS JJ-TL', 6), ('AP ,', 6), ('WRB VBN', 6), ('AP TO', 6), ('PPS DOD*', 6), ('BEDZ CS', 6), ('QL RBR', 6), ('RB EX', 6), ('DTI CD', 6), ('CD CS', 6), ('ABN RB', 6), ('NR PPS', 6), ('WDT TO', 6), ('WRB TO', 6), ('BEZ PP$', 6), ('BEDZ ``', 6), ('-- ``', 6), ('BE AP', 6), ('CC PPSS+MD', 6), ('`` PPSS+MD', 6), ('PPSS DOD', 6), ('DOD IN', 6), ('RP NR', 6), ('VBG NN-TL', 6), ('DT NN$', 6), ('`` ABN', 6), ('`` PPS+BEZ', 6), ('BEZ RP', 6), ('VBG BEZ', 6), ('TO-HL VB-HL', 6), (', DTI', 6), ('MD .', 6), ('JJ-TL CC-TL', 6), ('AT PN', 6), ('NP$ JJ-TL', 6), ('CD VB', 6), ('NP HV', 6), ('CD BEDZ', 6), ('WDT ,', 6), ('NNS-TL CC-TL', 6), (', OD-TL', 6), ('BED NNS', 6), ('( RB', 6), ('HV CD', 6), ('VBD ABN', 6), ('NP-HL VBZ-HL', 6), ('DOD AT', 6), ('ABN CD', 6), ('CD NNS-TL', 6), ('VBD NP$', 6), ('NN-TL --', 6), ('NN-TL AP', 6), ('JJ AP', 6), ('JJ-TL NN$-TL', 6), ('NN-TL NP$-TL', 6), ('NP$-TL NN-TL', 6), ('CC PPS+BEZ', 6), ('JJ :', 6), ('-- CS', 6), ('HV HVN', 6), ('HVN AT', 6), ('NPS HV', 6), ('VBN --', 6), ('NP$ OD', 6), ('CC RBR', 6), ('NN NN$', 6), ('BER CD', 6), ('WRB AP', 6), ('NN *', 6), ('PPO NN', 6), ('ABN .', 6), ('NP PPS', 6), ('NP QL', 6), ('NN-HL .-HL', 6), ('CD WRB', 6), ('NN-TL )', 6), ('FW-JJ-TL FW-NN-TL', 6), ('WRB NN', 6), ('IN VBN-TL', 6), ('CD-TL .', 6), ('AT FW-NN-TL', 6), ('NNS ABN', 6), ('JJ QLP', 6), ('BER ,', 6), (\"'' RB\", 6), ('( WDT', 6), ('NPS NP', 6), ('PPL .', 6), ('FW-NN FW-IN', 6), ('`` BER', 5), ('WDT VB', 5), ('NP NN$', 5), (': CD', 5), ('VBD MD', 5), ('VBN RBR', 5), ('NN EX', 5), ('TO RB', 5), ('CS BEG', 5), ('WRB .', 5), ('VB PPS', 5), ('BEZ ``', 5), ('* AP', 5), ('-- NNS', 5), ('NP WRB', 5), ('`` PPSS+BER', 5), ('PPO MD', 5), ('-- NN-TL', 5), ('CS QL', 5), ('HV IN', 5), ('NP CC-TL', 5), ('PPLS CC', 5), ('`` WDT', 5), ('IN WPO', 5), ('WPO PPS', 5), ('-- VBN', 5), ('CC JJR', 5), ('WPS ,', 5), ('BEN RB', 5), ('BEN QL', 5), ('JJR IN', 5), ('CS TO', 5), ('NN$ QL', 5), ('BE DTI', 5), ('VB ABL', 5), ('VBZ BEZ', 5), ('NPS VB', 5), ('NNS-TL TO', 5), ('VBD BEDZ', 5), ('PN RB', 5), ('HVG AT', 5), ('HVZ TO', 5), ('BE NN', 5), ('PPSS ``', 5), ('NNS *', 5), ('CC BER', 5), ('ABX JJ', 5), ('PPO WRB', 5), ('NR$ JJ', 5), ('BEZ PN', 5), ('NN$ JJ-TL', 5), ('VBG JJ-TL', 5), ('CC-TL JJ-TL', 5), ('CD BEZ', 5), ('VBZ PPS', 5), ('VBG --', 5), ('-- DT', 5), ('WP$ JJ', 5), ('NN DTI', 5), ('NN-TL BER', 5), ('VBD WRB', 5), ('JJ VBN-TL', 5), ('AT-TL NP-TL', 5), ('NN-TL WRB', 5), ('BER AP', 5), ('NP DOZ*', 5), ('MD QL', 5), ('AP VB', 5), ('VBN-TL NN', 5), ('NN PP$', 5), ('CC-TL NNS-TL', 5), ('CD NNS$', 5), ('BEDZ NP', 5), ('NR WRB', 5), ('NNS PP$', 5), ('CD-TL NN', 5), ('BE NP', 5), ('BED RP', 5), ('NP OD', 5), ('NP-TL NPS-TL', 5), ('NP$ NP-TL', 5), ('PPSS+MD RB', 5), ('VBG NP$', 5), ('HVZ CD', 5), ('NN-TL NPS-TL', 5), ('-- AP', 5), ('NN ABN', 5), ('RB QLP', 5), ('-- PPSS', 5), ('NNS-HL :-HL', 5), ('CD VBZ', 5), ('PPS+MD BE', 5), ('HVD CD', 5), ('PPSS+HV BEN', 5), ('PPO PPS', 5), ('PPS+BEZ VBG', 5), ('PPS+BEZ JJ', 5), ('IN PPL', 5), ('HVD AP', 5), ('NN$ OD', 5), ('-- (', 5), ('`` PPSS+HV', 5), ('PN WPS', 5), ('CC BED', 5), ('IN-HL JJ-HL', 5), ('IN NN$', 5), ('NNS-HL .-HL', 5), ('NP DT', 5), ('RBR CC', 5), (', NPS', 5), ('CC RP', 5), ('`` FW-AT-TL', 5), (\"FW-NN-TL ''\", 5), (\"'' NP\", 5), ('VBN (', 5), ('BER NN', 5), ('( ``', 5), ('JJT .', 5), ('BED AP', 5), ('ABN JJ', 5), ('RB ``', 5), (\"VBG ''\", 5), ('PPO VBN', 5), ('`` VBD', 5), ('IN-HL CD-HL', 5), ('CD-TL IN', 5), ('WRB NN-TL', 5), ('DTI VBN', 5), ('HV JJ', 5), ('CD-TL )', 5), ('BED QL', 5), ('ABX NP', 5), ('DO IN', 5), ('JJR .', 5), ('HV *', 5), ('NN-HL :-HL', 5), ('`` DTS', 4), ('VB-HL NN-HL', 4), ('NR BEZ', 4), ('NR --', 4), ('NP$ QL', 4), ('VBG-HL NN-HL', 4), ('VBG PPL', 4), (', PN', 4), ('PN PPS', 4), (\"VBD ''\", 4), ('PPSS DOD*', 4), ('NP$ ``', 4), ('JJ NNS-TL', 4), ('DO PN', 4), ('CS *', 4), ('VBG JJR', 4), ('AT-TL JJ-TL', 4), (\"' JJ\", 4), (\"JJ '\", 4), ('RBR VBN', 4), ('OD VBD', 4), ('CS JJR', 4), ('NN-TL HV', 4), ('MD-HL VB-HL', 4), ('BER ``', 4), ('BER :', 4), (\"DT ''\", 4), ('WDT DT', 4), ('HVD ``', 4), (', OD', 4), (\"'' VBG\", 4), ('AP VBN', 4), ('PPS RBR', 4), ('RBR AT', 4), ('JJ VB', 4), ('NP$ IN', 4), (', JJR', 4), ('NN NNS$', 4), ('VBN DTI', 4), ('NNS-TL NNS', 4), ('NNS-TL VBZ', 4), ('IN VB', 4), ('BEG AT', 4), ('VBZ :', 4), ('JJR CC', 4), ('AP NPS', 4), ('CS NPS', 4), ('PPLS IN', 4), (\"VBZ ''\", 4), ('MD IN', 4), ('NNS-TL RB', 4), ('NNS-TL HVD', 4), ('NP ``', 4), ('AT ABN', 4), ('NNS-TL JJ-TL', 4), ('NP-TL MD', 4), ('IN HVG', 4), ('VBG WDT', 4), ('BE TO', 4), (\"NR ''\", 4), ('`` MD', 4), ('RB BER', 4), ('ABN VB', 4), (\"'' --\", 4), ('VBN MD', 4), ('VBZ NR', 4), ('JJ-TL JJ', 4), ('HV PP$', 4), ('PPS MD*', 4), ('PPSS+BER JJ', 4), ('VBZ CC', 4), ('NN$-TL NNS', 4), ('PN JJ', 4), ('HVG VBN', 4), ('JJ-TL NPS', 4), ('DO PPSS', 4), ('VBZ ABN', 4), ('ABN VBG', 4), ('VBD PN', 4), ('PN BEDZ', 4), ('NNS DOD', 4), ('CD NP-TL', 4), ('BER BEG', 4), ('PN MD', 4), ('CS MD', 4), ('NNS-HL NN-HL', 4), ('( CS', 4), ('PP$ JJ-TL', 4), ('MD CC', 4), (\": '\", 4), ('EX VBD', 4), ('PN TO', 4), ('NPS NR', 4), ('( JJ', 4), ('(-HL JJ-HL', 4), ('JJ-HL )-HL', 4), ('JJ OD', 4), ('JJ-TL CC', 4), ('-- PP$', 4), (\"'' VBN\", 4), ('HVZ JJ', 4), ('NP$ VBG', 4), ('CD RP', 4), ('OD TO', 4), ('VB ABX', 4), ('NR$ CD', 4), ('ABX NN', 4), ('VBD RBR', 4), ('QLP .', 4), ('NN$ JJS', 4), ('PPO QL', 4), ('NNS-TL --', 4), ('RP DT', 4), ('VBD PPLS', 4), (') AT', 4), ('BEDZ NP$', 4), ('OD NP', 4), ('DT NP', 4), ('JJ-TL NPS-TL', 4), ('BEDZ CC', 4), ('CS PPSS+BER', 4), ('RP WRB', 4), ('NNS-TL BER', 4), ('NN-TL NPS', 4), ('NNS$-TL NN-TL', 4), ('VBZ-HL NNS-HL', 4), ('WRB DT', 4), ('RB RBR', 4), ('NP-TL NR', 4), ('NNS-TL VB', 4), ('BEZ* JJ', 4), (', PPS+BEZ', 4), (\"'' (\", 4), ('FW-AT-TL FW-JJ-TL', 4), ('JJS JJ', 4), ('NN-TL WDT', 4), (', ,', 4), ('VB PPL', 4), ('MD ,', 4), ('BEZ WRB', 4), (\"'' BEZ\", 4), ('OD-TL NP-TL', 4), ('OD-TL JJ-TL', 4), ('DO RB', 4), ('DOD ,', 4), ('BE ``', 4), (', RBR', 4), ('DTS RB', 4), ('NP VBN', 4), ('VBN WDT', 4), ('IN ABL', 4), ('VBN BER', 4), ('PPS+BEZ QL', 4), ('BER DTS', 4), ('ABN DTS', 4), ('VBZ VBG', 4), ('JJ NNS$', 4), ('* ABN', 4), ('NP PPL', 4), ('( VB', 4), ('VBG QL', 4), ('HVD PP$', 4), ('ABN ,', 4), ('`` NNS-TL', 4), (\"'' )\", 4), ('FW-NN-TL FW-JJ-TL', 4), ('IN TO', 4), ('HVD JJ', 3), ('VBZ ``', 3), ('`` HVZ', 3), ('VBZ PN', 3), ('NN NP-TL', 3), ('DO DT', 3), ('CS WRB', 3), ('VBN :', 3), ('WDT JJ', 3), ('PPL AT', 3), (') VBN', 3), ('NP DOZ', 3), ('PPS ,', 3), ('JJ PP$', 3), ('BE CD', 3), ('NP-TL VBD', 3), ('NNS-TL BEDZ', 3), ('DTS ,', 3), ('VBG VBN', 3), ('BEN ``', 3), ('CC DOD', 3), ('VB RBR', 3), ('VB PN', 3), ('NN-HL JJ-HL', 3), ('DT NNS', 3), ('VB-HL IN-HL', 3), ('NNS-TL HVZ', 3), ('VBG PN', 3), ('NR-TL ,', 3), ('NNS-TL WPS', 3), ('VBN-TL NNS$-TL', 3), ('NNS$-TL JJ', 3), ('PPS VB', 3), ('FW-NN NN', 3), ('NNS-TL VBG', 3), ('HV NP', 3), (\"'' AT\", 3), ('HVD QL', 3), ('AP VBG', 3), ('ABN DT', 3), ('DO CC', 3), ('PN HVZ', 3), ('MD AT', 3), ('NP-TL JJ', 3), ('VBZ-HL NP-HL', 3), (\"' VBN\", 3), (\"NN '\", 3), (\"NNS '\", 3), ('VBN PPS', 3), ('JJ-TL NP$', 3), ('NP DTI', 3), ('RBT VBN', 3), ('NN-TL :', 3), (\", '\", 3), ('PPSS+BER AT', 3), ('JJ PPSS', 3), ('NPS$ JJ', 3), ('PPSS+BEM *', 3), ('NP-HL VBN-HL', 3), ('VBN-TL JJ-TL', 3), (\"AP ''\", 3), (\"NP '\", 3), ('NN$-TL VBG', 3), ('NN-HL BEZ-HL', 3), ('JJ-TL NR-TL', 3), ('NR-TL CC', 3), ('`` AP', 3), ('VBG :', 3), ('PN PPSS', 3), ('NNS$-TL NN', 3), ('NN PN', 3), ('NNS-TL NN$', 3), ('VBG NP-TL', 3), ('JJ QL', 3), ('RB WDT', 3), ('HVZ HVN', 3), ('RB PN', 3), (\"'' PPS\", 3), ('BE RP', 3), ('PN BEZ', 3), ('CC HV', 3), ('PPLS .', 3), ('NP-TL VBN-TL', 3), ('VBG BEDZ', 3), ('NR :', 3), ('BEM VBG', 3), ('JJR VBG', 3), ('WRB EX', 3), ('ABX HV', 3), ('IN PP$$', 3), ('WRB IN', 3), ('NNS PPLS', 3), ('VBN PPSS', 3), ('CD (', 3), ('NN-TL-HL NN-TL-HL', 3), ('-- VBZ', 3), ('NNS-TL AT', 3), (\"PN ''\", 3), ('VBD OD', 3), ('NN NP$', 3), ('RP NP$', 3), (\"JJT ''\", 3), ('NPS-TL .', 3), ('NP-HL IN-HL', 3), ('NNS$-TL NP', 3), ('CS DOD', 3), ('VBN OD', 3), ('JJ-TL BEDZ', 3), ('JJ-TL CD-TL', 3), ('ABX BED', 3), ('NP WDT', 3), ('JJ-TL VBD', 3), ('JJ (', 3), ('( VBG', 3), ('NR PP$', 3), ('JJS CD', 3), ('VBD WDT', 3), ('( NN', 3), (') HVD', 3), ('NN JJR', 3), ('NR NR', 3), (', UH', 3), ('PPO CD', 3), ('CD-HL --', 3), (', NN$', 3), ('OD --', 3), ('RP VBG', 3), ('BEM VBN', 3), ('CD HVD', 3), ('IN JJS', 3), ('DTS VBN', 3), ('JJ WPS', 3), ('HVD HVN', 3), ('IN PPLS', 3), ('DO .', 3), ('PPSS+HV RB', 3), ('MD TO', 3), ('CD JJS', 3), ('CC DT+BEZ', 3), ('BEZ .', 3), ('* PP$', 3), ('JJ PPS', 3), ('HVZ NN', 3), ('IN-HL AT-HL', 3), (\"AT '\", 3), ('RB-HL CC-HL', 3), ('CC-HL RB-HL', 3), ('RB :', 3), ('FW-NN IN', 3), ('AT VBG-TL', 3), ('HVZ PN', 3), (': DT', 3), ('NN NPS', 3), (': IN', 3), ('PPO NP', 3), ('PN .', 3), ('NNS-TL CS', 3), ('PPSS ,', 3), ('VBN NP-TL', 3), ('HV NNS', 3), ('DTS NN', 3), ('DTS BER', 3), ('`` *', 3), ('DT HVD', 3), ('VBN BEDZ', 3), ('BED BEG', 3), ('BEDZ OD', 3), ('BED ``', 3), ('OD NN-TL', 3), ('JJ-TL .', 3), ('NNS-TL NNS-TL', 3), ('RB RP', 3), ('PP$ ``', 3), ('NR$ NNS', 3), (': CS', 3), ('NP-TL NP', 3), ('ABN VBN', 3), ('NN$-TL NP', 3), ('VBG RBR', 3), ('RB DO', 3), ('VBG NNS$', 3), ('DO QL', 3), ('NP$ JJT', 3), ('QLP TO', 3), ('VBG ABN', 3), ('NR VBG', 3), ('ABN AP', 3), ('AP BER', 3), ('BED NN', 3), ('QL NN', 3), ('IN NNS$', 3), ('JJ BEZ', 3), ('HV DT', 3), ('BER* VBN', 3), ('NN-TL-HL NP-HL', 3), ('PPS IN', 3), ('NNS-TL CD-TL', 3), ('JJT PPSS', 3), ('`` NN-NC', 3), (\"NN-NC ''\", 3), ('HVD *', 3), ('NP-TL (', 3), ('BEZ WDT', 3), ('NPS --', 3), ('NN-TL HVD', 3), ('DT --', 3), ('VB --', 3), ('NR-TL .', 3), ('NN-TL NN$', 3), (': PP$', 3), ('PN AP', 3), ('HVD PPS', 3), ('VBZ JJR', 3), (': EX', 3), ('AP BED', 3), (': TO', 3), ('QLP IN', 3), ('RBR VB', 3), ('ABX VB', 3), ('ABX BER', 3), ('PPL VBD', 3), ('BED DTS', 3), (') WPS', 3), ('`` VBZ', 2), ('HV DTS', 2), ('NN-TL VBG-TL', 2), ('BEN NN', 2), ('NPS WPS', 2), ('VB BEZ', 2), ('WRB DTI', 2), ('VB VBN', 2), ('BER DTI', 2), ('DOZ VB', 2), ('`` JJT', 2), ('`` PN', 2), ('AP JJT', 2), ('JJ-TL RB', 2), ('NP$ VBN', 2), (\"' NNS\", 2), (\"IN '\", 2), (\"' IN\", 2), ('CC JJS', 2), ('ABN NP', 2), ('DT CS', 2), ('RBT IN', 2), (', DOD', 2), ('VBG ``', 2), ('(-HL NN-HL', 2), ('NN-HL )-HL', 2), (\"NN-HL ''\", 2), ('WDT HV', 2), ('VBN DTS', 2), ('JJS VBG', 2), (', JJS', 2), ('JJS-TL NN-TL', 2), ('`` ABL', 2), ('PPS+HVZ VBN', 2), ('NP-TL VBG', 2), ('VBD-HL CD-HL', 2), ('RP MD', 2), ('DTS MD', 2), ('* NN', 2), ('VBZ DTS', 2), ('PN CC', 2), ('CC WPS', 2), ('MD* RB', 2), ('AP-HL IN-HL', 2), ('WPS AP', 2), ('ABN JJ-TL', 2), ('DT HVZ', 2), ('VBG HVZ', 2), ('HVN JJ', 2), ('DT JJS', 2), ('BEZ NR', 2), ('NN-TL PPL', 2), ('PPL ,', 2), ('( WRB', 2), ('VBN )', 2), ('NN-TL VBN', 2), ('NN OD', 2), ('BEZ NN-TL', 2), ('DTI JJR', 2), ('VBN ABX', 2), (', WPO', 2), ('NNS-HL VB-HL', 2), ('CC PN', 2), (\"'' TO\", 2), ('IN *', 2), ('DO ,', 2), ('EX BE', 2), ('DO NN', 2), ('CS NR', 2), ('-- MD', 2), ('BEDZ WRB', 2), ('DTX VBD', 2), ('CS WDT', 2), ('HVZ ,', 2), ('PPO WDT', 2), ('JJ ABN', 2), ('PN VBN', 2), ('WRB MD', 2), ('BEM *', 2), ('VB JJ-TL', 2), ('VBG PPS', 2), ('HV PPO', 2), ('ABN NPS', 2), ('WRB PN', 2), ('PN VBG', 2), ('NR NP', 2), ('NP-TL NNS$-TL', 2), ('NNS$-TL NP-TL', 2), ('NP-TL AP', 2), ('PP$ NP-TL', 2), ('NN PPSS+BER', 2), (\"VBD '\", 2), ('PPSS+MD HV', 2), ('NPS AT', 2), (\"NNS-TL ''\", 2), ('PPSS+MD BE', 2), ('NN-TL WPS', 2), ('NN$-TL VBN', 2), ('VB EX', 2), ('NN-TL-HL VBZ-HL', 2), ('NNS-TL NP-TL', 2), ('HV PN', 2), ('BEZ-HL JJ-HL', 2), ('ABN NN-TL', 2), ('DTS BED', 2), ('WRB DO', 2), ('PPSS+BEM AT', 2), ('NNS-TL BEZ', 2), ('CD BER', 2), ('AP-HL NNS-HL', 2), ('NNS-TL VBN', 2), ('-- WDT', 2), ('WDT DOZ', 2), ('VBN PPL', 2), ('WDT *', 2), ('DTI VB', 2), ('AP WPS', 2), ('HVD IN', 2), ('JJ )', 2), ('CD QL', 2), ('NNS-HL JJ-HL', 2), ('AT *', 2), ('IN DTX', 2), ('NN-TL RBR', 2), ('MD* PPSS', 2), (\"' VB-HL\", 2), (\"VB-HL '\", 2), ('BEZ NNS', 2), ('NNS NP-TL', 2), ('JJ-TL IN', 2), ('VBD-HL NN-HL', 2), ('VB BEDZ', 2), ('TO JJ', 2), ('NN FW-NN', 2), ('FW-NN FW-IN+NN', 2), ('FW-IN+NN .', 2), ('PPSS PPLS', 2), ('CC WP$', 2), ('VBG PPSS', 2), ('MD ``', 2), ('HV DTI', 2), ('CS NP-TL', 2), ('NN-HL RB-HL', 2), ('RB )', 2), (\"NN-HL '\", 2), ('( NNS', 2), ('VBZ-HL RB-HL', 2), ('OD WRB', 2), ('DT :', 2), ('NP$ AP', 2), ('JJ WDT', 2), ('NPS-TL ,', 2), ('NNS JJR', 2), ('VB PPSS+MD', 2), ('RBR VBG', 2), ('PPSS+BEM VBG', 2), ('BEZ ABN', 2), ('NN$-TL CD', 2), ('RB PPSS+MD', 2), ('CD-HL VB-HL', 2), ('IN JJR-TL', 2), ('JJR-TL NN-TL', 2), ('RBR DT', 2), ('NP-TL IN-TL', 2), ('RBR WRB', 2), ('NPS-TL NR', 2), ('DOZ* RB', 2), ('PPS+BEZ CD', 2), ('CS PPSS+MD', 2), ('VBG )', 2), ('NNS-TL HV', 2), ('WRB JJ-TL', 2), ('NN PPSS+HV', 2), ('ABX VBD', 2), ('VBD JJS', 2), ('PPO DO', 2), ('WRB NP$', 2), ('NPS HVD', 2), ('NP RP', 2), ('CC-HL NNS-HL', 2), ('OD VBN', 2), ('NPS-TL HVD', 2), ('-- NP-TL', 2), ('PPSS+HV HVN', 2), ('CC PPSS+BEM', 2), ('PPSS+BEM RB', 2), ('PPS (', 2), ('VB WPS', 2), ('DOD PPO', 2), ('NP$ .', 2), ('PP$ NNS-TL', 2), ('`` VBG-TL', 2), ('NPS-TL VBD', 2), ('AP RB', 2), ('NPS AP', 2), ('RBR PPS', 2), ('NR NN$', 2), ('DT JJ-TL', 2), ('ABN BEDZ', 2), ('NN$ VBG', 2), ('NNS-TL VBN-TL', 2), ('NN WP$', 2), ('HVN CS', 2), ('DT NN-TL', 2), ('BEDZ JJ-TL', 2), ('DT RB', 2), ('QL RP', 2), ('HVZ ABL', 2), ('IN-HL IN-HL', 2), (\"PPSS ''\", 2), ('DO CS', 2), ('HVD PN', 2), (', NNS$', 2), ('PPS HVD*', 2), ('IN-HL .-HL', 2), ('RP AP', 2), ('RBR PPSS', 2), ('DTS NPS', 2), ('JJ-TL NP$-TL', 2), ('VBG NPS', 2), (', PPSS+MD', 2), ('PPO BEDZ', 2), ('BED :', 2), ('PPS DOZ*', 2), ('DO PPO', 2), ('CD NR', 2), ('CS PPS+BEZ', 2), ('HV QL', 2), (', PPSS+HV', 2), ('IN --', 2), ('RB JJR', 2), ('WRB PPSS+BER', 2), ('CD-TL TO', 2), ('CD-HL IN-HL', 2), ('BE JJT', 2), ('RB-HL IN-HL', 2), ('AT-HL NP-HL', 2), (\"' NP\", 2), ('NN$ AP', 2), ('NP NPS$', 2), (') BEZ', 2), ('PPSS (', 2), ('-- QL', 2), ('VBD NP-TL', 2), ('NNS DTS', 2), ('WRB CC', 2), ('CS DT+BEZ', 2), ('DT+BEZ AT', 2), (', PPS+MD', 2), ('PPS+MD VB', 2), ('VB-TL RB-TL', 2), (\"RB-TL ''\", 2), (': JJ', 2), (\"VB-TL ''\", 2), ('BEZ ABL', 2), ('`` PPO', 2), ('VBG MD', 2), ('NNS EX', 2), ('PPL RP', 2), (\"MD ''\", 2), ('NN BEZ*', 2), ('BEDZ JJT', 2), ('BEDZ PP$', 2), ('PPO NNS', 2), ('BEZ DTI', 2), ('JJR-TL NP-TL', 2), ('VBN-HL NN-HL', 2), ('DT CC', 2), ('VBG DTI', 2), ('PPO NN-TL', 2), (', AT-TL', 2), ('NR AP', 2), ('DTS VBG', 2), ('AT-TL NP', 2), ('CC-TL NP', 2), ('NN-TL VB', 2), ('NN-TL DO', 2), ('BE ,', 2), ('BEDZ VB', 2), ('JJR-HL NN-HL', 2), ('PPL CS', 2), ('HVZ AP', 2), (', BEG', 2), ('IN :', 2), ('NPS CS', 2), ('VBZ PPSS', 2), ('AT-HL NNS-HL', 2), ('WDT PP$', 2), ('CD-HL .-HL', 2), ('VBD ABX', 2), ('VBG VBG', 2), ('NP$-TL JJ-TL', 2), ('CD-TL CD-TL', 2), ('NR RB', 2), ('PP$ RB', 2), ('NR HVD', 2), ('NR JJ', 2), ('PPO BED', 2), ('-- BEDZ', 2), (') --', 2), ('IN NP$-TL', 2), ('JJR NP', 2), ('BEDZ DT', 2), ('DOZ AT', 2), ('CC BE', 2), ('HVG PP$', 2), ('PPSS VBG', 2), ('PPO VBD', 2), ('BER PP$', 2), ('NN$-TL OD', 2), ('VBG VB', 2), ('ABX RB', 2), ('NP OD-TL', 2), ('NNS$ JJ', 2), (') WRB', 2), ('DTX IN', 2), ('NP-TL --', 2), ('VBZ NN-TL', 2), ('VB NP-TL', 2), (\"'' BER\", 2), ('JJ BEDZ', 2), ('NP$ NNS-TL', 2), ('RB NN$', 2), ('VBN-TL NNS', 2), ('CS VB', 2), ('NP-HL AT-HL', 2), ('NNS HVG', 2), ('DTI NP', 2), ('BEDZ ,', 2), ('RP RP', 2), (\"'' HVZ\", 2), ('NN DTS', 2), ('WPS+BEZ VBN', 2), ('VBN-TL IN', 2), ('PPO ``', 2), ('CS BEDZ', 2), ('DT+BEZ WDT', 2), ('NP-TL (-HL', 2), ('-- JJ-TL', 2), ('DT ``', 2), ('RBR TO', 2), ('NP MD*', 2), ('QL JJT', 2), ('IN CD$', 2), ('VBG BER', 2), ('NNS BER*', 2), ('NNS$-HL NNS-HL', 2), ('VBN JJR', 2), ('NN-TL DT', 2), ('VBZ DTI', 2), ('PPS+BEZ IN', 2), ('HVZ IN', 2), ('NNS-TL RB-TL', 2), ('WPS IN', 2), ('WDT DO', 2), ('PPSS BER*', 2), ('BEZ CC', 2), ('FW-JJ FW-NN', 2), ('VBZ ABX', 2), ('`` VB-TL', 2), ('RB-TL ,', 2), (', RB-TL', 2), ('VBG WRB', 2), ('WDT AP', 2), ('PPSS CC', 2), ('NN DOZ*', 2), ('WPS BEZ*', 2), ('DOD PPSS', 2), ('DT BEZ*', 2), ('BED ,', 2), ('RB-TL CD-TL', 2), ('BEDZ PN', 2), ('DT OD', 2), ('WDT ABN', 2), ('PP$$ .', 2), ('QL VBG', 2), ('FW-NN .', 2), ('BER ABN', 2), ('( *', 2), ('CD-TL OD-TL', 2), ('DT+BEZ ABN', 2), ('NPS DOD', 2), (\"'' VBZ\", 2), ('HVD NNS', 2), ('( VBN', 2), ('-- PPS', 2), ('BEZ PPS', 2), (', DT+BEZ', 2), ('ABN PPS', 2), ('VB-TL IN-TL', 2), ('PN HVD', 2), ('ABX VBN', 2), ('NP RBR', 2), ('-- BED', 2), ('PP$ JJS', 2), ('WDT EX', 2), ('AP JJS', 2), ('BE JJR', 2), ('NNS DO', 2), ('AT FW-NN', 2), ('PPS *', 2), ('DT WDT', 2), ('PPO )', 2), ('PPO :', 2), ('CC (', 2), (\"'' :\", 2), ('* HV', 2), ('PPS VBN', 2), ('WRB DOD', 2), (') JJ', 2), ('NN-TL ABN', 2), ('CD-HL )', 2), (') NP-HL', 2), ('NP-HL .-HL', 2), ('ABN RP', 2), ('BEDZ ABN', 2), (') TO', 2), ('JJT AP', 2), ('WRB DTS', 2), ('DOD .', 2), ('CS ABX', 2), ('`` DT+BEZ', 2), (\"' PPSS\", 2), ('( JJ-TL', 2), ('VBN HVD', 2), (') NN-TL', 2), ('FW-JJ-TL ,', 2), ('`` FW-AT', 2), ('FW-AT FW-NN', 2), (\"FW-NN ''\", 2), ('DTS (', 2), ('PP$ IN', 2), ('RP DTS', 2), ('VBZ WDT', 2), ('DO* HV', 2), (\"'' DT\", 1), ('CS :', 1), (': (', 1), ('CD NN$', 1), ('NPS BE', 1), ('-- WRB', 1), ('BEG JJ', 1), ('AT-HL VBG-HL', 1), ('RB NN-TL', 1), ('VBD AT-TL', 1), ('EX ``', 1), ('PPO (', 1), ('JJT ,', 1), (', JJT', 1), ('`` BEG', 1), ('DOD* HV', 1), ('PN VBD', 1), ('EX BEDZ*', 1), ('BEDZ* AT', 1), (\"'' PP$\", 1), ('OD NN$', 1), ('VBZ NP$', 1), (\"AP '\", 1), ('BED RBR', 1), ('RBR RP', 1), ('NNS NPS', 1), ('VB BE', 1), ('VB RBT', 1), ('RB WPS', 1), ('`` MD-HL', 1), (': RB', 1), ('VBZ-HL JJ-HL', 1), ('`` DTI', 1), ('VBG PPLS', 1), ('AT JJS-TL', 1), ('NNS-HL BER-HL', 1), ('BER-HL VBN-HL', 1), ('VB PPS+HVZ', 1), ('JJT NP', 1), ('IN VBG-TL', 1), ('NN-HL VBG-HL', 1), ('NN-HL RP-HL', 1), ('RP-HL IN-HL', 1), ('NNS-HL AT-HL', 1), ('NNS-HL MD-HL', 1), ('MD*-HL VB-HL', 1), ('NN$-TL QL', 1), ('NNS MD*', 1), ('IN-HL VBG-HL', 1), ('VBG-HL NNS', 1), ('NN-HL CS-HL', 1), ('CS-HL VBN-HL', 1), (\"'' BEDZ\", 1), ('PN DT$', 1), ('DT$ NNS', 1), (', HVN', 1), ('MD NNS', 1), ('JJ FW-IN', 1), ('FW-IN FW-DT', 1), ('FW-DT NN', 1), ('NR JJR', 1), ('CS VBN-TL', 1), (': AP', 1), (') CS', 1), ('DTI QL', 1), ('AT FW-IN', 1), ('RP --', 1), ('JJ HV', 1), ('NNS BEN', 1), ('BEDZ JJR', 1), ('NPS DTI', 1), ('NNS-TL ``', 1), ('NP-TL AT', 1), ('( DTI', 1), ('* DTI', 1), ('HVD DTI', 1), ('HV AP', 1), ('NP-TL RB', 1), ('RP ABN', 1), ('BE DT', 1), ('PP$ VBZ', 1), ('MD EX', 1), ('BEN AP', 1), ('`` HV', 1), ('AP ABN', 1), ('WPO PPSS', 1), ('`` ABX', 1), ('CC DTX', 1), (', BEN', 1), ('VBG ABX', 1), ('WDT BED', 1), ('IN-TL NNS$-TL', 1), ('NNS$-TL NNS-TL', 1), ('RB PPS+HVZ', 1), ('MD* HV', 1), ('PPO ABX', 1), (\"' CC\", 1), (\"CC '\", 1), ('NP-HL RB-HL', 1), ('NP NN$-TL', 1), ('BEZ RBT', 1), ('NN PPSS+MD', 1), (\"' PPSS+BER\", 1), ('PPSS+BER PP$', 1), ('-- PPSS+BER', 1), ('PPSS NPS', 1), ('* WDT', 1), ('VBZ-HL NPS-HL', 1), ('PPSS+MD *', 1), ('NP-TL TO', 1), ('DTI VBD', 1), ('DTI JJ-TL', 1), ('DTS VB', 1), ('RP ABL', 1), ('JJ-TL NN$', 1), ('NP-HL CC-HL', 1), ('CC-HL NP-HL', 1), ('NR$ JJ-TL', 1), (\"PPS+BEZ '\", 1), (\"' VB\", 1), ('WPS ``', 1), ('AT-TL AP-TL', 1), ('AP-TL UH-TL', 1), (\"UH-TL ''\", 1), ('WRB CD', 1), ('NNS-HL TO-HL', 1), ('MD JJ', 1), (\"HVD ''\", 1), ('NP-TL WPS', 1), ('VBN-TL-HL NNS-TL-HL', 1), ('NNS-TL-HL ,-HL', 1), ('JJ-HL DT-HL', 1), ('DT-HL NN-HL', 1), ('TO VB-HL', 1), ('NP-TL VBG-TL', 1), ('DOD JJ', 1), ('JJ DT', 1), ('WRB NP-TL', 1), ('DTI AT', 1), ('HVD DT', 1), ('PPO DOD', 1), ('DOZ CD', 1), ('MD-HL BE-HL', 1), ('BE-HL NN-HL', 1), ('HVN QL', 1), ('MD NP', 1), ('OD JJ-TL', 1), ('NN NNS-TL', 1), ('BER CS', 1), ('WPS DOD', 1), ('QLP ,', 1), ('NN-TL PPSS', 1), ('DTX NN', 1), ('VBD DTS', 1), ('JJ-TL OD-TL', 1), ('BEDZ NNS', 1), ('`` MD*', 1), (\"' NN\", 1), ('VB-HL AP-HL', 1), ('AP-HL TO-HL', 1), ('RP WPS', 1), ('VBZ-HL JJR-HL', 1), ('JJR-HL NNS-HL', 1), ('NN$-TL JJS', 1), ('VBZ NP-TL', 1), ('NP-HL NN-TL-HL', 1), ('NN-TL-HL ,-HL', 1), ('VBZ-HL RP-HL', 1), ('RP-HL NN-HL', 1), ('`` PPSS+HVD', 1), ('PPSS+HVD RB', 1), ('VBG JJS', 1), (\"PP$$ ''\", 1), ('PPLS VB', 1), ('NP-TL WRB', 1), ('NN-HL JJT-HL', 1), ('TO WRB', 1), ('`` BE', 1), ('PN --', 1), ('VB NNS-TL', 1), ('NN-TL-HL (-HL', 1), ('ABX JJ-TL', 1), ('CC :', 1), ('RB-HL VBN-HL', 1), ('NPS HVZ', 1), ('CD HV', 1), (\"' NN-HL\", 1), ('VBG NNS-TL', 1), ('VBG WPS', 1), ('WPS ABN', 1), (\"BER ''\", 1), ('OD BED', 1), ('BED CS', 1), ('NNS-TL PP$', 1), ('NP-TL-HL VBZ-HL', 1), ('OD CS', 1), ('NP-HL JJ-HL', 1), ('NNS-TL AP', 1), ('NPS$ AP', 1), ('JJ NPS$', 1), ('NPS$ OD', 1), ('NNS-HL JJR-HL', 1), ('CS PPO', 1), ('CS PPSS+BEM', 1), ('VBZ-HL ``', 1), ('`` VBN-HL', 1), ('VBN-HL VBG-HL', 1), (\"VBG-HL ''\", 1), (\"JJR ''\", 1), ('NPS$ NP', 1), ('RBR AP', 1), ('DOD NP', 1), ('PPSS MD+HV', 1), ('MD+HV VBN', 1), ('NNS NN-TL', 1), ('HVD WDT', 1), ('VBZ-HL OD-HL', 1), ('OD-HL NN-HL', 1), ('JJ-TL VBD-TL', 1), ('VBD-TL ,', 1), ('WPS DOZ*', 1), ('VBZ OD', 1), ('DT+BEZ CS', 1), (', EX+BEZ', 1), ('EX+BEZ *', 1), ('PPO MD*', 1), ('PPS+BEZ NN', 1), ('VBZ PPS+MD', 1), ('DT MD*', 1), ('DOD* .', 1), ('NPS DO*', 1), ('PPSS+BER QL', 1), (\") ''\", 1), ('RP JJS', 1), ('HVD NN', 1), ('NN$-TL ,', 1), ('NN$ ,', 1), ('`` PPS+MD', 1), ('CS PPS+MD', 1), ('NNS$-TL CD', 1), ('AP NP-TL', 1), ('HV ABL', 1), ('RB UH', 1), ('UH --', 1), ('NNS-TL DOD', 1), ('PPLS AT', 1), ('VBG (', 1), ('NNS$-TL VBG', 1), ('NNS-HL CC-HL', 1), ('NPS-TL NN-TL', 1), ('HVN PPO', 1), ('DTI OD', 1), ('PN ,', 1), ('VBZ PPS+BEZ', 1), ('PPO WPS', 1), ('WPS PPSS', 1), ('RP VBZ', 1), ('ABX ,', 1), ('JJ NP$', 1), (', FW-CC', 1), ('FW-CC FW-NNS', 1), ('FW-NNS .', 1), ('NP *', 1), ('CD DOD', 1), ('NPS-TL CC', 1), ('IN BEZ', 1), (\"'' WRB\", 1), ('WPS DOZ', 1), ('DOZ NN', 1), ('NP ABX', 1), ('ABX RP', 1), ('RB DOD*', 1), ('NN-HL BEDZ-HL', 1), ('BEDZ-HL VBN-HL', 1), ('JJT JJ-TL', 1), ('NN-HL VBD-HL', 1), ('( (', 1), ('NN-TL NNS$-TL', 1), ('NP-TL CS', 1), ('NP-HL NN-HL', 1), ('NNS-TL NR', 1), ('NNS$ JJ-TL', 1), ('BE NN-TL', 1), ('NN$-HL JJ-HL', 1), ('CS ABL', 1), ('AP BEZ', 1), ('BED EX', 1), ('EX DTI', 1), ('EX HVD', 1), ('BEN ,', 1), ('WRB QL', 1), ('JJR PPS', 1), ('PPS+MD RB', 1), ('JJ PPS+BEZ', 1), ('DT+BEZ WRB', 1), ('VBG-HL IN-HL', 1), (', MD*', 1), ('PPSS+MD DO', 1), ('BEDZ DTI', 1), ('RP :', 1), ('NNS$-TL JJR', 1), ('HV NN-TL', 1), ('NNS-TL QL', 1), ('PN DOD', 1), ('CD NP$', 1), ('NPS$ VBG', 1), ('HVD* VBN', 1), ('NP-HL VBD-HL', 1), ('VBD-HL IN-HL', 1), (') MD', 1), ('CD-HL NP-HL', 1), ('NPS$ NNS', 1), ('IN BED', 1), ('AP NNS-TL', 1), ('CC BEZ*', 1), ('CD-HL NPS-HL', 1), ('NPS-HL IN-HL', 1), ('NPS QL', 1), ('NP$-TL CD', 1), ('`` HVD', 1), ('PPLS CS', 1), (\"DOD ''\", 1), ('HVD BEDZ', 1), ('DT AP$', 1), ('AP$ NN', 1), (\"' DO*\", 1), ('-- PPSS+MD', 1), (\"RB '\", 1), ('NN$-TL RB', 1), ('DOD WDT', 1), ('VB NN$', 1), ('`` IN-TL', 1), ('NN-TL BED', 1), ('DTS NNS$', 1), ('NNS$ NR', 1), ('JJ-HL VBG-HL', 1), ('WRB MD*', 1), ('MD* JJ', 1), ('DT+BEZ VBN', 1), ('HVN NNS', 1), (', PPSS+BER', 1), ('PPSS+BER NNS', 1), ('PPSS+BER VBN', 1), ('BE *', 1), ('IN BE', 1), ('NPS DT', 1), ('AP WRB', 1), ('NNS-TL CD', 1), ('CC MD*', 1), (\"' RB-HL\", 1), (\"' RB\", 1), (\"' BEZ\", 1), ('NP$-TL NN', 1), ('RB DTS', 1), (') VB', 1), ('RB PPO', 1), ('VBN-TL NP-TL', 1), ('HVD* BEN', 1), ('RB-HL ,-HL', 1), ('NPS$ JJT', 1), ('HVZ PP$', 1), ('PPS+BEZ VBN', 1), ('NP WPO', 1), ('WPO AT', 1), (': NN-TL', 1), ('NR FW-IN', 1), ('NP NP+BEZ', 1), ('NP+BEZ VBG', 1), ('PPS BEZ*', 1), ('BEZ* VBG', 1), ('CS .', 1), ('HVZ DT', 1), ('FW-AT-TL NP$', 1), ('PPS+HVZ BEN', 1), ('JJS JJ-TL', 1), ('( VBG-TL', 1), ('NN-TL VBN-TL', 1), ('NNS-TL )', 1), ('NN-TL VB-TL', 1), ('UH AT', 1), ('NP-TL MD-TL', 1), ('MD-TL VB-TL', 1), ('RP BEZ', 1), ('PN+HVZ VBN', 1), (': NPS', 1), (', NNS-TL', 1), ('RB DO*', 1), ('AP :', 1), ('UH CC', 1), ('OD ``', 1), ('DT+BEZ PP$', 1), ('OD JJS', 1), ('JJ-TL NNS$-TL', 1), ('NNS$-TL JJ-TL', 1), ('NN$-TL JJ-TL', 1), ('( CC', 1), ('BEZ JJ-TL', 1), (', BE', 1), ('WRB BEZ', 1), ('`` NR', 1), ('( PPSS', 1), (', ABL', 1), ('BEZ* AT', 1), ('NP-TL VB', 1), ('CS PPL', 1), ('PPL WPS', 1), ('ABN-HL IN-HL', 1), ('.-HL .-HL', 1), ('DOD NN', 1), ('OD-TL NP', 1), ('AT-TL NN', 1), ('NN$ VBZ', 1), (\"RBR ''\", 1), ('BER HVG', 1), ('PPS+BEZ-HL JJ-HL', 1), ('IN RBT', 1), ('VBN EX', 1), ('PPSS ABN', 1), ('ABN BER', 1), ('AT JJR-TL', 1), ('NNS-HL VBG-HL', 1), ('CC AT-TL', 1), ('NPS VBG', 1), ('VBZ JJ-TL', 1), ('VBG BED', 1), ('BED NNS-TL', 1), ('WDT VBN', 1), ('`` NNS$', 1), ('NN$ NPS$', 1), ('NP-TL VBZ', 1), ('NN-HL CC-HL', 1), ('VBN MD*', 1), ('BER RBT', 1), ('IN WPS', 1), ('WDT .', 1), (\"TO ''\", 1), ('VBG-TL CC-TL', 1), ('CC-TL VBG-TL', 1), ('* DO', 1), ('NP-TL )', 1), ('OD-TL )', 1), ('NR BED', 1), ('VBN-HL NR-HL', 1), ('NR-HL IN-HL', 1), ('WDT VBG', 1), ('JJ-TL TO', 1), ('BEN NNS', 1), ('IN-TL NP$', 1), ('NN$ NP', 1), ('CD-HL VBN-HL', 1), ('PPLS NP', 1), ('OD NR', 1), ('VBZ-HL TO-HL', 1), ('`` IN-HL', 1), ('IN-HL JJT-HL', 1), ('JJT-HL NN-HL', 1), ('IN RBR', 1), ('WPS NR', 1), ('VBN VB', 1), ('CD WDT', 1), ('NN$-HL NN-HL', 1), (\"' HVD-HL\", 1), ('HVD-HL TO-HL', 1), (\"NNS-HL '\", 1), (') BED', 1), ('PP$ NNS$', 1), ('VBD NNS-TL', 1), ('NR VBN', 1), ('WRB OD-TL', 1), ('BEM QL', 1), ('PN RB$', 1), ('RB$ NN', 1), ('NR PPSS', 1), ('NNS-HL NR-HL', 1), ('WDT CD', 1), ('BER NR', 1), ('ABN PPSS', 1), ('VB-HL RP-HL', 1), ('CC CD-TL', 1), ('`` NP$', 1), ('PPLS ,', 1), ('PPSS BEDZ*', 1), ('BEDZ* JJ', 1), ('JJ EX', 1), ('RBR BEDZ', 1), ('VBN-HL CD-HL', 1), ('VBN BEG', 1), ('NR-TL TO', 1), (', FW-IN', 1), ('FW-NN TO', 1), ('VBD ABL', 1), ('PPL DOD', 1), ('HVN VBN', 1), ('IN JJT', 1), ('BER JJS', 1), ('JJS IN', 1), ('HVZ EX', 1), ('NNS DTI', 1), ('NP-TL FW-IN', 1), ('FW-IN NP-TL', 1), ('WPO BED', 1), ('VB-HL TO-HL', 1), ('VB-HL RB-HL', 1), ('QL ``', 1), ('-- TO', 1), ('RP WDT', 1), ('VBN-HL JJ-HL', 1), ('NP BE', 1), ('`` DO', 1), ('NP-TL OD-TL', 1), ('BE NR', 1), ('NR CD', 1), ('DTS VBD', 1), ('JJ BEG', 1), ('BEG NP', 1), ('FW-AT-HL NP-TL', 1), ('CD-TL CC-TL', 1), ('CC-TL CD-TL', 1), (', NN$-TL', 1), ('NNS-HL DO-HL', 1), ('DO-HL NN-HL', 1), ('NNS-HL VBD-HL', 1), ('NN$ IN', 1), ('NN$ NR', 1), ('NNS-TL JJ', 1), ('IN PP$-TL', 1), ('PP$-TL NN-TL', 1), ('NN-TL QL', 1), ('OD-TL ,', 1), ('JJ MD', 1), ('FW-NN-TL IN-TL', 1), ('NP-HL --', 1), ('DTX BEDZ', 1), ('-- *', 1), ('* NP', 1), ('VBN-TL VBG', 1), ('DT PPS', 1), ('VBG HVD', 1), ('EX HV', 1), ('TO VBG', 1), ('RP PPL', 1), (\"PPL ''\", 1), ('BEDZ VBN-TL', 1), ('VBN NN$', 1), ('NP FW-IN-TL', 1), ('FW-IN-TL NP', 1), ('NR-TL VB', 1), ('MD* DO', 1), ('BEZ-HL VBN-HL', 1), ('DT VB', 1), ('HVZ NNS', 1), ('VBZ-HL CD-HL', 1), ('ABN VBD', 1), ('NP-TL HV', 1), ('HVG TO', 1), ('BEDZ RBR', 1), ('RBR CD', 1), ('PPLS JJ', 1), ('DT AT', 1), ('PPO VBG', 1), ('AP PPSS', 1), ('DTS HV', 1), ('VB BER', 1), ('TO NN', 1), ('NN WPS+BEZ', 1), ('AP JJR', 1), ('IN-TL VBG-TL', 1), ('VBG-TL HV', 1), ('VBG WPS+BEZ', 1), ('HVZ NR', 1), ('-- HVD', 1), (\"' *-HL\", 1), ('*-HL NN-HL', 1), ('QL VB', 1), ('PPO NR', 1), ('RB PPSS+BER', 1), ('PPSS+BER *', 1), ('WDT PPSS+BER', 1), (\"DO ''\", 1), ('CS RBR', 1), ('DO PPSS+BER', 1), ('PP$ AT', 1), ('WDT DTI', 1), ('DTI-HL JJ-HL', 1), ('NPS PPS', 1), ('JJ-TL VBG-TL', 1), ('PN-HL TO-HL', 1), ('ABX VBG', 1), ('JJ-HL IN-HL', 1), ('JJ DTI', 1), ('-- VB', 1), (\"'' BEDZ*\", 1), ('BEDZ* ``', 1), ('RB PPS+BEZ', 1), ('NR ``', 1), (\"'' WDT\", 1), (')-HL .-HL', 1), ('CD$ CD', 1), ('NP PP$', 1), ('BER* QL', 1), ('NPS NN-TL', 1), ('NNS-HL RP-HL', 1), ('CD$ NN', 1), ('VBD *', 1), ('BE .', 1), ('DTS ``', 1), (\"'' BED\", 1), ('JJ-TL NNS$', 1), ('IN PN$', 1), ('PN$ NN', 1), (': NNS', 1), ('PPL VBZ', 1), ('NN CD-TL', 1), ('CD ``', 1), ('WP$ VBN', 1), ('DOZ PP$', 1), ('`` UH', 1), (', NR$', 1), ('`` BER-TL', 1), ('BER-TL NNS-TL', 1), ('RB-TL TO-TL', 1), ('TO-TL VB-TL', 1), ('DOZ PPS', 1), ('VB NNS$', 1), ('ABN QL', 1), ('IN RP', 1), ('NNS BEG', 1), ('BEN DTI', 1), ('DTI FW-JJ', 1), ('NP$ VBZ', 1), ('HVZ JJR', 1), ('CS DOZ', 1), ('HV CS', 1), (': NN', 1), ('NN-HL MD-HL', 1), ('BER NPS', 1), ('BER NNS-TL', 1), ('NP-HL VB-HL', 1), ('VB-HL NN-TL-HL', 1), ('WPS NP', 1), ('EX+BEZ AT', 1), ('NNS DO*', 1), ('BEM ,', 1), ('BEZ* RB', 1), ('WRB DO*', 1), ('DO* PPSS', 1), ('`` DOD', 1), ('EX BED*', 1), ('BED* RB', 1), ('CC DOD*', 1), ('DT PP$', 1), ('PPO PPSS', 1), ('CC BEM', 1), ('BEM JJ', 1), ('MD ABN', 1), ('DT+BEZ QL', 1), ('CC PPS+HVZ', 1), ('PPS+HVZ RB', 1), ('NN-TL DOZ', 1), ('NP-HL NNS-HL', 1), ('OD-TL .', 1), ('AP-HL JJ-HL', 1), ('RB+BEZ AT', 1), ('VBG-HL NNS-HL', 1), ('`` RP', 1), (\"CD-TL ''\", 1), ('AT RB-TL', 1), ('CD-TL VB', 1), ('RB VB+PPO', 1), ('VB+PPO VB', 1), ('AT CD-TL', 1), ('CD-TL RB-TL', 1), ('RB-TL NN-TL', 1), ('WRB ``', 1), (\"'' NP-TL\", 1), ('WDT PPS+BEZ', 1), ('NPS-TL --', 1), ('-- ABN', 1), ('PPSS-HL VB-HL', 1), ('VB-HL NP-HL', 1), ('PPS+BEZ RB', 1), ('PPS+BEZ NP$', 1), ('NP$ ABN', 1), ('NR JJ-TL', 1), (', HVZ*', 1), ('HVZ* VBN', 1), ('CS PPSS+HV', 1), ('FW-AT-TL FW-NN-TL', 1), ('FW-NN-TL FW-IN+NN-TL', 1), ('FW-IN+NN-TL FW-IN+AT-TL', 1), ('FW-IN+AT-TL FW-NN-TL', 1), ('NP-TL FW-NN-TL', 1), ('FW-NN-TL FW-JJ', 1), (\"FW-JJ ''\", 1), ('JJ BEM', 1), ('BEM PPSS', 1), ('PPSS CS', 1), ('JJ-TL NR', 1), ('BEZ EX', 1), ('EX PN', 1), ('PN AT', 1), ('IN NN$-TL', 1), ('NR DTS', 1), ('DT NR$', 1), ('NN OD-TL', 1), ('ABN BED', 1), ('VBZ VBN', 1), ('NP$ JJS', 1), ('NP NP-TL', 1), ('NN-TL FW-JJ-TL', 1), ('FW-JJ-TL FW-JJ-TL', 1), ('FW-JJ-TL IN', 1), ('FW-JJ-TL FW-IN', 1), ('FW-IN NP', 1), ('JJT ``', 1), ('NP-TL ``', 1), ('RB HVN', 1), ('BEDZ .', 1), ('PPO BEZ', 1), ('CS FW-NN', 1), ('NP UH', 1), ('AP DTI', 1), ('JJR RB', 1), ('* HVN', 1), ('HVN NN', 1), ('PPLS AP', 1), ('NP NPS-TL', 1), ('NPS-TL TO', 1), ('RP VBN', 1), ('OD-TL NN', 1), ('NNS PPSS+HV', 1), ('BEZ* VBN', 1), ('`` CD-TL', 1), ('AT FW-JJ-TL', 1), ('FW-NN-TL NN', 1), (': JJ-NC', 1), ('JJ-NC .', 1), ('BEN WRB', 1), ('DT DOZ*', 1), ('-- ABX', 1), ('FW-NN-TL FW-IN', 1), ('FW-IN FW-NN-TL', 1), ('FW-NN-TL (', 1), (\"UH ''\", 1), (\"PPS ''\", 1), ('WDT CS', 1), ('NR VB', 1), ('VBD VB-TL', 1), ('NP PPSS', 1), ('DO NR', 1), ('JJ JJS-TL', 1), ('RP RBR', 1), ('JJ PPSS+HV', 1), (\"' AT-TL\", 1), (\"NN-TL '\", 1), ('VBN BED', 1), ('AP BEDZ', 1), ('CC-TL VBN-TL', 1), ('DT NN$-TL', 1), ('OD NPS', 1), ('DOD* RB', 1), ('BED ABX', 1), ('HVN AP', 1), ('CS DTX', 1), ('BER --', 1), ('BEG RB', 1), ('DTI PP$', 1), ('RBR RB', 1), ('NR-TL CS', 1), ('-- EX', 1), ('* CS', 1), ('( NR-TL', 1), ('AT NR$-TL', 1), ('NR$-TL NN', 1), ('NR-TL BEZ', 1), ('NP-TL BER', 1), ('( PP$', 1), ('DT RP', 1), ('JJS VBN-TL', 1), ('DOZ RB', 1), ('PPLS BER', 1), ('NNS$ CC', 1), ('CC NNS$', 1), ('QLP :', 1), ('FW-NN HVZ', 1), ('VB FW-NN', 1), ('FW-NN VBN', 1), ('CS NR$', 1), ('WDT QL', 1), ('JJR ``', 1), ('AP ``', 1), ('NNS-TL (', 1), (') BEDZ', 1), ('( TO', 1), (\") '\", 1), (\"' AT\", 1), ('VBN BEZ', 1), (\"'' PPO\", 1), ('PN DOZ', 1), ('PN QL', 1), (': ABN', 1), ('DOZ IN', 1), ('AP HVZ', 1), (\"'' WPS\", 1), ('OD BEZ', 1), ('CC FW-NN', 1), ('BER WDT', 1), ('PPL EX', 1), ('AP VBZ', 1), (') VBZ', 1), (': VBG', 1), ('HVZ NN-TL', 1), ('NP BEN', 1), ('RB MD*', 1), ('MD DTS', 1), ('`` DO*', 1), ('DO* AT', 1), ('IN FW-PP$-NC', 1), ('FW-PP$-NC FW-NNS', 1), ('FW-NNS ,', 1), ('`` (', 1), ('( NNS-TL', 1), ('IN FW-VB', 1), ('FW-VB FW-VB-NC', 1), ('FW-VB-NC ,', 1), ('ABN BEZ', 1), ('RB ABL', 1), ('BER DTX', 1), ('DTX JJ', 1), ('NNS-TL :', 1), ('IN WP$', 1), ('IN-TL NNS', 1), ('HVZ QL', 1), ('AT-HL JJ', 1), ('JJ NN-HL', 1), ('CS NNS-TL', 1), ('VBG VBN-TL', 1), (\"JJ-TL ''\", 1), ('JJ-HL CC-HL', 1), ('CC-HL NPS-HL', 1), ('NPS-HL .-HL', 1), ('BED ABN', 1), ('BE CS', 1), ('WRB BEDZ', 1), ('AT-HL NN-TL-HL', 1), ('JJ-TL VB-TL', 1), ('VB-TL NN-TL', 1), ('RB NP$', 1), ('VBN JJR-NC', 1), ('JJR-NC )', 1), ('PPS :', 1), ('JJS NPS', 1), ('VB :', 1), ('AP CC', 1), ('AP DOZ*', 1), (\"DTI ''\", 1), (': QL', 1), ('NP$-TL NP', 1), ('CD-TL RB', 1), ('AP-HL NN-HL', 1), ('NR WDT', 1), ('PPO HV', 1), ('( NR$', 1), ('NR$ OD', 1), ('DO BEDZ', 1), ('DOD PN', 1), ('NR HV', 1), ('NP EX', 1), (', DTX', 1), ('AP MD', 1), ('DO RBR', 1), ('NR PN', 1), ('* HVG', 1), ('CD PPS', 1), ('HVD )', 1), ('DT QL', 1), ('OD QL', 1), ('DT PPSS+MD', 1), ('PPSS+MD RBR', 1), ('BEN HVG', 1), ('NP-TL NPS$-TL', 1), ('NPS$-TL NN', 1), ('WRB (', 1), ('BEZ NN$', 1), ('NP$ CC', 1), ('HV VBG', 1), ('MD PPSS', 1), ('NN$-TL QL-TL', 1), ('QL-TL JJ-TL', 1), ('VBZ )', 1), ('PPL VB', 1), ('( NP$', 1), ('DOZ AP', 1), ('RP )', 1), ('NPS CD', 1), ('( PPS', 1), ('ABX MD', 1), ('VB BEG', 1), ('VBD NNS$', 1), ('DT+BEZ (', 1), (') NP$', 1), ('WRB PPSS+HV', 1), ('DOD --', 1), (') ``', 1), (\"BEM ''\", 1), ('NP$ BEDZ', 1), (\"* ''\", 1), ('BER PPSS', 1), (\"NPS ''\", 1), ('DTX NP', 1), ('AT RBT', 1), ('DO AP', 1), (') VBG', 1), ('PPSS ABX', 1), ('BEZ JJR', 1), (') BER', 1), ('PPL :', 1), ('RP NNS$', 1), ('`` WP$', 1), ('JJ-TL JJR-TL', 1), ('-- HVG', 1), ('CS --', 1), ('-- NNS-TL', 1), ('VBN-TL VBD', 1), ('VBD NN$', 1), ('NP-TL FW-JJ-TL', 1), ('FW-NN-TL ,', 1), ('IN VBD', 1), ('PPSS+BEM QL', 1), ('HVZ NP', 1), ('RB HVG', 1), ('NN WPO', 1), ('WPO NP', 1), ('NP DOD*', 1), (\"IN ''\", 1), ('RP NPS', 1), ('DTS PPS', 1), ('VBN NP$', 1), ('PPS BE', 1), ('PPL RB', 1), ('BE PP$', 1), ('NP-TL HVZ', 1), ('NP-TL QL', 1), ('ABN --', 1), ('AP HVD', 1), ('NP-TL DT', 1), ('IN-TL NP$-TL', 1), ('RP VBD', 1), ('BEDZ NN-TL', 1), ('HVD RBR', 1), ('WDT NP$', 1), ('OD AT', 1), ('CD PP$', 1), ('AP PP$', 1), ('NPS HVG', 1), ('HVG DTI', 1), ('WDT ABX', 1), ('IN IN-TL', 1), ('HVD PPSS', 1), ('PPSS BEN', 1), ('* .', 1), ('RP QL', 1), ('DTI MD', 1), ('VBD JJR', 1), ('CD EX', 1), ('`` FW-*', 1), ('FW-* FW-CD', 1), ('FW-CD FW-NN', 1), ('* CD', 1), ('WRB VBG', 1), ('NPS (', 1), (', VBG-TL', 1), ('VBG-TL PPO', 1), ('NN HVG', 1), ('WQL ,', 1), ('QL NNS', 1), ('JJ-TL --', 1), ('NP-TL BEDZ', 1), ('FW-JJ-TL --', 1), ('AT (', 1), ('JJ-TL )', 1), ('NP-TL WDT', 1), ('BEDZ --', 1), ('PPO --', 1), ('CC VB-TL', 1), ('VB-TL PPO', 1), ('JJR CD', 1), (':-HL VBG', 1), ('JJ RP', 1), ('NPS TO', 1), ('NN FW-WDT', 1), ('FW-WDT RB', 1), ('PPL HVD', 1), ('VB )', 1), ('NP PN', 1), ('DTI CC', 1), (\":-HL '\", 1), (\"VBN '\", 1), ('NP-TL CD-TL', 1), ('CD-TL VBZ', 1), ('CD-TL VBD', 1), (\"AT ''\", 1), ('BEDZ BEG', 1), ('VBG-HL :-HL', 1), ('CD DOD*', 1), ('NNS DOD*', 1), ('CD :', 1), ('QL DOD', 1), ('DOD AP', 1), ('BEG NPS', 1), ('AT CC', 1), ('DOD NNS', 1), ('CC --', 1), (') RB', 1), ('NP-HL :-HL', 1), (':-HL AP', 1), (') AT-TL', 1), ('PP$ JJR', 1), (':-HL NN', 1), ('NN FW-IN', 1), ('FW-IN FW-AT', 1), ('FW-AT NP-HL', 1), ('IN FW-JJ', 1), ('FW-NN CC', 1), ('JJ FW-NN', 1), ('DT VBN', 1), ('CC-TL NP$', 1), ('BE HVN', 1), ('HVN IN', 1), ('PPS+BEZ *', 1), ('NNS WP$', 1), ('DTS AP', 1), ('HVN TO', 1), ('EX VBZ', 1), ('IN-HL DTI-HL', 1), ('DTI-HL NNS-HL', 1), ('NNS-HL ,-HL', 1), (',-HL NNS-HL', 1), ('WPS *', 1), ('CS VBZ', 1), ('VBZ --', 1), (\"' PPS+BEZ\", 1), ('CD OD', 1), ('BEN CS', 1), ('DTS :', 1), ('NN-TL DOZ*', 1), ('WDT+BEZ VBG', 1), ('HVG NN', 1), ('BER RP', 1), ('AP DTS', 1), ('DTS WP$', 1), ('EX MD*', 1), (', PPSS+BEM', 1), ('NN DO', 1), ('JJ-TL HVZ', 1), ('CC DO', 1), ('DO WDT', 1), ('HV ,', 1), ('HVZ WDT', 1), ('ABX DTS', 1), ('PPS JJ', 1), ('* ,', 1), ('JJ BER', 1), ('WRB ABN', 1), ('VBN JJ-TL', 1), ('PPS TO', 1), ('PPL MD*', 1), ('AT-TL NR-TL', 1), (\"NR-TL ''\", 1), ('AT-TL NN$-TL', 1), ('VBN NNS$', 1), ('PPL BEZ', 1), ('VBN NPS', 1), ('BEZ ABX', 1), ('PPLS VBN', 1), ('DO VB', 1)]\n"
          ]
        }
      ]
    },
    {
      "cell_type": "markdown",
      "source": [
        "5. Write a grammar and code to produce two trees, one for each reading of the phrase \"old men and women\""
      ],
      "metadata": {
        "id": "cQ9ez4eHqcx_"
      }
    },
    {
      "cell_type": "code",
      "source": [
        "gram = nltk.CFG.fromstring(\"\"\"\n",
        "  S -> NP | PP | NP PP\n",
        "  PP -> P N | P NP\n",
        "  NP -> N PP | ADJ NP | ADJ N\n",
        "  N -> \"men\" | \"women\"\n",
        "  ADJ -> \"old\"\n",
        "  P -> \"and\"\n",
        "\"\"\")"
      ],
      "metadata": {
        "id": "hupNTlUSBYqg"
      },
      "execution_count": 64,
      "outputs": []
    },
    {
      "cell_type": "code",
      "source": [
        "rdp = nltk.RecursiveDescentParser(gram)\n",
        "rdp"
      ],
      "metadata": {
        "colab": {
          "base_uri": "https://localhost:8080/"
        },
        "id": "YOylP_viu0VU",
        "outputId": "4576f33d-1696-4043-db70-b5b560b5f0ef"
      },
      "execution_count": 65,
      "outputs": [
        {
          "output_type": "execute_result",
          "data": {
            "text/plain": [
              "<nltk.parse.recursivedescent.RecursiveDescentParser at 0x7f4c52beef90>"
            ]
          },
          "metadata": {},
          "execution_count": 65
        }
      ]
    },
    {
      "cell_type": "code",
      "source": [
        "text = \"old men and women\"\n",
        "\n",
        "for tree in rdp.parse(nltk.word_tokenize(text)):\n",
        "  print(tree)"
      ],
      "metadata": {
        "colab": {
          "base_uri": "https://localhost:8080/"
        },
        "id": "aK0Ksnrru6Z4",
        "outputId": "f92e3a2e-3878-4660-f61e-78794cfb2bc8"
      },
      "execution_count": 66,
      "outputs": [
        {
          "output_type": "stream",
          "name": "stdout",
          "text": [
            "(S (NP (ADJ old) (NP (N men) (PP (P and) (N women)))))\n",
            "(S (NP (ADJ old) (N men)) (PP (P and) (N women)))\n"
          ]
        }
      ]
    }
  ]
}