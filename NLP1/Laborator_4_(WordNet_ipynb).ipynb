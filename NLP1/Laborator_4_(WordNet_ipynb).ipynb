{
  "cells": [
    {
      "cell_type": "markdown",
      "source": [
        "Web interfaces:\n",
        "\n",
        "https://wordnet.princeton.edu/\n",
        "\n",
        "http://wordvis.com/\n",
        "\n"
      ],
      "metadata": {
        "id": "2tAKgBJB2utH"
      }
    },
    {
      "cell_type": "code",
      "execution_count": null,
      "metadata": {
        "colab": {
          "base_uri": "https://localhost:8080/"
        },
        "id": "R7VDMGaY2I7Z",
        "outputId": "c0be867e-b4ee-4d37-ca2d-2edad31d27db"
      },
      "outputs": [
        {
          "output_type": "stream",
          "name": "stdout",
          "text": [
            "[nltk_data] Downloading package wordnet to /root/nltk_data...\n",
            "[nltk_data]   Unzipping corpora/wordnet.zip.\n"
          ]
        }
      ],
      "source": [
        "from nltk import download\n",
        "download('wordnet')\n",
        "\n",
        "from nltk.corpus import wordnet as wn"
      ]
    },
    {
      "cell_type": "markdown",
      "metadata": {
        "id": "-oiXlCvj2I7f"
      },
      "source": [
        "### Synsets"
      ]
    },
    {
      "cell_type": "code",
      "execution_count": null,
      "metadata": {
        "colab": {
          "base_uri": "https://localhost:8080/"
        },
        "id": "baU3BKbd2I7g",
        "outputId": "dc8a6cb4-441d-4327-8e5b-18b7d6bebbd0"
      },
      "outputs": [
        {
          "output_type": "execute_result",
          "data": {
            "text/plain": [
              "[Synset('child.n.01'),\n",
              " Synset('kid.n.02'),\n",
              " Synset('kyd.n.01'),\n",
              " Synset('child.n.02'),\n",
              " Synset('kid.n.05'),\n",
              " Synset('pull_the_leg_of.v.01'),\n",
              " Synset('kid.v.02')]"
            ]
          },
          "metadata": {},
          "execution_count": 2
        }
      ],
      "source": [
        "kid_synsets = wn.synsets('kid')\n",
        "kid_synsets"
      ]
    },
    {
      "cell_type": "markdown",
      "metadata": {
        "id": "DbEfT5aT2I7i"
      },
      "source": [
        "Parts of speech"
      ]
    },
    {
      "cell_type": "code",
      "execution_count": null,
      "metadata": {
        "colab": {
          "base_uri": "https://localhost:8080/"
        },
        "id": "-xzDpwpY2I7j",
        "outputId": "fb9b6198-ac77-4e15-83e1-54443780216b"
      },
      "outputs": [
        {
          "output_type": "execute_result",
          "data": {
            "text/plain": [
              "['n', 'n', 'n', 'n', 'n', 'v', 'v']"
            ]
          },
          "metadata": {},
          "execution_count": 3
        }
      ],
      "source": [
        "[s.pos() for s in kid_synsets]"
      ]
    },
    {
      "cell_type": "markdown",
      "metadata": {
        "id": "oGLW3-yf2I7j"
      },
      "source": [
        "Example usages"
      ]
    },
    {
      "cell_type": "code",
      "source": [
        "kid_synsets[0].definition()"
      ],
      "metadata": {
        "colab": {
          "base_uri": "https://localhost:8080/",
          "height": 36
        },
        "id": "y3yMYw9G5UCe",
        "outputId": "b115b80e-4c82-432c-af1a-122825a0ac5d"
      },
      "execution_count": null,
      "outputs": [
        {
          "output_type": "execute_result",
          "data": {
            "text/plain": [
              "'a young person of either sex'"
            ],
            "application/vnd.google.colaboratory.intrinsic+json": {
              "type": "string"
            }
          },
          "metadata": {},
          "execution_count": 4
        }
      ]
    },
    {
      "cell_type": "code",
      "execution_count": null,
      "metadata": {
        "colab": {
          "base_uri": "https://localhost:8080/"
        },
        "id": "jHQHgwJV2I7j",
        "outputId": "77583fb6-3f4f-4a30-d29f-350c0e8a15a4"
      },
      "outputs": [
        {
          "output_type": "execute_result",
          "data": {
            "text/plain": [
              "['she writes books for children',\n",
              " \"they're just kids\",\n",
              " \"`tiddler' is a British term for youngster\"]"
            ]
          },
          "metadata": {},
          "execution_count": 5
        }
      ],
      "source": [
        "kid_synsets[0].examples()"
      ]
    },
    {
      "cell_type": "code",
      "source": [
        "kid_synsets[0].lemma_names()"
      ],
      "metadata": {
        "colab": {
          "base_uri": "https://localhost:8080/"
        },
        "id": "rIog0y6B5gWs",
        "outputId": "4da34a69-618a-48a4-c2a2-06f349a3e4c0"
      },
      "execution_count": null,
      "outputs": [
        {
          "output_type": "execute_result",
          "data": {
            "text/plain": [
              "['child',\n",
              " 'kid',\n",
              " 'youngster',\n",
              " 'minor',\n",
              " 'shaver',\n",
              " 'nipper',\n",
              " 'small_fry',\n",
              " 'tiddler',\n",
              " 'tike',\n",
              " 'tyke',\n",
              " 'fry',\n",
              " 'nestling']"
            ]
          },
          "metadata": {},
          "execution_count": 6
        }
      ]
    },
    {
      "cell_type": "code",
      "source": [
        "kid_synsets[6].examples()"
      ],
      "metadata": {
        "colab": {
          "base_uri": "https://localhost:8080/"
        },
        "id": "BD-wJbJ1Um-9",
        "outputId": "624b7974-4742-4df6-b9fe-acd70e308d34"
      },
      "execution_count": null,
      "outputs": [
        {
          "output_type": "execute_result",
          "data": {
            "text/plain": [
              "['After we relaxed, we just kidded around']"
            ]
          },
          "metadata": {},
          "execution_count": 7
        }
      ]
    },
    {
      "cell_type": "markdown",
      "metadata": {
        "id": "YjLv5Q9u2I7k"
      },
      "source": [
        "### Semantic relationships"
      ]
    },
    {
      "cell_type": "markdown",
      "source": [
        "#### Nouns"
      ],
      "metadata": {
        "id": "e9NYmUWG4t3y"
      }
    },
    {
      "cell_type": "markdown",
      "metadata": {
        "id": "PaWp5i6I2I7m"
      },
      "source": [
        "\n",
        "Hyponyms / hypernyms"
      ]
    },
    {
      "cell_type": "code",
      "execution_count": null,
      "metadata": {
        "colab": {
          "base_uri": "https://localhost:8080/"
        },
        "id": "pbYByZ8P2I7n",
        "outputId": "0a019564-549a-47db-bc88-dbfc9bb2deaf"
      },
      "outputs": [
        {
          "output_type": "execute_result",
          "data": {
            "text/plain": [
              "[Synset('bairn.n.01'),\n",
              " Synset('buster.n.02'),\n",
              " Synset('changeling.n.02'),\n",
              " Synset('child_prodigy.n.01'),\n",
              " Synset('foster-child.n.01'),\n",
              " Synset('imp.n.02'),\n",
              " Synset('kiddy.n.01'),\n",
              " Synset('orphan.n.01'),\n",
              " Synset('peanut.n.03'),\n",
              " Synset('pickaninny.n.01'),\n",
              " Synset('poster_child.n.01'),\n",
              " Synset('preschooler.n.01'),\n",
              " Synset('silly.n.01'),\n",
              " Synset('sprog.n.02'),\n",
              " Synset('toddler.n.01'),\n",
              " Synset('urchin.n.01'),\n",
              " Synset('waif.n.01')]"
            ]
          },
          "metadata": {},
          "execution_count": 8
        }
      ],
      "source": [
        "kid_synsets[0].hyponyms()"
      ]
    },
    {
      "cell_type": "code",
      "source": [
        "kid_synsets[0].hyponyms()[-1].definition()"
      ],
      "metadata": {
        "colab": {
          "base_uri": "https://localhost:8080/"
        },
        "id": "vgrHpPicciDI",
        "outputId": "b9c6544b-8f9b-47fa-81a1-59dd617f00f9"
      },
      "execution_count": null,
      "outputs": [
        {
          "output_type": "execute_result",
          "data": {
            "text/plain": [
              "'a homeless child especially one forsaken or orphaned'"
            ],
            "application/vnd.google.colaboratory.intrinsic+json": {
              "type": "string"
            }
          },
          "metadata": {},
          "execution_count": 9
        }
      ]
    },
    {
      "cell_type": "code",
      "execution_count": null,
      "metadata": {
        "colab": {
          "base_uri": "https://localhost:8080/"
        },
        "id": "7TDl1jso2I7o",
        "outputId": "abf4f03a-ca23-4edb-c574-4e27f4ba546e"
      },
      "outputs": [
        {
          "output_type": "execute_result",
          "data": {
            "text/plain": [
              "['child',\n",
              " 'kid',\n",
              " 'youngster',\n",
              " 'minor',\n",
              " 'shaver',\n",
              " 'nipper',\n",
              " 'small_fry',\n",
              " 'tiddler',\n",
              " 'tike',\n",
              " 'tyke',\n",
              " 'fry',\n",
              " 'nestling']"
            ]
          },
          "metadata": {},
          "execution_count": 10
        }
      ],
      "source": [
        "[l.name() for l in kid_synsets[0].lemmas()]"
      ]
    },
    {
      "cell_type": "code",
      "source": [
        "kid_synsets[0].hypernyms()"
      ],
      "metadata": {
        "colab": {
          "base_uri": "https://localhost:8080/"
        },
        "id": "gSfqzT-ZUw6Z",
        "outputId": "8dc16ad0-44c3-4264-d7f3-175cb34d0deb"
      },
      "execution_count": null,
      "outputs": [
        {
          "output_type": "execute_result",
          "data": {
            "text/plain": [
              "[Synset('juvenile.n.01')]"
            ]
          },
          "metadata": {},
          "execution_count": 11
        }
      ]
    },
    {
      "cell_type": "code",
      "source": [
        "wn.synsets(\"tree\")"
      ],
      "metadata": {
        "colab": {
          "base_uri": "https://localhost:8080/"
        },
        "id": "-X2ZhgH4TgO7",
        "outputId": "50b27402-6fe0-4e58-ee8e-8532e2fc629c"
      },
      "execution_count": null,
      "outputs": [
        {
          "output_type": "execute_result",
          "data": {
            "text/plain": [
              "[Synset('tree.n.01'),\n",
              " Synset('tree.n.02'),\n",
              " Synset('tree.n.03'),\n",
              " Synset('corner.v.02'),\n",
              " Synset('tree.v.02'),\n",
              " Synset('tree.v.03'),\n",
              " Synset('tree.v.04')]"
            ]
          },
          "metadata": {},
          "execution_count": 12
        }
      ]
    },
    {
      "cell_type": "code",
      "source": [
        "tree_synset = wn.synsets(\"tree\")[0]\n",
        "tree_synset.hyponyms()"
      ],
      "metadata": {
        "colab": {
          "base_uri": "https://localhost:8080/"
        },
        "id": "M2SVgpORTpEV",
        "outputId": "81787707-4818-405b-b531-75aff9f48be3"
      },
      "execution_count": null,
      "outputs": [
        {
          "output_type": "execute_result",
          "data": {
            "text/plain": [
              "[Synset('aalii.n.01'),\n",
              " Synset('acacia.n.01'),\n",
              " Synset('african_walnut.n.01'),\n",
              " Synset('albizzia.n.01'),\n",
              " Synset('alder.n.02'),\n",
              " Synset('angelim.n.01'),\n",
              " Synset('angiospermous_tree.n.01'),\n",
              " Synset('anise_tree.n.01'),\n",
              " Synset('arbor.n.01'),\n",
              " Synset('aroeira_blanca.n.01'),\n",
              " Synset('ash.n.02'),\n",
              " Synset('australian_nettle.n.01'),\n",
              " Synset('balata.n.02'),\n",
              " Synset('bayberry.n.01'),\n",
              " Synset('bean_tree.n.01'),\n",
              " Synset('beech.n.01'),\n",
              " Synset('birch.n.02'),\n",
              " Synset('bitterwood_tree.n.01'),\n",
              " Synset('black_mangrove.n.01'),\n",
              " Synset('blackwood.n.02'),\n",
              " Synset('bloodwood_tree.n.01'),\n",
              " Synset('bonduc.n.02'),\n",
              " Synset('bonsai.n.01'),\n",
              " Synset('bottle-tree.n.01'),\n",
              " Synset('brazilian_ironwood.n.01'),\n",
              " Synset('brazilian_pepper_tree.n.01'),\n",
              " Synset('brazilwood.n.02'),\n",
              " Synset('breakax.n.01'),\n",
              " Synset('burma_padauk.n.01'),\n",
              " Synset('button_tree.n.01'),\n",
              " Synset('cabbage_tree.n.03'),\n",
              " Synset('calaba.n.01'),\n",
              " Synset('calabash.n.02'),\n",
              " Synset('camwood.n.01'),\n",
              " Synset('caracolito.n.01'),\n",
              " Synset('carib_wood.n.01'),\n",
              " Synset('cassia.n.01'),\n",
              " Synset('casuarina.n.01'),\n",
              " Synset('chaulmoogra.n.01'),\n",
              " Synset('chestnut.n.02'),\n",
              " Synset('chinaberry.n.02'),\n",
              " Synset('chinese_parasol_tree.n.01'),\n",
              " Synset('christmas_bush.n.01'),\n",
              " Synset('cinchona.n.02'),\n",
              " Synset('clusia.n.01'),\n",
              " Synset('cockspur.n.02'),\n",
              " Synset('cocobolo.n.01'),\n",
              " Synset('coffee.n.02'),\n",
              " Synset('conacaste.n.01'),\n",
              " Synset('coral_tree.n.01'),\n",
              " Synset('coralwood.n.01'),\n",
              " Synset('cork_tree.n.01'),\n",
              " Synset('dagame.n.01'),\n",
              " Synset('devilwood.n.01'),\n",
              " Synset('dhak.n.01'),\n",
              " Synset('dhawa.n.01'),\n",
              " Synset('dipterocarp.n.01'),\n",
              " Synset('dita.n.01'),\n",
              " Synset('divi-divi.n.02'),\n",
              " Synset('ebony.n.03'),\n",
              " Synset('elm.n.01'),\n",
              " Synset('fever_tree.n.01'),\n",
              " Synset('fig_tree.n.01'),\n",
              " Synset('fringe_tree.n.01'),\n",
              " Synset('giant_chinkapin.n.01'),\n",
              " Synset('gliricidia.n.01'),\n",
              " Synset('granadilla_tree.n.01'),\n",
              " Synset('guama.n.01'),\n",
              " Synset('guinea_pepper.n.02'),\n",
              " Synset('gum_tree.n.01'),\n",
              " Synset('gutta-percha_tree.n.01'),\n",
              " Synset('gutta-percha_tree.n.02'),\n",
              " Synset('gymnospermous_tree.n.01'),\n",
              " Synset('hackberry.n.01'),\n",
              " Synset('hazel.n.01'),\n",
              " Synset('hop_hornbeam.n.01'),\n",
              " Synset('hornbeam.n.01'),\n",
              " Synset('hydnocarpus_laurifolia.n.01'),\n",
              " Synset('ice-cream_bean.n.01'),\n",
              " Synset('idesia.n.01'),\n",
              " Synset('incense_tree.n.01'),\n",
              " Synset('indian_beech.n.01'),\n",
              " Synset('inga.n.01'),\n",
              " Synset('ivory_tree.n.01'),\n",
              " Synset('jamaica_dogwood.n.01'),\n",
              " Synset('jamaican_cherry.n.01'),\n",
              " Synset('japanese_pagoda_tree.n.01'),\n",
              " Synset('kentucky_coffee_tree.n.01'),\n",
              " Synset('ketembilla.n.01'),\n",
              " Synset('keurboom.n.01'),\n",
              " Synset('keurboom.n.02'),\n",
              " Synset('kingwood.n.02'),\n",
              " Synset('kino.n.02'),\n",
              " Synset('kowhai.n.01'),\n",
              " Synset('lacebark.n.01'),\n",
              " Synset('lancewood.n.02'),\n",
              " Synset('lanseh_tree.n.01'),\n",
              " Synset('laurelwood.n.01'),\n",
              " Synset('lead_tree.n.01'),\n",
              " Synset('lemonwood.n.02'),\n",
              " Synset('lepidobotrys.n.01'),\n",
              " Synset('linden.n.02'),\n",
              " Synset('locust_tree.n.01'),\n",
              " Synset('mahogany.n.02'),\n",
              " Synset('manila_tamarind.n.01'),\n",
              " Synset('marblewood.n.02'),\n",
              " Synset('maria.n.02'),\n",
              " Synset('marmalade_tree.n.01'),\n",
              " Synset('mayeng.n.01'),\n",
              " Synset('mescal_bean.n.01'),\n",
              " Synset('millettia.n.01'),\n",
              " Synset('montezuma.n.01'),\n",
              " Synset('msasa.n.01'),\n",
              " Synset('nakedwood.n.01'),\n",
              " Synset('necklace_tree.n.01'),\n",
              " Synset('neem.n.01'),\n",
              " Synset('nitta_tree.n.01'),\n",
              " Synset('oak.n.02'),\n",
              " Synset('oak_chestnut.n.01'),\n",
              " Synset('obeche.n.02'),\n",
              " Synset('opepe.n.01'),\n",
              " Synset('padauk.n.01'),\n",
              " Synset('palm.n.03'),\n",
              " Synset('palo_verde.n.01'),\n",
              " Synset('pandanus.n.02'),\n",
              " Synset('pepper_tree.n.01'),\n",
              " Synset('pepper_tree.n.02'),\n",
              " Synset('peruvian_balsam.n.01'),\n",
              " Synset('plane_tree.n.01'),\n",
              " Synset('pollard.n.01'),\n",
              " Synset('poon.n.02'),\n",
              " Synset('prickly_ash.n.01'),\n",
              " Synset('prickly_ash.n.02'),\n",
              " Synset('princewood.n.01'),\n",
              " Synset('puka.n.02'),\n",
              " Synset('quandong.n.01'),\n",
              " Synset('quandong.n.03'),\n",
              " Synset('quira.n.02'),\n",
              " Synset('red_sandalwood.n.02'),\n",
              " Synset('red_silk-cotton_tree.n.01'),\n",
              " Synset('ribbon_tree.n.01'),\n",
              " Synset('rose_chestnut.n.01'),\n",
              " Synset('rosewood.n.02'),\n",
              " Synset('sandalwood_tree.n.01'),\n",
              " Synset('sapling.n.01'),\n",
              " Synset('satinwood.n.03'),\n",
              " Synset('scarlet_wisteria_tree.n.01'),\n",
              " Synset('scrub_beefwood.n.01'),\n",
              " Synset('shade_tree.n.01'),\n",
              " Synset('shaving-brush_tree.n.01'),\n",
              " Synset('shingle_tree.n.01'),\n",
              " Synset('silver_ash.n.01'),\n",
              " Synset('silver_tree.n.01'),\n",
              " Synset('silver_tree.n.02'),\n",
              " Synset('sissoo.n.01'),\n",
              " Synset('snag.n.02'),\n",
              " Synset('soapberry.n.01'),\n",
              " Synset('souari.n.01'),\n",
              " Synset('southern_beech.n.01'),\n",
              " Synset('spanish_tamarind.n.01'),\n",
              " Synset('tanbark_oak.n.01'),\n",
              " Synset('teak.n.02'),\n",
              " Synset('timber_tree.n.01'),\n",
              " Synset('tipu.n.01'),\n",
              " Synset('tolu_tree.n.01'),\n",
              " Synset('tree_of_knowledge.n.01'),\n",
              " Synset('treelet.n.01'),\n",
              " Synset('trifoliate_orange.n.01'),\n",
              " Synset('tulipwood_tree.n.01'),\n",
              " Synset('turreae.n.01'),\n",
              " Synset('wheel_tree.n.01'),\n",
              " Synset('white_mangrove.n.01'),\n",
              " Synset('white_mangrove.n.02'),\n",
              " Synset('wild_fig.n.02'),\n",
              " Synset('wild_medlar.n.01'),\n",
              " Synset('wild_tamarind.n.02'),\n",
              " Synset('willow.n.01'),\n",
              " Synset('winter's_bark.n.02'),\n",
              " Synset('yellowwood.n.02'),\n",
              " Synset('zebrawood.n.02')]"
            ]
          },
          "metadata": {},
          "execution_count": 13
        }
      ]
    },
    {
      "cell_type": "markdown",
      "source": [
        "### Meronyms / holonyms"
      ],
      "metadata": {
        "id": "LDZyN8MgPtnO"
      }
    },
    {
      "cell_type": "code",
      "source": [
        "tree_synset.part_meronyms()"
      ],
      "metadata": {
        "colab": {
          "base_uri": "https://localhost:8080/"
        },
        "id": "VpRT2z20Vre_",
        "outputId": "8a9ac9e6-1d9b-4649-f652-413c97692ecb"
      },
      "execution_count": null,
      "outputs": [
        {
          "output_type": "execute_result",
          "data": {
            "text/plain": [
              "[Synset('burl.n.02'),\n",
              " Synset('crown.n.07'),\n",
              " Synset('limb.n.02'),\n",
              " Synset('stump.n.01'),\n",
              " Synset('trunk.n.01')]"
            ]
          },
          "metadata": {},
          "execution_count": 14
        }
      ]
    },
    {
      "cell_type": "code",
      "source": [
        "tree_synset.member_meronyms()"
      ],
      "metadata": {
        "colab": {
          "base_uri": "https://localhost:8080/"
        },
        "id": "8ou26OSiVsR4",
        "outputId": "2204b985-f217-44fd-92b2-85e85693b720"
      },
      "execution_count": null,
      "outputs": [
        {
          "output_type": "execute_result",
          "data": {
            "text/plain": [
              "[]"
            ]
          },
          "metadata": {},
          "execution_count": 15
        }
      ]
    },
    {
      "cell_type": "code",
      "source": [
        "wn.synsets(\"flock\")[1].member_meronyms()"
      ],
      "metadata": {
        "colab": {
          "base_uri": "https://localhost:8080/"
        },
        "id": "giSsH9wiVyoI",
        "outputId": "605b1d99-5ec3-4224-e917-73e09200b16d"
      },
      "execution_count": null,
      "outputs": [
        {
          "output_type": "execute_result",
          "data": {
            "text/plain": [
              "[Synset('bird.n.01')]"
            ]
          },
          "metadata": {},
          "execution_count": 16
        }
      ]
    },
    {
      "cell_type": "code",
      "source": [
        "wn.synsets(\"flock\")[1].definition()"
      ],
      "metadata": {
        "colab": {
          "base_uri": "https://localhost:8080/",
          "height": 36
        },
        "id": "HG7yEUW4XINN",
        "outputId": "71fdfe04-b4e2-42b1-9b00-5d5738063b37"
      },
      "execution_count": null,
      "outputs": [
        {
          "output_type": "execute_result",
          "data": {
            "text/plain": [
              "'a group of birds'"
            ],
            "application/vnd.google.colaboratory.intrinsic+json": {
              "type": "string"
            }
          },
          "metadata": {},
          "execution_count": 17
        }
      ]
    },
    {
      "cell_type": "code",
      "source": [
        "bird_synset = wn.synsets(\"flock\")[1].member_meronyms()[0]"
      ],
      "metadata": {
        "id": "QUnLbchyc78r"
      },
      "execution_count": null,
      "outputs": []
    },
    {
      "cell_type": "markdown",
      "source": [
        "#### Back to hypernyms"
      ],
      "metadata": {
        "id": "ARuzJVkt7oZp"
      }
    },
    {
      "cell_type": "code",
      "source": [
        "s = bird_synset\n",
        "for i in range(5):\n",
        "  print((\"%%%ds%%s %%s\" % (5-i)) % (\"\", s.name(), s.definition()))\n",
        "  s = s.hypernyms()[0]\n"
      ],
      "metadata": {
        "colab": {
          "base_uri": "https://localhost:8080/"
        },
        "id": "86pjuFi4dHt7",
        "outputId": "7176268c-bed5-405b-e059-b3024a023e45"
      },
      "execution_count": null,
      "outputs": [
        {
          "output_type": "stream",
          "name": "stdout",
          "text": [
            "     bird.n.01 warm-blooded egg-laying vertebrates characterized by feathers and forelimbs modified as wings\n",
            "    vertebrate.n.01 animals having a bony or cartilaginous skeleton with a segmented spinal column and a large brain enclosed in a skull or cranium\n",
            "   chordate.n.01 any animal of the phylum Chordata having a notochord or spinal column\n",
            "  animal.n.01 a living organism characterized by voluntary movement\n",
            " organism.n.01 a living thing that has (or can develop) the ability to act or function independently\n"
          ]
        }
      ]
    },
    {
      "cell_type": "code",
      "source": [
        "sorted(bird_synset.hypernym_distances(), key=lambda t: t[1])"
      ],
      "metadata": {
        "colab": {
          "base_uri": "https://localhost:8080/"
        },
        "id": "zClZLkB8dE_c",
        "outputId": "0404886e-439c-4f22-e951-26e77e1ef80e"
      },
      "execution_count": null,
      "outputs": [
        {
          "output_type": "execute_result",
          "data": {
            "text/plain": [
              "[(Synset('bird.n.01'), 0),\n",
              " (Synset('vertebrate.n.01'), 1),\n",
              " (Synset('chordate.n.01'), 2),\n",
              " (Synset('animal.n.01'), 3),\n",
              " (Synset('organism.n.01'), 4),\n",
              " (Synset('living_thing.n.01'), 5),\n",
              " (Synset('whole.n.02'), 6),\n",
              " (Synset('object.n.01'), 7),\n",
              " (Synset('physical_entity.n.01'), 8),\n",
              " (Synset('entity.n.01'), 9)]"
            ]
          },
          "metadata": {},
          "execution_count": 20
        }
      ]
    },
    {
      "cell_type": "code",
      "source": [
        "[(s, s.definition()) for s in wn.synsets(\"human\")]"
      ],
      "metadata": {
        "colab": {
          "base_uri": "https://localhost:8080/"
        },
        "id": "R-8xVmqtkuZW",
        "outputId": "d4f6dcee-c899-4bf1-d92b-7862c70ff13f"
      },
      "execution_count": null,
      "outputs": [
        {
          "output_type": "execute_result",
          "data": {
            "text/plain": [
              "[(Synset('homo.n.02'),\n",
              "  'any living or extinct member of the family Hominidae characterized by superior intelligence, articulate speech, and erect carriage'),\n",
              " (Synset('human.a.01'), 'characteristic of humanity'),\n",
              " (Synset('human.a.02'), 'relating to a person'),\n",
              " (Synset('human.a.03'),\n",
              "  'having human form or attributes as opposed to those of animals or divine beings')]"
            ]
          },
          "metadata": {},
          "execution_count": 21
        }
      ]
    },
    {
      "cell_type": "code",
      "source": [
        "human_synset = wn.synsets(\"human\", pos=\"n\")[0]"
      ],
      "metadata": {
        "id": "Qei7umFulzrK"
      },
      "execution_count": null,
      "outputs": []
    },
    {
      "cell_type": "code",
      "source": [
        "sorted(human_synset.hypernym_distances(), key=lambda t: t[1])"
      ],
      "metadata": {
        "colab": {
          "base_uri": "https://localhost:8080/"
        },
        "id": "bx-8ofNpWEXC",
        "outputId": "5cf80db1-d4c0-4b01-9430-7b33459e5f02"
      },
      "execution_count": null,
      "outputs": [
        {
          "output_type": "execute_result",
          "data": {
            "text/plain": [
              "[(Synset('homo.n.02'), 0),\n",
              " (Synset('hominid.n.01'), 1),\n",
              " (Synset('primate.n.02'), 2),\n",
              " (Synset('placental.n.01'), 3),\n",
              " (Synset('mammal.n.01'), 4),\n",
              " (Synset('vertebrate.n.01'), 5),\n",
              " (Synset('chordate.n.01'), 6),\n",
              " (Synset('animal.n.01'), 7),\n",
              " (Synset('organism.n.01'), 8),\n",
              " (Synset('living_thing.n.01'), 9),\n",
              " (Synset('whole.n.02'), 10),\n",
              " (Synset('object.n.01'), 11),\n",
              " (Synset('physical_entity.n.01'), 12),\n",
              " (Synset('entity.n.01'), 13)]"
            ]
          },
          "metadata": {},
          "execution_count": 23
        }
      ]
    },
    {
      "cell_type": "code",
      "source": [
        "human_synset.lowest_common_hypernyms(bird_synset)"
      ],
      "metadata": {
        "colab": {
          "base_uri": "https://localhost:8080/"
        },
        "id": "BRwfJsDWl-BS",
        "outputId": "89bfc18c-0e11-4096-a4a9-d8f32204b3e1"
      },
      "execution_count": null,
      "outputs": [
        {
          "output_type": "execute_result",
          "data": {
            "text/plain": [
              "[Synset('vertebrate.n.01')]"
            ]
          },
          "metadata": {},
          "execution_count": 24
        }
      ]
    },
    {
      "cell_type": "code",
      "source": [
        "oyster_synset = wn.synsets(\"oyster\", pos=\"n\")[0]"
      ],
      "metadata": {
        "id": "ccdMTzIz9WCa"
      },
      "execution_count": null,
      "outputs": []
    },
    {
      "cell_type": "code",
      "source": [
        "oyster_synset.lowest_common_hypernyms(bird_synset)"
      ],
      "metadata": {
        "colab": {
          "base_uri": "https://localhost:8080/"
        },
        "id": "-vPOOTZ19e4V",
        "outputId": "23eaf94b-84f4-4bef-b0ca-73e5d2adc2af"
      },
      "execution_count": null,
      "outputs": [
        {
          "output_type": "execute_result",
          "data": {
            "text/plain": [
              "[Synset('animal.n.01')]"
            ]
          },
          "metadata": {},
          "execution_count": 26
        }
      ]
    },
    {
      "cell_type": "code",
      "source": [
        "human_synset.lowest_common_hypernyms(wn.synsets(\"monkey\")[0])"
      ],
      "metadata": {
        "colab": {
          "base_uri": "https://localhost:8080/"
        },
        "id": "esfquGajmHTM",
        "outputId": "00eec21d-7664-4e48-da5a-0d4993cb79bb"
      },
      "execution_count": null,
      "outputs": [
        {
          "output_type": "execute_result",
          "data": {
            "text/plain": [
              "[Synset('primate.n.02')]"
            ]
          },
          "metadata": {},
          "execution_count": 27
        }
      ]
    },
    {
      "cell_type": "code",
      "source": [
        "human_synset.lowest_common_hypernyms(wn.synsets(\"plant\")[1])"
      ],
      "metadata": {
        "colab": {
          "base_uri": "https://localhost:8080/"
        },
        "id": "vMZECRn7_V7Z",
        "outputId": "22b61d2d-9677-4d6e-eb87-c9addb6dd99b"
      },
      "execution_count": null,
      "outputs": [
        {
          "output_type": "execute_result",
          "data": {
            "text/plain": [
              "[Synset('organism.n.01')]"
            ]
          },
          "metadata": {},
          "execution_count": 28
        }
      ]
    },
    {
      "cell_type": "code",
      "source": [
        "god_synsets = wn.synsets(\"God\")\n",
        "[s.definition() for s in god_synsets]"
      ],
      "metadata": {
        "colab": {
          "base_uri": "https://localhost:8080/"
        },
        "id": "gOnVzu6xWe-2",
        "outputId": "87ddace3-97d4-4fa7-b166-3db29ab33ddb"
      },
      "execution_count": null,
      "outputs": [
        {
          "output_type": "execute_result",
          "data": {
            "text/plain": [
              "['the supernatural being conceived as the perfect and omnipotent and omniscient originator and ruler of the universe; the object of worship in monotheistic religions',\n",
              " 'any supernatural being worshipped as controlling some part of the world or some aspect of life or who is the personification of a force',\n",
              " 'a man of such superior qualities that he seems like a deity to other people',\n",
              " 'a material effigy that is worshipped']"
            ]
          },
          "metadata": {},
          "execution_count": 29
        }
      ]
    },
    {
      "cell_type": "code",
      "source": [
        "human_synset.lowest_common_hypernyms(god_synsets[0])"
      ],
      "metadata": {
        "colab": {
          "base_uri": "https://localhost:8080/"
        },
        "id": "SkE5UU5TWb1n",
        "outputId": "186ceea0-5f96-47ef-86fb-85c2de36b516"
      },
      "execution_count": null,
      "outputs": [
        {
          "output_type": "execute_result",
          "data": {
            "text/plain": [
              "[Synset('entity.n.01')]"
            ]
          },
          "metadata": {},
          "execution_count": 30
        }
      ]
    },
    {
      "cell_type": "code",
      "source": [
        "human_synset.lowest_common_hypernyms(god_synsets[3])\n",
        "human_synset.lowest_common_hypernyms(god_synsets[3])[0].definition()"
      ],
      "metadata": {
        "colab": {
          "base_uri": "https://localhost:8080/",
          "height": 36
        },
        "id": "sjGSq-ThW9IY",
        "outputId": "f85a16f6-0cbb-4f77-d304-fa4d9e38b9f9"
      },
      "execution_count": null,
      "outputs": [
        {
          "output_type": "execute_result",
          "data": {
            "text/plain": [
              "'an assemblage of parts that is regarded as a single entity'"
            ],
            "application/vnd.google.colaboratory.intrinsic+json": {
              "type": "string"
            }
          },
          "metadata": {},
          "execution_count": 31
        }
      ]
    },
    {
      "cell_type": "code",
      "source": [
        "god_synsets[1].hyponyms()"
      ],
      "metadata": {
        "colab": {
          "base_uri": "https://localhost:8080/"
        },
        "id": "m7MMuWdNXVxP",
        "outputId": "a95c1c09-9d87-49f0-ad4e-4b1687c06049"
      },
      "execution_count": null,
      "outputs": [
        {
          "output_type": "execute_result",
          "data": {
            "text/plain": [
              "[Synset('anglo-saxon_deity.n.01'),\n",
              " Synset('celtic_deity.n.01'),\n",
              " Synset('chinese_deity.n.01'),\n",
              " Synset('daemon.n.02'),\n",
              " Synset('demiurge.n.01'),\n",
              " Synset('earth-god.n.01'),\n",
              " Synset('egyptian_deity.n.01'),\n",
              " Synset('goddess.n.01'),\n",
              " Synset('greco-roman_deity.n.01'),\n",
              " Synset('greek_deity.n.01'),\n",
              " Synset('hindu_deity.n.01'),\n",
              " Synset('japanese_deity.n.01'),\n",
              " Synset('norse_deity.n.01'),\n",
              " Synset('persian_deity.n.01'),\n",
              " Synset('phrygian_deity.n.01'),\n",
              " Synset('roman_deity.n.01'),\n",
              " Synset('saint.n.01'),\n",
              " Synset('sea_god.n.01'),\n",
              " Synset('semitic_deity.n.01'),\n",
              " Synset('sun_god.n.01'),\n",
              " Synset('teutonic_deity.n.01'),\n",
              " Synset('war_god.n.01'),\n",
              " Synset('zombi.n.02')]"
            ]
          },
          "metadata": {},
          "execution_count": 32
        }
      ]
    },
    {
      "cell_type": "code",
      "source": [
        "god_synsets[1].hyponyms()[10].hyponyms()"
      ],
      "metadata": {
        "colab": {
          "base_uri": "https://localhost:8080/"
        },
        "id": "RaoUSQpLXqjq",
        "outputId": "aa69c5fc-d592-45a1-e1aa-ee4e7ceb449c"
      },
      "execution_count": null,
      "outputs": [
        {
          "output_type": "execute_result",
          "data": {
            "text/plain": [
              "[Synset('aditya.n.01'),\n",
              " Synset('ahura.n.01'),\n",
              " Synset('asvins.n.01'),\n",
              " Synset('avatar.n.02'),\n",
              " Synset('dharma.n.01'),\n",
              " Synset('garuda.n.01'),\n",
              " Synset('marut.n.01'),\n",
              " Synset('ribhus.n.01'),\n",
              " Synset('soma.n.02'),\n",
              " Synset('vajra.n.01')]"
            ]
          },
          "metadata": {},
          "execution_count": 33
        }
      ]
    },
    {
      "cell_type": "code",
      "source": [
        "[s.lemma_names() for s in god_synsets[1].hyponyms()[10].hyponyms()]"
      ],
      "metadata": {
        "colab": {
          "base_uri": "https://localhost:8080/"
        },
        "id": "XlHOKLLTX2y3",
        "outputId": "3cfe9f5b-7422-4960-9647-1d2f255f6aa9"
      },
      "execution_count": null,
      "outputs": [
        {
          "output_type": "execute_result",
          "data": {
            "text/plain": [
              "[['Aditya'],\n",
              " ['Ahura'],\n",
              " ['Asvins'],\n",
              " ['avatar'],\n",
              " ['Dharma'],\n",
              " ['Garuda'],\n",
              " ['Marut'],\n",
              " ['Ribhus', 'Rhibhus'],\n",
              " ['Soma'],\n",
              " ['Vajra']]"
            ]
          },
          "metadata": {},
          "execution_count": 34
        }
      ]
    },
    {
      "cell_type": "code",
      "source": [
        "god_synsets[1].hyponyms()[10].instance_hyponyms()"
      ],
      "metadata": {
        "colab": {
          "base_uri": "https://localhost:8080/"
        },
        "id": "bPUp3qHkaA7p",
        "outputId": "0c1771ba-19c8-4abd-ce01-01d033ef4ef1"
      },
      "execution_count": null,
      "outputs": [
        {
          "output_type": "execute_result",
          "data": {
            "text/plain": [
              "[Synset('aditi.n.01'),\n",
              " Synset('agni.n.01'),\n",
              " Synset('asura.n.01'),\n",
              " Synset('bhaga.n.01'),\n",
              " Synset('bhumi_devi.n.01'),\n",
              " Synset('brahma.n.01'),\n",
              " Synset('brihaspati.n.01'),\n",
              " Synset('chandi.n.01'),\n",
              " Synset('devi.n.01'),\n",
              " Synset('durga.n.01'),\n",
              " Synset('dyaus.n.01'),\n",
              " Synset('ganesh.n.01'),\n",
              " Synset('gauri.n.01'),\n",
              " Synset('hanuman.n.01'),\n",
              " Synset('indra.n.01'),\n",
              " Synset('ka.n.01'),\n",
              " Synset('kali.n.02'),\n",
              " Synset('kama.n.01'),\n",
              " Synset('kartikeya.n.01'),\n",
              " Synset('lakshmi.n.01'),\n",
              " Synset('mara.n.01'),\n",
              " Synset('mitra.n.01'),\n",
              " Synset('parjanya.n.01'),\n",
              " Synset('parvati.n.01'),\n",
              " Synset('prajapati.n.01'),\n",
              " Synset('pushan.n.01'),\n",
              " Synset('rahu.n.01'),\n",
              " Synset('rudra.n.01'),\n",
              " Synset('sarasvati.n.01'),\n",
              " Synset('savitar.n.01'),\n",
              " Synset('shakti.n.01'),\n",
              " Synset('siva.n.01'),\n",
              " Synset('skanda.n.01'),\n",
              " Synset('surya.n.01'),\n",
              " Synset('uma.n.01'),\n",
              " Synset('ushas.n.01'),\n",
              " Synset('varuna.n.01'),\n",
              " Synset('vayu.n.01'),\n",
              " Synset('vishnu.n.01'),\n",
              " Synset('yama.n.01')]"
            ]
          },
          "metadata": {},
          "execution_count": 35
        }
      ]
    },
    {
      "cell_type": "code",
      "source": [
        "tree_synset.hyponyms??"
      ],
      "metadata": {
        "id": "d0phMMcxavjw"
      },
      "execution_count": null,
      "outputs": []
    },
    {
      "cell_type": "code",
      "source": [
        "[s.instance_hyponyms() for s in god_synsets[1].hyponyms()[10].hyponyms()]"
      ],
      "metadata": {
        "colab": {
          "base_uri": "https://localhost:8080/"
        },
        "id": "ze0yhjX4Zz9D",
        "outputId": "c2fa5754-2c10-4fd7-f823-79130989c6d7"
      },
      "execution_count": null,
      "outputs": [
        {
          "output_type": "execute_result",
          "data": {
            "text/plain": [
              "[[],\n",
              " [],\n",
              " [],\n",
              " [Synset('jagannath.n.01'),\n",
              "  Synset('kalki.n.01'),\n",
              "  Synset('krishna.n.01'),\n",
              "  Synset('rama.n.01')],\n",
              " [],\n",
              " [],\n",
              " [],\n",
              " [],\n",
              " [],\n",
              " []]"
            ]
          },
          "metadata": {},
          "execution_count": 37
        }
      ]
    },
    {
      "cell_type": "code",
      "source": [
        "shiva_synset = wn.synsets('shiva')[1]\n",
        "shiva_synset.instance_hypernyms()\n"
      ],
      "metadata": {
        "colab": {
          "base_uri": "https://localhost:8080/"
        },
        "id": "tAwwKyzaZH4I",
        "outputId": "d33afd2e-26f5-4df2-854b-5ad106c4b642"
      },
      "execution_count": null,
      "outputs": [
        {
          "output_type": "execute_result",
          "data": {
            "text/plain": [
              "[Synset('hindu_deity.n.01')]"
            ]
          },
          "metadata": {},
          "execution_count": 38
        }
      ]
    },
    {
      "cell_type": "code",
      "source": [
        "[s.definition() for s in wn.synsets('zombi')]"
      ],
      "metadata": {
        "colab": {
          "base_uri": "https://localhost:8080/"
        },
        "id": "GyQUCg0eYul3",
        "outputId": "f114d40c-d220-4189-a539-223034aa65b5"
      },
      "execution_count": null,
      "outputs": [
        {
          "output_type": "execute_result",
          "data": {
            "text/plain": [
              "['(voodooism) a spirit or supernatural force that reanimates a dead body',\n",
              " 'a god of voodoo cults of African origin worshipped especially in West Indies',\n",
              " 'a dead body that has been brought back to life by a supernatural force',\n",
              " 'someone who acts or responds in a mechanical or apathetic way',\n",
              " 'several kinds of rum with fruit juice and usually apricot liqueur']"
            ]
          },
          "metadata": {},
          "execution_count": 39
        }
      ]
    },
    {
      "cell_type": "code",
      "source": [
        "[s.lowest_common_hypernyms(god_synsets[1]) for s in wn.synsets('zombi')]"
      ],
      "metadata": {
        "colab": {
          "base_uri": "https://localhost:8080/"
        },
        "id": "9DYt4H8wYLyo",
        "outputId": "82093ffb-ae63-4505-94a7-edc97a49775b"
      },
      "execution_count": null,
      "outputs": [
        {
          "output_type": "execute_result",
          "data": {
            "text/plain": [
              "[[Synset('spiritual_being.n.01')],\n",
              " [Synset('deity.n.01')],\n",
              " [Synset('entity.n.01')],\n",
              " [Synset('entity.n.01')],\n",
              " [Synset('abstraction.n.06')]]"
            ]
          },
          "metadata": {},
          "execution_count": 40
        }
      ]
    },
    {
      "cell_type": "code",
      "source": [
        "wn.synsets('zombi')[2].hyponyms()"
      ],
      "metadata": {
        "colab": {
          "base_uri": "https://localhost:8080/"
        },
        "id": "M0Ow9HuOYXD5",
        "outputId": "9be6a64c-8525-4a45-e978-b899c2b32ec1"
      },
      "execution_count": null,
      "outputs": [
        {
          "output_type": "execute_result",
          "data": {
            "text/plain": [
              "[]"
            ]
          },
          "metadata": {},
          "execution_count": 41
        }
      ]
    },
    {
      "cell_type": "code",
      "source": [
        "[s.definition() for s in wn.synsets('weed')]"
      ],
      "metadata": {
        "colab": {
          "base_uri": "https://localhost:8080/"
        },
        "id": "DPeP69MZcqKf",
        "outputId": "2ccbbdac-bb17-4ea0-f5a5-d1bbf78a3053"
      },
      "execution_count": null,
      "outputs": [
        {
          "output_type": "execute_result",
          "data": {
            "text/plain": [
              "['any plant that crowds out cultivated plants',\n",
              " 'a black band worn by a man (on the arm or hat) as a sign of mourning',\n",
              " 'street names for marijuana',\n",
              " 'clear of weeds']"
            ]
          },
          "metadata": {},
          "execution_count": 42
        }
      ]
    },
    {
      "cell_type": "code",
      "source": [
        "[s.definition() for s in wn.synsets('boomer')]"
      ],
      "metadata": {
        "colab": {
          "base_uri": "https://localhost:8080/"
        },
        "id": "T_pYDWVUczfJ",
        "outputId": "d39d77e3-ab91-41ae-966c-448a6383d082"
      },
      "execution_count": null,
      "outputs": [
        {
          "output_type": "execute_result",
          "data": {
            "text/plain": [
              "['a member of the baby boom generation in the 1950s']"
            ]
          },
          "metadata": {},
          "execution_count": 43
        }
      ]
    },
    {
      "cell_type": "code",
      "source": [
        "# Other ideas?\n",
        "[s.definition() for s in wn.synsets('Dana')]"
      ],
      "metadata": {
        "id": "ou9CYkj1Xf06",
        "colab": {
          "base_uri": "https://localhost:8080/"
        },
        "outputId": "986ac0d9-70c7-4434-8b4c-445134a4d78d"
      },
      "execution_count": null,
      "outputs": [
        {
          "output_type": "execute_result",
          "data": {
            "text/plain": [
              "['Celtic goddess who was the mother of the Tuatha De Danann; identified with the Welsh Don']"
            ]
          },
          "metadata": {},
          "execution_count": 44
        }
      ]
    },
    {
      "cell_type": "markdown",
      "source": [
        "### Verbs"
      ],
      "metadata": {
        "id": "7A6SMWXKXg1B"
      }
    },
    {
      "cell_type": "code",
      "source": [
        "wn.synsets('walk') # polysemy - multiple POS (morphological ambiguity)\n"
      ],
      "metadata": {
        "colab": {
          "base_uri": "https://localhost:8080/"
        },
        "id": "mP3zOimcXixF",
        "outputId": "9ebba457-b5e8-4b88-8953-aeab3b77f388"
      },
      "execution_count": null,
      "outputs": [
        {
          "output_type": "execute_result",
          "data": {
            "text/plain": [
              "[Synset('walk.n.01'),\n",
              " Synset('base_on_balls.n.01'),\n",
              " Synset('walk.n.03'),\n",
              " Synset('walk.n.04'),\n",
              " Synset('walk.n.05'),\n",
              " Synset('walk.n.06'),\n",
              " Synset('walk_of_life.n.01'),\n",
              " Synset('walk.v.01'),\n",
              " Synset('walk.v.02'),\n",
              " Synset('walk.v.03'),\n",
              " Synset('walk.v.04'),\n",
              " Synset('walk.v.05'),\n",
              " Synset('walk.v.06'),\n",
              " Synset('walk.v.07'),\n",
              " Synset('walk.v.08'),\n",
              " Synset('walk.v.09'),\n",
              " Synset('walk.v.10')]"
            ]
          },
          "metadata": {},
          "execution_count": 45
        }
      ]
    },
    {
      "cell_type": "code",
      "source": [
        "wn.synsets('key')"
      ],
      "metadata": {
        "id": "8cvQ1-K1eHP3",
        "colab": {
          "base_uri": "https://localhost:8080/"
        },
        "outputId": "c93bfca8-5bc7-4d77-8474-2f66207b5e93"
      },
      "execution_count": null,
      "outputs": [
        {
          "output_type": "execute_result",
          "data": {
            "text/plain": [
              "[Synset('key.n.01'),\n",
              " Synset('key.n.02'),\n",
              " Synset('key.n.03'),\n",
              " Synset('key.n.04'),\n",
              " Synset('key.n.05'),\n",
              " Synset('samara.n.01'),\n",
              " Synset('key.n.07'),\n",
              " Synset('key.n.08'),\n",
              " Synset('key.n.09'),\n",
              " Synset('key.n.10'),\n",
              " Synset('key.n.11'),\n",
              " Synset('key.n.12'),\n",
              " Synset('winder.n.02'),\n",
              " Synset('keystone.n.02'),\n",
              " Synset('key.n.15'),\n",
              " Synset('identify.v.05'),\n",
              " Synset('key.v.02'),\n",
              " Synset('key.v.03'),\n",
              " Synset('key.v.04'),\n",
              " Synset('key.v.05'),\n",
              " Synset('cardinal.s.01')]"
            ]
          },
          "metadata": {},
          "execution_count": 46
        }
      ]
    },
    {
      "cell_type": "code",
      "source": [
        "synsets_walk = wn.synsets('walk', pos='v')\n",
        "synsets_walk"
      ],
      "metadata": {
        "colab": {
          "base_uri": "https://localhost:8080/"
        },
        "id": "YHFQmUO-nDFe",
        "outputId": "8140a32b-b6d3-418e-bac2-91512157d7d4"
      },
      "execution_count": null,
      "outputs": [
        {
          "output_type": "execute_result",
          "data": {
            "text/plain": [
              "[Synset('walk.v.01'),\n",
              " Synset('walk.v.02'),\n",
              " Synset('walk.v.03'),\n",
              " Synset('walk.v.04'),\n",
              " Synset('walk.v.05'),\n",
              " Synset('walk.v.06'),\n",
              " Synset('walk.v.07'),\n",
              " Synset('walk.v.08'),\n",
              " Synset('walk.v.09'),\n",
              " Synset('walk.v.10')]"
            ]
          },
          "metadata": {},
          "execution_count": 47
        }
      ]
    },
    {
      "cell_type": "code",
      "source": [
        "for i, s in enumerate(synsets_walk):\n",
        "  if s.pos() == 'v':\n",
        "    print(\"%d. %s: %s\" % (i, s.definition(), [l.name() for l in s.lemmas()]))"
      ],
      "metadata": {
        "colab": {
          "base_uri": "https://localhost:8080/"
        },
        "id": "o_AFUU1uZemE",
        "outputId": "7b8b5e0d-9da9-48bd-a0d7-f8d23673f2fc"
      },
      "execution_count": null,
      "outputs": [
        {
          "output_type": "stream",
          "name": "stdout",
          "text": [
            "0. use one's feet to advance; advance by steps: ['walk']\n",
            "1. accompany or escort: ['walk']\n",
            "2. obtain a base on balls: ['walk']\n",
            "3. traverse or cover by walking: ['walk']\n",
            "4. give a base on balls to: ['walk']\n",
            "5. live or behave in a specified manner: ['walk']\n",
            "6. be or act in association with: ['walk']\n",
            "7. walk at a pace: ['walk']\n",
            "8. make walk: ['walk']\n",
            "9. take a walk; go for a walk; walk for pleasure: ['walk', 'take_the_air']\n"
          ]
        }
      ]
    },
    {
      "cell_type": "code",
      "source": [
        "synsets_walk[0].hypernyms()"
      ],
      "metadata": {
        "colab": {
          "base_uri": "https://localhost:8080/"
        },
        "id": "ulbRYL-bZ77g",
        "outputId": "4d20cd7d-ecc9-430c-83ef-69dc78f66855"
      },
      "execution_count": null,
      "outputs": [
        {
          "output_type": "execute_result",
          "data": {
            "text/plain": [
              "[Synset('travel.v.01')]"
            ]
          },
          "metadata": {},
          "execution_count": 49
        }
      ]
    },
    {
      "cell_type": "code",
      "source": [
        "bird_synset.entailments()"
      ],
      "metadata": {
        "colab": {
          "base_uri": "https://localhost:8080/"
        },
        "id": "Qx0QERhUe4vH",
        "outputId": "66ffae9c-6a7b-43a7-b1f5-9387e82d68bc"
      },
      "execution_count": null,
      "outputs": [
        {
          "output_type": "execute_result",
          "data": {
            "text/plain": [
              "[]"
            ]
          },
          "metadata": {},
          "execution_count": 50
        }
      ]
    },
    {
      "cell_type": "code",
      "source": [
        "synset_eat = wn.synsets('eat')[0]\n",
        "synset_eat.entailments()"
      ],
      "metadata": {
        "colab": {
          "base_uri": "https://localhost:8080/"
        },
        "id": "MO3NL0DScEKj",
        "outputId": "a399f181-8534-459f-f0c8-f8b792176ad6"
      },
      "execution_count": null,
      "outputs": [
        {
          "output_type": "execute_result",
          "data": {
            "text/plain": [
              "[Synset('chew.v.01'), Synset('swallow.v.01')]"
            ]
          },
          "metadata": {},
          "execution_count": 51
        }
      ]
    },
    {
      "cell_type": "code",
      "source": [
        "s = [synset_eat]\n",
        "while s:\n",
        "  print(s[0].name(), end = \" -> \")\n",
        "  s = s[0].entailments()"
      ],
      "metadata": {
        "colab": {
          "base_uri": "https://localhost:8080/"
        },
        "id": "Piniy2jCnni-",
        "outputId": "9e9a88ec-022e-416b-c7dc-3184f3e667a3"
      },
      "execution_count": null,
      "outputs": [
        {
          "output_type": "stream",
          "name": "stdout",
          "text": [
            "eat.v.01 -> chew.v.01 -> "
          ]
        }
      ]
    },
    {
      "cell_type": "code",
      "source": [
        "s = [synsets_walk[0]]\n",
        "while s:\n",
        "  print(s[0].name(), end = \" -> \")\n",
        "  s = s[0].entailments()"
      ],
      "metadata": {
        "colab": {
          "base_uri": "https://localhost:8080/"
        },
        "id": "2_KsAjPjAW8Y",
        "outputId": "18e53b72-9f37-4296-ed5e-b911f6653e0a"
      },
      "execution_count": null,
      "outputs": [
        {
          "output_type": "stream",
          "name": "stdout",
          "text": [
            "walk.v.01 -> step.v.01 -> "
          ]
        }
      ]
    },
    {
      "cell_type": "code",
      "source": [
        "walk_lemma = synsets_walk[0].lemmas()[0]"
      ],
      "metadata": {
        "id": "brDPD15GfoTR"
      },
      "execution_count": null,
      "outputs": []
    },
    {
      "cell_type": "code",
      "source": [
        "walk_synset = synsets_walk[0]"
      ],
      "metadata": {
        "id": "3nNSzqhQf_0f"
      },
      "execution_count": null,
      "outputs": []
    },
    {
      "cell_type": "code",
      "source": [
        "god_synsets[2].also_sees()"
      ],
      "metadata": {
        "colab": {
          "base_uri": "https://localhost:8080/"
        },
        "id": "E48eaEM8fsi5",
        "outputId": "cb27cf59-8020-4233-c856-758dea670841"
      },
      "execution_count": null,
      "outputs": [
        {
          "output_type": "execute_result",
          "data": {
            "text/plain": [
              "[]"
            ]
          },
          "metadata": {},
          "execution_count": 56
        }
      ]
    },
    {
      "cell_type": "markdown",
      "source": [
        "## Adjectives"
      ],
      "metadata": {
        "id": "XfRHObaOpeqM"
      }
    },
    {
      "cell_type": "code",
      "source": [
        "wn.synsets(\"pretty\", pos=\"a\")"
      ],
      "metadata": {
        "colab": {
          "base_uri": "https://localhost:8080/"
        },
        "id": "xHyU5aevpwzl",
        "outputId": "e84ae648-ebd3-4fa8-bd32-37b6e3cf9220"
      },
      "execution_count": null,
      "outputs": [
        {
          "output_type": "execute_result",
          "data": {
            "text/plain": [
              "[Synset('pretty.s.01'), Synset('pretty.s.02')]"
            ]
          },
          "metadata": {},
          "execution_count": 57
        }
      ]
    },
    {
      "cell_type": "code",
      "source": [
        "print(wn.synsets(\"pretty\")[0].definition())\n",
        "print(wn.synsets(\"pretty\")[1].definition())\n",
        "pretty_synset = wn.synsets(\"pretty\")[0]"
      ],
      "metadata": {
        "colab": {
          "base_uri": "https://localhost:8080/"
        },
        "id": "foJeB4k1p8M7",
        "outputId": "e3561b94-4056-4762-c75a-492cc6723439"
      },
      "execution_count": null,
      "outputs": [
        {
          "output_type": "stream",
          "name": "stdout",
          "text": [
            "pleasing by delicacy or grace; not imposing\n",
            "(used ironically) unexpectedly bad\n"
          ]
        }
      ]
    },
    {
      "cell_type": "code",
      "source": [
        "pretty_synset.definition()"
      ],
      "metadata": {
        "colab": {
          "base_uri": "https://localhost:8080/",
          "height": 36
        },
        "id": "FkwrbUxdv6-V",
        "outputId": "ab3d3733-e964-4c0a-ffbf-6625880e9cf4"
      },
      "execution_count": null,
      "outputs": [
        {
          "output_type": "execute_result",
          "data": {
            "text/plain": [
              "'pleasing by delicacy or grace; not imposing'"
            ],
            "application/vnd.google.colaboratory.intrinsic+json": {
              "type": "string"
            }
          },
          "metadata": {},
          "execution_count": 59
        }
      ]
    },
    {
      "cell_type": "code",
      "source": [
        "lemmas = wn.synsets(\"good\", pos='a')[0].lemmas()\n",
        "for l in lemmas:\n",
        "  print(l.antonyms())"
      ],
      "metadata": {
        "colab": {
          "base_uri": "https://localhost:8080/"
        },
        "id": "MX-ckQZiwFVP",
        "outputId": "886c7ac5-6973-4571-e995-c36e481793fd"
      },
      "execution_count": null,
      "outputs": [
        {
          "output_type": "stream",
          "name": "stdout",
          "text": [
            "[Lemma('bad.a.01.bad')]\n"
          ]
        }
      ]
    },
    {
      "cell_type": "code",
      "source": [
        "lemmas = sum([s.lemmas() for s in wn.synsets(\"good\")], [])\n",
        "for l in lemmas:\n",
        "  print(l.antonyms())"
      ],
      "metadata": {
        "colab": {
          "base_uri": "https://localhost:8080/"
        },
        "id": "nkVLPxvegy_w",
        "outputId": "a0133d9c-dded-40f7-cba5-1eefccea04ff"
      },
      "execution_count": null,
      "outputs": [
        {
          "output_type": "stream",
          "name": "stdout",
          "text": [
            "[]\n",
            "[Lemma('evil.n.03.evil')]\n",
            "[Lemma('evil.n.03.evilness')]\n",
            "[Lemma('bad.n.01.bad')]\n",
            "[Lemma('bad.n.01.badness')]\n",
            "[]\n",
            "[]\n",
            "[]\n",
            "[Lemma('bad.a.01.bad')]\n",
            "[]\n",
            "[]\n",
            "[Lemma('evil.a.01.evil')]\n",
            "[]\n",
            "[]\n",
            "[]\n",
            "[]\n",
            "[]\n",
            "[]\n",
            "[]\n",
            "[]\n",
            "[]\n",
            "[]\n",
            "[]\n",
            "[]\n",
            "[]\n",
            "[]\n",
            "[]\n",
            "[]\n",
            "[]\n",
            "[]\n",
            "[]\n",
            "[]\n",
            "[]\n",
            "[]\n",
            "[]\n",
            "[]\n",
            "[]\n",
            "[]\n",
            "[]\n",
            "[]\n",
            "[]\n",
            "[]\n",
            "[]\n",
            "[]\n",
            "[]\n",
            "[]\n",
            "[]\n",
            "[]\n",
            "[]\n",
            "[]\n",
            "[]\n",
            "[]\n",
            "[]\n",
            "[]\n",
            "[]\n",
            "[]\n",
            "[]\n",
            "[]\n",
            "[]\n",
            "[]\n",
            "[Lemma('ill.r.01.ill')]\n",
            "[]\n",
            "[]\n",
            "[]\n",
            "[]\n"
          ]
        }
      ]
    },
    {
      "cell_type": "code",
      "source": [
        "lemmas = wn.synsets(\"good\")[1].lemmas()\n",
        "for l in lemmas:\n",
        "  print(l.antonyms())"
      ],
      "metadata": {
        "id": "3NBS5Xzxgeyx",
        "colab": {
          "base_uri": "https://localhost:8080/"
        },
        "outputId": "f595b9dc-ccdb-41b2-eb54-c5808298829d"
      },
      "execution_count": null,
      "outputs": [
        {
          "output_type": "stream",
          "name": "stdout",
          "text": [
            "[Lemma('evil.n.03.evil')]\n",
            "[Lemma('evil.n.03.evilness')]\n"
          ]
        }
      ]
    },
    {
      "cell_type": "markdown",
      "source": [
        "## Morphological forms\n",
        "\n"
      ],
      "metadata": {
        "id": "yXfyMGDrqb9C"
      }
    },
    {
      "cell_type": "code",
      "source": [
        "wn.morphy(\"walking\", pos=\"v\")"
      ],
      "metadata": {
        "colab": {
          "base_uri": "https://localhost:8080/",
          "height": 36
        },
        "id": "LS35D38Qr6aP",
        "outputId": "deb66718-6b0b-4ec5-f82c-b8fda966ae26"
      },
      "execution_count": null,
      "outputs": [
        {
          "output_type": "execute_result",
          "data": {
            "text/plain": [
              "'walk'"
            ],
            "application/vnd.google.colaboratory.intrinsic+json": {
              "type": "string"
            }
          },
          "metadata": {},
          "execution_count": 63
        }
      ]
    },
    {
      "cell_type": "markdown",
      "metadata": {
        "id": "ToJO9XtZ2I7o"
      },
      "source": [
        "## Other languages"
      ]
    },
    {
      "cell_type": "markdown",
      "source": [
        "### Open Multilingual WordNet\n"
      ],
      "metadata": {
        "id": "XaZ9REw74JPo"
      }
    },
    {
      "cell_type": "code",
      "source": [
        "download('omw')"
      ],
      "metadata": {
        "colab": {
          "base_uri": "https://localhost:8080/"
        },
        "id": "g0qrh7ah3_nK",
        "outputId": "13668b21-e1ac-422b-dea3-a472eaa2486f"
      },
      "execution_count": null,
      "outputs": [
        {
          "output_type": "stream",
          "name": "stdout",
          "text": [
            "[nltk_data] Downloading package omw to /root/nltk_data...\n",
            "[nltk_data]   Unzipping corpora/omw.zip.\n"
          ]
        },
        {
          "output_type": "execute_result",
          "data": {
            "text/plain": [
              "True"
            ]
          },
          "metadata": {},
          "execution_count": 64
        }
      ]
    },
    {
      "cell_type": "code",
      "execution_count": null,
      "metadata": {
        "colab": {
          "base_uri": "https://localhost:8080/"
        },
        "id": "-7wi3QUp2I7p",
        "outputId": "ddb9bc8f-5cc9-44bb-d1d8-d20e9f369fc3"
      },
      "outputs": [
        {
          "output_type": "execute_result",
          "data": {
            "text/plain": [
              "['als',\n",
              " 'arb',\n",
              " 'bul',\n",
              " 'cat',\n",
              " 'cmn',\n",
              " 'dan',\n",
              " 'ell',\n",
              " 'eng',\n",
              " 'eus',\n",
              " 'fas',\n",
              " 'fin',\n",
              " 'fra',\n",
              " 'glg',\n",
              " 'heb',\n",
              " 'hrv',\n",
              " 'ind',\n",
              " 'ita',\n",
              " 'jpn',\n",
              " 'nld',\n",
              " 'nno',\n",
              " 'nob',\n",
              " 'pol',\n",
              " 'por',\n",
              " 'qcn',\n",
              " 'slv',\n",
              " 'spa',\n",
              " 'swe',\n",
              " 'tha',\n",
              " 'zsm']"
            ]
          },
          "metadata": {},
          "execution_count": 65
        }
      ],
      "source": [
        "sorted(wn.langs())"
      ]
    },
    {
      "cell_type": "code",
      "execution_count": null,
      "metadata": {
        "id": "P9nfAtop2I7q",
        "colab": {
          "base_uri": "https://localhost:8080/"
        },
        "outputId": "2a73930d-9c67-406c-8626-9f4ccd50042d"
      },
      "outputs": [
        {
          "output_type": "execute_result",
          "data": {
            "text/plain": [
              "['bambin', 'enfant', 'môme']"
            ]
          },
          "metadata": {},
          "execution_count": 66
        }
      ],
      "source": [
        "french_lemmas = kid_synsets[0].lemmas(lang='fra')\n",
        "[l.name() for l in french_lemmas]"
      ]
    },
    {
      "cell_type": "markdown",
      "source": [
        "#### Romanian\n",
        "\n",
        "Romanian WordNet: https://github.com/dumitrescustefan/RoWordNet"
      ],
      "metadata": {
        "id": "96qilkNnDJl2"
      }
    },
    {
      "cell_type": "code",
      "source": [
        "!pip install rowordnet\n",
        "import rowordnet\n",
        "rown = rowordnet.RoWordNet()\n"
      ],
      "metadata": {
        "colab": {
          "base_uri": "https://localhost:8080/"
        },
        "id": "SadfhJ2JDLss",
        "outputId": "df657a9a-6f08-4f8b-82c8-12707ba25b95"
      },
      "execution_count": null,
      "outputs": [
        {
          "output_type": "stream",
          "name": "stdout",
          "text": [
            "Collecting rowordnet\n",
            "  Downloading rowordnet-1.1.0-py3-none-any.whl (11.8 MB)\n",
            "\u001b[K     |████████████████████████████████| 11.8 MB 8.5 MB/s \n",
            "\u001b[?25hRequirement already satisfied: networkx in /usr/local/lib/python3.7/dist-packages (from rowordnet) (2.6.3)\n",
            "Requirement already satisfied: lxml in /usr/local/lib/python3.7/dist-packages (from rowordnet) (4.2.6)\n",
            "Installing collected packages: rowordnet\n",
            "Successfully installed rowordnet-1.1.0\n"
          ]
        }
      ]
    },
    {
      "cell_type": "code",
      "source": [
        "word = 'arbore'\n",
        "synset_ids = rown.synsets(literal=word)\n",
        "print(\"Total number of synsets containing literal '{}': {}\".format(word, len(synset_ids)))\n",
        "print(synset_ids)"
      ],
      "metadata": {
        "colab": {
          "base_uri": "https://localhost:8080/"
        },
        "id": "PpRcagfPDQ72",
        "outputId": "2d27f527-40f6-4df7-e60a-34ea83189cbc"
      },
      "execution_count": null,
      "outputs": [
        {
          "output_type": "stream",
          "name": "stdout",
          "text": [
            "Total number of synsets containing literal 'arbore': 23\n",
            "['ENG30-08102402-n', 'ENG30-12339526-n', 'ENG30-03726760-n', 'ENG30-13912260-n', 'ENG30-12752039-n', 'ENG30-13104059-n', 'ENG30-02946824-n', 'ENG30-02946824-n', 'ENG30-12402840-n', 'ENG30-12690653-n', 'ENG30-12662772-n', 'ENG30-12662772-n', 'ENG30-03127408-n', 'ENG30-11712282-n', 'ENG30-11704791-n', 'ENG30-11640132-n', 'ENG30-12334293-n', 'ENG30-03244231-n', 'ENG30-04472563-n', 'ENG30-04111190-n', 'ENG30-04111190-n', 'ENG30-13111174-n', 'ENG30-04316924-n']\n"
          ]
        }
      ]
    },
    {
      "cell_type": "code",
      "source": [
        "synset_id = synset_ids[4]\n",
        "rown.print_synset(synset_id)"
      ],
      "metadata": {
        "colab": {
          "base_uri": "https://localhost:8080/"
        },
        "id": "BndAAh8XUNfA",
        "outputId": "04e0765c-5d80-4352-b050-01325009d315"
      },
      "execution_count": null,
      "outputs": [
        {
          "output_type": "stream",
          "name": "stdout",
          "text": [
            "Synset: \n",
            "\t  id=ENG30-12752039-n\n",
            "\t  pos=NOUN\n",
            "\t  nonlexicalized=None\n",
            "\t  stamp=None\n",
            "\t  domain=biology\n",
            "\t  definition=Expresie : (Aceraceae); arbore sau arbust din acest gen;\n",
            "\t  sumo=FloweringPlant \n",
            "\t  sumoType=HYPERNYM\n",
            "\t  sentiwn=[0.0, 0.0, 1.0]\n",
            "\t  Literals:\n",
            "\t\t  arbore - 2.6\n",
            "\t\t  arbust - 3.1\n",
            "\t  Outbound relations: \n",
            "\t\t  ENG30-11567411-n - hypernym\n",
            "\t\t  ENG30-12752205-n - member_meronym\n",
            "\t  Inbound relations: \n",
            "\t\t  ENG30-12752205-n - member_holonym\n",
            "\t\t  ENG30-11567411-n - hyponym\n"
          ]
        }
      ]
    },
    {
      "cell_type": "code",
      "source": [
        "synset_object = rown.synset(synset_id)\n",
        "print(synset_object)\n",
        "synset_object = rown(synset_id)\n",
        "print(synset_object)"
      ],
      "metadata": {
        "colab": {
          "base_uri": "https://localhost:8080/"
        },
        "id": "o9dVtoYnURgm",
        "outputId": "23d2f6ea-d735-431e-c27b-4e9ae677dd9e"
      },
      "execution_count": null,
      "outputs": [
        {
          "output_type": "stream",
          "name": "stdout",
          "text": [
            "Synset(id='ENG30-12752039-n', literals=['arbore', 'arbust'], definition='Expresie : (Aceraceae); arbore sau arbust din acest gen;')\n",
            "Synset(id='ENG30-12752039-n', literals=['arbore', 'arbust'], definition='Expresie : (Aceraceae); arbore sau arbust din acest gen;')\n"
          ]
        }
      ]
    },
    {
      "cell_type": "code",
      "source": [
        "literals = synset_object.literals\n",
        "print(\"Synset with id {} has {} literals: {}\".format(synset_object.id, len(literals), literals))"
      ],
      "metadata": {
        "colab": {
          "base_uri": "https://localhost:8080/"
        },
        "id": "mmc1A1tMUSIf",
        "outputId": "eb84ec7f-d814-4cac-aa92-eba9b8e9a5f2"
      },
      "execution_count": null,
      "outputs": [
        {
          "output_type": "stream",
          "name": "stdout",
          "text": [
            "Synset with id ENG30-12752039-n has 2 literals: ['arbore', 'arbust']\n"
          ]
        }
      ]
    },
    {
      "cell_type": "code",
      "source": [
        "definition = synset_object.definition\n",
        "print(\"Defitionion of the synset with id {}: {}\".format(synset_object.id, definition))\n",
        "new_definition = \"This is a new defition\"\n",
        "synset_object.definition = new_definition\n",
        "print(\"New definition of the synset with id {}: {}\".format(synset_object.id, synset_object.definition))"
      ],
      "metadata": {
        "colab": {
          "base_uri": "https://localhost:8080/"
        },
        "id": "fMvAiftdUVi-",
        "outputId": "3c2a2d8b-5211-404b-add6-8c04dad82190"
      },
      "execution_count": null,
      "outputs": [
        {
          "output_type": "stream",
          "name": "stdout",
          "text": [
            "Defitionion of the synset with id ENG30-12752039-n: Expresie : (Aceraceae); arbore sau arbust din acest gen;\n",
            "New definition of the synset with id ENG30-12752039-n: This is a new defition\n"
          ]
        }
      ]
    },
    {
      "cell_type": "code",
      "source": [
        "synsets_id = rown.synsets()\n",
        "print(\"Total number of synsets: {} \\n\".format(len(synsets_id)))"
      ],
      "metadata": {
        "colab": {
          "base_uri": "https://localhost:8080/"
        },
        "id": "LclAOYJyUWH4",
        "outputId": "224cab0c-a53c-4b19-da05-ac7f58b076d8"
      },
      "execution_count": null,
      "outputs": [
        {
          "output_type": "stream",
          "name": "stdout",
          "text": [
            "Total number of synsets: 59348 \n",
            "\n"
          ]
        }
      ]
    },
    {
      "cell_type": "code",
      "source": [
        "from rowordnet import Synset\n",
        "\n",
        "# return all noun synsets\n",
        "synsets_id_nouns = rown.synsets(pos=Synset.Pos.NOUN)\n",
        "print(\"Total number of noun synsets: {}\".format(len(synsets_id_nouns)))\n",
        "# return all verb synsets\n",
        "synsets_id_verbs = rown.synsets(pos=Synset.Pos.VERB)\n",
        "print(\"Total number of verb synsets: {}\".format(len(synsets_id_verbs)))\n",
        "# return all adjective synsets\n",
        "synsets_id_adjectives = rown.synsets(pos=Synset.Pos.ADJECTIVE)\n",
        "print(\"Total number of adjective synsets: {}\".format(len(synsets_id_adjectives)))\n",
        "# return all adverb synsets\n",
        "synsets_id_adverbs = rown.synsets(pos=Synset.Pos.ADVERB)\n",
        "print(\"Total number of adverb synsets: {}\".format(len(synsets_id_adverbs)))"
      ],
      "metadata": {
        "colab": {
          "base_uri": "https://localhost:8080/"
        },
        "id": "G8NS0xC2UXs3",
        "outputId": "8b6871cb-10d8-41cc-acac-c8bd16bc2b0c"
      },
      "execution_count": null,
      "outputs": [
        {
          "output_type": "stream",
          "name": "stdout",
          "text": [
            "Total number of noun synsets: 41063\n",
            "Total number of verb synsets: 10397\n",
            "Total number of adjective synsets: 4822\n",
            "Total number of adverb synsets: 3066\n"
          ]
        }
      ]
    },
    {
      "cell_type": "code",
      "source": [
        "# Match with English synset\n",
        "matched_acer_synset = wn.synset_from_pos_and_offset('n', 12752039)\n",
        "matched_acer_synset.definition()"
      ],
      "metadata": {
        "colab": {
          "base_uri": "https://localhost:8080/",
          "height": 36
        },
        "id": "cmUgZQwjxIrO",
        "outputId": "f73839c5-c5d3-4207-ded7-e729cd0ad737"
      },
      "execution_count": null,
      "outputs": [
        {
          "output_type": "execute_result",
          "data": {
            "text/plain": [
              "'type genus of the Aceraceae; trees or shrubs having winged fruit'"
            ],
            "application/vnd.google.colaboratory.intrinsic+json": {
              "type": "string"
            }
          },
          "metadata": {},
          "execution_count": 75
        }
      ]
    },
    {
      "cell_type": "markdown",
      "source": [
        "## Distances"
      ],
      "metadata": {
        "id": "svFnn0bCytaq"
      }
    },
    {
      "cell_type": "markdown",
      "source": [
        "\"Leacock-Chodorow Similarity: Return a score denoting how similar two word senses are, based on the shortest path that connects the senses \""
      ],
      "metadata": {
        "id": "6bAwtOzo2ztg"
      }
    },
    {
      "cell_type": "markdown",
      "source": [
        "\n",
        "https://www.academia.edu/download/4162626/10.1.1.29.2985.pdf"
      ],
      "metadata": {
        "id": "_V8KCxhAE5Sn"
      }
    },
    {
      "cell_type": "code",
      "source": [
        "tree_synset.lch_similarity(matched_acer_synset, verbose=True)"
      ],
      "metadata": {
        "colab": {
          "base_uri": "https://localhost:8080/"
        },
        "id": "GJFV2W0VyvB7",
        "outputId": "0dae03ed-20cd-4033-85b0-4c63827088e9"
      },
      "execution_count": null,
      "outputs": [
        {
          "output_type": "execute_result",
          "data": {
            "text/plain": [
              "0.8043728156701697"
            ]
          },
          "metadata": {},
          "execution_count": 76
        }
      ]
    },
    {
      "cell_type": "code",
      "source": [
        "tree_synset.lch_similarity??"
      ],
      "metadata": {
        "id": "4YmBXvFSlBtZ"
      },
      "execution_count": null,
      "outputs": []
    },
    {
      "cell_type": "code",
      "source": [
        "human_synset.lch_similarity(bird_synset,  verbose=True)"
      ],
      "metadata": {
        "colab": {
          "base_uri": "https://localhost:8080/"
        },
        "id": "pouEuhbgy-EV",
        "outputId": "918b7789-6946-4e93-9ed1-ae2f9f90f6be"
      },
      "execution_count": null,
      "outputs": [
        {
          "output_type": "execute_result",
          "data": {
            "text/plain": [
              "1.6916760106710724"
            ]
          },
          "metadata": {},
          "execution_count": 78
        }
      ]
    },
    {
      "cell_type": "code",
      "source": [
        "human_synset.lch_similarity(wn.synsets('monkey')[0],  verbose=True)"
      ],
      "metadata": {
        "colab": {
          "base_uri": "https://localhost:8080/"
        },
        "id": "EKS80e7VEDs8",
        "outputId": "aedb9a0c-499d-4775-bf19-f98e3ca00210"
      },
      "execution_count": null,
      "outputs": [
        {
          "output_type": "execute_result",
          "data": {
            "text/plain": [
              "2.2512917986064953"
            ]
          },
          "metadata": {},
          "execution_count": 79
        }
      ]
    },
    {
      "cell_type": "code",
      "source": [
        "human_synset.lch_similarity(wn.synsets('god')[2],  verbose=True)"
      ],
      "metadata": {
        "colab": {
          "base_uri": "https://localhost:8080/"
        },
        "id": "n0ikHQhtlXeo",
        "outputId": "fdd744dd-9752-443f-a13d-7561e85e9bcc"
      },
      "execution_count": null,
      "outputs": [
        {
          "output_type": "execute_result",
          "data": {
            "text/plain": [
              "1.072636802264849"
            ]
          },
          "metadata": {},
          "execution_count": 80
        }
      ]
    },
    {
      "cell_type": "code",
      "source": [
        "human_synset.lch_similarity(tree_synset)"
      ],
      "metadata": {
        "colab": {
          "base_uri": "https://localhost:8080/"
        },
        "id": "-ZAfItx9EJ-a",
        "outputId": "7880d9d7-1d2f-4561-ac3a-25db1c49e633"
      },
      "execution_count": null,
      "outputs": [
        {
          "output_type": "execute_result",
          "data": {
            "text/plain": [
              "1.072636802264849"
            ]
          },
          "metadata": {},
          "execution_count": 81
        }
      ]
    },
    {
      "cell_type": "code",
      "source": [
        "tree_synset.lch_similarity(wn.synsets('god')[2],  verbose=True)"
      ],
      "metadata": {
        "colab": {
          "base_uri": "https://localhost:8080/"
        },
        "id": "OY8C9KD1lsep",
        "outputId": "223464bf-95d6-4ed3-cf0e-443e1f902170"
      },
      "execution_count": null,
      "outputs": [
        {
          "output_type": "execute_result",
          "data": {
            "text/plain": [
              "1.4403615823901665"
            ]
          },
          "metadata": {},
          "execution_count": 82
        }
      ]
    },
    {
      "cell_type": "code",
      "source": [
        "tree_synset.lch_similarity(human_synset)"
      ],
      "metadata": {
        "colab": {
          "base_uri": "https://localhost:8080/"
        },
        "id": "NgN7IsVKDtOz",
        "outputId": "8efeae6c-c9d0-4e43-d781-240ed8e3a630"
      },
      "execution_count": null,
      "outputs": [
        {
          "output_type": "execute_result",
          "data": {
            "text/plain": [
              "1.072636802264849"
            ]
          },
          "metadata": {},
          "execution_count": 83
        }
      ]
    },
    {
      "cell_type": "code",
      "source": [
        "tree_synset.jcn_similarity??"
      ],
      "metadata": {
        "id": "8pCvfIl3EPaZ"
      },
      "execution_count": null,
      "outputs": []
    },
    {
      "cell_type": "code",
      "source": [
        "tree_synset.res_similarity??"
      ],
      "metadata": {
        "id": "OEJLT87ZET4O"
      },
      "execution_count": null,
      "outputs": []
    },
    {
      "cell_type": "markdown",
      "source": [
        "# Exercises (1p)"
      ],
      "metadata": {
        "id": "d-zfzm9l4TNd"
      }
    },
    {
      "cell_type": "markdown",
      "source": [
        "1. Write a function that returns all synonyms for a word in WordNet, given the word string and its language. Return as a list of strings, irrespective of the sense of each word (if word has multiple senses, all synonyms are stil grouped together)"
      ],
      "metadata": {
        "id": "YOvawZcFU3v1"
      }
    },
    {
      "cell_type": "code",
      "source": [
        "def synonyms(word, language):\n",
        "  synonyms = []\n",
        "  \n",
        "  for syn in wn.synsets(word, lang=language):\n",
        "    for lemma in syn.lemmas(lang=language):\n",
        "      if lemma.name() == word:\n",
        "        continue\n",
        "      synonyms.append(' '.join(lemma.name().split('_')))\n",
        "\n",
        "  synonyms = set(synonyms)\n",
        "  return synonyms\n",
        "\n",
        "synonyms('vanish', 'eng')"
      ],
      "metadata": {
        "id": "-bfjVLHP4U3O",
        "colab": {
          "base_uri": "https://localhost:8080/"
        },
        "outputId": "b90f10ce-7d44-44db-8beb-e9ed1bef6639"
      },
      "execution_count": null,
      "outputs": [
        {
          "output_type": "execute_result",
          "data": {
            "text/plain": [
              "{'disappear', 'fell', 'fly', 'go away', 'vaporize'}"
            ]
          },
          "metadata": {},
          "execution_count": 123
        }
      ]
    },
    {
      "cell_type": "markdown",
      "source": [
        "2. Write a function that retrieves the \"translation\" of an English word to a different language (one supported by OMW), according to WordNet. (could return multiple words)"
      ],
      "metadata": {
        "id": "LtL5GHCXVQl3"
      }
    },
    {
      "cell_type": "code",
      "source": [
        "def translation(word, language):\n",
        "  syn = wn.synsets(word)\n",
        "  if syn != []:\n",
        "    return syn[0].lemmas(lang=language)[0].name()\n",
        " \n",
        "  return 'Word is not in the vocabulary!'\n",
        "\n",
        "translation('child', 'fra')"
      ],
      "metadata": {
        "id": "0VM-ZaiTVP49",
        "colab": {
          "base_uri": "https://localhost:8080/",
          "height": 36
        },
        "outputId": "ca7e77a5-f755-469c-e704-32e506a22255"
      },
      "execution_count": null,
      "outputs": [
        {
          "output_type": "execute_result",
          "data": {
            "text/plain": [
              "'bambin'"
            ],
            "application/vnd.google.colaboratory.intrinsic+json": {
              "type": "string"
            }
          },
          "metadata": {},
          "execution_count": 91
        }
      ]
    },
    {
      "cell_type": "markdown",
      "source": [
        "3. Write a function that retrieves the \"sibling\" terms of a noun in WordNet. A sister term is one that shares a hypernym. (e.g. \"oak tree\" and \"fir tree\")."
      ],
      "metadata": {
        "id": "ORzpzklLVbnH"
      }
    },
    {
      "cell_type": "code",
      "source": [
        "def sibling_word(word):\n",
        "  sibling_terms = []\n",
        "\n",
        "  syns = wn.synsets(word, pos='n')\n",
        "  if syns != []:\n",
        "    for syn in syns:\n",
        "      for hypernym in syn.hypernyms():\n",
        "        for hyponym in hypernym.hyponyms():\n",
        "          sibling_terms.append(hyponym.lemma_names())\n",
        "\n",
        "  return sibling_terms\n",
        "\n",
        "sibling_word(\"olive\")"
      ],
      "metadata": {
        "id": "6ixS2CXSV4Yp",
        "colab": {
          "base_uri": "https://localhost:8080/"
        },
        "outputId": "53782fa8-669e-4f85-dd6c-a0c54ed42772"
      },
      "execution_count": null,
      "outputs": [
        {
          "output_type": "execute_result",
          "data": {
            "text/plain": [
              "[['accessory_fruit', 'pseudocarp'],\n",
              " ['achene'],\n",
              " ['acorn'],\n",
              " ['aggregate_fruit', 'multiple_fruit', 'syncarp'],\n",
              " ['berry'],\n",
              " ['buckthorn_berry', 'yellow_berry'],\n",
              " ['buffalo_nut', 'elk_nut', 'oil_nut'],\n",
              " ['chokecherry'],\n",
              " ['cubeb'],\n",
              " ['drupe', 'stone_fruit'],\n",
              " ['ear', 'spike', 'capitulum'],\n",
              " ['edible_fruit'],\n",
              " ['fruitlet'],\n",
              " ['gourd'],\n",
              " ['hagberry'],\n",
              " ['hip', 'rose_hip', 'rosehip'],\n",
              " ['juniper_berry'],\n",
              " ['marasca'],\n",
              " ['May_apple'],\n",
              " ['olive'],\n",
              " ['pod', 'seedpod'],\n",
              " ['pome', 'false_fruit'],\n",
              " ['prairie_gourd'],\n",
              " ['pyxidium', 'pyxis'],\n",
              " ['quandong', 'blue_fig'],\n",
              " ['rowanberry'],\n",
              " ['schizocarp'],\n",
              " ['seed'],\n",
              " ['wild_cherry'],\n",
              " ['black_maire', 'Olea_cunninghamii'],\n",
              " ['olive', 'European_olive_tree', 'Olea_europaea'],\n",
              " ['white_maire', 'Olea_lanceolata'],\n",
              " ['alder'],\n",
              " ['ash'],\n",
              " ['balsa', 'balsa_wood'],\n",
              " ['bamboo'],\n",
              " ['basswood', 'linden'],\n",
              " ['beech', 'beechwood'],\n",
              " ['beefwood'],\n",
              " ['bentwood'],\n",
              " ['birch'],\n",
              " ['black_locust'],\n",
              " ['blackwood'],\n",
              " ['boxwood', 'Turkish_boxwood'],\n",
              " ['brazilwood'],\n",
              " ['briarwood', 'brierwood', 'brier-wood'],\n",
              " ['brushwood'],\n",
              " ['burl'],\n",
              " ['cabinet_wood'],\n",
              " ['cedar', 'cedarwood'],\n",
              " ['cherry'],\n",
              " ['chestnut'],\n",
              " ['citronwood'],\n",
              " ['cocuswood', 'cocoswood', 'granadilla_wood'],\n",
              " ['cypress'],\n",
              " ['dogwood'],\n",
              " ['driftwood'],\n",
              " ['dyewood'],\n",
              " ['ebony'],\n",
              " ['elm', 'elmwood'],\n",
              " ['eucalyptus'],\n",
              " ['fir'],\n",
              " ['fruitwood'],\n",
              " ['granadilla_wood'],\n",
              " ['guaiac_wood', 'guaiacum_wood'],\n",
              " ['gumwood', 'gum'],\n",
              " ['hardwood'],\n",
              " ['hazel'],\n",
              " ['heartwood', 'duramen'],\n",
              " ['hemlock'],\n",
              " ['hickory'],\n",
              " ['incense_wood'],\n",
              " ['ironwood'],\n",
              " ['kauri'],\n",
              " ['kingwood'],\n",
              " ['knot'],\n",
              " ['lancewood'],\n",
              " ['larch'],\n",
              " ['lemonwood'],\n",
              " ['lignum_vitae', 'guaiac', 'guaiacum'],\n",
              " ['locust'],\n",
              " ['log'],\n",
              " ['logwood'],\n",
              " ['mahogany'],\n",
              " ['maple'],\n",
              " ['matchwood', 'splinters'],\n",
              " ['matchwood'],\n",
              " ['oak'],\n",
              " ['obeche'],\n",
              " ['olive'],\n",
              " ['orangewood'],\n",
              " ['Panama_redwood', 'quira'],\n",
              " ['pecan'],\n",
              " ['pine'],\n",
              " ['poon'],\n",
              " ['poplar'],\n",
              " ['pyinma'],\n",
              " ['raw_wood'],\n",
              " ['red_lauan'],\n",
              " ['redwood'],\n",
              " ['rosewood'],\n",
              " ['ruby_wood', 'red_sandalwood'],\n",
              " ['sabicu', 'sabicu_wood'],\n",
              " ['sandalwood'],\n",
              " ['sandarac', 'citronwood'],\n",
              " ['sapwood'],\n",
              " ['satinwood'],\n",
              " ['sawdust'],\n",
              " ['shittimwood'],\n",
              " ['silver_quandong'],\n",
              " ['softwood', 'deal'],\n",
              " ['spruce'],\n",
              " ['sumac'],\n",
              " ['sycamore', 'lacewood'],\n",
              " ['teak', 'teakwood'],\n",
              " ['tulipwood'],\n",
              " ['tulipwood', 'true_tulipwood', 'whitewood', 'white_poplar', 'yellow_poplar'],\n",
              " ['tupelo'],\n",
              " ['walnut'],\n",
              " ['wicker'],\n",
              " ['yellowwood'],\n",
              " ['yew'],\n",
              " ['zebrawood'],\n",
              " ['almond'],\n",
              " ['cherry'],\n",
              " ['drupelet'],\n",
              " ['elderberry'],\n",
              " ['jujube', 'Chinese_date', 'Chinese_jujube'],\n",
              " ['olive'],\n",
              " ['peach'],\n",
              " ['plum'],\n",
              " ['chowchow'],\n",
              " ['olive'],\n",
              " ['piccalilli'],\n",
              " ['pickle'],\n",
              " ['pickle_relish'],\n",
              " ['blond', 'blonde'],\n",
              " ['blue', 'blueness'],\n",
              " ['brown', 'brownness'],\n",
              " ['complementary_color', 'complementary'],\n",
              " ['green', 'greenness', 'viridity'],\n",
              " ['olive'],\n",
              " ['orange', 'orangeness'],\n",
              " ['pastel'],\n",
              " ['pink'],\n",
              " ['purple', 'purpleness'],\n",
              " ['red', 'redness'],\n",
              " ['salmon'],\n",
              " ['yellow', 'yellowness']]"
            ]
          },
          "metadata": {},
          "execution_count": 129
        }
      ]
    },
    {
      "cell_type": "markdown",
      "source": [
        "4. Write a function that computes the degree of polysemy for a word, as the number of synsets it belongs to."
      ],
      "metadata": {
        "id": "ZGPzNWbeV4r6"
      }
    },
    {
      "cell_type": "code",
      "source": [
        "def degree_polysemy(word):\n",
        "  return len(wn.synsets(word))\n",
        "\n",
        "degree_polysemy('car')"
      ],
      "metadata": {
        "id": "1p1J0CySVbHf",
        "colab": {
          "base_uri": "https://localhost:8080/"
        },
        "outputId": "22a7d7a0-d97c-4cf1-d9d2-2cbe01180f8c"
      },
      "execution_count": null,
      "outputs": [
        {
          "output_type": "execute_result",
          "data": {
            "text/plain": [
              "5"
            ]
          },
          "metadata": {},
          "execution_count": 100
        }
      ]
    },
    {
      "cell_type": "markdown",
      "source": [
        "5. Select a few paragraphs of text from a NLTK corpus. Build a vocabulary containing all the unique word forms found in the text. Using the function above, compute the polysemy degree of each word. Illustrate the distribution of polysemy using a histogram."
      ],
      "metadata": {
        "id": "DpcWEUNoXpTN"
      }
    },
    {
      "cell_type": "code",
      "source": [
        "import nltk\n",
        "nltk.download('brown')\n",
        "\n",
        "from nltk.corpus import brown"
      ],
      "metadata": {
        "colab": {
          "base_uri": "https://localhost:8080/"
        },
        "id": "92tZ8t5xPyMj",
        "outputId": "6517f0e1-92a9-4600-b3a6-24bd435b8f2e"
      },
      "execution_count": null,
      "outputs": [
        {
          "output_type": "stream",
          "name": "stdout",
          "text": [
            "[nltk_data] Downloading package brown to /root/nltk_data...\n",
            "[nltk_data]   Unzipping corpora/brown.zip.\n"
          ]
        }
      ]
    },
    {
      "cell_type": "code",
      "source": [
        "import string\n",
        "import numpy as np\n",
        "import pandas as pd\n",
        "\n",
        "vocab = set([word for paragraph in brown.sents()[110:120] for word in paragraph if word not in string.punctuation + \"''\"+ \"``\"])\n",
        "polysemy_degrees = [degree_polysemy(word) for word in vocab]\n",
        "\n",
        "pd.Series(polysemy_degrees).hist()"
      ],
      "metadata": {
        "colab": {
          "base_uri": "https://localhost:8080/",
          "height": 283
        },
        "id": "0JUbqi5RYOCm",
        "outputId": "ea91abd0-0160-412e-bfd6-fc01ec2212b5"
      },
      "execution_count": null,
      "outputs": [
        {
          "output_type": "execute_result",
          "data": {
            "text/plain": [
              "<matplotlib.axes._subplots.AxesSubplot at 0x7f598e9bf2d0>"
            ]
          },
          "metadata": {},
          "execution_count": 102
        },
        {
          "output_type": "display_data",
          "data": {
            "text/plain": [
              "<Figure size 432x288 with 1 Axes>"
            ],
            "image/png": "[encoded data removed]"
          },
          "metadata": {
            "needs_background": "light"
          }
        }
      ]
    },
    {
      "cell_type": "markdown",
      "source": [
        "6. Write a function to compute the similarity between two words, using one of the similarity metrics defined in WordNet. If a word has more than one sense, use a method to aggregate the per-synset similarities (e.g. average the distance across all pairs).\n"
      ],
      "metadata": {
        "id": "QSvFkejLVorP"
      }
    },
    {
      "cell_type": "code",
      "source": [
        "def words_similarity(word1, word2):\n",
        "  similarity_score = 0.0\n",
        "  syns1 = wn.synsets(word1)\n",
        "  syns2 = wn.synsets(word2)\n",
        "\n",
        "  if syns1 == [] or syns2 == []:\n",
        "    return similarity_score\n",
        "\n",
        "  for syn1 in syns1:\n",
        "    for syn2 in syns2:\n",
        "      if syn1.pos() == syn2.pos():\n",
        "        score = syn1.lch_similarity(syn2)\n",
        "        if score is not None:\n",
        "          similarity_score += score\n",
        "          \n",
        "  similarity_score /= (len(syns1) + len(syns2))\n",
        "\n",
        "  return similarity_score\n",
        "\n",
        "words_similarity('tree', 'arbor')"
      ],
      "metadata": {
        "id": "qhUKBLN9VbLg",
        "colab": {
          "base_uri": "https://localhost:8080/"
        },
        "outputId": "2f6e58ab-4483-43b8-eadc-a56c05590b91"
      },
      "execution_count": null,
      "outputs": [
        {
          "output_type": "execute_result",
          "data": {
            "text/plain": [
              "1.1079518022454617"
            ]
          },
          "metadata": {},
          "execution_count": 103
        }
      ]
    },
    {
      "cell_type": "markdown",
      "source": [
        "7. Compare with word2vec similarity. (Load an embeddings model to be able to retrieve similarities between words). Then take the vocabulary from Ex 5, or a custom vocabulary of your choice (e.g. the SimLex set of word pairs) and compute similarities between all word pairs using the function from Ex 6. Then compute the same similarities with word2vec, and finally compute the Spearman correlation between them."
      ],
      "metadata": {
        "id": "Cvu37eXhHATY"
      }
    },
    {
      "cell_type": "code",
      "source": [
        "import gensim\n",
        "import gensim.downloader\n",
        "nltk.download('gutenberg')\n",
        "\n",
        "from sklearn.metrics.pairwise import cosine_similarity"
      ],
      "metadata": {
        "colab": {
          "base_uri": "https://localhost:8080/"
        },
        "id": "_AFG_fXGYuEK",
        "outputId": "53a25151-b112-43f6-fec1-b8b1caed32d6"
      },
      "execution_count": null,
      "outputs": [
        {
          "output_type": "stream",
          "name": "stdout",
          "text": [
            "[nltk_data] Downloading package gutenberg to /root/nltk_data...\n",
            "[nltk_data]   Unzipping corpora/gutenberg.zip.\n"
          ]
        }
      ]
    },
    {
      "cell_type": "code",
      "source": [
        "embeddings = gensim.downloader.load('fasttext-wiki-news-subwords-300')"
      ],
      "metadata": {
        "id": "TH6hpWGNVycG",
        "colab": {
          "base_uri": "https://localhost:8080/"
        },
        "outputId": "86d93ac6-879f-4b56-b452-335c3bdafbe5"
      },
      "execution_count": null,
      "outputs": [
        {
          "output_type": "stream",
          "name": "stdout",
          "text": [
            "[==================================================] 100.0% 958.5/958.4MB downloaded\n"
          ]
        }
      ]
    },
    {
      "cell_type": "code",
      "source": [
        "def words_similiarity_w2v(word1, word2):\n",
        "  if word1 in embeddings.vocab and word2 in embeddings.vocab:\n",
        "    emb1 = embeddings.get_vector(word1).reshape(1, -1)\n",
        "    emb2 = embeddings.get_vector(word2).reshape(1, -1)\n",
        "    return cosine_similarity(emb1, emb2)[0][0]\n",
        "\n",
        "  return 0.0"
      ],
      "metadata": {
        "id": "RiItSXSejZUT"
      },
      "execution_count": null,
      "outputs": []
    },
    {
      "cell_type": "code",
      "source": [
        "vocabulary = [word for word in nltk.corpus.gutenberg.words(fileids='austen-emma.txt')[:100] if word not in string.punctuation]"
      ],
      "metadata": {
        "id": "l35szekShrOE"
      },
      "execution_count": null,
      "outputs": []
    },
    {
      "cell_type": "code",
      "source": [
        "words_similarities_wn = [words_similarity(word1, word2) for word1 in vocabulary for word2 in vocabulary[1:]]"
      ],
      "metadata": {
        "id": "iA72PT-nYxHG"
      },
      "execution_count": null,
      "outputs": []
    },
    {
      "cell_type": "code",
      "source": [
        "words_similiarity_w2v = [words_similiarity_w2v(word1, word2) for word1 in vocabulary for word2 in vocabulary[1:]]"
      ],
      "metadata": {
        "id": "kavTgKXri5ma"
      },
      "execution_count": null,
      "outputs": []
    },
    {
      "cell_type": "code",
      "source": [
        "from scipy import stats\n",
        "\n",
        "spearm = stats.spearmanr(words_similarities_wn, words_similiarity_w2v)\n",
        "spearm"
      ],
      "metadata": {
        "colab": {
          "base_uri": "https://localhost:8080/"
        },
        "id": "cdB3xW-ulYXL",
        "outputId": "d76c5cbe-1722-4337-f895-26c6f790636d"
      },
      "execution_count": null,
      "outputs": [
        {
          "output_type": "execute_result",
          "data": {
            "text/plain": [
              "SpearmanrResult(correlation=-0.1274869741363163, pvalue=1.1748499284561945e-26)"
            ]
          },
          "metadata": {},
          "execution_count": 110
        }
      ]
    },
    {
      "cell_type": "markdown",
      "source": [
        "8. Using the same text from exercise 5, select all nouns (according to WordNet, choose words which are part of any noun Synsets) and find their hypernyms. Reconstruct the text replacing each noun with one of its hypernyms. Is it coherent? Pinpoint some examples where the replacement did not make sense (in a text cell or a comment)"
      ],
      "metadata": {
        "id": "n0zbXERpVzAZ"
      }
    },
    {
      "cell_type": "code",
      "source": [
        "text = brown.sents()[:10]\n",
        "text"
      ],
      "metadata": {
        "id": "JsKt4Re3Y4-n",
        "colab": {
          "base_uri": "https://localhost:8080/"
        },
        "outputId": "dff1f7ad-c0e0-446a-88b2-90103b61eb09"
      },
      "execution_count": null,
      "outputs": [
        {
          "output_type": "execute_result",
          "data": {
            "text/plain": [
              "[['The',\n",
              "  'Fulton',\n",
              "  'County',\n",
              "  'Grand',\n",
              "  'Jury',\n",
              "  'said',\n",
              "  'Friday',\n",
              "  'an',\n",
              "  'investigation',\n",
              "  'of',\n",
              "  \"Atlanta's\",\n",
              "  'recent',\n",
              "  'primary',\n",
              "  'election',\n",
              "  'produced',\n",
              "  '``',\n",
              "  'no',\n",
              "  'evidence',\n",
              "  \"''\",\n",
              "  'that',\n",
              "  'any',\n",
              "  'irregularities',\n",
              "  'took',\n",
              "  'place',\n",
              "  '.'],\n",
              " ['The',\n",
              "  'jury',\n",
              "  'further',\n",
              "  'said',\n",
              "  'in',\n",
              "  'term-end',\n",
              "  'presentments',\n",
              "  'that',\n",
              "  'the',\n",
              "  'City',\n",
              "  'Executive',\n",
              "  'Committee',\n",
              "  ',',\n",
              "  'which',\n",
              "  'had',\n",
              "  'over-all',\n",
              "  'charge',\n",
              "  'of',\n",
              "  'the',\n",
              "  'election',\n",
              "  ',',\n",
              "  '``',\n",
              "  'deserves',\n",
              "  'the',\n",
              "  'praise',\n",
              "  'and',\n",
              "  'thanks',\n",
              "  'of',\n",
              "  'the',\n",
              "  'City',\n",
              "  'of',\n",
              "  'Atlanta',\n",
              "  \"''\",\n",
              "  'for',\n",
              "  'the',\n",
              "  'manner',\n",
              "  'in',\n",
              "  'which',\n",
              "  'the',\n",
              "  'election',\n",
              "  'was',\n",
              "  'conducted',\n",
              "  '.'],\n",
              " ['The',\n",
              "  'September-October',\n",
              "  'term',\n",
              "  'jury',\n",
              "  'had',\n",
              "  'been',\n",
              "  'charged',\n",
              "  'by',\n",
              "  'Fulton',\n",
              "  'Superior',\n",
              "  'Court',\n",
              "  'Judge',\n",
              "  'Durwood',\n",
              "  'Pye',\n",
              "  'to',\n",
              "  'investigate',\n",
              "  'reports',\n",
              "  'of',\n",
              "  'possible',\n",
              "  '``',\n",
              "  'irregularities',\n",
              "  \"''\",\n",
              "  'in',\n",
              "  'the',\n",
              "  'hard-fought',\n",
              "  'primary',\n",
              "  'which',\n",
              "  'was',\n",
              "  'won',\n",
              "  'by',\n",
              "  'Mayor-nominate',\n",
              "  'Ivan',\n",
              "  'Allen',\n",
              "  'Jr.',\n",
              "  '.'],\n",
              " ['``',\n",
              "  'Only',\n",
              "  'a',\n",
              "  'relative',\n",
              "  'handful',\n",
              "  'of',\n",
              "  'such',\n",
              "  'reports',\n",
              "  'was',\n",
              "  'received',\n",
              "  \"''\",\n",
              "  ',',\n",
              "  'the',\n",
              "  'jury',\n",
              "  'said',\n",
              "  ',',\n",
              "  '``',\n",
              "  'considering',\n",
              "  'the',\n",
              "  'widespread',\n",
              "  'interest',\n",
              "  'in',\n",
              "  'the',\n",
              "  'election',\n",
              "  ',',\n",
              "  'the',\n",
              "  'number',\n",
              "  'of',\n",
              "  'voters',\n",
              "  'and',\n",
              "  'the',\n",
              "  'size',\n",
              "  'of',\n",
              "  'this',\n",
              "  'city',\n",
              "  \"''\",\n",
              "  '.'],\n",
              " ['The',\n",
              "  'jury',\n",
              "  'said',\n",
              "  'it',\n",
              "  'did',\n",
              "  'find',\n",
              "  'that',\n",
              "  'many',\n",
              "  'of',\n",
              "  \"Georgia's\",\n",
              "  'registration',\n",
              "  'and',\n",
              "  'election',\n",
              "  'laws',\n",
              "  '``',\n",
              "  'are',\n",
              "  'outmoded',\n",
              "  'or',\n",
              "  'inadequate',\n",
              "  'and',\n",
              "  'often',\n",
              "  'ambiguous',\n",
              "  \"''\",\n",
              "  '.'],\n",
              " ['It',\n",
              "  'recommended',\n",
              "  'that',\n",
              "  'Fulton',\n",
              "  'legislators',\n",
              "  'act',\n",
              "  '``',\n",
              "  'to',\n",
              "  'have',\n",
              "  'these',\n",
              "  'laws',\n",
              "  'studied',\n",
              "  'and',\n",
              "  'revised',\n",
              "  'to',\n",
              "  'the',\n",
              "  'end',\n",
              "  'of',\n",
              "  'modernizing',\n",
              "  'and',\n",
              "  'improving',\n",
              "  'them',\n",
              "  \"''\",\n",
              "  '.'],\n",
              " ['The',\n",
              "  'grand',\n",
              "  'jury',\n",
              "  'commented',\n",
              "  'on',\n",
              "  'a',\n",
              "  'number',\n",
              "  'of',\n",
              "  'other',\n",
              "  'topics',\n",
              "  ',',\n",
              "  'among',\n",
              "  'them',\n",
              "  'the',\n",
              "  'Atlanta',\n",
              "  'and',\n",
              "  'Fulton',\n",
              "  'County',\n",
              "  'purchasing',\n",
              "  'departments',\n",
              "  'which',\n",
              "  'it',\n",
              "  'said',\n",
              "  '``',\n",
              "  'are',\n",
              "  'well',\n",
              "  'operated',\n",
              "  'and',\n",
              "  'follow',\n",
              "  'generally',\n",
              "  'accepted',\n",
              "  'practices',\n",
              "  'which',\n",
              "  'inure',\n",
              "  'to',\n",
              "  'the',\n",
              "  'best',\n",
              "  'interest',\n",
              "  'of',\n",
              "  'both',\n",
              "  'governments',\n",
              "  \"''\",\n",
              "  '.'],\n",
              " ['Merger', 'proposed'],\n",
              " ['However',\n",
              "  ',',\n",
              "  'the',\n",
              "  'jury',\n",
              "  'said',\n",
              "  'it',\n",
              "  'believes',\n",
              "  '``',\n",
              "  'these',\n",
              "  'two',\n",
              "  'offices',\n",
              "  'should',\n",
              "  'be',\n",
              "  'combined',\n",
              "  'to',\n",
              "  'achieve',\n",
              "  'greater',\n",
              "  'efficiency',\n",
              "  'and',\n",
              "  'reduce',\n",
              "  'the',\n",
              "  'cost',\n",
              "  'of',\n",
              "  'administration',\n",
              "  \"''\",\n",
              "  '.'],\n",
              " ['The',\n",
              "  'City',\n",
              "  'Purchasing',\n",
              "  'Department',\n",
              "  ',',\n",
              "  'the',\n",
              "  'jury',\n",
              "  'said',\n",
              "  ',',\n",
              "  '``',\n",
              "  'is',\n",
              "  'lacking',\n",
              "  'in',\n",
              "  'experienced',\n",
              "  'clerical',\n",
              "  'personnel',\n",
              "  'as',\n",
              "  'a',\n",
              "  'result',\n",
              "  'of',\n",
              "  'city',\n",
              "  'personnel',\n",
              "  'policies',\n",
              "  \"''\",\n",
              "  '.']]"
            ]
          },
          "metadata": {},
          "execution_count": 111
        }
      ]
    },
    {
      "cell_type": "code",
      "source": [
        "nouns = [(word, idx_word, idx_sent) for (idx_sent, sentence) in enumerate(text) for (idx_word, word) in enumerate(sentence) if wn.synsets(word) != [] and wn.synsets(word)[0].pos() == 'n']\n",
        "hypernyms = [(wn.synsets(w)[0].hypernyms(), i) for (w, i, _) in nouns]\n",
        "\n",
        "print('Original text: \\n', ' '.join(word for sentence in text for word in sentence))\n",
        "print('Replaced text:')\n",
        "\n",
        "new_text = []\n",
        "for (i, sentence) in enumerate(text):\n",
        "  for (j, word) in enumerate(sentence):\n",
        "    if (word, j, i) in nouns:\n",
        "      idx = nouns.index((word, j, i))\n",
        "      if hypernyms[idx][0] != []:\n",
        "        print(hypernyms[idx][0][0].name().split('.')[0], end=\" \")\n",
        "      else:\n",
        "        print(word, end=\" \")\n",
        "    else:\n",
        "      print(word, end=\" \")\n"
      ],
      "metadata": {
        "colab": {
          "base_uri": "https://localhost:8080/"
        },
        "id": "D2Ne38pKm1a9",
        "outputId": "ed611732-14f2-4ea9-94c4-c778253394c5"
      },
      "execution_count": null,
      "outputs": [
        {
          "output_type": "stream",
          "name": "stdout",
          "text": [
            "Original text: \n",
            " The Fulton County Grand Jury said Friday an investigation of Atlanta's recent primary election produced `` no evidence '' that any irregularities took place . The jury further said in term-end presentments that the City Executive Committee , which had over-all charge of the election , `` deserves the praise and thanks of the City of Atlanta '' for the manner in which the election was conducted . The September-October term jury had been charged by Fulton Superior Court Judge Durwood Pye to investigate reports of possible `` irregularities '' in the hard-fought primary which was won by Mayor-nominate Ivan Allen Jr. . `` Only a relative handful of such reports was received '' , the jury said , `` considering the widespread interest in the election , the number of voters and the size of this city '' . The jury said it did find that many of Georgia's registration and election laws `` are outmoded or inadequate and often ambiguous '' . It recommended that Fulton legislators act `` to have these laws studied and revised to the end of modernizing and improving them '' . The grand jury commented on a number of other topics , among them the Atlanta and Fulton County purchasing departments which it said `` are well operated and follow generally accepted practices which inure to the best interest of both governments '' . Merger proposed However , the jury said it believes `` these two offices should be combined to achieve greater efficiency and reduce the cost of administration '' . The City Purchasing Department , the jury said , `` is lacking in experienced clerical personnel as a result of city personnel policies '' .\n",
            "Replaced text:\n",
            "The Fulton region large_integer body said weekday associate_degree inquiry of Atlanta's recent election vote produced `` negative information '' that any misbehavior took point . The body further said linear_unit term-end due_process that the municipality administrator administrative_unit , which had over-all attack of the vote , `` deserves the approval and acknowledgment of the municipality of Atlanta '' for the property linear_unit which the vote was conducted . The September-October word body had been charged by Fulton leader assembly adjudicator Durwood Pye to investigate document of possibility `` misbehavior '' linear_unit the hard-fought election which was south_korean_monetary_unit by Mayor-nominate Ivan Allen Jr. . `` Only metric_linear_unit person small_indefinite_quantity of such document was received '' , the body said , `` considering the widespread curiosity linear_unit the vote , the amount of citizen and the magnitude of this municipality '' . The body said engineering did insight that many of Georgia's entrance and vote laws `` area_unit outmoded or inadequate and often ambiguous '' . engineering recommended that Fulton lawgiver legal_document `` to person these laws studied and revised to the extremity of modernizing and improving them '' . The large_integer body commented on metric_linear_unit amount of other message , among them the Atlanta and Fulton region purchase division which engineering said `` area_unit excavation operated and follow generally accepted activity which inure to the attempt curiosity of both polity '' . consolidation proposed However , the body said engineering content `` these digit place_of_business should metallic_element combined to achieve greater ratio and reduce the outgo of management '' . The municipality purchase division , the body said , `` is lacking linear_unit experienced clerical organization chemical_element metric_linear_unit phenomenon of municipality organization plan_of_action '' . "
          ]
        }
      ]
    },
    {
      "cell_type": "markdown",
      "source": [
        "Examples of replacements which don't work:\n",
        "\n",
        "* *Original text*: The Fulton County Grand Jury said Friday an investigation of Atlanta's recent primary election produced `` no evidence '' that any irregularities took place .\n",
        "\n",
        "* *Replaced text*: The Fulton region large_integer body said weekday associate_degree inquiry of Atlanta's recent election vote produced `` negative information '' that any misbehavior took point ."
      ],
      "metadata": {
        "id": "UuJAPYpDIEH8"
      }
    },
    {
      "cell_type": "markdown",
      "source": [
        "9. Repeat the same procedure from exercise 8, but replace with hyponyms instead."
      ],
      "metadata": {
        "id": "qh3bD49YY5yI"
      }
    },
    {
      "cell_type": "code",
      "source": [
        "nouns = [(word, idx_word, idx_sent) for (idx_sent, sentence) in enumerate(text) for (idx_word, word) in enumerate(sentence) if wn.synsets(word) != [] and wn.synsets(word)[0].pos() == 'n']\n",
        "hyponyms = [(wn.synsets(w)[0].hyponyms(), i) for (w, i, _) in nouns]\n",
        "\n",
        "print('Original text: \\n', ' '.join(word for sentence in text for word in sentence))\n",
        "print('Replaced text:')\n",
        "\n",
        "new_text = []\n",
        "for (i, sentence) in enumerate(text):\n",
        "  for (j, word) in enumerate(sentence):\n",
        "    if (word, j, i) in nouns:\n",
        "      idx = nouns.index((word, j, i))\n",
        "      if hyponyms[idx][0] != []:\n",
        "        print(hyponyms[idx][0][0].name().split('.')[0], end=\" \")\n",
        "      else:\n",
        "        print(word, end=\" \")\n",
        "    else:\n",
        "      print(word, end=\" \")\n"
      ],
      "metadata": {
        "id": "2iruYxbBY-KL",
        "colab": {
          "base_uri": "https://localhost:8080/"
        },
        "outputId": "d2e2fae7-f6d6-40e5-9bb3-711c537e27d3"
      },
      "execution_count": null,
      "outputs": [
        {
          "output_type": "stream",
          "name": "stdout",
          "text": [
            "Original text: \n",
            " The Fulton County Grand Jury said Friday an investigation of Atlanta's recent primary election produced `` no evidence '' that any irregularities took place . The jury further said in term-end presentments that the City Executive Committee , which had over-all charge of the election , `` deserves the praise and thanks of the City of Atlanta '' for the manner in which the election was conducted . The September-October term jury had been charged by Fulton Superior Court Judge Durwood Pye to investigate reports of possible `` irregularities '' in the hard-fought primary which was won by Mayor-nominate Ivan Allen Jr. . `` Only a relative handful of such reports was received '' , the jury said , `` considering the widespread interest in the election , the number of voters and the size of this city '' . The jury said it did find that many of Georgia's registration and election laws `` are outmoded or inadequate and often ambiguous '' . It recommended that Fulton legislators act `` to have these laws studied and revised to the end of modernizing and improving them '' . The grand jury commented on a number of other topics , among them the Atlanta and Fulton County purchasing departments which it said `` are well operated and follow generally accepted practices which inure to the best interest of both governments '' . Merger proposed However , the jury said it believes `` these two offices should be combined to achieve greater efficiency and reduce the cost of administration '' . The City Purchasing Department , the jury said , `` is lacking in experienced clerical personnel as a result of city personnel policies '' .\n",
            "Replaced text:\n",
            "The Fulton wight millenary grand_jury said Friday an fishing_expedition of Atlanta's recent direct_primary by-election produced `` no disproof '' that any deviation took birthplace . The grand_jury further said in term-end presentments that the national_capital corporate_executive blue_ribbon_commission , which had over-all countercharge of the by-election , `` deserves the compliment and appreciation of the national_capital of Atlanta '' for the artistic_style in which the by-election was conducted . The September-October referent grand_jury had been charged by Fulton better appellate_court alcalde Durwood Pye to investigate assay of possible `` deviation '' in the hard-fought direct_primary which was won by Mayor-nominate Ivan Allen Jr. . `` Only a agnate handful of such assay was received '' , the grand_jury said , `` considering the widespread concern in the by-election , the fewness of constituent and the circumference of this national_capital '' . The grand_jury said it did find that many of Georgia's registration and by-election laws `` are outmoded or inadequate and often ambiguous '' . It recommended that Fulton backbencher decree `` to affluent these laws studied and revised to the bitter_end of modernizing and improving them '' . The millenary grand_jury commented on a fewness of other bone_of_contention , among them the Atlanta and Fulton wight mail-order_buying academic_department which it said `` are artesian_well operated and follow generally accepted biologism which inure to the best concern of both ancien_regime '' . Merger proposed However , the grand_jury said it autotelism `` these couple box_office should be combined to achieve greater figure_of_merit and reduce the borrowing_cost of conducting '' . The national_capital mail-order_buying academic_department , the grand_jury said , `` is lacking in experienced clerical guerrilla_force as a aftereffect of national_capital guerrilla_force activism '' . "
          ]
        }
      ]
    }
  ],
  "metadata": {
    "kernelspec": {
      "display_name": "Python 3",
      "language": "python",
      "name": "python3"
    },
    "language_info": {
      "codemirror_mode": {
        "name": "ipython",
        "version": 3
      },
      "file_extension": ".py",
      "mimetype": "text/x-python",
      "name": "python",
      "nbconvert_exporter": "python",
      "pygments_lexer": "ipython3",
      "version": "3.5.2"
    },
    "toc": {
      "base_numbering": 1,
      "nav_menu": {},
      "number_sections": true,
      "sideBar": true,
      "skip_h1_title": false,
      "title_cell": "Table of Contents",
      "title_sidebar": "Contents",
      "toc_cell": false,
      "toc_position": {},
      "toc_section_display": true,
      "toc_window_display": false
    },
    "colab": {
      "name": "Laborator 4 (WordNet.ipynb)",
      "provenance": [],
      "collapsed_sections": [
        "e9NYmUWG4t3y"
      ]
    }
  },
  "nbformat": 4,
  "nbformat_minor": 0
}