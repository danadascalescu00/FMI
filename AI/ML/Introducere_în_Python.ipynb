{
  "nbformat": 4,
  "nbformat_minor": 0,
  "metadata": {
    "colab": {
      "name": "Introducere în Python.ipynb",
      "provenance": []
    },
    "kernelspec": {
      "name": "python3",
      "display_name": "Python 3"
    },
    "language_info": {
      "name": "python"
    }
  },
  "cells": [
    {
      "cell_type": "markdown",
      "source": [
        "# Introducere în Python\n",
        "\n",
        "\n",
        "1.   Tipuri de date primitive\n",
        "2.   Colecții\n",
        "3.   Funcții\n",
        "4.   Clase\n"
      ],
      "metadata": {
        "id": "gOcUeIqolCeF"
      }
    },
    {
      "cell_type": "markdown",
      "source": [
        "## Tipuri de date primitive"
      ],
      "metadata": {
        "id": "GSDeHPRvs2eW"
      }
    },
    {
      "cell_type": "markdown",
      "source": [
        "**Numbers:** *int* și *float* se comportă la fel ca în alte limbaje."
      ],
      "metadata": {
        "id": "OqwAOFeTRPlv"
      }
    },
    {
      "cell_type": "code",
      "source": [
        "x = 3\n",
        "\n",
        "print(type(x)) # Afiseaza \"<class 'int'>\"\n",
        "print(x)       # Afiseaza \"3\"\n",
        "print(x + 1)   # Afiseaza \"4\"\n",
        "print(x - 1)   # Afiseaza \"2\"\n",
        "print(x * 2)   # Afiseaza \"6\"\n",
        "print(x ** 2)  # Afiseaza \"9\"\n",
        "\n",
        "x += 1\n",
        "print(x)       # Afiseaza \"4\"\n",
        "x *= 2\n",
        "print(x)       # Afiseaza \"8\"\n",
        "\n",
        "y = 2.5\n",
        "print(type(y))  # Afiseaza \"<class 'float'>\"\n",
        "print(y, y + 1, y * 2, y ** 2)  # Afiseaza \"2.5 3.5 5.0 6.25\""
      ],
      "metadata": {
        "id": "XSWaPKY0u_vk",
        "colab": {
          "base_uri": "https://localhost:8080/"
        },
        "outputId": "51820940-80fc-4ba9-8002-c9c119629e58"
      },
      "execution_count": 1,
      "outputs": [
        {
          "output_type": "stream",
          "name": "stdout",
          "text": [
            "<class 'int'>\n",
            "3\n",
            "4\n",
            "2\n",
            "6\n",
            "9\n",
            "4\n",
            "8\n",
            "<class 'float'>\n",
            "2.5 3.5 5.0 6.25\n"
          ]
        }
      ]
    },
    {
      "cell_type": "markdown",
      "source": [
        "*În Pyhton nu există operațiile de incrementare x++ (++x) sau x-- (--x).*"
      ],
      "metadata": {
        "id": "aMUMKGnUSgts"
      }
    },
    {
      "cell_type": "markdown",
      "source": [
        "**Bool:** Pentru operațiile cu variabile de tip bool nu se folosesc simbolurile && și ||, ci *and* și *or*:"
      ],
      "metadata": {
        "id": "-dyg4bj9TcXi"
      }
    },
    {
      "cell_type": "code",
      "source": [
        "t = True\n",
        "f = False\n",
        "print(type(t))  # Afiseaza <class 'bool'>\n",
        "print(t and f)  # Logical AND; Afiseaza  \"False\"\n",
        "print(t or f)   # Logical OR; Afiseaza \"True\"\n",
        "print(not t)    # Logical NOT; Afiseaza \"False\"\n",
        "print(t != f)   # Logical XOR; Afiseaza \"True\";"
      ],
      "metadata": {
        "colab": {
          "base_uri": "https://localhost:8080/"
        },
        "id": "4I_XdOl6TdYn",
        "outputId": "dcfbae40-a195-457c-ac48-4c4970e4ded2"
      },
      "execution_count": 2,
      "outputs": [
        {
          "output_type": "stream",
          "name": "stdout",
          "text": [
            "<class 'bool'>\n",
            "False\n",
            "True\n",
            "False\n",
            "True\n"
          ]
        }
      ]
    },
    {
      "cell_type": "markdown",
      "source": [
        "**String:** Python oferă multe funcții pentru șirurile de caractere."
      ],
      "metadata": {
        "id": "SYXMW7k3iA1c"
      }
    },
    {
      "cell_type": "code",
      "source": [
        "hello = 'hello' # Un string se declara intre ghilimele simple\n",
        "world = \"world\" # sau intre ghilimele duble\n",
        "print(hello) # Afiseaza \"hello\"\n",
        "print(len(hello)) # Lungimea sirului de caracter; Afiseaza 5\n",
        "\n",
        "hw = hello + ' ' + world # Concatenare\n",
        "print(hw) # Afiseaza \"hello world\"\n",
        "\n",
        "hw12 = '%s %s %d' % (hello, world, 12) # sprint - formatarea sirurilor de caractere\n",
        "print(hw12) # Afiseaza \"hello world 12\"\n",
        "\n",
        "s = \"hello\"\n",
        "print(s.capitalize()) # Afiseaza \"Hello\"\n",
        "print(s.upper()) # Afiseaza \"HELLO\"\n",
        "print(s.replace('l', '(ell)')) # Inlocuieste toate instantele primului argument cu al doilea argument\n",
        "                               # Afiseaza \"he(ell)(ell)o\"\n",
        "\n",
        "print(' hello world '.strip() ) # Sterge spatiile albe de la inceput si sfarsit;\n",
        "                                # Afiseaza \"hello world\""
      ],
      "metadata": {
        "colab": {
          "base_uri": "https://localhost:8080/"
        },
        "id": "U1HJmWUeSfl6",
        "outputId": "0f52ea45-0e97-4010-c71d-bcecc474a08a"
      },
      "execution_count": 3,
      "outputs": [
        {
          "output_type": "stream",
          "name": "stdout",
          "text": [
            "hello\n",
            "5\n",
            "hello world\n",
            "hello world 12\n",
            "Hello\n",
            "HELLO\n",
            "he(ell)(ell)o\n",
            "hello world\n"
          ]
        }
      ]
    },
    {
      "cell_type": "markdown",
      "source": [
        "## Colecții"
      ],
      "metadata": {
        "id": "A7HggInGl9-D"
      }
    },
    {
      "cell_type": "markdown",
      "source": [
        "În Python există următoarele colecții: *listă*, *dicționar*, *set* și *tuplu*."
      ],
      "metadata": {
        "id": "HV-tNCmdk5Zh"
      }
    },
    {
      "cell_type": "markdown",
      "source": [
        "**Liste:** O listă este echivalentă cu un vector, însă aceasta se poate redimensiona și poate conține elemente de tipuri diferite."
      ],
      "metadata": {
        "id": "Bvd0o35cmiAF"
      }
    },
    {
      "cell_type": "code",
      "source": [
        "xs = [3, 1, 2]    # Creaza o lista\n",
        "print(xs, xs[2])  # Afiseaza \"[3, 1, 2] 2\"\n",
        "print(xs[-1])     # Indexarea negativă incepe de unde se termina lista (slicing de la capatul listei) \n",
        "                  # -> indicii negativi numara de la sfarsitul listei -> Afiseaza \"2\"\n",
        "\n",
        "xs[2] = 'foo'     # Listele pot contine elemente de tipuri diferite\n",
        "print(xs)         # Afiseaza \"[3, 1, 'foo']\"\n",
        "\n",
        "xs.append('bar')  # Adaugare la sfarsitul listei\n",
        "xs += ['foobar']  # Adaugare la sfarsitul listei\n",
        "print(xs)         # Afiseaza \"[3, 1, 'foo', 'bar', 'foobar']\"\n",
        "\n",
        "x = xs.pop()      # Elimina si returneaza ultimul element al listei\n",
        "\n",
        "i = -1\n",
        "y = xs.pop(i)    # Elimina si returneaza elementul de pe pozitia i din lista\n",
        "print(x, y, xs)  # Afiseaza \"foobar bar [3, 1, 'foo']\""
      ],
      "metadata": {
        "colab": {
          "base_uri": "https://localhost:8080/"
        },
        "id": "BC4BfuEf0S64",
        "outputId": "8d8ee5d6-d189-4ce3-b55d-b0c346941258"
      },
      "execution_count": 4,
      "outputs": [
        {
          "output_type": "stream",
          "name": "stdout",
          "text": [
            "[3, 1, 2] 2\n",
            "2\n",
            "[3, 1, 'foo']\n",
            "[3, 1, 'foo', 'bar', 'foobar']\n",
            "foobar bar [3, 1, 'foo']\n"
          ]
        }
      ]
    },
    {
      "cell_type": "markdown",
      "source": [
        "**Slicing** - putem accesa o sublistă a unei liste"
      ],
      "metadata": {
        "id": "GMTvSw6l5U0P"
      }
    },
    {
      "cell_type": "code",
      "source": [
        "nums = list(range(5))    # range(n) este o functie care creeaza o lista de intregi, pornind de la 0 pana la n-1,\n",
        "                         # iar range(a, b) creaza o lista cu numere intregi de la [a, b - 1]\n",
        "print(nums)              # Afiseaza \"[0, 1, 2, 3, 4]\"\n",
        "print(nums[2:4])         # Acceseaza o sublista de la indicele 2 la 4 (exclusiv); \n",
        "                         # Afiseaza \"[2, 3]\"\n",
        "print(nums[2:])          # Aceseaza o sublista de la indicele 2 la sfarsitul listei; \n",
        "                         # Afiseaza \"[2, 3, 4]\"\n",
        "print(nums[:2])          # Acceseaza o sublista de la inceputul listei pana la indicele 2 (exclusiv);\n",
        "                         # Afiseaza \"[0, 1]\"           \n",
        "print(nums[:])           # Acceseaza lista; Afiseaza \"[0, 1, 2, 3, 4]\"\n",
        "print(nums[:-1])         # Acceseaza lista de la primul pana la penultimul element; Afiseaza \"[0, 1, 2, 3]\"\n",
        "\n",
        "nums[2:4] = [8, 9]       \n",
        "print(nums)              # Afiseaza \"[0, 1, 8, 9, 4]\"\n",
        "\n",
        "numbers = list(range(5, 10))  # Numerele de la 5 la 9 (inclusiv)\n",
        "nums_reverse = numbers[::-1]  # Parcurgem lista de la ultimul element pana la primul\n",
        "print(nums_reverse)           # Afiseaza \"[9, 8, 7, 6, 5]\" "
      ],
      "metadata": {
        "id": "hufUfBO05SYp",
        "colab": {
          "base_uri": "https://localhost:8080/"
        },
        "outputId": "4a94c198-3277-49a6-a737-add07094eb36"
      },
      "execution_count": 5,
      "outputs": [
        {
          "output_type": "stream",
          "name": "stdout",
          "text": [
            "[0, 1, 2, 3, 4]\n",
            "[2, 3]\n",
            "[2, 3, 4]\n",
            "[0, 1]\n",
            "[0, 1, 2, 3, 4]\n",
            "[0, 1, 2, 3]\n",
            "[0, 1, 8, 9, 4]\n",
            "[9, 8, 7, 6, 5]\n"
          ]
        }
      ]
    },
    {
      "cell_type": "markdown",
      "source": [
        "**Bucle:** Putem itera prin elementele unei liste în felul următor."
      ],
      "metadata": {
        "id": "8UdiOzzrgIaC"
      }
    },
    {
      "cell_type": "code",
      "source": [
        "animals = ['cat', 'dog', 'monkey']\n",
        "for animal in animals:  # Afiseaza \"cat\", \"dog\", \"monkey\", fiecare pe cate o linie.\n",
        "  print(animal)"
      ],
      "metadata": {
        "colab": {
          "base_uri": "https://localhost:8080/"
        },
        "id": "G3LasEDLgRwf",
        "outputId": "21f4ef56-019e-4d09-c190-a087226cac51"
      },
      "execution_count": 6,
      "outputs": [
        {
          "output_type": "stream",
          "name": "stdout",
          "text": [
            "cat\n",
            "dog\n",
            "monkey\n"
          ]
        }
      ]
    },
    {
      "cell_type": "markdown",
      "source": [
        "Dacă vrem să accesăm indicele fiecărui element în corpul buclei, putem folosi funcția ***enumerate***."
      ],
      "metadata": {
        "id": "MuhDW7Qagh-T"
      }
    },
    {
      "cell_type": "code",
      "source": [
        "animals = ['cat', 'dog', 'monkey']\n",
        "for idx, animal in enumerate(animals):\n",
        "  print('#%d: %s' % (idx + 1, animal))\n",
        "# Afiseaza \"#1: cat\", \"#2: dog\", \"#3: monkey\", fiecare pe cate o linie."
      ],
      "metadata": {
        "colab": {
          "base_uri": "https://localhost:8080/"
        },
        "id": "w07-MobugR0A",
        "outputId": "eb2c0a4b-90e1-454e-c93a-ae8a65586d51"
      },
      "execution_count": 7,
      "outputs": [
        {
          "output_type": "stream",
          "name": "stdout",
          "text": [
            "#1: cat\n",
            "#2: dog\n",
            "#3: monkey\n"
          ]
        }
      ]
    },
    {
      "cell_type": "markdown",
      "source": [
        "Dacă avem două liste X și Y și trebuie să formăm perechi (xi, yi) cu elementele\n",
        "listelor, atunci putem folosi funcția ***zip***."
      ],
      "metadata": {
        "id": "mV-_TUInigzn"
      }
    },
    {
      "cell_type": "code",
      "source": [
        "\"\"\"\n",
        "   Să presupunem că două iterabile sunt transmise la zip (); unul iterabil care conține trei și altul care conține cinci elemente. \n",
        "   În acest caz, iteratorul returnat va conține trei tupluri. Se datorează faptului că iteratorul se oprește atunci când cel mai \n",
        "   scurt iterabil este epuizat.\n",
        "\"\"\"\n",
        "\n",
        "X = [1, 2, 3, 4, 5]\n",
        "Y = [9, 8, 7]\n",
        "# inmultim listele element cu element (element wise)\n",
        "xy_dot = [a * b for (a, b) in zip(X, Y)]\n",
        "# se formeaza perechi cu al i-lea element din prima lista si al i-lea din a doua lista\n",
        "print(xy_dot) # Afiseaza [9, 16, 21]"
      ],
      "metadata": {
        "colab": {
          "base_uri": "https://localhost:8080/"
        },
        "id": "1Eij623QigRA",
        "outputId": "371bc9c9-b900-4e81-a5f4-2d4306ed5d3c"
      },
      "execution_count": 8,
      "outputs": [
        {
          "output_type": "stream",
          "name": "stdout",
          "text": [
            "[9, 16, 21]\n"
          ]
        }
      ]
    },
    {
      "cell_type": "markdown",
      "source": [
        "**List comprehensions:** Deseori vrem să transformăm un tip de date într-un altul.\n",
        "\n",
        "Ca exemplu, să considerăm următorul cod care calculează pătratele numerelor:\n"
      ],
      "metadata": {
        "id": "y9I1ghGSly_k"
      }
    },
    {
      "cell_type": "code",
      "source": [
        "nums = [0, 1, 2, 3, 4]\n",
        "squares = []\n",
        "for x in nums:\n",
        "  squares.append(x ** 2)\n",
        "print(squares) # Afiseaza [0, 1, 4, 9, 16]"
      ],
      "metadata": {
        "colab": {
          "base_uri": "https://localhost:8080/"
        },
        "id": "uxVP4CBGm1HY",
        "outputId": "c493e75c-45b6-420c-e158-2cd394f2d038"
      },
      "execution_count": 9,
      "outputs": [
        {
          "output_type": "stream",
          "name": "stdout",
          "text": [
            "[0, 1, 4, 9, 16]\n"
          ]
        }
      ]
    },
    {
      "cell_type": "markdown",
      "source": [
        "De asemenea, *list comprehension* poate conține și condiții:"
      ],
      "metadata": {
        "id": "fCS2quSNlzBT"
      }
    },
    {
      "cell_type": "code",
      "source": [
        "bool_list = [True, False, True, True, False]\n",
        "num_list = [x * 1 for x in bool_list]\n",
        "print(num_list) # Afiseaza [1, 0, 1, 1, 0]"
      ],
      "metadata": {
        "colab": {
          "base_uri": "https://localhost:8080/"
        },
        "id": "Tlm34QQonuGN",
        "outputId": "654f8c4d-390b-4450-8f20-d405a16f3823"
      },
      "execution_count": 10,
      "outputs": [
        {
          "output_type": "stream",
          "name": "stdout",
          "text": [
            "[1, 0, 1, 1, 0]\n"
          ]
        }
      ]
    },
    {
      "cell_type": "markdown",
      "source": [
        "**Dicționare**: Un dicționar stochează perechi (cheie, valoare)."
      ],
      "metadata": {
        "id": "JVL5Fse9pDIp"
      }
    },
    {
      "cell_type": "code",
      "source": [
        "d = {'cat': 'cute', 'dog': 'furry'} # Creaza un dictionar\n",
        "print(d['cat']) # Acceseaza o valoare in functie de cheia din dictionar. Afiseaza \"cute\"\n",
        "print('cat' in d) # Verifica daca in dictionar exista cheia; Afiseaza \"True\"\n",
        "d['fish'] = 'wet' # Adauga o noua pereche in dictionar\n",
        "print(d['fish']) # Afiseaza \"wet\"\n",
        "print(d['monkey']) # KeyError: cheia 'monkey' nu exista in dictionar"
      ],
      "metadata": {
        "colab": {
          "base_uri": "https://localhost:8080/",
          "height": 253
        },
        "id": "vrBXxsAWpMCj",
        "outputId": "1c6a1c43-d5e1-48ff-fdf2-3645bfe91075"
      },
      "execution_count": 11,
      "outputs": [
        {
          "output_type": "stream",
          "name": "stdout",
          "text": [
            "cute\n",
            "True\n",
            "wet\n"
          ]
        },
        {
          "output_type": "error",
          "ename": "KeyError",
          "evalue": "ignored",
          "traceback": [
            "\u001b[0;31m---------------------------------------------------------------------------\u001b[0m",
            "\u001b[0;31mKeyError\u001b[0m                                  Traceback (most recent call last)",
            "\u001b[0;32m<ipython-input-11-5e54fd25dfd4>\u001b[0m in \u001b[0;36m<module>\u001b[0;34m()\u001b[0m\n\u001b[1;32m      4\u001b[0m \u001b[0md\u001b[0m\u001b[0;34m[\u001b[0m\u001b[0;34m'fish'\u001b[0m\u001b[0;34m]\u001b[0m \u001b[0;34m=\u001b[0m \u001b[0;34m'wet'\u001b[0m \u001b[0;31m# Adauga o noua pereche in dictionar\u001b[0m\u001b[0;34m\u001b[0m\u001b[0;34m\u001b[0m\u001b[0m\n\u001b[1;32m      5\u001b[0m \u001b[0mprint\u001b[0m\u001b[0;34m(\u001b[0m\u001b[0md\u001b[0m\u001b[0;34m[\u001b[0m\u001b[0;34m'fish'\u001b[0m\u001b[0;34m]\u001b[0m\u001b[0;34m)\u001b[0m \u001b[0;31m# Afiseaza \"wet\"\u001b[0m\u001b[0;34m\u001b[0m\u001b[0;34m\u001b[0m\u001b[0m\n\u001b[0;32m----> 6\u001b[0;31m \u001b[0mprint\u001b[0m\u001b[0;34m(\u001b[0m\u001b[0md\u001b[0m\u001b[0;34m[\u001b[0m\u001b[0;34m'monkey'\u001b[0m\u001b[0;34m]\u001b[0m\u001b[0;34m)\u001b[0m \u001b[0;31m# KeyError: cheia 'monkey' nu exista in dictionar\u001b[0m\u001b[0;34m\u001b[0m\u001b[0;34m\u001b[0m\u001b[0m\n\u001b[0m",
            "\u001b[0;31mKeyError\u001b[0m: 'monkey'"
          ]
        }
      ]
    },
    {
      "cell_type": "code",
      "source": [
        "print(d.get('monkey', 'N/A')) # Acceseaza o valoare din dictionar pe baza cheii,\n",
        "                              # iar daca nu exista se returneaza valoarea default 'N/A';\n",
        "                              # Afiseaza \"N/A\"\n",
        "print(d.get('fish', 'N/A')) # Afiseaza \"wet\"\n",
        "del d['fish'] # Sterge elementul din dictionar\n",
        "print(d.get('fish', 'N/A')) # \"fish\" nu mai est"
      ],
      "metadata": {
        "colab": {
          "base_uri": "https://localhost:8080/"
        },
        "id": "WSMxW6bzpfa_",
        "outputId": "ce70cfff-8f5b-4bfa-d499-06324721f238"
      },
      "execution_count": 12,
      "outputs": [
        {
          "output_type": "stream",
          "name": "stdout",
          "text": [
            "N/A\n",
            "wet\n",
            "N/A\n"
          ]
        }
      ]
    },
    {
      "cell_type": "markdown",
      "source": [
        "Este ușor să iterăm prin cheile unui dicționar:"
      ],
      "metadata": {
        "id": "EndfjcnMqJug"
      }
    },
    {
      "cell_type": "code",
      "source": [
        "d = {'person': 2, 'cat': 4, 'spider': 8}\n",
        "for animal in d:\n",
        "  legs = d[animal]\n",
        "  print('A %s has %d legs' % (animal, legs))\n",
        "  # Afiseaza \"A person has 2 legs\", \"A cat has 4 legs\", \"A spider has 8 legs\"\n",
        "\n",
        "# Afisam cheile din dictionar\n",
        "for key in d.keys():\n",
        "  print(key)\n",
        "# Afiseaza spider, person, cat cate o cheie pe un rand.\n",
        "\n",
        "# Afisam valorile din dictionar\n",
        "for value in d.values():\n",
        "  print(value)\n",
        "# Afiseaza 8, 4, 2 cate un numar pe un rand."
      ],
      "metadata": {
        "colab": {
          "base_uri": "https://localhost:8080/"
        },
        "id": "VHIQABijqN1s",
        "outputId": "723982ee-9a94-4732-be60-36a6ae973c80"
      },
      "execution_count": 13,
      "outputs": [
        {
          "output_type": "stream",
          "name": "stdout",
          "text": [
            "A person has 2 legs\n",
            "A cat has 4 legs\n",
            "A spider has 8 legs\n",
            "person\n",
            "cat\n",
            "spider\n",
            "2\n",
            "4\n",
            "8\n"
          ]
        }
      ]
    },
    {
      "cell_type": "markdown",
      "source": [
        "Dacă dorim să accesăm cheia și valoarea corespunzătoare, putem folosi metoda *items*:"
      ],
      "metadata": {
        "id": "RWG8rhq3qa2S"
      }
    },
    {
      "cell_type": "code",
      "source": [
        "d = {'person': 2, 'cat': 4, 'spider': 8}\n",
        "for animal, legs in d.items():\n",
        "  print('A %s has %d legs' % (animal, legs))\n",
        "# Afiseaza \"A person has 2 legs\", \"A cat has 4 legs\", \"A spider has 8 legs\""
      ],
      "metadata": {
        "colab": {
          "base_uri": "https://localhost:8080/"
        },
        "id": "2P9toFQkqRNq",
        "outputId": "2ac25c3d-027d-4626-d665-bb76df9090e3"
      },
      "execution_count": 14,
      "outputs": [
        {
          "output_type": "stream",
          "name": "stdout",
          "text": [
            "A person has 2 legs\n",
            "A cat has 4 legs\n",
            "A spider has 8 legs\n"
          ]
        }
      ]
    },
    {
      "cell_type": "markdown",
      "source": [
        "**Dictionary comprehensions**: Similar cu **list comprehensions**, dar ne permite să construim dicționare mai ușor. De exemplu:"
      ],
      "metadata": {
        "id": "CGGg_5JEqp42"
      }
    },
    {
      "cell_type": "code",
      "source": [
        "nums = [0, 1, 2, 3, 4]\n",
        "even_num_to_square = {x: x ** 2 for x in nums if x % 2 == 0}\n",
        "print(even_num_to_square) # Afiseaza \"{0: 0, 2: 4, 4: 16}\""
      ],
      "metadata": {
        "colab": {
          "base_uri": "https://localhost:8080/"
        },
        "id": "D3Q_21jbquzk",
        "outputId": "0bb28fd1-76bb-4b17-83a6-5df4de350205"
      },
      "execution_count": 15,
      "outputs": [
        {
          "output_type": "stream",
          "name": "stdout",
          "text": [
            "{0: 0, 2: 4, 4: 16}\n"
          ]
        }
      ]
    },
    {
      "cell_type": "markdown",
      "source": [
        "**Set**: Un set este o colecție neordonată de elemente distincte."
      ],
      "metadata": {
        "id": "MoqSV-IeqzF2"
      }
    },
    {
      "cell_type": "code",
      "source": [
        "animals = {'cat', 'dog'}\n",
        "print('cat' in animals) # Verifica daca un element se afla in set; \n",
        "                        # Afiseaza \"True\"\n",
        "print('fish' in animals) # Afiseaza \"False\"\n",
        "animals.add('fish') # Adauga un element in set\n",
        "print('fish' in animals) # Afiseaza \"True\"\n",
        "print(len(animals)) # Numarul elementelor in set; Afiseaza \"3\"\n",
        "animals.add('cat') # Adaugarea unui element care deja exista in set, nu are niciun efect\n",
        "print(len(animals)) # Afiseaza \"3\"\n",
        "animals.remove('cat') # Elimina un element din set\n",
        "print(len(animals)) # Afiseaza \"2\""
      ],
      "metadata": {
        "colab": {
          "base_uri": "https://localhost:8080/"
        },
        "id": "dYmNAnG0q2Sr",
        "outputId": "549b6266-8b9f-46fe-ddc2-f95648c4cba6"
      },
      "execution_count": 16,
      "outputs": [
        {
          "output_type": "stream",
          "name": "stdout",
          "text": [
            "True\n",
            "False\n",
            "True\n",
            "3\n",
            "3\n",
            "2\n"
          ]
        }
      ]
    },
    {
      "cell_type": "code",
      "source": [
        "# operatii cu multimi\n",
        "A = {1, 2, 3, 4, 5}\n",
        "B = {4, 5, 6, 7, 8}\n",
        "\n",
        "# reuniunea\n",
        "print(A | B) # Afiseaza {1, 2, 3, 4, 5, 6, 7, 8}\n",
        "print(A.union(B))\n",
        "\n",
        "# intersectia\n",
        "print(A & B) # Afiseaza {4, 5}\n",
        "print(A.intersection(B))\n",
        "\n",
        "# diferenta\n",
        "print(A - B) # Afiseaza {1, 2, 3}\n",
        "print(A.difference(B))\n",
        "\n",
        "# diferenta simetrica - elementele din reuniune care nu sunt in intersectie\n",
        "print(A ^ B) # Afiseaza {1, 2, 3, 6, 7, 8}\n",
        "A.symmetric_difference(B) "
      ],
      "metadata": {
        "colab": {
          "base_uri": "https://localhost:8080/"
        },
        "id": "AqmwrQC1rLG4",
        "outputId": "6d982502-95f1-48b8-c4b3-cf158f65fe6b"
      },
      "execution_count": 17,
      "outputs": [
        {
          "output_type": "stream",
          "name": "stdout",
          "text": [
            "{1, 2, 3, 4, 5, 6, 7, 8}\n",
            "{1, 2, 3, 4, 5, 6, 7, 8}\n",
            "{4, 5}\n",
            "{4, 5}\n",
            "{1, 2, 3}\n",
            "{1, 2, 3}\n",
            "{1, 2, 3, 6, 7, 8}\n"
          ]
        },
        {
          "output_type": "execute_result",
          "data": {
            "text/plain": [
              "{1, 2, 3, 6, 7, 8}"
            ]
          },
          "metadata": {},
          "execution_count": 17
        }
      ]
    },
    {
      "cell_type": "markdown",
      "source": [
        "**Set comprehensions**: Similar cu dictionary comprehensions, ne permite sa\n",
        "construim set-uri mai usor. De exemplu:"
      ],
      "metadata": {
        "id": "qWd01hQcrV5s"
      }
    },
    {
      "cell_type": "code",
      "source": [
        "from math import sqrt\n",
        "nums = {int(sqrt(x)) for x in range(30)}\n",
        "print(nums) # Afiseaza \"{0, 1, 2, 3, 4, 5}\""
      ],
      "metadata": {
        "colab": {
          "base_uri": "https://localhost:8080/"
        },
        "id": "-IDw3h5ArYZN",
        "outputId": "f61bd6fb-eb2e-4d5e-cc87-191f955547f0"
      },
      "execution_count": 18,
      "outputs": [
        {
          "output_type": "stream",
          "name": "stdout",
          "text": [
            "{0, 1, 2, 3, 4, 5}\n"
          ]
        }
      ]
    },
    {
      "cell_type": "markdown",
      "source": [
        "**Tupluri**: Un tuplu este o listă (immutable) ordonată de valori. Tuplul este foarte similar cu o listă, o diferență fiind că tuplul poate fi folosit ca heie în dicționar și ca element al unui set, în schimb lista nu poate fi folosită în aceste scopuri.\n"
      ],
      "metadata": {
        "id": "5BA8LYl5s2xx"
      }
    },
    {
      "cell_type": "code",
      "source": [
        "# Creaza un dictionar cu chei de tip tuple\n",
        "d = {(x, x + 1): x for x in range(10)}\n",
        "t = (5, 6) # Creaza un tuple\n",
        "print(type(t)) # Afiseaza \"<class 'tuple'>\"\n",
        "print(d[t]) # Afiseaza \"5\"\n",
        "\n",
        "print(d[(1, 2)]) # Afiseaza \"1\"\n",
        "t2 = ('cat', 5, 6) # Creaza un tuple\n",
        "print(t2[0]) # Afiseaza \"cat\"\n",
        "# Creaza o lista de tuple\n",
        "list_tuples = [('cat', 5, 6), ('dog', 8, 1)]\n",
        "print(len(list_tuples)) # Afiseaza \"2\"\n",
        "print(list_tuples[1][0]) # Afiseaza \"dog\""
      ],
      "metadata": {
        "colab": {
          "base_uri": "https://localhost:8080/"
        },
        "id": "xHyi19qMs9tD",
        "outputId": "5e57672d-36fc-43cc-cccd-2d7c89b2166d"
      },
      "execution_count": 19,
      "outputs": [
        {
          "output_type": "stream",
          "name": "stdout",
          "text": [
            "<class 'tuple'>\n",
            "5\n",
            "1\n",
            "cat\n",
            "2\n",
            "dog\n"
          ]
        }
      ]
    },
    {
      "cell_type": "markdown",
      "source": [
        "## Funcții\n",
        "\n",
        "În Python funcțiile sunt definite cu ajutorul cuvântului cheie ***def***."
      ],
      "metadata": {
        "id": "DJZoNp_xtLAb"
      }
    },
    {
      "cell_type": "code",
      "source": [
        "def sign(x):\n",
        "  if x > 0:\n",
        "    return 'positive'\n",
        "  elif x < 0:\n",
        "    return 'negative'\n",
        "  else:\n",
        "    return 'zero'\n",
        "\n",
        "for x in [-1, 0, 1]:\n",
        "  print(sign(x))\n",
        "# Afiseaza \"negative\", \"zero\", \"positive\""
      ],
      "metadata": {
        "colab": {
          "base_uri": "https://localhost:8080/"
        },
        "id": "eV6RHSu9tgtu",
        "outputId": "d7a698de-e7d3-4d2c-9415-50e1d49a67b5"
      },
      "execution_count": 20,
      "outputs": [
        {
          "output_type": "stream",
          "name": "stdout",
          "text": [
            "negative\n",
            "zero\n",
            "positive\n"
          ]
        }
      ]
    },
    {
      "cell_type": "markdown",
      "source": [
        "Deseori vom defini funcții care au argumente cu valori implicite, ca în exemplul următor:"
      ],
      "metadata": {
        "id": "ScWP0akbt3u2"
      }
    },
    {
      "cell_type": "code",
      "source": [
        "def hello(name, loud=False):\n",
        "  if loud:\n",
        "    print('HELLO, %s!' % name.upper())\n",
        "  else:\n",
        "    print('Hello %s!' % name)\n",
        "\n",
        "hello('Bob') # Afiseaza \"Hello, Bob\"\n",
        "hello('Fred', loud=True) # Afiseaza \"HELLO, FRED!\""
      ],
      "metadata": {
        "colab": {
          "base_uri": "https://localhost:8080/"
        },
        "id": "WWmZJpxcv_GG",
        "outputId": "8fbee44a-a5a5-458d-d357-1f2a8decb1eb"
      },
      "execution_count": 21,
      "outputs": [
        {
          "output_type": "stream",
          "name": "stdout",
          "text": [
            "Hello Bob!\n",
            "HELLO, FRED!\n"
          ]
        }
      ]
    },
    {
      "cell_type": "markdown",
      "source": [
        "Vom defini o funcție care primește două liste și returnează *True* doar dacă listele au lungimea diferită și elementul minim din prima listă nu se află în a doua listă sau elementul minim din a doua listă se află în prima listă, altfel va returna *False*."
      ],
      "metadata": {
        "id": "tCs90kTVwdVG"
      }
    },
    {
      "cell_type": "code",
      "execution_count": 22,
      "metadata": {
        "id": "I9nXJ4x6akh4",
        "colab": {
          "base_uri": "https://localhost:8080/",
          "height": 374
        },
        "outputId": "02e7d675-bdcf-45fd-9897-d4f1919aec76"
      },
      "outputs": [
        {
          "output_type": "stream",
          "name": "stdout",
          "text": [
            "False\n",
            "True\n",
            "False\n"
          ]
        },
        {
          "output_type": "error",
          "ename": "ValueError",
          "evalue": "ignored",
          "traceback": [
            "\u001b[0;31m---------------------------------------------------------------------------\u001b[0m",
            "\u001b[0;31mValueError\u001b[0m                                Traceback (most recent call last)",
            "\u001b[0;32m<ipython-input-22-50d455ae5ce9>\u001b[0m in \u001b[0;36m<module>\u001b[0;34m()\u001b[0m\n\u001b[1;32m     24\u001b[0m \u001b[0mfirst_list\u001b[0m \u001b[0;34m=\u001b[0m \u001b[0;34m[\u001b[0m\u001b[0;36m1\u001b[0m\u001b[0;34m,\u001b[0m \u001b[0;36m2\u001b[0m\u001b[0;34m,\u001b[0m \u001b[0;36m3\u001b[0m\u001b[0;34m,\u001b[0m \u001b[0;36m4\u001b[0m\u001b[0;34m]\u001b[0m\u001b[0;34m\u001b[0m\u001b[0;34m\u001b[0m\u001b[0m\n\u001b[1;32m     25\u001b[0m \u001b[0msecond_list\u001b[0m \u001b[0;34m=\u001b[0m \u001b[0;34m[\u001b[0m\u001b[0;34m]\u001b[0m\u001b[0;34m\u001b[0m\u001b[0;34m\u001b[0m\u001b[0m\n\u001b[0;32m---> 26\u001b[0;31m \u001b[0mprint\u001b[0m\u001b[0;34m(\u001b[0m\u001b[0mmy_function\u001b[0m\u001b[0;34m(\u001b[0m\u001b[0mfirst_list\u001b[0m\u001b[0;34m,\u001b[0m \u001b[0msecond_list\u001b[0m\u001b[0;34m)\u001b[0m\u001b[0;34m)\u001b[0m \u001b[0;31m# ValueError: Lists must not be empty!\u001b[0m\u001b[0;34m\u001b[0m\u001b[0;34m\u001b[0m\u001b[0m\n\u001b[0m",
            "\u001b[0;32m<ipython-input-22-50d455ae5ce9>\u001b[0m in \u001b[0;36mmy_function\u001b[0;34m(first_list, second_list)\u001b[0m\n\u001b[1;32m      1\u001b[0m \u001b[0;32mdef\u001b[0m \u001b[0mmy_function\u001b[0m\u001b[0;34m(\u001b[0m\u001b[0mfirst_list\u001b[0m\u001b[0;34m,\u001b[0m \u001b[0msecond_list\u001b[0m\u001b[0;34m)\u001b[0m\u001b[0;34m:\u001b[0m\u001b[0;34m\u001b[0m\u001b[0;34m\u001b[0m\u001b[0m\n\u001b[1;32m      2\u001b[0m   \u001b[0;32mif\u001b[0m \u001b[0;34m(\u001b[0m\u001b[0mlen\u001b[0m\u001b[0;34m(\u001b[0m\u001b[0mfirst_list\u001b[0m\u001b[0;34m)\u001b[0m \u001b[0;34m==\u001b[0m \u001b[0;36m0\u001b[0m \u001b[0;32mor\u001b[0m \u001b[0mlen\u001b[0m\u001b[0;34m(\u001b[0m\u001b[0msecond_list\u001b[0m\u001b[0;34m)\u001b[0m \u001b[0;34m==\u001b[0m \u001b[0;36m0\u001b[0m\u001b[0;34m)\u001b[0m\u001b[0;34m:\u001b[0m\u001b[0;34m\u001b[0m\u001b[0;34m\u001b[0m\u001b[0m\n\u001b[0;32m----> 3\u001b[0;31m     \u001b[0;32mraise\u001b[0m \u001b[0mValueError\u001b[0m\u001b[0;34m(\u001b[0m\u001b[0;34m'Lists must not be empty!'\u001b[0m\u001b[0;34m)\u001b[0m\u001b[0;34m\u001b[0m\u001b[0;34m\u001b[0m\u001b[0m\n\u001b[0m\u001b[1;32m      4\u001b[0m \u001b[0;34m\u001b[0m\u001b[0m\n\u001b[1;32m      5\u001b[0m   \u001b[0mmin_first\u001b[0m \u001b[0;34m=\u001b[0m \u001b[0mmin\u001b[0m\u001b[0;34m(\u001b[0m\u001b[0mfirst_list\u001b[0m\u001b[0;34m)\u001b[0m\u001b[0;34m\u001b[0m\u001b[0;34m\u001b[0m\u001b[0m\n",
            "\u001b[0;31mValueError\u001b[0m: Lists must not be empty!"
          ]
        }
      ],
      "source": [
        "def my_function(first_list, second_list):\n",
        "  if (len(first_list) == 0 or len(second_list) == 0):\n",
        "    raise ValueError('Lists must not be empty!')\n",
        "\n",
        "  min_first = min(first_list)\n",
        "  min_second = min(second_list)\n",
        "  if (min_first not in second_list or min_second in first_list) and len(first_list) != len(second_list):\n",
        "    return True\n",
        "  else:\n",
        "    return False\n",
        "\n",
        "first_list = [1, 2, 3, 4]\n",
        "second_list = [0, 1, 3]\n",
        "print(my_function(first_list, second_list)) # Afiseaza False\n",
        "\n",
        "first_list = [-1, 1, 2, 3, 4]\n",
        "second_list = [0, 1, 3]\n",
        "print(my_function(first_list, second_list)) # Afiseaza True\n",
        "\n",
        "first_list = [1, 2, 3, 4]\n",
        "second_list = [0, 1, 3, 9]\n",
        "print(my_function(first_list, second_list)) # Afiseaza False\n",
        "\n",
        "first_list = [1, 2, 3, 4]\n",
        "second_list = []\n",
        "print(my_function(first_list, second_list)) # ValueError: Lists must not be empty!"
      ]
    },
    {
      "cell_type": "markdown",
      "source": [
        "Vom defini o funcție care va returna două numere naturale diferite, generate\n",
        "aleator în intervalul [0, 5]."
      ],
      "metadata": {
        "id": "mOBCUzMHw305"
      }
    },
    {
      "cell_type": "code",
      "source": [
        "import random # importul pachetului\n",
        "\n",
        "def two_rand_nums():\n",
        "  a = random.randint(0, 5)\n",
        "  b = random.randint(0, 5)\n",
        "  while(a == b):\n",
        "    print('a == b')\n",
        "    b = random.randint(0, 5)\n",
        "\n",
        "  return a, b\n",
        "\n",
        "print(two_rand_nums())"
      ],
      "metadata": {
        "colab": {
          "base_uri": "https://localhost:8080/"
        },
        "id": "4NXrFxhgxjzh",
        "outputId": "f288eb3d-5c28-445f-8624-24b67a81b5a1"
      },
      "execution_count": 23,
      "outputs": [
        {
          "output_type": "stream",
          "name": "stdout",
          "text": [
            "(2, 3)\n"
          ]
        }
      ]
    },
    {
      "cell_type": "markdown",
      "source": [
        "## Clase"
      ],
      "metadata": {
        "id": "MZOYCOX5x4Fa"
      }
    },
    {
      "cell_type": "markdown",
      "source": [
        "Sintaxa pentru definirea unei clase este următoarea:"
      ],
      "metadata": {
        "id": "lxyd6Xngx6PX"
      }
    },
    {
      "cell_type": "code",
      "source": [
        "class Greeter:\n",
        "  # Constructor\n",
        "  def __init__(self, name):\n",
        "    self.name = name # Crearea unei instante\n",
        "  \n",
        "  # Metoda\n",
        "  def greet(self, loud=False):\n",
        "    if loud:\n",
        "      print('HELLO, %s!' % self.name.upper())\n",
        "    else:\n",
        "      print('Hello, %s' % self.name)\n",
        "\n",
        "   \n",
        "g = Greeter('Fred') # Construieste un obiect de tipul Greeter\n",
        "g.greet()\n",
        "# Apeleaza metoda greet(); Afiseaza \"Hello, Fred\"\n",
        "g.greet(loud=True)\n",
        "# Apeleaza metoda greet(); Afiseaza \"HELLO, FRED!\""
      ],
      "metadata": {
        "colab": {
          "base_uri": "https://localhost:8080/"
        },
        "id": "-jC0Wurnx674",
        "outputId": "c0074eca-3bfa-47b7-b7d3-d9d8c2ca89b0"
      },
      "execution_count": 24,
      "outputs": [
        {
          "output_type": "stream",
          "name": "stdout",
          "text": [
            "Hello, Fred\n",
            "HELLO, FRED!\n"
          ]
        }
      ]
    },
    {
      "cell_type": "markdown",
      "source": [
        "În definirea unei clase, fiecare metodă va avea ca prim argument self, iar\n",
        "accesarea atributelor și metodelor în interiorul clasei se va face cu self.atribut / self.metoda()."
      ],
      "metadata": {
        "id": "Qm2jApU9y9be"
      }
    },
    {
      "cell_type": "markdown",
      "source": [
        "## Exerciții"
      ],
      "metadata": {
        "id": "w5goWdoOzEGZ"
      }
    },
    {
      "cell_type": "markdown",
      "source": [
        "1. Se dau următoarele etichete prezise de un clasificator binar, y_pred = [1, 1, 1, 0, 1, 0, 1, 1, 0, 0] și etichetele y_true = [1, 0, 1, 0, 1, 0, 1, 0, 1, 0 ].\n",
        "  a. Definiți metoda accuracy_score(y_true, y_pred) care să calculeze acuratețea\n",
        "clasificatorului binar."
      ],
      "metadata": {
        "id": "F3gWojpE4A35"
      }
    },
    {
      "cell_type": "markdown",
      "source": [
        "$$ Acuratete=\\frac{\\sum_{i=1}^{n} y\\_pred_i == y\\_true_i}{n} $$"
      ],
      "metadata": {
        "id": "HU2KPOtI5EzH"
      }
    },
    {
      "cell_type": "code",
      "source": [
        "def accuracy_score(y_pred, y_true):\n",
        "  count = 0\n",
        "  for i in range(len(y_pred)):\n",
        "    if y_pred[i] == y_true[i]:\n",
        "      count += 1\n",
        "\n",
        "  return count / len(y_pred)"
      ],
      "metadata": {
        "id": "ztwAJVco4X64"
      },
      "execution_count": 25,
      "outputs": []
    },
    {
      "cell_type": "code",
      "source": [
        "def fancy_accuracy_score(y_true, y_pred):\n",
        "    count = 0\n",
        "    for (y, y_hat) in zip(y_true, y_pred): \n",
        "            count += y == y_hat\n",
        "            \n",
        "    return count / len(y_pred)  "
      ],
      "metadata": {
        "id": "N_4beDrJ6Ucz"
      },
      "execution_count": 26,
      "outputs": []
    },
    {
      "cell_type": "code",
      "source": [
        "y_pred = [0, 1, 1, 0, 1, 0, 1, 1, 0, 1]\n",
        "y_true = [0, 0, 1, 0, 1, 0, 1, 0, 1, 1]\n",
        "\n",
        "print('The classifier accuracy (calculated with the first function) is %.2f ' % (accuracy_score(y_true, y_pred)))\n",
        "print('the classifier accuracy (calculated with the second function) is %.2f ' % (fancy_accuracy_score(y_true, y_pred)))"
      ],
      "metadata": {
        "colab": {
          "base_uri": "https://localhost:8080/"
        },
        "id": "lLnFJX7U6c88",
        "outputId": "60524635-8958-418f-cb55-5e94d570b7c0"
      },
      "execution_count": 27,
      "outputs": [
        {
          "output_type": "stream",
          "name": "stdout",
          "text": [
            "The classifier accuracy (calculated with the first function) is 0.70 \n",
            "the classifier accuracy (calculated with the second function) is 0.70 \n"
          ]
        }
      ]
    },
    {
      "cell_type": "markdown",
      "source": [
        "  b. Definiți metoda *precision_recall_score(y_true, y_pred)* care returnează precizia și recall-ul clasificatorului binar.\n",
        "\n",
        "  ***Observații:***\n",
        "  *   0 - negativ, 1 - pozitiv\n",
        "  *   $Precizie = \\frac{tp}{tp + fp}$\n",
        "  *   $Recall = \\frac{tp}{tp + fn}$\n",
        "  *   *tp = true positive*, numărul etichetelor prezise ca fiind pozitive și care au fost clasificate corect\n",
        "  *   *fp = false pozitive*, numărul etichetelor prezise ca fiind pozitive, dar care sunt de fapt negative\n",
        "  *   *fn = false negative*, numărul etichetelor prezise ca fiind negative, dar care sunt de fapt pozitive"
      ],
      "metadata": {
        "id": "YYog43cF7cF5"
      }
    },
    {
      "cell_type": "code",
      "source": [
        "def precision_recall_score(y_true, y_pred):\n",
        "    tp, fp, fn = 0, 0, 0\n",
        "    for i in range(0, len(y_true)):\n",
        "        if(y_true[i] == y_pred[i] and y_pred[i] == 1):\n",
        "            tp += 1\n",
        "        if(y_true[i] == 0 and y_pred[i] == 1):\n",
        "            fp += 1\n",
        "        if(y_true[i] == 1 and y_pred[i] == 0):\n",
        "            fn += 1\n",
        "    \n",
        "    precision = tp / (tp + fp)\n",
        "    recall =  tp / (tp + fn)\n",
        "    return precision, recall\n",
        "\n",
        "print('The classifier precision and recall  is (%.4f, %.4f)' % (precision_recall_score(y_true, y_pred)))"
      ],
      "metadata": {
        "colab": {
          "base_uri": "https://localhost:8080/"
        },
        "id": "JrE57b9x-VCf",
        "outputId": "2f9755dd-375e-4cb5-96c3-852551ab61c3"
      },
      "execution_count": 28,
      "outputs": [
        {
          "output_type": "stream",
          "name": "stdout",
          "text": [
            "The classifier precision and recall  is (0.6667, 0.8000)\n"
          ]
        }
      ]
    },
    {
      "cell_type": "markdown",
      "source": [
        "  c. Definiți metoda *mse(y_true, y_pred)* (mean square error) care calculează media pătratelor erorilor de clasificare."
      ],
      "metadata": {
        "id": "3U_t86Az-zgx"
      }
    },
    {
      "cell_type": "markdown",
      "source": [
        "$$ MSE=\\frac{\\sum_{i=1}^{n} (y\\_pred_i - y\\_true_i)^2}{n} $$"
      ],
      "metadata": {
        "id": "GjjMj4YtAXGV"
      }
    },
    {
      "cell_type": "code",
      "source": [
        "def mse(y_true, y_pred):\n",
        "    res = 0\n",
        "    for i in range(0, len(y_true)):\n",
        "        res += (y_true[i] - y_pred[i]) ** 2\n",
        "    res  = res / len(y_pred)    \n",
        "    \n",
        "    return res\n",
        "\n",
        "print('MSE:', mse(y_true, y_pred))"
      ],
      "metadata": {
        "colab": {
          "base_uri": "https://localhost:8080/"
        },
        "id": "wwmrv-8o-nQW",
        "outputId": "b8eed395-c7aa-4d9b-8af3-4f6803366885"
      },
      "execution_count": 29,
      "outputs": [
        {
          "output_type": "stream",
          "name": "stdout",
          "text": [
            "MSE: 0.3\n"
          ]
        }
      ]
    },
    {
      "cell_type": "markdown",
      "source": [
        "d. Definiți metoda *mae(y_true, y_pred)* (mean absolute error) care calculează media erorii absolute de clasificare."
      ],
      "metadata": {
        "id": "Dv5b_rcIAy1C"
      }
    },
    {
      "cell_type": "markdown",
      "source": [
        "$$ MAE=\\frac{\\sum_{i=1}^{n} |y\\_pred_i - y\\_true_i|}{n} $$"
      ],
      "metadata": {
        "id": "YXiFYOQZArD2"
      }
    },
    {
      "cell_type": "code",
      "source": [
        "def mae(y_true, y_pred):\n",
        "    res = 0\n",
        "    for i in range(0, len(y_true)):\n",
        "        res += (y_true[i] - y_pred[i]) ** 2\n",
        "    res  = res / len(y_pred)    \n",
        "    \n",
        "    return res\n",
        "\n",
        "print('MAE:', mse(y_true, y_pred))"
      ],
      "metadata": {
        "colab": {
          "base_uri": "https://localhost:8080/"
        },
        "id": "nxInB8-aBiRR",
        "outputId": "89d6a50e-9087-4074-fa3d-d43b47669eb2"
      },
      "execution_count": 30,
      "outputs": [
        {
          "output_type": "stream",
          "name": "stdout",
          "text": [
            "MAE: 0.3\n"
          ]
        }
      ]
    }
  ]
}